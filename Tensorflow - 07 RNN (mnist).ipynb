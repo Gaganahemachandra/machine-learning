{
 "cells": [
  {
   "cell_type": "code",
   "execution_count": 1,
   "metadata": {},
   "outputs": [
    {
     "name": "stderr",
     "output_type": "stream",
     "text": [
      "/Users/abulbasar/anaconda3/lib/python3.6/site-packages/h5py/__init__.py:36: FutureWarning: Conversion of the second argument of issubdtype from `float` to `np.floating` is deprecated. In future, it will be treated as `np.float64 == np.dtype(float).type`.\n",
      "  from ._conv import register_converters as _register_converters\n"
     ]
    }
   ],
   "source": [
    "import tensorflow as tf\n",
    "import numpy as np\n",
    "import pandas as pd\n",
    "import h5py"
   ]
  },
  {
   "cell_type": "code",
   "execution_count": 2,
   "metadata": {},
   "outputs": [],
   "source": [
    "import requests\n",
    "url = \"https://raw.githubusercontent.com/abulbasar/machine-learning/master/Utils.py\"\n",
    "exec(requests.get(url).text)"
   ]
  },
  {
   "cell_type": "code",
   "execution_count": 3,
   "metadata": {},
   "outputs": [],
   "source": [
    "def load_mnist_csv(path = \"/data/MNIST/\", one_hot = False, shape = None):\n",
    "    df_train = pd.read_csv(path + \"mnist_train.csv\", header=None)\n",
    "    df_test = pd.read_csv(path + \"mnist_test.csv\", header=None)\n",
    "    \n",
    "    X_train = df_train.iloc[:, 1:].values/255\n",
    "    X_test = df_test.iloc[:, 1:].values/255\n",
    "    y_train = df_train.iloc[:, 0].values\n",
    "    y_test = df_test.iloc[:, 0].values\n",
    "    \n",
    "    if shape == \"2D\":\n",
    "        X_train = X_train.reshape(-1, 28, 28)\n",
    "        X_test = X_test.reshape(-1, 28, 28)\n",
    "    \n",
    "    if one_hot:\n",
    "        eye = np.eye(len(np.unique(y_train)))\n",
    "        y_train, y_test = eye[y_train], eye[y_test]\n",
    "        \n",
    "    return X_train, X_test, y_train, y_test\n",
    "\n",
    "X_train, X_test, y_train, y_test = load_mnist_csv(shape = \"2D\")\n"
   ]
  },
  {
   "cell_type": "code",
   "execution_count": 5,
   "metadata": {
    "scrolled": false
   },
   "outputs": [
    {
     "name": "stdout",
     "output_type": "stream",
     "text": [
      "0 Train accuracy: 0.15625 test accuracy:  0.1229\n",
      "250 Train accuracy: 0.90625 test accuracy:  0.8759\n",
      "500 Train accuracy: 0.96875 test accuracy:  0.8799\n",
      "750 Train accuracy: 0.9375 test accuracy:  0.9013\n",
      "1000 Train accuracy: 0.78125 test accuracy:  0.9217\n",
      "1250 Train accuracy: 0.9375 test accuracy:  0.9245\n",
      "1500 Train accuracy: 0.96875 test accuracy:  0.9238\n",
      "1750 Train accuracy: 1.0 test accuracy:  0.919\n",
      "2000 Train accuracy: 0.90625 test accuracy:  0.9325\n",
      "2250 Train accuracy: 0.90625 test accuracy:  0.9322\n",
      "2500 Train accuracy: 0.96875 test accuracy:  0.9274\n",
      "2750 Train accuracy: 1.0 test accuracy:  0.9407\n",
      "3000 Train accuracy: 0.9375 test accuracy:  0.9514\n",
      "3250 Train accuracy: 0.96875 test accuracy:  0.9439\n",
      "3500 Train accuracy: 0.96875 test accuracy:  0.9385\n",
      "3750 Train accuracy: 0.9375 test accuracy:  0.9407\n",
      "4000 Train accuracy: 0.96875 test accuracy:  0.9541\n",
      "4250 Train accuracy: 0.96875 test accuracy:  0.9475\n",
      "4500 Train accuracy: 0.9375 test accuracy:  0.9371\n",
      "4750 Train accuracy: 0.90625 test accuracy:  0.9526\n",
      "4999 Train accuracy: 0.90625 test accuracy:  0.9547\n"
     ]
    }
   ],
   "source": [
    "tf.reset_default_graph()\n",
    "n_steps = 28\n",
    "n_inputs = 28\n",
    "n_neurons = 150\n",
    "n_outputs = 10\n",
    "\n",
    "max_iters = 5000\n",
    "\n",
    "learning_rate = 0.001\n",
    "\n",
    "X = tf.placeholder(tf.float32, [None, n_steps, n_inputs])\n",
    "y = tf.placeholder(tf.int32, [None])\n",
    "\n",
    "basic_cell = tf.contrib.rnn.BasicRNNCell(num_units=n_neurons)\n",
    "outputs, states = tf.nn.dynamic_rnn(basic_cell, X, dtype=tf.float32)\n",
    "\n",
    "logits = tf.layers.dense(states, n_outputs)\n",
    "xentropy = tf.nn.sparse_softmax_cross_entropy_with_logits(labels=y,\n",
    "                                                          logits=logits)\n",
    "loss = tf.reduce_mean(xentropy)\n",
    "opt = tf.train.AdamOptimizer(learning_rate).minimize(loss)\n",
    "correct = tf.nn.in_top_k(logits, y, 1)\n",
    "accuracy = tf.reduce_mean(tf.cast(correct, tf.float32))\n",
    "\n",
    "init = tf.global_variables_initializer()\n",
    "\n",
    "\n",
    "n_epochs = 100\n",
    "batch_size = 150\n",
    "\n",
    "batchable = Batchable(X_train, y_train, batch_size=32)\n",
    "\n",
    "with tf.Session() as sess:\n",
    "    init.run()\n",
    "    for i in range(max_iters):\n",
    "        X_batch, y_batch = batchable.next()\n",
    "        sess.run(opt, feed_dict={X: X_batch, y: y_batch})\n",
    "        \n",
    "        if i % (max_iters//20) == 0 or i == max_iters -1:\n",
    "            acc_train = accuracy.eval(feed_dict={X: X_batch, y: y_batch})\n",
    "            acc_test = accuracy.eval(feed_dict={X: X_test, y: y_test})\n",
    "            print(i, \"Train accuracy:\", acc_train, \"test accuracy: \", acc_test)"
   ]
  },
  {
   "cell_type": "code",
   "execution_count": null,
   "metadata": {},
   "outputs": [],
   "source": []
  }
 ],
 "metadata": {
  "kernelspec": {
   "display_name": "Python 3",
   "language": "python",
   "name": "python3"
  },
  "language_info": {
   "codemirror_mode": {
    "name": "ipython",
    "version": 3
   },
   "file_extension": ".py",
   "mimetype": "text/x-python",
   "name": "python",
   "nbconvert_exporter": "python",
   "pygments_lexer": "ipython3",
   "version": "3.6.4"
  }
 },
 "nbformat": 4,
 "nbformat_minor": 2
}
