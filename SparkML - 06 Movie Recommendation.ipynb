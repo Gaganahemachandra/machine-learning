{
 "cells": [
  {
   "cell_type": "markdown",
   "metadata": {},
   "source": [
    "Create spark session"
   ]
  },
  {
   "cell_type": "code",
   "execution_count": 94,
   "metadata": {},
   "outputs": [
    {
     "name": "stdout",
     "output_type": "stream",
     "text": [
      "http://10.150.236.40:4040\n"
     ]
    }
   ],
   "source": [
    "import sys, glob, os\n",
    "SPARK_HOME = \"/Users/abulbasar/Downloads/spark-2.3.1-bin-hadoop2.7\"\n",
    "sys.path.append(SPARK_HOME + \"/python\")\n",
    "sys.path.append(glob.glob(SPARK_HOME + \"/python/lib/py4j*.zip\")[0])\n",
    "from pyspark.sql import SparkSession, functions as F\n",
    "spark = (SparkSession\n",
    "         .builder\n",
    "         .config(\"spark.master\", \"local[*]\")\n",
    "         .config(\"spark.driver.memory\", \"4G\")\n",
    "         .config(\"spark.sql.shuffle.partitions\", 16)\n",
    "         .getOrCreate())\n",
    "sc = spark.sparkContext\n",
    "print(sc.uiWebUrl)\n",
    "sql = spark.sql"
   ]
  },
  {
   "cell_type": "markdown",
   "metadata": {},
   "source": [
    "Create utility function to load data into a spark dataframe"
   ]
  },
  {
   "cell_type": "code",
   "execution_count": 95,
   "metadata": {},
   "outputs": [],
   "source": [
    "import re\n",
    "import pandas as pd\n",
    "\n",
    "import matplotlib.pyplot as plt\n",
    "\n",
    "%matplotlib inline \n",
    "\n",
    "base_dir = \"/data/movielens/\"\n",
    "\n",
    "def cache_df(df, name):\n",
    "    df.createOrReplaceTempView(name)\n",
    "    spark.catalog.cacheTable(name)\n",
    "    \n",
    "def load(file):\n",
    "    name = re.sub(\"[^A-Za-z0-9]\", \"_\", file[:-4])\n",
    "    df = spark.read.option(\"header\", True).option(\"inferSchema\", True).csv(base_dir + file)\n",
    "    cache_df(df, name)\n",
    "    df.alias(name)\n",
    "    return df"
   ]
  },
  {
   "cell_type": "markdown",
   "metadata": {},
   "source": [
    "Load data"
   ]
  },
  {
   "cell_type": "code",
   "execution_count": 96,
   "metadata": {},
   "outputs": [
    {
     "name": "stdout",
     "output_type": "stream",
     "text": [
      "+--------+---------+-----------+\n",
      "|database|tableName|isTemporary|\n",
      "+--------+---------+-----------+\n",
      "|        | df_train|       true|\n",
      "|        |   movies|       true|\n",
      "|        |  ratings|       true|\n",
      "+--------+---------+-----------+\n",
      "\n"
     ]
    }
   ],
   "source": [
    "movies = load(\"movies.csv\")\n",
    "ratings = load(\"ratings.csv\")\n",
    "\n",
    "sql(\"show tables\").show()"
   ]
  },
  {
   "cell_type": "markdown",
   "metadata": {},
   "source": [
    "Take a look at movies dataset. It shows by default first 20 records."
   ]
  },
  {
   "cell_type": "code",
   "execution_count": 97,
   "metadata": {},
   "outputs": [
    {
     "name": "stdout",
     "output_type": "stream",
     "text": [
      "+-------+--------------------+--------------------+\n",
      "|movieId|               title|              genres|\n",
      "+-------+--------------------+--------------------+\n",
      "|      1|    Toy Story (1995)|Adventure|Animati...|\n",
      "|      2|      Jumanji (1995)|Adventure|Childre...|\n",
      "|      3|Grumpier Old Men ...|      Comedy|Romance|\n",
      "|      4|Waiting to Exhale...|Comedy|Drama|Romance|\n",
      "|      5|Father of the Bri...|              Comedy|\n",
      "|      6|         Heat (1995)|Action|Crime|Thri...|\n",
      "|      7|      Sabrina (1995)|      Comedy|Romance|\n",
      "|      8| Tom and Huck (1995)|  Adventure|Children|\n",
      "|      9| Sudden Death (1995)|              Action|\n",
      "|     10|    GoldenEye (1995)|Action|Adventure|...|\n",
      "|     11|American Presiden...|Comedy|Drama|Romance|\n",
      "|     12|Dracula: Dead and...|       Comedy|Horror|\n",
      "|     13|        Balto (1995)|Adventure|Animati...|\n",
      "|     14|        Nixon (1995)|               Drama|\n",
      "|     15|Cutthroat Island ...|Action|Adventure|...|\n",
      "|     16|       Casino (1995)|         Crime|Drama|\n",
      "|     17|Sense and Sensibi...|       Drama|Romance|\n",
      "|     18|   Four Rooms (1995)|              Comedy|\n",
      "|     19|Ace Ventura: When...|              Comedy|\n",
      "|     20|  Money Train (1995)|Action|Comedy|Cri...|\n",
      "+-------+--------------------+--------------------+\n",
      "only showing top 20 rows\n",
      "\n"
     ]
    }
   ],
   "source": [
    "movies.show()"
   ]
  },
  {
   "cell_type": "markdown",
   "metadata": {},
   "source": [
    "View the ratings data."
   ]
  },
  {
   "cell_type": "code",
   "execution_count": 98,
   "metadata": {},
   "outputs": [
    {
     "name": "stdout",
     "output_type": "stream",
     "text": [
      "+------+-------+------+----------+\n",
      "|userId|movieId|rating| timestamp|\n",
      "+------+-------+------+----------+\n",
      "|     1|     31|   2.5|1260759144|\n",
      "|     1|   1029|   3.0|1260759179|\n",
      "|     1|   1061|   3.0|1260759182|\n",
      "|     1|   1129|   2.0|1260759185|\n",
      "|     1|   1172|   4.0|1260759205|\n",
      "|     1|   1263|   2.0|1260759151|\n",
      "|     1|   1287|   2.0|1260759187|\n",
      "|     1|   1293|   2.0|1260759148|\n",
      "|     1|   1339|   3.5|1260759125|\n",
      "|     1|   1343|   2.0|1260759131|\n",
      "|     1|   1371|   2.5|1260759135|\n",
      "|     1|   1405|   1.0|1260759203|\n",
      "|     1|   1953|   4.0|1260759191|\n",
      "|     1|   2105|   4.0|1260759139|\n",
      "|     1|   2150|   3.0|1260759194|\n",
      "|     1|   2193|   2.0|1260759198|\n",
      "|     1|   2294|   2.0|1260759108|\n",
      "|     1|   2455|   2.5|1260759113|\n",
      "|     1|   2968|   1.0|1260759200|\n",
      "|     1|   3671|   3.0|1260759117|\n",
      "+------+-------+------+----------+\n",
      "only showing top 20 rows\n",
      "\n"
     ]
    }
   ],
   "source": [
    "ratings.show()"
   ]
  },
  {
   "cell_type": "markdown",
   "metadata": {},
   "source": [
    "How many rating levels are there? Find count by each rating level"
   ]
  },
  {
   "cell_type": "code",
   "execution_count": 99,
   "metadata": {},
   "outputs": [
    {
     "data": {
      "text/html": [
       "<div>\n",
       "<style scoped>\n",
       "    .dataframe tbody tr th:only-of-type {\n",
       "        vertical-align: middle;\n",
       "    }\n",
       "\n",
       "    .dataframe tbody tr th {\n",
       "        vertical-align: top;\n",
       "    }\n",
       "\n",
       "    .dataframe thead th {\n",
       "        text-align: right;\n",
       "    }\n",
       "</style>\n",
       "<table border=\"1\" class=\"dataframe\">\n",
       "  <thead>\n",
       "    <tr style=\"text-align: right;\">\n",
       "      <th></th>\n",
       "      <th>rating</th>\n",
       "      <th>count</th>\n",
       "    </tr>\n",
       "  </thead>\n",
       "  <tbody>\n",
       "    <tr>\n",
       "      <th>4</th>\n",
       "      <td>0.5</td>\n",
       "      <td>1101</td>\n",
       "    </tr>\n",
       "    <tr>\n",
       "      <th>1</th>\n",
       "      <td>1.0</td>\n",
       "      <td>3326</td>\n",
       "    </tr>\n",
       "    <tr>\n",
       "      <th>2</th>\n",
       "      <td>1.5</td>\n",
       "      <td>1687</td>\n",
       "    </tr>\n",
       "    <tr>\n",
       "      <th>9</th>\n",
       "      <td>2.0</td>\n",
       "      <td>7271</td>\n",
       "    </tr>\n",
       "    <tr>\n",
       "      <th>0</th>\n",
       "      <td>2.5</td>\n",
       "      <td>4449</td>\n",
       "    </tr>\n",
       "    <tr>\n",
       "      <th>8</th>\n",
       "      <td>3.0</td>\n",
       "      <td>20064</td>\n",
       "    </tr>\n",
       "    <tr>\n",
       "      <th>6</th>\n",
       "      <td>3.5</td>\n",
       "      <td>10538</td>\n",
       "    </tr>\n",
       "    <tr>\n",
       "      <th>5</th>\n",
       "      <td>4.0</td>\n",
       "      <td>28750</td>\n",
       "    </tr>\n",
       "    <tr>\n",
       "      <th>7</th>\n",
       "      <td>4.5</td>\n",
       "      <td>7723</td>\n",
       "    </tr>\n",
       "    <tr>\n",
       "      <th>3</th>\n",
       "      <td>5.0</td>\n",
       "      <td>15095</td>\n",
       "    </tr>\n",
       "  </tbody>\n",
       "</table>\n",
       "</div>"
      ],
      "text/plain": [
       "   rating  count\n",
       "4     0.5   1101\n",
       "1     1.0   3326\n",
       "2     1.5   1687\n",
       "9     2.0   7271\n",
       "0     2.5   4449\n",
       "8     3.0  20064\n",
       "6     3.5  10538\n",
       "5     4.0  28750\n",
       "7     4.5   7723\n",
       "3     5.0  15095"
      ]
     },
     "execution_count": 99,
     "metadata": {},
     "output_type": "execute_result"
    }
   ],
   "source": [
    "ratings.groupBy(\"rating\").count().toPandas().sort_values(\"rating\")"
   ]
  },
  {
   "cell_type": "markdown",
   "metadata": {},
   "source": [
    "Find top 10 movies based on the highest avg rating. Each top movies must have at least 100 ratings to make the avg to reliable."
   ]
  },
  {
   "cell_type": "code",
   "execution_count": 124,
   "metadata": {},
   "outputs": [
    {
     "name": "stdout",
     "output_type": "stream",
     "text": [
      "+-------+------------------+--------------------+\n",
      "|movieId|        avg_rating|               title|\n",
      "+-------+------------------+--------------------+\n",
      "|    318| 4.405144694533762|Shawshank Redempt...|\n",
      "|    858|             4.395|Godfather, The (1...|\n",
      "|   1221| 4.303703703703704|Godfather: Part I...|\n",
      "|     50|4.2835820895522385|Usual Suspects, T...|\n",
      "|    527| 4.209016393442623|Schindler's List ...|\n",
      "|    608| 4.191964285714286|        Fargo (1996)|\n",
      "|    912| 4.162393162393163|   Casablanca (1942)|\n",
      "|    296| 4.157407407407407| Pulp Fiction (1994)|\n",
      "|   1193| 4.138888888888889|One Flew Over the...|\n",
      "|   1196| 4.136752136752137|Star Wars: Episod...|\n",
      "+-------+------------------+--------------------+\n",
      "\n"
     ]
    }
   ],
   "source": [
    "top10 = (ratings\n",
    " .groupBy(\"movieId\")\n",
    " .agg(F.avg(\"rating\").alias(\"avg_rating\"), F.count(\"*\").alias(\"rating_count\"))\n",
    " .filter(\"rating_count > 100\")\n",
    " .join(movies, on = \"movieId\")\n",
    " .select(\"movieId\", \"avg_rating\", \"title\")\n",
    " .orderBy(F.desc(\"avg_rating\"))\n",
    " .limit(10)\n",
    ")\n",
    "top10.show()"
   ]
  },
  {
   "cell_type": "markdown",
   "metadata": {},
   "source": [
    "Does the rating pattern changes from user to user? For example, one user tends to give higher rating than other? Let's take a look at top 100 most rated movies, and group rating by users to find their median rating"
   ]
  },
  {
   "cell_type": "code",
   "execution_count": 131,
   "metadata": {},
   "outputs": [
    {
     "data": {
      "text/plain": [
       "<matplotlib.axes._subplots.AxesSubplot at 0x61949a2b0>"
      ]
     },
     "execution_count": 131,
     "metadata": {},
     "output_type": "execute_result"
    },
    {
     "data": {
      "image/png": "[encoded data removed]",
      "text/plain": [
       "<matplotlib.figure.Figure at 0x6194192b0>"
      ]
     },
     "metadata": {},
     "output_type": "display_data"
    }
   ],
   "source": [
    "(ratings\n",
    " .join(top10, on = \"movieId\")\n",
    " .groupBy(\"userId\")\n",
    " .agg(F.avg(\"rating\").alias(\"avg_rating\"))\n",
    ").toPandas()[\"avg_rating\"].plot.hist(bins = 50)"
   ]
  },
  {
   "cell_type": "markdown",
   "metadata": {},
   "source": [
    "We notice event for the that can be considered good movies in generated has a wide range of perception among the viewers."
   ]
  },
  {
   "cell_type": "markdown",
   "metadata": {},
   "source": [
    "Change the fraction rating values to intger to reduce the number of rating."
   ]
  },
  {
   "cell_type": "code",
   "execution_count": 100,
   "metadata": {},
   "outputs": [
    {
     "data": {
      "text/html": [
       "<div>\n",
       "<style scoped>\n",
       "    .dataframe tbody tr th:only-of-type {\n",
       "        vertical-align: middle;\n",
       "    }\n",
       "\n",
       "    .dataframe tbody tr th {\n",
       "        vertical-align: top;\n",
       "    }\n",
       "\n",
       "    .dataframe thead th {\n",
       "        text-align: right;\n",
       "    }\n",
       "</style>\n",
       "<table border=\"1\" class=\"dataframe\">\n",
       "  <thead>\n",
       "    <tr style=\"text-align: right;\">\n",
       "      <th></th>\n",
       "      <th>rating</th>\n",
       "      <th>count</th>\n",
       "    </tr>\n",
       "  </thead>\n",
       "  <tbody>\n",
       "    <tr>\n",
       "      <th>5</th>\n",
       "      <td>0</td>\n",
       "      <td>1101</td>\n",
       "    </tr>\n",
       "    <tr>\n",
       "      <th>2</th>\n",
       "      <td>1</td>\n",
       "      <td>5013</td>\n",
       "    </tr>\n",
       "    <tr>\n",
       "      <th>3</th>\n",
       "      <td>2</td>\n",
       "      <td>11720</td>\n",
       "    </tr>\n",
       "    <tr>\n",
       "      <th>1</th>\n",
       "      <td>3</td>\n",
       "      <td>30602</td>\n",
       "    </tr>\n",
       "    <tr>\n",
       "      <th>4</th>\n",
       "      <td>4</td>\n",
       "      <td>36473</td>\n",
       "    </tr>\n",
       "    <tr>\n",
       "      <th>0</th>\n",
       "      <td>5</td>\n",
       "      <td>15095</td>\n",
       "    </tr>\n",
       "  </tbody>\n",
       "</table>\n",
       "</div>"
      ],
      "text/plain": [
       "   rating  count\n",
       "5       0   1101\n",
       "2       1   5013\n",
       "3       2  11720\n",
       "1       3  30602\n",
       "4       4  36473\n",
       "0       5  15095"
      ]
     },
     "execution_count": 100,
     "metadata": {},
     "output_type": "execute_result"
    }
   ],
   "source": [
    "ratings = ratings.withColumn(\"rating\", F.expr(\"cast(rating as int)\"))\n",
    "ratings.groupBy(\"rating\").count().toPandas().sort_values(\"rating\")"
   ]
  },
  {
   "cell_type": "markdown",
   "metadata": {},
   "source": [
    "Find the distribution of rating by plotting histogram."
   ]
  },
  {
   "cell_type": "code",
   "execution_count": 101,
   "metadata": {},
   "outputs": [
    {
     "data": {
      "text/plain": [
       "<matplotlib.axes._subplots.AxesSubplot at 0x61869e518>"
      ]
     },
     "execution_count": 101,
     "metadata": {},
     "output_type": "execute_result"
    },
    {
     "data": {
      "image/png": "[encoded data removed]",
      "text/plain": [
       "<matplotlib.figure.Figure at 0x6186a4a20>"
      ]
     },
     "metadata": {},
     "output_type": "display_data"
    }
   ],
   "source": [
    "ratings.groupBy(\"userId\").agg(F.avg(\"rating\").alias(\"avg_rating\")).toPandas().avg_rating.plot.hist(bins = 50)"
   ]
  },
  {
   "cell_type": "markdown",
   "metadata": {},
   "source": [
    "How the average rating have changed over years."
   ]
  },
  {
   "cell_type": "code",
   "execution_count": 102,
   "metadata": {
    "scrolled": false
   },
   "outputs": [
    {
     "data": {
      "text/plain": [
       "Text(0,0.5,'Avg Rating')"
      ]
     },
     "execution_count": 102,
     "metadata": {},
     "output_type": "execute_result"
    },
    {
     "data": {
      "image/png": "[encoded data removed]",
      "text/plain": [
       "<matplotlib.figure.Figure at 0x61864bba8>"
      ]
     },
     "metadata": {},
     "output_type": "display_data"
    }
   ],
   "source": [
    "avg_rating_by_year = (ratings\n",
    " .withColumn(\"year\", F.expr(\"year(from_unixtime(timestamp))\"))\n",
    " .groupBy(\"year\")\n",
    " .agg(F.avg(\"rating\").alias(\"avg_rating\"))\n",
    ").toPandas()\n",
    "\n",
    "avg_rating_by_year = avg_rating_by_year.sort_values(\"year\")\n",
    "avg_rating_by_year.index = avg_rating_by_year.year\n",
    "\n",
    "avg_rating_by_year.avg_rating.plot()\n",
    "\n",
    "plt.ylabel(\"Avg Rating\")"
   ]
  },
  {
   "cell_type": "markdown",
   "metadata": {},
   "source": [
    "Find number of unique users."
   ]
  },
  {
   "cell_type": "code",
   "execution_count": 103,
   "metadata": {},
   "outputs": [
    {
     "data": {
      "text/plain": [
       "Row(count(DISTINCT userId)=671)"
      ]
     },
     "execution_count": 103,
     "metadata": {},
     "output_type": "execute_result"
    }
   ],
   "source": [
    "ratings.selectExpr(\"count(distinct userId)\").first()"
   ]
  },
  {
   "cell_type": "markdown",
   "metadata": {},
   "source": [
    "Find number of unique movieIds."
   ]
  },
  {
   "cell_type": "code",
   "execution_count": 104,
   "metadata": {},
   "outputs": [
    {
     "data": {
      "text/plain": [
       "Row(count(DISTINCT movieId)=9066)"
      ]
     },
     "execution_count": 104,
     "metadata": {},
     "output_type": "execute_result"
    }
   ],
   "source": [
    "ratings.selectExpr(\"count(distinct movieId)\").first()"
   ]
  },
  {
   "cell_type": "markdown",
   "metadata": {},
   "source": [
    "Does all the movie id mentioned in rating present in the movies table as well? Expected count from the statement below should be 0, if all values are present. "
   ]
  },
  {
   "cell_type": "code",
   "execution_count": 105,
   "metadata": {},
   "outputs": [
    {
     "name": "stdout",
     "output_type": "stream",
     "text": [
      "+-------+------+------+---------+\n",
      "|movieId|userId|rating|timestamp|\n",
      "+-------+------+------+---------+\n",
      "+-------+------+------+---------+\n",
      "\n"
     ]
    }
   ],
   "source": [
    "ratings.join(movies, on = [\"movieId\"], how = \"leftanti\").show()"
   ]
  },
  {
   "cell_type": "markdown",
   "metadata": {},
   "source": [
    "What is distribution of the number of rating by each movie"
   ]
  },
  {
   "cell_type": "code",
   "execution_count": 106,
   "metadata": {},
   "outputs": [
    {
     "name": "stdout",
     "output_type": "stream",
     "text": [
      "+-------+------------------+\n",
      "|summary|             count|\n",
      "+-------+------------------+\n",
      "|  count|              9066|\n",
      "|   mean|11.030664019413193|\n",
      "| stddev|24.050799967665892|\n",
      "|    min|                 1|\n",
      "|    max|               341|\n",
      "+-------+------------------+\n",
      "\n"
     ]
    }
   ],
   "source": [
    "ratings.groupBy(\"movieId\").count().select(\"count\").describe().show()"
   ]
  },
  {
   "cell_type": "markdown",
   "metadata": {},
   "source": [
    "Find the average rating by each user and rating count."
   ]
  },
  {
   "cell_type": "code",
   "execution_count": 107,
   "metadata": {},
   "outputs": [
    {
     "name": "stdout",
     "output_type": "stream",
     "text": [
      "+------+-----+------------------+\n",
      "|userId|count|        avg_rating|\n",
      "+------+-----+------------------+\n",
      "|    12|   61|2.7540983606557377|\n",
      "|    18|   51| 3.235294117647059|\n",
      "|    38|  111| 4.045045045045045|\n",
      "|    67|  103|3.7572815533980584|\n",
      "|    70|   83| 4.204819277108434|\n",
      "|    93|  159|3.5723270440251573|\n",
      "|   161|   90| 3.588888888888889|\n",
      "|   186|   42|3.5952380952380953|\n",
      "|   190|   60|               4.0|\n",
      "|   218|   42|3.6904761904761907|\n",
      "|   225|   28| 4.107142857142857|\n",
      "|   257|  103| 3.378640776699029|\n",
      "|   261|   50|              3.44|\n",
      "|   263|  114| 3.043859649122807|\n",
      "|   273|   92| 4.119565217391305|\n",
      "|   275|  202| 4.262376237623762|\n",
      "|   280|   22| 4.318181818181818|\n",
      "|   295|  236|  3.73728813559322|\n",
      "|   300|   44|3.8181818181818183|\n",
      "|   317|   22|               3.5|\n",
      "+------+-----+------------------+\n",
      "only showing top 20 rows\n",
      "\n"
     ]
    }
   ],
   "source": [
    "avg_rating = ratings.groupBy(\"userId\").agg(F.count(\"*\").alias(\"count\"), F.avg(\"rating\").alias(\"avg_rating\"))\n",
    "avg_rating.show()"
   ]
  },
  {
   "cell_type": "markdown",
   "metadata": {},
   "source": [
    "Which movies are more consistent rating from users. We can take standard deviation as measure of consistency. "
   ]
  },
  {
   "cell_type": "code",
   "execution_count": 108,
   "metadata": {},
   "outputs": [
    {
     "name": "stdout",
     "output_type": "stream",
     "text": [
      "+-------+-----------+------------------+-----+\n",
      "|movieId|avg(rating)|               std|count|\n",
      "+-------+-----------+------------------+-----+\n",
      "|   2483|        2.5|3.5355339059327378|    2|\n",
      "|  27178|        2.5|3.5355339059327378|    2|\n",
      "|   6219|        2.5|3.5355339059327378|    2|\n",
      "|  75341|        2.0|2.8284271247461903|    2|\n",
      "|   7577|        2.0|2.8284271247461903|    2|\n",
      "|  98122|        2.0|2.8284271247461903|    2|\n",
      "|   4562|        3.0|2.8284271247461903|    2|\n",
      "|   4404|        3.0|2.8284271247461903|    2|\n",
      "|  31364|        2.0|2.8284271247461903|    2|\n",
      "|   3415|        3.0|2.8284271247461903|    2|\n",
      "|   2824|        3.0|2.8284271247461903|    2|\n",
      "|  66246|        2.0|2.8284271247461903|    2|\n",
      "|   6127|        2.0|2.8284271247461903|    2|\n",
      "|   3490|        3.0|2.8284271247461903|    2|\n",
      "|   3892|        3.0|2.8284271247461903|    2|\n",
      "| 135436|        3.0|2.8284271247461903|    2|\n",
      "|   4630|        3.0|2.8284271247461903|    2|\n",
      "|   5179|        3.0|2.8284271247461903|    2|\n",
      "|  95199|        2.0|2.8284271247461903|    2|\n",
      "|   8574|        2.0|2.8284271247461903|    2|\n",
      "+-------+-----------+------------------+-----+\n",
      "only showing top 20 rows\n",
      "\n"
     ]
    }
   ],
   "source": [
    "(ratings\n",
    " .groupBy(\"movieId\")\n",
    " .agg(F.avg(\"rating\")\n",
    "       , F.stddev(\"rating\").alias(\"std\")\n",
    "       , F.count(\"*\").alias(\"count\"))\n",
    " .filter(\"not isnan(std)\")\n",
    " .orderBy(F.desc(\"std\"))\n",
    ").show()"
   ]
  },
  {
   "cell_type": "markdown",
   "metadata": {},
   "source": [
    "Devide the dataset into training and test"
   ]
  },
  {
   "cell_type": "code",
   "execution_count": 16,
   "metadata": {},
   "outputs": [],
   "source": [
    "df_train, df_test = (ratings.randomSplit([0.7, 0.3], seed = 1))\n",
    "cache_df(df_train, \"df_train\")"
   ]
  },
  {
   "cell_type": "markdown",
   "metadata": {},
   "source": [
    "Apply matrix factorization using ALS (alternate least square) from mllib"
   ]
  },
  {
   "cell_type": "code",
   "execution_count": 17,
   "metadata": {},
   "outputs": [],
   "source": [
    "from pyspark.ml.recommendation import ALS"
   ]
  },
  {
   "cell_type": "code",
   "execution_count": 109,
   "metadata": {},
   "outputs": [],
   "source": [
    "als = ALS(rank=10, maxIter=5, seed=0,\n",
    "          userCol= \"userId\", itemCol= \"movieId\", ratingCol=\"rating\")\n",
    "als_model = als.fit(df_train)"
   ]
  },
  {
   "cell_type": "markdown",
   "metadata": {},
   "source": [
    "View the iterm factors. These factors are found by ALS model. These represent latent properties of the each movie. Rank or the dimension is 10 as we specied in the ALS model."
   ]
  },
  {
   "cell_type": "code",
   "execution_count": 19,
   "metadata": {},
   "outputs": [
    {
     "data": {
      "text/html": [
       "<div>\n",
       "<style scoped>\n",
       "    .dataframe tbody tr th:only-of-type {\n",
       "        vertical-align: middle;\n",
       "    }\n",
       "\n",
       "    .dataframe tbody tr th {\n",
       "        vertical-align: top;\n",
       "    }\n",
       "\n",
       "    .dataframe thead th {\n",
       "        text-align: right;\n",
       "    }\n",
       "</style>\n",
       "<table border=\"1\" class=\"dataframe\">\n",
       "  <thead>\n",
       "    <tr style=\"text-align: right;\">\n",
       "      <th></th>\n",
       "      <th>id</th>\n",
       "      <th>features</th>\n",
       "    </tr>\n",
       "  </thead>\n",
       "  <tbody>\n",
       "    <tr>\n",
       "      <th>0</th>\n",
       "      <td>10</td>\n",
       "      <td>[-0.6119903326034546, 0.2717360258102417, 0.08...</td>\n",
       "    </tr>\n",
       "    <tr>\n",
       "      <th>1</th>\n",
       "      <td>20</td>\n",
       "      <td>[-0.5250846743583679, 0.8127381205558777, 0.32...</td>\n",
       "    </tr>\n",
       "    <tr>\n",
       "      <th>2</th>\n",
       "      <td>30</td>\n",
       "      <td>[-1.2488008737564087, 0.31565776467323303, -0....</td>\n",
       "    </tr>\n",
       "    <tr>\n",
       "      <th>3</th>\n",
       "      <td>40</td>\n",
       "      <td>[-0.4015123248100281, -0.24699324369430542, -0...</td>\n",
       "    </tr>\n",
       "    <tr>\n",
       "      <th>4</th>\n",
       "      <td>50</td>\n",
       "      <td>[-0.9165343046188354, -0.3675995469093323, -0....</td>\n",
       "    </tr>\n",
       "    <tr>\n",
       "      <th>5</th>\n",
       "      <td>60</td>\n",
       "      <td>[-0.85568767786026, 0.21060891449451447, 0.085...</td>\n",
       "    </tr>\n",
       "    <tr>\n",
       "      <th>6</th>\n",
       "      <td>70</td>\n",
       "      <td>[-0.7626186013221741, -0.6614616513252258, -0....</td>\n",
       "    </tr>\n",
       "    <tr>\n",
       "      <th>7</th>\n",
       "      <td>80</td>\n",
       "      <td>[-1.188989520072937, -0.6905847787857056, -1.0...</td>\n",
       "    </tr>\n",
       "    <tr>\n",
       "      <th>8</th>\n",
       "      <td>100</td>\n",
       "      <td>[-1.0212198495864868, 0.11593789607286453, 0.4...</td>\n",
       "    </tr>\n",
       "    <tr>\n",
       "      <th>9</th>\n",
       "      <td>110</td>\n",
       "      <td>[-0.6032668948173523, -0.10099033266305923, -0...</td>\n",
       "    </tr>\n",
       "  </tbody>\n",
       "</table>\n",
       "</div>"
      ],
      "text/plain": [
       "    id                                           features\n",
       "0   10  [-0.6119903326034546, 0.2717360258102417, 0.08...\n",
       "1   20  [-0.5250846743583679, 0.8127381205558777, 0.32...\n",
       "2   30  [-1.2488008737564087, 0.31565776467323303, -0....\n",
       "3   40  [-0.4015123248100281, -0.24699324369430542, -0...\n",
       "4   50  [-0.9165343046188354, -0.3675995469093323, -0....\n",
       "5   60  [-0.85568767786026, 0.21060891449451447, 0.085...\n",
       "6   70  [-0.7626186013221741, -0.6614616513252258, -0....\n",
       "7   80  [-1.188989520072937, -0.6905847787857056, -1.0...\n",
       "8  100  [-1.0212198495864868, 0.11593789607286453, 0.4...\n",
       "9  110  [-0.6032668948173523, -0.10099033266305923, -0..."
      ]
     },
     "execution_count": 19,
     "metadata": {},
     "output_type": "execute_result"
    }
   ],
   "source": [
    "als_model.itemFactors.limit(10).toPandas()"
   ]
  },
  {
   "cell_type": "markdown",
   "metadata": {},
   "source": [
    "Find all the movies by userId = 100. It is just example user."
   ]
  },
  {
   "cell_type": "code",
   "execution_count": 20,
   "metadata": {},
   "outputs": [
    {
     "name": "stdout",
     "output_type": "stream",
     "text": [
      "+-------+------+------+---------+--------------------+--------------------+\n",
      "|movieId|userId|rating|timestamp|               title|              genres|\n",
      "+-------+------+------+---------+--------------------+--------------------+\n",
      "|     32|   100|     5|854193977|Twelve Monkeys (a...|Mystery|Sci-Fi|Th...|\n",
      "|   1073|   100|     5|854194056|Willy Wonka & the...|Children|Comedy|F...|\n",
      "|      3|   100|     4|854194024|Grumpier Old Men ...|      Comedy|Romance|\n",
      "|    608|   100|     4|854194024|        Fargo (1996)|Comedy|Crime|Dram...|\n",
      "|    745|   100|     4|854194208|Wallace & Gromit:...|Animation|Childre...|\n",
      "|    802|   100|     4|854194111|   Phenomenon (1996)|       Drama|Romance|\n",
      "|   1356|   100|     4|854194086|Star Trek: First ...|Action|Adventure|...|\n",
      "|     25|   100|     4|854193977|Leaving Las Vegas...|       Drama|Romance|\n",
      "|      1|   100|     4|854193977|    Toy Story (1995)|Adventure|Animati...|\n",
      "|      6|   100|     3|854194023|         Heat (1995)|Action|Crime|Thri...|\n",
      "|      7|   100|     3|854194024|      Sabrina (1995)|      Comedy|Romance|\n",
      "|     52|   100|     3|854194056|Mighty Aphrodite ...|Comedy|Drama|Romance|\n",
      "|    135|   100|     3|854194086|Down Periscope (1...|              Comedy|\n",
      "|    708|   100|     3|854194056|Truth About Cats ...|      Comedy|Romance|\n",
      "|     62|   100|     3|854193977|Mr. Holland's Opu...|               Drama|\n",
      "|     86|   100|     3|854194208| White Squall (1996)|Action|Adventure|...|\n",
      "|    141|   100|     3|854193977|Birdcage, The (1996)|              Comedy|\n",
      "|    648|   100|     3|854193977|Mission: Impossib...|Action|Adventure|...|\n",
      "|    733|   100|     3|854194024|    Rock, The (1996)|Action|Adventure|...|\n",
      "|     95|   100|     3|854193977| Broken Arrow (1996)|Action|Adventure|...|\n",
      "+-------+------+------+---------+--------------------+--------------------+\n",
      "only showing top 20 rows\n",
      "\n"
     ]
    }
   ],
   "source": [
    "ratings.filter(\"userId = 100\").join(movies, \n",
    "            on = \"movieId\").orderBy(F.desc(\"rating\")).show()"
   ]
  },
  {
   "cell_type": "markdown",
   "metadata": {},
   "source": [
    "### Item to item similarity"
   ]
  },
  {
   "cell_type": "markdown",
   "metadata": {},
   "source": [
    "We see movieId = 32 has been one the top rated movie for user = 100. Find out movies similar to this movie = 32. For similarity consine similarity has been used on the iterm vectors. "
   ]
  },
  {
   "cell_type": "code",
   "execution_count": 68,
   "metadata": {
    "scrolled": false
   },
   "outputs": [
    {
     "name": "stdout",
     "output_type": "stream",
     "text": [
      "+-------+-------------------------------------------------------------------------+--------------------+\n",
      "|movieId|title                                                                    |similarity          |\n",
      "+-------+-------------------------------------------------------------------------+--------------------+\n",
      "|32     |Twelve Monkeys (a.k.a. 12 Monkeys) (1995)                                |0.0                 |\n",
      "|46322  |Jet Li's Fearless (Huo Yuan Jia) (2006)                                  |0.008989705001690163|\n",
      "|2275   |Six-String Samurai (1998)                                                |0.010203252621868497|\n",
      "|2502   |Office Space (1999)                                                      |0.010878541752999515|\n",
      "|49957  |History Boys, The (2006)                                                 |0.014252301792101796|\n",
      "|62344  |Rachel Getting Married (2008)                                            |0.01599857601792687 |\n",
      "|76077  |Hot Tub Time Machine (2010)                                              |0.017122048712169047|\n",
      "|55814  |Diving Bell and the Butterfly, The (Scaphandre et le papillon, Le) (2007)|0.017737225957067615|\n",
      "|7061   |Dark Victory (1939)                                                      |0.018288454968269807|\n",
      "|7437   |Connie and Carla (2004)                                                  |0.01838704386978518 |\n",
      "+-------+-------------------------------------------------------------------------+--------------------+\n",
      "only showing top 10 rows\n",
      "\n"
     ]
    }
   ],
   "source": [
    "from pyspark.sql.types import DoubleType\n",
    "import numpy as np\n",
    "import scipy\n",
    "import scipy.spatial\n",
    "\n",
    "def distance(v1, v2):\n",
    "    v1 = np.array(v1)\n",
    "    v2 = np.array(v2)\n",
    "    return float(scipy.spatial.distance.cosine(v1, v2))\n",
    "\n",
    "spark.udf.register(\"distance\", distance, DoubleType())\n",
    "\n",
    "def recommendation_by_i2i(movie_id):\n",
    "    return (als_model\n",
    "     .itemFactors\n",
    "     .filter(F.col(\"id\") == movie_id)\n",
    "     .alias(\"t1\")\n",
    "     .crossJoin(als_model.itemFactors.alias(\"t2\"))\n",
    "     .withColumn(\"similarity\", F.expr(\"distance(t1.features, t2.features)\")) \n",
    "     .join(movies, F.col(\"t2.id\") == F.col(\"movieId\"))\n",
    "     .orderBy(F.asc(\"similarity\"))\n",
    "     .select(\"movieId\", \"title\", \"similarity\")\n",
    "    )\n",
    "\n",
    "recommendation_by_i2i(32).show(10, False)"
   ]
  },
  {
   "cell_type": "code",
   "execution_count": 71,
   "metadata": {},
   "outputs": [
    {
     "name": "stdout",
     "output_type": "stream",
     "text": [
      "+-------+---------------------------------------------+--------------------+\n",
      "|movieId|title                                        |similarity          |\n",
      "+-------+---------------------------------------------+--------------------+\n",
      "|10     |GoldenEye (1995)                             |0.0                 |\n",
      "|3249   |Hand That Rocks the Cradle, The (1992)       |0.019739230609736924|\n",
      "|2406   |Romancing the Stone (1984)                   |0.02105859648238928 |\n",
      "|454    |Firm, The (1993)                             |0.021639110689007923|\n",
      "|1393   |Jerry Maguire (1996)                         |0.023246487402172167|\n",
      "|733    |Rock, The (1996)                             |0.023711253436034863|\n",
      "|2      |Jumanji (1995)                               |0.025654501255907514|\n",
      "|867    |Carpool (1996)                               |0.02693095927125455 |\n",
      "|747    |Stupids, The (1996)                          |0.027019454687792543|\n",
      "|103235 |Best Offer, The (Migliore offerta, La) (2013)|0.02740922637162979 |\n",
      "+-------+---------------------------------------------+--------------------+\n",
      "only showing top 10 rows\n",
      "\n"
     ]
    }
   ],
   "source": [
    "recommendation_by_i2i(10).show(10, False) # movieId for GoldenEye (1995) is 10 "
   ]
  },
  {
   "cell_type": "markdown",
   "metadata": {},
   "source": [
    "Like item Factors we can see the user factors representing the latent propeties of the user."
   ]
  },
  {
   "cell_type": "code",
   "execution_count": 72,
   "metadata": {},
   "outputs": [
    {
     "data": {
      "text/html": [
       "<div>\n",
       "<style scoped>\n",
       "    .dataframe tbody tr th:only-of-type {\n",
       "        vertical-align: middle;\n",
       "    }\n",
       "\n",
       "    .dataframe tbody tr th {\n",
       "        vertical-align: top;\n",
       "    }\n",
       "\n",
       "    .dataframe thead th {\n",
       "        text-align: right;\n",
       "    }\n",
       "</style>\n",
       "<table border=\"1\" class=\"dataframe\">\n",
       "  <thead>\n",
       "    <tr style=\"text-align: right;\">\n",
       "      <th></th>\n",
       "      <th>id</th>\n",
       "      <th>features</th>\n",
       "    </tr>\n",
       "  </thead>\n",
       "  <tbody>\n",
       "    <tr>\n",
       "      <th>0</th>\n",
       "      <td>10</td>\n",
       "      <td>[-0.27867308259010315, 0.5459980964660645, -0....</td>\n",
       "    </tr>\n",
       "    <tr>\n",
       "      <th>1</th>\n",
       "      <td>20</td>\n",
       "      <td>[-0.9683108925819397, 0.06215322017669678, 0.1...</td>\n",
       "    </tr>\n",
       "    <tr>\n",
       "      <th>2</th>\n",
       "      <td>30</td>\n",
       "      <td>[-0.4050779938697815, 0.39974474906921387, -0....</td>\n",
       "    </tr>\n",
       "    <tr>\n",
       "      <th>3</th>\n",
       "      <td>40</td>\n",
       "      <td>[-0.3554266691207886, -0.3823551535606384, -0....</td>\n",
       "    </tr>\n",
       "    <tr>\n",
       "      <th>4</th>\n",
       "      <td>50</td>\n",
       "      <td>[-0.5981726050376892, 0.3503716289997101, 0.10...</td>\n",
       "    </tr>\n",
       "    <tr>\n",
       "      <th>5</th>\n",
       "      <td>60</td>\n",
       "      <td>[-0.266533762216568, -0.4195394814014435, -0.5...</td>\n",
       "    </tr>\n",
       "    <tr>\n",
       "      <th>6</th>\n",
       "      <td>70</td>\n",
       "      <td>[-0.8268013000488281, 0.2105957567691803, 0.26...</td>\n",
       "    </tr>\n",
       "    <tr>\n",
       "      <th>7</th>\n",
       "      <td>80</td>\n",
       "      <td>[-0.7081996202468872, -0.46596139669418335, -0...</td>\n",
       "    </tr>\n",
       "    <tr>\n",
       "      <th>8</th>\n",
       "      <td>90</td>\n",
       "      <td>[-0.5121882557868958, -0.030749192461371422, 0...</td>\n",
       "    </tr>\n",
       "    <tr>\n",
       "      <th>9</th>\n",
       "      <td>100</td>\n",
       "      <td>[-0.65791916847229, 0.05630388855934143, -0.17...</td>\n",
       "    </tr>\n",
       "  </tbody>\n",
       "</table>\n",
       "</div>"
      ],
      "text/plain": [
       "    id                                           features\n",
       "0   10  [-0.27867308259010315, 0.5459980964660645, -0....\n",
       "1   20  [-0.9683108925819397, 0.06215322017669678, 0.1...\n",
       "2   30  [-0.4050779938697815, 0.39974474906921387, -0....\n",
       "3   40  [-0.3554266691207886, -0.3823551535606384, -0....\n",
       "4   50  [-0.5981726050376892, 0.3503716289997101, 0.10...\n",
       "5   60  [-0.266533762216568, -0.4195394814014435, -0.5...\n",
       "6   70  [-0.8268013000488281, 0.2105957567691803, 0.26...\n",
       "7   80  [-0.7081996202468872, -0.46596139669418335, -0...\n",
       "8   90  [-0.5121882557868958, -0.030749192461371422, 0...\n",
       "9  100  [-0.65791916847229, 0.05630388855934143, -0.17..."
      ]
     },
     "execution_count": 72,
     "metadata": {},
     "output_type": "execute_result"
    }
   ],
   "source": [
    "als_model.userFactors.limit(10).toPandas()"
   ]
  },
  {
   "cell_type": "markdown",
   "metadata": {},
   "source": [
    "### User to User similarity"
   ]
  },
  {
   "cell_type": "markdown",
   "metadata": {},
   "source": [
    "Find top movies by user; assume, the top movies are those that the user has rated 4 or 5. "
   ]
  },
  {
   "cell_type": "code",
   "execution_count": 82,
   "metadata": {},
   "outputs": [
    {
     "name": "stdout",
     "output_type": "stream",
     "text": [
      "+------+--------------------+\n",
      "|userId|          top_movies|\n",
      "+------+--------------------+\n",
      "|    12|[1220, 1235, 3798...|\n",
      "|    18|[785, 17, 32, 786...|\n",
      "|    38|[110, 356, 8197, ...|\n",
      "|    67|[610, 356, 589, 1...|\n",
      "|    70|[81, 52, 785, 25,...|\n",
      "|    93|[44195, 1097, 499...|\n",
      "|   161|[161, 356, 589, 5...|\n",
      "|   186|[4306, 4226, 4873...|\n",
      "|   190|[2716, 2390, 2585...|\n",
      "|   218|[2186, 4226, 1200...|\n",
      "|   225|[356, 589, 153, 5...|\n",
      "|   257|[3000, 1222, 3080...|\n",
      "|   261|[356, 589, 590, 7...|\n",
      "|   263|[356, 2803, 590, ...|\n",
      "|   273|[31696, 8874, 441...|\n",
      "|   275|[356, 3450, 71579...|\n",
      "|   280|[1917, 17, 2006, ...|\n",
      "|   295|[466, 356, 364, 4...|\n",
      "|   300|[110, 356, 589, 1...|\n",
      "|   317|[356, 150, 165, 3...|\n",
      "+------+--------------------+\n",
      "only showing top 20 rows\n",
      "\n"
     ]
    }
   ],
   "source": [
    "top_rated_movies_by_user = (ratings\n",
    "                            .filter(\"rating = 4 or rating = 5\")\n",
    "                            .groupBy(\"userId\")\n",
    "                            .agg(F.collect_set(\"movieId\").alias(\"top_movies\")))\n",
    "top_rated_movies_by_user.show()"
   ]
  },
  {
   "cell_type": "code",
   "execution_count": 91,
   "metadata": {},
   "outputs": [
    {
     "name": "stdout",
     "output_type": "stream",
     "text": [
      "+-------+--------------------------------------+\n",
      "|movieId|title                                 |\n",
      "+-------+--------------------------------------+\n",
      "|589    |Terminator 2: Judgment Day (1991)     |\n",
      "|4995   |Beautiful Mind, A (2001)              |\n",
      "|70286  |District 9 (2009)                     |\n",
      "|6440   |Barton Fink (1991)                    |\n",
      "|4822   |Max Keeble's Big Move (2001)          |\n",
      "|1222   |Full Metal Jacket (1987)              |\n",
      "|3421   |Animal House (1978)                   |\n",
      "|1193   |One Flew Over the Cuckoo's Nest (1975)|\n",
      "|48780  |Prestige, The (2006)                  |\n",
      "|608    |Fargo (1996)                          |\n",
      "+-------+--------------------------------------+\n",
      "only showing top 10 rows\n",
      "\n"
     ]
    }
   ],
   "source": [
    "def recommendation_by_u2u(user_id):\n",
    "    return (als_model\n",
    "     .userFactors\n",
    "     .filter(F.col(\"id\") == user_id)\n",
    "     .alias(\"t1\")\n",
    "     .crossJoin(als_model.itemFactors.alias(\"t2\"))\n",
    "     .withColumn(\"similarity\", F.expr(\"distance(t1.features, t2.features)\"))\n",
    "     .filter(\"similarity < 0.03\") # 0.02 Similarity threshold - a hyper parameter. We can perform tuning to find the suitable value\n",
    "     .join(top_rated_movies_by_user.alias(\"t3\"), F.col(\"t2.id\") == F.col(\"t3.userId\"))\n",
    "     .select(\"t1.id\", F.explode(\"top_movies\").alias(\"movieId\"))\n",
    "     .join(movies, on = \"movieId\")\n",
    "     .select(\"movieId\", \"title\")\n",
    "    )\n",
    "\n",
    "recommendation_by_u2u(100).show(10, False)"
   ]
  },
  {
   "cell_type": "code",
   "execution_count": 134,
   "metadata": {},
   "outputs": [
    {
     "name": "stdout",
     "output_type": "stream",
     "text": [
      "+-------+------+------+---------+--------------------+--------------------+\n",
      "|movieId|userId|rating|timestamp|               title|              genres|\n",
      "+-------+------+------+---------+--------------------+--------------------+\n",
      "|     32|   100|     5|854193977|Twelve Monkeys (a...|Mystery|Sci-Fi|Th...|\n",
      "|   1073|   100|     5|854194056|Willy Wonka & the...|Children|Comedy|F...|\n",
      "|      3|   100|     4|854194024|Grumpier Old Men ...|      Comedy|Romance|\n",
      "|    608|   100|     4|854194024|        Fargo (1996)|Comedy|Crime|Dram...|\n",
      "|    745|   100|     4|854194208|Wallace & Gromit:...|Animation|Childre...|\n",
      "|    802|   100|     4|854194111|   Phenomenon (1996)|       Drama|Romance|\n",
      "|   1356|   100|     4|854194086|Star Trek: First ...|Action|Adventure|...|\n",
      "|     25|   100|     4|854193977|Leaving Las Vegas...|       Drama|Romance|\n",
      "|      1|   100|     4|854193977|    Toy Story (1995)|Adventure|Animati...|\n",
      "|      6|   100|     3|854194023|         Heat (1995)|Action|Crime|Thri...|\n",
      "|      7|   100|     3|854194024|      Sabrina (1995)|      Comedy|Romance|\n",
      "|     52|   100|     3|854194056|Mighty Aphrodite ...|Comedy|Drama|Romance|\n",
      "|    135|   100|     3|854194086|Down Periscope (1...|              Comedy|\n",
      "|    708|   100|     3|854194056|Truth About Cats ...|      Comedy|Romance|\n",
      "|     62|   100|     3|854193977|Mr. Holland's Opu...|               Drama|\n",
      "|     86|   100|     3|854194208| White Squall (1996)|Action|Adventure|...|\n",
      "|    141|   100|     3|854193977|Birdcage, The (1996)|              Comedy|\n",
      "|    648|   100|     3|854193977|Mission: Impossib...|Action|Adventure|...|\n",
      "|    733|   100|     3|854194024|    Rock, The (1996)|Action|Adventure|...|\n",
      "|     95|   100|     3|854193977| Broken Arrow (1996)|Action|Adventure|...|\n",
      "+-------+------+------+---------+--------------------+--------------------+\n",
      "only showing top 20 rows\n",
      "\n"
     ]
    }
   ],
   "source": [
    "(ratings\n",
    " .join(movies, on = \"movieId\")\n",
    " .filter(\"userId = 100\")\n",
    " .orderBy(F.desc(\"rating\"))\n",
    ").show()"
   ]
  },
  {
   "cell_type": "markdown",
   "metadata": {},
   "source": [
    "Let's see what results the simiarity match between the user factors and movies factors give."
   ]
  },
  {
   "cell_type": "code",
   "execution_count": 153,
   "metadata": {},
   "outputs": [
    {
     "name": "stdout",
     "output_type": "stream",
     "text": [
      "+--------------------+----------------------------------------------+\n",
      "|similarity          |title                                         |\n",
      "+--------------------+----------------------------------------------+\n",
      "|0.02291440172371373 |Mary Poppins (1964)                           |\n",
      "|0.033117143234550506|Bus 174 (Ônibus 174) (2002)                   |\n",
      "|0.03588223110136224 |Fantastic Mr. Fox (2009)                      |\n",
      "|0.04020801883324454 |Christmas Story, A (1983)                     |\n",
      "|0.04325626207399513 |Drop Dead Gorgeous (1999)                     |\n",
      "|0.044425947834241364|Once (2006)                                   |\n",
      "|0.0445282917289207  |Manon of the Spring (Manon des sources) (1986)|\n",
      "|0.04523102711801197 |Elizabeth (1998)                              |\n",
      "|0.04547643759010589 |Tom Jones (1963)                              |\n",
      "|0.04608449690531313 |Others, The (2001)                            |\n",
      "|0.047883872328780996|Lord of the Rings, The (1978)                 |\n",
      "|0.048786415902191016|Tom & Viv (1994)                              |\n",
      "|0.049018831374267435|Sense and Sensibility (1995)                  |\n",
      "|0.04912316446316434 |Jungle Book, The (1967)                       |\n",
      "|0.0503961480536359  |Every Little Step (2008)                      |\n",
      "|0.05106430868804357 |Grand Budapest Hotel, The (2014)              |\n",
      "|0.05118087639425928 |Roman Holiday (1953)                          |\n",
      "|0.05150845853014585 |My Dog Skip (1999)                            |\n",
      "|0.05153310806439826 |Jean de Florette (1986)                       |\n",
      "|0.055603525479829274|Ben-Hur (1959)                                |\n",
      "+--------------------+----------------------------------------------+\n",
      "\n"
     ]
    }
   ],
   "source": [
    "def recommendation_by_u2i(userId):\n",
    "    return (als_model\n",
    "     .userFactors.alias(\"t1\")\n",
    "     .filter(F.col(\"id\") == userId)\n",
    "     .crossJoin(als_model.itemFactors.alias(\"t2\"))\n",
    "     .withColumn(\"similarity\", F.expr(\"distance(t1.features, t2.features)\"))\n",
    "     .orderBy(F.asc(\"similarity\"))\n",
    "     .join(movies, F.col(\"t2.id\") == F.col(\"movieId\"))\n",
    "     .select(\"similarity\", \"title\")\n",
    "     .limit(20)\n",
    "    )\n",
    "recommendation_by_u2i(100).show(20, False)"
   ]
  },
  {
   "cell_type": "markdown",
   "metadata": {},
   "source": [
    "Predict the rating for each movie and user combination in the df_test dataset."
   ]
  },
  {
   "cell_type": "code",
   "execution_count": 23,
   "metadata": {},
   "outputs": [
    {
     "name": "stdout",
     "output_type": "stream",
     "text": [
      "+------+-------+------+----------+----------+\n",
      "|userId|movieId|rating| timestamp|prediction|\n",
      "+------+-------+------+----------+----------+\n",
      "|   157|     12|     2|1291598164| 2.2820864|\n",
      "|   564|     12|     1| 974709821| 3.0669582|\n",
      "|    91|     12|     3|1448813887| 3.8011193|\n",
      "|   624|     12|     2|1019563753| 2.0999196|\n",
      "|   636|     18|     3| 855227364| 3.5984566|\n",
      "|   616|     18|     4| 860573132| 3.3177824|\n",
      "|   571|     18|     5|1334342436| 2.6853292|\n",
      "|   135|     18|     4| 844996129| 3.0119503|\n",
      "|   255|     18|     2|1236980522|   2.22563|\n",
      "|   461|     18|     1|1091959887| 2.5870395|\n",
      "|   408|     18|     5| 933116210| 2.7201877|\n",
      "|   507|     18|     4| 862091839| 3.9740381|\n",
      "|   177|     18|     4| 907380994| 3.8975425|\n",
      "|    30|     18|     2| 945277971|   3.56654|\n",
      "|   655|     18|     4|1470073389| 3.5001454|\n",
      "|   165|     70|     5|1111480089| 2.4006498|\n",
      "|   358|     70|     1| 957534713| 2.4248333|\n",
      "|    34|     70|     4| 973746231| 3.1537461|\n",
      "|   580|     70|     2|1165292373| 2.4286094|\n",
      "|   647|     70|     3| 947292818| 2.8044093|\n",
      "+------+-------+------+----------+----------+\n",
      "only showing top 20 rows\n",
      "\n"
     ]
    }
   ],
   "source": [
    "df_prediction = als_model.transform(df_test)\n",
    "df_prediction.show()"
   ]
  },
  {
   "cell_type": "markdown",
   "metadata": {},
   "source": [
    "Find predictions of rating for user 575 and compare it against the actual rating. "
   ]
  },
  {
   "cell_type": "code",
   "execution_count": 24,
   "metadata": {},
   "outputs": [
    {
     "name": "stdout",
     "output_type": "stream",
     "text": [
      "+------+-------+------+----------+----------+\n",
      "|userId|movieId|rating| timestamp|prediction|\n",
      "+------+-------+------+----------+----------+\n",
      "|   575|    613|     4|1012594056| 3.0942912|\n",
      "|   575|    912|     5|1012593307| 3.9532857|\n",
      "|   575|   1256|     5|1012595762| 3.5967388|\n",
      "|   575|   1479|     2|1012594286| 2.6165662|\n",
      "|   575|   1943|     3|1012606205|  2.818478|\n",
      "|   575|   2716|     5|1012593003| 3.3207188|\n",
      "|   575|   2728|     3|1012604429| 3.7774029|\n",
      "|   575|   2968|     5|1012597696|   3.29526|\n",
      "|   575|   3196|     4|1012604409|  3.940699|\n",
      "|   575|   3516|     3|1018056630| 1.8980706|\n",
      "|   575|   5232|     4|1018058258|       NaN|\n",
      "|   575|    539|     3|1012593690| 3.1185648|\n",
      "|   575|    913|     5|1012593062| 3.9654267|\n",
      "|   575|   1022|     4|1012594848| 3.2438915|\n",
      "|   575|   1597|     4|1012594028| 2.3618226|\n",
      "|   575|   2099|     3|1012594848| 4.1307707|\n",
      "|   575|   3244|     4|1012596068| 3.0916982|\n",
      "|   575|   3421|     3|1012595812| 3.5597823|\n",
      "|   575|   5034|     5|1012593616| 3.2644007|\n",
      "|   575|    848|     4|1012605150|  3.644644|\n",
      "+------+-------+------+----------+----------+\n",
      "only showing top 20 rows\n",
      "\n"
     ]
    }
   ],
   "source": [
    "df_prediction.filter(\"userId = 575\").show()"
   ]
  },
  {
   "cell_type": "markdown",
   "metadata": {},
   "source": [
    "For for some movie prediction is nan. Likely, those movies do not have any records in the df_train."
   ]
  },
  {
   "cell_type": "code",
   "execution_count": 25,
   "metadata": {},
   "outputs": [
    {
     "name": "stdout",
     "output_type": "stream",
     "text": [
      "+------+-------+------+----------+----------+\n",
      "|userId|movieId|rating| timestamp|prediction|\n",
      "+------+-------+------+----------+----------+\n",
      "|   514|     83|     3| 853893246|       NaN|\n",
      "|   311|     83|     3| 898008016|       NaN|\n",
      "|   383|     83|     3| 852809207|       NaN|\n",
      "|   564|    108|     4| 974713920|       NaN|\n",
      "|   555|    114|     3| 857379668|       NaN|\n",
      "|   452|    119|     3| 976423036|       NaN|\n",
      "|    86|    124|     3| 848161391|       NaN|\n",
      "|   665|    129|     3| 995232528|       NaN|\n",
      "|    41|    130|     4|1093889645|       NaN|\n",
      "|   575|    148|     4|1012605106|       NaN|\n",
      "|   564|    184|     5| 974715756|       NaN|\n",
      "|   254|    184|     4| 845158097|       NaN|\n",
      "|   312|    187|     3| 959930966|       NaN|\n",
      "|   439|    187|     2|1041115023|       NaN|\n",
      "|   393|    187|     3|1058472448|       NaN|\n",
      "|   564|    189|     4| 974838288|       NaN|\n",
      "|   182|    243|     4| 845745917|       NaN|\n",
      "|   647|    245|     3| 947292322|       NaN|\n",
      "|   516|    251|     3| 844687985|       NaN|\n",
      "|   330|    301|     5| 948574126|       NaN|\n",
      "+------+-------+------+----------+----------+\n",
      "only showing top 20 rows\n",
      "\n"
     ]
    }
   ],
   "source": [
    "df_prediction.filter(\"isnan(prediction)\").orderBy(\"movieId\").show()"
   ]
  },
  {
   "cell_type": "code",
   "execution_count": 26,
   "metadata": {},
   "outputs": [
    {
     "name": "stdout",
     "output_type": "stream",
     "text": [
      "+------+-------+------+----------+----------+\n",
      "|userId|movieId|rating| timestamp|prediction|\n",
      "+------+-------+------+----------+----------+\n",
      "|   575|    148|     4|1012605106|       NaN|\n",
      "+------+-------+------+----------+----------+\n",
      "\n"
     ]
    }
   ],
   "source": [
    "df_prediction.filter(\"movieId = 148\").show()"
   ]
  },
  {
   "cell_type": "code",
   "execution_count": 27,
   "metadata": {},
   "outputs": [
    {
     "name": "stdout",
     "output_type": "stream",
     "text": [
      "+------+-------+------+---------+\n",
      "|userId|movieId|rating|timestamp|\n",
      "+------+-------+------+---------+\n",
      "+------+-------+------+---------+\n",
      "\n"
     ]
    }
   ],
   "source": [
    "df_train.filter(\"movieId = 148\").show()"
   ]
  },
  {
   "cell_type": "code",
   "execution_count": 28,
   "metadata": {
    "scrolled": false
   },
   "outputs": [
    {
     "name": "stdout",
     "output_type": "stream",
     "text": [
      "+---+--------+\n",
      "| id|features|\n",
      "+---+--------+\n",
      "+---+--------+\n",
      "\n"
     ]
    }
   ],
   "source": [
    "als_model.itemFactors.filter(\"id = 148\").show()"
   ]
  },
  {
   "cell_type": "code",
   "execution_count": 29,
   "metadata": {},
   "outputs": [
    {
     "name": "stdout",
     "output_type": "stream",
     "text": [
      "+------+--------------------+\n",
      "|userId|     recommendations|\n",
      "+------+--------------------+\n",
      "|    70|[[3153, 6.0009284...|\n",
      "|   190|[[67504, 6.059529...|\n",
      "|   280|[[83318, 5.807171...|\n",
      "|   300|[[59684, 5.281603...|\n",
      "|   340|[[121231, 5.42872...|\n",
      "|   600|[[121231, 5.47754...|\n",
      "|   640|[[5114, 5.328731]...|\n",
      "|   660|[[8530, 5.2560177...|\n",
      "|   161|[[4799, 5.131041]...|\n",
      "|   261|[[8530, 5.838298]...|\n",
      "|   471|[[8530, 4.791874]...|\n",
      "|   581|[[149, 4.6003914]...|\n",
      "|   611|[[121231, 5.71576...|\n",
      "|   641|[[6413, 5.652473]...|\n",
      "|    12|[[4467, 5.6054363...|\n",
      "|   412|[[6413, 5.442573]...|\n",
      "|   452|[[83359, 4.945468...|\n",
      "|   612|[[5114, 4.84929],...|\n",
      "|   662|[[6413, 5.068833]...|\n",
      "|    93|[[83411, 4.972806...|\n",
      "+------+--------------------+\n",
      "only showing top 20 rows\n",
      "\n"
     ]
    }
   ],
   "source": [
    "recommendations_by_user = als_model.recommendForAllUsers(10)\n",
    "recommendations_by_user.show()"
   ]
  },
  {
   "cell_type": "markdown",
   "metadata": {},
   "source": [
    "Display the list of movie recommended for the users. If you are interested to see the recommendation for a given user, you can filter the result by userId."
   ]
  },
  {
   "cell_type": "code",
   "execution_count": 30,
   "metadata": {},
   "outputs": [
    {
     "name": "stdout",
     "output_type": "stream",
     "text": [
      "+-------+------+------------------+--------------------+--------------------+\n",
      "|movieId|userId|recommended_rating|               title|              genres|\n",
      "+-------+------+------------------+--------------------+--------------------+\n",
      "|   3153|    70|         6.0009284|7th Voyage of Sin...|Action|Adventure|...|\n",
      "|  26152|    70|          5.956971|       Batman (1966)|Action|Adventure|...|\n",
      "|  83318|    70|         5.9138904|    Goat, The (1921)|              Comedy|\n",
      "|  67504|    70|         5.9138904|Land of Silence a...|         Documentary|\n",
      "|  83411|    70|         5.9138904|         Cops (1922)|              Comedy|\n",
      "|  83359|    70|         5.9138904|Play House, The (...|              Comedy|\n",
      "|   6375|    70|         5.8239217|Gigantic (A Tale ...|         Documentary|\n",
      "|   8580|    70|         5.7976513|Into the Woods (1...|Adventure|Comedy|...|\n",
      "|   2920|    70|          5.790113|Children of Parad...|       Drama|Romance|\n",
      "|   1564|    70|         5.7485266|For Roseanna (Ros...|Comedy|Drama|Romance|\n",
      "|  67504|   190|          6.059529|Land of Silence a...|         Documentary|\n",
      "|  83318|   190|          6.059529|    Goat, The (1921)|              Comedy|\n",
      "|  83411|   190|          6.059529|         Cops (1922)|              Comedy|\n",
      "|  83359|   190|          6.059529|Play House, The (...|              Comedy|\n",
      "|   5114|   190|         5.8549128|Bad and the Beaut...|               Drama|\n",
      "|   8751|   190|          5.651474|Gun Crazy (a.k.a....|Crime|Drama|Film-...|\n",
      "|   2920|   190|         5.5644236|Children of Parad...|       Drama|Romance|\n",
      "|  26152|   190|         5.5176888|       Batman (1966)|Action|Adventure|...|\n",
      "|   7132|   190|          5.478372|Night at the Oper...|Comedy|Musical|Ro...|\n",
      "|   6669|   190|          5.387987|        Ikiru (1952)|               Drama|\n",
      "+-------+------+------------------+--------------------+--------------------+\n",
      "only showing top 20 rows\n",
      "\n"
     ]
    }
   ],
   "source": [
    "recommendations_by_user_enriched = (recommendations_by_user\n",
    ".withColumn(\"recommendation\", F.explode(\"recommendations\"))\n",
    ".withColumn(\"movieId\", F.expr(\"recommendation.movieId\"))\n",
    ".withColumn(\"recommended_rating\", F.expr(\"recommendation.rating\"))\n",
    ".drop(\"recommendations\")\n",
    ".drop(\"recommendation\")\n",
    ".join(movies, on = \"movieId\")\n",
    ")\n",
    "\n",
    "recommendations_by_user_enriched.show()"
   ]
  },
  {
   "cell_type": "code",
   "execution_count": 31,
   "metadata": {
    "scrolled": true
   },
   "outputs": [
    {
     "name": "stdout",
     "output_type": "stream",
     "text": [
      "+-------+------+------------------+--------------------+-----------------+\n",
      "|movieId|userId|recommended_rating|               title|           genres|\n",
      "+-------+------+------------------+--------------------+-----------------+\n",
      "|  67504|   547|          5.305828|Land of Silence a...|      Documentary|\n",
      "|  83411|   547|          5.305828|         Cops (1922)|           Comedy|\n",
      "|  83318|   547|          5.305828|    Goat, The (1921)|           Comedy|\n",
      "|  83359|   547|          5.305828|Play House, The (...|           Comedy|\n",
      "|  96075|   547|          5.024853|  Bleak House (2005)|            Drama|\n",
      "|   8123|   547|          5.024853|Sammy and Rosie G...|     Comedy|Drama|\n",
      "|   8261|   547|          5.024853|3 Women (Three Wo...|            Drama|\n",
      "| 101850|   547|          5.024853|Death on the Stai...|Crime|Documentary|\n",
      "| 150856|   547|          5.024853|Making a Murderer...|      Documentary|\n",
      "|  26501|   547|          5.024853|    Choose Me (1984)|   Comedy|Romance|\n",
      "+-------+------+------------------+--------------------+-----------------+\n",
      "\n"
     ]
    }
   ],
   "source": [
    "recommendations_by_user_enriched.filter(\"userId = 547\").show()"
   ]
  },
  {
   "cell_type": "markdown",
   "metadata": {},
   "source": [
    "Find most active users, their avg rating and rating standard deviation. We like to see how the list of highly rated (4 or 5 rating) matches up with the recommendation."
   ]
  },
  {
   "cell_type": "code",
   "execution_count": 32,
   "metadata": {},
   "outputs": [
    {
     "name": "stdout",
     "output_type": "stream",
     "text": [
      "+------+------------------+------------+------------------+\n",
      "|userId|        avg_rating|rating_count|        std_rating|\n",
      "+------+------------------+------------+------------------+\n",
      "|   547|  3.18025930572982|        2391|1.1206147892804919|\n",
      "|   564|3.5524625267665955|        1868|1.1718577106638184|\n",
      "|   624| 2.752737752161383|        1735|1.0923146898170415|\n",
      "|    15| 2.458823529411765|        1700|1.3042506789210637|\n",
      "|    73| 3.129192546583851|        1610|0.9950555044812739|\n",
      "|   452| 3.102238805970149|        1340|1.0467037358614122|\n",
      "|   468|2.7064291247095276|        1291| 0.830492820099226|\n",
      "|   380| 3.226716839134525|        1063|0.9399890019033345|\n",
      "|   311| 2.815505397448479|        1019|0.9367601938732544|\n",
      "|    30|3.7636003956478734|        1011|0.9262404017005623|\n",
      "|   294|3.3875395987328405|         947| 0.671665255069752|\n",
      "|   509| 3.293607800650054|         923|0.9299967846980056|\n",
      "|   580| 3.049891540130152|         922|0.8565421667014946|\n",
      "|   213|2.4186813186813185|         910|0.9947510303095398|\n",
      "|   212|2.8881278538812785|         876|0.9399310185512035|\n",
      "|   472|3.7518072289156628|         830|0.9816607190767686|\n",
      "|   388|3.5896464646464645|         792|1.0092086127421807|\n",
      "|    23| 3.371900826446281|         726|0.8956498521951798|\n",
      "|   457|2.2552594670406734|         713|1.0741751323158022|\n",
      "|   518| 3.572842998585573|         707|0.9936046100979975|\n",
      "+------+------------------+------------+------------------+\n",
      "only showing top 20 rows\n",
      "\n"
     ]
    }
   ],
   "source": [
    "rating_count_by_user = (ratings\n",
    " .groupBy(\"userId\")\n",
    " .agg(F.avg(\"rating\").alias(\"avg_rating\")\n",
    "      , F.count(\"*\").alias(\"rating_count\")\n",
    "      , F.stddev(\"rating\").alias(\"std_rating\")\n",
    "     )\n",
    " .orderBy(F.desc(\"rating_count\"))\n",
    ")\n",
    "\n",
    "rating_count_by_user.show()"
   ]
  },
  {
   "cell_type": "code",
   "execution_count": 33,
   "metadata": {},
   "outputs": [
    {
     "data": {
      "text/plain": [
       "Row(avg(std_rating)=0.9717669109338198)"
      ]
     },
     "execution_count": 33,
     "metadata": {},
     "output_type": "execute_result"
    }
   ],
   "source": [
    "rating_count_by_user.selectExpr(\"mean(std_rating)\").first()"
   ]
  },
  {
   "cell_type": "markdown",
   "metadata": {},
   "source": [
    "Plot the distribution (hist) of the number of ratings by users."
   ]
  },
  {
   "cell_type": "code",
   "execution_count": 34,
   "metadata": {},
   "outputs": [
    {
     "data": {
      "text/plain": [
       "<matplotlib.axes._subplots.AxesSubplot at 0x6180e06d8>"
      ]
     },
     "execution_count": 34,
     "metadata": {},
     "output_type": "execute_result"
    },
    {
     "data": {
      "image/png": "[encoded data removed]",
      "text/plain": [
       "<matplotlib.figure.Figure at 0x6180e8630>"
      ]
     },
     "metadata": {},
     "output_type": "display_data"
    }
   ],
   "source": [
    "rating_count_by_user.select(\"rating_count\").toPandas()[\"rating_count\"].plot.hist(bins = 50)"
   ]
  },
  {
   "cell_type": "markdown",
   "metadata": {},
   "source": [
    "See movie recommendations for a given user. See the recommendations for one of most active users."
   ]
  },
  {
   "cell_type": "code",
   "execution_count": 35,
   "metadata": {},
   "outputs": [
    {
     "name": "stdout",
     "output_type": "stream",
     "text": [
      "+-------+------+------------------+--------------------+--------------------+\n",
      "|movieId|userId|recommended_rating|               title|              genres|\n",
      "+-------+------+------------------+--------------------+--------------------+\n",
      "|  83318|   547|          5.305828|    Goat, The (1921)|              Comedy|\n",
      "|  83359|   547|          5.305828|Play House, The (...|              Comedy|\n",
      "|  67504|   547|          5.305828|Land of Silence a...|         Documentary|\n",
      "|  83411|   547|          5.305828|         Cops (1922)|              Comedy|\n",
      "|   1180|   547|         4.5169625| Hear My Song (1991)|              Comedy|\n",
      "|  86504|   547|          4.419376|Voices from the L...|         Documentary|\n",
      "|   8751|   547|         4.3445444|Gun Crazy (a.k.a....|Crime|Drama|Film-...|\n",
      "|   4427|   547|         4.2814674|Lion in Winter, T...|               Drama|\n",
      "|  56715|   547|          4.275058|Wristcutters: A L...|Drama|Fantasy|Rom...|\n",
      "|   6918|   547|         4.2680645|Unvanquished, The...|               Drama|\n",
      "|   2099|   547|          4.267149|Song of the South...|Adventure|Animati...|\n",
      "|   8609|   547|          4.244663|Our Hospitality (...|              Comedy|\n",
      "|  25764|   547|          4.244663|Cameraman, The (1...|Comedy|Drama|Romance|\n",
      "|  71650|   547|          4.244663|Werner Herzog Eat...|         Documentary|\n",
      "|  50259|   547|          4.244663|      Old Joy (2006)|               Drama|\n",
      "|  72647|   547|          4.244663| Zorn's Lemma (1970)|               Drama|\n",
      "|  66019|   547|          4.244663|Great Ecstasy of ...|         Documentary|\n",
      "|   7309|   547|          4.244663|Black Pirate, The...|    Action|Adventure|\n",
      "|   3232|   547|          4.244663|Seven Chances (1925)|              Comedy|\n",
      "|  65638|   547|          4.244663|        Aspen (1991)|         Documentary|\n",
      "+-------+------+------------------+--------------------+--------------------+\n",
      "only showing top 20 rows\n",
      "\n"
     ]
    }
   ],
   "source": [
    "def reco_for_user(userId): \n",
    "    return (\n",
    "            als_model\n",
    "             .recommendForUserSubset(df_train.filter(F.col(\"userId\") == userId), 500)\n",
    "             .withColumn(\"recommendation\", F.explode(\"recommendations\"))\n",
    "             .withColumn(\"movieId\", F.expr(\"recommendation.movieId\"))\n",
    "             .withColumn(\"recommended_rating\", F.expr(\"recommendation.rating\"))\n",
    "             .drop(\"recommendations\")\n",
    "             .drop(\"recommendation\")\n",
    "             .join(ratings.filter(F.col(\"userId\") == userId), on = \"movieId\", how = \"leftanti\")\n",
    "             .join(movies, on = \"movieId\")\n",
    "             .orderBy(F.desc(\"recommended_rating\"))\n",
    "            )\n",
    "reco_for_user(547).show()"
   ]
  },
  {
   "cell_type": "markdown",
   "metadata": {},
   "source": [
    "Find a few users who have moderate number of ratings."
   ]
  },
  {
   "cell_type": "code",
   "execution_count": 36,
   "metadata": {},
   "outputs": [
    {
     "name": "stdout",
     "output_type": "stream",
     "text": [
      "+------+----------+------------+------------------+\n",
      "|userId|avg_rating|rating_count|        std_rating|\n",
      "+------+----------+------------+------------------+\n",
      "|   637|      3.96|          25|1.0198039027185568|\n",
      "|   331|      3.48|          25|1.2948616399703357|\n",
      "|   375|      3.56|          25| 1.260952021291849|\n",
      "|   377|      3.12|          25|0.9273618495495702|\n",
      "|    44|      3.36|          25|0.8602325267042625|\n",
      "|   114|      4.08|          25|1.0376254944182253|\n",
      "|   100|       3.4|          25|0.7071067811865476|\n",
      "|   269|       3.4|          25|1.0801234497346432|\n",
      "|   446|      4.44|          25|0.5066228051190221|\n",
      "|   556|       4.4|          25|0.7637626158259734|\n",
      "|   538|       3.6|          25|1.0408329997330665|\n",
      "|   392|      2.92|          25|1.1150485789118487|\n",
      "|   116|       3.8|          25| 1.384437310486346|\n",
      "|   495|      4.08|          25|0.7593857166596345|\n",
      "+------+----------+------------+------------------+\n",
      "\n"
     ]
    }
   ],
   "source": [
    "rating_count_by_user.filter(\"rating_count = 25\").show()"
   ]
  },
  {
   "cell_type": "code",
   "execution_count": 37,
   "metadata": {},
   "outputs": [
    {
     "name": "stdout",
     "output_type": "stream",
     "text": [
      "+-------+------+------------------+--------------------+--------------------+\n",
      "|movieId|userId|recommended_rating|               title|              genres|\n",
      "+-------+------+------------------+--------------------+--------------------+\n",
      "|  83318|   100|          5.399297|    Goat, The (1921)|              Comedy|\n",
      "|  83359|   100|          5.399297|Play House, The (...|              Comedy|\n",
      "|  67504|   100|          5.399297|Land of Silence a...|         Documentary|\n",
      "|  83411|   100|          5.399297|         Cops (1922)|              Comedy|\n",
      "|   5114|   100|         5.2913103|Bad and the Beaut...|               Drama|\n",
      "|   2202|   100|         4.9161224|     Lifeboat (1944)|           Drama|War|\n",
      "|   7087|   100|         4.9139767|Passage to India,...|     Adventure|Drama|\n",
      "|   3989|   100|         4.8830647|One Day in Septem...|         Documentary|\n",
      "|   2920|   100|         4.8446193|Children of Parad...|       Drama|Romance|\n",
      "|   8264|   100|         4.8080645| Grey Gardens (1975)|         Documentary|\n",
      "|    994|   100|          4.786193|    Big Night (1996)|        Comedy|Drama|\n",
      "|   3730|   100|         4.7740874|Conversation, The...|       Drama|Mystery|\n",
      "|   7096|   100|         4.7552195|Rivers and Tides ...|         Documentary|\n",
      "|   1564|   100|         4.7492228|For Roseanna (Ros...|Comedy|Drama|Romance|\n",
      "|   7132|   100|          4.742795|Night at the Oper...|Comedy|Musical|Ro...|\n",
      "|   7767|   100|          4.739683|Best of Youth, Th...|               Drama|\n",
      "|   8121|   100|          4.738728|Seducing Doctor L...|              Comedy|\n",
      "|  47728|   100|          4.738728|Green for Danger ...|       Crime|Mystery|\n",
      "|  25852|   100|          4.738728|     Gaslight (1940)|    Mystery|Thriller|\n",
      "|   4612|   100|          4.738728|Jesus of Montreal...|               Drama|\n",
      "+-------+------+------------------+--------------------+--------------------+\n",
      "only showing top 20 rows\n",
      "\n"
     ]
    }
   ],
   "source": [
    "reco_for_user(100).show()"
   ]
  },
  {
   "cell_type": "markdown",
   "metadata": {},
   "source": [
    "### Evaluate the recommendations"
   ]
  },
  {
   "cell_type": "markdown",
   "metadata": {},
   "source": [
    "One more let's see the recommendations for the user movie combination in the df_test dataset."
   ]
  },
  {
   "cell_type": "code",
   "execution_count": 38,
   "metadata": {},
   "outputs": [
    {
     "name": "stdout",
     "output_type": "stream",
     "text": [
      "+------+-------+------+----------+----------+\n",
      "|userId|movieId|rating| timestamp|prediction|\n",
      "+------+-------+------+----------+----------+\n",
      "|   157|     12|     2|1291598164| 2.2820864|\n",
      "|   564|     12|     1| 974709821| 3.0669582|\n",
      "|    91|     12|     3|1448813887| 3.8011193|\n",
      "|   624|     12|     2|1019563753| 2.0999196|\n",
      "|   636|     18|     3| 855227364| 3.5984566|\n",
      "|   616|     18|     4| 860573132| 3.3177824|\n",
      "|   571|     18|     5|1334342436| 2.6853292|\n",
      "|   135|     18|     4| 844996129| 3.0119503|\n",
      "|   255|     18|     2|1236980522|   2.22563|\n",
      "|   461|     18|     1|1091959887| 2.5870395|\n",
      "|   408|     18|     5| 933116210| 2.7201877|\n",
      "|   507|     18|     4| 862091839| 3.9740381|\n",
      "|   177|     18|     4| 907380994| 3.8975425|\n",
      "|    30|     18|     2| 945277971|   3.56654|\n",
      "|   655|     18|     4|1470073389| 3.5001454|\n",
      "|   165|     70|     5|1111480089| 2.4006498|\n",
      "|   358|     70|     1| 957534713| 2.4248333|\n",
      "|    34|     70|     4| 973746231| 3.1537461|\n",
      "|   580|     70|     2|1165292373| 2.4286094|\n",
      "|   647|     70|     3| 947292818| 2.8044093|\n",
      "+------+-------+------+----------+----------+\n",
      "only showing top 20 rows\n",
      "\n"
     ]
    }
   ],
   "source": [
    "als_model.transform(df_test).show()"
   ]
  },
  {
   "cell_type": "markdown",
   "metadata": {},
   "source": [
    "Find root mean squared error based on the df_test"
   ]
  },
  {
   "cell_type": "code",
   "execution_count": 39,
   "metadata": {},
   "outputs": [
    {
     "name": "stdout",
     "output_type": "stream",
     "text": [
      "+------------------+\n",
      "|         test_rmse|\n",
      "+------------------+\n",
      "|0.9751612132040609|\n",
      "+------------------+\n",
      "\n"
     ]
    }
   ],
   "source": [
    "(als_model\n",
    ".transform(df_test)\n",
    ".filter(\"not isnan(prediction)\")\n",
    ".selectExpr(\"sqrt(avg(pow((rating - prediction), 2))) test_rmse\")\n",
    ").show()"
   ]
  },
  {
   "cell_type": "markdown",
   "metadata": {},
   "source": [
    "Find the rmse for the training data. It is expected, the rmse for the training dataset would be better than the test dataset. Lower the value of RMSE, better it is."
   ]
  },
  {
   "cell_type": "code",
   "execution_count": 40,
   "metadata": {},
   "outputs": [
    {
     "name": "stdout",
     "output_type": "stream",
     "text": [
      "+------------------+\n",
      "|        train_rmse|\n",
      "+------------------+\n",
      "|0.5988259423059014|\n",
      "+------------------+\n",
      "\n"
     ]
    }
   ],
   "source": [
    "(als_model\n",
    ".transform(df_train)\n",
    ".filter(\"not isnan(prediction)\")\n",
    ".selectExpr(\"sqrt(avg(pow((rating - prediction), 2))) train_rmse\")\n",
    ").show()"
   ]
  },
  {
   "cell_type": "markdown",
   "metadata": {},
   "source": [
    "# Classification Models for recommendations\n",
    "\n",
    "Idea is that based on the features of movies and users, can we estimated what will be the rating. \n",
    "\n",
    "Example of features of the movies \n",
    "- year of release\n",
    "- number users who have rated high (4 or 5)\n",
    "- number of ratings (usually for these of high magnitude, take a log of the count)\n",
    "- associated genre \n",
    "- genre properties such as number avg rating by the genre.\n",
    "\n",
    "Features by users \n",
    "- how many movies the user has rated high \n",
    "- standard deviation of his/her rating"
   ]
  },
  {
   "cell_type": "markdown",
   "metadata": {},
   "source": [
    "Let create a dataset that we can filter by genre."
   ]
  },
  {
   "cell_type": "code",
   "execution_count": 41,
   "metadata": {
    "scrolled": false
   },
   "outputs": [
    {
     "name": "stdout",
     "output_type": "stream",
     "text": [
      "+-------+--------------------+--------------------+----+---------+------+------+-------------------+\n",
      "|movieId|               title|              genres|year|    genre|userId|rating|          timestamp|\n",
      "+-------+--------------------+--------------------+----+---------+------+------+-------------------+\n",
      "|     31|Dangerous Minds (...|             [Drama]|1995|    Drama|     1|     2|2009-12-14 08:22:24|\n",
      "|   1029|        Dumbo (1941)|[Animation, Child...|1941|  Musical|     1|     3|2009-12-14 08:22:59|\n",
      "|   1029|        Dumbo (1941)|[Animation, Child...|1941|    Drama|     1|     3|2009-12-14 08:22:59|\n",
      "|   1029|        Dumbo (1941)|[Animation, Child...|1941| Children|     1|     3|2009-12-14 08:22:59|\n",
      "|   1029|        Dumbo (1941)|[Animation, Child...|1941|Animation|     1|     3|2009-12-14 08:22:59|\n",
      "|   1061|     Sleepers (1996)|          [Thriller]|1996| Thriller|     1|     3|2009-12-14 08:23:02|\n",
      "|   1129|Escape from New Y...|[Action, Adventur...|1981| Thriller|     1|     2|2009-12-14 08:23:05|\n",
      "|   1129|Escape from New Y...|[Action, Adventur...|1981|   Sci-Fi|     1|     2|2009-12-14 08:23:05|\n",
      "|   1129|Escape from New Y...|[Action, Adventur...|1981|Adventure|     1|     2|2009-12-14 08:23:05|\n",
      "|   1129|Escape from New Y...|[Action, Adventur...|1981|   Action|     1|     2|2009-12-14 08:23:05|\n",
      "|   1172|Cinema Paradiso (...|             [Drama]|1989|    Drama|     1|     4|2009-12-14 08:23:25|\n",
      "|   1263|Deer Hunter, The ...|        [Drama, War]|1978|      War|     1|     2|2009-12-14 08:22:31|\n",
      "|   1263|Deer Hunter, The ...|        [Drama, War]|1978|    Drama|     1|     2|2009-12-14 08:22:31|\n",
      "|   1287|      Ben-Hur (1959)|[Action, Adventur...|1959|    Drama|     1|     2|2009-12-14 08:23:07|\n",
      "|   1287|      Ben-Hur (1959)|[Action, Adventur...|1959|Adventure|     1|     2|2009-12-14 08:23:07|\n",
      "|   1287|      Ben-Hur (1959)|[Action, Adventur...|1959|   Action|     1|     2|2009-12-14 08:23:07|\n",
      "|   1293|       Gandhi (1982)|             [Drama]|1982|    Drama|     1|     2|2009-12-14 08:22:28|\n",
      "|   1339|Dracula (Bram Sto...|[Fantasy, Horror,...|1992| Thriller|     1|     3|2009-12-14 08:22:05|\n",
      "|   1339|Dracula (Bram Sto...|[Fantasy, Horror,...|1992|  Romance|     1|     3|2009-12-14 08:22:05|\n",
      "|   1339|Dracula (Bram Sto...|[Fantasy, Horror,...|1992|   Horror|     1|     3|2009-12-14 08:22:05|\n",
      "+-------+--------------------+--------------------+----+---------+------+------+-------------------+\n",
      "only showing top 20 rows\n",
      "\n"
     ]
    }
   ],
   "source": [
    "genre_rating = (movies\n",
    ".withColumn(\"year\", F.regexp_extract(\"title\", r\"(\\d+)\", 1))\n",
    ".withColumn(\"genres\", F.split(\"genres\", \"\\|\"))\n",
    ".withColumn(\"genre\", F.explode(\"genres\"))\n",
    ".join(ratings, on = \"movieId\")\n",
    ".withColumn(\"timestamp\", F.expr(\"from_unixtime(timestamp)\"))\n",
    ")\n",
    "\n",
    "genre_rating.show() "
   ]
  },
  {
   "cell_type": "markdown",
   "metadata": {},
   "source": [
    "Number of unique values of the genres"
   ]
  },
  {
   "cell_type": "code",
   "execution_count": 42,
   "metadata": {},
   "outputs": [
    {
     "data": {
      "text/plain": [
       "Row(count(DISTINCT genre)=20)"
      ]
     },
     "execution_count": 42,
     "metadata": {},
     "output_type": "execute_result"
    }
   ],
   "source": [
    "genre_rating.selectExpr(\"count(distinct genre)\").first()"
   ]
  },
  {
   "cell_type": "code",
   "execution_count": 43,
   "metadata": {},
   "outputs": [
    {
     "data": {
      "text/plain": [
       "<matplotlib.axes._subplots.AxesSubplot at 0x6181d1400>"
      ]
     },
     "execution_count": 43,
     "metadata": {},
     "output_type": "execute_result"
    },
    {
     "data": {
      "image/png": "[encoded data removed]",
      "text/plain": [
       "<matplotlib.figure.Figure at 0x6181ccd68>"
      ]
     },
     "metadata": {},
     "output_type": "display_data"
    }
   ],
   "source": [
    "avg_rating_by_genre = genre_rating.groupBy(\"genre\").avg(\"rating\").toPandas()\n",
    "avg_rating_by_genre.index = avg_rating_by_genre[\"genre\"]\n",
    "avg_rating_by_genre[\"avg(rating)\"].plot.bar()"
   ]
  },
  {
   "cell_type": "markdown",
   "metadata": {},
   "source": [
    "Enrich the movies dataset by computing the avg rating, rating count and number of unique user who has rated high."
   ]
  },
  {
   "cell_type": "code",
   "execution_count": 44,
   "metadata": {
    "scrolled": false
   },
   "outputs": [
    {
     "data": {
      "text/html": [
       "<div>\n",
       "<style scoped>\n",
       "    .dataframe tbody tr th:only-of-type {\n",
       "        vertical-align: middle;\n",
       "    }\n",
       "\n",
       "    .dataframe tbody tr th {\n",
       "        vertical-align: top;\n",
       "    }\n",
       "\n",
       "    .dataframe thead th {\n",
       "        text-align: right;\n",
       "    }\n",
       "</style>\n",
       "<table border=\"1\" class=\"dataframe\">\n",
       "  <thead>\n",
       "    <tr style=\"text-align: right;\">\n",
       "      <th></th>\n",
       "      <th>movieId</th>\n",
       "      <th>title</th>\n",
       "      <th>genres</th>\n",
       "      <th>year</th>\n",
       "      <th>genre</th>\n",
       "      <th>userId</th>\n",
       "      <th>rating</th>\n",
       "      <th>timestamp</th>\n",
       "      <th>rating_avg</th>\n",
       "      <th>rating_count</th>\n",
       "      <th>rating_std</th>\n",
       "      <th>unique_user_count</th>\n",
       "      <th>high_rating</th>\n",
       "    </tr>\n",
       "  </thead>\n",
       "  <tbody>\n",
       "    <tr>\n",
       "      <th>0</th>\n",
       "      <td>1339</td>\n",
       "      <td>Dracula (Bram Stoker's Dracula) (1992)</td>\n",
       "      <td>[Fantasy, Horror, Romance, Thriller]</td>\n",
       "      <td>1992</td>\n",
       "      <td>Horror</td>\n",
       "      <td>1</td>\n",
       "      <td>3</td>\n",
       "      <td>2009-12-14 08:22:05</td>\n",
       "      <td>3.181296</td>\n",
       "      <td>8.823206</td>\n",
       "      <td>1.151496</td>\n",
       "      <td>6.388561</td>\n",
       "      <td>7.954723</td>\n",
       "    </tr>\n",
       "    <tr>\n",
       "      <th>1</th>\n",
       "      <td>2455</td>\n",
       "      <td>Fly, The (1986)</td>\n",
       "      <td>[Drama, Horror, Sci-Fi, Thriller]</td>\n",
       "      <td>1986</td>\n",
       "      <td>Horror</td>\n",
       "      <td>1</td>\n",
       "      <td>2</td>\n",
       "      <td>2009-12-14 08:21:53</td>\n",
       "      <td>3.181296</td>\n",
       "      <td>8.823206</td>\n",
       "      <td>1.151496</td>\n",
       "      <td>6.388561</td>\n",
       "      <td>7.954723</td>\n",
       "    </tr>\n",
       "    <tr>\n",
       "      <th>2</th>\n",
       "      <td>253</td>\n",
       "      <td>Interview with the Vampire: The Vampire Chroni...</td>\n",
       "      <td>[Drama, Horror]</td>\n",
       "      <td>1994</td>\n",
       "      <td>Horror</td>\n",
       "      <td>2</td>\n",
       "      <td>4</td>\n",
       "      <td>1996-06-21 16:41:51</td>\n",
       "      <td>3.181296</td>\n",
       "      <td>8.823206</td>\n",
       "      <td>1.151496</td>\n",
       "      <td>6.388561</td>\n",
       "      <td>7.954723</td>\n",
       "    </tr>\n",
       "    <tr>\n",
       "      <th>3</th>\n",
       "      <td>273</td>\n",
       "      <td>Mary Shelley's Frankenstein (Frankenstein) (1994)</td>\n",
       "      <td>[Drama, Horror, Sci-Fi]</td>\n",
       "      <td>1994</td>\n",
       "      <td>Horror</td>\n",
       "      <td>2</td>\n",
       "      <td>4</td>\n",
       "      <td>1996-06-21 16:46:19</td>\n",
       "      <td>3.181296</td>\n",
       "      <td>8.823206</td>\n",
       "      <td>1.151496</td>\n",
       "      <td>6.388561</td>\n",
       "      <td>7.954723</td>\n",
       "    </tr>\n",
       "    <tr>\n",
       "      <th>4</th>\n",
       "      <td>382</td>\n",
       "      <td>Wolf (1994)</td>\n",
       "      <td>[Drama, Horror, Romance, Thriller]</td>\n",
       "      <td>1994</td>\n",
       "      <td>Horror</td>\n",
       "      <td>2</td>\n",
       "      <td>3</td>\n",
       "      <td>1996-06-21 16:52:45</td>\n",
       "      <td>3.181296</td>\n",
       "      <td>8.823206</td>\n",
       "      <td>1.151496</td>\n",
       "      <td>6.388561</td>\n",
       "      <td>7.954723</td>\n",
       "    </tr>\n",
       "    <tr>\n",
       "      <th>5</th>\n",
       "      <td>593</td>\n",
       "      <td>Silence of the Lambs, The (1991)</td>\n",
       "      <td>[Crime, Horror, Thriller]</td>\n",
       "      <td>1991</td>\n",
       "      <td>Horror</td>\n",
       "      <td>2</td>\n",
       "      <td>3</td>\n",
       "      <td>1996-06-21 16:41:51</td>\n",
       "      <td>3.181296</td>\n",
       "      <td>8.823206</td>\n",
       "      <td>1.151496</td>\n",
       "      <td>6.388561</td>\n",
       "      <td>7.954723</td>\n",
       "    </tr>\n",
       "    <tr>\n",
       "      <th>6</th>\n",
       "      <td>593</td>\n",
       "      <td>Silence of the Lambs, The (1991)</td>\n",
       "      <td>[Crime, Horror, Thriller]</td>\n",
       "      <td>1991</td>\n",
       "      <td>Horror</td>\n",
       "      <td>3</td>\n",
       "      <td>3</td>\n",
       "      <td>2011-03-01 01:07:20</td>\n",
       "      <td>3.181296</td>\n",
       "      <td>8.823206</td>\n",
       "      <td>1.151496</td>\n",
       "      <td>6.388561</td>\n",
       "      <td>7.954723</td>\n",
       "    </tr>\n",
       "    <tr>\n",
       "      <th>7</th>\n",
       "      <td>2513</td>\n",
       "      <td>Pet Sematary (1989)</td>\n",
       "      <td>[Horror]</td>\n",
       "      <td>1989</td>\n",
       "      <td>Horror</td>\n",
       "      <td>3</td>\n",
       "      <td>3</td>\n",
       "      <td>2011-02-28 08:26:29</td>\n",
       "      <td>3.181296</td>\n",
       "      <td>8.823206</td>\n",
       "      <td>1.151496</td>\n",
       "      <td>6.388561</td>\n",
       "      <td>7.954723</td>\n",
       "    </tr>\n",
       "    <tr>\n",
       "      <th>8</th>\n",
       "      <td>2762</td>\n",
       "      <td>Sixth Sense, The (1999)</td>\n",
       "      <td>[Drama, Horror, Mystery]</td>\n",
       "      <td>1999</td>\n",
       "      <td>Horror</td>\n",
       "      <td>3</td>\n",
       "      <td>3</td>\n",
       "      <td>2011-03-01 01:10:57</td>\n",
       "      <td>3.181296</td>\n",
       "      <td>8.823206</td>\n",
       "      <td>1.151496</td>\n",
       "      <td>6.388561</td>\n",
       "      <td>7.954723</td>\n",
       "    </tr>\n",
       "    <tr>\n",
       "      <th>9</th>\n",
       "      <td>2841</td>\n",
       "      <td>Stir of Echoes (1999)</td>\n",
       "      <td>[Horror, Mystery, Thriller]</td>\n",
       "      <td>1999</td>\n",
       "      <td>Horror</td>\n",
       "      <td>3</td>\n",
       "      <td>4</td>\n",
       "      <td>2011-02-28 08:25:33</td>\n",
       "      <td>3.181296</td>\n",
       "      <td>8.823206</td>\n",
       "      <td>1.151496</td>\n",
       "      <td>6.388561</td>\n",
       "      <td>7.954723</td>\n",
       "    </tr>\n",
       "  </tbody>\n",
       "</table>\n",
       "</div>"
      ],
      "text/plain": [
       "   movieId                                              title  \\\n",
       "0     1339             Dracula (Bram Stoker's Dracula) (1992)   \n",
       "1     2455                                    Fly, The (1986)   \n",
       "2      253  Interview with the Vampire: The Vampire Chroni...   \n",
       "3      273  Mary Shelley's Frankenstein (Frankenstein) (1994)   \n",
       "4      382                                        Wolf (1994)   \n",
       "5      593                   Silence of the Lambs, The (1991)   \n",
       "6      593                   Silence of the Lambs, The (1991)   \n",
       "7     2513                                Pet Sematary (1989)   \n",
       "8     2762                            Sixth Sense, The (1999)   \n",
       "9     2841                              Stir of Echoes (1999)   \n",
       "\n",
       "                                 genres  year   genre  userId  rating  \\\n",
       "0  [Fantasy, Horror, Romance, Thriller]  1992  Horror       1       3   \n",
       "1     [Drama, Horror, Sci-Fi, Thriller]  1986  Horror       1       2   \n",
       "2                       [Drama, Horror]  1994  Horror       2       4   \n",
       "3               [Drama, Horror, Sci-Fi]  1994  Horror       2       4   \n",
       "4    [Drama, Horror, Romance, Thriller]  1994  Horror       2       3   \n",
       "5             [Crime, Horror, Thriller]  1991  Horror       2       3   \n",
       "6             [Crime, Horror, Thriller]  1991  Horror       3       3   \n",
       "7                              [Horror]  1989  Horror       3       3   \n",
       "8              [Drama, Horror, Mystery]  1999  Horror       3       3   \n",
       "9           [Horror, Mystery, Thriller]  1999  Horror       3       4   \n",
       "\n",
       "             timestamp  rating_avg  rating_count  rating_std  \\\n",
       "0  2009-12-14 08:22:05    3.181296      8.823206    1.151496   \n",
       "1  2009-12-14 08:21:53    3.181296      8.823206    1.151496   \n",
       "2  1996-06-21 16:41:51    3.181296      8.823206    1.151496   \n",
       "3  1996-06-21 16:46:19    3.181296      8.823206    1.151496   \n",
       "4  1996-06-21 16:52:45    3.181296      8.823206    1.151496   \n",
       "5  1996-06-21 16:41:51    3.181296      8.823206    1.151496   \n",
       "6  2011-03-01 01:07:20    3.181296      8.823206    1.151496   \n",
       "7  2011-02-28 08:26:29    3.181296      8.823206    1.151496   \n",
       "8  2011-03-01 01:10:57    3.181296      8.823206    1.151496   \n",
       "9  2011-02-28 08:25:33    3.181296      8.823206    1.151496   \n",
       "\n",
       "   unique_user_count  high_rating  \n",
       "0           6.388561     7.954723  \n",
       "1           6.388561     7.954723  \n",
       "2           6.388561     7.954723  \n",
       "3           6.388561     7.954723  \n",
       "4           6.388561     7.954723  \n",
       "5           6.388561     7.954723  \n",
       "6           6.388561     7.954723  \n",
       "7           6.388561     7.954723  \n",
       "8           6.388561     7.954723  \n",
       "9           6.388561     7.954723  "
      ]
     },
     "execution_count": 44,
     "metadata": {},
     "output_type": "execute_result"
    }
   ],
   "source": [
    "movie_genre_stats = (genre_rating\n",
    " .withColumn(\"rating_avg\", F.expr(\"avg(rating) over (partition by genre)\"))\n",
    " .withColumn(\"rating_count\", F.expr(\"count(*) over (partition by genre)\"))\n",
    " .withColumn(\"rating_count\", F.log(\"rating_count\"))\n",
    " .withColumn(\"rating_std\", F.expr(\"stddev(rating) over (partition by genre)\"))\n",
    " .withColumn(\"unique_user_count_rank\", F.expr(\"dense_rank() over (partition by genre order by userId)\"))\n",
    " .withColumn(\"unique_user_count\", F.expr(\"max(unique_user_count_rank) over (partition by genre)\"))\n",
    " .withColumn(\"unique_user_count\", F.log(\"unique_user_count\"))\n",
    " .withColumn(\"high_rating\", F.expr(\"sum(if(rating = 4 or rating = 5, 1, 0)) over (partition by genre)\"))\n",
    " .withColumn(\"high_rating\", F.expr(\"log(high_rating)\"))\n",
    " .drop(\"unique_user_count_rank\")\n",
    ")\n",
    "movie_genre_stats.limit(10).toPandas()"
   ]
  },
  {
   "cell_type": "markdown",
   "metadata": {},
   "source": [
    "Since each movie has multiple genres, it is a good idea to calculated IDF scores weighted by the individual measures like avg rating. To calculate IDF scores, we need to pass the data through a few steps => StringIndexer => Group by movie ID =>  Vectorizer => IDF transformer.\n",
    "\n",
    "StringIndexer replaces the each string value of the genre with a corresponding index. \n",
    "Grouping aggregate genre level stat for each userId by packing them into a set column. Look at the below schem for for example.  \n",
    "Vectorizes - Create a sparse vector that is required by TF-IDF."
   ]
  },
  {
   "cell_type": "code",
   "execution_count": 45,
   "metadata": {},
   "outputs": [],
   "source": [
    "from pyspark.ml.feature import StringIndexer, IDF\n",
    "from pyspark.ml.pipeline import Pipeline"
   ]
  },
  {
   "cell_type": "code",
   "execution_count": 92,
   "metadata": {},
   "outputs": [
    {
     "data": {
      "text/html": [
       "<div>\n",
       "<style scoped>\n",
       "    .dataframe tbody tr th:only-of-type {\n",
       "        vertical-align: middle;\n",
       "    }\n",
       "\n",
       "    .dataframe tbody tr th {\n",
       "        vertical-align: top;\n",
       "    }\n",
       "\n",
       "    .dataframe thead th {\n",
       "        text-align: right;\n",
       "    }\n",
       "</style>\n",
       "<table border=\"1\" class=\"dataframe\">\n",
       "  <thead>\n",
       "    <tr style=\"text-align: right;\">\n",
       "      <th></th>\n",
       "      <th>movieId</th>\n",
       "      <th>title</th>\n",
       "      <th>genres</th>\n",
       "      <th>year</th>\n",
       "      <th>genre</th>\n",
       "      <th>userId</th>\n",
       "      <th>rating</th>\n",
       "      <th>timestamp</th>\n",
       "      <th>rating_avg</th>\n",
       "      <th>rating_count</th>\n",
       "      <th>rating_std</th>\n",
       "      <th>unique_user_count</th>\n",
       "      <th>high_rating</th>\n",
       "      <th>genre_index</th>\n",
       "    </tr>\n",
       "  </thead>\n",
       "  <tbody>\n",
       "    <tr>\n",
       "      <th>0</th>\n",
       "      <td>1339</td>\n",
       "      <td>Dracula (Bram Stoker's Dracula) (1992)</td>\n",
       "      <td>[Fantasy, Horror, Romance, Thriller]</td>\n",
       "      <td>1992</td>\n",
       "      <td>Horror</td>\n",
       "      <td>1</td>\n",
       "      <td>3</td>\n",
       "      <td>2009-12-14 08:22:05</td>\n",
       "      <td>3.181296</td>\n",
       "      <td>8.823206</td>\n",
       "      <td>1.151496</td>\n",
       "      <td>6.388561</td>\n",
       "      <td>7.954723</td>\n",
       "      <td>11.0</td>\n",
       "    </tr>\n",
       "    <tr>\n",
       "      <th>1</th>\n",
       "      <td>2455</td>\n",
       "      <td>Fly, The (1986)</td>\n",
       "      <td>[Drama, Horror, Sci-Fi, Thriller]</td>\n",
       "      <td>1986</td>\n",
       "      <td>Horror</td>\n",
       "      <td>1</td>\n",
       "      <td>2</td>\n",
       "      <td>2009-12-14 08:21:53</td>\n",
       "      <td>3.181296</td>\n",
       "      <td>8.823206</td>\n",
       "      <td>1.151496</td>\n",
       "      <td>6.388561</td>\n",
       "      <td>7.954723</td>\n",
       "      <td>11.0</td>\n",
       "    </tr>\n",
       "    <tr>\n",
       "      <th>2</th>\n",
       "      <td>253</td>\n",
       "      <td>Interview with the Vampire: The Vampire Chroni...</td>\n",
       "      <td>[Drama, Horror]</td>\n",
       "      <td>1994</td>\n",
       "      <td>Horror</td>\n",
       "      <td>2</td>\n",
       "      <td>4</td>\n",
       "      <td>1996-06-21 16:41:51</td>\n",
       "      <td>3.181296</td>\n",
       "      <td>8.823206</td>\n",
       "      <td>1.151496</td>\n",
       "      <td>6.388561</td>\n",
       "      <td>7.954723</td>\n",
       "      <td>11.0</td>\n",
       "    </tr>\n",
       "    <tr>\n",
       "      <th>3</th>\n",
       "      <td>273</td>\n",
       "      <td>Mary Shelley's Frankenstein (Frankenstein) (1994)</td>\n",
       "      <td>[Drama, Horror, Sci-Fi]</td>\n",
       "      <td>1994</td>\n",
       "      <td>Horror</td>\n",
       "      <td>2</td>\n",
       "      <td>4</td>\n",
       "      <td>1996-06-21 16:46:19</td>\n",
       "      <td>3.181296</td>\n",
       "      <td>8.823206</td>\n",
       "      <td>1.151496</td>\n",
       "      <td>6.388561</td>\n",
       "      <td>7.954723</td>\n",
       "      <td>11.0</td>\n",
       "    </tr>\n",
       "    <tr>\n",
       "      <th>4</th>\n",
       "      <td>382</td>\n",
       "      <td>Wolf (1994)</td>\n",
       "      <td>[Drama, Horror, Romance, Thriller]</td>\n",
       "      <td>1994</td>\n",
       "      <td>Horror</td>\n",
       "      <td>2</td>\n",
       "      <td>3</td>\n",
       "      <td>1996-06-21 16:52:45</td>\n",
       "      <td>3.181296</td>\n",
       "      <td>8.823206</td>\n",
       "      <td>1.151496</td>\n",
       "      <td>6.388561</td>\n",
       "      <td>7.954723</td>\n",
       "      <td>11.0</td>\n",
       "    </tr>\n",
       "  </tbody>\n",
       "</table>\n",
       "</div>"
      ],
      "text/plain": [
       "   movieId                                              title  \\\n",
       "0     1339             Dracula (Bram Stoker's Dracula) (1992)   \n",
       "1     2455                                    Fly, The (1986)   \n",
       "2      253  Interview with the Vampire: The Vampire Chroni...   \n",
       "3      273  Mary Shelley's Frankenstein (Frankenstein) (1994)   \n",
       "4      382                                        Wolf (1994)   \n",
       "\n",
       "                                 genres  year   genre  userId  rating  \\\n",
       "0  [Fantasy, Horror, Romance, Thriller]  1992  Horror       1       3   \n",
       "1     [Drama, Horror, Sci-Fi, Thriller]  1986  Horror       1       2   \n",
       "2                       [Drama, Horror]  1994  Horror       2       4   \n",
       "3               [Drama, Horror, Sci-Fi]  1994  Horror       2       4   \n",
       "4    [Drama, Horror, Romance, Thriller]  1994  Horror       2       3   \n",
       "\n",
       "             timestamp  rating_avg  rating_count  rating_std  \\\n",
       "0  2009-12-14 08:22:05    3.181296      8.823206    1.151496   \n",
       "1  2009-12-14 08:21:53    3.181296      8.823206    1.151496   \n",
       "2  1996-06-21 16:41:51    3.181296      8.823206    1.151496   \n",
       "3  1996-06-21 16:46:19    3.181296      8.823206    1.151496   \n",
       "4  1996-06-21 16:52:45    3.181296      8.823206    1.151496   \n",
       "\n",
       "   unique_user_count  high_rating  genre_index  \n",
       "0           6.388561     7.954723         11.0  \n",
       "1           6.388561     7.954723         11.0  \n",
       "2           6.388561     7.954723         11.0  \n",
       "3           6.388561     7.954723         11.0  \n",
       "4           6.388561     7.954723         11.0  "
      ]
     },
     "execution_count": 92,
     "metadata": {},
     "output_type": "execute_result"
    }
   ],
   "source": [
    "genre_indexer = StringIndexer(inputCol=\"genre\", outputCol=\"genre_index\")\n",
    "stats_by_genre_indexed = genre_indexer.fit(movie_genre_stats).transform(movie_genre_stats)\n",
    "stats_by_genre_indexed.limit(5).toPandas()"
   ]
  },
  {
   "cell_type": "code",
   "execution_count": 47,
   "metadata": {
    "scrolled": false
   },
   "outputs": [
    {
     "data": {
      "text/html": [
       "<div>\n",
       "<style scoped>\n",
       "    .dataframe tbody tr th:only-of-type {\n",
       "        vertical-align: middle;\n",
       "    }\n",
       "\n",
       "    .dataframe tbody tr th {\n",
       "        vertical-align: top;\n",
       "    }\n",
       "\n",
       "    .dataframe thead th {\n",
       "        text-align: right;\n",
       "    }\n",
       "</style>\n",
       "<table border=\"1\" class=\"dataframe\">\n",
       "  <thead>\n",
       "    <tr style=\"text-align: right;\">\n",
       "      <th></th>\n",
       "      <th>movieId</th>\n",
       "      <th>title</th>\n",
       "      <th>genres</th>\n",
       "      <th>year</th>\n",
       "      <th>genre</th>\n",
       "      <th>userId</th>\n",
       "      <th>rating</th>\n",
       "      <th>timestamp</th>\n",
       "      <th>rating_avg</th>\n",
       "      <th>rating_count</th>\n",
       "      <th>rating_std</th>\n",
       "      <th>unique_user_count</th>\n",
       "      <th>high_rating</th>\n",
       "      <th>genre_index</th>\n",
       "      <th>rating_count_by_genre</th>\n",
       "      <th>rating_avg_by_genre</th>\n",
       "      <th>rating_std_by_genre</th>\n",
       "      <th>unique_user_count_by_genre</th>\n",
       "      <th>high_rating_by_genre</th>\n",
       "    </tr>\n",
       "  </thead>\n",
       "  <tbody>\n",
       "    <tr>\n",
       "      <th>0</th>\n",
       "      <td>1339</td>\n",
       "      <td>Dracula (Bram Stoker's Dracula) (1992)</td>\n",
       "      <td>[Fantasy, Horror, Romance, Thriller]</td>\n",
       "      <td>1992</td>\n",
       "      <td>Horror</td>\n",
       "      <td>1</td>\n",
       "      <td>3</td>\n",
       "      <td>2009-12-14 08:22:05</td>\n",
       "      <td>3.181296</td>\n",
       "      <td>8.823206</td>\n",
       "      <td>1.151496</td>\n",
       "      <td>6.388561</td>\n",
       "      <td>7.954723</td>\n",
       "      <td>11.0</td>\n",
       "      <td>(11.0, 8.823206220552741)</td>\n",
       "      <td>(11.0, 3.1812960235640646)</td>\n",
       "      <td>(11.0, 1.1514958279439718)</td>\n",
       "      <td>(11.0, 6.38856140554563)</td>\n",
       "      <td>(11.0, 7.954723334497908)</td>\n",
       "    </tr>\n",
       "    <tr>\n",
       "      <th>1</th>\n",
       "      <td>2455</td>\n",
       "      <td>Fly, The (1986)</td>\n",
       "      <td>[Drama, Horror, Sci-Fi, Thriller]</td>\n",
       "      <td>1986</td>\n",
       "      <td>Horror</td>\n",
       "      <td>1</td>\n",
       "      <td>2</td>\n",
       "      <td>2009-12-14 08:21:53</td>\n",
       "      <td>3.181296</td>\n",
       "      <td>8.823206</td>\n",
       "      <td>1.151496</td>\n",
       "      <td>6.388561</td>\n",
       "      <td>7.954723</td>\n",
       "      <td>11.0</td>\n",
       "      <td>(11.0, 8.823206220552741)</td>\n",
       "      <td>(11.0, 3.1812960235640646)</td>\n",
       "      <td>(11.0, 1.1514958279439718)</td>\n",
       "      <td>(11.0, 6.38856140554563)</td>\n",
       "      <td>(11.0, 7.954723334497908)</td>\n",
       "    </tr>\n",
       "    <tr>\n",
       "      <th>2</th>\n",
       "      <td>253</td>\n",
       "      <td>Interview with the Vampire: The Vampire Chroni...</td>\n",
       "      <td>[Drama, Horror]</td>\n",
       "      <td>1994</td>\n",
       "      <td>Horror</td>\n",
       "      <td>2</td>\n",
       "      <td>4</td>\n",
       "      <td>1996-06-21 16:41:51</td>\n",
       "      <td>3.181296</td>\n",
       "      <td>8.823206</td>\n",
       "      <td>1.151496</td>\n",
       "      <td>6.388561</td>\n",
       "      <td>7.954723</td>\n",
       "      <td>11.0</td>\n",
       "      <td>(11.0, 8.823206220552741)</td>\n",
       "      <td>(11.0, 3.1812960235640646)</td>\n",
       "      <td>(11.0, 1.1514958279439718)</td>\n",
       "      <td>(11.0, 6.38856140554563)</td>\n",
       "      <td>(11.0, 7.954723334497908)</td>\n",
       "    </tr>\n",
       "    <tr>\n",
       "      <th>3</th>\n",
       "      <td>273</td>\n",
       "      <td>Mary Shelley's Frankenstein (Frankenstein) (1994)</td>\n",
       "      <td>[Drama, Horror, Sci-Fi]</td>\n",
       "      <td>1994</td>\n",
       "      <td>Horror</td>\n",
       "      <td>2</td>\n",
       "      <td>4</td>\n",
       "      <td>1996-06-21 16:46:19</td>\n",
       "      <td>3.181296</td>\n",
       "      <td>8.823206</td>\n",
       "      <td>1.151496</td>\n",
       "      <td>6.388561</td>\n",
       "      <td>7.954723</td>\n",
       "      <td>11.0</td>\n",
       "      <td>(11.0, 8.823206220552741)</td>\n",
       "      <td>(11.0, 3.1812960235640646)</td>\n",
       "      <td>(11.0, 1.1514958279439718)</td>\n",
       "      <td>(11.0, 6.38856140554563)</td>\n",
       "      <td>(11.0, 7.954723334497908)</td>\n",
       "    </tr>\n",
       "    <tr>\n",
       "      <th>4</th>\n",
       "      <td>382</td>\n",
       "      <td>Wolf (1994)</td>\n",
       "      <td>[Drama, Horror, Romance, Thriller]</td>\n",
       "      <td>1994</td>\n",
       "      <td>Horror</td>\n",
       "      <td>2</td>\n",
       "      <td>3</td>\n",
       "      <td>1996-06-21 16:52:45</td>\n",
       "      <td>3.181296</td>\n",
       "      <td>8.823206</td>\n",
       "      <td>1.151496</td>\n",
       "      <td>6.388561</td>\n",
       "      <td>7.954723</td>\n",
       "      <td>11.0</td>\n",
       "      <td>(11.0, 8.823206220552741)</td>\n",
       "      <td>(11.0, 3.1812960235640646)</td>\n",
       "      <td>(11.0, 1.1514958279439718)</td>\n",
       "      <td>(11.0, 6.38856140554563)</td>\n",
       "      <td>(11.0, 7.954723334497908)</td>\n",
       "    </tr>\n",
       "  </tbody>\n",
       "</table>\n",
       "</div>"
      ],
      "text/plain": [
       "   movieId                                              title  \\\n",
       "0     1339             Dracula (Bram Stoker's Dracula) (1992)   \n",
       "1     2455                                    Fly, The (1986)   \n",
       "2      253  Interview with the Vampire: The Vampire Chroni...   \n",
       "3      273  Mary Shelley's Frankenstein (Frankenstein) (1994)   \n",
       "4      382                                        Wolf (1994)   \n",
       "\n",
       "                                 genres  year   genre  userId  rating  \\\n",
       "0  [Fantasy, Horror, Romance, Thriller]  1992  Horror       1       3   \n",
       "1     [Drama, Horror, Sci-Fi, Thriller]  1986  Horror       1       2   \n",
       "2                       [Drama, Horror]  1994  Horror       2       4   \n",
       "3               [Drama, Horror, Sci-Fi]  1994  Horror       2       4   \n",
       "4    [Drama, Horror, Romance, Thriller]  1994  Horror       2       3   \n",
       "\n",
       "             timestamp  rating_avg  rating_count  rating_std  \\\n",
       "0  2009-12-14 08:22:05    3.181296      8.823206    1.151496   \n",
       "1  2009-12-14 08:21:53    3.181296      8.823206    1.151496   \n",
       "2  1996-06-21 16:41:51    3.181296      8.823206    1.151496   \n",
       "3  1996-06-21 16:46:19    3.181296      8.823206    1.151496   \n",
       "4  1996-06-21 16:52:45    3.181296      8.823206    1.151496   \n",
       "\n",
       "   unique_user_count  high_rating  genre_index      rating_count_by_genre  \\\n",
       "0           6.388561     7.954723         11.0  (11.0, 8.823206220552741)   \n",
       "1           6.388561     7.954723         11.0  (11.0, 8.823206220552741)   \n",
       "2           6.388561     7.954723         11.0  (11.0, 8.823206220552741)   \n",
       "3           6.388561     7.954723         11.0  (11.0, 8.823206220552741)   \n",
       "4           6.388561     7.954723         11.0  (11.0, 8.823206220552741)   \n",
       "\n",
       "          rating_avg_by_genre         rating_std_by_genre  \\\n",
       "0  (11.0, 3.1812960235640646)  (11.0, 1.1514958279439718)   \n",
       "1  (11.0, 3.1812960235640646)  (11.0, 1.1514958279439718)   \n",
       "2  (11.0, 3.1812960235640646)  (11.0, 1.1514958279439718)   \n",
       "3  (11.0, 3.1812960235640646)  (11.0, 1.1514958279439718)   \n",
       "4  (11.0, 3.1812960235640646)  (11.0, 1.1514958279439718)   \n",
       "\n",
       "  unique_user_count_by_genre       high_rating_by_genre  \n",
       "0   (11.0, 6.38856140554563)  (11.0, 7.954723334497908)  \n",
       "1   (11.0, 6.38856140554563)  (11.0, 7.954723334497908)  \n",
       "2   (11.0, 6.38856140554563)  (11.0, 7.954723334497908)  \n",
       "3   (11.0, 6.38856140554563)  (11.0, 7.954723334497908)  \n",
       "4   (11.0, 6.38856140554563)  (11.0, 7.954723334497908)  "
      ]
     },
     "execution_count": 47,
     "metadata": {},
     "output_type": "execute_result"
    }
   ],
   "source": [
    "stats_by_genre_structed = (stats_by_genre_indexed\n",
    "    .withColumn(\"rating_count_by_genre\", F.struct(\"genre_index\", F.col(\"rating_count\").alias(\"value\")))\n",
    "    .withColumn(\"rating_avg_by_genre\", F.struct(\"genre_index\", F.col(\"rating_avg\").alias(\"value\")))\n",
    "    .withColumn(\"rating_std_by_genre\", F.struct(\"genre_index\", F.col(\"rating_std\").alias(\"value\")))\n",
    "    .withColumn(\"unique_user_count_by_genre\", F.struct(\"genre_index\", F.col(\"unique_user_count\").alias(\"value\")))\n",
    "    .withColumn(\"high_rating_by_genre\", F.struct(\"genre_index\", F.col(\"high_rating\").alias(\"value\")))\n",
    "    )\n",
    "stats_by_genre_structed.limit(5).toPandas()"
   ]
  },
  {
   "cell_type": "code",
   "execution_count": 48,
   "metadata": {
    "scrolled": true
   },
   "outputs": [
    {
     "data": {
      "text/html": [
       "<div>\n",
       "<style scoped>\n",
       "    .dataframe tbody tr th:only-of-type {\n",
       "        vertical-align: middle;\n",
       "    }\n",
       "\n",
       "    .dataframe tbody tr th {\n",
       "        vertical-align: top;\n",
       "    }\n",
       "\n",
       "    .dataframe thead th {\n",
       "        text-align: right;\n",
       "    }\n",
       "</style>\n",
       "<table border=\"1\" class=\"dataframe\">\n",
       "  <thead>\n",
       "    <tr style=\"text-align: right;\">\n",
       "      <th></th>\n",
       "      <th>userId</th>\n",
       "      <th>rating_count_by_genre</th>\n",
       "      <th>rating_avg_by_genre</th>\n",
       "      <th>rating_std_by_genre</th>\n",
       "      <th>unique_user_count_by_genre</th>\n",
       "      <th>high_rating_by_genre</th>\n",
       "    </tr>\n",
       "  </thead>\n",
       "  <tbody>\n",
       "    <tr>\n",
       "      <th>0</th>\n",
       "      <td>12</td>\n",
       "      <td>[(10.0, 8.939187601475613), (2.0, 10.205664071...</td>\n",
       "      <td>[(12.0, 3.4912479740680715), (16.0, 3.44926778...</td>\n",
       "      <td>[(3.0, 1.0866794748049233), (0.0, 1.0486263341...</td>\n",
       "      <td>[(17.0, 5.552959584921617), (1.0, 6.5072777123...</td>\n",
       "      <td>[(12.0, 8.117312461601975), (5.0, 9.2159247502...</td>\n",
       "    </tr>\n",
       "    <tr>\n",
       "      <th>1</th>\n",
       "      <td>18</td>\n",
       "      <td>[(10.0, 8.939187601475613), (2.0, 10.205664071...</td>\n",
       "      <td>[(11.0, 3.1812960235640646), (3.0, 3.384627575...</td>\n",
       "      <td>[(3.0, 1.0866794748049233), (2.0, 1.1159512760...</td>\n",
       "      <td>[(2.0, 6.508769136971682), (3.0, 6.50578406012...</td>\n",
       "      <td>[(10.0, 8.38548870041881), (5.0, 9.21592475027...</td>\n",
       "    </tr>\n",
       "    <tr>\n",
       "      <th>2</th>\n",
       "      <td>38</td>\n",
       "      <td>[(10.0, 8.939187601475613), (2.0, 10.205664071...</td>\n",
       "      <td>[(13.0, 3.697313432835821), (16.0, 3.449267782...</td>\n",
       "      <td>[(3.0, 1.0866794748049233), (0.0, 1.0486263341...</td>\n",
       "      <td>[(17.0, 5.552959584921617), (1.0, 6.5072777123...</td>\n",
       "      <td>[(12.0, 8.117312461601975), (5.0, 9.2159247502...</td>\n",
       "    </tr>\n",
       "    <tr>\n",
       "      <th>3</th>\n",
       "      <td>67</td>\n",
       "      <td>[(10.0, 8.939187601475613), (2.0, 10.205664071...</td>\n",
       "      <td>[(13.0, 3.697313432835821), (16.0, 3.449267782...</td>\n",
       "      <td>[(3.0, 1.0866794748049233), (0.0, 1.0486263341...</td>\n",
       "      <td>[(1.0, 6.507277712385012), (4.0, 6.50727771238...</td>\n",
       "      <td>[(12.0, 8.117312461601975), (5.0, 9.2159247502...</td>\n",
       "    </tr>\n",
       "    <tr>\n",
       "      <th>4</th>\n",
       "      <td>70</td>\n",
       "      <td>[(10.0, 8.939187601475613), (2.0, 10.205664071...</td>\n",
       "      <td>[(12.0, 3.4912479740680715), (2.0, 3.304590479...</td>\n",
       "      <td>[(3.0, 1.0866794748049233), (0.0, 1.0486263341...</td>\n",
       "      <td>[(1.0, 6.507277712385012), (4.0, 6.50727771238...</td>\n",
       "      <td>[(12.0, 8.117312461601975), (5.0, 9.2159247502...</td>\n",
       "    </tr>\n",
       "  </tbody>\n",
       "</table>\n",
       "</div>"
      ],
      "text/plain": [
       "   userId                              rating_count_by_genre  \\\n",
       "0      12  [(10.0, 8.939187601475613), (2.0, 10.205664071...   \n",
       "1      18  [(10.0, 8.939187601475613), (2.0, 10.205664071...   \n",
       "2      38  [(10.0, 8.939187601475613), (2.0, 10.205664071...   \n",
       "3      67  [(10.0, 8.939187601475613), (2.0, 10.205664071...   \n",
       "4      70  [(10.0, 8.939187601475613), (2.0, 10.205664071...   \n",
       "\n",
       "                                 rating_avg_by_genre  \\\n",
       "0  [(12.0, 3.4912479740680715), (16.0, 3.44926778...   \n",
       "1  [(11.0, 3.1812960235640646), (3.0, 3.384627575...   \n",
       "2  [(13.0, 3.697313432835821), (16.0, 3.449267782...   \n",
       "3  [(13.0, 3.697313432835821), (16.0, 3.449267782...   \n",
       "4  [(12.0, 3.4912479740680715), (2.0, 3.304590479...   \n",
       "\n",
       "                                 rating_std_by_genre  \\\n",
       "0  [(3.0, 1.0866794748049233), (0.0, 1.0486263341...   \n",
       "1  [(3.0, 1.0866794748049233), (2.0, 1.1159512760...   \n",
       "2  [(3.0, 1.0866794748049233), (0.0, 1.0486263341...   \n",
       "3  [(3.0, 1.0866794748049233), (0.0, 1.0486263341...   \n",
       "4  [(3.0, 1.0866794748049233), (0.0, 1.0486263341...   \n",
       "\n",
       "                          unique_user_count_by_genre  \\\n",
       "0  [(17.0, 5.552959584921617), (1.0, 6.5072777123...   \n",
       "1  [(2.0, 6.508769136971682), (3.0, 6.50578406012...   \n",
       "2  [(17.0, 5.552959584921617), (1.0, 6.5072777123...   \n",
       "3  [(1.0, 6.507277712385012), (4.0, 6.50727771238...   \n",
       "4  [(1.0, 6.507277712385012), (4.0, 6.50727771238...   \n",
       "\n",
       "                                high_rating_by_genre  \n",
       "0  [(12.0, 8.117312461601975), (5.0, 9.2159247502...  \n",
       "1  [(10.0, 8.38548870041881), (5.0, 9.21592475027...  \n",
       "2  [(12.0, 8.117312461601975), (5.0, 9.2159247502...  \n",
       "3  [(12.0, 8.117312461601975), (5.0, 9.2159247502...  \n",
       "4  [(12.0, 8.117312461601975), (5.0, 9.2159247502...  "
      ]
     },
     "execution_count": 48,
     "metadata": {},
     "output_type": "execute_result"
    }
   ],
   "source": [
    "stats_by_genre_grouped_by_user = (stats_by_genre_structed\n",
    "                                   .groupBy(\"userId\")\n",
    "                                   .agg(\n",
    "                                     F.collect_set(\"rating_count_by_genre\").alias(\"rating_count_by_genre\")\n",
    "                                   , F.collect_set(\"rating_avg_by_genre\").alias(\"rating_avg_by_genre\")\n",
    "                                   , F.collect_set(\"rating_std_by_genre\").alias(\"rating_std_by_genre\")\n",
    "                                   , F.collect_set(\"unique_user_count_by_genre\").alias(\"unique_user_count_by_genre\")\n",
    "                                   , F.collect_set(\"high_rating_by_genre\").alias(\"high_rating_by_genre\")\n",
    "                                  ))\n",
    "\n",
    "stats_by_genre_grouped_by_user.limit(5).toPandas()"
   ]
  },
  {
   "cell_type": "code",
   "execution_count": 49,
   "metadata": {},
   "outputs": [
    {
     "name": "stdout",
     "output_type": "stream",
     "text": [
      "root\n",
      " |-- userId: integer (nullable = true)\n",
      " |-- rating_count_by_genre: array (nullable = true)\n",
      " |    |-- element: struct (containsNull = true)\n",
      " |    |    |-- genre_index: double (nullable = false)\n",
      " |    |    |-- value: double (nullable = true)\n",
      " |-- rating_avg_by_genre: array (nullable = true)\n",
      " |    |-- element: struct (containsNull = true)\n",
      " |    |    |-- genre_index: double (nullable = false)\n",
      " |    |    |-- value: double (nullable = true)\n",
      " |-- rating_std_by_genre: array (nullable = true)\n",
      " |    |-- element: struct (containsNull = true)\n",
      " |    |    |-- genre_index: double (nullable = false)\n",
      " |    |    |-- value: double (nullable = true)\n",
      " |-- unique_user_count_by_genre: array (nullable = true)\n",
      " |    |-- element: struct (containsNull = true)\n",
      " |    |    |-- genre_index: double (nullable = false)\n",
      " |    |    |-- value: double (nullable = true)\n",
      " |-- high_rating_by_genre: array (nullable = true)\n",
      " |    |-- element: struct (containsNull = true)\n",
      " |    |    |-- genre_index: double (nullable = false)\n",
      " |    |    |-- value: double (nullable = true)\n",
      "\n"
     ]
    }
   ],
   "source": [
    "stats_by_genre_grouped_by_user.printSchema()"
   ]
  },
  {
   "cell_type": "code",
   "execution_count": 93,
   "metadata": {},
   "outputs": [
    {
     "name": "stdout",
     "output_type": "stream",
     "text": [
      "root\n",
      " |-- userId: integer (nullable = true)\n",
      " |-- rating_count_by_genre: array (nullable = true)\n",
      " |    |-- element: struct (containsNull = true)\n",
      " |    |    |-- genre_index: double (nullable = false)\n",
      " |    |    |-- value: double (nullable = true)\n",
      " |-- rating_avg_by_genre: array (nullable = true)\n",
      " |    |-- element: struct (containsNull = true)\n",
      " |    |    |-- genre_index: double (nullable = false)\n",
      " |    |    |-- value: double (nullable = true)\n",
      " |-- rating_std_by_genre: array (nullable = true)\n",
      " |    |-- element: struct (containsNull = true)\n",
      " |    |    |-- genre_index: double (nullable = false)\n",
      " |    |    |-- value: double (nullable = true)\n",
      " |-- unique_user_count_by_genre: array (nullable = true)\n",
      " |    |-- element: struct (containsNull = true)\n",
      " |    |    |-- genre_index: double (nullable = false)\n",
      " |    |    |-- value: double (nullable = true)\n",
      " |-- high_rating_by_genre: array (nullable = true)\n",
      " |    |-- element: struct (containsNull = true)\n",
      " |    |    |-- genre_index: double (nullable = false)\n",
      " |    |    |-- value: double (nullable = true)\n",
      " |-- rating_count_by_genre_vec: vector (nullable = true)\n",
      " |-- rating_avg_by_genre_vec: vector (nullable = true)\n",
      " |-- rating_std_by_genre_vec: vector (nullable = true)\n",
      " |-- unique_user_count_by_genre_vec: vector (nullable = true)\n",
      " |-- high_rating_by_genre_vec: vector (nullable = true)\n",
      "\n"
     ]
    }
   ],
   "source": [
    "from pyspark.ml.linalg import SparseVector, VectorUDT\n",
    "\n",
    "def to_vector(array_of_structs, size = 20):\n",
    "    if array_of_structs is not None:\n",
    "        array_of_structs = sorted(array_of_structs, key = lambda t: t.genre_index)\n",
    "        indices = [s.genre_index for s in array_of_structs]\n",
    "        values = [s.value for s in array_of_structs]\n",
    "        return SparseVector(size, indices, values)\n",
    "    return SparseVector(size, [], [])\n",
    "\n",
    "spark.udf.register(\"to_vector\", to_vector, VectorUDT())\n",
    "\n",
    "stats_by_genre_grouped_by_user_vec = (stats_by_genre_grouped_by_user\n",
    "            .withColumn(\"rating_count_by_genre_vec\", F.expr(\"to_vector(rating_count_by_genre)\"))\n",
    "            .withColumn(\"rating_avg_by_genre_vec\", F.expr(\"to_vector(rating_avg_by_genre)\"))\n",
    "            .withColumn(\"rating_std_by_genre_vec\", F.expr(\"to_vector(rating_std_by_genre)\"))\n",
    "            .withColumn(\"unique_user_count_by_genre_vec\", F.expr(\"to_vector(unique_user_count_by_genre)\"))\n",
    "            .withColumn(\"high_rating_by_genre_vec\", F.expr(\"to_vector(high_rating_by_genre)\"))\n",
    ")\n",
    "stats_by_genre_grouped_by_user_vec.printSchema()"
   ]
  },
  {
   "cell_type": "code",
   "execution_count": 53,
   "metadata": {},
   "outputs": [],
   "source": [
    "from pyspark.ml.feature import IDF\n",
    "from pyspark.ml.pipeline import Pipeline"
   ]
  },
  {
   "cell_type": "code",
   "execution_count": 55,
   "metadata": {
    "scrolled": false
   },
   "outputs": [],
   "source": [
    "pipe = Pipeline(stages = [\n",
    "    IDF(inputCol=\"rating_count_by_genre_vec\", outputCol=\"rating_count_by_genre_idf\"),\n",
    "    IDF(inputCol=\"rating_avg_by_genre_vec\", outputCol=\"rating_avg_by_genre_idf\"),\n",
    "    IDF(inputCol= \"rating_std_by_genre_vec\", outputCol=\"rating_std_by_genre_idf\"),\n",
    "    IDF(inputCol=\"unique_user_count_by_genre_vec\", outputCol=\"unique_user_by_genre_idf\"),\n",
    "    IDF(inputCol=\"high_rating_by_genre_vec\", outputCol=\"high_rating_by_genre_idf\")\n",
    "])\n",
    "\n",
    "user_profile_idf = pipe.fit(stats_by_genre_grouped_by_user_vec).transform(stats_by_genre_grouped_by_user_vec)"
   ]
  },
  {
   "cell_type": "code",
   "execution_count": 56,
   "metadata": {
    "scrolled": false
   },
   "outputs": [
    {
     "name": "stdout",
     "output_type": "stream",
     "text": [
      "root\n",
      " |-- userId: integer (nullable = true)\n",
      " |-- rating_count_by_genre: array (nullable = true)\n",
      " |    |-- element: struct (containsNull = true)\n",
      " |    |    |-- genre_index: double (nullable = false)\n",
      " |    |    |-- value: double (nullable = true)\n",
      " |-- rating_avg_by_genre: array (nullable = true)\n",
      " |    |-- element: struct (containsNull = true)\n",
      " |    |    |-- genre_index: double (nullable = false)\n",
      " |    |    |-- value: double (nullable = true)\n",
      " |-- rating_std_by_genre: array (nullable = true)\n",
      " |    |-- element: struct (containsNull = true)\n",
      " |    |    |-- genre_index: double (nullable = false)\n",
      " |    |    |-- value: double (nullable = true)\n",
      " |-- unique_user_count_by_genre: array (nullable = true)\n",
      " |    |-- element: struct (containsNull = true)\n",
      " |    |    |-- genre_index: double (nullable = false)\n",
      " |    |    |-- value: double (nullable = true)\n",
      " |-- high_rating_by_genre: array (nullable = true)\n",
      " |    |-- element: struct (containsNull = true)\n",
      " |    |    |-- genre_index: double (nullable = false)\n",
      " |    |    |-- value: double (nullable = true)\n",
      " |-- rating_count_by_genre_vec: vector (nullable = true)\n",
      " |-- rating_avg_by_genre_vec: vector (nullable = true)\n",
      " |-- rating_std_by_genre_vec: vector (nullable = true)\n",
      " |-- unique_user_count_by_genre_vec: vector (nullable = true)\n",
      " |-- high_rating_by_genre_vec: vector (nullable = true)\n",
      " |-- rating_count_by_genre_idf: vector (nullable = true)\n",
      " |-- rating_avg_by_genre_idf: vector (nullable = true)\n",
      " |-- rating_std_by_genre_idf: vector (nullable = true)\n",
      " |-- unique_user_by_genre_idf: vector (nullable = true)\n",
      " |-- high_rating_by_genre_idf: vector (nullable = true)\n",
      "\n"
     ]
    }
   ],
   "source": [
    "user_profile_idf.printSchema()"
   ]
  },
  {
   "cell_type": "code",
   "execution_count": 57,
   "metadata": {},
   "outputs": [
    {
     "name": "stdout",
     "output_type": "stream",
     "text": [
      "root\n",
      " |-- userId: integer (nullable = true)\n",
      " |-- movieId: integer (nullable = true)\n",
      " |-- rating: integer (nullable = true)\n",
      " |-- timestamp: integer (nullable = true)\n",
      " |-- title: string (nullable = true)\n",
      " |-- genres: string (nullable = true)\n",
      " |-- rating_count_by_genre: array (nullable = true)\n",
      " |    |-- element: struct (containsNull = true)\n",
      " |    |    |-- genre_index: double (nullable = false)\n",
      " |    |    |-- value: double (nullable = true)\n",
      " |-- rating_avg_by_genre: array (nullable = true)\n",
      " |    |-- element: struct (containsNull = true)\n",
      " |    |    |-- genre_index: double (nullable = false)\n",
      " |    |    |-- value: double (nullable = true)\n",
      " |-- rating_std_by_genre: array (nullable = true)\n",
      " |    |-- element: struct (containsNull = true)\n",
      " |    |    |-- genre_index: double (nullable = false)\n",
      " |    |    |-- value: double (nullable = true)\n",
      " |-- unique_user_count_by_genre: array (nullable = true)\n",
      " |    |-- element: struct (containsNull = true)\n",
      " |    |    |-- genre_index: double (nullable = false)\n",
      " |    |    |-- value: double (nullable = true)\n",
      " |-- high_rating_by_genre: array (nullable = true)\n",
      " |    |-- element: struct (containsNull = true)\n",
      " |    |    |-- genre_index: double (nullable = false)\n",
      " |    |    |-- value: double (nullable = true)\n",
      " |-- rating_count_by_genre_vec: vector (nullable = true)\n",
      " |-- rating_avg_by_genre_vec: vector (nullable = true)\n",
      " |-- rating_std_by_genre_vec: vector (nullable = true)\n",
      " |-- unique_user_count_by_genre_vec: vector (nullable = true)\n",
      " |-- high_rating_by_genre_vec: vector (nullable = true)\n",
      " |-- rating_count_by_genre_idf: vector (nullable = true)\n",
      " |-- rating_avg_by_genre_idf: vector (nullable = true)\n",
      " |-- rating_std_by_genre_idf: vector (nullable = true)\n",
      " |-- unique_user_by_genre_idf: vector (nullable = true)\n",
      " |-- high_rating_by_genre_idf: vector (nullable = true)\n",
      "\n"
     ]
    }
   ],
   "source": [
    "enriched = (ratings\n",
    "            .join(movies, on = \"movieId\")\n",
    "            .join(user_profile_idf, on = \"userId\")\n",
    "            .withColumn(\"rating\", F.expr(\"cast(rating * 2 as int)\"))\n",
    "#            .withColumn(\"year\", F.regexp_extract(\"title\", r\"\\d+\", 1))\n",
    "#            .withColumn(\"age\", F.expr(\"year(from_unixtime(timestamp)) - year\"))\n",
    "           )\n",
    "enriched.printSchema()"
   ]
  },
  {
   "cell_type": "code",
   "execution_count": 58,
   "metadata": {},
   "outputs": [],
   "source": [
    "from pyspark.ml.feature import VectorAssembler"
   ]
  },
  {
   "cell_type": "code",
   "execution_count": 59,
   "metadata": {},
   "outputs": [],
   "source": [
    "vector_assembler = VectorAssembler(outputCol=\"features\", inputCols=[\n",
    "                                        'rating_count_by_genre_idf',\n",
    "                                        'rating_avg_by_genre_idf',\n",
    "                                        'rating_std_by_genre_idf',\n",
    "                                        'unique_user_by_genre_idf',\n",
    "                                        'high_rating_by_genre_idf'])\n",
    "enriched_vec = vector_assembler.transform(enriched)"
   ]
  },
  {
   "cell_type": "code",
   "execution_count": 60,
   "metadata": {},
   "outputs": [],
   "source": [
    "df_train, df_test = enriched_vec.randomSplit([0.7, 0.3], 1)\n",
    "cache_df(df_train, \"df_train\")"
   ]
  },
  {
   "cell_type": "code",
   "execution_count": 61,
   "metadata": {},
   "outputs": [
    {
     "name": "stdout",
     "output_type": "stream",
     "text": [
      "root\n",
      " |-- userId: integer (nullable = true)\n",
      " |-- movieId: integer (nullable = true)\n",
      " |-- rating: integer (nullable = true)\n",
      " |-- timestamp: integer (nullable = true)\n",
      " |-- title: string (nullable = true)\n",
      " |-- genres: string (nullable = true)\n",
      " |-- rating_count_by_genre: array (nullable = true)\n",
      " |    |-- element: struct (containsNull = true)\n",
      " |    |    |-- genre_index: double (nullable = false)\n",
      " |    |    |-- value: double (nullable = true)\n",
      " |-- rating_avg_by_genre: array (nullable = true)\n",
      " |    |-- element: struct (containsNull = true)\n",
      " |    |    |-- genre_index: double (nullable = false)\n",
      " |    |    |-- value: double (nullable = true)\n",
      " |-- rating_std_by_genre: array (nullable = true)\n",
      " |    |-- element: struct (containsNull = true)\n",
      " |    |    |-- genre_index: double (nullable = false)\n",
      " |    |    |-- value: double (nullable = true)\n",
      " |-- unique_user_count_by_genre: array (nullable = true)\n",
      " |    |-- element: struct (containsNull = true)\n",
      " |    |    |-- genre_index: double (nullable = false)\n",
      " |    |    |-- value: double (nullable = true)\n",
      " |-- high_rating_by_genre: array (nullable = true)\n",
      " |    |-- element: struct (containsNull = true)\n",
      " |    |    |-- genre_index: double (nullable = false)\n",
      " |    |    |-- value: double (nullable = true)\n",
      " |-- rating_count_by_genre_vec: vector (nullable = true)\n",
      " |-- rating_avg_by_genre_vec: vector (nullable = true)\n",
      " |-- rating_std_by_genre_vec: vector (nullable = true)\n",
      " |-- unique_user_count_by_genre_vec: vector (nullable = true)\n",
      " |-- high_rating_by_genre_vec: vector (nullable = true)\n",
      " |-- rating_count_by_genre_idf: vector (nullable = true)\n",
      " |-- rating_avg_by_genre_idf: vector (nullable = true)\n",
      " |-- rating_std_by_genre_idf: vector (nullable = true)\n",
      " |-- unique_user_by_genre_idf: vector (nullable = true)\n",
      " |-- high_rating_by_genre_idf: vector (nullable = true)\n",
      " |-- features: vector (nullable = true)\n",
      "\n"
     ]
    }
   ],
   "source": [
    "df_train.printSchema()"
   ]
  },
  {
   "cell_type": "code",
   "execution_count": 62,
   "metadata": {},
   "outputs": [],
   "source": [
    "from pyspark.ml.classification import LogisticRegression\n",
    "from pyspark.ml.evaluation import MulticlassClassificationEvaluator"
   ]
  },
  {
   "cell_type": "code",
   "execution_count": 154,
   "metadata": {},
   "outputs": [
    {
     "name": "stdout",
     "output_type": "stream",
     "text": [
      "Test accuracy = 0.361758 \n"
     ]
    }
   ],
   "source": [
    "lr = LogisticRegression(family=\"multinomial\", maxIter=10, regParam=0.0\n",
    "                    , elasticNetParam=0.8, featuresCol=\"features\", labelCol=\"rating\")\n",
    "\n",
    "lr_model= lr.fit(df_train)\n",
    "                \n",
    "predictions = lr_model.transform(df_test)\n",
    "\n",
    "evaluator = MulticlassClassificationEvaluator(\n",
    "      labelCol=\"rating\"\n",
    "    , predictionCol=\"prediction\"\n",
    "    , metricName=\"accuracy\")\n",
    "accuracy = evaluator.evaluate(predictions)\n",
    "print(\"Test accuracy = %g \" % (accuracy))"
   ]
  },
  {
   "cell_type": "code",
   "execution_count": 64,
   "metadata": {},
   "outputs": [
    {
     "data": {
      "text/plain": [
       "[Row(rating=10),\n",
       " Row(rating=2),\n",
       " Row(rating=6),\n",
       " Row(rating=4),\n",
       " Row(rating=8),\n",
       " Row(rating=0)]"
      ]
     },
     "execution_count": 64,
     "metadata": {},
     "output_type": "execute_result"
    }
   ],
   "source": [
    "df_train.select(\"rating\").distinct().collect()"
   ]
  },
  {
   "cell_type": "code",
   "execution_count": null,
   "metadata": {},
   "outputs": [],
   "source": []
  }
 ],
 "metadata": {
  "kernelspec": {
   "display_name": "Python 3",
   "language": "python",
   "name": "python3"
  },
  "language_info": {
   "codemirror_mode": {
    "name": "ipython",
    "version": 3
   },
   "file_extension": ".py",
   "mimetype": "text/x-python",
   "name": "python",
   "nbconvert_exporter": "python",
   "pygments_lexer": "ipython3",
   "version": "3.6.6"
  }
 },
 "nbformat": 4,
 "nbformat_minor": 2
}
