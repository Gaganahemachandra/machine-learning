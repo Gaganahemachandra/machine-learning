{
 "cells": [
  {
   "cell_type": "code",
   "execution_count": 73,
   "metadata": {
    "collapsed": true
   },
   "outputs": [],
   "source": [
    "import pandas as pd\n",
    "import matplotlib.pyplot as plt\n",
    "from sklearn.model_selection import train_test_split\n",
    "import numpy as np\n",
    "import glob\n",
    "from sklearn.linear_model import LinearRegression\n",
    "from sklearn.metrics import mean_squared_error, r2_score\n",
    "from sklearn.preprocessing import PolynomialFeatures\n",
    "\n",
    "from sklearn.linear_model import LassoCV, Lasso\n",
    "\n",
    "import seaborn as sns\n",
    "\n",
    "%matplotlib inline"
   ]
  },
  {
   "cell_type": "code",
   "execution_count": 7,
   "metadata": {},
   "outputs": [
    {
     "data": {
      "text/html": [
       "<div>\n",
       "<style>\n",
       "    .dataframe thead tr:only-child th {\n",
       "        text-align: right;\n",
       "    }\n",
       "\n",
       "    .dataframe thead th {\n",
       "        text-align: left;\n",
       "    }\n",
       "\n",
       "    .dataframe tbody tr th {\n",
       "        vertical-align: top;\n",
       "    }\n",
       "</style>\n",
       "<table border=\"1\" class=\"dataframe\">\n",
       "  <thead>\n",
       "    <tr style=\"text-align: right;\">\n",
       "      <th></th>\n",
       "      <th>AT</th>\n",
       "      <th>V</th>\n",
       "      <th>AP</th>\n",
       "      <th>RH</th>\n",
       "      <th>PE</th>\n",
       "    </tr>\n",
       "  </thead>\n",
       "  <tbody>\n",
       "    <tr>\n",
       "      <th>0</th>\n",
       "      <td>14.96</td>\n",
       "      <td>41.76</td>\n",
       "      <td>1024.07</td>\n",
       "      <td>73.17</td>\n",
       "      <td>463.26</td>\n",
       "    </tr>\n",
       "    <tr>\n",
       "      <th>1</th>\n",
       "      <td>25.18</td>\n",
       "      <td>62.96</td>\n",
       "      <td>1020.04</td>\n",
       "      <td>59.08</td>\n",
       "      <td>444.37</td>\n",
       "    </tr>\n",
       "    <tr>\n",
       "      <th>2</th>\n",
       "      <td>5.11</td>\n",
       "      <td>39.40</td>\n",
       "      <td>1012.16</td>\n",
       "      <td>92.14</td>\n",
       "      <td>488.56</td>\n",
       "    </tr>\n",
       "    <tr>\n",
       "      <th>3</th>\n",
       "      <td>20.86</td>\n",
       "      <td>57.32</td>\n",
       "      <td>1010.24</td>\n",
       "      <td>76.64</td>\n",
       "      <td>446.48</td>\n",
       "    </tr>\n",
       "    <tr>\n",
       "      <th>4</th>\n",
       "      <td>10.82</td>\n",
       "      <td>37.50</td>\n",
       "      <td>1009.23</td>\n",
       "      <td>96.62</td>\n",
       "      <td>473.90</td>\n",
       "    </tr>\n",
       "  </tbody>\n",
       "</table>\n",
       "</div>"
      ],
      "text/plain": [
       "      AT      V       AP     RH      PE\n",
       "0  14.96  41.76  1024.07  73.17  463.26\n",
       "1  25.18  62.96  1020.04  59.08  444.37\n",
       "2   5.11  39.40  1012.16  92.14  488.56\n",
       "3  20.86  57.32  1010.24  76.64  446.48\n",
       "4  10.82  37.50  1009.23  96.62  473.90"
      ]
     },
     "execution_count": 7,
     "metadata": {},
     "output_type": "execute_result"
    }
   ],
   "source": [
    "df = pd.read_csv(\"data/Combined_Cycle_Power_Plant.csv\")\n",
    "df.head()"
   ]
  },
  {
   "cell_type": "code",
   "execution_count": 4,
   "metadata": {},
   "outputs": [
    {
     "name": "stdout",
     "output_type": "stream",
     "text": [
      "<class 'pandas.core.frame.DataFrame'>\n",
      "RangeIndex: 47840 entries, 0 to 47839\n",
      "Data columns (total 5 columns):\n",
      "AT    47840 non-null float64\n",
      "V     47840 non-null float64\n",
      "AP    47840 non-null float64\n",
      "RH    47840 non-null float64\n",
      "PE    47840 non-null float64\n",
      "dtypes: float64(5)\n",
      "memory usage: 1.8 MB\n"
     ]
    }
   ],
   "source": [
    "df.info()"
   ]
  },
  {
   "cell_type": "code",
   "execution_count": 12,
   "metadata": {},
   "outputs": [
    {
     "data": {
      "text/plain": [
       "<matplotlib.axes._subplots.AxesSubplot at 0x11247c748>"
      ]
     },
     "execution_count": 12,
     "metadata": {},
     "output_type": "execute_result"
    },
    {
     "data": {
      "image/png": "[encoded data removed]",
      "text/plain": [
       "<matplotlib.figure.Figure at 0x116e85080>"
      ]
     },
     "metadata": {},
     "output_type": "display_data"
    }
   ],
   "source": [
    "df.PE.plot.hist(bins = 100, normed = True)\n",
    "df.PE.plot.kde(title = \"Historgram of PE\")"
   ]
  },
  {
   "cell_type": "code",
   "execution_count": 6,
   "metadata": {},
   "outputs": [
    {
     "data": {
      "text/plain": [
       "<matplotlib.figure.Figure at 0x1126f6f98>"
      ]
     },
     "metadata": {},
     "output_type": "display_data"
    },
    {
     "data": {
      "image/png": "[encoded data removed]",
      "text/plain": [
       "<matplotlib.figure.Figure at 0x1121fa3c8>"
      ]
     },
     "metadata": {},
     "output_type": "display_data"
    },
    {
     "data": {
      "image/png": "[encoded data removed]",
      "text/plain": [
       "<matplotlib.figure.Figure at 0x116972d30>"
      ]
     },
     "metadata": {},
     "output_type": "display_data"
    },
    {
     "data": {
      "image/png": "[encoded data removed]",
      "text/plain": [
       "<matplotlib.figure.Figure at 0x1127276d8>"
      ]
     },
     "metadata": {},
     "output_type": "display_data"
    },
    {
     "data": {
      "image/png": "[encoded data removed]",
      "text/plain": [
       "<matplotlib.figure.Figure at 0x11273af98>"
      ]
     },
     "metadata": {},
     "output_type": "display_data"
    }
   ],
   "source": [
    "plt.figure(figsize=(10, 15))\n",
    "for i, v in enumerate([\"AT\", \"V\", \"AP\", \"RH\"]):\n",
    "    df.plot.scatter(x = v, y = \"PE\")"
   ]
  },
  {
   "cell_type": "code",
   "execution_count": 23,
   "metadata": {},
   "outputs": [
    {
     "data": {
      "text/plain": [
       "array([ 0.54340494,  0.27836939,  0.42451759,  0.84477613,  0.00471886])"
      ]
     },
     "execution_count": 23,
     "metadata": {},
     "output_type": "execute_result"
    }
   ],
   "source": [
    "np.random.seed(100)\n",
    "np.random.random(5)"
   ]
  },
  {
   "cell_type": "code",
   "execution_count": 24,
   "metadata": {},
   "outputs": [
    {
     "data": {
      "text/html": [
       "<div>\n",
       "<style>\n",
       "    .dataframe thead tr:only-child th {\n",
       "        text-align: right;\n",
       "    }\n",
       "\n",
       "    .dataframe thead th {\n",
       "        text-align: left;\n",
       "    }\n",
       "\n",
       "    .dataframe tbody tr th {\n",
       "        vertical-align: top;\n",
       "    }\n",
       "</style>\n",
       "<table border=\"1\" class=\"dataframe\">\n",
       "  <thead>\n",
       "    <tr style=\"text-align: right;\">\n",
       "      <th></th>\n",
       "      <th>AT</th>\n",
       "      <th>V</th>\n",
       "      <th>AP</th>\n",
       "      <th>RH</th>\n",
       "      <th>PE</th>\n",
       "    </tr>\n",
       "  </thead>\n",
       "  <tbody>\n",
       "    <tr>\n",
       "      <th>44358</th>\n",
       "      <td>8.64</td>\n",
       "      <td>39.69</td>\n",
       "      <td>1001.57</td>\n",
       "      <td>98.27</td>\n",
       "      <td>473.55</td>\n",
       "    </tr>\n",
       "    <tr>\n",
       "      <th>43620</th>\n",
       "      <td>31.68</td>\n",
       "      <td>68.24</td>\n",
       "      <td>1005.29</td>\n",
       "      <td>37.34</td>\n",
       "      <td>427.22</td>\n",
       "    </tr>\n",
       "    <tr>\n",
       "      <th>2926</th>\n",
       "      <td>20.37</td>\n",
       "      <td>69.48</td>\n",
       "      <td>1011.04</td>\n",
       "      <td>84.31</td>\n",
       "      <td>445.81</td>\n",
       "    </tr>\n",
       "    <tr>\n",
       "      <th>1666</th>\n",
       "      <td>28.57</td>\n",
       "      <td>69.34</td>\n",
       "      <td>1007.98</td>\n",
       "      <td>65.55</td>\n",
       "      <td>439.46</td>\n",
       "    </tr>\n",
       "    <tr>\n",
       "      <th>12013</th>\n",
       "      <td>27.46</td>\n",
       "      <td>61.86</td>\n",
       "      <td>1012.39</td>\n",
       "      <td>66.09</td>\n",
       "      <td>439.72</td>\n",
       "    </tr>\n",
       "    <tr>\n",
       "      <th>9458</th>\n",
       "      <td>21.41</td>\n",
       "      <td>56.90</td>\n",
       "      <td>1007.03</td>\n",
       "      <td>79.41</td>\n",
       "      <td>441.41</td>\n",
       "    </tr>\n",
       "    <tr>\n",
       "      <th>5618</th>\n",
       "      <td>17.99</td>\n",
       "      <td>50.16</td>\n",
       "      <td>1009.98</td>\n",
       "      <td>100.09</td>\n",
       "      <td>451.38</td>\n",
       "    </tr>\n",
       "    <tr>\n",
       "      <th>3979</th>\n",
       "      <td>25.59</td>\n",
       "      <td>61.08</td>\n",
       "      <td>1013.19</td>\n",
       "      <td>77.28</td>\n",
       "      <td>443.91</td>\n",
       "    </tr>\n",
       "    <tr>\n",
       "      <th>45119</th>\n",
       "      <td>14.26</td>\n",
       "      <td>42.32</td>\n",
       "      <td>1016.00</td>\n",
       "      <td>77.43</td>\n",
       "      <td>463.71</td>\n",
       "    </tr>\n",
       "    <tr>\n",
       "      <th>13349</th>\n",
       "      <td>25.72</td>\n",
       "      <td>74.67</td>\n",
       "      <td>1016.64</td>\n",
       "      <td>75.93</td>\n",
       "      <td>434.83</td>\n",
       "    </tr>\n",
       "  </tbody>\n",
       "</table>\n",
       "</div>"
      ],
      "text/plain": [
       "          AT      V       AP      RH      PE\n",
       "44358   8.64  39.69  1001.57   98.27  473.55\n",
       "43620  31.68  68.24  1005.29   37.34  427.22\n",
       "2926   20.37  69.48  1011.04   84.31  445.81\n",
       "1666   28.57  69.34  1007.98   65.55  439.46\n",
       "12013  27.46  61.86  1012.39   66.09  439.72\n",
       "9458   21.41  56.90  1007.03   79.41  441.41\n",
       "5618   17.99  50.16  1009.98  100.09  451.38\n",
       "3979   25.59  61.08  1013.19   77.28  443.91\n",
       "45119  14.26  42.32  1016.00   77.43  463.71\n",
       "13349  25.72  74.67  1016.64   75.93  434.83"
      ]
     },
     "execution_count": 24,
     "metadata": {},
     "output_type": "execute_result"
    }
   ],
   "source": [
    "df.sample(10)"
   ]
  },
  {
   "cell_type": "code",
   "execution_count": 25,
   "metadata": {},
   "outputs": [
    {
     "data": {
      "text/plain": [
       "numpy.ndarray"
      ]
     },
     "execution_count": 25,
     "metadata": {},
     "output_type": "execute_result"
    }
   ],
   "source": [
    "y = df[\"PE\"].values\n",
    "type(y)"
   ]
  },
  {
   "cell_type": "code",
   "execution_count": 26,
   "metadata": {},
   "outputs": [
    {
     "data": {
      "text/plain": [
       "(47840, 1)"
      ]
     },
     "execution_count": 26,
     "metadata": {},
     "output_type": "execute_result"
    }
   ],
   "source": [
    "X = df.iloc[:, 0].values.reshape(-1, 1)\n",
    "X.shape"
   ]
  },
  {
   "cell_type": "code",
   "execution_count": 27,
   "metadata": {
    "collapsed": true
   },
   "outputs": [],
   "source": [
    "X_train, X_test, y_train, y_test = train_test_split(X, y, \n",
    "                                                    test_size = 0.3, random_state = 100)"
   ]
  },
  {
   "cell_type": "code",
   "execution_count": 28,
   "metadata": {},
   "outputs": [
    {
     "data": {
      "text/plain": [
       "((33488, 1), (33488,))"
      ]
     },
     "execution_count": 28,
     "metadata": {},
     "output_type": "execute_result"
    }
   ],
   "source": [
    "X_train.shape, y_train.shape"
   ]
  },
  {
   "cell_type": "code",
   "execution_count": 29,
   "metadata": {},
   "outputs": [
    {
     "data": {
      "text/plain": [
       "((14352, 1), (14352,))"
      ]
     },
     "execution_count": 29,
     "metadata": {},
     "output_type": "execute_result"
    }
   ],
   "source": [
    "X_test.shape, y_test.shape"
   ]
  },
  {
   "cell_type": "code",
   "execution_count": 30,
   "metadata": {},
   "outputs": [
    {
     "data": {
      "text/plain": [
       "0.3"
      ]
     },
     "execution_count": 30,
     "metadata": {},
     "output_type": "execute_result"
    }
   ],
   "source": [
    "14352 / (14352 + 33488)"
   ]
  },
  {
   "cell_type": "code",
   "execution_count": 31,
   "metadata": {},
   "outputs": [
    {
     "data": {
      "text/plain": [
       "LinearRegression(copy_X=True, fit_intercept=True, n_jobs=1, normalize=False)"
      ]
     },
     "execution_count": 31,
     "metadata": {},
     "output_type": "execute_result"
    }
   ],
   "source": [
    "lr = LinearRegression()\n",
    "lr.fit(X_train, y_train)"
   ]
  },
  {
   "cell_type": "code",
   "execution_count": 32,
   "metadata": {},
   "outputs": [
    {
     "data": {
      "text/plain": [
       "(497.09695646539274, array([-2.17472946]))"
      ]
     },
     "execution_count": 32,
     "metadata": {},
     "output_type": "execute_result"
    }
   ],
   "source": [
    "lr.intercept_, lr.coef_"
   ]
  },
  {
   "cell_type": "markdown",
   "metadata": {},
   "source": [
    "PE = 497.09394395697325 -2.17446537 * AT"
   ]
  },
  {
   "cell_type": "code",
   "execution_count": 33,
   "metadata": {
    "collapsed": true
   },
   "outputs": [],
   "source": [
    "y_test_pred = lr.predict(X_test)"
   ]
  },
  {
   "cell_type": "code",
   "execution_count": 34,
   "metadata": {
    "collapsed": true
   },
   "outputs": [],
   "source": [
    "output = pd.DataFrame({\"actual\": y_test, \"prediction\": y_test_pred})"
   ]
  },
  {
   "cell_type": "code",
   "execution_count": 45,
   "metadata": {},
   "outputs": [
    {
     "data": {
      "text/plain": [
       "<matplotlib.collections.LineCollection at 0x117e05da0>"
      ]
     },
     "execution_count": 45,
     "metadata": {},
     "output_type": "execute_result"
    },
    {
     "data": {
      "image/png": "[encoded data removed]",
      "text/plain": [
       "<matplotlib.figure.Figure at 0x1172b3278>"
      ]
     },
     "metadata": {},
     "output_type": "display_data"
    }
   ],
   "source": [
    "mu = y_train.mean()\n",
    "plt.scatter(X_test[:, 0], y_test, alpha = 0.3, c = \"lightblue\")\n",
    "plt.scatter(X_test[:, 0], y_test_pred, c = \"red\")\n",
    "plt.hlines([mu], xmin=0, xmax=40, linestyles = \"--\")"
   ]
  },
  {
   "cell_type": "code",
   "execution_count": 39,
   "metadata": {},
   "outputs": [
    {
     "data": {
      "text/plain": [
       "424666.64234750182"
      ]
     },
     "execution_count": 39,
     "metadata": {},
     "output_type": "execute_result"
    }
   ],
   "source": [
    "ssr = ((y_test_pred - y_test) ** 2).sum()\n",
    "ssr"
   ]
  },
  {
   "cell_type": "code",
   "execution_count": 51,
   "metadata": {},
   "outputs": [
    {
     "data": {
      "text/plain": [
       "3774474.4178588395"
      ]
     },
     "execution_count": 51,
     "metadata": {},
     "output_type": "execute_result"
    }
   ],
   "source": [
    "sst = ((y_test_pred - mu) ** 2).sum()\n",
    "sst"
   ]
  },
  {
   "cell_type": "code",
   "execution_count": 52,
   "metadata": {},
   "outputs": [
    {
     "data": {
      "text/plain": [
       "0.11251013924963998"
      ]
     },
     "execution_count": 52,
     "metadata": {},
     "output_type": "execute_result"
    }
   ],
   "source": [
    "ssr / sst"
   ]
  },
  {
   "cell_type": "code",
   "execution_count": 53,
   "metadata": {},
   "outputs": [
    {
     "data": {
      "text/plain": [
       "29.589370286197173"
      ]
     },
     "execution_count": 53,
     "metadata": {},
     "output_type": "execute_result"
    }
   ],
   "source": [
    "mssr = ssr / y_test.shape[0]\n",
    "mssr"
   ]
  },
  {
   "cell_type": "code",
   "execution_count": 54,
   "metadata": {},
   "outputs": [
    {
     "data": {
      "text/plain": [
       "0.88748986075036007"
      ]
     },
     "execution_count": 54,
     "metadata": {},
     "output_type": "execute_result"
    }
   ],
   "source": [
    "r2 = 1 - ssr / sst\n",
    "r2\n",
    "# r2 can have a max value 1, negative values of R2 means optimal model "
   ]
  },
  {
   "cell_type": "code",
   "execution_count": 55,
   "metadata": {},
   "outputs": [
    {
     "data": {
      "text/plain": [
       "29.589370286197173"
      ]
     },
     "execution_count": 55,
     "metadata": {},
     "output_type": "execute_result"
    }
   ],
   "source": [
    "mean_squared_error(y_test, y_test_pred)"
   ]
  },
  {
   "cell_type": "code",
   "execution_count": 56,
   "metadata": {},
   "outputs": [
    {
     "data": {
      "text/plain": [
       "0.89790502267313754"
      ]
     },
     "execution_count": 56,
     "metadata": {},
     "output_type": "execute_result"
    }
   ],
   "source": [
    "r2_score(y_test, y_test_pred) ## testing set R2"
   ]
  },
  {
   "cell_type": "code",
   "execution_count": 57,
   "metadata": {},
   "outputs": [
    {
     "data": {
      "text/plain": [
       "0.88747772327378094"
      ]
     },
     "execution_count": 57,
     "metadata": {},
     "output_type": "execute_result"
    }
   ],
   "source": [
    "ssr = ((y_test_pred - y_test) ** 2).sum()\n",
    "sst = ((y_test_pred - y_test.mean()) ** 2).sum()\n",
    "\n",
    "1 - ssr/sst"
   ]
  },
  {
   "cell_type": "code",
   "execution_count": 58,
   "metadata": {},
   "outputs": [
    {
     "data": {
      "text/plain": [
       "0.89935947464454047"
      ]
     },
     "execution_count": 58,
     "metadata": {},
     "output_type": "execute_result"
    }
   ],
   "source": [
    "r2_score(y_train, lr.predict(X_train)) #training set R2"
   ]
  },
  {
   "cell_type": "code",
   "execution_count": 59,
   "metadata": {},
   "outputs": [
    {
     "name": "stdout",
     "output_type": "stream",
     "text": [
      "459.963619849 [-1.97868528 -0.23662658  0.05699871 -0.1585371 ]\n"
     ]
    }
   ],
   "source": [
    "X = df.iloc[:, :-1].values\n",
    "y = df.iloc[:, -1].values\n",
    "X_train, X_test, y_train, y_test = train_test_split(X, y, test_size = 0.3)\n",
    "\n",
    "lr = LinearRegression()\n",
    "lr.fit(X_train, y_train)\n",
    "print(lr.intercept_, lr.coef_)\n"
   ]
  },
  {
   "cell_type": "code",
   "execution_count": 60,
   "metadata": {},
   "outputs": [
    {
     "data": {
      "text/html": [
       "<div>\n",
       "<style>\n",
       "    .dataframe thead tr:only-child th {\n",
       "        text-align: right;\n",
       "    }\n",
       "\n",
       "    .dataframe thead th {\n",
       "        text-align: left;\n",
       "    }\n",
       "\n",
       "    .dataframe tbody tr th {\n",
       "        vertical-align: top;\n",
       "    }\n",
       "</style>\n",
       "<table border=\"1\" class=\"dataframe\">\n",
       "  <thead>\n",
       "    <tr style=\"text-align: right;\">\n",
       "      <th></th>\n",
       "      <th>coef</th>\n",
       "      <th>column</th>\n",
       "    </tr>\n",
       "  </thead>\n",
       "  <tbody>\n",
       "    <tr>\n",
       "      <th>0</th>\n",
       "      <td>-1.978685</td>\n",
       "      <td>AT</td>\n",
       "    </tr>\n",
       "    <tr>\n",
       "      <th>1</th>\n",
       "      <td>-1.978685</td>\n",
       "      <td>V</td>\n",
       "    </tr>\n",
       "    <tr>\n",
       "      <th>2</th>\n",
       "      <td>-1.978685</td>\n",
       "      <td>AP</td>\n",
       "    </tr>\n",
       "    <tr>\n",
       "      <th>3</th>\n",
       "      <td>-1.978685</td>\n",
       "      <td>RH</td>\n",
       "    </tr>\n",
       "  </tbody>\n",
       "</table>\n",
       "</div>"
      ],
      "text/plain": [
       "       coef column\n",
       "0 -1.978685     AT\n",
       "1 -1.978685      V\n",
       "2 -1.978685     AP\n",
       "3 -1.978685     RH"
      ]
     },
     "execution_count": 60,
     "metadata": {},
     "output_type": "execute_result"
    }
   ],
   "source": [
    "pd.DataFrame({\"column\": df.columns[:-1], \"coef\": lr.coef_[0]})"
   ]
  },
  {
   "cell_type": "code",
   "execution_count": 61,
   "metadata": {},
   "outputs": [
    {
     "data": {
      "text/plain": [
       "<matplotlib.text.Text at 0x117855208>"
      ]
     },
     "execution_count": 61,
     "metadata": {},
     "output_type": "execute_result"
    },
    {
     "data": {
      "image/png": "[encoded data removed]",
      "text/plain": [
       "<matplotlib.figure.Figure at 0x117d608d0>"
      ]
     },
     "metadata": {},
     "output_type": "display_data"
    }
   ],
   "source": [
    "y_test_pred = lr.predict(X_test)\n",
    "plt.scatter(X_test[:, 0], y_test, alpha = 0.3, c = \"lightblue\")\n",
    "plt.scatter(X_test[:, 0], y_test_pred, c = \"red\")\n",
    "plt.hlines([mu], xmin=0, xmax=35, linestyles = \"--\")\n",
    "plt.xlabel(\"AT\")\n",
    "plt.ylabel(\"PE\")"
   ]
  },
  {
   "cell_type": "code",
   "execution_count": 62,
   "metadata": {},
   "outputs": [
    {
     "data": {
      "text/html": [
       "<div>\n",
       "<style>\n",
       "    .dataframe thead tr:only-child th {\n",
       "        text-align: right;\n",
       "    }\n",
       "\n",
       "    .dataframe thead th {\n",
       "        text-align: left;\n",
       "    }\n",
       "\n",
       "    .dataframe tbody tr th {\n",
       "        vertical-align: top;\n",
       "    }\n",
       "</style>\n",
       "<table border=\"1\" class=\"dataframe\">\n",
       "  <thead>\n",
       "    <tr style=\"text-align: right;\">\n",
       "      <th></th>\n",
       "      <th>actual</th>\n",
       "      <th>pred</th>\n",
       "    </tr>\n",
       "  </thead>\n",
       "  <tbody>\n",
       "    <tr>\n",
       "      <th>3338</th>\n",
       "      <td>440.55</td>\n",
       "      <td>438.346849</td>\n",
       "    </tr>\n",
       "    <tr>\n",
       "      <th>7180</th>\n",
       "      <td>436.13</td>\n",
       "      <td>431.381102</td>\n",
       "    </tr>\n",
       "    <tr>\n",
       "      <th>3261</th>\n",
       "      <td>442.59</td>\n",
       "      <td>437.091991</td>\n",
       "    </tr>\n",
       "    <tr>\n",
       "      <th>13007</th>\n",
       "      <td>456.84</td>\n",
       "      <td>451.452182</td>\n",
       "    </tr>\n",
       "    <tr>\n",
       "      <th>11304</th>\n",
       "      <td>438.40</td>\n",
       "      <td>441.117727</td>\n",
       "    </tr>\n",
       "    <tr>\n",
       "      <th>413</th>\n",
       "      <td>433.35</td>\n",
       "      <td>430.470702</td>\n",
       "    </tr>\n",
       "    <tr>\n",
       "      <th>9326</th>\n",
       "      <td>467.00</td>\n",
       "      <td>468.320716</td>\n",
       "    </tr>\n",
       "    <tr>\n",
       "      <th>5785</th>\n",
       "      <td>449.61</td>\n",
       "      <td>439.915413</td>\n",
       "    </tr>\n",
       "    <tr>\n",
       "      <th>8347</th>\n",
       "      <td>452.03</td>\n",
       "      <td>449.846702</td>\n",
       "    </tr>\n",
       "    <tr>\n",
       "      <th>12504</th>\n",
       "      <td>433.47</td>\n",
       "      <td>428.458012</td>\n",
       "    </tr>\n",
       "  </tbody>\n",
       "</table>\n",
       "</div>"
      ],
      "text/plain": [
       "       actual        pred\n",
       "3338   440.55  438.346849\n",
       "7180   436.13  431.381102\n",
       "3261   442.59  437.091991\n",
       "13007  456.84  451.452182\n",
       "11304  438.40  441.117727\n",
       "413    433.35  430.470702\n",
       "9326   467.00  468.320716\n",
       "5785   449.61  439.915413\n",
       "8347   452.03  449.846702\n",
       "12504  433.47  428.458012"
      ]
     },
     "execution_count": 62,
     "metadata": {},
     "output_type": "execute_result"
    }
   ],
   "source": [
    "y_test_pred = lr.predict(X_test)\n",
    "pd.DataFrame({\"actual\": y_test, \"pred\": y_test_pred}).sample(10)"
   ]
  },
  {
   "cell_type": "code",
   "execution_count": 63,
   "metadata": {},
   "outputs": [
    {
     "data": {
      "text/plain": [
       "20.988368711557602"
      ]
     },
     "execution_count": 63,
     "metadata": {},
     "output_type": "execute_result"
    }
   ],
   "source": [
    "mean_squared_error(y_test, y_test_pred)"
   ]
  },
  {
   "cell_type": "code",
   "execution_count": 64,
   "metadata": {},
   "outputs": [
    {
     "data": {
      "text/plain": [
       "(14352,)"
      ]
     },
     "execution_count": 64,
     "metadata": {},
     "output_type": "execute_result"
    }
   ],
   "source": [
    "y_test.shape"
   ]
  },
  {
   "cell_type": "code",
   "execution_count": 67,
   "metadata": {},
   "outputs": [
    {
     "data": {
      "text/html": [
       "<div>\n",
       "<style>\n",
       "    .dataframe thead tr:only-child th {\n",
       "        text-align: right;\n",
       "    }\n",
       "\n",
       "    .dataframe thead th {\n",
       "        text-align: left;\n",
       "    }\n",
       "\n",
       "    .dataframe tbody tr th {\n",
       "        vertical-align: top;\n",
       "    }\n",
       "</style>\n",
       "<table border=\"1\" class=\"dataframe\">\n",
       "  <thead>\n",
       "    <tr style=\"text-align: right;\">\n",
       "      <th></th>\n",
       "      <th>0</th>\n",
       "      <th>1</th>\n",
       "      <th>2</th>\n",
       "      <th>3</th>\n",
       "      <th>4</th>\n",
       "      <th>5</th>\n",
       "      <th>6</th>\n",
       "      <th>7</th>\n",
       "      <th>8</th>\n",
       "      <th>9</th>\n",
       "      <th>10</th>\n",
       "      <th>11</th>\n",
       "      <th>12</th>\n",
       "      <th>13</th>\n",
       "      <th>14</th>\n",
       "    </tr>\n",
       "  </thead>\n",
       "  <tbody>\n",
       "    <tr>\n",
       "      <th>15287</th>\n",
       "      <td>1.0</td>\n",
       "      <td>26.66</td>\n",
       "      <td>64.27</td>\n",
       "      <td>1012.83</td>\n",
       "      <td>58.88</td>\n",
       "      <td>710.7556</td>\n",
       "      <td>1713.4382</td>\n",
       "      <td>27002.0478</td>\n",
       "      <td>1569.7408</td>\n",
       "      <td>4130.6329</td>\n",
       "      <td>65094.5841</td>\n",
       "      <td>3784.2176</td>\n",
       "      <td>1.025825e+06</td>\n",
       "      <td>59635.4304</td>\n",
       "      <td>3466.8544</td>\n",
       "    </tr>\n",
       "    <tr>\n",
       "      <th>9559</th>\n",
       "      <td>1.0</td>\n",
       "      <td>15.29</td>\n",
       "      <td>38.73</td>\n",
       "      <td>1000.90</td>\n",
       "      <td>81.17</td>\n",
       "      <td>233.7841</td>\n",
       "      <td>592.1817</td>\n",
       "      <td>15303.7610</td>\n",
       "      <td>1241.0893</td>\n",
       "      <td>1500.0129</td>\n",
       "      <td>38764.8570</td>\n",
       "      <td>3143.7141</td>\n",
       "      <td>1.001801e+06</td>\n",
       "      <td>81243.0530</td>\n",
       "      <td>6588.5689</td>\n",
       "    </tr>\n",
       "    <tr>\n",
       "      <th>24404</th>\n",
       "      <td>1.0</td>\n",
       "      <td>25.77</td>\n",
       "      <td>63.31</td>\n",
       "      <td>1012.76</td>\n",
       "      <td>65.98</td>\n",
       "      <td>664.0929</td>\n",
       "      <td>1631.4987</td>\n",
       "      <td>26098.8252</td>\n",
       "      <td>1700.3046</td>\n",
       "      <td>4008.1561</td>\n",
       "      <td>64117.8356</td>\n",
       "      <td>4177.1938</td>\n",
       "      <td>1.025683e+06</td>\n",
       "      <td>66821.9048</td>\n",
       "      <td>4353.3604</td>\n",
       "    </tr>\n",
       "    <tr>\n",
       "      <th>22602</th>\n",
       "      <td>1.0</td>\n",
       "      <td>12.25</td>\n",
       "      <td>41.38</td>\n",
       "      <td>1021.81</td>\n",
       "      <td>59.00</td>\n",
       "      <td>150.0625</td>\n",
       "      <td>506.9050</td>\n",
       "      <td>12517.1725</td>\n",
       "      <td>722.7500</td>\n",
       "      <td>1712.3044</td>\n",
       "      <td>42282.4978</td>\n",
       "      <td>2441.4200</td>\n",
       "      <td>1.044096e+06</td>\n",
       "      <td>60286.7900</td>\n",
       "      <td>3481.0000</td>\n",
       "    </tr>\n",
       "    <tr>\n",
       "      <th>9865</th>\n",
       "      <td>1.0</td>\n",
       "      <td>20.62</td>\n",
       "      <td>43.43</td>\n",
       "      <td>1009.93</td>\n",
       "      <td>64.02</td>\n",
       "      <td>425.1844</td>\n",
       "      <td>895.5266</td>\n",
       "      <td>20824.7566</td>\n",
       "      <td>1320.0924</td>\n",
       "      <td>1886.1649</td>\n",
       "      <td>43861.2599</td>\n",
       "      <td>2780.3886</td>\n",
       "      <td>1.019959e+06</td>\n",
       "      <td>64655.7186</td>\n",
       "      <td>4098.5604</td>\n",
       "    </tr>\n",
       "    <tr>\n",
       "      <th>284</th>\n",
       "      <td>1.0</td>\n",
       "      <td>27.90</td>\n",
       "      <td>63.13</td>\n",
       "      <td>1011.80</td>\n",
       "      <td>70.04</td>\n",
       "      <td>778.4100</td>\n",
       "      <td>1761.3270</td>\n",
       "      <td>28229.2200</td>\n",
       "      <td>1954.1160</td>\n",
       "      <td>3985.3969</td>\n",
       "      <td>63874.9340</td>\n",
       "      <td>4421.6252</td>\n",
       "      <td>1.023739e+06</td>\n",
       "      <td>70866.4720</td>\n",
       "      <td>4905.6016</td>\n",
       "    </tr>\n",
       "    <tr>\n",
       "      <th>16283</th>\n",
       "      <td>1.0</td>\n",
       "      <td>14.75</td>\n",
       "      <td>41.16</td>\n",
       "      <td>1009.58</td>\n",
       "      <td>86.96</td>\n",
       "      <td>217.5625</td>\n",
       "      <td>607.1100</td>\n",
       "      <td>14891.3050</td>\n",
       "      <td>1282.6600</td>\n",
       "      <td>1694.1456</td>\n",
       "      <td>41554.3128</td>\n",
       "      <td>3579.2736</td>\n",
       "      <td>1.019252e+06</td>\n",
       "      <td>87793.0768</td>\n",
       "      <td>7562.0416</td>\n",
       "    </tr>\n",
       "    <tr>\n",
       "      <th>4375</th>\n",
       "      <td>1.0</td>\n",
       "      <td>12.00</td>\n",
       "      <td>41.50</td>\n",
       "      <td>1013.21</td>\n",
       "      <td>86.75</td>\n",
       "      <td>144.0000</td>\n",
       "      <td>498.0000</td>\n",
       "      <td>12158.5200</td>\n",
       "      <td>1041.0000</td>\n",
       "      <td>1722.2500</td>\n",
       "      <td>42048.2150</td>\n",
       "      <td>3600.1250</td>\n",
       "      <td>1.026595e+06</td>\n",
       "      <td>87895.9675</td>\n",
       "      <td>7525.5625</td>\n",
       "    </tr>\n",
       "    <tr>\n",
       "      <th>13824</th>\n",
       "      <td>1.0</td>\n",
       "      <td>13.80</td>\n",
       "      <td>44.34</td>\n",
       "      <td>1019.43</td>\n",
       "      <td>66.74</td>\n",
       "      <td>190.4400</td>\n",
       "      <td>611.8920</td>\n",
       "      <td>14068.1340</td>\n",
       "      <td>921.0120</td>\n",
       "      <td>1966.0356</td>\n",
       "      <td>45201.5262</td>\n",
       "      <td>2959.2516</td>\n",
       "      <td>1.039238e+06</td>\n",
       "      <td>68036.7582</td>\n",
       "      <td>4454.2276</td>\n",
       "    </tr>\n",
       "    <tr>\n",
       "      <th>14705</th>\n",
       "      <td>1.0</td>\n",
       "      <td>24.67</td>\n",
       "      <td>69.14</td>\n",
       "      <td>1006.25</td>\n",
       "      <td>88.51</td>\n",
       "      <td>608.6089</td>\n",
       "      <td>1705.6838</td>\n",
       "      <td>24824.1875</td>\n",
       "      <td>2183.5417</td>\n",
       "      <td>4780.3396</td>\n",
       "      <td>69572.1250</td>\n",
       "      <td>6119.5814</td>\n",
       "      <td>1.012539e+06</td>\n",
       "      <td>89063.1875</td>\n",
       "      <td>7834.0201</td>\n",
       "    </tr>\n",
       "  </tbody>\n",
       "</table>\n",
       "</div>"
      ],
      "text/plain": [
       "        0      1      2        3      4         5          6           7   \\\n",
       "15287  1.0  26.66  64.27  1012.83  58.88  710.7556  1713.4382  27002.0478   \n",
       "9559   1.0  15.29  38.73  1000.90  81.17  233.7841   592.1817  15303.7610   \n",
       "24404  1.0  25.77  63.31  1012.76  65.98  664.0929  1631.4987  26098.8252   \n",
       "22602  1.0  12.25  41.38  1021.81  59.00  150.0625   506.9050  12517.1725   \n",
       "9865   1.0  20.62  43.43  1009.93  64.02  425.1844   895.5266  20824.7566   \n",
       "284    1.0  27.90  63.13  1011.80  70.04  778.4100  1761.3270  28229.2200   \n",
       "16283  1.0  14.75  41.16  1009.58  86.96  217.5625   607.1100  14891.3050   \n",
       "4375   1.0  12.00  41.50  1013.21  86.75  144.0000   498.0000  12158.5200   \n",
       "13824  1.0  13.80  44.34  1019.43  66.74  190.4400   611.8920  14068.1340   \n",
       "14705  1.0  24.67  69.14  1006.25  88.51  608.6089  1705.6838  24824.1875   \n",
       "\n",
       "              8          9           10         11            12          13  \\\n",
       "15287  1569.7408  4130.6329  65094.5841  3784.2176  1.025825e+06  59635.4304   \n",
       "9559   1241.0893  1500.0129  38764.8570  3143.7141  1.001801e+06  81243.0530   \n",
       "24404  1700.3046  4008.1561  64117.8356  4177.1938  1.025683e+06  66821.9048   \n",
       "22602   722.7500  1712.3044  42282.4978  2441.4200  1.044096e+06  60286.7900   \n",
       "9865   1320.0924  1886.1649  43861.2599  2780.3886  1.019959e+06  64655.7186   \n",
       "284    1954.1160  3985.3969  63874.9340  4421.6252  1.023739e+06  70866.4720   \n",
       "16283  1282.6600  1694.1456  41554.3128  3579.2736  1.019252e+06  87793.0768   \n",
       "4375   1041.0000  1722.2500  42048.2150  3600.1250  1.026595e+06  87895.9675   \n",
       "13824   921.0120  1966.0356  45201.5262  2959.2516  1.039238e+06  68036.7582   \n",
       "14705  2183.5417  4780.3396  69572.1250  6119.5814  1.012539e+06  89063.1875   \n",
       "\n",
       "              14  \n",
       "15287  3466.8544  \n",
       "9559   6588.5689  \n",
       "24404  4353.3604  \n",
       "22602  3481.0000  \n",
       "9865   4098.5604  \n",
       "284    4905.6016  \n",
       "16283  7562.0416  \n",
       "4375   7525.5625  \n",
       "13824  4454.2276  \n",
       "14705  7834.0201  "
      ]
     },
     "execution_count": 67,
     "metadata": {},
     "output_type": "execute_result"
    }
   ],
   "source": [
    "poly = PolynomialFeatures(degree=2)\n",
    "X_train_poly = poly.fit_transform(X_train)\n",
    "pd.DataFrame(X_train_poly).sample(10)"
   ]
  },
  {
   "cell_type": "code",
   "execution_count": 68,
   "metadata": {},
   "outputs": [
    {
     "data": {
      "text/plain": [
       "(33488, 15)"
      ]
     },
     "execution_count": 68,
     "metadata": {},
     "output_type": "execute_result"
    }
   ],
   "source": [
    "X_train_poly.shape"
   ]
  },
  {
   "cell_type": "code",
   "execution_count": 69,
   "metadata": {},
   "outputs": [
    {
     "data": {
      "text/plain": [
       "LinearRegression(copy_X=True, fit_intercept=True, n_jobs=1, normalize=False)"
      ]
     },
     "execution_count": 69,
     "metadata": {},
     "output_type": "execute_result"
    }
   ],
   "source": [
    "lr.fit(X_train_poly, y_train)"
   ]
  },
  {
   "cell_type": "code",
   "execution_count": 70,
   "metadata": {},
   "outputs": [
    {
     "data": {
      "text/plain": [
       "0.93665696550963695"
      ]
     },
     "execution_count": 70,
     "metadata": {},
     "output_type": "execute_result"
    }
   ],
   "source": [
    "lr.score(poly.transform(X_test), y_test)"
   ]
  },
  {
   "cell_type": "code",
   "execution_count": 71,
   "metadata": {},
   "outputs": [
    {
     "data": {
      "text/plain": [
       "array([  0.00000000e+00,  -4.98081192e+00,  -3.42824356e+00,\n",
       "         1.62901563e+01,   4.30953523e+00,   1.65369165e-02,\n",
       "         1.13326254e-02,   2.32500581e-03,  -5.99579385e-03,\n",
       "        -1.00797298e-03,   2.94515690e-03,   3.91496430e-04,\n",
       "        -7.93326850e-03,  -4.00138177e-03,  -1.92607583e-03])"
      ]
     },
     "execution_count": 71,
     "metadata": {},
     "output_type": "execute_result"
    }
   ],
   "source": [
    "lr.coef_"
   ]
  },
  {
   "cell_type": "code",
   "execution_count": 72,
   "metadata": {
    "collapsed": true
   },
   "outputs": [],
   "source": [
    "np.set_printoptions(suppress=True, precision=5)"
   ]
  },
  {
   "cell_type": "code",
   "execution_count": 154,
   "metadata": {},
   "outputs": [
    {
     "data": {
      "text/plain": [
       "8.8533008839120531e-05"
      ]
     },
     "execution_count": 154,
     "metadata": {},
     "output_type": "execute_result"
    }
   ],
   "source": [
    "lassocv.alpha_"
   ]
  },
  {
   "cell_type": "code",
   "execution_count": 168,
   "metadata": {},
   "outputs": [
    {
     "name": "stdout",
     "output_type": "stream",
     "text": [
      "Features:  [ 0.      -2.65805 -0.10337  0.08358  0.       0.02033  0.      -0.      -0.\n",
      " -0.      -0.      -0.00232  0.       0.      -0.     ] alpha:  8.85330088391e-05 \n",
      "R2 score:  0.934970853198\n"
     ]
    }
   ],
   "source": [
    "lassocv = LassoCV(cv = 5, max_iter=10000, tol=1e-5, normalize=True)\n",
    "lassocv.fit(X_train_poly, y_train)\n",
    "lasso = Lasso(alpha=lassocv.alpha_, max_iter=10000, normalize=True, random_state=100)\n",
    "lasso.fit(X_train_poly, y_train)\n",
    "print(\"Features: \", lasso.coef_, \"alpha: \",lassocv.alpha_\n",
    "      ,  \"\\nR2 score: \", lasso.score(poly.transform(X_test), y_test)) "
   ]
  },
  {
   "cell_type": "code",
   "execution_count": 171,
   "metadata": {},
   "outputs": [
    {
     "name": "stdout",
     "output_type": "stream",
     "text": [
      "Features:  [ 0.      -2.69082 -0.24818  0.08752  0.14584  0.01844  0.00456  0.\n",
      " -0.00151 -0.00001  0.      -0.00177 -0.      -0.      -0.001  ] alpha:  \n",
      "R2 score:  0.935476937984\n"
     ]
    }
   ],
   "source": [
    "lasso = Lasso(alpha=1e-5, max_iter=10000, normalize=True, random_state=100)\n",
    "lasso.fit(X_train_poly, y_train)\n",
    "print(\"Features: \", lasso.coef_, \"alpha: \"\n",
    "      ,  \"\\nR2 score: \", lasso.score(poly.transform(X_test), y_test))"
   ]
  },
  {
   "cell_type": "code",
   "execution_count": 165,
   "metadata": {},
   "outputs": [
    {
     "data": {
      "text/plain": [
       "<matplotlib.text.Text at 0x1128584e0>"
      ]
     },
     "execution_count": 165,
     "metadata": {},
     "output_type": "execute_result"
    },
    {
     "data": {
      "image/png": "[encoded data removed]",
      "text/plain": [
       "<matplotlib.figure.Figure at 0x112527358>"
      ]
     },
     "metadata": {},
     "output_type": "display_data"
    }
   ],
   "source": [
    "coefs = []\n",
    "alphas = 10 ** np.linspace(-5, 5, 200)\n",
    "for alpha in alphas:\n",
    "    lasso = Lasso(alpha=alpha, max_iter=10000, tol=1e-5,\n",
    "                  normalize=True, random_state=100)\n",
    "    lasso.fit(X_train_poly, y_train)\n",
    "    coefs.append(lasso.coef_)\n",
    "\n",
    "plt.plot(alphas, coefs)\n",
    "plt.xscale(\"log\")\n",
    "plt.xlabel(\"Alpha (penalty term on the coefficients)\")\n",
    "plt.ylabel(\"Coefficients of the features\")\n",
    "    "
   ]
  },
  {
   "cell_type": "markdown",
   "metadata": {},
   "source": [
    "# Exercise 4: Advanced Regression Problem\n",
    "\n",
    "Use housing the data form Kaggle \n",
    "\n",
    "1. Apply linear regression model to predict the SalePrice. \n",
    "Use seed as 100, and build model on the nueric features alone.\n",
    "report out the R2 value and MSE\n",
    "\n",
    "2. Apply Lasso on the model on the same set of numeric features and find R2 and MSE. \n",
    "Find out which features are significant.  \n",
    "\n",
    "\n"
   ]
  },
  {
   "cell_type": "code",
   "execution_count": 173,
   "metadata": {},
   "outputs": [
    {
     "name": "stdout",
     "output_type": "stream",
     "text": [
      "<class 'pandas.core.frame.DataFrame'>\n",
      "RangeIndex: 1460 entries, 0 to 1459\n",
      "Data columns (total 81 columns):\n",
      "Id               1460 non-null int64\n",
      "MSSubClass       1460 non-null int64\n",
      "MSZoning         1460 non-null object\n",
      "LotFrontage      1201 non-null float64\n",
      "LotArea          1460 non-null int64\n",
      "Street           1460 non-null object\n",
      "Alley            91 non-null object\n",
      "LotShape         1460 non-null object\n",
      "LandContour      1460 non-null object\n",
      "Utilities        1460 non-null object\n",
      "LotConfig        1460 non-null object\n",
      "LandSlope        1460 non-null object\n",
      "Neighborhood     1460 non-null object\n",
      "Condition1       1460 non-null object\n",
      "Condition2       1460 non-null object\n",
      "BldgType         1460 non-null object\n",
      "HouseStyle       1460 non-null object\n",
      "OverallQual      1460 non-null int64\n",
      "OverallCond      1460 non-null int64\n",
      "YearBuilt        1460 non-null int64\n",
      "YearRemodAdd     1460 non-null int64\n",
      "RoofStyle        1460 non-null object\n",
      "RoofMatl         1460 non-null object\n",
      "Exterior1st      1460 non-null object\n",
      "Exterior2nd      1460 non-null object\n",
      "MasVnrType       1452 non-null object\n",
      "MasVnrArea       1452 non-null float64\n",
      "ExterQual        1460 non-null object\n",
      "ExterCond        1460 non-null object\n",
      "Foundation       1460 non-null object\n",
      "BsmtQual         1423 non-null object\n",
      "BsmtCond         1423 non-null object\n",
      "BsmtExposure     1422 non-null object\n",
      "BsmtFinType1     1423 non-null object\n",
      "BsmtFinSF1       1460 non-null int64\n",
      "BsmtFinType2     1422 non-null object\n",
      "BsmtFinSF2       1460 non-null int64\n",
      "BsmtUnfSF        1460 non-null int64\n",
      "TotalBsmtSF      1460 non-null int64\n",
      "Heating          1460 non-null object\n",
      "HeatingQC        1460 non-null object\n",
      "CentralAir       1460 non-null object\n",
      "Electrical       1459 non-null object\n",
      "1stFlrSF         1460 non-null int64\n",
      "2ndFlrSF         1460 non-null int64\n",
      "LowQualFinSF     1460 non-null int64\n",
      "GrLivArea        1460 non-null int64\n",
      "BsmtFullBath     1460 non-null int64\n",
      "BsmtHalfBath     1460 non-null int64\n",
      "FullBath         1460 non-null int64\n",
      "HalfBath         1460 non-null int64\n",
      "BedroomAbvGr     1460 non-null int64\n",
      "KitchenAbvGr     1460 non-null int64\n",
      "KitchenQual      1460 non-null object\n",
      "TotRmsAbvGrd     1460 non-null int64\n",
      "Functional       1460 non-null object\n",
      "Fireplaces       1460 non-null int64\n",
      "FireplaceQu      770 non-null object\n",
      "GarageType       1379 non-null object\n",
      "GarageYrBlt      1379 non-null float64\n",
      "GarageFinish     1379 non-null object\n",
      "GarageCars       1460 non-null int64\n",
      "GarageArea       1460 non-null int64\n",
      "GarageQual       1379 non-null object\n",
      "GarageCond       1379 non-null object\n",
      "PavedDrive       1460 non-null object\n",
      "WoodDeckSF       1460 non-null int64\n",
      "OpenPorchSF      1460 non-null int64\n",
      "EnclosedPorch    1460 non-null int64\n",
      "3SsnPorch        1460 non-null int64\n",
      "ScreenPorch      1460 non-null int64\n",
      "PoolArea         1460 non-null int64\n",
      "PoolQC           7 non-null object\n",
      "Fence            281 non-null object\n",
      "MiscFeature      54 non-null object\n",
      "MiscVal          1460 non-null int64\n",
      "MoSold           1460 non-null int64\n",
      "YrSold           1460 non-null int64\n",
      "SaleType         1460 non-null object\n",
      "SaleCondition    1460 non-null object\n",
      "SalePrice        1460 non-null int64\n",
      "dtypes: float64(3), int64(35), object(43)\n",
      "memory usage: 924.0+ KB\n"
     ]
    }
   ],
   "source": [
    "df = pd.read_csv(\"../data/kaggle-house-prices/train.csv\")\n",
    "df.info()"
   ]
  },
  {
   "cell_type": "code",
   "execution_count": 176,
   "metadata": {},
   "outputs": [
    {
     "name": "stdout",
     "output_type": "stream",
     "text": [
      "<class 'pandas.core.frame.DataFrame'>\n",
      "RangeIndex: 1460 entries, 0 to 1459\n",
      "Data columns (total 38 columns):\n",
      "Id               1460 non-null int64\n",
      "MSSubClass       1460 non-null int64\n",
      "LotFrontage      1201 non-null float64\n",
      "LotArea          1460 non-null int64\n",
      "OverallQual      1460 non-null int64\n",
      "OverallCond      1460 non-null int64\n",
      "YearBuilt        1460 non-null int64\n",
      "YearRemodAdd     1460 non-null int64\n",
      "MasVnrArea       1452 non-null float64\n",
      "BsmtFinSF1       1460 non-null int64\n",
      "BsmtFinSF2       1460 non-null int64\n",
      "BsmtUnfSF        1460 non-null int64\n",
      "TotalBsmtSF      1460 non-null int64\n",
      "1stFlrSF         1460 non-null int64\n",
      "2ndFlrSF         1460 non-null int64\n",
      "LowQualFinSF     1460 non-null int64\n",
      "GrLivArea        1460 non-null int64\n",
      "BsmtFullBath     1460 non-null int64\n",
      "BsmtHalfBath     1460 non-null int64\n",
      "FullBath         1460 non-null int64\n",
      "HalfBath         1460 non-null int64\n",
      "BedroomAbvGr     1460 non-null int64\n",
      "KitchenAbvGr     1460 non-null int64\n",
      "TotRmsAbvGrd     1460 non-null int64\n",
      "Fireplaces       1460 non-null int64\n",
      "GarageYrBlt      1379 non-null float64\n",
      "GarageCars       1460 non-null int64\n",
      "GarageArea       1460 non-null int64\n",
      "WoodDeckSF       1460 non-null int64\n",
      "OpenPorchSF      1460 non-null int64\n",
      "EnclosedPorch    1460 non-null int64\n",
      "3SsnPorch        1460 non-null int64\n",
      "ScreenPorch      1460 non-null int64\n",
      "PoolArea         1460 non-null int64\n",
      "MiscVal          1460 non-null int64\n",
      "MoSold           1460 non-null int64\n",
      "YrSold           1460 non-null int64\n",
      "SalePrice        1460 non-null int64\n",
      "dtypes: float64(3), int64(35)\n",
      "memory usage: 433.5 KB\n"
     ]
    }
   ],
   "source": [
    "df_numeric = df.select_dtypes([np.float64, np.int64])\n",
    "df_numeric.info()"
   ]
  },
  {
   "cell_type": "code",
   "execution_count": 192,
   "metadata": {
    "collapsed": true
   },
   "outputs": [],
   "source": [
    "df_numeric = df_numeric.fillna(df_numeric.median())"
   ]
  },
  {
   "cell_type": "code",
   "execution_count": 194,
   "metadata": {
    "collapsed": true
   },
   "outputs": [],
   "source": [
    "if \"Id\" in df_numeric.columns:\n",
    "    del df_numeric[\"Id\"]"
   ]
  },
  {
   "cell_type": "code",
   "execution_count": 367,
   "metadata": {
    "collapsed": true
   },
   "outputs": [],
   "source": [
    "X, y = df_numeric.iloc[:, :-1],  df_numeric.iloc[:, -1]"
   ]
  },
  {
   "cell_type": "code",
   "execution_count": 368,
   "metadata": {
    "collapsed": true
   },
   "outputs": [],
   "source": [
    "X_train, X_test, y_train, y_test = train_test_split(X.values, y.values, \n",
    "                                                    test_size = 0.3, random_state = 123)"
   ]
  },
  {
   "cell_type": "code",
   "execution_count": 369,
   "metadata": {},
   "outputs": [
    {
     "data": {
      "text/plain": [
       "0.84089024129623291"
      ]
     },
     "execution_count": 369,
     "metadata": {},
     "output_type": "execute_result"
    }
   ],
   "source": [
    "lr = LinearRegression()\n",
    "lr.fit(X_train, y_train)\n",
    "lr.score(X_test, y_test)"
   ]
  },
  {
   "cell_type": "code",
   "execution_count": 372,
   "metadata": {},
   "outputs": [
    {
     "data": {
      "text/plain": [
       "16752.756460072898"
      ]
     },
     "execution_count": 372,
     "metadata": {},
     "output_type": "execute_result"
    }
   ],
   "source": [
    "from sklearn.model_selection import cross_val_score, KFold\n",
    "scores = cross_val_score(cv=5, estimator=LinearRegression(), \n",
    "                         scoring= metrics.make_scorer(metrics.median_absolute_error), \n",
    "                         X=X_train, y=y_train)\n",
    "scores.mean()"
   ]
  },
  {
   "cell_type": "code",
   "execution_count": 230,
   "metadata": {},
   "outputs": [
    {
     "name": "stdout",
     "output_type": "stream",
     "text": [
      "Features:  [  -1.03807   -0.         0.2543     0.         0.       342.60051\n",
      "  125.76898   36.30842   10.16317   -0.         0.        33.17161\n",
      "    6.11612    7.93248   -0.        55.70217    0.        -0.         0.\n",
      "    0.        -0.        -0.         0.         0.         0.         0.\n",
      "   67.58039   34.19014    0.        -0.         0.         0.        -0.\n",
      "   -5.23374    0.        -0.     ] alpha:  131.676891221 \n",
      "R2 score:  0.813145915129\n"
     ]
    }
   ],
   "source": [
    "lassocv = LassoCV(cv = 5, max_iter=10000, normalize=True, tol=1e-6)\n",
    "lassocv.fit(X_train, y_train)\n",
    "print(\"Features: \", lasso.coef_, \"alpha: \",lassocv.alpha_\n",
    "      ,  \"\\nR2 score: \", lassocv.score(X_test, y_test))"
   ]
  },
  {
   "cell_type": "code",
   "execution_count": 305,
   "metadata": {},
   "outputs": [
    {
     "data": {
      "text/plain": [
       "(array([   -70.75258,      0.     ,      0.12191,  20656.13644,\n",
       "             0.     ,    150.37845,    204.31567,     16.6034 ,\n",
       "            11.0479 ,      0.     ,     -0.     ,      6.32843,\n",
       "             9.67781,      0.     ,     -0.     ,     38.4906 ,\n",
       "          2380.93555,      0.     ,      0.     ,      0.     ,\n",
       "            -0.     ,     -0.     ,      0.     ,   4522.7387 ,\n",
       "             0.     ,  11794.81555,      0.     ,     12.97316,\n",
       "             0.     ,     -0.     ,      0.     ,      0.     ,\n",
       "            -0.     ,     -0.     ,      0.     ,     -0.     ]), 45)"
      ]
     },
     "execution_count": 305,
     "metadata": {},
     "output_type": "execute_result"
    }
   ],
   "source": [
    "lassocv.coef_, lassocv.n_iter_"
   ]
  },
  {
   "cell_type": "code",
   "execution_count": 252,
   "metadata": {},
   "outputs": [
    {
     "data": {
      "text/plain": [
       "['MSSubClass',\n",
       " 'LotArea',\n",
       " 'OverallQual',\n",
       " 'YearBuilt',\n",
       " 'YearRemodAdd',\n",
       " 'MasVnrArea',\n",
       " 'BsmtFinSF1',\n",
       " 'TotalBsmtSF',\n",
       " '1stFlrSF',\n",
       " 'GrLivArea',\n",
       " 'BsmtFullBath',\n",
       " 'Fireplaces',\n",
       " 'GarageCars',\n",
       " 'WoodDeckSF']"
      ]
     },
     "execution_count": 252,
     "metadata": {},
     "output_type": "execute_result"
    }
   ],
   "source": [
    "coefficients = pd.DataFrame({\"field\": df_numeric.columns[:-1], \"coefficient\": lassocv.coef_})\n",
    "significant_fields = list(coefficients[coefficients.coefficient != 0].field)\n",
    "significant_fields"
   ]
  },
  {
   "cell_type": "code",
   "execution_count": 253,
   "metadata": {},
   "outputs": [
    {
     "data": {
      "text/plain": [
       "<matplotlib.axes._subplots.AxesSubplot at 0x114f74048>"
      ]
     },
     "execution_count": 253,
     "metadata": {},
     "output_type": "execute_result"
    },
    {
     "data": {
      "image/png": "[encoded data removed]",
      "text/plain": [
       "<matplotlib.figure.Figure at 0x10812b710>"
      ]
     },
     "metadata": {},
     "output_type": "display_data"
    }
   ],
   "source": [
    "significant_fields.append(\"SalePrice\")\n",
    "df_mini = df[significant_fields]\n",
    "sns.heatmap(df_mini.corr())"
   ]
  },
  {
   "cell_type": "code",
   "execution_count": 304,
   "metadata": {},
   "outputs": [
    {
     "name": "stderr",
     "output_type": "stream",
     "text": [
      "/Library/Frameworks/Python.framework/Versions/3.5/lib/python3.5/site-packages/sklearn/linear_model/coordinate_descent.py:484: ConvergenceWarning: Objective did not converge. You might want to increase the number of iterations. Fitting data with very small alpha may cause precision problems.\n",
      "  ConvergenceWarning)\n"
     ]
    },
    {
     "data": {
      "text/plain": [
       "<matplotlib.text.Text at 0x115aba908>"
      ]
     },
     "execution_count": 304,
     "metadata": {},
     "output_type": "execute_result"
    },
    {
     "data": {
      "image/png": "[encoded data removed]",
      "text/plain": [
       "<matplotlib.figure.Figure at 0x1133c3f28>"
      ]
     },
     "metadata": {},
     "output_type": "display_data"
    }
   ],
   "source": [
    "from sklearn import linear_model\n",
    "from sklearn import metrics\n",
    "from sklearn import tree\n",
    "from sklearn import ensemble\n",
    "from sklearn import neighbors\n",
    "\n",
    "rs = 1\n",
    "ests = [ \n",
    "    linear_model.LinearRegression(), \n",
    "    linear_model.Ridge(),    \n",
    "    linear_model.Lasso(), \n",
    "    linear_model.ElasticNet(),\n",
    "    linear_model.BayesianRidge(),\n",
    "    linear_model.OrthogonalMatchingPursuit(),\n",
    "    tree.DecisionTreeRegressor(max_depth=10),\n",
    "    ensemble.RandomForestRegressor(),\n",
    "    neighbors.KNeighborsRegressor(n_neighbors=5),\n",
    "    ensemble.GradientBoostingRegressor(n_estimators=300, max_depth=4, learning_rate=0.01,loss=\"ls\")\n",
    "]\n",
    "\n",
    "ests_labels = ['Linear', \n",
    "               'Ridge', \n",
    "               'Lasso',\n",
    "               'ElasticNet',\n",
    "               'BayesRidge',\n",
    "               'OMP',\n",
    "               'DecisionTree',\n",
    "               'RandomForest',\n",
    "               'KNN',\n",
    "               'GradientBoostingRegressor']\n",
    "\n",
    "errvals = []\n",
    "\n",
    "for e in ests:\n",
    "    e.fit(X_train, y_train)\n",
    "    err = metrics.median_absolute_error(y_test, e.predict(X_test))\n",
    "    errvals.append(err)\n",
    "\n",
    "\n",
    "pos = range(len(errvals))\n",
    "plt.figure(figsize=(10,5))\n",
    "plt.bar(pos, errvals, align='center')\n",
    "plt.xticks(pos, ests_labels, rotation = 90)\n",
    "plt.xlabel('Estimator')\n",
    "plt.ylabel('Median Absolute Error')\n",
    "\n",
    "    "
   ]
  },
  {
   "cell_type": "code",
   "execution_count": 334,
   "metadata": {},
   "outputs": [
    {
     "data": {
      "text/html": [
       "<div>\n",
       "<table border=\"1\" class=\"dataframe\">\n",
       "  <thead>\n",
       "    <tr style=\"text-align: right;\">\n",
       "      <th></th>\n",
       "      <th>feature</th>\n",
       "      <th>importance</th>\n",
       "    </tr>\n",
       "  </thead>\n",
       "  <tbody>\n",
       "    <tr>\n",
       "      <th>32</th>\n",
       "      <td>PoolArea</td>\n",
       "      <td>0.000319</td>\n",
       "    </tr>\n",
       "    <tr>\n",
       "      <th>30</th>\n",
       "      <td>3SsnPorch</td>\n",
       "      <td>0.001443</td>\n",
       "    </tr>\n",
       "    <tr>\n",
       "      <th>14</th>\n",
       "      <td>LowQualFinSF</td>\n",
       "      <td>0.002590</td>\n",
       "    </tr>\n",
       "    <tr>\n",
       "      <th>33</th>\n",
       "      <td>MiscVal</td>\n",
       "      <td>0.002866</td>\n",
       "    </tr>\n",
       "    <tr>\n",
       "      <th>17</th>\n",
       "      <td>BsmtHalfBath</td>\n",
       "      <td>0.003418</td>\n",
       "    </tr>\n",
       "    <tr>\n",
       "      <th>21</th>\n",
       "      <td>KitchenAbvGr</td>\n",
       "      <td>0.005081</td>\n",
       "    </tr>\n",
       "    <tr>\n",
       "      <th>19</th>\n",
       "      <td>HalfBath</td>\n",
       "      <td>0.005370</td>\n",
       "    </tr>\n",
       "    <tr>\n",
       "      <th>16</th>\n",
       "      <td>BsmtFullBath</td>\n",
       "      <td>0.006458</td>\n",
       "    </tr>\n",
       "    <tr>\n",
       "      <th>9</th>\n",
       "      <td>BsmtFinSF2</td>\n",
       "      <td>0.008288</td>\n",
       "    </tr>\n",
       "    <tr>\n",
       "      <th>29</th>\n",
       "      <td>EnclosedPorch</td>\n",
       "      <td>0.009122</td>\n",
       "    </tr>\n",
       "    <tr>\n",
       "      <th>22</th>\n",
       "      <td>TotRmsAbvGrd</td>\n",
       "      <td>0.009622</td>\n",
       "    </tr>\n",
       "    <tr>\n",
       "      <th>18</th>\n",
       "      <td>FullBath</td>\n",
       "      <td>0.010185</td>\n",
       "    </tr>\n",
       "    <tr>\n",
       "      <th>20</th>\n",
       "      <td>BedroomAbvGr</td>\n",
       "      <td>0.010420</td>\n",
       "    </tr>\n",
       "    <tr>\n",
       "      <th>31</th>\n",
       "      <td>ScreenPorch</td>\n",
       "      <td>0.012369</td>\n",
       "    </tr>\n",
       "    <tr>\n",
       "      <th>25</th>\n",
       "      <td>GarageCars</td>\n",
       "      <td>0.013173</td>\n",
       "    </tr>\n",
       "    <tr>\n",
       "      <th>23</th>\n",
       "      <td>Fireplaces</td>\n",
       "      <td>0.014177</td>\n",
       "    </tr>\n",
       "    <tr>\n",
       "      <th>0</th>\n",
       "      <td>MSSubClass</td>\n",
       "      <td>0.014848</td>\n",
       "    </tr>\n",
       "    <tr>\n",
       "      <th>35</th>\n",
       "      <td>YrSold</td>\n",
       "      <td>0.016000</td>\n",
       "    </tr>\n",
       "    <tr>\n",
       "      <th>7</th>\n",
       "      <td>MasVnrArea</td>\n",
       "      <td>0.019982</td>\n",
       "    </tr>\n",
       "    <tr>\n",
       "      <th>13</th>\n",
       "      <td>2ndFlrSF</td>\n",
       "      <td>0.023427</td>\n",
       "    </tr>\n",
       "    <tr>\n",
       "      <th>4</th>\n",
       "      <td>OverallCond</td>\n",
       "      <td>0.025855</td>\n",
       "    </tr>\n",
       "    <tr>\n",
       "      <th>28</th>\n",
       "      <td>OpenPorchSF</td>\n",
       "      <td>0.026645</td>\n",
       "    </tr>\n",
       "    <tr>\n",
       "      <th>34</th>\n",
       "      <td>MoSold</td>\n",
       "      <td>0.027668</td>\n",
       "    </tr>\n",
       "    <tr>\n",
       "      <th>27</th>\n",
       "      <td>WoodDeckSF</td>\n",
       "      <td>0.028607</td>\n",
       "    </tr>\n",
       "    <tr>\n",
       "      <th>24</th>\n",
       "      <td>GarageYrBlt</td>\n",
       "      <td>0.030624</td>\n",
       "    </tr>\n",
       "    <tr>\n",
       "      <th>12</th>\n",
       "      <td>1stFlrSF</td>\n",
       "      <td>0.039877</td>\n",
       "    </tr>\n",
       "    <tr>\n",
       "      <th>6</th>\n",
       "      <td>YearRemodAdd</td>\n",
       "      <td>0.040545</td>\n",
       "    </tr>\n",
       "    <tr>\n",
       "      <th>10</th>\n",
       "      <td>BsmtUnfSF</td>\n",
       "      <td>0.041510</td>\n",
       "    </tr>\n",
       "    <tr>\n",
       "      <th>1</th>\n",
       "      <td>LotFrontage</td>\n",
       "      <td>0.042940</td>\n",
       "    </tr>\n",
       "    <tr>\n",
       "      <th>8</th>\n",
       "      <td>BsmtFinSF1</td>\n",
       "      <td>0.051576</td>\n",
       "    </tr>\n",
       "    <tr>\n",
       "      <th>11</th>\n",
       "      <td>TotalBsmtSF</td>\n",
       "      <td>0.054079</td>\n",
       "    </tr>\n",
       "    <tr>\n",
       "      <th>26</th>\n",
       "      <td>GarageArea</td>\n",
       "      <td>0.054841</td>\n",
       "    </tr>\n",
       "    <tr>\n",
       "      <th>5</th>\n",
       "      <td>YearBuilt</td>\n",
       "      <td>0.059248</td>\n",
       "    </tr>\n",
       "    <tr>\n",
       "      <th>2</th>\n",
       "      <td>LotArea</td>\n",
       "      <td>0.068928</td>\n",
       "    </tr>\n",
       "    <tr>\n",
       "      <th>15</th>\n",
       "      <td>GrLivArea</td>\n",
       "      <td>0.086370</td>\n",
       "    </tr>\n",
       "    <tr>\n",
       "      <th>3</th>\n",
       "      <td>OverallQual</td>\n",
       "      <td>0.131528</td>\n",
       "    </tr>\n",
       "  </tbody>\n",
       "</table>\n",
       "</div>"
      ],
      "text/plain": [
       "          feature  importance\n",
       "32       PoolArea    0.000319\n",
       "30      3SsnPorch    0.001443\n",
       "14   LowQualFinSF    0.002590\n",
       "33        MiscVal    0.002866\n",
       "17   BsmtHalfBath    0.003418\n",
       "21   KitchenAbvGr    0.005081\n",
       "19       HalfBath    0.005370\n",
       "16   BsmtFullBath    0.006458\n",
       "9      BsmtFinSF2    0.008288\n",
       "29  EnclosedPorch    0.009122\n",
       "22   TotRmsAbvGrd    0.009622\n",
       "18       FullBath    0.010185\n",
       "20   BedroomAbvGr    0.010420\n",
       "31    ScreenPorch    0.012369\n",
       "25     GarageCars    0.013173\n",
       "23     Fireplaces    0.014177\n",
       "0      MSSubClass    0.014848\n",
       "35         YrSold    0.016000\n",
       "7      MasVnrArea    0.019982\n",
       "13       2ndFlrSF    0.023427\n",
       "4     OverallCond    0.025855\n",
       "28    OpenPorchSF    0.026645\n",
       "34         MoSold    0.027668\n",
       "27     WoodDeckSF    0.028607\n",
       "24    GarageYrBlt    0.030624\n",
       "12       1stFlrSF    0.039877\n",
       "6    YearRemodAdd    0.040545\n",
       "10      BsmtUnfSF    0.041510\n",
       "1     LotFrontage    0.042940\n",
       "8      BsmtFinSF1    0.051576\n",
       "11    TotalBsmtSF    0.054079\n",
       "26     GarageArea    0.054841\n",
       "5       YearBuilt    0.059248\n",
       "2         LotArea    0.068928\n",
       "15      GrLivArea    0.086370\n",
       "3     OverallQual    0.131528"
      ]
     },
     "execution_count": 334,
     "metadata": {},
     "output_type": "execute_result"
    }
   ],
   "source": [
    "from sklearn.model_selection import GridSearchCV\n",
    "\n",
    "tuned_parameters = {\n",
    "    \"n_estimators\": [ 100, 200, 300 ],\n",
    "    \"max_depth\" : [ 4 , 6, 10],\n",
    "    \"learning_rate\": [ 0.001, 0.01 ],\n",
    "    \"min_samples_split\" : [2, 3],\n",
    "    \"loss\" : [ 'ls', 'lad' ]\n",
    "}\n",
    "\n",
    "gbr = ensemble.GradientBoostingRegressor()\n",
    "clf = GridSearchCV(gbr, cv = 5, param_grid=tuned_parameters, scoring='neg_median_absolute_error')\n",
    "preds = clf.fit(X_train, y_train)\n",
    "best = clf.best_estimator_\n",
    "err = metrics.median_absolute_error(y_test, best.predict(X_test))\n",
    "features = pd.DataFrame({\"importance\": best.feature_importances_, \"feature\": df_numeric.columns[:-1]})\n",
    "features.sort_values(\"importance\", ascending=False)"
   ]
  },
  {
   "cell_type": "code",
   "execution_count": 336,
   "metadata": {},
   "outputs": [
    {
     "data": {
      "text/plain": [
       "0.82236157592788239"
      ]
     },
     "execution_count": 336,
     "metadata": {},
     "output_type": "execute_result"
    }
   ],
   "source": [
    "best.score(X_test, y_test)"
   ]
  },
  {
   "cell_type": "code",
   "execution_count": 303,
   "metadata": {},
   "outputs": [
    {
     "data": {
      "text/html": [
       "<div>\n",
       "<table border=\"1\" class=\"dataframe\">\n",
       "  <thead>\n",
       "    <tr style=\"text-align: right;\">\n",
       "      <th></th>\n",
       "      <th>feature</th>\n",
       "      <th>pval</th>\n",
       "      <th>score</th>\n",
       "    </tr>\n",
       "  </thead>\n",
       "  <tbody>\n",
       "    <tr>\n",
       "      <th>3</th>\n",
       "      <td>OverallQual</td>\n",
       "      <td>1.352934e-219</td>\n",
       "      <td>1701.522419</td>\n",
       "    </tr>\n",
       "    <tr>\n",
       "      <th>15</th>\n",
       "      <td>GrLivArea</td>\n",
       "      <td>3.552373e-147</td>\n",
       "      <td>943.022095</td>\n",
       "    </tr>\n",
       "    <tr>\n",
       "      <th>25</th>\n",
       "      <td>GarageCars</td>\n",
       "      <td>3.679569e-115</td>\n",
       "      <td>679.135784</td>\n",
       "    </tr>\n",
       "    <tr>\n",
       "      <th>12</th>\n",
       "      <td>1stFlrSF</td>\n",
       "      <td>1.783492e-109</td>\n",
       "      <td>636.139624</td>\n",
       "    </tr>\n",
       "    <tr>\n",
       "      <th>26</th>\n",
       "      <td>GarageArea</td>\n",
       "      <td>3.004206e-108</td>\n",
       "      <td>627.008763</td>\n",
       "    </tr>\n",
       "    <tr>\n",
       "      <th>11</th>\n",
       "      <td>TotalBsmtSF</td>\n",
       "      <td>5.958884e-108</td>\n",
       "      <td>624.802014</td>\n",
       "    </tr>\n",
       "    <tr>\n",
       "      <th>18</th>\n",
       "      <td>FullBath</td>\n",
       "      <td>5.987983e-85</td>\n",
       "      <td>462.841012</td>\n",
       "    </tr>\n",
       "    <tr>\n",
       "      <th>5</th>\n",
       "      <td>YearBuilt</td>\n",
       "      <td>9.641869e-74</td>\n",
       "      <td>389.845615</td>\n",
       "    </tr>\n",
       "    <tr>\n",
       "      <th>22</th>\n",
       "      <td>TotRmsAbvGrd</td>\n",
       "      <td>3.009689e-72</td>\n",
       "      <td>380.389917</td>\n",
       "    </tr>\n",
       "    <tr>\n",
       "      <th>6</th>\n",
       "      <td>YearRemodAdd</td>\n",
       "      <td>2.023751e-62</td>\n",
       "      <td>319.780784</td>\n",
       "    </tr>\n",
       "    <tr>\n",
       "      <th>7</th>\n",
       "      <td>MasVnrArea</td>\n",
       "      <td>9.785384e-58</td>\n",
       "      <td>291.832299</td>\n",
       "    </tr>\n",
       "    <tr>\n",
       "      <th>23</th>\n",
       "      <td>Fireplaces</td>\n",
       "      <td>1.211634e-54</td>\n",
       "      <td>273.704858</td>\n",
       "    </tr>\n",
       "    <tr>\n",
       "      <th>24</th>\n",
       "      <td>GarageYrBlt</td>\n",
       "      <td>1.914362e-52</td>\n",
       "      <td>260.973209</td>\n",
       "    </tr>\n",
       "    <tr>\n",
       "      <th>8</th>\n",
       "      <td>BsmtFinSF1</td>\n",
       "      <td>3.665639e-42</td>\n",
       "      <td>203.108991</td>\n",
       "    </tr>\n",
       "    <tr>\n",
       "      <th>1</th>\n",
       "      <td>LotFrontage</td>\n",
       "      <td>1.871033e-31</td>\n",
       "      <td>145.704764</td>\n",
       "    </tr>\n",
       "    <tr>\n",
       "      <th>28</th>\n",
       "      <td>OpenPorchSF</td>\n",
       "      <td>6.018730e-25</td>\n",
       "      <td>112.207569</td>\n",
       "    </tr>\n",
       "    <tr>\n",
       "      <th>27</th>\n",
       "      <td>WoodDeckSF</td>\n",
       "      <td>1.477478e-23</td>\n",
       "      <td>105.187523</td>\n",
       "    </tr>\n",
       "    <tr>\n",
       "      <th>13</th>\n",
       "      <td>2ndFlrSF</td>\n",
       "      <td>3.504120e-22</td>\n",
       "      <td>98.289981</td>\n",
       "    </tr>\n",
       "    <tr>\n",
       "      <th>19</th>\n",
       "      <td>HalfBath</td>\n",
       "      <td>6.855574e-18</td>\n",
       "      <td>77.066507</td>\n",
       "    </tr>\n",
       "    <tr>\n",
       "      <th>2</th>\n",
       "      <td>LotArea</td>\n",
       "      <td>2.223820e-17</td>\n",
       "      <td>74.570123</td>\n",
       "    </tr>\n",
       "    <tr>\n",
       "      <th>16</th>\n",
       "      <td>BsmtFullBath</td>\n",
       "      <td>4.679119e-16</td>\n",
       "      <td>68.138639</td>\n",
       "    </tr>\n",
       "    <tr>\n",
       "      <th>10</th>\n",
       "      <td>BsmtUnfSF</td>\n",
       "      <td>4.021470e-10</td>\n",
       "      <td>39.881449</td>\n",
       "    </tr>\n",
       "    <tr>\n",
       "      <th>20</th>\n",
       "      <td>BedroomAbvGr</td>\n",
       "      <td>2.236082e-07</td>\n",
       "      <td>27.186574</td>\n",
       "    </tr>\n",
       "    <tr>\n",
       "      <th>32</th>\n",
       "      <td>PoolArea</td>\n",
       "      <td>1.791799e-05</td>\n",
       "      <td>18.574815</td>\n",
       "    </tr>\n",
       "    <tr>\n",
       "      <th>21</th>\n",
       "      <td>KitchenAbvGr</td>\n",
       "      <td>2.151194e-05</td>\n",
       "      <td>18.220182</td>\n",
       "    </tr>\n",
       "    <tr>\n",
       "      <th>29</th>\n",
       "      <td>EnclosedPorch</td>\n",
       "      <td>2.272987e-05</td>\n",
       "      <td>18.113427</td>\n",
       "    </tr>\n",
       "    <tr>\n",
       "      <th>31</th>\n",
       "      <td>ScreenPorch</td>\n",
       "      <td>1.082077e-03</td>\n",
       "      <td>10.742992</td>\n",
       "    </tr>\n",
       "    <tr>\n",
       "      <th>0</th>\n",
       "      <td>MSSubClass</td>\n",
       "      <td>2.296115e-03</td>\n",
       "      <td>9.343434</td>\n",
       "    </tr>\n",
       "    <tr>\n",
       "      <th>4</th>\n",
       "      <td>OverallCond</td>\n",
       "      <td>4.013827e-02</td>\n",
       "      <td>4.222812</td>\n",
       "    </tr>\n",
       "    <tr>\n",
       "      <th>30</th>\n",
       "      <td>3SsnPorch</td>\n",
       "      <td>4.426498e-02</td>\n",
       "      <td>4.056454</td>\n",
       "    </tr>\n",
       "    <tr>\n",
       "      <th>14</th>\n",
       "      <td>LowQualFinSF</td>\n",
       "      <td>6.865620e-02</td>\n",
       "      <td>3.321882</td>\n",
       "    </tr>\n",
       "    <tr>\n",
       "      <th>34</th>\n",
       "      <td>MoSold</td>\n",
       "      <td>9.183101e-02</td>\n",
       "      <td>2.847340</td>\n",
       "    </tr>\n",
       "    <tr>\n",
       "      <th>35</th>\n",
       "      <td>YrSold</td>\n",
       "      <td>5.096706e-01</td>\n",
       "      <td>0.435049</td>\n",
       "    </tr>\n",
       "    <tr>\n",
       "      <th>9</th>\n",
       "      <td>BsmtFinSF2</td>\n",
       "      <td>5.855867e-01</td>\n",
       "      <td>0.297479</td>\n",
       "    </tr>\n",
       "    <tr>\n",
       "      <th>17</th>\n",
       "      <td>BsmtHalfBath</td>\n",
       "      <td>7.757689e-01</td>\n",
       "      <td>0.081175</td>\n",
       "    </tr>\n",
       "    <tr>\n",
       "      <th>33</th>\n",
       "      <td>MiscVal</td>\n",
       "      <td>8.926548e-01</td>\n",
       "      <td>0.018219</td>\n",
       "    </tr>\n",
       "  </tbody>\n",
       "</table>\n",
       "</div>"
      ],
      "text/plain": [
       "          feature           pval        score\n",
       "3     OverallQual  1.352934e-219  1701.522419\n",
       "15      GrLivArea  3.552373e-147   943.022095\n",
       "25     GarageCars  3.679569e-115   679.135784\n",
       "12       1stFlrSF  1.783492e-109   636.139624\n",
       "26     GarageArea  3.004206e-108   627.008763\n",
       "11    TotalBsmtSF  5.958884e-108   624.802014\n",
       "18       FullBath   5.987983e-85   462.841012\n",
       "5       YearBuilt   9.641869e-74   389.845615\n",
       "22   TotRmsAbvGrd   3.009689e-72   380.389917\n",
       "6    YearRemodAdd   2.023751e-62   319.780784\n",
       "7      MasVnrArea   9.785384e-58   291.832299\n",
       "23     Fireplaces   1.211634e-54   273.704858\n",
       "24    GarageYrBlt   1.914362e-52   260.973209\n",
       "8      BsmtFinSF1   3.665639e-42   203.108991\n",
       "1     LotFrontage   1.871033e-31   145.704764\n",
       "28    OpenPorchSF   6.018730e-25   112.207569\n",
       "27     WoodDeckSF   1.477478e-23   105.187523\n",
       "13       2ndFlrSF   3.504120e-22    98.289981\n",
       "19       HalfBath   6.855574e-18    77.066507\n",
       "2         LotArea   2.223820e-17    74.570123\n",
       "16   BsmtFullBath   4.679119e-16    68.138639\n",
       "10      BsmtUnfSF   4.021470e-10    39.881449\n",
       "20   BedroomAbvGr   2.236082e-07    27.186574\n",
       "32       PoolArea   1.791799e-05    18.574815\n",
       "21   KitchenAbvGr   2.151194e-05    18.220182\n",
       "29  EnclosedPorch   2.272987e-05    18.113427\n",
       "31    ScreenPorch   1.082077e-03    10.742992\n",
       "0      MSSubClass   2.296115e-03     9.343434\n",
       "4     OverallCond   4.013827e-02     4.222812\n",
       "30      3SsnPorch   4.426498e-02     4.056454\n",
       "14   LowQualFinSF   6.865620e-02     3.321882\n",
       "34         MoSold   9.183101e-02     2.847340\n",
       "35         YrSold   5.096706e-01     0.435049\n",
       "9      BsmtFinSF2   5.855867e-01     0.297479\n",
       "17   BsmtHalfBath   7.757689e-01     0.081175\n",
       "33        MiscVal   8.926548e-01     0.018219"
      ]
     },
     "execution_count": 303,
     "metadata": {},
     "output_type": "execute_result"
    }
   ],
   "source": [
    "from sklearn.feature_selection import f_regression, SelectKBest\n",
    "\n",
    "kbest = SelectKBest(f_regression)\n",
    "kbest.fit(X_train, y_train)\n",
    "features = pd.DataFrame({\"score\": kbest.scores_, \"pval\": kbest.pvalues_, \"feature\": df_numeric.columns[:-1]})\n",
    "features.sort_values(\"score\", ascending=False)"
   ]
  },
  {
   "cell_type": "code",
   "execution_count": 342,
   "metadata": {},
   "outputs": [
    {
     "name": "stdout",
     "output_type": "stream",
     "text": [
      "<class 'pandas.core.frame.DataFrame'>\n",
      "RangeIndex: 1460 entries, 0 to 1459\n",
      "Data columns (total 43 columns):\n",
      "MSZoning         1460 non-null object\n",
      "Street           1460 non-null object\n",
      "Alley            91 non-null object\n",
      "LotShape         1460 non-null object\n",
      "LandContour      1460 non-null object\n",
      "Utilities        1460 non-null object\n",
      "LotConfig        1460 non-null object\n",
      "LandSlope        1460 non-null object\n",
      "Neighborhood     1460 non-null object\n",
      "Condition1       1460 non-null object\n",
      "Condition2       1460 non-null object\n",
      "BldgType         1460 non-null object\n",
      "HouseStyle       1460 non-null object\n",
      "RoofStyle        1460 non-null object\n",
      "RoofMatl         1460 non-null object\n",
      "Exterior1st      1460 non-null object\n",
      "Exterior2nd      1460 non-null object\n",
      "MasVnrType       1452 non-null object\n",
      "ExterQual        1460 non-null object\n",
      "ExterCond        1460 non-null object\n",
      "Foundation       1460 non-null object\n",
      "BsmtQual         1423 non-null object\n",
      "BsmtCond         1423 non-null object\n",
      "BsmtExposure     1422 non-null object\n",
      "BsmtFinType1     1423 non-null object\n",
      "BsmtFinType2     1422 non-null object\n",
      "Heating          1460 non-null object\n",
      "HeatingQC        1460 non-null object\n",
      "CentralAir       1460 non-null object\n",
      "Electrical       1459 non-null object\n",
      "KitchenQual      1460 non-null object\n",
      "Functional       1460 non-null object\n",
      "FireplaceQu      770 non-null object\n",
      "GarageType       1379 non-null object\n",
      "GarageFinish     1379 non-null object\n",
      "GarageQual       1379 non-null object\n",
      "GarageCond       1379 non-null object\n",
      "PavedDrive       1460 non-null object\n",
      "PoolQC           7 non-null object\n",
      "Fence            281 non-null object\n",
      "MiscFeature      54 non-null object\n",
      "SaleType         1460 non-null object\n",
      "SaleCondition    1460 non-null object\n",
      "dtypes: object(43)\n",
      "memory usage: 490.5+ KB\n"
     ]
    }
   ],
   "source": [
    "df_categorical = df.select_dtypes(exclude=[np.float64, np.int64])\n",
    "df_categorical.info()"
   ]
  },
  {
   "cell_type": "code",
   "execution_count": 379,
   "metadata": {},
   "outputs": [
    {
     "data": {
      "text/html": [
       "<div>\n",
       "<table border=\"1\" class=\"dataframe\">\n",
       "  <thead>\n",
       "    <tr style=\"text-align: right;\">\n",
       "      <th></th>\n",
       "      <th>MSSubClass</th>\n",
       "      <th>LotFrontage</th>\n",
       "      <th>LotArea</th>\n",
       "      <th>OverallQual</th>\n",
       "      <th>OverallCond</th>\n",
       "      <th>YearBuilt</th>\n",
       "      <th>YearRemodAdd</th>\n",
       "      <th>MasVnrArea</th>\n",
       "      <th>BsmtFinSF1</th>\n",
       "      <th>BsmtFinSF2</th>\n",
       "      <th>...</th>\n",
       "      <th>SaleType_ConLI</th>\n",
       "      <th>SaleType_ConLw</th>\n",
       "      <th>SaleType_New</th>\n",
       "      <th>SaleType_Oth</th>\n",
       "      <th>SaleType_WD</th>\n",
       "      <th>SaleCondition_AdjLand</th>\n",
       "      <th>SaleCondition_Alloca</th>\n",
       "      <th>SaleCondition_Family</th>\n",
       "      <th>SaleCondition_Normal</th>\n",
       "      <th>SaleCondition_Partial</th>\n",
       "    </tr>\n",
       "  </thead>\n",
       "  <tbody>\n",
       "    <tr>\n",
       "      <th>1081</th>\n",
       "      <td>20</td>\n",
       "      <td>75.0</td>\n",
       "      <td>7500</td>\n",
       "      <td>5</td>\n",
       "      <td>5</td>\n",
       "      <td>1963</td>\n",
       "      <td>1963</td>\n",
       "      <td>0.0</td>\n",
       "      <td>824</td>\n",
       "      <td>0</td>\n",
       "      <td>...</td>\n",
       "      <td>0.0</td>\n",
       "      <td>0.0</td>\n",
       "      <td>0.0</td>\n",
       "      <td>0.0</td>\n",
       "      <td>1.0</td>\n",
       "      <td>0.0</td>\n",
       "      <td>0.0</td>\n",
       "      <td>0.0</td>\n",
       "      <td>1.0</td>\n",
       "      <td>0.0</td>\n",
       "    </tr>\n",
       "    <tr>\n",
       "      <th>640</th>\n",
       "      <td>120</td>\n",
       "      <td>62.0</td>\n",
       "      <td>12677</td>\n",
       "      <td>8</td>\n",
       "      <td>5</td>\n",
       "      <td>2003</td>\n",
       "      <td>2004</td>\n",
       "      <td>472.0</td>\n",
       "      <td>1218</td>\n",
       "      <td>0</td>\n",
       "      <td>...</td>\n",
       "      <td>0.0</td>\n",
       "      <td>0.0</td>\n",
       "      <td>0.0</td>\n",
       "      <td>0.0</td>\n",
       "      <td>1.0</td>\n",
       "      <td>0.0</td>\n",
       "      <td>0.0</td>\n",
       "      <td>0.0</td>\n",
       "      <td>1.0</td>\n",
       "      <td>0.0</td>\n",
       "    </tr>\n",
       "    <tr>\n",
       "      <th>346</th>\n",
       "      <td>20</td>\n",
       "      <td>69.0</td>\n",
       "      <td>12772</td>\n",
       "      <td>6</td>\n",
       "      <td>8</td>\n",
       "      <td>1960</td>\n",
       "      <td>1998</td>\n",
       "      <td>0.0</td>\n",
       "      <td>498</td>\n",
       "      <td>0</td>\n",
       "      <td>...</td>\n",
       "      <td>0.0</td>\n",
       "      <td>0.0</td>\n",
       "      <td>0.0</td>\n",
       "      <td>0.0</td>\n",
       "      <td>1.0</td>\n",
       "      <td>0.0</td>\n",
       "      <td>0.0</td>\n",
       "      <td>0.0</td>\n",
       "      <td>1.0</td>\n",
       "      <td>0.0</td>\n",
       "    </tr>\n",
       "    <tr>\n",
       "      <th>688</th>\n",
       "      <td>20</td>\n",
       "      <td>60.0</td>\n",
       "      <td>8089</td>\n",
       "      <td>8</td>\n",
       "      <td>6</td>\n",
       "      <td>2007</td>\n",
       "      <td>2007</td>\n",
       "      <td>0.0</td>\n",
       "      <td>945</td>\n",
       "      <td>0</td>\n",
       "      <td>...</td>\n",
       "      <td>0.0</td>\n",
       "      <td>0.0</td>\n",
       "      <td>1.0</td>\n",
       "      <td>0.0</td>\n",
       "      <td>0.0</td>\n",
       "      <td>0.0</td>\n",
       "      <td>0.0</td>\n",
       "      <td>0.0</td>\n",
       "      <td>0.0</td>\n",
       "      <td>1.0</td>\n",
       "    </tr>\n",
       "    <tr>\n",
       "      <th>320</th>\n",
       "      <td>60</td>\n",
       "      <td>111.0</td>\n",
       "      <td>16259</td>\n",
       "      <td>9</td>\n",
       "      <td>5</td>\n",
       "      <td>2006</td>\n",
       "      <td>2006</td>\n",
       "      <td>370.0</td>\n",
       "      <td>0</td>\n",
       "      <td>0</td>\n",
       "      <td>...</td>\n",
       "      <td>0.0</td>\n",
       "      <td>0.0</td>\n",
       "      <td>1.0</td>\n",
       "      <td>0.0</td>\n",
       "      <td>0.0</td>\n",
       "      <td>0.0</td>\n",
       "      <td>0.0</td>\n",
       "      <td>0.0</td>\n",
       "      <td>0.0</td>\n",
       "      <td>1.0</td>\n",
       "    </tr>\n",
       "    <tr>\n",
       "      <th>472</th>\n",
       "      <td>180</td>\n",
       "      <td>35.0</td>\n",
       "      <td>3675</td>\n",
       "      <td>6</td>\n",
       "      <td>5</td>\n",
       "      <td>2005</td>\n",
       "      <td>2005</td>\n",
       "      <td>80.0</td>\n",
       "      <td>459</td>\n",
       "      <td>0</td>\n",
       "      <td>...</td>\n",
       "      <td>0.0</td>\n",
       "      <td>0.0</td>\n",
       "      <td>0.0</td>\n",
       "      <td>0.0</td>\n",
       "      <td>1.0</td>\n",
       "      <td>0.0</td>\n",
       "      <td>0.0</td>\n",
       "      <td>0.0</td>\n",
       "      <td>1.0</td>\n",
       "      <td>0.0</td>\n",
       "    </tr>\n",
       "    <tr>\n",
       "      <th>844</th>\n",
       "      <td>50</td>\n",
       "      <td>100.0</td>\n",
       "      <td>12665</td>\n",
       "      <td>5</td>\n",
       "      <td>8</td>\n",
       "      <td>1915</td>\n",
       "      <td>1950</td>\n",
       "      <td>0.0</td>\n",
       "      <td>0</td>\n",
       "      <td>0</td>\n",
       "      <td>...</td>\n",
       "      <td>0.0</td>\n",
       "      <td>0.0</td>\n",
       "      <td>0.0</td>\n",
       "      <td>0.0</td>\n",
       "      <td>1.0</td>\n",
       "      <td>0.0</td>\n",
       "      <td>0.0</td>\n",
       "      <td>0.0</td>\n",
       "      <td>1.0</td>\n",
       "      <td>0.0</td>\n",
       "    </tr>\n",
       "    <tr>\n",
       "      <th>1155</th>\n",
       "      <td>20</td>\n",
       "      <td>90.0</td>\n",
       "      <td>10768</td>\n",
       "      <td>5</td>\n",
       "      <td>8</td>\n",
       "      <td>1976</td>\n",
       "      <td>2004</td>\n",
       "      <td>0.0</td>\n",
       "      <td>1157</td>\n",
       "      <td>0</td>\n",
       "      <td>...</td>\n",
       "      <td>0.0</td>\n",
       "      <td>0.0</td>\n",
       "      <td>0.0</td>\n",
       "      <td>0.0</td>\n",
       "      <td>1.0</td>\n",
       "      <td>0.0</td>\n",
       "      <td>0.0</td>\n",
       "      <td>0.0</td>\n",
       "      <td>1.0</td>\n",
       "      <td>0.0</td>\n",
       "    </tr>\n",
       "    <tr>\n",
       "      <th>618</th>\n",
       "      <td>20</td>\n",
       "      <td>90.0</td>\n",
       "      <td>11694</td>\n",
       "      <td>9</td>\n",
       "      <td>5</td>\n",
       "      <td>2007</td>\n",
       "      <td>2007</td>\n",
       "      <td>452.0</td>\n",
       "      <td>48</td>\n",
       "      <td>0</td>\n",
       "      <td>...</td>\n",
       "      <td>0.0</td>\n",
       "      <td>0.0</td>\n",
       "      <td>1.0</td>\n",
       "      <td>0.0</td>\n",
       "      <td>0.0</td>\n",
       "      <td>0.0</td>\n",
       "      <td>0.0</td>\n",
       "      <td>0.0</td>\n",
       "      <td>0.0</td>\n",
       "      <td>1.0</td>\n",
       "    </tr>\n",
       "    <tr>\n",
       "      <th>1302</th>\n",
       "      <td>60</td>\n",
       "      <td>92.0</td>\n",
       "      <td>10120</td>\n",
       "      <td>8</td>\n",
       "      <td>5</td>\n",
       "      <td>1994</td>\n",
       "      <td>1994</td>\n",
       "      <td>391.0</td>\n",
       "      <td>740</td>\n",
       "      <td>0</td>\n",
       "      <td>...</td>\n",
       "      <td>0.0</td>\n",
       "      <td>0.0</td>\n",
       "      <td>0.0</td>\n",
       "      <td>0.0</td>\n",
       "      <td>1.0</td>\n",
       "      <td>0.0</td>\n",
       "      <td>0.0</td>\n",
       "      <td>0.0</td>\n",
       "      <td>1.0</td>\n",
       "      <td>0.0</td>\n",
       "    </tr>\n",
       "  </tbody>\n",
       "</table>\n",
       "<p>10 rows × 246 columns</p>\n",
       "</div>"
      ],
      "text/plain": [
       "      MSSubClass  LotFrontage  LotArea  OverallQual  OverallCond  YearBuilt  \\\n",
       "1081          20         75.0     7500            5            5       1963   \n",
       "640          120         62.0    12677            8            5       2003   \n",
       "346           20         69.0    12772            6            8       1960   \n",
       "688           20         60.0     8089            8            6       2007   \n",
       "320           60        111.0    16259            9            5       2006   \n",
       "472          180         35.0     3675            6            5       2005   \n",
       "844           50        100.0    12665            5            8       1915   \n",
       "1155          20         90.0    10768            5            8       1976   \n",
       "618           20         90.0    11694            9            5       2007   \n",
       "1302          60         92.0    10120            8            5       1994   \n",
       "\n",
       "      YearRemodAdd  MasVnrArea  BsmtFinSF1  BsmtFinSF2          ...            \\\n",
       "1081          1963         0.0         824           0          ...             \n",
       "640           2004       472.0        1218           0          ...             \n",
       "346           1998         0.0         498           0          ...             \n",
       "688           2007         0.0         945           0          ...             \n",
       "320           2006       370.0           0           0          ...             \n",
       "472           2005        80.0         459           0          ...             \n",
       "844           1950         0.0           0           0          ...             \n",
       "1155          2004         0.0        1157           0          ...             \n",
       "618           2007       452.0          48           0          ...             \n",
       "1302          1994       391.0         740           0          ...             \n",
       "\n",
       "      SaleType_ConLI  SaleType_ConLw  SaleType_New  SaleType_Oth  SaleType_WD  \\\n",
       "1081             0.0             0.0           0.0           0.0          1.0   \n",
       "640              0.0             0.0           0.0           0.0          1.0   \n",
       "346              0.0             0.0           0.0           0.0          1.0   \n",
       "688              0.0             0.0           1.0           0.0          0.0   \n",
       "320              0.0             0.0           1.0           0.0          0.0   \n",
       "472              0.0             0.0           0.0           0.0          1.0   \n",
       "844              0.0             0.0           0.0           0.0          1.0   \n",
       "1155             0.0             0.0           0.0           0.0          1.0   \n",
       "618              0.0             0.0           1.0           0.0          0.0   \n",
       "1302             0.0             0.0           0.0           0.0          1.0   \n",
       "\n",
       "      SaleCondition_AdjLand  SaleCondition_Alloca  SaleCondition_Family  \\\n",
       "1081                    0.0                   0.0                   0.0   \n",
       "640                     0.0                   0.0                   0.0   \n",
       "346                     0.0                   0.0                   0.0   \n",
       "688                     0.0                   0.0                   0.0   \n",
       "320                     0.0                   0.0                   0.0   \n",
       "472                     0.0                   0.0                   0.0   \n",
       "844                     0.0                   0.0                   0.0   \n",
       "1155                    0.0                   0.0                   0.0   \n",
       "618                     0.0                   0.0                   0.0   \n",
       "1302                    0.0                   0.0                   0.0   \n",
       "\n",
       "      SaleCondition_Normal  SaleCondition_Partial  \n",
       "1081                   1.0                    0.0  \n",
       "640                    1.0                    0.0  \n",
       "346                    1.0                    0.0  \n",
       "688                    0.0                    1.0  \n",
       "320                    0.0                    1.0  \n",
       "472                    1.0                    0.0  \n",
       "844                    1.0                    0.0  \n",
       "1155                   1.0                    0.0  \n",
       "618                    0.0                    1.0  \n",
       "1302                   1.0                    0.0  \n",
       "\n",
       "[10 rows x 246 columns]"
      ]
     },
     "execution_count": 379,
     "metadata": {},
     "output_type": "execute_result"
    }
   ],
   "source": [
    "categorical_columns = df.select_dtypes(exclude=[np.float64, np.int64]).columns\n",
    "df_clean = pd.get_dummies(df, drop_first=True, \n",
    "               prefix=categorical_columns, columns= categorical_columns, \n",
    "               dummy_na=False)\n",
    "del df_clean[\"Id\"]\n",
    "df_clean = df_clean.fillna(df_clean.median())\n",
    "df_clean.sample(10)"
   ]
  },
  {
   "cell_type": "code",
   "execution_count": 380,
   "metadata": {
    "collapsed": true
   },
   "outputs": [],
   "source": [
    "y = df_clean.SalePrice\n",
    "if \"SalePrice\" in df_clean.columns: \n",
    "    del df_clean[\"SalePrice\"]\n",
    "X_train, X_test, y_train, y_test = train_test_split(df_clean.values, y, random_state = 100)"
   ]
  },
  {
   "cell_type": "code",
   "execution_count": 381,
   "metadata": {},
   "outputs": [
    {
     "data": {
      "text/plain": [
       "11856.627388723427"
      ]
     },
     "execution_count": 381,
     "metadata": {},
     "output_type": "execute_result"
    }
   ],
   "source": [
    "lassocv.fit(X_train, y_train)\n",
    "y_test_pred = lassocv.predict(X_test)\n",
    "metrics.median_absolute_error(y_test, y_test_pred), r"
   ]
  },
  {
   "cell_type": "code",
   "execution_count": 364,
   "metadata": {},
   "outputs": [
    {
     "data": {
      "text/plain": [
       "(array([    -89.22734,      62.01816,       0.35272,    9610.61595,\n",
       "           4415.62284,     274.44517,     156.56264,      20.10729,\n",
       "             14.95369,       0.     ,      -0.     ,      18.98548,\n",
       "              0.     ,       0.     ,     -40.18821,      63.04727,\n",
       "           2407.17894,      -0.     ,       0.     ,       0.     ,\n",
       "          -2776.08912,  -15141.3543 ,       0.     ,    2581.83585,\n",
       "             55.68917,    2054.18024,      15.60723,       1.68698,\n",
       "              9.7677 ,      -0.     ,       0.     ,       0.     ,\n",
       "             56.39119,      -0.     ,      -0.     ,      -0.     ,\n",
       "              0.     ,      -0.     ,       0.     ,   -1734.82905,\n",
       "              0.     ,    8405.01829,       0.     ,      -0.     ,\n",
       "            423.01765,       0.     ,      -0.     ,      -0.     ,\n",
       "              0.     ,       0.     ,      -0.     ,       0.     ,\n",
       "              0.     ,      -0.     ,       0.     ,    7608.83197,\n",
       "           -118.41199,      -0.     ,      -0.     ,       0.     ,\n",
       "              0.     ,      -0.     ,       0.     ,       0.     ,\n",
       "             -0.     ,    2406.52812,       0.     ,       0.     ,\n",
       "          17430.6027 ,    -374.77275,      -0.     ,      -0.     ,\n",
       "              0.     ,   -2819.12766,    -870.29455,       0.     ,\n",
       "          -2253.10323,   27827.87967,   21548.45663,      -0.     ,\n",
       "              0.     ,      -0.     ,       0.     ,    9380.13244,\n",
       "          18392.37948,      -0.     ,    4613.91729,       0.     ,\n",
       "             -0.     ,    8621.23001,      -0.     ,      -0.     ,\n",
       "          -4576.12043,       0.     ,       0.     ,      -0.     ,\n",
       "              0.     ,      -0.     ,       0.     ,   10039.55052,\n",
       "        -381214.44143,      -0.     ,      -0.     ,       0.     ,\n",
       "              0.     ,       0.     ,   -2315.279  ,   -4546.60695,\n",
       "             -0.     ,       0.     ,    2222.3546 ,       0.     ,\n",
       "          -4212.28112,   -1019.63441,       0.     ,       0.     ,\n",
       "             -0.     ,       0.     ,      -0.     ,       0.     ,\n",
       "              0.     ,       0.     ,       0.     ,       0.     ,\n",
       "             -0.     ,    1856.29458,       0.     ,      -0.     ,\n",
       "             -0.     ,      -0.     ,   41494.17024,       0.     ,\n",
       "             -0.     ,      -0.     ,    9719.1575 ,      -0.     ,\n",
       "              0.     ,      -0.     ,      -0.     ,       0.     ,\n",
       "          -5216.10283,      -0.     ,       0.     ,       0.     ,\n",
       "             -0.     ,       0.     ,       0.     ,      -0.     ,\n",
       "              0.     ,       0.     ,      -0.     ,    3069.66173,\n",
       "             -0.     ,    3192.21431,       0.     ,       0.     ,\n",
       "           -323.46467,       0.     ,       0.     ,     131.8625 ,\n",
       "             -0.     ,    -209.28174,       0.     ,   -2674.5303 ,\n",
       "              0.     ,       0.     ,       0.     ,      -0.     ,\n",
       "             -0.     ,   -3657.73887,       0.     ,       0.     ,\n",
       "             -0.     ,       0.     ,       0.     ,       0.     ,\n",
       "             -0.     ,    1809.81989,       0.     ,       0.     ,\n",
       "          -6748.68125,       0.     ,    -773.23245,  -14375.5865 ,\n",
       "         -10267.26544,       0.     ,      -0.     ,      -0.     ,\n",
       "            258.1755 ,       0.     ,   18061.59357,      -0.     ,\n",
       "          -5273.73068,       0.     ,       0.     ,    2175.59042,\n",
       "             -0.     ,    -404.78551,      -0.     ,       0.     ,\n",
       "             -0.     ,     866.75104,      -0.     ,      -0.     ,\n",
       "             -0.     ,       0.     ,       0.     ,      -0.     ,\n",
       "             -0.     ,  -20501.05523,     576.51376,       0.     ,\n",
       "             -0.     ,      -0.     ,       0.     ,   -1614.71732,\n",
       "              0.     ,       0.     ,       0.     ,       0.     ,\n",
       "             -0.     ,       0.     ,      -0.     ,       0.     ,\n",
       "          -1099.97166,  -11850.14484,   -9158.07367,       0.     ,\n",
       "             -0.     ,      -0.     ,       0.     ,      -0.     ,\n",
       "         -40461.91163,   12776.92191,       0.     ,      -0.     ,\n",
       "              0.     ,      -0.     ,      -0.     ,      -0.     ,\n",
       "              0.     ,   -6235.12093,    1671.9662 ,      -0.     ,\n",
       "             -0.     ,       0.     ,   -2060.59493,      -0.     ,\n",
       "              0.     ,      -0.     ,       0.     ,      -0.     ,\n",
       "             -0.     ,       0.     ,      -0.     ,      -0.     ,\n",
       "             -0.     ,       0.     ,       0.     ,      -0.     ,\n",
       "              0.     ,       0.     ,      -0.     , -629725.29016,\n",
       "             -0.     ,      -0.     ,       0.     ,       0.     ,\n",
       "              0.     ,       0.     ,       0.     ,       0.     ,\n",
       "             -0.     ,       0.     ,    3766.40799,       0.     ,\n",
       "             -0.     ,       0.     ,   17488.88436,       0.     ,\n",
       "             -0.     ,       0.     ,       0.     ,       0.     ,\n",
       "          -4261.68255,       0.     ,       6.65194,       0.     ]),\n",
       " 28.294596190303441)"
      ]
     },
     "execution_count": 364,
     "metadata": {},
     "output_type": "execute_result"
    }
   ],
   "source": [
    "lassocv.coef_, lassocv.alpha_"
   ]
  },
  {
   "cell_type": "code",
   "execution_count": 365,
   "metadata": {},
   "outputs": [
    {
     "name": "stderr",
     "output_type": "stream",
     "text": [
      "/Library/Frameworks/Python.framework/Versions/3.5/lib/python3.5/site-packages/sklearn/linear_model/coordinate_descent.py:484: ConvergenceWarning: Objective did not converge. You might want to increase the number of iterations. Fitting data with very small alpha may cause precision problems.\n",
      "  ConvergenceWarning)\n"
     ]
    },
    {
     "data": {
      "text/plain": [
       "<matplotlib.text.Text at 0x1159e3208>"
      ]
     },
     "execution_count": 365,
     "metadata": {},
     "output_type": "execute_result"
    },
    {
     "data": {
      "image/png": "[encoded data removed]",
      "text/plain": [
       "<matplotlib.figure.Figure at 0x1143b5f60>"
      ]
     },
     "metadata": {},
     "output_type": "display_data"
    }
   ],
   "source": [
    "from sklearn import linear_model\n",
    "from sklearn import metrics\n",
    "from sklearn import tree\n",
    "from sklearn import ensemble\n",
    "from sklearn import neighbors\n",
    "\n",
    "rs = 1\n",
    "ests = [ \n",
    "    linear_model.LinearRegression(), \n",
    "    linear_model.Ridge(),    \n",
    "    linear_model.Lasso(), \n",
    "    linear_model.ElasticNet(),\n",
    "    linear_model.BayesianRidge(),\n",
    "    linear_model.OrthogonalMatchingPursuit(),\n",
    "    tree.DecisionTreeRegressor(max_depth=10),\n",
    "    ensemble.RandomForestRegressor(),\n",
    "    neighbors.KNeighborsRegressor(n_neighbors=5),\n",
    "    ensemble.GradientBoostingRegressor(n_estimators=300, max_depth=4, learning_rate=0.01,loss=\"ls\")\n",
    "]\n",
    "\n",
    "ests_labels = ['Linear', \n",
    "               'Ridge', \n",
    "               'Lasso',\n",
    "               'ElasticNet',\n",
    "               'BayesRidge',\n",
    "               'OMP',\n",
    "               'DecisionTree',\n",
    "               'RandomForest',\n",
    "               'KNN',\n",
    "               'GradientBoostingRegressor']\n",
    "\n",
    "errvals = []\n",
    "\n",
    "for e in ests:\n",
    "    e.fit(X_train, y_train)\n",
    "    err = metrics.median_absolute_error(y_test, e.predict(X_test))\n",
    "    errvals.append(err)\n",
    "\n",
    "\n",
    "pos = range(len(errvals))\n",
    "plt.figure(figsize=(10,5))\n",
    "plt.bar(pos, errvals, align='center')\n",
    "plt.xticks(pos, ests_labels, rotation = 90)\n",
    "plt.xlabel('Estimator')\n",
    "plt.ylabel('Median Absolute Error')"
   ]
  },
  {
   "cell_type": "code",
   "execution_count": null,
   "metadata": {
    "collapsed": true
   },
   "outputs": [],
   "source": []
  }
 ],
 "metadata": {
  "kernelspec": {
   "display_name": "Python 3",
   "language": "python",
   "name": "python3"
  },
  "language_info": {
   "codemirror_mode": {
    "name": "ipython",
    "version": 3
   },
   "file_extension": ".py",
   "mimetype": "text/x-python",
   "name": "python",
   "nbconvert_exporter": "python",
   "pygments_lexer": "ipython3",
   "version": "3.6.2"
  }
 },
 "nbformat": 4,
 "nbformat_minor": 2
}
