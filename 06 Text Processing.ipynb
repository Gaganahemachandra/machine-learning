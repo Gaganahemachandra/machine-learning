{
 "cells": [
  {
   "cell_type": "code",
   "execution_count": 1,
   "metadata": {
    "collapsed": true
   },
   "outputs": [],
   "source": [
    "import pandas as pd\n",
    "import json\n",
    "from nltk.stem.porter import PorterStemmer\n",
    "import nltk\n",
    "from bs4 import BeautifulSoup\n",
    "from nltk.corpus import stopwords\n",
    "import re\n",
    "from sklearn.feature_extraction.text import TfidfVectorizer\n",
    "import numpy as np\n",
    "\n",
    "from sklearn.linear_model import LogisticRegression\n",
    "\n",
    "\n",
    "import matplotlib.pyplot as plt\n",
    "\n",
    "from scipy.sparse import csc_matrix, csr_matrix\n",
    "\n",
    "import xgboost as xgb\n",
    "\n",
    "np.set_printoptions(precision=4)\n",
    "\n",
    "from sklearn import metrics\n",
    "\n",
    "import tensorflow as tf\n",
    "import math \n",
    "\n",
    "\n",
    "%matplotlib inline "
   ]
  },
  {
   "cell_type": "code",
   "execution_count": 2,
   "metadata": {
    "collapsed": true
   },
   "outputs": [],
   "source": [
    "import requests\n",
    "url = \"https://raw.githubusercontent.com/abulbasar/machine-learning/master/Utils.py\"\n",
    "exec(requests.get(url).text)"
   ]
  },
  {
   "cell_type": "code",
   "execution_count": 3,
   "metadata": {},
   "outputs": [
    {
     "name": "stdout",
     "output_type": "stream",
     "text": [
      "3.2.4 1.3.0\n"
     ]
    }
   ],
   "source": [
    "print(nltk.__version__, tf.__version__)"
   ]
  },
  {
   "cell_type": "code",
   "execution_count": 4,
   "metadata": {
    "scrolled": true
   },
   "outputs": [
    {
     "name": "stdout",
     "output_type": "stream",
     "text": [
      "{\"label\":\"test\",\"sentiment\":\"pos\",\"name\":\"0_10.txt\",\"content\":\"I went and saw this movie last night after being coaxed to by a few friends of mine. I'll admit that I was reluctant to see it because from what I knew of Ashton Kutcher he was only able to do comedy. I was wrong. Kutcher played the character of Jake Fischer very well, and Kevin Costner played Ben Randall with such professionalism. The sign of a good movie is that it can toy with our emotions. This one did exactly that. The entire theater (which was sold out) was overcome by laughter during the first half of the movie, and were moved to tears during the second half. While exiting the theater I not only saw many women in tears, but many full grown men as well, trying desperately not to let anyone see them crying. This movie was great, and I suggest that you go see it before you judge.\"}\r\n"
     ]
    }
   ],
   "source": [
    "!head -n 1 /data/IMDB-review/imdb-comments.json"
   ]
  },
  {
   "cell_type": "code",
   "execution_count": 5,
   "metadata": {
    "collapsed": true
   },
   "outputs": [],
   "source": [
    "data = []\n",
    "with open(\"/data/IMDB-review/imdb-comments.json\", \"r\", encoding=\"utf8\") as f:\n",
    "    for l in f.readlines():\n",
    "        data.append(json.loads(l))    "
   ]
  },
  {
   "cell_type": "code",
   "execution_count": 6,
   "metadata": {},
   "outputs": [
    {
     "data": {
      "text/html": [
       "<div>\n",
       "<style>\n",
       "    .dataframe thead tr:only-child th {\n",
       "        text-align: right;\n",
       "    }\n",
       "\n",
       "    .dataframe thead th {\n",
       "        text-align: left;\n",
       "    }\n",
       "\n",
       "    .dataframe tbody tr th {\n",
       "        vertical-align: top;\n",
       "    }\n",
       "</style>\n",
       "<table border=\"1\" class=\"dataframe\">\n",
       "  <thead>\n",
       "    <tr style=\"text-align: right;\">\n",
       "      <th></th>\n",
       "      <th>content</th>\n",
       "      <th>label</th>\n",
       "      <th>name</th>\n",
       "      <th>sentiment</th>\n",
       "    </tr>\n",
       "  </thead>\n",
       "  <tbody>\n",
       "    <tr>\n",
       "      <th>35503</th>\n",
       "      <td>When this film was originally released it was ...</td>\n",
       "      <td>train</td>\n",
       "      <td>8203_7.txt</td>\n",
       "      <td>pos</td>\n",
       "    </tr>\n",
       "    <tr>\n",
       "      <th>25536</th>\n",
       "      <td>Yes this movie is predictable and definitely n...</td>\n",
       "      <td>train</td>\n",
       "      <td>10483_8.txt</td>\n",
       "      <td>pos</td>\n",
       "    </tr>\n",
       "    <tr>\n",
       "      <th>6937</th>\n",
       "      <td>I think the consensus is pretty unanimous abou...</td>\n",
       "      <td>test</td>\n",
       "      <td>4995_7.txt</td>\n",
       "      <td>pos</td>\n",
       "    </tr>\n",
       "    <tr>\n",
       "      <th>25440</th>\n",
       "      <td>The making of The Thief Of Bagdad is quite a s...</td>\n",
       "      <td>train</td>\n",
       "      <td>10397_8.txt</td>\n",
       "      <td>pos</td>\n",
       "    </tr>\n",
       "    <tr>\n",
       "      <th>38971</th>\n",
       "      <td>I tuned into this thing one night on a cable c...</td>\n",
       "      <td>train</td>\n",
       "      <td>11324_3.txt</td>\n",
       "      <td>neg</td>\n",
       "    </tr>\n",
       "    <tr>\n",
       "      <th>47338</th>\n",
       "      <td>I guess that \"Gunslinger\" wasn't quite as god-...</td>\n",
       "      <td>train</td>\n",
       "      <td>7605_4.txt</td>\n",
       "      <td>neg</td>\n",
       "    </tr>\n",
       "    <tr>\n",
       "      <th>42779</th>\n",
       "      <td>I understand the jokes quite well, they just a...</td>\n",
       "      <td>train</td>\n",
       "      <td>3501_1.txt</td>\n",
       "      <td>neg</td>\n",
       "    </tr>\n",
       "    <tr>\n",
       "      <th>20455</th>\n",
       "      <td>I wasn`t expecting much with HARLEM NIGHTS but...</td>\n",
       "      <td>test</td>\n",
       "      <td>5910_2.txt</td>\n",
       "      <td>neg</td>\n",
       "    </tr>\n",
       "    <tr>\n",
       "      <th>8398</th>\n",
       "      <td>I was a little worried about actors and acting...</td>\n",
       "      <td>test</td>\n",
       "      <td>6309_9.txt</td>\n",
       "      <td>pos</td>\n",
       "    </tr>\n",
       "    <tr>\n",
       "      <th>11254</th>\n",
       "      <td>I am surprised people, after such lousy movies...</td>\n",
       "      <td>test</td>\n",
       "      <td>8880_7.txt</td>\n",
       "      <td>pos</td>\n",
       "    </tr>\n",
       "    <tr>\n",
       "      <th>32089</th>\n",
       "      <td>...may seem like an overstatement, but it is n...</td>\n",
       "      <td>train</td>\n",
       "      <td>5130_10.txt</td>\n",
       "      <td>pos</td>\n",
       "    </tr>\n",
       "    <tr>\n",
       "      <th>7838</th>\n",
       "      <td>The show was amazing and very professional. Ma...</td>\n",
       "      <td>test</td>\n",
       "      <td>5805_10.txt</td>\n",
       "      <td>pos</td>\n",
       "    </tr>\n",
       "    <tr>\n",
       "      <th>42072</th>\n",
       "      <td>No words can describe my utter hatred for this...</td>\n",
       "      <td>train</td>\n",
       "      <td>2866_1.txt</td>\n",
       "      <td>neg</td>\n",
       "    </tr>\n",
       "    <tr>\n",
       "      <th>42736</th>\n",
       "      <td>I saw this movie the other night and I have to...</td>\n",
       "      <td>train</td>\n",
       "      <td>3463_1.txt</td>\n",
       "      <td>neg</td>\n",
       "    </tr>\n",
       "    <tr>\n",
       "      <th>24979</th>\n",
       "      <td>210 minute version (extremely hardcore, or so ...</td>\n",
       "      <td>test</td>\n",
       "      <td>9983_3.txt</td>\n",
       "      <td>neg</td>\n",
       "    </tr>\n",
       "    <tr>\n",
       "      <th>37185</th>\n",
       "      <td>POSSIBLE SPOILER - In some way \"How to Alienat...</td>\n",
       "      <td>train</td>\n",
       "      <td>9718_7.txt</td>\n",
       "      <td>pos</td>\n",
       "    </tr>\n",
       "    <tr>\n",
       "      <th>14127</th>\n",
       "      <td>Just saw this at the cinema. I haven't read th...</td>\n",
       "      <td>test</td>\n",
       "      <td>11465_2.txt</td>\n",
       "      <td>neg</td>\n",
       "    </tr>\n",
       "    <tr>\n",
       "      <th>15586</th>\n",
       "      <td>Where do I begin with the Killing Mind before ...</td>\n",
       "      <td>test</td>\n",
       "      <td>1528_2.txt</td>\n",
       "      <td>neg</td>\n",
       "    </tr>\n",
       "    <tr>\n",
       "      <th>4325</th>\n",
       "      <td>Straight up, I love this film. I love everythi...</td>\n",
       "      <td>test</td>\n",
       "      <td>2643_9.txt</td>\n",
       "      <td>pos</td>\n",
       "    </tr>\n",
       "    <tr>\n",
       "      <th>17302</th>\n",
       "      <td>Terrible. There's no way to get around it. A s...</td>\n",
       "      <td>test</td>\n",
       "      <td>3072_3.txt</td>\n",
       "      <td>neg</td>\n",
       "    </tr>\n",
       "    <tr>\n",
       "      <th>20801</th>\n",
       "      <td>I love musicals, all of them, from joyous Okla...</td>\n",
       "      <td>test</td>\n",
       "      <td>6221_1.txt</td>\n",
       "      <td>neg</td>\n",
       "    </tr>\n",
       "    <tr>\n",
       "      <th>7244</th>\n",
       "      <td>i consider this movie as one of the most inter...</td>\n",
       "      <td>test</td>\n",
       "      <td>5270_10.txt</td>\n",
       "      <td>pos</td>\n",
       "    </tr>\n",
       "    <tr>\n",
       "      <th>4870</th>\n",
       "      <td>Two horse traders arrive in a town and meet up...</td>\n",
       "      <td>test</td>\n",
       "      <td>3133_10.txt</td>\n",
       "      <td>pos</td>\n",
       "    </tr>\n",
       "    <tr>\n",
       "      <th>3376</th>\n",
       "      <td>First time I saw this great movie and Alyssa, ...</td>\n",
       "      <td>test</td>\n",
       "      <td>178_10.txt</td>\n",
       "      <td>pos</td>\n",
       "    </tr>\n",
       "    <tr>\n",
       "      <th>18057</th>\n",
       "      <td>This 1950's howler is so bad it's unintentiona...</td>\n",
       "      <td>test</td>\n",
       "      <td>3752_4.txt</td>\n",
       "      <td>neg</td>\n",
       "    </tr>\n",
       "  </tbody>\n",
       "</table>\n",
       "</div>"
      ],
      "text/plain": [
       "                                                 content  label         name  \\\n",
       "35503  When this film was originally released it was ...  train   8203_7.txt   \n",
       "25536  Yes this movie is predictable and definitely n...  train  10483_8.txt   \n",
       "6937   I think the consensus is pretty unanimous abou...   test   4995_7.txt   \n",
       "25440  The making of The Thief Of Bagdad is quite a s...  train  10397_8.txt   \n",
       "38971  I tuned into this thing one night on a cable c...  train  11324_3.txt   \n",
       "47338  I guess that \"Gunslinger\" wasn't quite as god-...  train   7605_4.txt   \n",
       "42779  I understand the jokes quite well, they just a...  train   3501_1.txt   \n",
       "20455  I wasn`t expecting much with HARLEM NIGHTS but...   test   5910_2.txt   \n",
       "8398   I was a little worried about actors and acting...   test   6309_9.txt   \n",
       "11254  I am surprised people, after such lousy movies...   test   8880_7.txt   \n",
       "32089  ...may seem like an overstatement, but it is n...  train  5130_10.txt   \n",
       "7838   The show was amazing and very professional. Ma...   test  5805_10.txt   \n",
       "42072  No words can describe my utter hatred for this...  train   2866_1.txt   \n",
       "42736  I saw this movie the other night and I have to...  train   3463_1.txt   \n",
       "24979  210 minute version (extremely hardcore, or so ...   test   9983_3.txt   \n",
       "37185  POSSIBLE SPOILER - In some way \"How to Alienat...  train   9718_7.txt   \n",
       "14127  Just saw this at the cinema. I haven't read th...   test  11465_2.txt   \n",
       "15586  Where do I begin with the Killing Mind before ...   test   1528_2.txt   \n",
       "4325   Straight up, I love this film. I love everythi...   test   2643_9.txt   \n",
       "17302  Terrible. There's no way to get around it. A s...   test   3072_3.txt   \n",
       "20801  I love musicals, all of them, from joyous Okla...   test   6221_1.txt   \n",
       "7244   i consider this movie as one of the most inter...   test  5270_10.txt   \n",
       "4870   Two horse traders arrive in a town and meet up...   test  3133_10.txt   \n",
       "3376   First time I saw this great movie and Alyssa, ...   test   178_10.txt   \n",
       "18057  This 1950's howler is so bad it's unintentiona...   test   3752_4.txt   \n",
       "\n",
       "      sentiment  \n",
       "35503       pos  \n",
       "25536       pos  \n",
       "6937        pos  \n",
       "25440       pos  \n",
       "38971       neg  \n",
       "47338       neg  \n",
       "42779       neg  \n",
       "20455       neg  \n",
       "8398        pos  \n",
       "11254       pos  \n",
       "32089       pos  \n",
       "7838        pos  \n",
       "42072       neg  \n",
       "42736       neg  \n",
       "24979       neg  \n",
       "37185       pos  \n",
       "14127       neg  \n",
       "15586       neg  \n",
       "4325        pos  \n",
       "17302       neg  \n",
       "20801       neg  \n",
       "7244        pos  \n",
       "4870        pos  \n",
       "3376        pos  \n",
       "18057       neg  "
      ]
     },
     "execution_count": 6,
     "metadata": {},
     "output_type": "execute_result"
    }
   ],
   "source": [
    "comments = pd.DataFrame.from_dict(data)\n",
    "comments.sample(25)"
   ]
  },
  {
   "cell_type": "code",
   "execution_count": 7,
   "metadata": {},
   "outputs": [
    {
     "name": "stdout",
     "output_type": "stream",
     "text": [
      "<class 'pandas.core.frame.DataFrame'>\n",
      "RangeIndex: 50000 entries, 0 to 49999\n",
      "Data columns (total 4 columns):\n",
      "content      50000 non-null object\n",
      "label        50000 non-null object\n",
      "name         50000 non-null object\n",
      "sentiment    50000 non-null object\n",
      "dtypes: object(4)\n",
      "memory usage: 1.5+ MB\n"
     ]
    }
   ],
   "source": [
    "comments.info()"
   ]
  },
  {
   "cell_type": "code",
   "execution_count": 8,
   "metadata": {},
   "outputs": [
    {
     "data": {
      "text/plain": [
       "train    25000\n",
       "test     25000\n",
       "Name: label, dtype: int64"
      ]
     },
     "execution_count": 8,
     "metadata": {},
     "output_type": "execute_result"
    }
   ],
   "source": [
    "comments.label.value_counts()"
   ]
  },
  {
   "cell_type": "code",
   "execution_count": 9,
   "metadata": {},
   "outputs": [
    {
     "data": {
      "text/html": [
       "<div>\n",
       "<style>\n",
       "    .dataframe thead tr:only-child th {\n",
       "        text-align: right;\n",
       "    }\n",
       "\n",
       "    .dataframe thead th {\n",
       "        text-align: left;\n",
       "    }\n",
       "\n",
       "    .dataframe tbody tr th {\n",
       "        vertical-align: top;\n",
       "    }\n",
       "</style>\n",
       "<table border=\"1\" class=\"dataframe\">\n",
       "  <thead>\n",
       "    <tr style=\"text-align: right;\">\n",
       "      <th>sentiment</th>\n",
       "      <th>neg</th>\n",
       "      <th>pos</th>\n",
       "    </tr>\n",
       "    <tr>\n",
       "      <th>label</th>\n",
       "      <th></th>\n",
       "      <th></th>\n",
       "    </tr>\n",
       "  </thead>\n",
       "  <tbody>\n",
       "    <tr>\n",
       "      <th>test</th>\n",
       "      <td>12500</td>\n",
       "      <td>12500</td>\n",
       "    </tr>\n",
       "    <tr>\n",
       "      <th>train</th>\n",
       "      <td>12500</td>\n",
       "      <td>12500</td>\n",
       "    </tr>\n",
       "  </tbody>\n",
       "</table>\n",
       "</div>"
      ],
      "text/plain": [
       "sentiment    neg    pos\n",
       "label                  \n",
       "test       12500  12500\n",
       "train      12500  12500"
      ]
     },
     "execution_count": 9,
     "metadata": {},
     "output_type": "execute_result"
    }
   ],
   "source": [
    "comments.groupby([\"label\", \"sentiment\"]).content.count().unstack()"
   ]
  },
  {
   "cell_type": "code",
   "execution_count": 10,
   "metadata": {},
   "outputs": [
    {
     "data": {
      "text/plain": [
       "'When we started watching this series on cable, I had no idea how addictive it would be. Even when you hate a character, you hold back because they are so beautifully developed, you can almost understand why they react to frustration, fear, greed or temptation the way they do. It\\'s almost as if the viewer is experiencing one of Christopher\\'s learning curves.<br /><br />I can\\'t understand why Adriana would put up with Christopher\\'s abuse of her, verbally, physically and emotionally, but I just have to read the newspaper to see how many women can and do tolerate such behavior. Carmella has a dream house, endless supply of expensive things, but I\\'m sure she would give it up for a loving and faithful husband - or maybe not. That\\'s why I watch.<br /><br />It doesn\\'t matter how many times you watch an episode, you can find something you missed the first five times. We even watch episodes out of sequence (watch season 1 on late night with commercials but all the language, A&E with language censored, reruns on the Movie Network) - whenever they\\'re on, we\\'re there. We\\'ve been totally spoiled now.<br /><br />I also love the Malaprop\\'s. \"An albacore around my neck\" is my favorite of Johnny Boy. When these jewels have entered our family vocabulary, it is a sign that I should get a life. I will when the series ends, and I have collected all the DVD\\'s, and put the collection in my will.'"
      ]
     },
     "execution_count": 10,
     "metadata": {},
     "output_type": "execute_result"
    }
   ],
   "source": [
    "np.random.seed(1)\n",
    "v = list(comments[\"content\"].sample(1))[0]\n",
    "v"
   ]
  },
  {
   "cell_type": "code",
   "execution_count": 11,
   "metadata": {
    "scrolled": false
   },
   "outputs": [
    {
     "data": {
      "text/plain": [
       "'when we started watching this series on cable i had no idea how addictive it would be even when you hate a character you hold back because they are so beautifully developed you can almost understand why they react to frustration fear greed or temptation the way they do it s almost as if the viewer is experiencing one of christopher s learning curves i can t understand why adriana would put up with christopher s abuse of her verbally physically and emotionally but i just have to read the newspaper to see how many women can and do tolerate such behavior carmella has a dream house endless supply of expensive things but i m sure she would give it up for a loving and faithful husband or maybe not that s why i watch it doesn t matter how many times you watch an episode you can find something you missed the first five times we even watch episodes out of sequence watch season 1 on late night with commercials but all the language a e with language censored reruns on the movie network whenever they re on we re there we ve been totally spoiled now i also love the malaprop s an albacore around my neck is my favorite of johnny boy when these jewels have entered our family vocabulary it is a sign that i should get a life i will when the series ends and i have collected all the dvd s and put the collection in my will '"
      ]
     },
     "execution_count": 11,
     "metadata": {},
     "output_type": "execute_result"
    }
   ],
   "source": [
    "def preprocess(text):\n",
    "    text = BeautifulSoup(text, \"html5lib\").text.lower() #removed html tags\n",
    "    text = re.sub(\"[\\W]+\", \" \", text)\n",
    "    return text\n",
    "\n",
    "preprocess(v)"
   ]
  },
  {
   "cell_type": "code",
   "execution_count": 12,
   "metadata": {},
   "outputs": [
    {
     "name": "stdout",
     "output_type": "stream",
     "text": [
      "CPU times: user 50.8 s, sys: 0 ns, total: 50.8 s\n",
      "Wall time: 50.8 s\n"
     ]
    }
   ],
   "source": [
    "%%time\n",
    "comments[\"content\"] = comments[\"content\"].apply(preprocess)"
   ]
  },
  {
   "cell_type": "code",
   "execution_count": 13,
   "metadata": {},
   "outputs": [
    {
     "data": {
      "text/html": [
       "<div>\n",
       "<style>\n",
       "    .dataframe thead tr:only-child th {\n",
       "        text-align: right;\n",
       "    }\n",
       "\n",
       "    .dataframe thead th {\n",
       "        text-align: left;\n",
       "    }\n",
       "\n",
       "    .dataframe tbody tr th {\n",
       "        vertical-align: top;\n",
       "    }\n",
       "</style>\n",
       "<table border=\"1\" class=\"dataframe\">\n",
       "  <thead>\n",
       "    <tr style=\"text-align: right;\">\n",
       "      <th></th>\n",
       "      <th>content</th>\n",
       "      <th>label</th>\n",
       "      <th>name</th>\n",
       "      <th>sentiment</th>\n",
       "    </tr>\n",
       "  </thead>\n",
       "  <tbody>\n",
       "    <tr>\n",
       "      <th>25496</th>\n",
       "      <td>there are many people in our lives that we mee...</td>\n",
       "      <td>train</td>\n",
       "      <td>10447_10.txt</td>\n",
       "      <td>pos</td>\n",
       "    </tr>\n",
       "    <tr>\n",
       "      <th>41520</th>\n",
       "      <td>sixth escapade for freddy krueger in which he ...</td>\n",
       "      <td>train</td>\n",
       "      <td>2369_4.txt</td>\n",
       "      <td>neg</td>\n",
       "    </tr>\n",
       "    <tr>\n",
       "      <th>48525</th>\n",
       "      <td>the first few minutes of the bodyguard do have...</td>\n",
       "      <td>train</td>\n",
       "      <td>8674_2.txt</td>\n",
       "      <td>neg</td>\n",
       "    </tr>\n",
       "    <tr>\n",
       "      <th>26037</th>\n",
       "      <td>after reviewing this intense martial arts movi...</td>\n",
       "      <td>train</td>\n",
       "      <td>10934_10.txt</td>\n",
       "      <td>pos</td>\n",
       "    </tr>\n",
       "    <tr>\n",
       "      <th>43823</th>\n",
       "      <td>triumph of love is proof that not every coméd...</td>\n",
       "      <td>train</td>\n",
       "      <td>4441_3.txt</td>\n",
       "      <td>neg</td>\n",
       "    </tr>\n",
       "    <tr>\n",
       "      <th>39666</th>\n",
       "      <td>this is without a doubt the worst movie i have...</td>\n",
       "      <td>train</td>\n",
       "      <td>11950_2.txt</td>\n",
       "      <td>neg</td>\n",
       "    </tr>\n",
       "    <tr>\n",
       "      <th>40882</th>\n",
       "      <td>i had the opportunity to preview this film as ...</td>\n",
       "      <td>train</td>\n",
       "      <td>1795_2.txt</td>\n",
       "      <td>neg</td>\n",
       "    </tr>\n",
       "    <tr>\n",
       "      <th>43156</th>\n",
       "      <td>roeg has done some great movies but this a tur...</td>\n",
       "      <td>train</td>\n",
       "      <td>3841_1.txt</td>\n",
       "      <td>neg</td>\n",
       "    </tr>\n",
       "    <tr>\n",
       "      <th>37185</th>\n",
       "      <td>possible spoiler in some way how to alienate f...</td>\n",
       "      <td>train</td>\n",
       "      <td>9718_7.txt</td>\n",
       "      <td>pos</td>\n",
       "    </tr>\n",
       "    <tr>\n",
       "      <th>40330</th>\n",
       "      <td>sogo ishii can be a skilled filmmaker under th...</td>\n",
       "      <td>train</td>\n",
       "      <td>1298_3.txt</td>\n",
       "      <td>neg</td>\n",
       "    </tr>\n",
       "  </tbody>\n",
       "</table>\n",
       "</div>"
      ],
      "text/plain": [
       "                                                 content  label          name  \\\n",
       "25496  there are many people in our lives that we mee...  train  10447_10.txt   \n",
       "41520  sixth escapade for freddy krueger in which he ...  train    2369_4.txt   \n",
       "48525  the first few minutes of the bodyguard do have...  train    8674_2.txt   \n",
       "26037  after reviewing this intense martial arts movi...  train  10934_10.txt   \n",
       "43823   triumph of love is proof that not every coméd...  train    4441_3.txt   \n",
       "39666  this is without a doubt the worst movie i have...  train   11950_2.txt   \n",
       "40882  i had the opportunity to preview this film as ...  train    1795_2.txt   \n",
       "43156  roeg has done some great movies but this a tur...  train    3841_1.txt   \n",
       "37185  possible spoiler in some way how to alienate f...  train    9718_7.txt   \n",
       "40330  sogo ishii can be a skilled filmmaker under th...  train    1298_3.txt   \n",
       "\n",
       "      sentiment  \n",
       "25496       pos  \n",
       "41520       neg  \n",
       "48525       neg  \n",
       "26037       pos  \n",
       "43823       neg  \n",
       "39666       neg  \n",
       "40882       neg  \n",
       "43156       neg  \n",
       "37185       pos  \n",
       "40330       neg  "
      ]
     },
     "execution_count": 13,
     "metadata": {},
     "output_type": "execute_result"
    }
   ],
   "source": [
    "comments_train = comments[comments[\"label\"] == \"train\"]\n",
    "comments_train.sample(10)"
   ]
  },
  {
   "cell_type": "code",
   "execution_count": 14,
   "metadata": {
    "scrolled": true
   },
   "outputs": [
    {
     "data": {
      "text/html": [
       "<div>\n",
       "<style>\n",
       "    .dataframe thead tr:only-child th {\n",
       "        text-align: right;\n",
       "    }\n",
       "\n",
       "    .dataframe thead th {\n",
       "        text-align: left;\n",
       "    }\n",
       "\n",
       "    .dataframe tbody tr th {\n",
       "        vertical-align: top;\n",
       "    }\n",
       "</style>\n",
       "<table border=\"1\" class=\"dataframe\">\n",
       "  <thead>\n",
       "    <tr style=\"text-align: right;\">\n",
       "      <th></th>\n",
       "      <th>content</th>\n",
       "      <th>label</th>\n",
       "      <th>name</th>\n",
       "      <th>sentiment</th>\n",
       "    </tr>\n",
       "  </thead>\n",
       "  <tbody>\n",
       "    <tr>\n",
       "      <th>21277</th>\n",
       "      <td>this is one of those movies where i was rootin...</td>\n",
       "      <td>test</td>\n",
       "      <td>6650_1.txt</td>\n",
       "      <td>neg</td>\n",
       "    </tr>\n",
       "    <tr>\n",
       "      <th>12620</th>\n",
       "      <td>spoilersi m going to be as kind as i can about...</td>\n",
       "      <td>test</td>\n",
       "      <td>10108_1.txt</td>\n",
       "      <td>neg</td>\n",
       "    </tr>\n",
       "    <tr>\n",
       "      <th>4485</th>\n",
       "      <td>as a former erasmus student i enjoyed this fil...</td>\n",
       "      <td>test</td>\n",
       "      <td>2788_9.txt</td>\n",
       "      <td>pos</td>\n",
       "    </tr>\n",
       "    <tr>\n",
       "      <th>4744</th>\n",
       "      <td>francis ford coppola s masterpiece was a great...</td>\n",
       "      <td>test</td>\n",
       "      <td>301_10.txt</td>\n",
       "      <td>pos</td>\n",
       "    </tr>\n",
       "    <tr>\n",
       "      <th>10329</th>\n",
       "      <td>some of the reviewers here have foolishly judg...</td>\n",
       "      <td>test</td>\n",
       "      <td>8047_10.txt</td>\n",
       "      <td>pos</td>\n",
       "    </tr>\n",
       "    <tr>\n",
       "      <th>14366</th>\n",
       "      <td>this is by far one of the most pretentious fil...</td>\n",
       "      <td>test</td>\n",
       "      <td>11680_1.txt</td>\n",
       "      <td>neg</td>\n",
       "    </tr>\n",
       "    <tr>\n",
       "      <th>1007</th>\n",
       "      <td>this is truly a funny movie his dance scene do...</td>\n",
       "      <td>test</td>\n",
       "      <td>10907_8.txt</td>\n",
       "      <td>pos</td>\n",
       "    </tr>\n",
       "    <tr>\n",
       "      <th>4539</th>\n",
       "      <td>this film released in 1951 has the usual eleme...</td>\n",
       "      <td>test</td>\n",
       "      <td>2836_8.txt</td>\n",
       "      <td>pos</td>\n",
       "    </tr>\n",
       "    <tr>\n",
       "      <th>7864</th>\n",
       "      <td>one of the best tv shows out there if not the ...</td>\n",
       "      <td>test</td>\n",
       "      <td>5829_10.txt</td>\n",
       "      <td>pos</td>\n",
       "    </tr>\n",
       "    <tr>\n",
       "      <th>19582</th>\n",
       "      <td>this movie was jerry bruckheimer s idea to sel...</td>\n",
       "      <td>test</td>\n",
       "      <td>5124_4.txt</td>\n",
       "      <td>neg</td>\n",
       "    </tr>\n",
       "  </tbody>\n",
       "</table>\n",
       "</div>"
      ],
      "text/plain": [
       "                                                 content label         name  \\\n",
       "21277  this is one of those movies where i was rootin...  test   6650_1.txt   \n",
       "12620  spoilersi m going to be as kind as i can about...  test  10108_1.txt   \n",
       "4485   as a former erasmus student i enjoyed this fil...  test   2788_9.txt   \n",
       "4744   francis ford coppola s masterpiece was a great...  test   301_10.txt   \n",
       "10329  some of the reviewers here have foolishly judg...  test  8047_10.txt   \n",
       "14366  this is by far one of the most pretentious fil...  test  11680_1.txt   \n",
       "1007   this is truly a funny movie his dance scene do...  test  10907_8.txt   \n",
       "4539   this film released in 1951 has the usual eleme...  test   2836_8.txt   \n",
       "7864   one of the best tv shows out there if not the ...  test  5829_10.txt   \n",
       "19582  this movie was jerry bruckheimer s idea to sel...  test   5124_4.txt   \n",
       "\n",
       "      sentiment  \n",
       "21277       neg  \n",
       "12620       neg  \n",
       "4485        pos  \n",
       "4744        pos  \n",
       "10329       pos  \n",
       "14366       neg  \n",
       "1007        pos  \n",
       "4539        pos  \n",
       "7864        pos  \n",
       "19582       neg  "
      ]
     },
     "execution_count": 14,
     "metadata": {},
     "output_type": "execute_result"
    }
   ],
   "source": [
    "comments_test = comments[comments[\"label\"] == \"test\"]\n",
    "comments_test.sample(10)"
   ]
  },
  {
   "cell_type": "code",
   "execution_count": 15,
   "metadata": {
    "collapsed": true
   },
   "outputs": [],
   "source": [
    "X_train = comments_train[\"content\"].values\n",
    "y_train = np.where(comments_train.sentiment == \"pos\", 1, 0)"
   ]
  },
  {
   "cell_type": "code",
   "execution_count": 16,
   "metadata": {
    "collapsed": true
   },
   "outputs": [],
   "source": [
    "X_test = comments_test[\"content\"].values\n",
    "y_test = np.where(comments_test.sentiment == \"pos\", 1, 0)"
   ]
  },
  {
   "cell_type": "code",
   "execution_count": 17,
   "metadata": {},
   "outputs": [
    {
     "name": "stdout",
     "output_type": "stream",
     "text": [
      "revival reviv\n",
      "allowance allow\n",
      "inference infer\n",
      "relational relat\n"
     ]
    }
   ],
   "source": [
    "# http://snowball.tartarus.org/algorithms/porter/stemmer.html\n",
    "porter = PorterStemmer()\n",
    "for s in \"revival allowance inference relational\".split():\n",
    "    print(s, porter.stem(s))"
   ]
  },
  {
   "cell_type": "code",
   "execution_count": 18,
   "metadata": {},
   "outputs": [
    {
     "data": {
      "text/plain": [
       "['the', 'sun', 'is', 'shine', '.', 'allow']"
      ]
     },
     "execution_count": 18,
     "metadata": {},
     "output_type": "execute_result"
    }
   ],
   "source": [
    "def my_tokenier(s):\n",
    "    return [porter.stem(w) for w in nltk.word_tokenize(s)]\n",
    "my_tokenier(\"The sun is shining. Allowance\")"
   ]
  },
  {
   "cell_type": "code",
   "execution_count": 19,
   "metadata": {},
   "outputs": [
    {
     "name": "stdout",
     "output_type": "stream",
     "text": [
      "TFIDF matrix: \n",
      " [[ 0.5174  0.3935  0.5174  0.      0.3935  0.3935  0.      0.      0.    ]\n",
      " [ 0.      0.      0.      0.      0.      0.      0.5774  0.5774  0.5774]\n",
      " [ 0.      0.3597  0.      0.473   0.3597  0.3597  0.3597  0.3597  0.3597]]\n",
      "Vocabulary:  {'sun': 4, 'shine': 1, 'allow': 0, 'sun shine': 5, 'shine allow': 2, 'weather': 7, 'sweet': 6, 'weather sweet': 8, 'shine weather': 3}\n"
     ]
    }
   ],
   "source": [
    "stop = stopwords.words(\"english\")\n",
    "tfidf = TfidfVectorizer(tokenizer=my_tokenier, ngram_range=(1, 2), stop_words = stop)\n",
    "\n",
    "docs = [\"The sun is shining allowance\", \"The weather is sweet\", \"the sun is shining and the weather is sweet\"]\n",
    "print(\"TFIDF matrix: \\n\", tfidf.fit_transform(docs).toarray())\n",
    "print(\"Vocabulary: \", tfidf.vocabulary_) # returns term and index in the feature matrix"
   ]
  },
  {
   "cell_type": "code",
   "execution_count": 20,
   "metadata": {},
   "outputs": [
    {
     "name": "stdout",
     "output_type": "stream",
     "text": [
      "CPU times: user 2min 50s, sys: 184 ms, total: 2min 50s\n",
      "Wall time: 2min 50s\n"
     ]
    }
   ],
   "source": [
    "%%time\n",
    "X_train_tfidf = tfidf.fit_transform(X_train)\n",
    "X_test_tfidf = tfidf.transform(X_test)"
   ]
  },
  {
   "cell_type": "code",
   "execution_count": 21,
   "metadata": {},
   "outputs": [
    {
     "data": {
      "text/plain": [
       "((25000, 1585362), (25000,), (25000, 1585362), (25000,))"
      ]
     },
     "execution_count": 21,
     "metadata": {},
     "output_type": "execute_result"
    }
   ],
   "source": [
    "X_test_tfidf.shape, y_test.shape, X_train_tfidf.shape, y_train.shape"
   ]
  },
  {
   "cell_type": "code",
   "execution_count": 22,
   "metadata": {},
   "outputs": [
    {
     "data": {
      "text/plain": [
       "147.64834195375443"
      ]
     },
     "execution_count": 22,
     "metadata": {},
     "output_type": "execute_result"
    }
   ],
   "source": [
    "cell_count = X_test_tfidf.shape[0] * X_test_tfidf.shape[1]\n",
    "cell_count * 4 / (1024 ** 3) # GB "
   ]
  },
  {
   "cell_type": "code",
   "execution_count": 23,
   "metadata": {},
   "outputs": [
    {
     "data": {
      "text/plain": [
       "0.9998577816296845"
      ]
     },
     "execution_count": 23,
     "metadata": {},
     "output_type": "execute_result"
    }
   ],
   "source": [
    "sparsity = 1 - X_train_tfidf.count_nonzero() / cell_count\n",
    "sparsity"
   ]
  },
  {
   "cell_type": "code",
   "execution_count": 24,
   "metadata": {},
   "outputs": [
    {
     "data": {
      "text/plain": [
       "0.9998577816296845"
      ]
     },
     "execution_count": 24,
     "metadata": {},
     "output_type": "execute_result"
    }
   ],
   "source": [
    "1 - X_train_tfidf.nnz / cell_count"
   ]
  },
  {
   "cell_type": "markdown",
   "metadata": {},
   "source": [
    "Important terms"
   ]
  },
  {
   "cell_type": "code",
   "execution_count": 25,
   "metadata": {
    "scrolled": false
   },
   "outputs": [
    {
     "name": "stdout",
     "output_type": "stream",
     "text": [
      "Total important terms 1585362\n"
     ]
    },
    {
     "data": {
      "text/html": [
       "<div>\n",
       "<style>\n",
       "    .dataframe thead tr:only-child th {\n",
       "        text-align: right;\n",
       "    }\n",
       "\n",
       "    .dataframe thead th {\n",
       "        text-align: left;\n",
       "    }\n",
       "\n",
       "    .dataframe tbody tr th {\n",
       "        vertical-align: top;\n",
       "    }\n",
       "</style>\n",
       "<table border=\"1\" class=\"dataframe\">\n",
       "  <thead>\n",
       "    <tr style=\"text-align: right;\">\n",
       "      <th></th>\n",
       "      <th>index</th>\n",
       "      <th>avg_score</th>\n",
       "    </tr>\n",
       "  </thead>\n",
       "  <tbody>\n",
       "    <tr>\n",
       "      <th>1391748</th>\n",
       "      <td>thi</td>\n",
       "      <td>0.028844</td>\n",
       "    </tr>\n",
       "    <tr>\n",
       "      <th>919472</th>\n",
       "      <td>movi</td>\n",
       "      <td>0.026900</td>\n",
       "    </tr>\n",
       "    <tr>\n",
       "      <th>518561</th>\n",
       "      <td>film</td>\n",
       "      <td>0.023091</td>\n",
       "    </tr>\n",
       "    <tr>\n",
       "      <th>1504105</th>\n",
       "      <td>wa</td>\n",
       "      <td>0.023083</td>\n",
       "    </tr>\n",
       "    <tr>\n",
       "      <th>655814</th>\n",
       "      <td>hi</td>\n",
       "      <td>0.014616</td>\n",
       "    </tr>\n",
       "    <tr>\n",
       "      <th>984380</th>\n",
       "      <td>one</td>\n",
       "      <td>0.013722</td>\n",
       "    </tr>\n",
       "    <tr>\n",
       "      <th>1394790</th>\n",
       "      <td>thi movi</td>\n",
       "      <td>0.012572</td>\n",
       "    </tr>\n",
       "    <tr>\n",
       "      <th>806031</th>\n",
       "      <td>like</td>\n",
       "      <td>0.012431</td>\n",
       "    </tr>\n",
       "    <tr>\n",
       "      <th>600457</th>\n",
       "      <td>good</td>\n",
       "      <td>0.010272</td>\n",
       "    </tr>\n",
       "    <tr>\n",
       "      <th>1519015</th>\n",
       "      <td>watch</td>\n",
       "      <td>0.010097</td>\n",
       "    </tr>\n",
       "  </tbody>\n",
       "</table>\n",
       "</div>"
      ],
      "text/plain": [
       "            index  avg_score\n",
       "1391748       thi   0.028844\n",
       "919472       movi   0.026900\n",
       "518561       film   0.023091\n",
       "1504105        wa   0.023083\n",
       "655814         hi   0.014616\n",
       "984380        one   0.013722\n",
       "1394790  thi movi   0.012572\n",
       "806031       like   0.012431\n",
       "600457       good   0.010272\n",
       "1519015     watch   0.010097"
      ]
     },
     "execution_count": 25,
     "metadata": {},
     "output_type": "execute_result"
    }
   ],
   "source": [
    "terms = pd.DataFrame({\"term\": pd.Series(tfidf.vocabulary_), \n",
    "              \"avg_score\": np.array(csc_matrix.mean(X_train_tfidf, axis=0))[0, :]})\n",
    "terms= terms.reset_index()\n",
    "terms = terms.sort_values(\"avg_score\", ascending = False)\n",
    "del terms[\"term\"]\n",
    "print(\"Total important terms\", terms.shape[0])\n",
    "terms.head(10)"
   ]
  },
  {
   "cell_type": "code",
   "execution_count": 26,
   "metadata": {},
   "outputs": [
    {
     "data": {
      "image/png": "[encoded data removed]",
      "text/plain": [
       "<matplotlib.figure.Figure at 0x7f8dd15edb00>"
      ]
     },
     "metadata": {},
     "output_type": "display_data"
    }
   ],
   "source": [
    "plt.subplot(1, 2, 1)\n",
    "plt.hist(X_train_tfidf.data, bins = 100);\n",
    "plt.title(\"Train: %d\" % (len(X_train_tfidf.data)))\n",
    "plt.subplot(1, 2, 2)\n",
    "plt.hist(X_test_tfidf.data, bins = 100)\n",
    "plt.title(\"Test: %d\" % (len(X_test_tfidf.data)))\n",
    "plt.tight_layout()"
   ]
  },
  {
   "cell_type": "code",
   "execution_count": 27,
   "metadata": {},
   "outputs": [
    {
     "name": "stdout",
     "output_type": "stream",
     "text": [
      "accuracy:  0.8862\n",
      "CPU times: user 4.72 s, sys: 108 ms, total: 4.83 s\n",
      "Wall time: 4.88 s\n"
     ]
    }
   ],
   "source": [
    "%%time\n",
    "lr = LogisticRegression(C = 1, random_state = 0, n_jobs = 8, solver=\"saga\")\n",
    "lr.fit(X_train_tfidf, y_train)\n",
    "y_test_pred = lr.predict(X_test_tfidf)\n",
    "print(\"accuracy: \", metrics.accuracy_score(y_test, y_test_pred))"
   ]
  },
  {
   "cell_type": "code",
   "execution_count": 28,
   "metadata": {},
   "outputs": [
    {
     "data": {
      "image/png": "[encoded data removed]",
      "text/plain": [
       "<matplotlib.figure.Figure at 0x7f8dc99b1b70>"
      ]
     },
     "metadata": {},
     "output_type": "display_data"
    }
   ],
   "source": [
    "fpr, tpr, thresholds = metrics.roc_curve(y_test, lr.predict_proba(X_test_tfidf)[:, [1]])\n",
    "auc = metrics.auc(fpr, tpr)\n",
    "\n",
    "plt.plot(fpr, tpr)\n",
    "plt.ylim(0, 1)\n",
    "plt.xlim(0, 1)\n",
    "plt.plot([0,1], [0,1], ls = \"--\", color = \"k\")\n",
    "plt.xlabel(\"False Postive Rate\")\n",
    "plt.ylabel(\"True Positive Rate\")\n",
    "plt.title(\"ROC Curve, auc: %.4f\" % auc);"
   ]
  },
  {
   "cell_type": "code",
   "execution_count": 29,
   "metadata": {},
   "outputs": [
    {
     "name": "stdout",
     "output_type": "stream",
     "text": [
      "accuracy:  0.86536\n",
      "CPU times: user 196 ms, sys: 104 ms, total: 300 ms\n",
      "Wall time: 198 ms\n"
     ]
    }
   ],
   "source": [
    "%%time\n",
    "from sklearn.naive_bayes import MultinomialNB\n",
    "bayes = MultinomialNB(alpha=1)\n",
    "bayes.fit(X_train_tfidf, y_train)\n",
    "print(\"accuracy: \", bayes.score(X_test_tfidf, y_test))"
   ]
  },
  {
   "cell_type": "code",
   "execution_count": 30,
   "metadata": {},
   "outputs": [
    {
     "name": "stdout",
     "output_type": "stream",
     "text": [
      "accuracy:  0.85312\n",
      "CPU times: user 11min 36s, sys: 1.87 s, total: 11min 38s\n",
      "Wall time: 2min 12s\n"
     ]
    }
   ],
   "source": [
    "%%time\n",
    "gbm = xgb.XGBClassifier(n_jobs = 8, max_depth=10, gamma= 0.1)\n",
    "gbm.fit(X_train_tfidf, y_train)\n",
    "print(\"accuracy: \", gbm.score(X_test_tfidf, y_test))"
   ]
  },
  {
   "cell_type": "code",
   "execution_count": 31,
   "metadata": {
    "scrolled": false
   },
   "outputs": [
    {
     "name": "stdout",
     "output_type": "stream",
     "text": [
      "{'iteration': 0, 'cost': 0.69315331357091492, 'train accuracy': 0.4765625, 'test accuracy': 0.64164001}\n",
      "{'iteration': 100, 'cost': 0.60099022971449678, 'train accuracy': 0.98046875, 'test accuracy': 0.85004002}\n",
      "{'iteration': 200, 'cost': 0.52921237754037875, 'train accuracy': 0.9765625, 'test accuracy': 0.85751998}\n",
      "{'iteration': 300, 'cost': 0.46615370963605862, 'train accuracy': 0.97265625, 'test accuracy': 0.86148}\n",
      "{'iteration': 400, 'cost': 0.41335510934947772, 'train accuracy': 0.984375, 'test accuracy': 0.86603999}\n",
      "{'iteration': 500, 'cost': 0.36252826611504185, 'train accuracy': 0.984375, 'test accuracy': 0.86900002}\n",
      "{'iteration': 600, 'cost': 0.31633576823769805, 'train accuracy': 0.99609375, 'test accuracy': 0.87224001}\n",
      "{'iteration': 700, 'cost': 0.2830070532559803, 'train accuracy': 0.9921875, 'test accuracy': 0.87459999}\n",
      "{'iteration': 800, 'cost': 0.26008255560317595, 'train accuracy': 0.9921875, 'test accuracy': 0.87668002}\n",
      "{'iteration': 900, 'cost': 0.23339452493526841, 'train accuracy': 0.99609375, 'test accuracy': 0.87787998}\n",
      "{'iteration': 1000, 'cost': 0.20236814935959768, 'train accuracy': 1.0, 'test accuracy': 0.87915999}\n",
      "{'iteration': 1100, 'cost': 0.18757586124575149, 'train accuracy': 1.0, 'test accuracy': 0.88032001}\n",
      "{'iteration': 1200, 'cost': 0.16164963684934075, 'train accuracy': 1.0, 'test accuracy': 0.88160002}\n",
      "{'iteration': 1300, 'cost': 0.16900890544543332, 'train accuracy': 0.99609375, 'test accuracy': 0.88279998}\n",
      "{'iteration': 1400, 'cost': 0.1408237945947432, 'train accuracy': 0.99609375, 'test accuracy': 0.88380003}\n",
      "{'iteration': 1500, 'cost': 0.12972300433537118, 'train accuracy': 1.0, 'test accuracy': 0.88516003}\n",
      "{'iteration': 1600, 'cost': 0.11689353404379885, 'train accuracy': 1.0, 'test accuracy': 0.88587999}\n",
      "{'iteration': 1700, 'cost': 0.10972607057633027, 'train accuracy': 1.0, 'test accuracy': 0.88635999}\n",
      "{'iteration': 1800, 'cost': 0.11128412467963222, 'train accuracy': 0.99609375, 'test accuracy': 0.88704002}\n",
      "{'iteration': 1900, 'cost': 0.09557560078020183, 'train accuracy': 1.0, 'test accuracy': 0.88731998}\n",
      "{'iteration': 2000, 'cost': 0.092173326997958438, 'train accuracy': 1.0, 'test accuracy': 0.8876}\n",
      "{'iteration': 2100, 'cost': 0.081118241884760467, 'train accuracy': 1.0, 'test accuracy': 0.88775998}\n",
      "{'iteration': 2200, 'cost': 0.081907172228732034, 'train accuracy': 1.0, 'test accuracy': 0.88788003}\n",
      "{'iteration': 2300, 'cost': 0.069294613038123759, 'train accuracy': 1.0, 'test accuracy': 0.88836002}\n",
      "{'iteration': 2400, 'cost': 0.062708792309649417, 'train accuracy': 1.0, 'test accuracy': 0.88859999}\n",
      "{'iteration': 2500, 'cost': 0.069335200786696638, 'train accuracy': 1.0, 'test accuracy': 0.88840002}\n",
      "{'iteration': 2600, 'cost': 0.056815152988988163, 'train accuracy': 1.0, 'test accuracy': 0.88844001}\n",
      "{'iteration': 2700, 'cost': 0.057442828799676889, 'train accuracy': 1.0, 'test accuracy': 0.88859999}\n",
      "{'iteration': 2800, 'cost': 0.052185473454825423, 'train accuracy': 1.0, 'test accuracy': 0.88884002}\n",
      "{'iteration': 2900, 'cost': 0.048043735531008096, 'train accuracy': 1.0, 'test accuracy': 0.88911998}\n",
      "{'iteration': 3000, 'cost': 0.047675356937069008, 'train accuracy': 1.0, 'test accuracy': 0.88924003}\n",
      "{'iteration': 3100, 'cost': 0.043795837420856784, 'train accuracy': 1.0, 'test accuracy': 0.88955998}\n",
      "{'iteration': 3200, 'cost': 0.040551471550739314, 'train accuracy': 1.0, 'test accuracy': 0.88963997}\n",
      "{'iteration': 3300, 'cost': 0.037885071597977479, 'train accuracy': 1.0, 'test accuracy': 0.88972002}\n",
      "{'iteration': 3400, 'cost': 0.03738355351110928, 'train accuracy': 1.0, 'test accuracy': 0.88963997}\n",
      "{'iteration': 3500, 'cost': 0.032589519317715171, 'train accuracy': 1.0, 'test accuracy': 0.88972002}\n",
      "{'iteration': 3600, 'cost': 0.032462090158983367, 'train accuracy': 1.0, 'test accuracy': 0.89012003}\n",
      "{'iteration': 3700, 'cost': 0.029433800343681975, 'train accuracy': 1.0, 'test accuracy': 0.89020002}\n",
      "{'iteration': 3800, 'cost': 0.028165096560055385, 'train accuracy': 1.0, 'test accuracy': 0.89016002}\n",
      "{'iteration': 3900, 'cost': 0.028693402607515659, 'train accuracy': 1.0, 'test accuracy': 0.89024001}\n",
      "{'iteration': 4000, 'cost': 0.025752183168859341, 'train accuracy': 1.0, 'test accuracy': 0.89032}\n",
      "{'iteration': 4100, 'cost': 0.024877179565741515, 'train accuracy': 1.0, 'test accuracy': 0.89032}\n",
      "{'iteration': 4200, 'cost': 0.025590852244972297, 'train accuracy': 1.0, 'test accuracy': 0.89068002}\n",
      "{'iteration': 4300, 'cost': 0.023355630996381313, 'train accuracy': 1.0, 'test accuracy': 0.89083999}\n",
      "{'iteration': 4400, 'cost': 0.022484706950839321, 'train accuracy': 1.0, 'test accuracy': 0.89099997}\n",
      "{'iteration': 4500, 'cost': 0.019825938859559661, 'train accuracy': 1.0, 'test accuracy': 0.89112002}\n",
      "{'iteration': 4600, 'cost': 0.019589998172346766, 'train accuracy': 1.0, 'test accuracy': 0.89112002}\n",
      "{'iteration': 4700, 'cost': 0.020145172830124822, 'train accuracy': 1.0, 'test accuracy': 0.89135998}\n",
      "{'iteration': 4800, 'cost': 0.016609762369487989, 'train accuracy': 1.0, 'test accuracy': 0.89148003}\n",
      "{'iteration': 4900, 'cost': 0.016873815494792499, 'train accuracy': 1.0, 'test accuracy': 0.89160001}\n"
     ]
    },
    {
     "data": {
      "image/png": "[encoded data removed]",
      "text/plain": [
       "<matplotlib.figure.Figure at 0x7f8dbe51fe80>"
      ]
     },
     "metadata": {},
     "output_type": "display_data"
    }
   ],
   "source": [
    "tf.reset_default_graph()\n",
    "\n",
    "n_x, n_y = 1585362, 2\n",
    "n_h = 100\n",
    "iterations = 5000\n",
    "alpha = 0.0\n",
    "scores = []\n",
    "\n",
    "def to_sparse_tensor_value(a):\n",
    "    indices = np.array(a.nonzero()).T\n",
    "    return tf.SparseTensorValue(indices, a.data, np.array(a.shape))\n",
    "\n",
    "#X = tf.placeholder(tf.float32, [None, n_x], \"X\")\n",
    "X = tf.sparse_placeholder(tf.float64, [None, n_x], \"X\")\n",
    "y = tf.placeholder(tf.int32, [None], \"y\")\n",
    "\n",
    "y_oh = tf.one_hot(y, depth = n_y)\n",
    "\n",
    "W1 = tf.get_variable(\"W1\", initializer = tf.contrib.layers.xavier_initializer(), shape=[n_x, n_y], dtype=tf.float64)\n",
    "b1 = tf.zeros([n_y], name=\"b\", dtype=tf.float64)\n",
    "A1 = tf.nn.relu(tf.sparse_tensor_dense_matmul(X, W1) + b1)\n",
    "\n",
    "W2 = tf.get_variable(\"W2\", initializer = tf.contrib.layers.xavier_initializer(), shape=[n_h, n_y], dtype=tf.float64)\n",
    "b2 = tf.zeros([n_y], name=\"b\", dtype=tf.float64)\n",
    "\n",
    "#y_pred = tf.matmul(X, W1) + b1\n",
    "y_pred = tf.sparse_tensor_dense_matmul(X, W1) + b1\n",
    "\n",
    "cost = tf.reduce_mean(tf.nn.softmax_cross_entropy_with_logits(logits=y_pred, labels= y_oh) + alpha * tf.nn.l2_loss(W1))\n",
    "optimization = tf.train.AdamOptimizer(learning_rate=1e-3).minimize(cost)\n",
    "correct_mask = tf.equal(tf.argmax(y_pred, 1, output_type=tf.int32), y)\n",
    "accuracy = tf.reduce_mean(tf.cast(correct_mask, tf.float32))\n",
    "\n",
    "init = tf.global_variables_initializer()\n",
    "\n",
    "with tf.Session() as sess:\n",
    "    sess.run(init)\n",
    "    \n",
    "    batchable = Batchable(X_train_tfidf, y_train,batch_size=256)\n",
    "    for i in range(iterations):\n",
    "        X_batch, y_batch = batchable.next()\n",
    "\n",
    "        _, cost_, train_accuracy_ = sess.run([optimization, cost, accuracy], \n",
    "                                             feed_dict={X: to_sparse_tensor_value(X_batch), y: y_batch})\n",
    "        scores.append(cost_)\n",
    "        if i % 100 == 0:\n",
    "            test_accuracy = sess.run(accuracy, feed_dict = {X: to_sparse_tensor_value(X_test_tfidf), y: y_test})\n",
    "            d = {\"iteration\": i,\"cost\": cost_, \"train accuracy\": train_accuracy_, \"test accuracy\": test_accuracy}\n",
    "            print(d)\n",
    "show(scores)"
   ]
  },
  {
   "cell_type": "code",
   "execution_count": null,
   "metadata": {
    "collapsed": true
   },
   "outputs": [],
   "source": []
  }
 ],
 "metadata": {
  "kernelspec": {
   "display_name": "Python 3",
   "language": "python",
   "name": "python3"
  },
  "language_info": {
   "codemirror_mode": {
    "name": "ipython",
    "version": 3
   },
   "file_extension": ".py",
   "mimetype": "text/x-python",
   "name": "python",
   "nbconvert_exporter": "python",
   "pygments_lexer": "ipython3",
   "version": "3.6.3"
  }
 },
 "nbformat": 4,
 "nbformat_minor": 1
}
