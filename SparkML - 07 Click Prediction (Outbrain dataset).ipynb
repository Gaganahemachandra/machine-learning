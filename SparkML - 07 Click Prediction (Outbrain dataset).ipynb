{
 "cells": [
  {
   "cell_type": "code",
   "execution_count": 1,
   "metadata": {},
   "outputs": [
    {
     "name": "stdout",
     "output_type": "stream",
     "text": [
      "http://einext02:4040\n"
     ]
    }
   ],
   "source": [
    "import sys, glob, os\n",
    "SPARK_HOME = \"/wd/software/spark-2.3.1-bin-hadoop2.7\"\n",
    "#SPARK_HOME=os.environ['SPARK_HOME']\n",
    "sys.path.append(SPARK_HOME + \"/python\")\n",
    "sys.path.append(glob.glob(SPARK_HOME + \"/python/lib/py4j*.zip\")[0])\n",
    "from pyspark.sql import SparkSession\n",
    "from pyspark.conf import SparkConf\n",
    "from pyspark.storagelevel import StorageLevel\n",
    "\n",
    "\n",
    "spark = (SparkSession\n",
    "         .builder\n",
    "         .config(\"spark.master\", \"local[*]\")\n",
    "         .config(\"spark.driver.memory\", \"56G\")\n",
    "         .config(\"spark.sql.shuffle.partitions\", 32)\n",
    "         .config(\"spark.local.dir\", \"/spark-scratch\")\n",
    "         .config(\"spark.executor.extraJavaOptions\", \"-XX:+UseG1GC\")\n",
    "         .enableHiveSupport()\n",
    "         .getOrCreate())\n",
    "\n",
    "sc = spark.sparkContext\n",
    "\n",
    "print(sc.uiWebUrl)"
   ]
  },
  {
   "cell_type": "markdown",
   "metadata": {},
   "source": [
    "# ERD\n",
    "https://drive.google.com/open?id=1dHAdBT84rEDf3WiE7FSfFrpnGQVL0wUSsWAGEH7ywZg"
   ]
  },
  {
   "cell_type": "code",
   "execution_count": 2,
   "metadata": {},
   "outputs": [],
   "source": [
    "from datetime import datetime\n",
    "import matplotlib.pyplot as plt\n",
    "\n",
    "import pyspark.sql.functions as F\n",
    "from pyspark.sql.window import Window\n",
    "import numpy as np\n",
    "import pandas as pd\n",
    "from sklearn import metrics\n",
    "\n",
    "\n",
    "pd.options.display.max_columns = 1000\n",
    "pd.options.display.max_rows = 10\n",
    "\n",
    "fast_mode = True\n",
    "\n",
    "%matplotlib inline\n",
    "\n",
    "\n",
    "from IPython.core.magic import register_line_magic\n",
    "\n",
    "\n",
    "@register_line_magic\n",
    "def show(line, n = 5):\n",
    "    return eval(line).limit(n).toPandas()\n",
    "\n",
    "@register_line_magic\n",
    "def sql(line, n = 10):\n",
    "    return spark.sql(line)"
   ]
  },
  {
   "cell_type": "code",
   "execution_count": 3,
   "metadata": {},
   "outputs": [],
   "source": [
    "base_path = \"/data/kaggle/outbrain_ctr/parquet/\"\n",
    "\n",
    "def cache_df(df, name, sorage_level = StorageLevel.MEMORY_ONLY):\n",
    "    df.createOrReplaceTempView(name)\n",
    "    spark.catalog.cacheTable(name)\n",
    "\n",
    "def load(name, rebase_timestamp = False, cache = True):\n",
    "    df = spark.read.load(base_path + name)\n",
    "        \n",
    "    if rebase_timestamp and \"timestamp\" in df.columns:\n",
    "        df = df.withColumn(\"timestamp\"\n",
    "            , F.expr(\"cast(from_unixtime(cast((timestamp + 1465876799998)/1000 as int)) as timestamp)\"))\n",
    "    if cache:\n",
    "        cache_df(df, name)\n",
    "\n",
    "    df.alias(name)\n",
    "    print(\"Number of partitions for df %s: %d\" % (name, df.rdd.getNumPartitions()))\n",
    "        \n",
    "    return df"
   ]
  },
  {
   "cell_type": "code",
   "execution_count": 4,
   "metadata": {},
   "outputs": [
    {
     "name": "stdout",
     "output_type": "stream",
     "text": [
      "clicks_test\r\n",
      "clicks_train\r\n",
      "df_null_removed\r\n",
      "df_null_removed2\r\n",
      "documents_categories\r\n",
      "documents_entities\r\n",
      "documents_meta\r\n",
      "documents_topics\r\n",
      "events\r\n",
      "lrModel\r\n",
      "lrModel2\r\n",
      "merged_enriched\r\n",
      "page_views\r\n",
      "page_views_sample\r\n",
      "promoted_content\r\n",
      "sample_submission\r\n"
     ]
    }
   ],
   "source": [
    "!ls -1 /data/kaggle/outbrain_ctr/parquet/"
   ]
  },
  {
   "cell_type": "markdown",
   "metadata": {},
   "source": [
    "# Clicks"
   ]
  },
  {
   "cell_type": "code",
   "execution_count": 5,
   "metadata": {},
   "outputs": [
    {
     "name": "stdout",
     "output_type": "stream",
     "text": [
      "Number of partitions for df clicks_train: 11\n",
      "+----------+------+-------+\n",
      "|display_id| ad_id|clicked|\n",
      "+----------+------+-------+\n",
      "|         1| 42337|      0|\n",
      "|         1|139684|      0|\n",
      "|         1|144739|      1|\n",
      "|         1|156824|      0|\n",
      "|         1|279295|      0|\n",
      "|         1|296965|      0|\n",
      "|         2|125211|      0|\n",
      "|         2|156535|      0|\n",
      "|         2|169564|      0|\n",
      "|         2|308455|      1|\n",
      "|         3| 71547|      0|\n",
      "|         3| 95814|      0|\n",
      "|         3|152141|      0|\n",
      "|         3|183846|      0|\n",
      "|         3|228657|      1|\n",
      "|         3|250082|      0|\n",
      "|         4|149930|      0|\n",
      "|         4|153623|      1|\n",
      "|         4|184709|      0|\n",
      "|         4|186849|      0|\n",
      "+----------+------+-------+\n",
      "only showing top 20 rows\n",
      "\n"
     ]
    }
   ],
   "source": [
    "clicks_train = load(\"clicks_train\")\n",
    "clicks_train.show()"
   ]
  },
  {
   "cell_type": "code",
   "execution_count": 6,
   "metadata": {},
   "outputs": [
    {
     "name": "stdout",
     "output_type": "stream",
     "text": [
      "Number of partitions for df clicks_test: 8\n",
      "+----------+------+\n",
      "|display_id| ad_id|\n",
      "+----------+------+\n",
      "|  17662676|141437|\n",
      "|  17662676|169868|\n",
      "|  17662676|236063|\n",
      "|  17662676|414970|\n",
      "|  17662677|114004|\n",
      "|  17662677|115935|\n",
      "|  17662677|133772|\n",
      "|  17662677|156669|\n",
      "|  17662678|123742|\n",
      "|  17662678|157185|\n",
      "|  17662678|169432|\n",
      "|  17662678|366611|\n",
      "|  17662679|111055|\n",
      "|  17662679|130942|\n",
      "|  17662679|160452|\n",
      "|  17662679|190318|\n",
      "|  17662679|207568|\n",
      "|  17662679|233512|\n",
      "|  17662680|141437|\n",
      "|  17662680|163614|\n",
      "+----------+------+\n",
      "only showing top 20 rows\n",
      "\n"
     ]
    }
   ],
   "source": [
    "clicks_test = load(\"clicks_test\")\n",
    "clicks_test.show()"
   ]
  },
  {
   "cell_type": "code",
   "execution_count": 7,
   "metadata": {},
   "outputs": [
    {
     "data": {
      "text/plain": [
       "(87141731, 32225162)"
      ]
     },
     "execution_count": 7,
     "metadata": {},
     "output_type": "execute_result"
    }
   ],
   "source": [
    "clicks_train.count(), clicks_test.count()"
   ]
  },
  {
   "cell_type": "markdown",
   "metadata": {},
   "source": [
    "Distinct count of ad_id in training and test dataset"
   ]
  },
  {
   "cell_type": "code",
   "execution_count": 8,
   "metadata": {},
   "outputs": [
    {
     "name": "stdout",
     "output_type": "stream",
     "text": [
      "CPU times: user 0 ns, sys: 4 ms, total: 4 ms\n",
      "Wall time: 2.61 s\n"
     ]
    },
    {
     "data": {
      "text/plain": [
       "(478950, 381385)"
      ]
     },
     "execution_count": 8,
     "metadata": {},
     "output_type": "execute_result"
    }
   ],
   "source": [
    "%time clicks_train.select(\"ad_id\").distinct().count(), clicks_test.select(\"ad_id\").distinct().count()"
   ]
  },
  {
   "cell_type": "markdown",
   "metadata": {},
   "source": [
    "Common ad_id in training and test datasets"
   ]
  },
  {
   "cell_type": "code",
   "execution_count": 9,
   "metadata": {},
   "outputs": [
    {
     "name": "stdout",
     "output_type": "stream",
     "text": [
      "CPU times: user 4 ms, sys: 0 ns, total: 4 ms\n",
      "Wall time: 11.9 s\n"
     ]
    },
    {
     "data": {
      "text/plain": [
       "316035"
      ]
     },
     "execution_count": 9,
     "metadata": {},
     "output_type": "execute_result"
    }
   ],
   "source": [
    "%time clicks_train.select(\"ad_id\").intersect(clicks_test.select(\"ad_id\")).count()"
   ]
  },
  {
   "cell_type": "code",
   "execution_count": 10,
   "metadata": {},
   "outputs": [
    {
     "data": {
      "text/plain": [
       "0.17134916160834857"
      ]
     },
     "execution_count": 10,
     "metadata": {},
     "output_type": "execute_result"
    }
   ],
   "source": [
    "1- 316035/381385"
   ]
  },
  {
   "cell_type": "markdown",
   "metadata": {},
   "source": [
    "17% of ad_id in testing dataset are unique."
   ]
  },
  {
   "cell_type": "markdown",
   "metadata": {},
   "source": [
    "Calculate CTR on training dataset. Note, we cannot calculate the CTR on test dataset since clicked column is provded the value. In fact, the rask is to predict the probability of click."
   ]
  },
  {
   "cell_type": "code",
   "execution_count": 11,
   "metadata": {},
   "outputs": [
    {
     "name": "stdout",
     "output_type": "stream",
     "text": [
      "+------+--------------------+----------+\n",
      "| ad_id|                 ctr|view_count|\n",
      "+------+--------------------+----------+\n",
      "| 71547| 0.08026711185308848|     14975|\n",
      "|152141|  0.1633811230585424|     20088|\n",
      "| 35982|  0.3194444444444444|       144|\n",
      "|220315|  0.0814290895901342|     11028|\n",
      "| 28347| 0.21975410210704327|     21879|\n",
      "| 55988| 0.08457994066780282|     15843|\n",
      "| 51445|  0.2615935392556823|     12011|\n",
      "|198151| 0.14902102973168962|     71708|\n",
      "| 47081| 0.46573604060913704|       788|\n",
      "| 86281| 0.16210065645514224|     11425|\n",
      "|  8748|  0.2739398855391825|     22191|\n",
      "|271623| 0.06908981676179032|      3329|\n",
      "|102724|  0.5151337359792925|     28975|\n",
      "| 73754| 0.04944791166586654|      2083|\n",
      "|232276|0.029014177382129903|      3033|\n",
      "|107571|  0.2857142857142857|        42|\n",
      "|167350| 0.16086459524056948|      9623|\n",
      "|279899|  0.3333333333333333|         3|\n",
      "|159405|  0.3200608122782886|     13813|\n",
      "| 14400|  0.4529262086513995|      1965|\n",
      "+------+--------------------+----------+\n",
      "only showing top 20 rows\n",
      "\n"
     ]
    }
   ],
   "source": [
    "ctrs = clicks_train.groupBy(\"ad_id\")\\\n",
    ".agg(F.expr(\"sum(clicked)/count(*)\").alias(\"ctr\"), F.count(\"*\").alias(\"view_count\"))\n",
    "\n",
    "ctrs.show()"
   ]
  },
  {
   "cell_type": "code",
   "execution_count": 12,
   "metadata": {},
   "outputs": [
    {
     "name": "stdout",
     "output_type": "stream",
     "text": [
      "+-------+-------------------+\n",
      "|summary|                ctr|\n",
      "+-------+-------------------+\n",
      "|  count|             478950|\n",
      "|   mean| 0.1432241011540594|\n",
      "| stddev|0.21768444463682177|\n",
      "|    min|                0.0|\n",
      "|    max|                1.0|\n",
      "+-------+-------------------+\n",
      "\n",
      "CPU times: user 4 ms, sys: 0 ns, total: 4 ms\n",
      "Wall time: 1.81 s\n"
     ]
    }
   ],
   "source": [
    "%time ctrs.select(\"ctr\").describe().show()"
   ]
  },
  {
   "cell_type": "markdown",
   "metadata": {},
   "source": [
    "Median CTR"
   ]
  },
  {
   "cell_type": "code",
   "execution_count": 13,
   "metadata": {},
   "outputs": [
    {
     "name": "stdout",
     "output_type": "stream",
     "text": [
      "+---------------------------------------+\n",
      "|percentile(ctr, CAST(0.5 AS DOUBLE), 1)|\n",
      "+---------------------------------------+\n",
      "|                    0.05172413793103448|\n",
      "+---------------------------------------+\n",
      "\n",
      "CPU times: user 4 ms, sys: 0 ns, total: 4 ms\n",
      "Wall time: 1.9 s\n"
     ]
    }
   ],
   "source": [
    "%time ctrs.selectExpr(\"percentile(ctr, 0.5)\").show()"
   ]
  },
  {
   "cell_type": "code",
   "execution_count": 14,
   "metadata": {},
   "outputs": [
    {
     "name": "stdout",
     "output_type": "stream",
     "text": [
      "+------+------------------+----------+\n",
      "| ad_id|               ctr|view_count|\n",
      "+------+------------------+----------+\n",
      "|182320|0.7308917197452229|       628|\n",
      "+------+------------------+----------+\n",
      "\n"
     ]
    }
   ],
   "source": [
    "ctrs.filter(\"ad_id = 182320\").show()"
   ]
  },
  {
   "cell_type": "markdown",
   "metadata": {},
   "source": [
    "Find 99, 95 and 90 percentile values of the view counts of the ads."
   ]
  },
  {
   "cell_type": "code",
   "execution_count": 15,
   "metadata": {},
   "outputs": [
    {
     "data": {
      "text/plain": [
       "array([3598.51,  305.  ,   81.  ])"
      ]
     },
     "execution_count": 15,
     "metadata": {},
     "output_type": "execute_result"
    }
   ],
   "source": [
    "view_counts = ctrs.select(\"view_count\").toPandas()\n",
    "np.percentile(view_counts[\"view_count\"], [99, 95, 90])"
   ]
  },
  {
   "cell_type": "markdown",
   "metadata": {},
   "source": [
    "To build confidence on the CTR, filter out the ads with fewer than 100 views (approx 99 percentile value)"
   ]
  },
  {
   "cell_type": "code",
   "execution_count": 16,
   "metadata": {
    "scrolled": false
   },
   "outputs": [
    {
     "name": "stdout",
     "output_type": "stream",
     "text": [
      "CPU times: user 628 ms, sys: 24 ms, total: 652 ms\n",
      "Wall time: 1.9 s\n"
     ]
    },
    {
     "data": {
      "text/plain": [
       "Text(0,0.5,'Frquency (normalized)')"
      ]
     },
     "execution_count": 16,
     "metadata": {},
     "output_type": "execute_result"
    },
    {
     "data": {
      "image/png": "[encoded data removed]",
      "text/plain": [
       "<Figure size 432x288 with 1 Axes>"
      ]
     },
     "metadata": {},
     "output_type": "display_data"
    }
   ],
   "source": [
    "%time ctrs.filter(\"view_count>100\").select(\"ctr\").toPandas()[\"ctr\"].plot.hist(bins = 50, density = True)\n",
    "plt.xlabel(\"CTR\")\n",
    "plt.ylabel(\"Frquency (normalized)\")"
   ]
  },
  {
   "cell_type": "markdown",
   "metadata": {},
   "source": [
    "Consier, the CTR as baseline for click prediction. Using CTR as based, calculate the MAP (mean avg precision)"
   ]
  },
  {
   "cell_type": "code",
   "execution_count": 17,
   "metadata": {},
   "outputs": [],
   "source": [
    "#y_pred = clicks_train.join(ctrs.select(\"ad_id\", \"ctr\"), on = [\"ad_id\"], how=\"left\").select(\"ctr\").toPandas()[\"ctr\"]\n",
    "#y_true = clicks_train.select(\"clicked\").toPandas()[\"clicked\"]\n",
    "\n",
    "#%time metrics.average_precision_score(y_true, y_pred)"
   ]
  },
  {
   "cell_type": "code",
   "execution_count": 18,
   "metadata": {},
   "outputs": [
    {
     "name": "stdout",
     "output_type": "stream",
     "text": [
      "+-----+----------+-------------------+\n",
      "|ad_id|display_id|                ctr|\n",
      "+-----+----------+-------------------+\n",
      "|   18|  18637093|                0.0|\n",
      "|   38|  19842301|               null|\n",
      "|   38|  21227007|               null|\n",
      "|   70|  22445644|               null|\n",
      "|   93|  17994591|0.11956521739130435|\n",
      "|   93|  18082288|0.11956521739130435|\n",
      "|   93|  18138846|0.11956521739130435|\n",
      "|   93|  18139717|0.11956521739130435|\n",
      "|   93|  18146038|0.11956521739130435|\n",
      "|   93|  18209662|0.11956521739130435|\n",
      "|   93|  18242010|0.11956521739130435|\n",
      "|   93|  18265668|0.11956521739130435|\n",
      "|   93|  18299525|0.11956521739130435|\n",
      "|   93|  18300420|0.11956521739130435|\n",
      "|   93|  18341642|0.11956521739130435|\n",
      "|   93|  18419095|0.11956521739130435|\n",
      "|   93|  18422601|0.11956521739130435|\n",
      "|   93|  18427146|0.11956521739130435|\n",
      "|   93|  18480210|0.11956521739130435|\n",
      "|   93|  18525463|0.11956521739130435|\n",
      "+-----+----------+-------------------+\n",
      "only showing top 20 rows\n",
      "\n"
     ]
    }
   ],
   "source": [
    "clicks_test_baseline = clicks_test.join(ctrs.select(\"ad_id\", \"ctr\"), on = [\"ad_id\"], how=\"left\")\n",
    "clicks_test_baseline.show()"
   ]
  },
  {
   "cell_type": "code",
   "execution_count": 19,
   "metadata": {},
   "outputs": [
    {
     "data": {
      "text/plain": [
       "DataFrame[display_id: int, count: bigint]"
      ]
     },
     "execution_count": 19,
     "metadata": {},
     "output_type": "execute_result"
    }
   ],
   "source": [
    "clicks_test_baseline.groupBy(\"display_id\").count()"
   ]
  },
  {
   "cell_type": "code",
   "execution_count": 20,
   "metadata": {
    "scrolled": false
   },
   "outputs": [
    {
     "name": "stdout",
     "output_type": "stream",
     "text": [
      "+------------------+\n",
      "|           avg(ap)|\n",
      "+------------------+\n",
      "|0.9835441908732905|\n",
      "+------------------+\n",
      "\n"
     ]
    }
   ],
   "source": [
    "clicks_test_baseline.groupBy(\"display_id\").agg(F.sum(\"ctr\").alias(\"ap\")).selectExpr(\"avg(ap)\").show()"
   ]
  },
  {
   "cell_type": "markdown",
   "metadata": {},
   "source": [
    "How many ads are there for each display_id?"
   ]
  },
  {
   "cell_type": "code",
   "execution_count": 21,
   "metadata": {},
   "outputs": [
    {
     "name": "stdout",
     "output_type": "stream",
     "text": [
      "+-----+\n",
      "|count|\n",
      "+-----+\n",
      "|    9|\n",
      "|    3|\n",
      "|    6|\n",
      "|    7|\n",
      "|    5|\n",
      "|    8|\n",
      "|   11|\n",
      "|    4|\n",
      "|    2|\n",
      "|   12|\n",
      "|   10|\n",
      "+-----+\n",
      "\n",
      "CPU times: user 4 ms, sys: 0 ns, total: 4 ms\n",
      "Wall time: 4.03 s\n"
     ]
    }
   ],
   "source": [
    "%time clicks_train.groupBy(\"display_id\").count().select(\"count\").distinct().show()"
   ]
  },
  {
   "cell_type": "markdown",
   "metadata": {},
   "source": [
    "Does each display_id in the training dataset has atleast one click?"
   ]
  },
  {
   "cell_type": "code",
   "execution_count": 22,
   "metadata": {},
   "outputs": [
    {
     "name": "stdout",
     "output_type": "stream",
     "text": [
      "CPU times: user 4 ms, sys: 0 ns, total: 4 ms\n",
      "Wall time: 4.31 s\n"
     ]
    },
    {
     "data": {
      "text/plain": [
       "0"
      ]
     },
     "execution_count": 22,
     "metadata": {},
     "output_type": "execute_result"
    }
   ],
   "source": [
    "%time clicks_train.groupBy(\"display_id\").agg(F.sum(\"clicked\").alias(\"clicks\")).filter(\"clicks=0\").count()"
   ]
  },
  {
   "cell_type": "markdown",
   "metadata": {},
   "source": [
    "So, each display_id has atleast one click. Does it display_id in the training dataset has more than click?"
   ]
  },
  {
   "cell_type": "code",
   "execution_count": 23,
   "metadata": {},
   "outputs": [
    {
     "name": "stdout",
     "output_type": "stream",
     "text": [
      "CPU times: user 0 ns, sys: 0 ns, total: 0 ns\n",
      "Wall time: 3.85 s\n"
     ]
    },
    {
     "data": {
      "text/plain": [
       "0"
      ]
     },
     "execution_count": 23,
     "metadata": {},
     "output_type": "execute_result"
    }
   ],
   "source": [
    "%time clicks_train.groupBy(\"display_id\").agg(F.sum(\"clicked\").alias(\"clicks\")).filter(\"clicks>1\").count()"
   ]
  },
  {
   "cell_type": "markdown",
   "metadata": {},
   "source": [
    "So, each display_id in the clicks dataset has only one click."
   ]
  },
  {
   "cell_type": "markdown",
   "metadata": {},
   "source": [
    "# Page Views"
   ]
  },
  {
   "cell_type": "code",
   "execution_count": 24,
   "metadata": {},
   "outputs": [
    {
     "name": "stdout",
     "output_type": "stream",
     "text": [
      "Loading page_view sample dataset\n",
      "Number of partitions for df page_views_sample: 8\n",
      "root\n",
      " |-- uuid: string (nullable = true)\n",
      " |-- document_id: integer (nullable = true)\n",
      " |-- timestamp: timestamp (nullable = true)\n",
      " |-- platform: integer (nullable = true)\n",
      " |-- geo_location: string (nullable = true)\n",
      " |-- traffic_source: integer (nullable = true)\n",
      "\n"
     ]
    }
   ],
   "source": [
    "if fast_mode:\n",
    "    print(\"Loading page_view sample dataset\")\n",
    "    page_views = load(\"page_views_sample\", rebase_timestamp=True, cache=True)\n",
    "    #page_views = page_views.sample(False, 0.01, 1)\n",
    "    #cache_df(page_views, \"page_views\")\n",
    "else:\n",
    "    print(\"Loading full page_view dataset\")\n",
    "    page_views = load(\"page_views\", rebase_timestamp=True, cache=False)\n",
    "page_views.printSchema()"
   ]
  },
  {
   "cell_type": "code",
   "execution_count": 25,
   "metadata": {},
   "outputs": [
    {
     "name": "stdout",
     "output_type": "stream",
     "text": [
      "+--------------+-----------+-------------------+--------+------------+--------------+\n",
      "|          uuid|document_id|          timestamp|platform|geo_location|traffic_source|\n",
      "+--------------+-----------+-------------------+--------+------------+--------------+\n",
      "|289a8ac9e3b3be|     647313|2016-06-14 23:30:43|       1|       PK>08|             1|\n",
      "|2cd20abba0d948|     647313|2016-06-14 18:19:16|       3|   US>CA>804|             1|\n",
      "|6149469c04c102|     647313|2016-06-14 10:12:32|       1|       AU>01|             1|\n",
      "|f3bca9d885121d|     647313|2016-06-15 06:07:45|       2|   US>KS>616|             1|\n",
      "|594de491d7a3d1|     647313|2016-06-14 13:09:20|       1|   US>CA>807|             1|\n",
      "|b5fe86af022f0c|     647313|2016-06-14 12:13:02|       3|       GB>H9|             1|\n",
      "|56bb88f5111d21|     647313|2016-06-14 11:02:45|       1|       SI>61|             1|\n",
      "|82a3dae458fd43|     647313|2016-06-14 15:46:58|       1|       MU>17|             1|\n",
      "|4323bb94758e52|     647313|2016-06-14 10:04:50|       1|       PL>78|             1|\n",
      "|111a86a1682ab8|     647313|2016-06-14 14:13:52|       1|       FR>A8|             1|\n",
      "|4cf1b402a2fbab|     647313|2016-06-14 13:03:47|       1|       ZA>11|             1|\n",
      "|9ee101729fa2b5|     647313|2016-06-14 11:10:40|       1|       AE>03|             1|\n",
      "|d01385dc210da5|     647313|2016-06-14 17:29:34|       1|       GB>H9|             1|\n",
      "|875f65b5884501|     647313|2016-06-15 06:57:43|       2|          KR|             1|\n",
      "|f2654a6840add7|     647313|2016-06-14 22:14:46|       1|          GB|             1|\n",
      "|326dc1e6a53219|     647776|2016-06-15 05:55:39|       2|       US>FL|             1|\n",
      "|43ff58e09ff220|     647776|2016-06-14 23:22:53|       1|   US>VA>511|             1|\n",
      "|db647197db75cb|     647776|2016-06-15 07:33:25|       2|   US>FL>571|             1|\n",
      "|a67495e38150ba|     647776|2016-06-15 02:27:59|       1|   US>PA>508|             1|\n",
      "|527f6b4676bbc7|     647776|2016-06-15 06:38:04|       3|   US>FL>534|             1|\n",
      "+--------------+-----------+-------------------+--------+------------+--------------+\n",
      "only showing top 20 rows\n",
      "\n"
     ]
    }
   ],
   "source": [
    "page_views.show()"
   ]
  },
  {
   "cell_type": "markdown",
   "metadata": {},
   "source": [
    "Page views table is nearly 100 GB in decompressed csv file. How many records are there?"
   ]
  },
  {
   "cell_type": "code",
   "execution_count": 26,
   "metadata": {},
   "outputs": [
    {
     "data": {
      "text/plain": [
       "9999999"
      ]
     },
     "execution_count": 26,
     "metadata": {},
     "output_type": "execute_result"
    }
   ],
   "source": [
    "page_views.count()"
   ]
  },
  {
   "cell_type": "markdown",
   "metadata": {},
   "source": [
    "Does each record in page_views have timestamp?"
   ]
  },
  {
   "cell_type": "code",
   "execution_count": 27,
   "metadata": {},
   "outputs": [
    {
     "name": "stdout",
     "output_type": "stream",
     "text": [
      "CPU times: user 4 ms, sys: 0 ns, total: 4 ms\n",
      "Wall time: 47.7 ms\n"
     ]
    },
    {
     "data": {
      "text/plain": [
       "0"
      ]
     },
     "execution_count": 27,
     "metadata": {},
     "output_type": "execute_result"
    }
   ],
   "source": [
    "%time page_views.filter(\"isnull(timestamp)\").count()"
   ]
  },
  {
   "cell_type": "code",
   "execution_count": 28,
   "metadata": {
    "scrolled": false
   },
   "outputs": [
    {
     "name": "stdout",
     "output_type": "stream",
     "text": [
      "+-------+---------+---------+\n",
      "|  users|documents|locations|\n",
      "+-------+---------+---------+\n",
      "|9202149|    59849|     2964|\n",
      "+-------+---------+---------+\n",
      "\n",
      "CPU times: user 4 ms, sys: 0 ns, total: 4 ms\n",
      "Wall time: 3.37 s\n"
     ]
    }
   ],
   "source": [
    "stats = page_views.selectExpr(\"count(distinct(uuid)) as users\"\n",
    "                      , \"count(distinct(document_id)) as documents\"\n",
    "                      , \"count(distinct(geo_location)) as locations\")\n",
    "%time stats.show()"
   ]
  },
  {
   "cell_type": "markdown",
   "metadata": {},
   "source": [
    "Some users are more frequent visitor that the others. Find the number of visitors based on the view counts."
   ]
  },
  {
   "cell_type": "code",
   "execution_count": 29,
   "metadata": {},
   "outputs": [
    {
     "data": {
      "text/html": [
       "<div>\n",
       "<style scoped>\n",
       "    .dataframe tbody tr th:only-of-type {\n",
       "        vertical-align: middle;\n",
       "    }\n",
       "\n",
       "    .dataframe tbody tr th {\n",
       "        vertical-align: top;\n",
       "    }\n",
       "\n",
       "    .dataframe thead th {\n",
       "        text-align: right;\n",
       "    }\n",
       "</style>\n",
       "<table border=\"1\" class=\"dataframe\">\n",
       "  <thead>\n",
       "    <tr style=\"text-align: right;\">\n",
       "      <th></th>\n",
       "      <th>view_count</th>\n",
       "      <th>num_users</th>\n",
       "    </tr>\n",
       "  </thead>\n",
       "  <tbody>\n",
       "    <tr>\n",
       "      <th>11</th>\n",
       "      <td>1</td>\n",
       "      <td>8546933</td>\n",
       "    </tr>\n",
       "    <tr>\n",
       "      <th>9</th>\n",
       "      <td>2</td>\n",
       "      <td>549587</td>\n",
       "    </tr>\n",
       "    <tr>\n",
       "      <th>1</th>\n",
       "      <td>3</td>\n",
       "      <td>80770</td>\n",
       "    </tr>\n",
       "    <tr>\n",
       "      <th>8</th>\n",
       "      <td>4</td>\n",
       "      <td>16394</td>\n",
       "    </tr>\n",
       "    <tr>\n",
       "      <th>4</th>\n",
       "      <td>5</td>\n",
       "      <td>6165</td>\n",
       "    </tr>\n",
       "    <tr>\n",
       "      <th>...</th>\n",
       "      <td>...</td>\n",
       "      <td>...</td>\n",
       "    </tr>\n",
       "    <tr>\n",
       "      <th>0</th>\n",
       "      <td>9</td>\n",
       "      <td>90</td>\n",
       "    </tr>\n",
       "    <tr>\n",
       "      <th>12</th>\n",
       "      <td>10</td>\n",
       "      <td>22</td>\n",
       "    </tr>\n",
       "    <tr>\n",
       "      <th>6</th>\n",
       "      <td>11</td>\n",
       "      <td>6</td>\n",
       "    </tr>\n",
       "    <tr>\n",
       "      <th>10</th>\n",
       "      <td>12</td>\n",
       "      <td>2</td>\n",
       "    </tr>\n",
       "    <tr>\n",
       "      <th>7</th>\n",
       "      <td>14</td>\n",
       "      <td>1</td>\n",
       "    </tr>\n",
       "  </tbody>\n",
       "</table>\n",
       "<p>13 rows × 2 columns</p>\n",
       "</div>"
      ],
      "text/plain": [
       "    view_count  num_users\n",
       "11           1    8546933\n",
       "9            2     549587\n",
       "1            3      80770\n",
       "8            4      16394\n",
       "4            5       6165\n",
       "..         ...        ...\n",
       "0            9         90\n",
       "12          10         22\n",
       "6           11          6\n",
       "10          12          2\n",
       "7           14          1\n",
       "\n",
       "[13 rows x 2 columns]"
      ]
     },
     "execution_count": 29,
     "metadata": {},
     "output_type": "execute_result"
    }
   ],
   "source": [
    "page_views_by_user = page_views.groupBy(\"uuid\").count().groupBy(\"count\").count()\\\n",
    "                    .toDF(\"view_count\", \"num_users\").toPandas().sort_values(\"view_count\")\n",
    "page_views_by_user"
   ]
  },
  {
   "cell_type": "code",
   "execution_count": 30,
   "metadata": {},
   "outputs": [
    {
     "data": {
      "text/plain": [
       "<matplotlib.axes._subplots.AxesSubplot at 0x7f19c90187b8>"
      ]
     },
     "execution_count": 30,
     "metadata": {},
     "output_type": "execute_result"
    },
    {
     "data": {
      "image/png": "[encoded data removed]",
      "text/plain": [
       "<Figure size 432x288 with 1 Axes>"
      ]
     },
     "metadata": {},
     "output_type": "display_data"
    }
   ],
   "source": [
    "page_views_by_user.iloc[:20, :].plot.bar(\"view_count\", \"num_users\")"
   ]
  },
  {
   "cell_type": "markdown",
   "metadata": {},
   "source": [
    "Number of unique users"
   ]
  },
  {
   "cell_type": "code",
   "execution_count": 31,
   "metadata": {},
   "outputs": [],
   "source": [
    "users_distinct_count = page_views_by_user.num_users.sum()"
   ]
  },
  {
   "cell_type": "markdown",
   "metadata": {},
   "source": [
    "Average page views per user "
   ]
  },
  {
   "cell_type": "code",
   "execution_count": 32,
   "metadata": {},
   "outputs": [
    {
     "data": {
      "text/plain": [
       "1.0867025734966909"
      ]
     },
     "execution_count": 32,
     "metadata": {},
     "output_type": "execute_result"
    }
   ],
   "source": [
    "(page_views_by_user.num_users * page_views_by_user.view_count).sum()/users_distinct_count"
   ]
  },
  {
   "cell_type": "markdown",
   "metadata": {},
   "source": [
    "Cumulative Percentual"
   ]
  },
  {
   "cell_type": "code",
   "execution_count": 33,
   "metadata": {},
   "outputs": [
    {
     "data": {
      "text/html": [
       "<div>\n",
       "<style scoped>\n",
       "    .dataframe tbody tr th:only-of-type {\n",
       "        vertical-align: middle;\n",
       "    }\n",
       "\n",
       "    .dataframe tbody tr th {\n",
       "        vertical-align: top;\n",
       "    }\n",
       "\n",
       "    .dataframe thead th {\n",
       "        text-align: right;\n",
       "    }\n",
       "</style>\n",
       "<table border=\"1\" class=\"dataframe\">\n",
       "  <thead>\n",
       "    <tr style=\"text-align: right;\">\n",
       "      <th></th>\n",
       "      <th>view_count</th>\n",
       "      <th>num_users</th>\n",
       "      <th>cum_percentual</th>\n",
       "    </tr>\n",
       "  </thead>\n",
       "  <tbody>\n",
       "    <tr>\n",
       "      <th>11</th>\n",
       "      <td>1</td>\n",
       "      <td>8546933</td>\n",
       "      <td>0.928798</td>\n",
       "    </tr>\n",
       "    <tr>\n",
       "      <th>9</th>\n",
       "      <td>2</td>\n",
       "      <td>549587</td>\n",
       "      <td>0.988521</td>\n",
       "    </tr>\n",
       "    <tr>\n",
       "      <th>1</th>\n",
       "      <td>3</td>\n",
       "      <td>80770</td>\n",
       "      <td>0.997299</td>\n",
       "    </tr>\n",
       "    <tr>\n",
       "      <th>8</th>\n",
       "      <td>4</td>\n",
       "      <td>16394</td>\n",
       "      <td>0.999080</td>\n",
       "    </tr>\n",
       "    <tr>\n",
       "      <th>4</th>\n",
       "      <td>5</td>\n",
       "      <td>6165</td>\n",
       "      <td>0.999750</td>\n",
       "    </tr>\n",
       "    <tr>\n",
       "      <th>...</th>\n",
       "      <td>...</td>\n",
       "      <td>...</td>\n",
       "      <td>...</td>\n",
       "    </tr>\n",
       "    <tr>\n",
       "      <th>0</th>\n",
       "      <td>9</td>\n",
       "      <td>90</td>\n",
       "      <td>0.999997</td>\n",
       "    </tr>\n",
       "    <tr>\n",
       "      <th>12</th>\n",
       "      <td>10</td>\n",
       "      <td>22</td>\n",
       "      <td>0.999999</td>\n",
       "    </tr>\n",
       "    <tr>\n",
       "      <th>6</th>\n",
       "      <td>11</td>\n",
       "      <td>6</td>\n",
       "      <td>1.000000</td>\n",
       "    </tr>\n",
       "    <tr>\n",
       "      <th>10</th>\n",
       "      <td>12</td>\n",
       "      <td>2</td>\n",
       "      <td>1.000000</td>\n",
       "    </tr>\n",
       "    <tr>\n",
       "      <th>7</th>\n",
       "      <td>14</td>\n",
       "      <td>1</td>\n",
       "      <td>1.000000</td>\n",
       "    </tr>\n",
       "  </tbody>\n",
       "</table>\n",
       "<p>13 rows × 3 columns</p>\n",
       "</div>"
      ],
      "text/plain": [
       "    view_count  num_users  cum_percentual\n",
       "11           1    8546933        0.928798\n",
       "9            2     549587        0.988521\n",
       "1            3      80770        0.997299\n",
       "8            4      16394        0.999080\n",
       "4            5       6165        0.999750\n",
       "..         ...        ...             ...\n",
       "0            9         90        0.999997\n",
       "12          10         22        0.999999\n",
       "6           11          6        1.000000\n",
       "10          12          2        1.000000\n",
       "7           14          1        1.000000\n",
       "\n",
       "[13 rows x 3 columns]"
      ]
     },
     "execution_count": 33,
     "metadata": {},
     "output_type": "execute_result"
    }
   ],
   "source": [
    "page_views_by_user[\"cum_percentual\"] = page_views_by_user.num_users.cumsum()/users_distinct_count\n",
    "page_views_by_user"
   ]
  },
  {
   "cell_type": "code",
   "execution_count": 34,
   "metadata": {},
   "outputs": [
    {
     "data": {
      "text/plain": [
       "<matplotlib.axes._subplots.AxesSubplot at 0x7f19c94b3940>"
      ]
     },
     "execution_count": 34,
     "metadata": {},
     "output_type": "execute_result"
    },
    {
     "data": {
      "image/png": "[encoded data removed]",
      "text/plain": [
       "<Figure size 432x288 with 1 Axes>"
      ]
     },
     "metadata": {},
     "output_type": "display_data"
    }
   ],
   "source": [
    "page_views_by_user.iloc[:20, :].plot.line(x = \"view_count\", y = \"cum_percentual\")"
   ]
  },
  {
   "cell_type": "code",
   "execution_count": 35,
   "metadata": {},
   "outputs": [
    {
     "data": {
      "text/html": [
       "<div>\n",
       "<style scoped>\n",
       "    .dataframe tbody tr th:only-of-type {\n",
       "        vertical-align: middle;\n",
       "    }\n",
       "\n",
       "    .dataframe tbody tr th {\n",
       "        vertical-align: top;\n",
       "    }\n",
       "\n",
       "    .dataframe thead th {\n",
       "        text-align: right;\n",
       "    }\n",
       "</style>\n",
       "<table border=\"1\" class=\"dataframe\">\n",
       "  <thead>\n",
       "    <tr style=\"text-align: right;\">\n",
       "      <th></th>\n",
       "      <th>view_count</th>\n",
       "      <th>num_users</th>\n",
       "      <th>cum_percentual</th>\n",
       "    </tr>\n",
       "  </thead>\n",
       "  <tbody>\n",
       "    <tr>\n",
       "      <th>8</th>\n",
       "      <td>4</td>\n",
       "      <td>16394</td>\n",
       "      <td>0.999080</td>\n",
       "    </tr>\n",
       "    <tr>\n",
       "      <th>4</th>\n",
       "      <td>5</td>\n",
       "      <td>6165</td>\n",
       "      <td>0.999750</td>\n",
       "    </tr>\n",
       "    <tr>\n",
       "      <th>2</th>\n",
       "      <td>6</td>\n",
       "      <td>1453</td>\n",
       "      <td>0.999908</td>\n",
       "    </tr>\n",
       "    <tr>\n",
       "      <th>3</th>\n",
       "      <td>7</td>\n",
       "      <td>479</td>\n",
       "      <td>0.999960</td>\n",
       "    </tr>\n",
       "    <tr>\n",
       "      <th>5</th>\n",
       "      <td>8</td>\n",
       "      <td>247</td>\n",
       "      <td>0.999987</td>\n",
       "    </tr>\n",
       "    <tr>\n",
       "      <th>0</th>\n",
       "      <td>9</td>\n",
       "      <td>90</td>\n",
       "      <td>0.999997</td>\n",
       "    </tr>\n",
       "    <tr>\n",
       "      <th>12</th>\n",
       "      <td>10</td>\n",
       "      <td>22</td>\n",
       "      <td>0.999999</td>\n",
       "    </tr>\n",
       "    <tr>\n",
       "      <th>6</th>\n",
       "      <td>11</td>\n",
       "      <td>6</td>\n",
       "      <td>1.000000</td>\n",
       "    </tr>\n",
       "    <tr>\n",
       "      <th>10</th>\n",
       "      <td>12</td>\n",
       "      <td>2</td>\n",
       "      <td>1.000000</td>\n",
       "    </tr>\n",
       "    <tr>\n",
       "      <th>7</th>\n",
       "      <td>14</td>\n",
       "      <td>1</td>\n",
       "      <td>1.000000</td>\n",
       "    </tr>\n",
       "  </tbody>\n",
       "</table>\n",
       "</div>"
      ],
      "text/plain": [
       "    view_count  num_users  cum_percentual\n",
       "8            4      16394        0.999080\n",
       "4            5       6165        0.999750\n",
       "2            6       1453        0.999908\n",
       "3            7        479        0.999960\n",
       "5            8        247        0.999987\n",
       "0            9         90        0.999997\n",
       "12          10         22        0.999999\n",
       "6           11          6        1.000000\n",
       "10          12          2        1.000000\n",
       "7           14          1        1.000000"
      ]
     },
     "execution_count": 35,
     "metadata": {},
     "output_type": "execute_result"
    }
   ],
   "source": [
    "page_views_by_user.tail(10)"
   ]
  },
  {
   "cell_type": "markdown",
   "metadata": {},
   "source": [
    "Page views by platform"
   ]
  },
  {
   "cell_type": "code",
   "execution_count": 36,
   "metadata": {},
   "outputs": [
    {
     "data": {
      "text/html": [
       "<div>\n",
       "<style scoped>\n",
       "    .dataframe tbody tr th:only-of-type {\n",
       "        vertical-align: middle;\n",
       "    }\n",
       "\n",
       "    .dataframe tbody tr th {\n",
       "        vertical-align: top;\n",
       "    }\n",
       "\n",
       "    .dataframe thead th {\n",
       "        text-align: right;\n",
       "    }\n",
       "</style>\n",
       "<table border=\"1\" class=\"dataframe\">\n",
       "  <thead>\n",
       "    <tr style=\"text-align: right;\">\n",
       "      <th></th>\n",
       "      <th>count</th>\n",
       "    </tr>\n",
       "    <tr>\n",
       "      <th>platform</th>\n",
       "      <th></th>\n",
       "    </tr>\n",
       "  </thead>\n",
       "  <tbody>\n",
       "    <tr>\n",
       "      <th>1</th>\n",
       "      <td>4403345</td>\n",
       "    </tr>\n",
       "    <tr>\n",
       "      <th>2</th>\n",
       "      <td>4678799</td>\n",
       "    </tr>\n",
       "    <tr>\n",
       "      <th>3</th>\n",
       "      <td>917855</td>\n",
       "    </tr>\n",
       "  </tbody>\n",
       "</table>\n",
       "</div>"
      ],
      "text/plain": [
       "            count\n",
       "platform         \n",
       "1         4403345\n",
       "2         4678799\n",
       "3          917855"
      ]
     },
     "execution_count": 36,
     "metadata": {},
     "output_type": "execute_result"
    }
   ],
   "source": [
    "page_views_by_platform = page_views.groupBy(\"platform\")\\\n",
    ".count().toPandas().set_index(\"platform\").sort_index()\n",
    "page_views_by_platform"
   ]
  },
  {
   "cell_type": "code",
   "execution_count": 37,
   "metadata": {
    "scrolled": false
   },
   "outputs": [
    {
     "data": {
      "text/plain": [
       "Text(0.5,1,'Page views by platform')"
      ]
     },
     "execution_count": 37,
     "metadata": {},
     "output_type": "execute_result"
    },
    {
     "data": {
      "image/png": "[encoded data removed]",
      "text/plain": [
       "<Figure size 576x576 with 1 Axes>"
      ]
     },
     "metadata": {},
     "output_type": "display_data"
    }
   ],
   "source": [
    "page_views_by_platform.plot.pie(y = \"count\", labels = [\"Desktop\", \"Mobile\", \"Tablet\"]\n",
    "                    , figsize = (8, 8), autopct = \"%.2f\", fontsize = 15)\n",
    "plt.title(\"Page views by platform\")"
   ]
  },
  {
   "cell_type": "markdown",
   "metadata": {},
   "source": [
    "Page views by traffic source"
   ]
  },
  {
   "cell_type": "code",
   "execution_count": 38,
   "metadata": {},
   "outputs": [
    {
     "data": {
      "text/html": [
       "<div>\n",
       "<style scoped>\n",
       "    .dataframe tbody tr th:only-of-type {\n",
       "        vertical-align: middle;\n",
       "    }\n",
       "\n",
       "    .dataframe tbody tr th {\n",
       "        vertical-align: top;\n",
       "    }\n",
       "\n",
       "    .dataframe thead th {\n",
       "        text-align: right;\n",
       "    }\n",
       "</style>\n",
       "<table border=\"1\" class=\"dataframe\">\n",
       "  <thead>\n",
       "    <tr style=\"text-align: right;\">\n",
       "      <th></th>\n",
       "      <th>count</th>\n",
       "    </tr>\n",
       "    <tr>\n",
       "      <th>traffic_source</th>\n",
       "      <th></th>\n",
       "    </tr>\n",
       "  </thead>\n",
       "  <tbody>\n",
       "    <tr>\n",
       "      <th>1</th>\n",
       "      <td>6668961</td>\n",
       "    </tr>\n",
       "    <tr>\n",
       "      <th>2</th>\n",
       "      <td>1667170</td>\n",
       "    </tr>\n",
       "    <tr>\n",
       "      <th>3</th>\n",
       "      <td>1663868</td>\n",
       "    </tr>\n",
       "  </tbody>\n",
       "</table>\n",
       "</div>"
      ],
      "text/plain": [
       "                  count\n",
       "traffic_source         \n",
       "1               6668961\n",
       "2               1667170\n",
       "3               1663868"
      ]
     },
     "execution_count": 38,
     "metadata": {},
     "output_type": "execute_result"
    }
   ],
   "source": [
    "page_views_by_traffic_source = page_views.groupBy(\"traffic_source\").count().toPandas()\n",
    "page_views_by_traffic_source = page_views_by_traffic_source.set_index(\"traffic_source\").sort_index()\n",
    "page_views_by_traffic_source"
   ]
  },
  {
   "cell_type": "code",
   "execution_count": 39,
   "metadata": {},
   "outputs": [
    {
     "data": {
      "text/plain": [
       "Text(0.5,1,'Page views by traffic source')"
      ]
     },
     "execution_count": 39,
     "metadata": {},
     "output_type": "execute_result"
    },
    {
     "data": {
      "image/png": "[encoded data removed]",
      "text/plain": [
       "<Figure size 576x576 with 1 Axes>"
      ]
     },
     "metadata": {},
     "output_type": "display_data"
    }
   ],
   "source": [
    "page_views_by_traffic_source.plot.pie(y = \"count\", labels = [\"Internal\", \"Search\", \"Social\"]\n",
    "                    , figsize = (8, 8), autopct = \"%.2f\", fontsize = 15)\n",
    "plt.title(\"Page views by traffic source\")"
   ]
  },
  {
   "cell_type": "markdown",
   "metadata": {},
   "source": [
    "# Events"
   ]
  },
  {
   "cell_type": "code",
   "execution_count": 40,
   "metadata": {},
   "outputs": [
    {
     "name": "stdout",
     "output_type": "stream",
     "text": [
      "Number of partitions for df events: 9\n",
      "+----------+--------------+-----------+---------+--------+------------+\n",
      "|display_id|          uuid|document_id|timestamp|platform|geo_location|\n",
      "+----------+--------------+-----------+---------+--------+------------+\n",
      "|         1|cb8c55702adb93|     379743|       61|       3|   US>SC>519|\n",
      "|         2|79a85fa78311b9|    1794259|       81|       2|   US>CA>807|\n",
      "|         3|822932ce3d8757|    1179111|      182|       2|   US>MI>505|\n",
      "|         4|85281d0a49f7ac|    1777797|      234|       2|   US>WV>564|\n",
      "|         5|8d0daef4bf5b56|     252458|      338|       2|       SG>00|\n",
      "|         6|7765b4faae4ad4|    1773517|      395|       3|   US>OH>510|\n",
      "|         7|2cc3f6457d16da|    1149661|      602|       2|   US>MT>762|\n",
      "|         8|166fc654d73c98|    1330329|      638|       2|   US>PA>566|\n",
      "|         9|9dddccf70f6067|    1772126|      667|       1|   US>FL>528|\n",
      "|        10|b09a0e92aa4d17|     157455|      693|       1|          US|\n",
      "|        11|602e210c5831e5|    1773230|      710|       3|   US>IL>675|\n",
      "|        12|6fa993bd0e0157|     892701|      718|       1|   US>TX>612|\n",
      "|        13|7355615832b3af|    1778533|      739|       1|   US>AZ>753|\n",
      "|        14|daef797fc210a2|    1759953|      798|       3|   US>NC>560|\n",
      "|        15|24c64dc30891c0|    1777136|     1000|       2|          GB|\n",
      "|        16|30c0ad12b36375|    1727882|     1033|       1|   US>FL>561|\n",
      "|        17|c80c06d718ba65|    1667725|     1044|       2|   US>MI>540|\n",
      "|        18|eb58e66b4f6bb0|     429183|     1175|       2|   US>OR>820|\n",
      "|        19|c419799a427c72|    1155107|     1202|       3|   US>HI>744|\n",
      "|        20|650e3b5699738b|    1642724|     1282|       2|   US>MI>505|\n",
      "+----------+--------------+-----------+---------+--------+------------+\n",
      "only showing top 20 rows\n",
      "\n"
     ]
    }
   ],
   "source": [
    "events = load(\"events\")\n",
    "events.show()"
   ]
  },
  {
   "cell_type": "code",
   "execution_count": 41,
   "metadata": {},
   "outputs": [
    {
     "name": "stdout",
     "output_type": "stream",
     "text": [
      "+----------+--------------+-----------+-------------------+--------+------------+\n",
      "|display_id|          uuid|document_id|          timestamp|platform|geo_location|\n",
      "+----------+--------------+-----------+-------------------+--------+------------+\n",
      "|         1|cb8c55702adb93|     379743|2016-06-14 09:30:00|       3|   US>SC>519|\n",
      "|         2|79a85fa78311b9|    1794259|2016-06-14 09:30:00|       2|   US>CA>807|\n",
      "|         3|822932ce3d8757|    1179111|2016-06-14 09:30:00|       2|   US>MI>505|\n",
      "|         4|85281d0a49f7ac|    1777797|2016-06-14 09:30:00|       2|   US>WV>564|\n",
      "|         5|8d0daef4bf5b56|     252458|2016-06-14 09:30:00|       2|       SG>00|\n",
      "|         6|7765b4faae4ad4|    1773517|2016-06-14 09:30:00|       3|   US>OH>510|\n",
      "|         7|2cc3f6457d16da|    1149661|2016-06-14 09:30:00|       2|   US>MT>762|\n",
      "|         8|166fc654d73c98|    1330329|2016-06-14 09:30:00|       2|   US>PA>566|\n",
      "|         9|9dddccf70f6067|    1772126|2016-06-14 09:30:00|       1|   US>FL>528|\n",
      "|        10|b09a0e92aa4d17|     157455|2016-06-14 09:30:00|       1|          US|\n",
      "|        11|602e210c5831e5|    1773230|2016-06-14 09:30:00|       3|   US>IL>675|\n",
      "|        12|6fa993bd0e0157|     892701|2016-06-14 09:30:00|       1|   US>TX>612|\n",
      "|        13|7355615832b3af|    1778533|2016-06-14 09:30:00|       1|   US>AZ>753|\n",
      "|        14|daef797fc210a2|    1759953|2016-06-14 09:30:00|       3|   US>NC>560|\n",
      "|        15|24c64dc30891c0|    1777136|2016-06-14 09:30:00|       2|          GB|\n",
      "|        16|30c0ad12b36375|    1727882|2016-06-14 09:30:01|       1|   US>FL>561|\n",
      "|        17|c80c06d718ba65|    1667725|2016-06-14 09:30:01|       2|   US>MI>540|\n",
      "|        18|eb58e66b4f6bb0|     429183|2016-06-14 09:30:01|       2|   US>OR>820|\n",
      "|        19|c419799a427c72|    1155107|2016-06-14 09:30:01|       3|   US>HI>744|\n",
      "|        20|650e3b5699738b|    1642724|2016-06-14 09:30:01|       2|   US>MI>505|\n",
      "+----------+--------------+-----------+-------------------+--------+------------+\n",
      "only showing top 20 rows\n",
      "\n"
     ]
    }
   ],
   "source": [
    "events = events.withColumn(\"timestamp\", F.expr(\"from_unixtime(cast((timestamp + 1465876799998)/1000 as int))\"))\n",
    "events.show()"
   ]
  },
  {
   "cell_type": "code",
   "execution_count": 42,
   "metadata": {},
   "outputs": [
    {
     "name": "stdout",
     "output_type": "stream",
     "text": [
      "Number of partitions for df events: 9\n"
     ]
    }
   ],
   "source": [
    "events = load(\"events\", rebase_timestamp=True)"
   ]
  },
  {
   "cell_type": "code",
   "execution_count": 43,
   "metadata": {},
   "outputs": [
    {
     "data": {
      "text/plain": [
       "23120126"
      ]
     },
     "execution_count": 43,
     "metadata": {},
     "output_type": "execute_result"
    }
   ],
   "source": [
    "events.count()"
   ]
  },
  {
   "cell_type": "markdown",
   "metadata": {},
   "source": [
    "Find distinct count of users, document, and location"
   ]
  },
  {
   "cell_type": "code",
   "execution_count": 44,
   "metadata": {},
   "outputs": [
    {
     "name": "stdout",
     "output_type": "stream",
     "text": [
      "CPU times: user 4 ms, sys: 0 ns, total: 4 ms\n",
      "Wall time: 8 s\n"
     ]
    },
    {
     "data": {
      "text/plain": [
       "Row(count(DISTINCT uuid)=19794967, count(DISTINCT document_id)=894060, count(DISTINCT geo_location)=2988)"
      ]
     },
     "execution_count": 44,
     "metadata": {},
     "output_type": "execute_result"
    }
   ],
   "source": [
    "%time events.selectExpr(\"count(distinct uuid)\", \"count(distinct document_id)\", \"count(distinct geo_location)\").first()"
   ]
  },
  {
   "cell_type": "markdown",
   "metadata": {},
   "source": [
    "Is the display_id unique in the events dataset?"
   ]
  },
  {
   "cell_type": "code",
   "execution_count": 45,
   "metadata": {},
   "outputs": [
    {
     "name": "stdout",
     "output_type": "stream",
     "text": [
      "CPU times: user 0 ns, sys: 4 ms, total: 4 ms\n",
      "Wall time: 4.64 s\n"
     ]
    },
    {
     "data": {
      "text/plain": [
       "0"
      ]
     },
     "execution_count": 45,
     "metadata": {},
     "output_type": "execute_result"
    }
   ],
   "source": [
    "%time events.groupBy(\"display_id\").count().filter(\"count>1\").count()"
   ]
  },
  {
   "cell_type": "markdown",
   "metadata": {},
   "source": [
    "Do all the display_id in the clicks_train present in events?"
   ]
  },
  {
   "cell_type": "code",
   "execution_count": 46,
   "metadata": {},
   "outputs": [
    {
     "name": "stdout",
     "output_type": "stream",
     "text": [
      "CPU times: user 0 ns, sys: 4 ms, total: 4 ms\n",
      "Wall time: 5.68 s\n"
     ]
    },
    {
     "data": {
      "text/plain": [
       "0"
      ]
     },
     "execution_count": 46,
     "metadata": {},
     "output_type": "execute_result"
    }
   ],
   "source": [
    "%time clicks_train.select(\"display_id\").distinct().join(events, on = [\"display_id\"], how = \"left_anti\").count()"
   ]
  },
  {
   "cell_type": "markdown",
   "metadata": {},
   "source": [
    "So, display_id for each record in clicks_train is present in events dataset.\n",
    "\n",
    "Check the same for clicks_test dataset."
   ]
  },
  {
   "cell_type": "code",
   "execution_count": 47,
   "metadata": {},
   "outputs": [
    {
     "name": "stdout",
     "output_type": "stream",
     "text": [
      "CPU times: user 0 ns, sys: 0 ns, total: 0 ns\n",
      "Wall time: 3.21 s\n"
     ]
    },
    {
     "data": {
      "text/plain": [
       "0"
      ]
     },
     "execution_count": 47,
     "metadata": {},
     "output_type": "execute_result"
    }
   ],
   "source": [
    "%time clicks_test.select(\"display_id\").distinct().join(events, on = [\"display_id\"], how = \"left_anti\").count()"
   ]
  },
  {
   "cell_type": "markdown",
   "metadata": {},
   "source": [
    "Average events by user"
   ]
  },
  {
   "cell_type": "code",
   "execution_count": 48,
   "metadata": {},
   "outputs": [
    {
     "data": {
      "text/plain": [
       "Row(avg_event_by_user=1.1679800223966021)"
      ]
     },
     "execution_count": 48,
     "metadata": {},
     "output_type": "execute_result"
    }
   ],
   "source": [
    "events.selectExpr(\"count(*)/count(distinct uuid) avg_event_by_user\").first()"
   ]
  },
  {
   "cell_type": "markdown",
   "metadata": {},
   "source": [
    "Does the timestamp exist for each record in events?"
   ]
  },
  {
   "cell_type": "code",
   "execution_count": 49,
   "metadata": {},
   "outputs": [
    {
     "data": {
      "text/plain": [
       "0"
      ]
     },
     "execution_count": 49,
     "metadata": {},
     "output_type": "execute_result"
    }
   ],
   "source": [
    "events.filter(\"isnull(timestamp)\").count()"
   ]
  },
  {
   "cell_type": "markdown",
   "metadata": {},
   "source": [
    "Does the timestamp in clicks_train and clicks_test have overlap?"
   ]
  },
  {
   "cell_type": "code",
   "execution_count": 50,
   "metadata": {},
   "outputs": [
    {
     "name": "stdout",
     "output_type": "stream",
     "text": [
      "+-------+\n",
      "|summary|\n",
      "+-------+\n",
      "|  count|\n",
      "|   mean|\n",
      "| stddev|\n",
      "|    min|\n",
      "|    max|\n",
      "+-------+\n",
      "\n",
      "CPU times: user 4 ms, sys: 0 ns, total: 4 ms\n",
      "Wall time: 18.6 ms\n"
     ]
    }
   ],
   "source": [
    "%time clicks_train.join(events, on = [\"display_id\"]).select(\"timestamp\").describe().show()"
   ]
  },
  {
   "cell_type": "code",
   "execution_count": 51,
   "metadata": {},
   "outputs": [
    {
     "name": "stdout",
     "output_type": "stream",
     "text": [
      "+-------+\n",
      "|summary|\n",
      "+-------+\n",
      "|  count|\n",
      "|   mean|\n",
      "| stddev|\n",
      "|    min|\n",
      "|    max|\n",
      "+-------+\n",
      "\n",
      "CPU times: user 4 ms, sys: 0 ns, total: 4 ms\n",
      "Wall time: 31.5 ms\n"
     ]
    }
   ],
   "source": [
    "%time clicks_test.join(events, on = [\"display_id\"]).select(\"timestamp\").describe().show()"
   ]
  },
  {
   "cell_type": "markdown",
   "metadata": {},
   "source": [
    "Clearly, the date ranges of training and test data overlap."
   ]
  },
  {
   "cell_type": "markdown",
   "metadata": {},
   "source": [
    "# Alignment between Events and Page Views"
   ]
  },
  {
   "cell_type": "markdown",
   "metadata": {},
   "source": [
    "Number of page views without matching event"
   ]
  },
  {
   "cell_type": "markdown",
   "metadata": {},
   "source": [
    "How many events have matching page views by uuid and document_id"
   ]
  },
  {
   "cell_type": "markdown",
   "metadata": {},
   "source": [
    "How many events have no page views"
   ]
  },
  {
   "cell_type": "markdown",
   "metadata": {},
   "source": [
    "How many views records have not matching events "
   ]
  },
  {
   "cell_type": "markdown",
   "metadata": {},
   "source": [
    "A given user might visit the same page more than once. Show sample events for which multiple page_views exist.  "
   ]
  },
  {
   "cell_type": "markdown",
   "metadata": {},
   "source": [
    "Show the distribution of number of ditinct users who view the same document multiple times"
   ]
  },
  {
   "cell_type": "code",
   "execution_count": 52,
   "metadata": {
    "scrolled": false
   },
   "outputs": [],
   "source": [
    "def join_views_and_events(columns):\n",
    "    df1 = page_views.select(*columns).withColumn(\"page_views\", F.lit(1)).withColumn(\"events\", F.lit(0))\n",
    "    df2 = events.select(*columns).withColumn(\"page_views\", F.lit(0)).withColumn(\"events\", F.lit(1))\n",
    "    df3 = df1.union(df2)\n",
    "    df4 = df3.groupBy(columns).agg(\n",
    "                F.sum(\"page_views\").alias(\"page_views_count\"), \n",
    "                F.sum(\"events\").alias(\"events_count\"))\n",
    "    return df4"
   ]
  },
  {
   "cell_type": "code",
   "execution_count": 53,
   "metadata": {},
   "outputs": [
    {
     "name": "stdout",
     "output_type": "stream",
     "text": [
      "+--------------+-----------+----------------+------------+\n",
      "|          uuid|document_id|page_views_count|events_count|\n",
      "+--------------+-----------+----------------+------------+\n",
      "|3286c54a862512|     647776|               1|           0|\n",
      "|a29f99948e908e|     647776|               1|           0|\n",
      "|1dd38cfc32d0af|     647776|               1|           0|\n",
      "|2ebe105af88084|     647776|               1|           0|\n",
      "|fc4f1e271ab611|     647776|               1|           0|\n",
      "|7a14dda54e7f60|     649004|               1|           0|\n",
      "|7c04b579125457|     649161|               1|           0|\n",
      "|df1f16aaeff918|     649161|               1|           0|\n",
      "|7932260aef663f|     649395|               1|           0|\n",
      "|b78c5990704b55|     649395|               1|           0|\n",
      "|c9cc4498d587e5|     649395|               1|           0|\n",
      "|d0f57454f9bd8d|     649395|               1|           0|\n",
      "|514bdfac720462|     649395|               1|           0|\n",
      "|5e981a9aa49864|     649707|               1|           0|\n",
      "|7c685aa0deb6de|     649828|               1|           0|\n",
      "|3a2c69d0db5f65|     649828|               1|           0|\n",
      "|f9ab409a1b03df|     649828|               1|           0|\n",
      "|20aaf0adfef08f|     649871|               1|           0|\n",
      "|ce10272e09d625|     649871|               1|           0|\n",
      "|de9d57a2dc71c3|     650130|               1|           0|\n",
      "+--------------+-----------+----------------+------------+\n",
      "only showing top 20 rows\n",
      "\n"
     ]
    }
   ],
   "source": [
    "# Cache output to disk. The dataframe is too large to hold in the memory of the current machine \n",
    "views_and_event = join_views_and_events([\"uuid\", \"document_id\"]).persist(StorageLevel.DISK_ONLY)\n",
    "views_and_event.show()"
   ]
  },
  {
   "cell_type": "markdown",
   "metadata": {},
   "source": [
    "How many user-document combination does not have any click on ads?"
   ]
  },
  {
   "cell_type": "code",
   "execution_count": 54,
   "metadata": {},
   "outputs": [
    {
     "name": "stdout",
     "output_type": "stream",
     "text": [
      "CPU times: user 4 ms, sys: 0 ns, total: 4 ms\n",
      "Wall time: 10.2 s\n"
     ]
    },
    {
     "data": {
      "text/plain": [
       "9877706"
      ]
     },
     "execution_count": 54,
     "metadata": {},
     "output_type": "execute_result"
    }
   ],
   "source": [
    "%time views_and_event.filter(\"page_views_count > 0 and events_count = 0\").count()"
   ]
  },
  {
   "cell_type": "markdown",
   "metadata": {},
   "source": [
    "How many user-doc combination does have machine record in page views?"
   ]
  },
  {
   "cell_type": "code",
   "execution_count": 55,
   "metadata": {},
   "outputs": [
    {
     "name": "stdout",
     "output_type": "stream",
     "text": [
      "CPU times: user 0 ns, sys: 0 ns, total: 0 ns\n",
      "Wall time: 367 ms\n"
     ]
    },
    {
     "data": {
      "text/plain": [
       "22468988"
      ]
     },
     "execution_count": 55,
     "metadata": {},
     "output_type": "execute_result"
    }
   ],
   "source": [
    "%time views_and_event.filter(\"page_views_count = 0 and events_count > 0\").count()"
   ]
  },
  {
   "cell_type": "markdown",
   "metadata": {},
   "source": [
    "Considering events represents the page views that have got clicks, what fraction of page views got clicks?  "
   ]
  },
  {
   "cell_type": "code",
   "execution_count": 56,
   "metadata": {},
   "outputs": [
    {
     "data": {
      "text/plain": [
       "2.312012831201283"
      ]
     },
     "execution_count": 56,
     "metadata": {},
     "output_type": "execute_result"
    }
   ],
   "source": [
    "events.count()/page_views.count()"
   ]
  },
  {
   "cell_type": "markdown",
   "metadata": {},
   "source": [
    "Let's take a sample uuid and document_id to see whether the event records have a matching page_views record."
   ]
  },
  {
   "cell_type": "code",
   "execution_count": 57,
   "metadata": {},
   "outputs": [
    {
     "name": "stdout",
     "output_type": "stream",
     "text": [
      "+----+-----------+---------+--------+------------+--------------+\n",
      "|uuid|document_id|timestamp|platform|geo_location|traffic_source|\n",
      "+----+-----------+---------+--------+------------+--------------+\n",
      "+----+-----------+---------+--------+------------+--------------+\n",
      "\n",
      "CPU times: user 4 ms, sys: 0 ns, total: 4 ms\n",
      "Wall time: 91.1 ms\n"
     ]
    }
   ],
   "source": [
    "%time page_views.filter(\"uuid = 'a34004004c3e50' and document_id = 140264\").show()"
   ]
  },
  {
   "cell_type": "code",
   "execution_count": 58,
   "metadata": {
    "scrolled": true
   },
   "outputs": [
    {
     "name": "stdout",
     "output_type": "stream",
     "text": [
      "+----------+--------------+-----------+-------------------+--------+------------+\n",
      "|display_id|          uuid|document_id|          timestamp|platform|geo_location|\n",
      "+----------+--------------+-----------+-------------------+--------+------------+\n",
      "|      1341|a34004004c3e50|     140264|2016-06-14 09:31:33|       1|   US>CA>868|\n",
      "|  17427544|a34004004c3e50|     140264|2016-06-16 19:24:19|       1|   US>CA>868|\n",
      "+----------+--------------+-----------+-------------------+--------+------------+\n",
      "\n",
      "CPU times: user 0 ns, sys: 0 ns, total: 0 ns\n",
      "Wall time: 1.34 s\n"
     ]
    }
   ],
   "source": [
    "%time events.filter(\"uuid = 'a34004004c3e50' and document_id = 140264\").show()"
   ]
  },
  {
   "cell_type": "markdown",
   "metadata": {},
   "source": [
    "Hypothesis: The page views record come web server logs. Events some user tracking devices such as omniture, google analytics. User may open the page, the after sometime, user may choose to view an ad. "
   ]
  },
  {
   "cell_type": "markdown",
   "metadata": {},
   "source": [
    "User may view a page more than once. Find how many users have viewed the same page more than once. "
   ]
  },
  {
   "cell_type": "code",
   "execution_count": 59,
   "metadata": {},
   "outputs": [
    {
     "name": "stdout",
     "output_type": "stream",
     "text": [
      "+----+-----------+-----+\n",
      "|uuid|document_id|count|\n",
      "+----+-----------+-----+\n",
      "+----+-----------+-----+\n",
      "\n"
     ]
    }
   ],
   "source": [
    "repeated_page_views = page_views.groupBy([\"uuid\", \"document_id\"]).count()\\\n",
    "        .filter(\"count > 1\").orderBy(F.desc(\"count\"))\n",
    "repeated_page_views.show()"
   ]
  },
  {
   "cell_type": "code",
   "execution_count": 60,
   "metadata": {
    "scrolled": false
   },
   "outputs": [
    {
     "data": {
      "text/plain": [
       "0"
      ]
     },
     "execution_count": 60,
     "metadata": {},
     "output_type": "execute_result"
    }
   ],
   "source": [
    "repeated_page_views.count()"
   ]
  },
  {
   "cell_type": "markdown",
   "metadata": {},
   "source": [
    "Look at a sample uuid who has repeated visited a page to observe the pattern in the source, location and timestamp"
   ]
  },
  {
   "cell_type": "code",
   "execution_count": 61,
   "metadata": {},
   "outputs": [],
   "source": [
    "if repeated_page_views.count()>0:\n",
    "    sample_record = repeated_page_views.sample(True, 0.1).take(1)[0]\n",
    "    page_views.filter(F.col(\"uuid\") == sample_record.uuid)\\\n",
    "        .filter(F.col(\"document_id\") == sample_record.document_id).show()"
   ]
  },
  {
   "cell_type": "markdown",
   "metadata": {},
   "source": [
    "# Advertisement (Promopoted Content)"
   ]
  },
  {
   "cell_type": "code",
   "execution_count": 62,
   "metadata": {},
   "outputs": [
    {
     "name": "stdout",
     "output_type": "stream",
     "text": [
      "Number of partitions for df promoted_content: 4\n",
      "+-----+-----------+-----------+-------------+\n",
      "|ad_id|document_id|campaign_id|advertiser_id|\n",
      "+-----+-----------+-----------+-------------+\n",
      "|    1|       6614|          1|            7|\n",
      "|    2|     471467|          2|            7|\n",
      "|    3|       7692|          3|            7|\n",
      "|    4|     471471|          2|            7|\n",
      "|    5|     471472|          2|            7|\n",
      "|    6|      12736|          1|            7|\n",
      "|    7|      12808|          1|            7|\n",
      "|    8|     471477|          2|            7|\n",
      "|    9|      13379|          1|            7|\n",
      "|   10|      13885|          1|            7|\n",
      "|   11|      14230|          1|            7|\n",
      "|   12|     446701|         10|           19|\n",
      "|   13|     471499|         10|           19|\n",
      "|   14|     471500|         10|           19|\n",
      "|   15|     471501|         10|           19|\n",
      "|   16|     471514|         17|           19|\n",
      "|   17|     471517|         10|           19|\n",
      "|   18|     471518|         10|           19|\n",
      "|   19|     471519|          5|           19|\n",
      "|   20|     446660|         21|           19|\n",
      "+-----+-----------+-----------+-------------+\n",
      "only showing top 20 rows\n",
      "\n"
     ]
    }
   ],
   "source": [
    "promoted_contents = load(\"promoted_content\")\n",
    "promoted_contents.show()"
   ]
  },
  {
   "cell_type": "code",
   "execution_count": 63,
   "metadata": {},
   "outputs": [
    {
     "data": {
      "text/plain": [
       "559583"
      ]
     },
     "execution_count": 63,
     "metadata": {},
     "output_type": "execute_result"
    }
   ],
   "source": [
    "promoted_contents.count()"
   ]
  },
  {
   "cell_type": "markdown",
   "metadata": {},
   "source": [
    "Promoted_content stores the meta of the ads. Double check the ad_id is unique in this dataset."
   ]
  },
  {
   "cell_type": "code",
   "execution_count": 64,
   "metadata": {},
   "outputs": [
    {
     "name": "stdout",
     "output_type": "stream",
     "text": [
      "CPU times: user 0 ns, sys: 0 ns, total: 0 ns\n",
      "Wall time: 135 ms\n"
     ]
    },
    {
     "data": {
      "text/plain": [
       "0"
      ]
     },
     "execution_count": 64,
     "metadata": {},
     "output_type": "execute_result"
    }
   ],
   "source": [
    "%time promoted_contents.groupBy(\"ad_id\").count().filter(\"count>1\").count()"
   ]
  },
  {
   "cell_type": "markdown",
   "metadata": {},
   "source": [
    "How many unique campaigns, documents and advertisers are there?"
   ]
  },
  {
   "cell_type": "code",
   "execution_count": 65,
   "metadata": {},
   "outputs": [
    {
     "name": "stdout",
     "output_type": "stream",
     "text": [
      "CPU times: user 4 ms, sys: 0 ns, total: 4 ms\n",
      "Wall time: 214 ms\n"
     ]
    },
    {
     "data": {
      "text/plain": [
       "Row(count(DISTINCT document_id)=185709, count(DISTINCT campaign_id)=34675, count(DISTINCT advertiser_id)=4385)"
      ]
     },
     "execution_count": 65,
     "metadata": {},
     "output_type": "execute_result"
    }
   ],
   "source": [
    "%time promoted_contents\\\n",
    ".selectExpr(\"count(distinct document_id)\", \"count(distinct campaign_id)\", \"count(distinct advertiser_id)\").first()"
   ]
  },
  {
   "cell_type": "markdown",
   "metadata": {},
   "source": [
    "Does ad_id in the clicks dataset have meta data info in promoted_contents?"
   ]
  },
  {
   "cell_type": "code",
   "execution_count": 66,
   "metadata": {},
   "outputs": [
    {
     "name": "stdout",
     "output_type": "stream",
     "text": [
      "CPU times: user 0 ns, sys: 4 ms, total: 4 ms\n",
      "Wall time: 3.71 s\n"
     ]
    },
    {
     "data": {
      "text/plain": [
       "0"
      ]
     },
     "execution_count": 66,
     "metadata": {},
     "output_type": "execute_result"
    }
   ],
   "source": [
    "%time (clicks_train.select(\"ad_id\").union(clicks_test.select(\"ad_id\"))\\\n",
    "       .join(promoted_contents, on = [\"ad_id\"], how = \"leftanti\").count())"
   ]
  },
  {
   "cell_type": "markdown",
   "metadata": {},
   "source": [
    "So, all the ad_id in clicks dataset exist in the promoted_contents. "
   ]
  },
  {
   "cell_type": "markdown",
   "metadata": {},
   "source": [
    "Find average CTR for campaign"
   ]
  },
  {
   "cell_type": "code",
   "execution_count": 67,
   "metadata": {},
   "outputs": [
    {
     "name": "stdout",
     "output_type": "stream",
     "text": [
      "+-----------+-------------------+\n",
      "|campaign_id|            avg_ctr|\n",
      "+-----------+-------------------+\n",
      "|      12020|0.18853094256899317|\n",
      "|      15551|0.14168937329700274|\n",
      "|      16636|0.06654206156723358|\n",
      "|      17774| 0.4740740740740741|\n",
      "|      10710|0.07173178014624783|\n",
      "|       7857|0.15448798511873105|\n",
      "|       8748|   0.13014925725663|\n",
      "|      28587|0.03608090199020851|\n",
      "|      26563|0.05487204724409449|\n",
      "|      25870|0.09421250207776988|\n",
      "|      12787|0.26873419406362303|\n",
      "|      24189|0.12057582351582147|\n",
      "|        343| 0.1642336045511124|\n",
      "|      22274|0.14866234594342462|\n",
      "|      27610|0.12141843236348225|\n",
      "|      25673| 0.0909153570443893|\n",
      "|        692|0.10861946684564693|\n",
      "|      17645|0.12021702251393619|\n",
      "|      23815|  0.085025248657077|\n",
      "|      26133| 0.1047878333543433|\n",
      "+-----------+-------------------+\n",
      "only showing top 20 rows\n",
      "\n"
     ]
    }
   ],
   "source": [
    "avg_ctr_by_campaign = promoted_contents.join(ctrs, on = \"ad_id\").groupBy(\"campaign_id\")\\\n",
    ".agg(F.avg(\"ctr\").alias(\"avg_ctr\"))\n",
    "\n",
    "avg_ctr_by_campaign.show()"
   ]
  },
  {
   "cell_type": "markdown",
   "metadata": {},
   "source": [
    "Find avg ctr by advertiser."
   ]
  },
  {
   "cell_type": "code",
   "execution_count": 68,
   "metadata": {},
   "outputs": [
    {
     "name": "stdout",
     "output_type": "stream",
     "text": [
      "+-------------+-------------------+\n",
      "|advertiser_id|            avg_ctr|\n",
      "+-------------+-------------------+\n",
      "|         2349|0.10883058103462902|\n",
      "|         3829| 0.2068642691859514|\n",
      "|         1283|0.14176344970802937|\n",
      "|          434| 0.1043910399182465|\n",
      "|         2030|0.10217395554446719|\n",
      "|         2447|0.05872570281791586|\n",
      "|         2625|0.13082804384293295|\n",
      "|           38|0.13581588111063284|\n",
      "|         1633|0.20279203966409717|\n",
      "|         3404|0.03207982667240285|\n",
      "|         1809|0.15295881650970958|\n",
      "|         2260|0.35096740188296494|\n",
      "|          881| 0.1252447139156763|\n",
      "|         1557|0.09639892315222712|\n",
      "|         1830| 0.2122485949912904|\n",
      "|         2116| 0.1282686945248045|\n",
      "|         2840|0.23191125858194017|\n",
      "|         3572|0.12020942448693174|\n",
      "|          784|0.08288804563485187|\n",
      "|         2859|0.19682314282065358|\n",
      "+-------------+-------------------+\n",
      "only showing top 20 rows\n",
      "\n"
     ]
    }
   ],
   "source": [
    "avg_ctr_by_advertiser = promoted_contents.join(ctrs, on = \"ad_id\").groupBy(\"advertiser_id\")\\\n",
    ".agg(F.avg(\"ctr\").alias(\"avg_ctr\"))\n",
    "\n",
    "avg_ctr_by_advertiser.show()"
   ]
  },
  {
   "cell_type": "markdown",
   "metadata": {},
   "source": [
    "Find avg ctr by document."
   ]
  },
  {
   "cell_type": "code",
   "execution_count": 69,
   "metadata": {},
   "outputs": [
    {
     "name": "stdout",
     "output_type": "stream",
     "text": [
      "+-----------+--------------------+\n",
      "|document_id|             avg_ctr|\n",
      "+-----------+--------------------+\n",
      "|    1087952| 0.33327873327873325|\n",
      "|     870875| 0.24400340797438524|\n",
      "|    1377696|0.048441767634379414|\n",
      "|    1146963| 0.19168084171412803|\n",
      "|    1083829| 0.32597524434580355|\n",
      "|     378777| 0.08661417322834646|\n",
      "|    1247211|  0.2608837247293875|\n",
      "|     902349|0.058823529411764705|\n",
      "|     907267| 0.03737655352703233|\n",
      "|    1273596| 0.26410511426215816|\n",
      "|    1333191|  0.1767042599220612|\n",
      "|     876083| 0.08421440203631031|\n",
      "|    1767220| 0.16518679146475518|\n",
      "|    1603476| 0.19174833310958966|\n",
      "|    1561030| 0.05284776441477035|\n",
      "|    1176283|  0.3650056262723164|\n",
      "|     630595|0.014084507042253521|\n",
      "|    1590983|                 0.0|\n",
      "|    1154277| 0.19185631204008377|\n",
      "|    1326394|  0.0379591665969375|\n",
      "+-----------+--------------------+\n",
      "only showing top 20 rows\n",
      "\n"
     ]
    }
   ],
   "source": [
    "avg_ctr_by_document = promoted_contents.join(ctrs, on = \"ad_id\").groupBy(\"document_id\")\\\n",
    ".agg(F.avg(\"ctr\").alias(\"avg_ctr\"))\n",
    "\n",
    "avg_ctr_by_document.show()"
   ]
  },
  {
   "cell_type": "markdown",
   "metadata": {},
   "source": [
    "# Document Attributes\n",
    "\n",
    "### Document Meta Data"
   ]
  },
  {
   "cell_type": "code",
   "execution_count": 70,
   "metadata": {},
   "outputs": [
    {
     "name": "stdout",
     "output_type": "stream",
     "text": [
      "Number of partitions for df documents_meta: 8\n",
      "+-----------+---------+------------+-------------------+\n",
      "|document_id|source_id|publisher_id|publish_time       |\n",
      "+-----------+---------+------------+-------------------+\n",
      "|788428     |579      |9           |2015-03-16 00:00:00|\n",
      "|864787     |579      |9           |2011-08-22 00:00:00|\n",
      "|817971     |579      |9           |2015-07-13 00:00:00|\n",
      "|806663     |579      |9           |2015-06-01 00:00:00|\n",
      "|796001     |579      |9           |2015-04-03 00:00:00|\n",
      "+-----------+---------+------------+-------------------+\n",
      "only showing top 5 rows\n",
      "\n"
     ]
    }
   ],
   "source": [
    "documents_meta = load(\"documents_meta\")\n",
    "documents_meta.show(5, False)"
   ]
  },
  {
   "cell_type": "code",
   "execution_count": 71,
   "metadata": {},
   "outputs": [
    {
     "data": {
      "text/plain": [
       "2999334"
      ]
     },
     "execution_count": 71,
     "metadata": {},
     "output_type": "execute_result"
    }
   ],
   "source": [
    "documents_meta.count()"
   ]
  },
  {
   "cell_type": "markdown",
   "metadata": {},
   "source": [
    "Verify whether the document_id is unique in document_meta."
   ]
  },
  {
   "cell_type": "code",
   "execution_count": 72,
   "metadata": {},
   "outputs": [
    {
     "data": {
      "text/plain": [
       "0"
      ]
     },
     "execution_count": 72,
     "metadata": {},
     "output_type": "execute_result"
    }
   ],
   "source": [
    "documents_meta.groupby(\"document_id\").count().filter(\"count>1\").count()"
   ]
  },
  {
   "cell_type": "markdown",
   "metadata": {},
   "source": [
    "How many source_ids are there?"
   ]
  },
  {
   "cell_type": "code",
   "execution_count": 73,
   "metadata": {},
   "outputs": [
    {
     "data": {
      "text/plain": [
       "14395"
      ]
     },
     "execution_count": 73,
     "metadata": {},
     "output_type": "execute_result"
    }
   ],
   "source": [
    "documents_meta.select(\"source_id\").distinct().count()"
   ]
  },
  {
   "cell_type": "markdown",
   "metadata": {},
   "source": [
    "How many publisher_ids are there?"
   ]
  },
  {
   "cell_type": "code",
   "execution_count": 74,
   "metadata": {},
   "outputs": [
    {
     "data": {
      "text/plain": [
       "1260"
      ]
     },
     "execution_count": 74,
     "metadata": {},
     "output_type": "execute_result"
    }
   ],
   "source": [
    "documents_meta.select(\"publisher_id\").distinct().count()"
   ]
  },
  {
   "cell_type": "markdown",
   "metadata": {},
   "source": [
    "### Document Categories"
   ]
  },
  {
   "cell_type": "code",
   "execution_count": 75,
   "metadata": {},
   "outputs": [
    {
     "name": "stdout",
     "output_type": "stream",
     "text": [
      "Number of partitions for df documents_categories: 8\n",
      "root\n",
      " |-- document_id: integer (nullable = true)\n",
      " |-- category_id: integer (nullable = true)\n",
      " |-- confidence_level: double (nullable = true)\n",
      "\n",
      "+-----------+-----------+----------------+\n",
      "|document_id|category_id|confidence_level|\n",
      "+-----------+-----------+----------------+\n",
      "|2416431    |1407       |0.87841876      |\n",
      "|2260393    |1702       |0.92            |\n",
      "|917692     |1702       |0.92            |\n",
      "|1786173    |1706       |0.07            |\n",
      "|1783554    |1709       |0.07            |\n",
      "+-----------+-----------+----------------+\n",
      "only showing top 5 rows\n",
      "\n"
     ]
    }
   ],
   "source": [
    "documents_categories = load(\"documents_categories\").drop_duplicates([\"document_id\", \"category_id\"])\n",
    "documents_categories.printSchema()\n",
    "documents_categories.show(5, False)"
   ]
  },
  {
   "cell_type": "code",
   "execution_count": 76,
   "metadata": {
    "scrolled": true
   },
   "outputs": [
    {
     "data": {
      "text/plain": [
       "5481474"
      ]
     },
     "execution_count": 76,
     "metadata": {},
     "output_type": "execute_result"
    }
   ],
   "source": [
    "documents_categories.count()"
   ]
  },
  {
   "cell_type": "code",
   "execution_count": 77,
   "metadata": {},
   "outputs": [
    {
     "data": {
      "text/plain": [
       "97"
      ]
     },
     "execution_count": 77,
     "metadata": {},
     "output_type": "execute_result"
    }
   ],
   "source": [
    "documents_categories.select(\"category_id\").distinct().count()"
   ]
  },
  {
   "cell_type": "markdown",
   "metadata": {},
   "source": [
    "category_id is not indexed. Using string indexer to index it. One Hot Encoding is another option. Here I am not doing it because the I want to use the confidence_level to weigh in. "
   ]
  },
  {
   "cell_type": "code",
   "execution_count": 78,
   "metadata": {},
   "outputs": [
    {
     "name": "stdout",
     "output_type": "stream",
     "text": [
      "+-----------+-----------+----------------+----+\n",
      "|document_id|category_id|confidence_level|  id|\n",
      "+-----------+-----------+----------------+----+\n",
      "|    2416431|       1407|      0.87841876|12.0|\n",
      "|    2260393|       1702|            0.92| 1.0|\n",
      "|     917692|       1702|            0.92| 1.0|\n",
      "|    1786173|       1706|            0.07|13.0|\n",
      "|    1783554|       1709|            0.07|55.0|\n",
      "|    1776902|       1806|     0.597394548|20.0|\n",
      "|    1784492|       1702|     0.556040824| 1.0|\n",
      "|    1812275|       1903|            0.92|15.0|\n",
      "|    1762888|       1613|     0.904981736|38.0|\n",
      "|    1811648|       1702|            0.92| 1.0|\n",
      "|    1110915|       1702|     0.622750116| 1.0|\n",
      "|     983795|       1702|     0.582905652| 1.0|\n",
      "|    1093318|       2004|            0.07| 7.0|\n",
      "|     984200|       1302|     0.436507432|48.0|\n",
      "|    1913424|       1706|            0.07|13.0|\n",
      "|    2061034|       1702|     0.042858662| 1.0|\n",
      "|    1972828|       1702|            0.92| 1.0|\n",
      "|    1904284|       1706|            0.07|13.0|\n",
      "|    1915415|       1403|     0.040102622| 0.0|\n",
      "|    1856631|       1702|     0.716022384| 1.0|\n",
      "+-----------+-----------+----------------+----+\n",
      "only showing top 20 rows\n",
      "\n"
     ]
    }
   ],
   "source": [
    "from pyspark.ml.feature import StringIndexer\n",
    "\n",
    "#String indexer required string column\n",
    "documents_categories = documents_categories.withColumn(\"category_id\", F.expr(\"cast(category_id as string)\")) \n",
    "\n",
    "if \"id\" in documents_categories.columns:\n",
    "    documents_categories = documents_categories.drop(\"id\")\n",
    "\n",
    "category_indexer = StringIndexer(inputCol=\"category_id\", outputCol=\"id\")\n",
    "documents_categories = category_indexer.fit(documents_categories).transform(documents_categories)\n",
    "\n",
    "documents_categories.show()"
   ]
  },
  {
   "cell_type": "markdown",
   "metadata": {},
   "source": [
    "Group the data by document_id and pack the other information in a array field."
   ]
  },
  {
   "cell_type": "code",
   "execution_count": 79,
   "metadata": {},
   "outputs": [
    {
     "name": "stdout",
     "output_type": "stream",
     "text": [
      "root\n",
      " |-- document_id: integer (nullable = true)\n",
      " |-- categories: array (nullable = true)\n",
      " |    |-- element: struct (containsNull = true)\n",
      " |    |    |-- id: double (nullable = false)\n",
      " |    |    |-- confidence_level: double (nullable = true)\n",
      "\n"
     ]
    }
   ],
   "source": [
    "documents_categories_n = documents_categories\\\n",
    ".withColumn(\"pair\", F.struct(\"id\", \"confidence_level\"))\\\n",
    ".groupBy(\"document_id\")\\\n",
    ".agg(F.collect_list(\"pair\").alias(\"categories\"))\n",
    "\n",
    "documents_categories_n.printSchema()"
   ]
  },
  {
   "cell_type": "code",
   "execution_count": 80,
   "metadata": {},
   "outputs": [
    {
     "data": {
      "text/plain": [
       "2828649"
      ]
     },
     "execution_count": 80,
     "metadata": {},
     "output_type": "execute_result"
    }
   ],
   "source": [
    "documents_categories_n.count()"
   ]
  },
  {
   "cell_type": "code",
   "execution_count": 81,
   "metadata": {},
   "outputs": [
    {
     "name": "stdout",
     "output_type": "stream",
     "text": [
      "+-----------+-----------------------------------------+\n",
      "|document_id|categories                               |\n",
      "+-----------+-----------------------------------------+\n",
      "|12         |[[0.0, 0.024439128], [15.0, 0.321199968]]|\n",
      "|18         |[[12.0, 0.92], [30.0, 0.07]]             |\n",
      "|38         |[[51.0, 0.92], [32.0, 0.07]]             |\n",
      "+-----------+-----------------------------------------+\n",
      "only showing top 3 rows\n",
      "\n"
     ]
    }
   ],
   "source": [
    "documents_categories_n.show(3, False)"
   ]
  },
  {
   "cell_type": "markdown",
   "metadata": {},
   "source": [
    "### Document entities"
   ]
  },
  {
   "cell_type": "code",
   "execution_count": 82,
   "metadata": {},
   "outputs": [
    {
     "name": "stdout",
     "output_type": "stream",
     "text": [
      "Number of partitions for df documents_entities: 8\n",
      "+-----------+--------------------------------+-----------------+\n",
      "|document_id|entity_id                       |confidence_level |\n",
      "+-----------+--------------------------------+-----------------+\n",
      "|1090777    |13382f1237391289a06215b1c3fd76b6|0.242424004409274|\n",
      "|1118903    |135629f3dea09fb3793708b55f49ed41|0.327493886222015|\n",
      "|871008     |00eb36948f331eada0a7306328e8cf9b|0.683590151896937|\n",
      "|2779469    |a1729c4252069e909f56b4c41283495b|0.248229877540157|\n",
      "|2126240    |8eff7a6a560c2fd02b0bf53db50ef3c5|0.204488577325427|\n",
      "+-----------+--------------------------------+-----------------+\n",
      "only showing top 5 rows\n",
      "\n"
     ]
    }
   ],
   "source": [
    "documents_entities = load(\"documents_entities\").drop_duplicates([\"document_id\", \"entity_id\"])\n",
    "documents_entities.show(5, False)"
   ]
  },
  {
   "cell_type": "markdown",
   "metadata": {},
   "source": [
    "Find stats around the number of entities per document."
   ]
  },
  {
   "cell_type": "code",
   "execution_count": 83,
   "metadata": {},
   "outputs": [
    {
     "name": "stdout",
     "output_type": "stream",
     "text": [
      "+-------+------------------+\n",
      "|summary|             count|\n",
      "+-------+------------------+\n",
      "|  count|           1791420|\n",
      "|   mean| 3.091152270266046|\n",
      "| stddev|2.3904599699254128|\n",
      "|    min|                 1|\n",
      "|    max|                10|\n",
      "+-------+------------------+\n",
      "\n"
     ]
    }
   ],
   "source": [
    "documents_entities.groupBy(\"document_id\").count().select(\"count\").describe().show()"
   ]
  },
  {
   "cell_type": "markdown",
   "metadata": {},
   "source": [
    "Find count of unique entity_ids."
   ]
  },
  {
   "cell_type": "code",
   "execution_count": 84,
   "metadata": {},
   "outputs": [
    {
     "data": {
      "text/plain": [
       "1326009"
      ]
     },
     "execution_count": 84,
     "metadata": {},
     "output_type": "execute_result"
    }
   ],
   "source": [
    "documents_entities.select(\"entity_id\").distinct().count()"
   ]
  },
  {
   "cell_type": "markdown",
   "metadata": {},
   "source": [
    "Apply StringIndex to index the entity_id."
   ]
  },
  {
   "cell_type": "code",
   "execution_count": 85,
   "metadata": {},
   "outputs": [
    {
     "name": "stdout",
     "output_type": "stream",
     "text": [
      "+-----------+--------------------+-----------------+---------+\n",
      "|document_id|           entity_id| confidence_level|       id|\n",
      "+-----------+--------------------+-----------------+---------+\n",
      "|    1090777|13382f1237391289a...|0.242424004409274|   8166.0|\n",
      "|    1118903|135629f3dea09fb37...|0.327493886222015| 803292.0|\n",
      "|     871008|00eb36948f331eada...|0.683590151896937| 328978.0|\n",
      "|    2779469|a1729c4252069e909...|0.248229877540157|  97093.0|\n",
      "|    2126240|8eff7a6a560c2fd02...|0.204488577325427|     69.0|\n",
      "|    2193944|6a5157fd41504fb9c...|0.410463920637349| 318452.0|\n",
      "|    2978723|2e19d4df6d5c5d041...|0.633742282070604| 102664.0|\n",
      "|    1962013|a0650e1f56779ef9f...|0.817492792951132| 235150.0|\n",
      "|    1992396|e9690f32b711268ba...|0.338501150254482|  39067.0|\n",
      "|    1887868|11fa53caa77b3a322...|0.495300779508544| 263301.0|\n",
      "|    1887868|94c4db3ce2d1c5bb3...|0.248107088270607| 129942.0|\n",
      "|    1860593|7c50e96cb9213404d...|0.228940055714979| 356922.0|\n",
      "|    1936934|896ebce354e38fd15...|  0.8329473780528|      5.0|\n",
      "|    1936934|14f26ef84f0c9030c...|0.348393207151086|  26863.0|\n",
      "|    1962015|d9c3d349db59cd6c8...|0.721560136969932|  12858.0|\n",
      "|    1044282|c917e68c195155e4d...| 0.57021467052628|     78.0|\n",
      "|    1125936|90e29901a9ac6b5f2...|0.370813052702074| 189139.0|\n",
      "|    1086306|f69031a6ca419ab35...|0.870062855759672| 294076.0|\n",
      "|     975097|a5538a1f4abd62ca0...|0.215142725024088|1297045.0|\n",
      "|    1020830|e5119362abee65845...|0.789546225845562|   2183.0|\n",
      "+-----------+--------------------+-----------------+---------+\n",
      "only showing top 20 rows\n",
      "\n"
     ]
    }
   ],
   "source": [
    "if \"id\" in documents_entities.columns:\n",
    "    documents_entities = documents_entities.drop(\"id\")\n",
    "\n",
    "documents_entities =  StringIndexer(inputCol=\"entity_id\", outputCol=\"id\")\\\n",
    ".fit(documents_entities)\\\n",
    ".transform(documents_entities)\n",
    "\n",
    "documents_entities.show()"
   ]
  },
  {
   "cell_type": "code",
   "execution_count": 86,
   "metadata": {
    "scrolled": false
   },
   "outputs": [
    {
     "name": "stdout",
     "output_type": "stream",
     "text": [
      "root\n",
      " |-- document_id: integer (nullable = true)\n",
      " |-- entities: array (nullable = true)\n",
      " |    |-- element: struct (containsNull = true)\n",
      " |    |    |-- id: double (nullable = false)\n",
      " |    |    |-- confidence_level: double (nullable = true)\n",
      "\n"
     ]
    }
   ],
   "source": [
    "documents_entities_n = documents_entities\\\n",
    ".withColumn(\"pair\", F.struct(\"id\", \"confidence_level\"))\\\n",
    ".groupBy(\"document_id\")\\\n",
    ".agg(F.collect_list(\"pair\").alias(\"entities\"))\n",
    "\n",
    "documents_entities_n.printSchema()"
   ]
  },
  {
   "cell_type": "markdown",
   "metadata": {},
   "source": [
    "### Document topics"
   ]
  },
  {
   "cell_type": "code",
   "execution_count": 87,
   "metadata": {},
   "outputs": [
    {
     "name": "stdout",
     "output_type": "stream",
     "text": [
      "Number of partitions for df documents_topics: 8\n",
      "+-----------+--------+------------------+\n",
      "|document_id|topic_id|confidence_level  |\n",
      "+-----------+--------+------------------+\n",
      "|1452655    |196     |0.106394462699838 |\n",
      "|1320105    |247     |0.0571471264056742|\n",
      "|1320105    |147     |0.0276004057198086|\n",
      "|1328313    |235     |0.0152867401656747|\n",
      "|1408191    |125     |0.0448081967939227|\n",
      "+-----------+--------+------------------+\n",
      "only showing top 5 rows\n",
      "\n"
     ]
    }
   ],
   "source": [
    "documents_topics = load(\"documents_topics\").drop_duplicates([\"document_id\",\"topic_id\"])\n",
    "documents_topics.show(5, False)"
   ]
  },
  {
   "cell_type": "code",
   "execution_count": 88,
   "metadata": {},
   "outputs": [
    {
     "name": "stdout",
     "output_type": "stream",
     "text": [
      "[0, 1, 2, 3, 4, 5, 6, 7, 8, 9, 10, 11, 12, 13, 14, 15, 16, 17, 18, 19, 20, 21, 22, 23, 24, 25, 26, 27, 28, 29, 30, 31, 32, 33, 34, 35, 36, 37, 38, 39, 40, 41, 42, 43, 44, 45, 46, 47, 48, 49, 50, 51, 52, 53, 54, 55, 56, 57, 58, 59, 60, 61, 62, 63, 64, 65, 66, 67, 68, 69, 70, 71, 72, 73, 74, 75, 76, 77, 78, 79, 80, 81, 82, 83, 84, 85, 86, 87, 88, 89, 90, 91, 92, 93, 94, 95, 96, 97, 98, 99, 100, 101, 102, 103, 104, 105, 106, 107, 108, 109, 110, 111, 112, 113, 114, 115, 116, 117, 118, 119, 120, 121, 122, 123, 124, 125, 126, 127, 128, 129, 130, 131, 132, 133, 134, 135, 136, 137, 138, 139, 140, 141, 142, 143, 144, 145, 146, 147, 148, 149, 150, 151, 152, 153, 154, 155, 156, 157, 158, 159, 160, 161, 162, 163, 164, 165, 166, 167, 168, 169, 170, 171, 172, 173, 174, 175, 176, 177, 178, 179, 180, 181, 182, 183, 184, 185, 186, 187, 188, 189, 190, 191, 192, 193, 194, 195, 196, 197, 198, 199, 200, 201, 202, 203, 204, 205, 206, 207, 208, 209, 210, 211, 212, 213, 214, 215, 216, 217, 218, 219, 220, 221, 222, 223, 224, 225, 226, 227, 228, 229, 230, 231, 232, 233, 234, 235, 236, 237, 238, 239, 240, 241, 242, 243, 244, 245, 246, 247, 248, 249, 250, 251, 252, 253, 254, 255, 256, 257, 258, 259, 260, 261, 262, 263, 264, 265, 266, 267, 268, 269, 270, 271, 272, 273, 274, 275, 276, 277, 278, 279, 280, 281, 282, 283, 284, 285, 286, 287, 288, 289, 290, 291, 292, 293, 294, 295, 296, 297, 298, 299]\n"
     ]
    }
   ],
   "source": [
    "print(sorted([v.topic_id for v in documents_topics.select(\"topic_id\").distinct().collect()]))"
   ]
  },
  {
   "cell_type": "markdown",
   "metadata": {},
   "source": [
    "Topic_id seems already indexed. And there 300 topics are there."
   ]
  },
  {
   "cell_type": "code",
   "execution_count": 89,
   "metadata": {},
   "outputs": [
    {
     "data": {
      "text/plain": [
       "300"
      ]
     },
     "execution_count": 89,
     "metadata": {},
     "output_type": "execute_result"
    }
   ],
   "source": [
    "documents_topics.select(\"topic_id\").distinct().count()"
   ]
  },
  {
   "cell_type": "code",
   "execution_count": 90,
   "metadata": {
    "scrolled": false
   },
   "outputs": [
    {
     "name": "stdout",
     "output_type": "stream",
     "text": [
      "root\n",
      " |-- document_id: integer (nullable = true)\n",
      " |-- topics: array (nullable = true)\n",
      " |    |-- element: struct (containsNull = true)\n",
      " |    |    |-- id: integer (nullable = true)\n",
      " |    |    |-- confidence_level: double (nullable = true)\n",
      "\n"
     ]
    }
   ],
   "source": [
    "documents_topics_n = documents_topics\\\n",
    ".toDF(\"document_id\", \"id\", \"confidence_level\")\\\n",
    ".withColumn(\"pair\", F.struct(\"id\", \"confidence_level\"))\\\n",
    ".groupBy(\"document_id\")\\\n",
    ".agg(F.collect_list(\"pair\").alias(\"topics\"))\n",
    "\n",
    "documents_topics_n.printSchema()"
   ]
  },
  {
   "cell_type": "code",
   "execution_count": 91,
   "metadata": {},
   "outputs": [
    {
     "data": {
      "text/plain": [
       "2495423"
      ]
     },
     "execution_count": 91,
     "metadata": {},
     "output_type": "execute_result"
    }
   ],
   "source": [
    "documents_topics_n.count()"
   ]
  },
  {
   "cell_type": "markdown",
   "metadata": {},
   "source": [
    "Create a field new field for each dataset to indicate the original source file and then join all 4 datasets - categories, entities, topics and meta"
   ]
  },
  {
   "cell_type": "code",
   "execution_count": 92,
   "metadata": {},
   "outputs": [
    {
     "name": "stdout",
     "output_type": "stream",
     "text": [
      "root\n",
      " |-- document_id: integer (nullable = true)\n",
      " |-- source_id: integer (nullable = true)\n",
      " |-- publisher_id: integer (nullable = true)\n",
      " |-- publish_time: timestamp (nullable = true)\n",
      " |-- categories: array (nullable = true)\n",
      " |    |-- element: struct (containsNull = true)\n",
      " |    |    |-- id: double (nullable = false)\n",
      " |    |    |-- confidence_level: double (nullable = true)\n",
      " |-- topics: array (nullable = true)\n",
      " |    |-- element: struct (containsNull = true)\n",
      " |    |    |-- id: integer (nullable = true)\n",
      " |    |    |-- confidence_level: double (nullable = true)\n",
      " |-- entities: array (nullable = true)\n",
      " |    |-- element: struct (containsNull = true)\n",
      " |    |    |-- id: double (nullable = false)\n",
      " |    |    |-- confidence_level: double (nullable = true)\n",
      "\n"
     ]
    }
   ],
   "source": [
    "docs = documents_meta.join(documents_categories_n, on = \"document_id\", how = \"full\")\n",
    "docs = docs.join(documents_topics_n, on = \"document_id\", how = \"full\")\n",
    "docs = docs.join(documents_entities_n, on = \"document_id\", how = \"full\")\n",
    "docs.persist(StorageLevel.DISK_ONLY).count()\n",
    "docs.printSchema()"
   ]
  },
  {
   "cell_type": "code",
   "execution_count": 93,
   "metadata": {},
   "outputs": [
    {
     "data": {
      "text/html": [
       "<div>\n",
       "<style scoped>\n",
       "    .dataframe tbody tr th:only-of-type {\n",
       "        vertical-align: middle;\n",
       "    }\n",
       "\n",
       "    .dataframe tbody tr th {\n",
       "        vertical-align: top;\n",
       "    }\n",
       "\n",
       "    .dataframe thead th {\n",
       "        text-align: right;\n",
       "    }\n",
       "</style>\n",
       "<table border=\"1\" class=\"dataframe\">\n",
       "  <thead>\n",
       "    <tr style=\"text-align: right;\">\n",
       "      <th></th>\n",
       "      <th>document_id</th>\n",
       "      <th>source_id</th>\n",
       "      <th>publisher_id</th>\n",
       "      <th>publish_time</th>\n",
       "      <th>categories</th>\n",
       "      <th>topics</th>\n",
       "      <th>entities</th>\n",
       "    </tr>\n",
       "  </thead>\n",
       "  <tbody>\n",
       "    <tr>\n",
       "      <th>0</th>\n",
       "      <td>12</td>\n",
       "      <td>650</td>\n",
       "      <td>680</td>\n",
       "      <td>2007-05-31 18:00:00</td>\n",
       "      <td>[(0.0, 0.024439128), (15.0, 0.321199968)]</td>\n",
       "      <td>[(108, 0.00946375424175878), (35, 0.0125694956...</td>\n",
       "      <td>[(410534.0, 0.796887026745963)]</td>\n",
       "    </tr>\n",
       "    <tr>\n",
       "      <th>1</th>\n",
       "      <td>18</td>\n",
       "      <td>2186</td>\n",
       "      <td>184</td>\n",
       "      <td>2007-06-22 08:00:00</td>\n",
       "      <td>[(12.0, 0.92), (30.0, 0.07)]</td>\n",
       "      <td>[(244, 0.133812476391282), (75, 0.042843200875...</td>\n",
       "      <td>[(1195873.0, 0.241360234287563)]</td>\n",
       "    </tr>\n",
       "    <tr>\n",
       "      <th>2</th>\n",
       "      <td>38</td>\n",
       "      <td>2186</td>\n",
       "      <td>184</td>\n",
       "      <td>2007-09-12 08:00:00</td>\n",
       "      <td>[(51.0, 0.92), (32.0, 0.07)]</td>\n",
       "      <td>[(147, 0.0111970150666592), (283, 0.0285988254...</td>\n",
       "      <td>[(766680.0, 0.321454645669068), (109171.0, 0.2...</td>\n",
       "    </tr>\n",
       "    <tr>\n",
       "      <th>3</th>\n",
       "      <td>70</td>\n",
       "      <td>2186</td>\n",
       "      <td>184</td>\n",
       "      <td>2007-10-11 00:00:00</td>\n",
       "      <td>[(32.0, 0.07), (51.0, 0.92)]</td>\n",
       "      <td>[(64, 0.0184155045959176), (244, 0.05646911220...</td>\n",
       "      <td>None</td>\n",
       "    </tr>\n",
       "    <tr>\n",
       "      <th>4</th>\n",
       "      <td>93</td>\n",
       "      <td>2186</td>\n",
       "      <td>184</td>\n",
       "      <td>2006-07-04 00:00:00</td>\n",
       "      <td>[(14.0, 0.645087164), (32.0, 0.049082719)]</td>\n",
       "      <td>[(247, 0.0385121909471879), (196, 0.0400245756...</td>\n",
       "      <td>[(153060.0, 0.938539922562667), (73158.0, 0.31...</td>\n",
       "    </tr>\n",
       "  </tbody>\n",
       "</table>\n",
       "</div>"
      ],
      "text/plain": [
       "   document_id  source_id  publisher_id        publish_time  \\\n",
       "0           12        650           680 2007-05-31 18:00:00   \n",
       "1           18       2186           184 2007-06-22 08:00:00   \n",
       "2           38       2186           184 2007-09-12 08:00:00   \n",
       "3           70       2186           184 2007-10-11 00:00:00   \n",
       "4           93       2186           184 2006-07-04 00:00:00   \n",
       "\n",
       "                                   categories  \\\n",
       "0   [(0.0, 0.024439128), (15.0, 0.321199968)]   \n",
       "1                [(12.0, 0.92), (30.0, 0.07)]   \n",
       "2                [(51.0, 0.92), (32.0, 0.07)]   \n",
       "3                [(32.0, 0.07), (51.0, 0.92)]   \n",
       "4  [(14.0, 0.645087164), (32.0, 0.049082719)]   \n",
       "\n",
       "                                              topics  \\\n",
       "0  [(108, 0.00946375424175878), (35, 0.0125694956...   \n",
       "1  [(244, 0.133812476391282), (75, 0.042843200875...   \n",
       "2  [(147, 0.0111970150666592), (283, 0.0285988254...   \n",
       "3  [(64, 0.0184155045959176), (244, 0.05646911220...   \n",
       "4  [(247, 0.0385121909471879), (196, 0.0400245756...   \n",
       "\n",
       "                                            entities  \n",
       "0                    [(410534.0, 0.796887026745963)]  \n",
       "1                   [(1195873.0, 0.241360234287563)]  \n",
       "2  [(766680.0, 0.321454645669068), (109171.0, 0.2...  \n",
       "3                                               None  \n",
       "4  [(153060.0, 0.938539922562667), (73158.0, 0.31...  "
      ]
     },
     "execution_count": 93,
     "metadata": {},
     "output_type": "execute_result"
    }
   ],
   "source": [
    "%show docs"
   ]
  },
  {
   "cell_type": "markdown",
   "metadata": {},
   "source": [
    "Find count of null values of each type of information - meta, category, entity and topic."
   ]
  },
  {
   "cell_type": "code",
   "execution_count": 94,
   "metadata": {},
   "outputs": [
    {
     "data": {
      "text/plain": [
       "Row(null_topics=503911, null_categories=170685, null_entities=1207914, null_meta=64024)"
      ]
     },
     "execution_count": 94,
     "metadata": {},
     "output_type": "execute_result"
    }
   ],
   "source": [
    "docs.selectExpr(\"sum(if(isnull(topics), 1, 0)) null_topics\"\n",
    "              , \"sum(if(isnull(categories), 1, 0)) null_categories\"\n",
    "              , \"sum(if(isnull(entities), 1, 0)) null_entities\"\n",
    "              , \"sum(if(isnull(publisher_id), 1, 0)) null_meta\").first()"
   ]
  },
  {
   "cell_type": "markdown",
   "metadata": {},
   "source": [
    "### Vectorize and caculate weighted IDF scores"
   ]
  },
  {
   "cell_type": "markdown",
   "metadata": {},
   "source": [
    "How many document topics are there?"
   ]
  },
  {
   "cell_type": "code",
   "execution_count": 95,
   "metadata": {},
   "outputs": [
    {
     "data": {
      "text/plain": [
       "300"
      ]
     },
     "execution_count": 95,
     "metadata": {},
     "output_type": "execute_result"
    }
   ],
   "source": [
    "docs.select(F.explode(\"topics\")).select(\"col.id\").distinct().count()"
   ]
  },
  {
   "cell_type": "markdown",
   "metadata": {},
   "source": [
    "How many document categories are there?"
   ]
  },
  {
   "cell_type": "code",
   "execution_count": 96,
   "metadata": {},
   "outputs": [
    {
     "data": {
      "text/plain": [
       "97"
      ]
     },
     "execution_count": 96,
     "metadata": {},
     "output_type": "execute_result"
    }
   ],
   "source": [
    "docs.select(F.explode(\"categories\")).select(\"col.id\").distinct().count()"
   ]
  },
  {
   "cell_type": "markdown",
   "metadata": {},
   "source": [
    "How many document entities are there?"
   ]
  },
  {
   "cell_type": "code",
   "execution_count": 97,
   "metadata": {},
   "outputs": [
    {
     "data": {
      "text/plain": [
       "1326009"
      ]
     },
     "execution_count": 97,
     "metadata": {},
     "output_type": "execute_result"
    }
   ],
   "source": [
    "docs.select(F.explode(\"entities\")).select(\"col.id\").distinct().count()"
   ]
  },
  {
   "cell_type": "code",
   "execution_count": 98,
   "metadata": {
    "scrolled": false
   },
   "outputs": [
    {
     "name": "stdout",
     "output_type": "stream",
     "text": [
      "root\n",
      " |-- document_id: integer (nullable = true)\n",
      " |-- source_id: integer (nullable = true)\n",
      " |-- publisher_id: integer (nullable = true)\n",
      " |-- publish_time: timestamp (nullable = true)\n",
      " |-- categories: array (nullable = true)\n",
      " |    |-- element: struct (containsNull = true)\n",
      " |    |    |-- id: double (nullable = false)\n",
      " |    |    |-- confidence_level: double (nullable = true)\n",
      " |-- topics: array (nullable = true)\n",
      " |    |-- element: struct (containsNull = true)\n",
      " |    |    |-- id: integer (nullable = true)\n",
      " |    |    |-- confidence_level: double (nullable = true)\n",
      " |-- entities: array (nullable = true)\n",
      " |    |-- element: struct (containsNull = true)\n",
      " |    |    |-- id: double (nullable = false)\n",
      " |    |    |-- confidence_level: double (nullable = true)\n",
      " |-- topics_vector: vector (nullable = true)\n",
      " |-- categories_vector: vector (nullable = true)\n",
      "\n"
     ]
    },
    {
     "data": {
      "text/plain": [
       "2999334"
      ]
     },
     "execution_count": 98,
     "metadata": {},
     "output_type": "execute_result"
    }
   ],
   "source": [
    "from pyspark.ml.linalg import SparseVector, VectorUDT\n",
    "\n",
    "def to_vector(values, n):\n",
    "    if values is not None:\n",
    "        values = sorted(values, key=lambda v: v.id)\n",
    "        indices = [v.id for v in values]\n",
    "        values = [v.confidence_level for v in values]\n",
    "        return SparseVector(n, indices, values)\n",
    "    return SparseVector(n, [], [])\n",
    "\n",
    "spark.udf.register(\"to_vector\", to_vector, VectorUDT())\n",
    "\n",
    "docs_vectorized = docs\\\n",
    ".withColumn(\"topics_vector\", F.expr(\"to_vector(topics, 300)\"))\\\n",
    ".withColumn(\"categories_vector\", F.expr(\"to_vector(categories, 97)\"))\n",
    "#.withColumn(\"entities_vector\", F.expr(\"to_vector(entities, 1326009)\"))\n",
    "\n",
    "docs_vectorized.printSchema()\n",
    "docs_vectorized.cache().count()"
   ]
  },
  {
   "cell_type": "code",
   "execution_count": 99,
   "metadata": {},
   "outputs": [
    {
     "data": {
      "text/plain": [
       "Row(topics_vector=SparseVector(300, {35: 0.0126, 108: 0.0095}))"
      ]
     },
     "execution_count": 99,
     "metadata": {},
     "output_type": "execute_result"
    }
   ],
   "source": [
    "docs_vectorized.select(\"topics_vector\").first()"
   ]
  },
  {
   "cell_type": "code",
   "execution_count": 100,
   "metadata": {},
   "outputs": [
    {
     "data": {
      "text/plain": [
       "2999334"
      ]
     },
     "execution_count": 100,
     "metadata": {},
     "output_type": "execute_result"
    }
   ],
   "source": [
    "docs_vectorized.select(\"categories_vector\").count()"
   ]
  },
  {
   "cell_type": "code",
   "execution_count": 101,
   "metadata": {
    "scrolled": false
   },
   "outputs": [
    {
     "name": "stdout",
     "output_type": "stream",
     "text": [
      "root\n",
      " |-- document_id: integer (nullable = true)\n",
      " |-- source_id: integer (nullable = true)\n",
      " |-- publisher_id: integer (nullable = true)\n",
      " |-- publish_time: timestamp (nullable = true)\n",
      " |-- categories: array (nullable = true)\n",
      " |    |-- element: struct (containsNull = true)\n",
      " |    |    |-- id: double (nullable = false)\n",
      " |    |    |-- confidence_level: double (nullable = true)\n",
      " |-- topics: array (nullable = true)\n",
      " |    |-- element: struct (containsNull = true)\n",
      " |    |    |-- id: integer (nullable = true)\n",
      " |    |    |-- confidence_level: double (nullable = true)\n",
      " |-- entities: array (nullable = true)\n",
      " |    |-- element: struct (containsNull = true)\n",
      " |    |    |-- id: double (nullable = false)\n",
      " |    |    |-- confidence_level: double (nullable = true)\n",
      " |-- topics_vector: vector (nullable = true)\n",
      " |-- categories_vector: vector (nullable = true)\n",
      " |-- topics_idf: vector (nullable = true)\n",
      " |-- categories_idf: vector (nullable = true)\n",
      "\n"
     ]
    }
   ],
   "source": [
    "from pyspark.ml.feature import IDF, Tokenizer\n",
    "\n",
    "if \"topics_idf\" in docs.columns:\n",
    "    docs = docs.drop(\"topics_idf\")\n",
    "if \"entities_idf\" in docs.columns:\n",
    "    docs = docs.drop(\"entities_idf\")\n",
    "if \"categories_idf\" in docs.columns:\n",
    "    docs = docs.drop(\"categories_idf\")\n",
    "\n",
    "topics_idf = IDF(inputCol=\"topics_vector\", outputCol=\"topics_idf\")\n",
    "entities_idf = IDF(inputCol=\"entities_vector\", outputCol=\"entities_idf\")\n",
    "categories_idf = IDF(inputCol=\"categories_vector\", outputCol=\"categories_idf\")\n",
    "\n",
    "df1 = docs_vectorized\n",
    "df2 = topics_idf.fit(df1).transform(df1).cache()\n",
    "df3 = categories_idf.fit(df2).transform(df2).cache()\n",
    "#df4 = entities_idf.fit(df3).transform(df3).cache()\n",
    "\n",
    "docs_idf = df3\n",
    "docs_idf.printSchema()"
   ]
  },
  {
   "cell_type": "code",
   "execution_count": 102,
   "metadata": {},
   "outputs": [
    {
     "data": {
      "text/plain": [
       "Row(document_id=12, topics_idf=SparseVector(300, {35: 0.0448, 108: 0.0402}), categories_idf=SparseVector(97, {0: 0.0405, 15: 1.1088}))"
      ]
     },
     "execution_count": 102,
     "metadata": {},
     "output_type": "execute_result"
    }
   ],
   "source": [
    "docs_idf.select(\"document_id\", \"topics_idf\", \"categories_idf\").first()"
   ]
  },
  {
   "cell_type": "markdown",
   "metadata": {},
   "source": [
    "# Feature Generation"
   ]
  },
  {
   "cell_type": "markdown",
   "metadata": {},
   "source": [
    "### User profile\n",
    "\n",
    "| Column  |  Description |\n",
    "|---|---|\n",
    "|user_has_already_viewed_doc|  For each content recommended to the user, verify whether the user had previously visited that pages.  \n",
    "|user_views_count | Do eager readers behave differently from other users? Let’s add this feature and let machine learning models guess that.\n",
    "|user_views_categories, user_views_topics, user_views_entities | User profile vectors based on categories, topics and entities of documents that users have previously viewed (weighted by confidence and TF-IDF), to model users preferences in a Content-Based Filtering approach\n",
    "|user_avg_views_of_distinct_docs | Ratio between (#user_distinct_docs_views / #user_views), indicating how often users read previously visited pages again. \n"
   ]
  },
  {
   "cell_type": "code",
   "execution_count": 103,
   "metadata": {
    "scrolled": false
   },
   "outputs": [
    {
     "data": {
      "text/html": [
       "<div>\n",
       "<style scoped>\n",
       "    .dataframe tbody tr th:only-of-type {\n",
       "        vertical-align: middle;\n",
       "    }\n",
       "\n",
       "    .dataframe tbody tr th {\n",
       "        vertical-align: top;\n",
       "    }\n",
       "\n",
       "    .dataframe thead th {\n",
       "        text-align: right;\n",
       "    }\n",
       "</style>\n",
       "<table border=\"1\" class=\"dataframe\">\n",
       "  <thead>\n",
       "    <tr style=\"text-align: right;\">\n",
       "      <th></th>\n",
       "      <th>uuid</th>\n",
       "      <th>document_id</th>\n",
       "      <th>timestamp</th>\n",
       "      <th>user_has_already_viewed_doc</th>\n",
       "    </tr>\n",
       "  </thead>\n",
       "  <tbody>\n",
       "  </tbody>\n",
       "</table>\n",
       "</div>"
      ],
      "text/plain": [
       "Empty DataFrame\n",
       "Columns: [uuid, document_id, timestamp, user_has_already_viewed_doc]\n",
       "Index: []"
      ]
     },
     "execution_count": 103,
     "metadata": {},
     "output_type": "execute_result"
    }
   ],
   "source": [
    "user_has_already_viewed_doc = (page_views\n",
    ".withColumn(\"user_has_already_viewed_doc\"\n",
    "            , F.expr(\"((ROW_NUMBER() OVER (PARTITION BY uuid, document_id ORDER BY timestamp))) > 1\"))\n",
    ".select(\"uuid\", \"document_id\", \"timestamp\", \"user_has_already_viewed_doc\")\n",
    "             )\n",
    "%show user_has_already_viewed_doc.filter(\"uuid = '6c4a7527da27d7' and document_id = 38922\")"
   ]
  },
  {
   "cell_type": "code",
   "execution_count": 104,
   "metadata": {},
   "outputs": [
    {
     "data": {
      "text/html": [
       "<div>\n",
       "<style scoped>\n",
       "    .dataframe tbody tr th:only-of-type {\n",
       "        vertical-align: middle;\n",
       "    }\n",
       "\n",
       "    .dataframe tbody tr th {\n",
       "        vertical-align: top;\n",
       "    }\n",
       "\n",
       "    .dataframe thead th {\n",
       "        text-align: right;\n",
       "    }\n",
       "</style>\n",
       "<table border=\"1\" class=\"dataframe\">\n",
       "  <thead>\n",
       "    <tr style=\"text-align: right;\">\n",
       "      <th></th>\n",
       "      <th>uuid</th>\n",
       "      <th>timestamp</th>\n",
       "      <th>user_views_count</th>\n",
       "    </tr>\n",
       "  </thead>\n",
       "  <tbody>\n",
       "  </tbody>\n",
       "</table>\n",
       "</div>"
      ],
      "text/plain": [
       "Empty DataFrame\n",
       "Columns: [uuid, timestamp, user_views_count]\n",
       "Index: []"
      ]
     },
     "execution_count": 104,
     "metadata": {},
     "output_type": "execute_result"
    }
   ],
   "source": [
    "user_views_count = (page_views\n",
    "    .withColumn(\"user_views_count\", \n",
    "        F.expr(\"COUNT(1) OVER (PARTITION BY uuid ORDER BY timestamp ROWS BETWEEN UNBOUNDED PRECEDING AND -1 FOLLOWING)\"))\n",
    "    .select(\"uuid\", \"timestamp\", \"user_views_count\"))\n",
    "\n",
    "%show user_views_count.filter(\"uuid = '6c4a7527da27d7' and document_id = 38922\")"
   ]
  },
  {
   "cell_type": "code",
   "execution_count": 105,
   "metadata": {
    "scrolled": false
   },
   "outputs": [],
   "source": [
    "#page_views = page_views.withColumn(\"user_avg_views_of_distinct_docs\", F.expr(\"COUNT(distinct document_id) \" + \n",
    "#                \"OVER (PARTITION BY uuid ORDER BY timestamp ROWS BETWEEN UNBOUNDED PRECEDING AND -1 FOLLOWING)\"))\n",
    "#\n",
    "#%show page_views.filter(\"uuid = '6c4a7527da27d7' and document_id = 38922\")"
   ]
  },
  {
   "cell_type": "markdown",
   "metadata": {},
   "source": [
    "### Ads and Documents\n",
    "| Column  |  Description |\n",
    "|---|---|\n",
    "|doc_ad_days_since_published, doc_event_days_since_published | Days elapsed since the ad document was published in a given user visit. The general assumption is that new content is more relevant to users. But if you are reading an old post, you might be interested in other old posts.\n",
    "|doc_avg_views_by_distinct_users_cf | Average page views of the ad document by distinct users. Is this a webpage people usually return to?\n",
    "|ad_views_count, doc_views_count|How popular is a document or ad?"
   ]
  },
  {
   "cell_type": "code",
   "execution_count": 106,
   "metadata": {
    "scrolled": false
   },
   "outputs": [
    {
     "name": "stdout",
     "output_type": "stream",
     "text": [
      "+----------+-----------+-------------------+-------------------+----+\n",
      "|display_id|document_id|          timestamp|       publish_time| age|\n",
      "+----------+-----------+-------------------+-------------------+----+\n",
      "|    152993|         12|2016-06-14 13:49:33|2007-05-31 18:00:00|3302|\n",
      "|    339733|         12|2016-06-14 18:03:45|2007-05-31 18:00:00|3302|\n",
      "|    368123|         12|2016-06-14 18:27:56|2007-05-31 18:00:00|3302|\n",
      "|    498757|         12|2016-06-14 20:12:53|2007-05-31 18:00:00|3302|\n",
      "|    532289|         12|2016-06-14 20:40:28|2007-05-31 18:00:00|3302|\n",
      "|    621186|         12|2016-06-14 21:51:17|2007-05-31 18:00:00|3302|\n",
      "|    690370|         12|2016-06-14 22:43:50|2007-05-31 18:00:00|3302|\n",
      "|    824952|         12|2016-06-15 00:22:16|2007-05-31 18:00:00|3303|\n",
      "|    835514|         12|2016-06-15 00:30:08|2007-05-31 18:00:00|3303|\n",
      "|    921140|         12|2016-06-15 01:34:24|2007-05-31 18:00:00|3303|\n",
      "|    939891|         12|2016-06-15 01:48:40|2007-05-31 18:00:00|3303|\n",
      "|    999400|         12|2016-06-15 02:33:34|2007-05-31 18:00:00|3303|\n",
      "|   1004350|         12|2016-06-15 02:37:30|2007-05-31 18:00:00|3303|\n",
      "|   1032310|         12|2016-06-15 02:59:47|2007-05-31 18:00:00|3303|\n",
      "|   1036260|         12|2016-06-15 03:03:03|2007-05-31 18:00:00|3303|\n",
      "|   1051266|         12|2016-06-15 03:15:14|2007-05-31 18:00:00|3303|\n",
      "|   1175371|         12|2016-06-15 05:08:16|2007-05-31 18:00:00|3303|\n",
      "|   1185129|         12|2016-06-15 05:17:43|2007-05-31 18:00:00|3303|\n",
      "|   1241190|         12|2016-06-15 06:12:39|2007-05-31 18:00:00|3303|\n",
      "|   1333437|         12|2016-06-15 07:39:53|2007-05-31 18:00:00|3303|\n",
      "+----------+-----------+-------------------+-------------------+----+\n",
      "only showing top 20 rows\n",
      "\n"
     ]
    }
   ],
   "source": [
    "doc_event_days_since_published = (events\n",
    "    .join(documents_meta, on = \"document_id\")\n",
    "    .selectExpr(\"display_id\"\n",
    "                , \"document_id\"\n",
    "                , \"timestamp\"\n",
    "                , \"publish_time\"\n",
    "                , \"datediff(timestamp, publish_time) age\")\n",
    ")\n",
    "\n",
    "doc_event_days_since_published.show()"
   ]
  },
  {
   "cell_type": "code",
   "execution_count": 107,
   "metadata": {},
   "outputs": [
    {
     "name": "stdout",
     "output_type": "stream",
     "text": [
      "+-----------+------------------------------+\n",
      "|document_id|page_view_count_by_document_id|\n",
      "+-----------+------------------------------+\n",
      "|     654221|             3.258096538021482|\n",
      "|     661199|            2.0794415416798357|\n",
      "|     668458|             2.302585092994046|\n",
      "|     681321|            4.3694478524670215|\n",
      "|     697234|            2.3978952727983707|\n",
      "|     708354|            1.0986122886681098|\n",
      "|     715881|            1.0986122886681098|\n",
      "|     718954|             1.791759469228055|\n",
      "|     736505|             2.302585092994046|\n",
      "|     741481|             4.762173934797756|\n",
      "|     751011|            5.3706380281276624|\n",
      "|     765844|            2.1972245773362196|\n",
      "|     773914|             2.833213344056216|\n",
      "|     777173|             2.772588722239781|\n",
      "|     785600|              4.23410650459726|\n",
      "|     791242|             2.995732273553991|\n",
      "|     792002|            3.6375861597263857|\n",
      "|     793177|             3.332204510175204|\n",
      "|     796066|             4.709530201312334|\n",
      "|     796365|            1.0986122886681098|\n",
      "+-----------+------------------------------+\n",
      "only showing top 20 rows\n",
      "\n"
     ]
    }
   ],
   "source": [
    "page_view_count_by_document_id = page_views.groupBy(\"document_id\")\\\n",
    ".count().withColumn(\"page_view_count_by_document_id\", F.expr(\"log(count)\"))\\\n",
    ".select(\"document_id\", \"page_view_count_by_document_id\")\n",
    "\n",
    "page_view_count_by_document_id.show()"
   ]
  },
  {
   "cell_type": "code",
   "execution_count": 108,
   "metadata": {},
   "outputs": [
    {
     "name": "stdout",
     "output_type": "stream",
     "text": [
      "+--------------+-----------------------+\n",
      "|          uuid|page_view_count_by_uuid|\n",
      "+--------------+-----------------------+\n",
      "|6ec2f1df169162|                    0.0|\n",
      "|682ff7de2c98c2|                    0.0|\n",
      "|bc12ea5e483fc0|                    0.0|\n",
      "|df0e90379a76d6|                    0.0|\n",
      "|3286c54a862512|     0.6931471805599453|\n",
      "|fa69933c24d064|                    0.0|\n",
      "|329a791d36dedb|                    0.0|\n",
      "|3cd95a6e6271a6|                    0.0|\n",
      "|ab642647e0361a|                    0.0|\n",
      "|7f6657ac2a45c1|                    0.0|\n",
      "|5c61bf0cedf30f|                    0.0|\n",
      "|c9b5daf2b577d0|                    0.0|\n",
      "|e870b628cf651b|                    0.0|\n",
      "|6be4e8057c3c71|                    0.0|\n",
      "|a4d1897a905a05|                    0.0|\n",
      "|27e48f2ec0626a|                    0.0|\n",
      "|6f3a61ca09e99a|                    0.0|\n",
      "|b5789a234c82a2|     0.6931471805599453|\n",
      "|5131b2d9a6c741|                    0.0|\n",
      "|d77ffd5f6727a9|                    0.0|\n",
      "+--------------+-----------------------+\n",
      "only showing top 20 rows\n",
      "\n"
     ]
    }
   ],
   "source": [
    "page_view_count_by_uuid = (page_views\n",
    ".groupBy(\"uuid\")\n",
    ".count()\n",
    ".withColumn(\"page_view_count_by_uuid\", F.expr(\"log(count)\"))\n",
    ".select(\"uuid\", \"page_view_count_by_uuid\"))\n",
    "\n",
    "page_view_count_by_uuid.show()"
   ]
  },
  {
   "cell_type": "markdown",
   "metadata": {},
   "source": [
    "### Events\n",
    "\n",
    "| Column  |  Description |\n",
    "|---|---|\n",
    "|event_local_hour (binned), event_weekend | Event timestamps were in UTC-4, so I processed event geolocation to get timezones and adjust for users' local time. They were binned in periods like morning, afternoon, midday, evening, night. A flag indicating whether it was a weekend was also included. The assumption here is that time influences the kind of content users will read.\n",
    "|event_country, event_country_state | The field event_geolocation was parsed to extract the user’s country and state in a page visit.\n",
    "|ad_id, doc_event_id, doc_ad_id, ad_advertiser, … | All of the original categorical fields were One-Hot Encoded to be used by the models, generating about 126,000 features."
   ]
  },
  {
   "cell_type": "code",
   "execution_count": 109,
   "metadata": {},
   "outputs": [
    {
     "name": "stdout",
     "output_type": "stream",
     "text": [
      "+--------------+------------+-------+-----+\n",
      "|          uuid|geo_location|country|state|\n",
      "+--------------+------------+-------+-----+\n",
      "|cb8c55702adb93|   US>SC>519|     US|   SC|\n",
      "|79a85fa78311b9|   US>CA>807|     US|   CA|\n",
      "|822932ce3d8757|   US>MI>505|     US|   MI|\n",
      "|85281d0a49f7ac|   US>WV>564|     US|   WV|\n",
      "|8d0daef4bf5b56|       SG>00|     SG|   00|\n",
      "|7765b4faae4ad4|   US>OH>510|     US|   OH|\n",
      "|2cc3f6457d16da|   US>MT>762|     US|   MT|\n",
      "|166fc654d73c98|   US>PA>566|     US|   PA|\n",
      "|9dddccf70f6067|   US>FL>528|     US|   FL|\n",
      "|b09a0e92aa4d17|          US|     US| null|\n",
      "|602e210c5831e5|   US>IL>675|     US|   IL|\n",
      "|6fa993bd0e0157|   US>TX>612|     US|   TX|\n",
      "|7355615832b3af|   US>AZ>753|     US|   AZ|\n",
      "|daef797fc210a2|   US>NC>560|     US|   NC|\n",
      "|24c64dc30891c0|          GB|     GB| null|\n",
      "|30c0ad12b36375|   US>FL>561|     US|   FL|\n",
      "|c80c06d718ba65|   US>MI>540|     US|   MI|\n",
      "|eb58e66b4f6bb0|   US>OR>820|     US|   OR|\n",
      "|c419799a427c72|   US>HI>744|     US|   HI|\n",
      "|650e3b5699738b|   US>MI>505|     US|   MI|\n",
      "+--------------+------------+-------+-----+\n",
      "only showing top 20 rows\n",
      "\n"
     ]
    }
   ],
   "source": [
    "events.selectExpr(\"uuid\", \"geo_location\"\n",
    "                  , \"split(geo_location, '>')[0] country\"\n",
    "                  , \"split(geo_location, '>')[1] state\"\n",
    "                 ).show()"
   ]
  },
  {
   "cell_type": "code",
   "execution_count": 110,
   "metadata": {},
   "outputs": [
    {
     "data": {
      "text/html": [
       "<div>\n",
       "<style scoped>\n",
       "    .dataframe tbody tr th:only-of-type {\n",
       "        vertical-align: middle;\n",
       "    }\n",
       "\n",
       "    .dataframe tbody tr th {\n",
       "        vertical-align: top;\n",
       "    }\n",
       "\n",
       "    .dataframe thead th {\n",
       "        text-align: right;\n",
       "    }\n",
       "</style>\n",
       "<table border=\"1\" class=\"dataframe\">\n",
       "  <thead>\n",
       "    <tr style=\"text-align: right;\">\n",
       "      <th></th>\n",
       "      <th>country</th>\n",
       "    </tr>\n",
       "  </thead>\n",
       "  <tbody>\n",
       "    <tr>\n",
       "      <th>0</th>\n",
       "      <td>DZ</td>\n",
       "    </tr>\n",
       "    <tr>\n",
       "      <th>1</th>\n",
       "      <td>BB</td>\n",
       "    </tr>\n",
       "    <tr>\n",
       "      <th>2</th>\n",
       "      <td>CA</td>\n",
       "    </tr>\n",
       "    <tr>\n",
       "      <th>3</th>\n",
       "      <td>PH</td>\n",
       "    </tr>\n",
       "    <tr>\n",
       "      <th>4</th>\n",
       "      <td>MX</td>\n",
       "    </tr>\n",
       "    <tr>\n",
       "      <th>...</th>\n",
       "      <td>...</td>\n",
       "    </tr>\n",
       "    <tr>\n",
       "      <th>226</th>\n",
       "      <td>SE</td>\n",
       "    </tr>\n",
       "    <tr>\n",
       "      <th>227</th>\n",
       "      <td>PE</td>\n",
       "    </tr>\n",
       "    <tr>\n",
       "      <th>228</th>\n",
       "      <td>MK</td>\n",
       "    </tr>\n",
       "    <tr>\n",
       "      <th>229</th>\n",
       "      <td>MA</td>\n",
       "    </tr>\n",
       "    <tr>\n",
       "      <th>230</th>\n",
       "      <td>SN</td>\n",
       "    </tr>\n",
       "  </tbody>\n",
       "</table>\n",
       "<p>231 rows × 1 columns</p>\n",
       "</div>"
      ],
      "text/plain": [
       "    country\n",
       "0        DZ\n",
       "1        BB\n",
       "2        CA\n",
       "3        PH\n",
       "4        MX\n",
       "..      ...\n",
       "226      SE\n",
       "227      PE\n",
       "228      MK\n",
       "229      MA\n",
       "230      SN\n",
       "\n",
       "[231 rows x 1 columns]"
      ]
     },
     "execution_count": 110,
     "metadata": {},
     "output_type": "execute_result"
    }
   ],
   "source": [
    "events.selectExpr(\"split(geo_location, '>')[0] country\").distinct().toPandas()"
   ]
  },
  {
   "cell_type": "code",
   "execution_count": 111,
   "metadata": {},
   "outputs": [
    {
     "name": "stdout",
     "output_type": "stream",
     "text": [
      "+----------+-------------------+----+-----------+\n",
      "|display_id|          timestamp|hour|day_session|\n",
      "+----------+-------------------+----+-----------+\n",
      "|         1|2016-06-14 09:30:00|   9|          1|\n",
      "|         2|2016-06-14 09:30:00|   9|          1|\n",
      "|         3|2016-06-14 09:30:00|   9|          1|\n",
      "|         4|2016-06-14 09:30:00|   9|          1|\n",
      "|         5|2016-06-14 09:30:00|   9|          1|\n",
      "|         6|2016-06-14 09:30:00|   9|          1|\n",
      "|         7|2016-06-14 09:30:00|   9|          1|\n",
      "|         8|2016-06-14 09:30:00|   9|          1|\n",
      "|         9|2016-06-14 09:30:00|   9|          1|\n",
      "|        10|2016-06-14 09:30:00|   9|          1|\n",
      "|        11|2016-06-14 09:30:00|   9|          1|\n",
      "|        12|2016-06-14 09:30:00|   9|          1|\n",
      "|        13|2016-06-14 09:30:00|   9|          1|\n",
      "|        14|2016-06-14 09:30:00|   9|          1|\n",
      "|        15|2016-06-14 09:30:00|   9|          1|\n",
      "|        16|2016-06-14 09:30:01|   9|          1|\n",
      "|        17|2016-06-14 09:30:01|   9|          1|\n",
      "|        18|2016-06-14 09:30:01|   9|          1|\n",
      "|        19|2016-06-14 09:30:01|   9|          1|\n",
      "|        20|2016-06-14 09:30:01|   9|          1|\n",
      "+----------+-------------------+----+-----------+\n",
      "only showing top 20 rows\n",
      "\n"
     ]
    }
   ],
   "source": [
    "(events\n",
    " .selectExpr(\"display_id\", \"timestamp\", \"hour(timestamp) hour\")\n",
    " .withColumn(\"day_session\", F.expr(\"hour % 8\"))).show()"
   ]
  },
  {
   "cell_type": "markdown",
   "metadata": {},
   "source": [
    "Top countries by ad clicks"
   ]
  },
  {
   "cell_type": "code",
   "execution_count": 112,
   "metadata": {},
   "outputs": [
    {
     "name": "stdout",
     "output_type": "stream",
     "text": [
      "+-------+--------+\n",
      "|country|   count|\n",
      "+-------+--------+\n",
      "|     US|18595452|\n",
      "|     CA| 1215350|\n",
      "|     GB| 1117544|\n",
      "|     AU|  483021|\n",
      "|     IN|  228461|\n",
      "|     ZA|  111523|\n",
      "|     NZ|  109802|\n",
      "|     PH|   85338|\n",
      "|     DE|   82384|\n",
      "|     SG|   81975|\n",
      "|     MY|   53398|\n",
      "|     NL|   51209|\n",
      "|     NG|   41946|\n",
      "|     IE|   39505|\n",
      "|     SE|   38931|\n",
      "|     FR|   38755|\n",
      "|     MX|   35044|\n",
      "|     IT|   28727|\n",
      "|     KE|   26607|\n",
      "|     JP|   25955|\n",
      "+-------+--------+\n",
      "only showing top 20 rows\n",
      "\n"
     ]
    }
   ],
   "source": [
    "events.selectExpr(\"split(geo_location, '>')[0] country\")\\\n",
    ".groupBy(\"country\").count().orderBy(F.desc(\"count\")).show()"
   ]
  },
  {
   "cell_type": "markdown",
   "metadata": {},
   "source": [
    "### Average CTR\n",
    "\n",
    "| Column  |  Description |\n",
    "|---|---|\n",
    "|avg_ctr_ad_id, avg_ctr_publisher_id, avg_ctr_advertiser_id, avg_ctr_campain_id, avg_ctr_entity_id_country … | Average CTR (#clicks / #views) given some categorical combinations and CTR confidence (details on Part II post). Eg. P(click  category01, category02)."
   ]
  },
  {
   "cell_type": "code",
   "execution_count": 113,
   "metadata": {},
   "outputs": [
    {
     "data": {
      "text/plain": [
       "DataFrame[ad_id: int, document_id: int, campaign_id: int, advertiser_id: int]"
      ]
     },
     "execution_count": 113,
     "metadata": {},
     "output_type": "execute_result"
    }
   ],
   "source": [
    "events.cache()\n",
    "clicks_train.cache()\n",
    "documents_meta.cache()\n",
    "promoted_contents.cache()"
   ]
  },
  {
   "cell_type": "code",
   "execution_count": 114,
   "metadata": {},
   "outputs": [
    {
     "data": {
      "text/html": [
       "<div>\n",
       "<style scoped>\n",
       "    .dataframe tbody tr th:only-of-type {\n",
       "        vertical-align: middle;\n",
       "    }\n",
       "\n",
       "    .dataframe tbody tr th {\n",
       "        vertical-align: top;\n",
       "    }\n",
       "\n",
       "    .dataframe thead th {\n",
       "        text-align: right;\n",
       "    }\n",
       "</style>\n",
       "<table border=\"1\" class=\"dataframe\">\n",
       "  <thead>\n",
       "    <tr style=\"text-align: right;\">\n",
       "      <th></th>\n",
       "      <th>ad_id</th>\n",
       "      <th>avg_ctr_by_ad_id</th>\n",
       "    </tr>\n",
       "  </thead>\n",
       "  <tbody>\n",
       "    <tr>\n",
       "      <th>0</th>\n",
       "      <td>71547</td>\n",
       "      <td>0.080267</td>\n",
       "    </tr>\n",
       "    <tr>\n",
       "      <th>1</th>\n",
       "      <td>152141</td>\n",
       "      <td>0.163381</td>\n",
       "    </tr>\n",
       "    <tr>\n",
       "      <th>2</th>\n",
       "      <td>35982</td>\n",
       "      <td>0.319444</td>\n",
       "    </tr>\n",
       "    <tr>\n",
       "      <th>3</th>\n",
       "      <td>220315</td>\n",
       "      <td>0.081429</td>\n",
       "    </tr>\n",
       "    <tr>\n",
       "      <th>4</th>\n",
       "      <td>28347</td>\n",
       "      <td>0.219754</td>\n",
       "    </tr>\n",
       "  </tbody>\n",
       "</table>\n",
       "</div>"
      ],
      "text/plain": [
       "    ad_id  avg_ctr_by_ad_id\n",
       "0   71547          0.080267\n",
       "1  152141          0.163381\n",
       "2   35982          0.319444\n",
       "3  220315          0.081429\n",
       "4   28347          0.219754"
      ]
     },
     "execution_count": 114,
     "metadata": {},
     "output_type": "execute_result"
    }
   ],
   "source": [
    "avg_ctrs_by_ad_id = clicks_train.groupBy(\"ad_id\").agg(F.avg(\"clicked\").alias(\"avg_ctr_by_ad_id\"))\n",
    "%show avg_ctrs_by_ad_id"
   ]
  },
  {
   "cell_type": "code",
   "execution_count": 115,
   "metadata": {},
   "outputs": [
    {
     "data": {
      "text/html": [
       "<div>\n",
       "<style scoped>\n",
       "    .dataframe tbody tr th:only-of-type {\n",
       "        vertical-align: middle;\n",
       "    }\n",
       "\n",
       "    .dataframe tbody tr th {\n",
       "        vertical-align: top;\n",
       "    }\n",
       "\n",
       "    .dataframe thead th {\n",
       "        text-align: right;\n",
       "    }\n",
       "</style>\n",
       "<table border=\"1\" class=\"dataframe\">\n",
       "  <thead>\n",
       "    <tr style=\"text-align: right;\">\n",
       "      <th></th>\n",
       "      <th>campaign_id</th>\n",
       "      <th>avg_ctr_by_campaign_id</th>\n",
       "    </tr>\n",
       "  </thead>\n",
       "  <tbody>\n",
       "    <tr>\n",
       "      <th>0</th>\n",
       "      <td>16636</td>\n",
       "      <td>0.258839</td>\n",
       "    </tr>\n",
       "    <tr>\n",
       "      <th>1</th>\n",
       "      <td>22411</td>\n",
       "      <td>0.133272</td>\n",
       "    </tr>\n",
       "    <tr>\n",
       "      <th>2</th>\n",
       "      <td>18034</td>\n",
       "      <td>0.101874</td>\n",
       "    </tr>\n",
       "    <tr>\n",
       "      <th>3</th>\n",
       "      <td>1384</td>\n",
       "      <td>0.315013</td>\n",
       "    </tr>\n",
       "    <tr>\n",
       "      <th>4</th>\n",
       "      <td>25151</td>\n",
       "      <td>0.035303</td>\n",
       "    </tr>\n",
       "  </tbody>\n",
       "</table>\n",
       "</div>"
      ],
      "text/plain": [
       "   campaign_id  avg_ctr_by_campaign_id\n",
       "0        16636                0.258839\n",
       "1        22411                0.133272\n",
       "2        18034                0.101874\n",
       "3         1384                0.315013\n",
       "4        25151                0.035303"
      ]
     },
     "execution_count": 115,
     "metadata": {},
     "output_type": "execute_result"
    }
   ],
   "source": [
    "avg_ctrs_by_campaign_id = (clicks_train\n",
    ".join(promoted_contents, on = \"ad_id\")\n",
    ".groupBy(\"campaign_id\")\n",
    ".agg(F.avg(\"clicked\").alias(\"avg_ctr_by_campaign_id\")))\n",
    "\n",
    "%show avg_ctrs_by_campaign_id"
   ]
  },
  {
   "cell_type": "code",
   "execution_count": 116,
   "metadata": {},
   "outputs": [
    {
     "data": {
      "text/html": [
       "<div>\n",
       "<style scoped>\n",
       "    .dataframe tbody tr th:only-of-type {\n",
       "        vertical-align: middle;\n",
       "    }\n",
       "\n",
       "    .dataframe tbody tr th {\n",
       "        vertical-align: top;\n",
       "    }\n",
       "\n",
       "    .dataframe thead th {\n",
       "        text-align: right;\n",
       "    }\n",
       "</style>\n",
       "<table border=\"1\" class=\"dataframe\">\n",
       "  <thead>\n",
       "    <tr style=\"text-align: right;\">\n",
       "      <th></th>\n",
       "      <th>advertiser_id</th>\n",
       "      <th>avg_ctr_by_advertiser_id</th>\n",
       "    </tr>\n",
       "  </thead>\n",
       "  <tbody>\n",
       "    <tr>\n",
       "      <th>0</th>\n",
       "      <td>2030</td>\n",
       "      <td>0.318668</td>\n",
       "    </tr>\n",
       "    <tr>\n",
       "      <th>1</th>\n",
       "      <td>2447</td>\n",
       "      <td>0.096403</td>\n",
       "    </tr>\n",
       "    <tr>\n",
       "      <th>2</th>\n",
       "      <td>2589</td>\n",
       "      <td>0.116398</td>\n",
       "    </tr>\n",
       "    <tr>\n",
       "      <th>3</th>\n",
       "      <td>1521</td>\n",
       "      <td>0.157812</td>\n",
       "    </tr>\n",
       "    <tr>\n",
       "      <th>4</th>\n",
       "      <td>784</td>\n",
       "      <td>0.247658</td>\n",
       "    </tr>\n",
       "  </tbody>\n",
       "</table>\n",
       "</div>"
      ],
      "text/plain": [
       "   advertiser_id  avg_ctr_by_advertiser_id\n",
       "0           2030                  0.318668\n",
       "1           2447                  0.096403\n",
       "2           2589                  0.116398\n",
       "3           1521                  0.157812\n",
       "4            784                  0.247658"
      ]
     },
     "execution_count": 116,
     "metadata": {},
     "output_type": "execute_result"
    }
   ],
   "source": [
    "avg_ctrs_by_advertiser_id = (clicks_train\n",
    ".join(promoted_contents, on = \"ad_id\")\n",
    ".groupBy(\"advertiser_id\")\n",
    ".agg(F.avg(\"clicked\").alias(\"avg_ctr_by_advertiser_id\"))\n",
    ".cache()\n",
    ")\n",
    "\n",
    "%show avg_ctrs_by_advertiser_id"
   ]
  },
  {
   "cell_type": "code",
   "execution_count": 117,
   "metadata": {},
   "outputs": [
    {
     "data": {
      "text/html": [
       "<div>\n",
       "<style scoped>\n",
       "    .dataframe tbody tr th:only-of-type {\n",
       "        vertical-align: middle;\n",
       "    }\n",
       "\n",
       "    .dataframe tbody tr th {\n",
       "        vertical-align: top;\n",
       "    }\n",
       "\n",
       "    .dataframe thead th {\n",
       "        text-align: right;\n",
       "    }\n",
       "</style>\n",
       "<table border=\"1\" class=\"dataframe\">\n",
       "  <thead>\n",
       "    <tr style=\"text-align: right;\">\n",
       "      <th></th>\n",
       "      <th>document_id</th>\n",
       "      <th>avg_ctr_by_document_id</th>\n",
       "    </tr>\n",
       "  </thead>\n",
       "  <tbody>\n",
       "    <tr>\n",
       "      <th>0</th>\n",
       "      <td>876083</td>\n",
       "      <td>0.163142</td>\n",
       "    </tr>\n",
       "    <tr>\n",
       "      <th>1</th>\n",
       "      <td>1183136</td>\n",
       "      <td>0.101874</td>\n",
       "    </tr>\n",
       "    <tr>\n",
       "      <th>2</th>\n",
       "      <td>1260980</td>\n",
       "      <td>0.402718</td>\n",
       "    </tr>\n",
       "    <tr>\n",
       "      <th>3</th>\n",
       "      <td>1377696</td>\n",
       "      <td>0.064897</td>\n",
       "    </tr>\n",
       "    <tr>\n",
       "      <th>4</th>\n",
       "      <td>1108162</td>\n",
       "      <td>0.129640</td>\n",
       "    </tr>\n",
       "  </tbody>\n",
       "</table>\n",
       "</div>"
      ],
      "text/plain": [
       "   document_id  avg_ctr_by_document_id\n",
       "0       876083                0.163142\n",
       "1      1183136                0.101874\n",
       "2      1260980                0.402718\n",
       "3      1377696                0.064897\n",
       "4      1108162                0.129640"
      ]
     },
     "execution_count": 117,
     "metadata": {},
     "output_type": "execute_result"
    }
   ],
   "source": [
    "avg_ctrs_by_document_id = (clicks_train\n",
    ".join(promoted_contents, on = \"ad_id\")\n",
    ".groupBy(\"document_id\")\n",
    ".agg(F.avg(\"clicked\").alias(\"avg_ctr_by_document_id\"))\n",
    ".cache()\n",
    ")\n",
    "\n",
    "%show avg_ctrs_by_document_id"
   ]
  },
  {
   "cell_type": "code",
   "execution_count": 118,
   "metadata": {},
   "outputs": [
    {
     "data": {
      "text/html": [
       "<div>\n",
       "<style scoped>\n",
       "    .dataframe tbody tr th:only-of-type {\n",
       "        vertical-align: middle;\n",
       "    }\n",
       "\n",
       "    .dataframe tbody tr th {\n",
       "        vertical-align: top;\n",
       "    }\n",
       "\n",
       "    .dataframe thead th {\n",
       "        text-align: right;\n",
       "    }\n",
       "</style>\n",
       "<table border=\"1\" class=\"dataframe\">\n",
       "  <thead>\n",
       "    <tr style=\"text-align: right;\">\n",
       "      <th></th>\n",
       "      <th>display_id</th>\n",
       "      <th>timestamp</th>\n",
       "      <th>avg_ctr_by_advertiser_id</th>\n",
       "      <th>avg_ctr_by_campaign_id</th>\n",
       "      <th>avg_ctr_by_ad_id</th>\n",
       "      <th>avg_ctr_by_publisher_id</th>\n",
       "    </tr>\n",
       "  </thead>\n",
       "  <tbody>\n",
       "    <tr>\n",
       "      <th>0</th>\n",
       "      <td>19</td>\n",
       "      <td>2016-06-14 09:30:01</td>\n",
       "      <td>NaN</td>\n",
       "      <td>NaN</td>\n",
       "      <td>NaN</td>\n",
       "      <td>NaN</td>\n",
       "    </tr>\n",
       "    <tr>\n",
       "      <th>1</th>\n",
       "      <td>19</td>\n",
       "      <td>2016-06-14 09:30:01</td>\n",
       "      <td>NaN</td>\n",
       "      <td>NaN</td>\n",
       "      <td>NaN</td>\n",
       "      <td>0.000000</td>\n",
       "    </tr>\n",
       "    <tr>\n",
       "      <th>2</th>\n",
       "      <td>566</td>\n",
       "      <td>2016-06-14 09:30:42</td>\n",
       "      <td>0.307692</td>\n",
       "      <td>0.5</td>\n",
       "      <td>0.5</td>\n",
       "      <td>0.500000</td>\n",
       "    </tr>\n",
       "    <tr>\n",
       "      <th>3</th>\n",
       "      <td>566</td>\n",
       "      <td>2016-06-14 09:30:42</td>\n",
       "      <td>0.444444</td>\n",
       "      <td>NaN</td>\n",
       "      <td>NaN</td>\n",
       "      <td>0.333333</td>\n",
       "    </tr>\n",
       "    <tr>\n",
       "      <th>4</th>\n",
       "      <td>566</td>\n",
       "      <td>2016-06-14 09:30:42</td>\n",
       "      <td>0.500000</td>\n",
       "      <td>NaN</td>\n",
       "      <td>NaN</td>\n",
       "      <td>0.250000</td>\n",
       "    </tr>\n",
       "  </tbody>\n",
       "</table>\n",
       "</div>"
      ],
      "text/plain": [
       "   display_id           timestamp  avg_ctr_by_advertiser_id  \\\n",
       "0          19 2016-06-14 09:30:01                       NaN   \n",
       "1          19 2016-06-14 09:30:01                       NaN   \n",
       "2         566 2016-06-14 09:30:42                  0.307692   \n",
       "3         566 2016-06-14 09:30:42                  0.444444   \n",
       "4         566 2016-06-14 09:30:42                  0.500000   \n",
       "\n",
       "   avg_ctr_by_campaign_id  avg_ctr_by_ad_id  avg_ctr_by_publisher_id  \n",
       "0                     NaN               NaN                      NaN  \n",
       "1                     NaN               NaN                 0.000000  \n",
       "2                     0.5               0.5                 0.500000  \n",
       "3                     NaN               NaN                 0.333333  \n",
       "4                     NaN               NaN                 0.250000  "
      ]
     },
     "execution_count": 118,
     "metadata": {},
     "output_type": "execute_result"
    }
   ],
   "source": [
    "avg_ctrs_by_time = (events\n",
    " .join(documents_meta, on = \"document_id\", how = \"left\")\n",
    " .join(clicks_train, on = \"display_id\", how = \"left\")\n",
    " .join(promoted_contents, on = \"ad_id\", how = \"left\")\n",
    " .withColumn(\"total_clicks_by_ad_id\"\n",
    "    , F.expr(\"SUM(clicked) OVER (PARTITION BY ad_id ORDER BY timestamp ROWS BETWEEN UNBOUNDED PRECEDING AND -1 FOLLOWING)\"))\n",
    " .withColumn(\"total_events_by_ad_id\"\n",
    "    , F.expr(\"COUNT(*) OVER (PARTITION BY ad_id ORDER BY timestamp ROWS BETWEEN UNBOUNDED PRECEDING AND -1 FOLLOWING)\"))\n",
    "\n",
    " .withColumn(\"total_clicks_by_advertiser_id\"\n",
    "    , F.expr(\"SUM(clicked) OVER (PARTITION BY advertiser_id ORDER BY timestamp ROWS BETWEEN UNBOUNDED PRECEDING AND -1 FOLLOWING)\"))\n",
    " .withColumn(\"total_events_by_advertiser_id\"\n",
    "    , F.expr(\"COUNT(*) OVER (PARTITION BY advertiser_id ORDER BY timestamp ROWS BETWEEN UNBOUNDED PRECEDING AND -1 FOLLOWING)\"))\n",
    "\n",
    " .withColumn(\"total_clicks_by_campaign_id\"\n",
    "    , F.expr(\"SUM(clicked) OVER (PARTITION BY campaign_id ORDER BY timestamp ROWS BETWEEN UNBOUNDED PRECEDING AND -1 FOLLOWING)\"))\n",
    " .withColumn(\"total_events_by_campaign_id\"\n",
    "    , F.expr(\"COUNT(*) OVER (PARTITION BY campaign_id ORDER BY timestamp ROWS BETWEEN UNBOUNDED PRECEDING AND -1 FOLLOWING)\"))\n",
    "\n",
    " .withColumn(\"total_clicks_by_publisher_id\"\n",
    "    , F.expr(\"SUM(clicked) OVER (PARTITION BY publisher_id ORDER BY timestamp ROWS BETWEEN UNBOUNDED PRECEDING AND -1 FOLLOWING)\"))\n",
    " .withColumn(\"total_events_by_publisher_id\"\n",
    "    , F.expr(\"COUNT(*) OVER (PARTITION BY publisher_id ORDER BY timestamp ROWS BETWEEN UNBOUNDED PRECEDING AND -1 FOLLOWING)\"))\n",
    " .selectExpr(\"display_id\"\n",
    "             , \"timestamp\"\n",
    "             , \"(total_clicks_by_advertiser_id/total_events_by_advertiser_id) avg_ctr_by_advertiser_id\"\n",
    "             , \"(total_clicks_by_campaign_id/total_events_by_campaign_id) avg_ctr_by_campaign_id\"\n",
    "             , \"(total_clicks_by_ad_id/total_events_by_ad_id) avg_ctr_by_ad_id\"\n",
    "             , \"(total_clicks_by_publisher_id/total_events_by_publisher_id) avg_ctr_by_publisher_id\")\n",
    ")\n",
    "\n",
    "%show avg_ctrs_by_time"
   ]
  },
  {
   "cell_type": "markdown",
   "metadata": {},
   "source": [
    "### Content-Based Similarities\n",
    "\n",
    "| Column  |  Description |\n",
    "|---|---|\n",
    "|user_doc_ad_sim_categories, user_doc_ad_sim_topics, user_doc_ad_sim_entities | Cosine similarity between user profile and ad document profile vectors (TF-IDF).\n",
    "|doc_event_doc_ad_sim_categories, doc_event_doc_ad_sim_topics, doc_event_doc_ad_sim_entities | Cosine similarity between event document (landing page context) and ad document profile vectors (TF-IDF)."
   ]
  },
  {
   "cell_type": "markdown",
   "metadata": {},
   "source": [
    "# Prepare training and test datasets"
   ]
  },
  {
   "cell_type": "code",
   "execution_count": 119,
   "metadata": {},
   "outputs": [
    {
     "name": "stdout",
     "output_type": "stream",
     "text": [
      "root\n",
      " |-- document_id: integer (nullable = true)\n",
      " |-- source_id: integer (nullable = true)\n",
      " |-- publisher_id: integer (nullable = true)\n",
      " |-- publish_time: timestamp (nullable = true)\n",
      " |-- categories: array (nullable = true)\n",
      " |    |-- element: struct (containsNull = true)\n",
      " |    |    |-- id: double (nullable = false)\n",
      " |    |    |-- confidence_level: double (nullable = true)\n",
      " |-- topics: array (nullable = true)\n",
      " |    |-- element: struct (containsNull = true)\n",
      " |    |    |-- id: integer (nullable = true)\n",
      " |    |    |-- confidence_level: double (nullable = true)\n",
      " |-- entities: array (nullable = true)\n",
      " |    |-- element: struct (containsNull = true)\n",
      " |    |    |-- id: double (nullable = false)\n",
      " |    |    |-- confidence_level: double (nullable = true)\n",
      "\n"
     ]
    }
   ],
   "source": [
    "docs.printSchema()"
   ]
  },
  {
   "cell_type": "code",
   "execution_count": 120,
   "metadata": {},
   "outputs": [
    {
     "name": "stdout",
     "output_type": "stream",
     "text": [
      "root\n",
      " |-- source_id: integer (nullable = true)\n",
      " |-- publisher_id: integer (nullable = true)\n",
      " |-- publish_time: timestamp (nullable = true)\n",
      " |-- categories: array (nullable = true)\n",
      " |    |-- element: struct (containsNull = true)\n",
      " |    |    |-- id: double (nullable = false)\n",
      " |    |    |-- confidence_level: double (nullable = true)\n",
      " |-- topics: array (nullable = true)\n",
      " |    |-- element: struct (containsNull = true)\n",
      " |    |    |-- id: integer (nullable = true)\n",
      " |    |    |-- confidence_level: double (nullable = true)\n",
      " |-- entities: array (nullable = true)\n",
      " |    |-- element: struct (containsNull = true)\n",
      " |    |    |-- id: double (nullable = false)\n",
      " |    |    |-- confidence_level: double (nullable = true)\n",
      " |-- topics_vector: vector (nullable = true)\n",
      " |-- categories_vector: vector (nullable = true)\n",
      " |-- topics_idf: vector (nullable = true)\n",
      " |-- categories_idf: vector (nullable = true)\n",
      "\n"
     ]
    }
   ],
   "source": [
    "docs_idf.drop(\"document_id\").printSchema()"
   ]
  },
  {
   "cell_type": "code",
   "execution_count": 121,
   "metadata": {
    "scrolled": false
   },
   "outputs": [
    {
     "name": "stdout",
     "output_type": "stream",
     "text": [
      "root\n",
      " |-- document_id: integer (nullable = true)\n",
      " |-- uuid: string (nullable = true)\n",
      " |-- ad_id: integer (nullable = true)\n",
      " |-- display_id: integer (nullable = true)\n",
      " |-- clicked: integer (nullable = true)\n",
      " |-- is_train: integer (nullable = false)\n",
      " |-- timestamp: timestamp (nullable = true)\n",
      " |-- platform: string (nullable = true)\n",
      " |-- geo_location: string (nullable = true)\n",
      " |-- source_id: string (nullable = true)\n",
      " |-- publisher_id: string (nullable = true)\n",
      " |-- publish_time: timestamp (nullable = true)\n",
      " |-- categories: array (nullable = true)\n",
      " |    |-- element: struct (containsNull = true)\n",
      " |    |    |-- id: double (nullable = false)\n",
      " |    |    |-- confidence_level: double (nullable = true)\n",
      " |-- topics: array (nullable = true)\n",
      " |    |-- element: struct (containsNull = true)\n",
      " |    |    |-- id: integer (nullable = true)\n",
      " |    |    |-- confidence_level: double (nullable = true)\n",
      " |-- entities: array (nullable = true)\n",
      " |    |-- element: struct (containsNull = true)\n",
      " |    |    |-- id: double (nullable = false)\n",
      " |    |    |-- confidence_level: double (nullable = true)\n",
      " |-- topics_vector: vector (nullable = true)\n",
      " |-- categories_vector: vector (nullable = true)\n",
      " |-- topics_idf: vector (nullable = true)\n",
      " |-- categories_idf: vector (nullable = true)\n",
      " |-- campaign_id: integer (nullable = true)\n",
      " |-- advertiser_id: integer (nullable = true)\n",
      " |-- page_view_count_by_uuid: double (nullable = true)\n",
      " |-- page_view_count_by_document_id: double (nullable = true)\n",
      " |-- clicks_by_ad_id: long (nullable = true)\n",
      " |-- events_by_ad_id: long (nullable = false)\n",
      " |-- avg_ctr_by_ad_id: double (nullable = true)\n",
      " |-- clicks_by_campaign_id: long (nullable = true)\n",
      " |-- events_by_campaign_id: long (nullable = false)\n",
      " |-- avg_ctr_by_campaign_id: double (nullable = true)\n",
      " |-- clicks_by_document_id: long (nullable = true)\n",
      " |-- events_by_document_id: long (nullable = false)\n",
      " |-- avg_ctr_by_document_id: double (nullable = true)\n",
      " |-- clicks_by_advertiser_id: long (nullable = true)\n",
      " |-- events_by_advertiser_id: long (nullable = false)\n",
      " |-- avg_ctr_by_advertiser_id: double (nullable = true)\n",
      " |-- country: string (nullable = true)\n",
      " |-- state: string (nullable = true)\n",
      " |-- doc_age: integer (nullable = true)\n",
      " |-- session: string (nullable = true)\n",
      "\n"
     ]
    }
   ],
   "source": [
    "clicks = (clicks_train.withColumn(\"is_train\", F.lit(1))\n",
    "            .union(clicks_test\n",
    "                   .withColumn(\"clicked\", F.lit(0))\n",
    "                   .withColumn(\"is_train\", F.lit(0))))\n",
    "\n",
    "df = (clicks\n",
    "            .join(events.alias(\"events\"), on = [\"display_id\"], how = \"left\")\n",
    "            .join(docs_idf.alias(\"docs_idf\"), on = [\"document_id\"], how = \"left\")\n",
    "            .join(promoted_contents.drop(\"document_id\"), on = [\"ad_id\"], how = \"left\")\n",
    "            .join(page_view_count_by_uuid, on = [\"uuid\"], how = \"left\")\n",
    "            .join(page_view_count_by_document_id, on = [\"document_id\"], how = \"left\")\n",
    "      \n",
    "            .withColumn(\"clicks_by_ad_id\", F.expr(\"sum(clicked) over (partition by ad_id)\"))\n",
    "            .withColumn(\"events_by_ad_id\", F.expr(\"count(*) over (partition by ad_id)\"))\n",
    "            .withColumn(\"avg_ctr_by_ad_id\", F.expr(\"clicks_by_ad_id/events_by_ad_id\"))\n",
    "\n",
    "            .withColumn(\"clicks_by_campaign_id\", F.expr(\"sum(clicked) over (partition by campaign_id)\"))\n",
    "            .withColumn(\"events_by_campaign_id\", F.expr(\"count(*) over (partition by campaign_id)\"))\n",
    "            .withColumn(\"avg_ctr_by_campaign_id\", F.expr(\"clicks_by_campaign_id/events_by_campaign_id\"))\n",
    "            \n",
    "            .withColumn(\"clicks_by_document_id\", F.expr(\"sum(clicked) over (partition by events.document_id)\"))\n",
    "            .withColumn(\"events_by_document_id\", F.expr(\"count(*) over (partition by events.document_id)\"))\n",
    "            .withColumn(\"avg_ctr_by_document_id\", F.expr(\"clicks_by_campaign_id/events_by_document_id\"))\n",
    "            \n",
    "            .withColumn(\"clicks_by_advertiser_id\", F.expr(\"sum(clicked) over (partition by advertiser_id)\"))\n",
    "            .withColumn(\"events_by_advertiser_id\", F.expr(\"count(*) over (partition by advertiser_id)\"))\n",
    "            .withColumn(\"avg_ctr_by_advertiser_id\", F.expr(\"clicks_by_campaign_id/events_by_advertiser_id\"))\n",
    "            \n",
    "            .withColumn(\"country\", F.expr(\"split(geo_location, '>')[0]\"))\n",
    "            .withColumn(\"state\", F.expr(\"split(geo_location, '>')[1]\"))\n",
    "            .withColumn(\"doc_age\", F.expr(\"datediff(timestamp, publish_time)\"))\n",
    "            .withColumn(\"session\", F.expr(\"cast((hour(timestamp) % 8) as string)\"))\n",
    "            .withColumn(\"source_id\", F.expr(\"cast(source_id as string)\"))\n",
    "            .withColumn(\"publisher_id\", F.expr(\"cast(publisher_id as string)\"))\n",
    "           )\n",
    "df.printSchema()"
   ]
  },
  {
   "cell_type": "code",
   "execution_count": 123,
   "metadata": {},
   "outputs": [
    {
     "name": "stdout",
     "output_type": "stream",
     "text": [
      "root\n",
      " |-- document_id: integer (nullable = true)\n",
      " |-- uuid: string (nullable = true)\n",
      " |-- ad_id: integer (nullable = true)\n",
      " |-- display_id: integer (nullable = true)\n",
      " |-- clicked: integer (nullable = true)\n",
      " |-- is_train: integer (nullable = false)\n",
      " |-- timestamp: timestamp (nullable = true)\n",
      " |-- platform: string (nullable = true)\n",
      " |-- geo_location: string (nullable = true)\n",
      " |-- source_id: string (nullable = true)\n",
      " |-- publisher_id: string (nullable = true)\n",
      " |-- publish_time: timestamp (nullable = true)\n",
      " |-- categories: array (nullable = true)\n",
      " |    |-- element: struct (containsNull = true)\n",
      " |    |    |-- id: double (nullable = false)\n",
      " |    |    |-- confidence_level: double (nullable = true)\n",
      " |-- topics: array (nullable = true)\n",
      " |    |-- element: struct (containsNull = true)\n",
      " |    |    |-- id: integer (nullable = true)\n",
      " |    |    |-- confidence_level: double (nullable = true)\n",
      " |-- entities: array (nullable = true)\n",
      " |    |-- element: struct (containsNull = true)\n",
      " |    |    |-- id: double (nullable = false)\n",
      " |    |    |-- confidence_level: double (nullable = true)\n",
      " |-- topics_vector: vector (nullable = true)\n",
      " |-- categories_vector: vector (nullable = true)\n",
      " |-- topics_idf: vector (nullable = true)\n",
      " |-- categories_idf: vector (nullable = true)\n",
      " |-- campaign_id: integer (nullable = true)\n",
      " |-- advertiser_id: integer (nullable = true)\n",
      " |-- page_view_count_by_uuid: double (nullable = true)\n",
      " |-- page_view_count_by_document_id: double (nullable = true)\n",
      " |-- clicks_by_ad_id: long (nullable = true)\n",
      " |-- events_by_ad_id: long (nullable = false)\n",
      " |-- avg_ctr_by_ad_id: double (nullable = true)\n",
      " |-- clicks_by_campaign_id: long (nullable = true)\n",
      " |-- events_by_campaign_id: long (nullable = false)\n",
      " |-- avg_ctr_by_campaign_id: double (nullable = true)\n",
      " |-- clicks_by_document_id: long (nullable = true)\n",
      " |-- events_by_document_id: long (nullable = false)\n",
      " |-- avg_ctr_by_document_id: double (nullable = true)\n",
      " |-- clicks_by_advertiser_id: long (nullable = true)\n",
      " |-- events_by_advertiser_id: long (nullable = false)\n",
      " |-- avg_ctr_by_advertiser_id: double (nullable = true)\n",
      " |-- country: string (nullable = true)\n",
      " |-- state: string (nullable = true)\n",
      " |-- doc_age: integer (nullable = true)\n",
      " |-- session: string (nullable = true)\n",
      "\n"
     ]
    }
   ],
   "source": [
    "df.write.mode(\"overwrite\").save(base_path + \"merged_enriched\")\n",
    "df.printSchema()"
   ]
  },
  {
   "cell_type": "markdown",
   "metadata": {},
   "source": [
    "# Machine Learning"
   ]
  },
  {
   "cell_type": "code",
   "execution_count": 124,
   "metadata": {},
   "outputs": [
    {
     "name": "stdout",
     "output_type": "stream",
     "text": [
      "Number of partitions for df merged_enriched: 96\n"
     ]
    },
    {
     "data": {
      "text/plain": [
       "119366893"
      ]
     },
     "execution_count": 124,
     "metadata": {},
     "output_type": "execute_result"
    }
   ],
   "source": [
    "df = load(\"merged_enriched\", cache = False)\n",
    "df.count()"
   ]
  },
  {
   "cell_type": "code",
   "execution_count": 125,
   "metadata": {},
   "outputs": [],
   "source": [
    "features = [\n",
    "   'platform'\n",
    " , 'source_id'\n",
    " , 'publisher_id'\n",
    " , 'topics_idf'\n",
    " , 'categories_idf'\n",
    " , 'avg_ctr_by_ad_id'\n",
    " , 'avg_ctr_by_campaign_id'\n",
    " , 'avg_ctr_by_document_id'\n",
    " , 'avg_ctr_by_advertiser_id'\n",
    " , \"country\"\n",
    " , \"state\"\n",
    " , \"doc_age\"\n",
    " , \"session\"\n",
    " , \"ad_id\"\n",
    " , \"display_id\"\n",
    " , \"is_train\"\n",
    " , \"clicked\"\n",
    "]"
   ]
  },
  {
   "cell_type": "code",
   "execution_count": 126,
   "metadata": {},
   "outputs": [
    {
     "name": "stdout",
     "output_type": "stream",
     "text": [
      "root\n",
      " |-- platform: string (nullable = true)\n",
      " |-- source_id: string (nullable = true)\n",
      " |-- publisher_id: string (nullable = true)\n",
      " |-- topics_idf: vector (nullable = true)\n",
      " |-- categories_idf: vector (nullable = true)\n",
      " |-- avg_ctr_by_ad_id: double (nullable = true)\n",
      " |-- avg_ctr_by_campaign_id: double (nullable = true)\n",
      " |-- avg_ctr_by_document_id: double (nullable = true)\n",
      " |-- avg_ctr_by_advertiser_id: double (nullable = true)\n",
      " |-- country: string (nullable = true)\n",
      " |-- state: string (nullable = true)\n",
      " |-- doc_age: integer (nullable = true)\n",
      " |-- session: string (nullable = true)\n",
      " |-- ad_id: integer (nullable = true)\n",
      " |-- display_id: integer (nullable = true)\n",
      " |-- is_train: integer (nullable = true)\n",
      " |-- clicked: integer (nullable = true)\n",
      "\n"
     ]
    }
   ],
   "source": [
    "df.selectExpr(*features).printSchema()"
   ]
  },
  {
   "cell_type": "code",
   "execution_count": 127,
   "metadata": {},
   "outputs": [
    {
     "data": {
      "text/html": [
       "<div>\n",
       "<style scoped>\n",
       "    .dataframe tbody tr th:only-of-type {\n",
       "        vertical-align: middle;\n",
       "    }\n",
       "\n",
       "    .dataframe tbody tr th {\n",
       "        vertical-align: top;\n",
       "    }\n",
       "\n",
       "    .dataframe thead th {\n",
       "        text-align: right;\n",
       "    }\n",
       "</style>\n",
       "<table border=\"1\" class=\"dataframe\">\n",
       "  <thead>\n",
       "    <tr style=\"text-align: right;\">\n",
       "      <th></th>\n",
       "      <th>document_id</th>\n",
       "      <th>uuid</th>\n",
       "      <th>ad_id</th>\n",
       "      <th>display_id</th>\n",
       "      <th>clicked</th>\n",
       "      <th>is_train</th>\n",
       "      <th>timestamp</th>\n",
       "      <th>platform</th>\n",
       "      <th>geo_location</th>\n",
       "      <th>source_id</th>\n",
       "      <th>publisher_id</th>\n",
       "      <th>publish_time</th>\n",
       "      <th>categories</th>\n",
       "      <th>topics</th>\n",
       "      <th>entities</th>\n",
       "      <th>topics_vector</th>\n",
       "      <th>categories_vector</th>\n",
       "      <th>topics_idf</th>\n",
       "      <th>categories_idf</th>\n",
       "      <th>campaign_id</th>\n",
       "      <th>advertiser_id</th>\n",
       "      <th>page_view_count_by_uuid</th>\n",
       "      <th>page_view_count_by_document_id</th>\n",
       "      <th>clicks_by_ad_id</th>\n",
       "      <th>events_by_ad_id</th>\n",
       "      <th>avg_ctr_by_ad_id</th>\n",
       "      <th>clicks_by_campaign_id</th>\n",
       "      <th>events_by_campaign_id</th>\n",
       "      <th>avg_ctr_by_campaign_id</th>\n",
       "      <th>clicks_by_document_id</th>\n",
       "      <th>events_by_document_id</th>\n",
       "      <th>avg_ctr_by_document_id</th>\n",
       "      <th>clicks_by_advertiser_id</th>\n",
       "      <th>events_by_advertiser_id</th>\n",
       "      <th>avg_ctr_by_advertiser_id</th>\n",
       "      <th>country</th>\n",
       "      <th>state</th>\n",
       "      <th>doc_age</th>\n",
       "      <th>session</th>\n",
       "    </tr>\n",
       "  </thead>\n",
       "  <tbody>\n",
       "    <tr>\n",
       "      <th>0</th>\n",
       "      <td>5540</td>\n",
       "      <td>bf67d31751a2b4</td>\n",
       "      <td>106789</td>\n",
       "      <td>1993509</td>\n",
       "      <td>0</td>\n",
       "      <td>1</td>\n",
       "      <td>2016-06-15 21:43:52</td>\n",
       "      <td>1</td>\n",
       "      <td>US&gt;UT&gt;770</td>\n",
       "      <td>121</td>\n",
       "      <td>655</td>\n",
       "      <td>2010-05-19 04:00:00</td>\n",
       "      <td>[(23.0, 0.069408514), (5.0, 0.912226184)]</td>\n",
       "      <td>[(143, 0.0677015377172056), (92, 0.01556335560...</td>\n",
       "      <td>None</td>\n",
       "      <td>(0.0, 0.0, 0.0, 0.0, 0.0, 0.0, 0.0, 0.0, 0.0, ...</td>\n",
       "      <td>(0.0, 0.0, 0.0, 0.0, 0.0, 0.912226184, 0.0, 0....</td>\n",
       "      <td>(0.0, 0.0, 0.0, 0.0, 0.0, 0.0, 0.0, 0.0, 0.0, ...</td>\n",
       "      <td>(0.0, 0.0, 0.0, 0.0, 0.0, 2.415922540132727, 0...</td>\n",
       "      <td>7615</td>\n",
       "      <td>12</td>\n",
       "      <td>NaN</td>\n",
       "      <td>None</td>\n",
       "      <td>18525</td>\n",
       "      <td>82844</td>\n",
       "      <td>0.223613</td>\n",
       "      <td>27876</td>\n",
       "      <td>147388</td>\n",
       "      <td>0.189133</td>\n",
       "      <td>2</td>\n",
       "      <td>16</td>\n",
       "      <td>1742.250000</td>\n",
       "      <td>27876</td>\n",
       "      <td>147388</td>\n",
       "      <td>0.189133</td>\n",
       "      <td>US</td>\n",
       "      <td>UT</td>\n",
       "      <td>2219.0</td>\n",
       "      <td>5</td>\n",
       "    </tr>\n",
       "    <tr>\n",
       "      <th>1</th>\n",
       "      <td>1683252</td>\n",
       "      <td>7e86be74917d24</td>\n",
       "      <td>106789</td>\n",
       "      <td>21859752</td>\n",
       "      <td>0</td>\n",
       "      <td>0</td>\n",
       "      <td>2016-06-28 17:07:29</td>\n",
       "      <td>1</td>\n",
       "      <td>US&gt;MD&gt;512</td>\n",
       "      <td>7736</td>\n",
       "      <td>450</td>\n",
       "      <td>2016-06-08 19:00:00</td>\n",
       "      <td>[(41.0, 0.92), (1.0, 0.07)]</td>\n",
       "      <td>[(85, 0.0264917522989691), (20, 0.089020019477...</td>\n",
       "      <td>None</td>\n",
       "      <td>(0.0, 0.0, 0.0, 0.0, 0.0, 0.0, 0.0, 0.0, 0.0, ...</td>\n",
       "      <td>(0.0, 0.07, 0.0, 0.0, 0.0, 0.0, 0.0, 0.0, 0.0,...</td>\n",
       "      <td>(0.0, 0.0, 0.0, 0.0, 0.0, 0.0, 0.0, 0.0, 0.0, ...</td>\n",
       "      <td>(0.0, 0.1395557773478285, 0.0, 0.0, 0.0, 0.0, ...</td>\n",
       "      <td>7615</td>\n",
       "      <td>12</td>\n",
       "      <td>NaN</td>\n",
       "      <td>None</td>\n",
       "      <td>18525</td>\n",
       "      <td>82844</td>\n",
       "      <td>0.223613</td>\n",
       "      <td>27876</td>\n",
       "      <td>147388</td>\n",
       "      <td>0.189133</td>\n",
       "      <td>3617</td>\n",
       "      <td>25551</td>\n",
       "      <td>1.090994</td>\n",
       "      <td>27876</td>\n",
       "      <td>147388</td>\n",
       "      <td>0.189133</td>\n",
       "      <td>US</td>\n",
       "      <td>MD</td>\n",
       "      <td>20.0</td>\n",
       "      <td>1</td>\n",
       "    </tr>\n",
       "    <tr>\n",
       "      <th>2</th>\n",
       "      <td>13319</td>\n",
       "      <td>55cbcc88990fd2</td>\n",
       "      <td>56860</td>\n",
       "      <td>10356183</td>\n",
       "      <td>0</td>\n",
       "      <td>1</td>\n",
       "      <td>2016-06-22 09:10:14</td>\n",
       "      <td>1</td>\n",
       "      <td>US&gt;GA&gt;524</td>\n",
       "      <td>31</td>\n",
       "      <td>535</td>\n",
       "      <td>NaT</td>\n",
       "      <td>None</td>\n",
       "      <td>[(271, 0.0346064878342803)]</td>\n",
       "      <td>[(131.0, 0.559219447002035)]</td>\n",
       "      <td>(0.0, 0.0, 0.0, 0.0, 0.0, 0.0, 0.0, 0.0, 0.0, ...</td>\n",
       "      <td>(0.0, 0.0, 0.0, 0.0, 0.0, 0.0, 0.0, 0.0, 0.0, ...</td>\n",
       "      <td>(0.0, 0.0, 0.0, 0.0, 0.0, 0.0, 0.0, 0.0, 0.0, ...</td>\n",
       "      <td>(0.0, 0.0, 0.0, 0.0, 0.0, 0.0, 0.0, 0.0, 0.0, ...</td>\n",
       "      <td>7615</td>\n",
       "      <td>12</td>\n",
       "      <td>0.0</td>\n",
       "      <td>None</td>\n",
       "      <td>1294</td>\n",
       "      <td>6777</td>\n",
       "      <td>0.190940</td>\n",
       "      <td>27876</td>\n",
       "      <td>147388</td>\n",
       "      <td>0.189133</td>\n",
       "      <td>22</td>\n",
       "      <td>98</td>\n",
       "      <td>284.448980</td>\n",
       "      <td>27876</td>\n",
       "      <td>147388</td>\n",
       "      <td>0.189133</td>\n",
       "      <td>US</td>\n",
       "      <td>GA</td>\n",
       "      <td>NaN</td>\n",
       "      <td>1</td>\n",
       "    </tr>\n",
       "    <tr>\n",
       "      <th>3</th>\n",
       "      <td>1683252</td>\n",
       "      <td>f88f087861ca26</td>\n",
       "      <td>106789</td>\n",
       "      <td>22094475</td>\n",
       "      <td>0</td>\n",
       "      <td>0</td>\n",
       "      <td>2016-06-28 20:05:54</td>\n",
       "      <td>1</td>\n",
       "      <td>US&gt;MI&gt;505</td>\n",
       "      <td>7736</td>\n",
       "      <td>450</td>\n",
       "      <td>2016-06-08 19:00:00</td>\n",
       "      <td>[(41.0, 0.92), (1.0, 0.07)]</td>\n",
       "      <td>[(85, 0.0264917522989691), (20, 0.089020019477...</td>\n",
       "      <td>None</td>\n",
       "      <td>(0.0, 0.0, 0.0, 0.0, 0.0, 0.0, 0.0, 0.0, 0.0, ...</td>\n",
       "      <td>(0.0, 0.07, 0.0, 0.0, 0.0, 0.0, 0.0, 0.0, 0.0,...</td>\n",
       "      <td>(0.0, 0.0, 0.0, 0.0, 0.0, 0.0, 0.0, 0.0, 0.0, ...</td>\n",
       "      <td>(0.0, 0.1395557773478285, 0.0, 0.0, 0.0, 0.0, ...</td>\n",
       "      <td>7615</td>\n",
       "      <td>12</td>\n",
       "      <td>NaN</td>\n",
       "      <td>None</td>\n",
       "      <td>18525</td>\n",
       "      <td>82844</td>\n",
       "      <td>0.223613</td>\n",
       "      <td>27876</td>\n",
       "      <td>147388</td>\n",
       "      <td>0.189133</td>\n",
       "      <td>3617</td>\n",
       "      <td>25551</td>\n",
       "      <td>1.090994</td>\n",
       "      <td>27876</td>\n",
       "      <td>147388</td>\n",
       "      <td>0.189133</td>\n",
       "      <td>US</td>\n",
       "      <td>MI</td>\n",
       "      <td>20.0</td>\n",
       "      <td>4</td>\n",
       "    </tr>\n",
       "    <tr>\n",
       "      <th>4</th>\n",
       "      <td>30671</td>\n",
       "      <td>1661a9463dfa61</td>\n",
       "      <td>106789</td>\n",
       "      <td>909524</td>\n",
       "      <td>0</td>\n",
       "      <td>1</td>\n",
       "      <td>2016-06-15 01:25:40</td>\n",
       "      <td>1</td>\n",
       "      <td>US&gt;NY&gt;514</td>\n",
       "      <td>2609</td>\n",
       "      <td>3</td>\n",
       "      <td>2007-11-15 00:00:00</td>\n",
       "      <td>[(5.0, 0.92), (23.0, 0.07)]</td>\n",
       "      <td>[(226, 0.0448206753564123), (56, 0.00942625642...</td>\n",
       "      <td>[(318517.0, 0.237299772509975), (532303.0, 0.2...</td>\n",
       "      <td>(0.0, 0.0, 0.0, 0.0, 0.0, 0.0, 0.0, 0.0, 0.0, ...</td>\n",
       "      <td>(0.0, 0.0, 0.0, 0.0, 0.0, 0.92, 0.0, 0.0, 0.0,...</td>\n",
       "      <td>(0.0, 0.0, 0.0, 0.0, 0.0, 0.0, 0.0, 0.0, 0.0, ...</td>\n",
       "      <td>(0.0, 0.0, 0.0, 0.0, 0.0, 2.436510567122802, 0...</td>\n",
       "      <td>7615</td>\n",
       "      <td>12</td>\n",
       "      <td>0.0</td>\n",
       "      <td>None</td>\n",
       "      <td>18525</td>\n",
       "      <td>82844</td>\n",
       "      <td>0.223613</td>\n",
       "      <td>27876</td>\n",
       "      <td>147388</td>\n",
       "      <td>0.189133</td>\n",
       "      <td>10</td>\n",
       "      <td>63</td>\n",
       "      <td>442.476190</td>\n",
       "      <td>27876</td>\n",
       "      <td>147388</td>\n",
       "      <td>0.189133</td>\n",
       "      <td>US</td>\n",
       "      <td>NY</td>\n",
       "      <td>3135.0</td>\n",
       "      <td>1</td>\n",
       "    </tr>\n",
       "  </tbody>\n",
       "</table>\n",
       "</div>"
      ],
      "text/plain": [
       "   document_id            uuid   ad_id  display_id  clicked  is_train  \\\n",
       "0         5540  bf67d31751a2b4  106789     1993509        0         1   \n",
       "1      1683252  7e86be74917d24  106789    21859752        0         0   \n",
       "2        13319  55cbcc88990fd2   56860    10356183        0         1   \n",
       "3      1683252  f88f087861ca26  106789    22094475        0         0   \n",
       "4        30671  1661a9463dfa61  106789      909524        0         1   \n",
       "\n",
       "            timestamp platform geo_location source_id publisher_id  \\\n",
       "0 2016-06-15 21:43:52        1    US>UT>770       121          655   \n",
       "1 2016-06-28 17:07:29        1    US>MD>512      7736          450   \n",
       "2 2016-06-22 09:10:14        1    US>GA>524        31          535   \n",
       "3 2016-06-28 20:05:54        1    US>MI>505      7736          450   \n",
       "4 2016-06-15 01:25:40        1    US>NY>514      2609            3   \n",
       "\n",
       "         publish_time                                 categories  \\\n",
       "0 2010-05-19 04:00:00  [(23.0, 0.069408514), (5.0, 0.912226184)]   \n",
       "1 2016-06-08 19:00:00                [(41.0, 0.92), (1.0, 0.07)]   \n",
       "2                 NaT                                       None   \n",
       "3 2016-06-08 19:00:00                [(41.0, 0.92), (1.0, 0.07)]   \n",
       "4 2007-11-15 00:00:00                [(5.0, 0.92), (23.0, 0.07)]   \n",
       "\n",
       "                                              topics  \\\n",
       "0  [(143, 0.0677015377172056), (92, 0.01556335560...   \n",
       "1  [(85, 0.0264917522989691), (20, 0.089020019477...   \n",
       "2                        [(271, 0.0346064878342803)]   \n",
       "3  [(85, 0.0264917522989691), (20, 0.089020019477...   \n",
       "4  [(226, 0.0448206753564123), (56, 0.00942625642...   \n",
       "\n",
       "                                            entities  \\\n",
       "0                                               None   \n",
       "1                                               None   \n",
       "2                       [(131.0, 0.559219447002035)]   \n",
       "3                                               None   \n",
       "4  [(318517.0, 0.237299772509975), (532303.0, 0.2...   \n",
       "\n",
       "                                       topics_vector  \\\n",
       "0  (0.0, 0.0, 0.0, 0.0, 0.0, 0.0, 0.0, 0.0, 0.0, ...   \n",
       "1  (0.0, 0.0, 0.0, 0.0, 0.0, 0.0, 0.0, 0.0, 0.0, ...   \n",
       "2  (0.0, 0.0, 0.0, 0.0, 0.0, 0.0, 0.0, 0.0, 0.0, ...   \n",
       "3  (0.0, 0.0, 0.0, 0.0, 0.0, 0.0, 0.0, 0.0, 0.0, ...   \n",
       "4  (0.0, 0.0, 0.0, 0.0, 0.0, 0.0, 0.0, 0.0, 0.0, ...   \n",
       "\n",
       "                                   categories_vector  \\\n",
       "0  (0.0, 0.0, 0.0, 0.0, 0.0, 0.912226184, 0.0, 0....   \n",
       "1  (0.0, 0.07, 0.0, 0.0, 0.0, 0.0, 0.0, 0.0, 0.0,...   \n",
       "2  (0.0, 0.0, 0.0, 0.0, 0.0, 0.0, 0.0, 0.0, 0.0, ...   \n",
       "3  (0.0, 0.07, 0.0, 0.0, 0.0, 0.0, 0.0, 0.0, 0.0,...   \n",
       "4  (0.0, 0.0, 0.0, 0.0, 0.0, 0.92, 0.0, 0.0, 0.0,...   \n",
       "\n",
       "                                          topics_idf  \\\n",
       "0  (0.0, 0.0, 0.0, 0.0, 0.0, 0.0, 0.0, 0.0, 0.0, ...   \n",
       "1  (0.0, 0.0, 0.0, 0.0, 0.0, 0.0, 0.0, 0.0, 0.0, ...   \n",
       "2  (0.0, 0.0, 0.0, 0.0, 0.0, 0.0, 0.0, 0.0, 0.0, ...   \n",
       "3  (0.0, 0.0, 0.0, 0.0, 0.0, 0.0, 0.0, 0.0, 0.0, ...   \n",
       "4  (0.0, 0.0, 0.0, 0.0, 0.0, 0.0, 0.0, 0.0, 0.0, ...   \n",
       "\n",
       "                                      categories_idf  campaign_id  \\\n",
       "0  (0.0, 0.0, 0.0, 0.0, 0.0, 2.415922540132727, 0...         7615   \n",
       "1  (0.0, 0.1395557773478285, 0.0, 0.0, 0.0, 0.0, ...         7615   \n",
       "2  (0.0, 0.0, 0.0, 0.0, 0.0, 0.0, 0.0, 0.0, 0.0, ...         7615   \n",
       "3  (0.0, 0.1395557773478285, 0.0, 0.0, 0.0, 0.0, ...         7615   \n",
       "4  (0.0, 0.0, 0.0, 0.0, 0.0, 2.436510567122802, 0...         7615   \n",
       "\n",
       "   advertiser_id  page_view_count_by_uuid page_view_count_by_document_id  \\\n",
       "0             12                      NaN                           None   \n",
       "1             12                      NaN                           None   \n",
       "2             12                      0.0                           None   \n",
       "3             12                      NaN                           None   \n",
       "4             12                      0.0                           None   \n",
       "\n",
       "   clicks_by_ad_id  events_by_ad_id  avg_ctr_by_ad_id  clicks_by_campaign_id  \\\n",
       "0            18525            82844          0.223613                  27876   \n",
       "1            18525            82844          0.223613                  27876   \n",
       "2             1294             6777          0.190940                  27876   \n",
       "3            18525            82844          0.223613                  27876   \n",
       "4            18525            82844          0.223613                  27876   \n",
       "\n",
       "   events_by_campaign_id  avg_ctr_by_campaign_id  clicks_by_document_id  \\\n",
       "0                 147388                0.189133                      2   \n",
       "1                 147388                0.189133                   3617   \n",
       "2                 147388                0.189133                     22   \n",
       "3                 147388                0.189133                   3617   \n",
       "4                 147388                0.189133                     10   \n",
       "\n",
       "   events_by_document_id  avg_ctr_by_document_id  clicks_by_advertiser_id  \\\n",
       "0                     16             1742.250000                    27876   \n",
       "1                  25551                1.090994                    27876   \n",
       "2                     98              284.448980                    27876   \n",
       "3                  25551                1.090994                    27876   \n",
       "4                     63              442.476190                    27876   \n",
       "\n",
       "   events_by_advertiser_id  avg_ctr_by_advertiser_id country state  doc_age  \\\n",
       "0                   147388                  0.189133      US    UT   2219.0   \n",
       "1                   147388                  0.189133      US    MD     20.0   \n",
       "2                   147388                  0.189133      US    GA      NaN   \n",
       "3                   147388                  0.189133      US    MI     20.0   \n",
       "4                   147388                  0.189133      US    NY   3135.0   \n",
       "\n",
       "  session  \n",
       "0       5  \n",
       "1       1  \n",
       "2       1  \n",
       "3       4  \n",
       "4       1  "
      ]
     },
     "execution_count": 127,
     "metadata": {},
     "output_type": "execute_result"
    }
   ],
   "source": [
    "%show df"
   ]
  },
  {
   "cell_type": "code",
   "execution_count": 128,
   "metadata": {},
   "outputs": [],
   "source": [
    "df1 = df"
   ]
  },
  {
   "cell_type": "markdown",
   "metadata": {},
   "source": [
    "### Detect and impute null values"
   ]
  },
  {
   "cell_type": "code",
   "execution_count": 129,
   "metadata": {},
   "outputs": [
    {
     "name": "stdout",
     "output_type": "stream",
     "text": [
      "                             Count       pct   dtype\n",
      "platform                         0  0.000000  string\n",
      "source_id                     6179  0.000052  string\n",
      "publisher_id                  6185  0.000052  string\n",
      "topics_idf                       0  0.000000  vector\n",
      "categories_idf                   0  0.000000  vector\n",
      "avg_ctr_by_ad_id                 0  0.000000  double\n",
      "avg_ctr_by_campaign_id           0  0.000000  double\n",
      "avg_ctr_by_document_id           0  0.000000  double\n",
      "avg_ctr_by_advertiser_id         0  0.000000  double\n",
      "country                       1769  0.000015  string\n",
      "state                      5876820  0.049233  string\n",
      "doc_age                   16600181  0.139069     int\n",
      "session                          0  0.000000  string\n",
      "ad_id                            0  0.000000     int\n",
      "display_id                       0  0.000000     int\n",
      "is_train                         0  0.000000     int\n",
      "clicked                          0  0.000000     int\n"
     ]
    }
   ],
   "source": [
    "def show_null_counts(df):\n",
    "    null_testers = [\"sum(if(isnull(%s), 1, 0)) %s\" % (f, f) for f in df.columns]\n",
    "    null_counts = df.selectExpr(*null_testers).toPandas().T\n",
    "    null_counts.columns = [\"Count\"]\n",
    "    null_counts[\"pct\"] = null_counts.Count/df.count()\n",
    "    null_counts[\"dtype\"] = [t[1] for t in df.dtypes]\n",
    "    print(null_counts.to_string())\n",
    "\n",
    "show_null_counts(df.selectExpr(*features))"
   ]
  },
  {
   "cell_type": "code",
   "execution_count": 130,
   "metadata": {
    "scrolled": false
   },
   "outputs": [
    {
     "name": "stdout",
     "output_type": "stream",
     "text": [
      "                                                        0\n",
      "approx_count_distinct(platform)                         4\n",
      "approx_count_distinct(source_id)                     4801\n",
      "approx_count_distinct(publisher_id)                   481\n",
      "approx_count_distinct(topics_idf)                  749231\n",
      "approx_count_distinct(categories_idf)              315105\n",
      "approx_count_distinct(avg_ctr_by_ad_id)             28154\n",
      "approx_count_distinct(avg_ctr_by_campaign_id)       16182\n",
      "approx_count_distinct(avg_ctr_by_document_id)     6658183\n",
      "approx_count_distinct(avg_ctr_by_advertiser_id)     18926\n",
      "approx_count_distinct(country)                        222\n",
      "approx_count_distinct(state)                          408\n",
      "approx_count_distinct(doc_age)                       7441\n",
      "approx_count_distinct(session)                          8\n",
      "approx_count_distinct(ad_id)                       535318\n",
      "approx_count_distinct(display_id)                23137934\n",
      "approx_count_distinct(is_train)                         2\n",
      "approx_count_distinct(clicked)                          2\n"
     ]
    }
   ],
   "source": [
    "df_trunc = df.selectExpr(*features)\n",
    "distinct_counts = df_trunc.selectExpr(*[\"approx_count_distinct(%s)\"\n",
    "                        % f for f in df.selectExpr(*features).columns]).toPandas()\n",
    "print(distinct_counts.T.to_string())"
   ]
  },
  {
   "cell_type": "code",
   "execution_count": 131,
   "metadata": {},
   "outputs": [
    {
     "name": "stdout",
     "output_type": "stream",
     "text": [
      "                          Count  pct   dtype\n",
      "platform                      0  0.0  string\n",
      "source_id                     0  0.0  string\n",
      "publisher_id                  0  0.0  string\n",
      "topics_idf                    0  0.0  vector\n",
      "categories_idf                0  0.0  vector\n",
      "avg_ctr_by_ad_id              0  0.0  double\n",
      "avg_ctr_by_campaign_id        0  0.0  double\n",
      "avg_ctr_by_document_id        0  0.0  double\n",
      "avg_ctr_by_advertiser_id      0  0.0  double\n",
      "country                       0  0.0  string\n",
      "state                         0  0.0  string\n",
      "doc_age                       0  0.0     int\n",
      "session                       0  0.0  string\n",
      "ad_id                         0  0.0     int\n",
      "display_id                    0  0.0     int\n",
      "is_train                      0  0.0     int\n",
      "clicked                       0  0.0     int\n"
     ]
    }
   ],
   "source": [
    "fill_na_values = {\"platform\": \"<null>\"\n",
    "    , \"source_id\": \"<null>\"\n",
    "    , \"publisher_id\": \"<null>\"\n",
    "    , \"avg_ctr_by_ad_id\": 0.0\n",
    "    , \"avg_ctr_by_campaign_id\": 0.0\n",
    "    , \"avg_ctr_by_document_id\": 0.0\n",
    "    , \"avg_ctr_by_advertiser_id\": 0.0\n",
    "    , \"country\": \"null\"\n",
    "    , \"state\": \"null\"\n",
    "    , \"doc_age\": -1}\n",
    "\n",
    "df_null_removed = df.selectExpr(*features).na.fill(fill_na_values)\n",
    "show_null_counts(df_null_removed)"
   ]
  },
  {
   "cell_type": "markdown",
   "metadata": {},
   "source": [
    "### Apply StringIndexing and OneHotE Convert categorical values (string type) into index values, subsequently to one hot encoded values"
   ]
  },
  {
   "cell_type": "code",
   "execution_count": 132,
   "metadata": {},
   "outputs": [],
   "source": [
    "from pyspark.ml.feature import OneHotEncoderEstimator, StringIndexer, VectorAssembler"
   ]
  },
  {
   "cell_type": "code",
   "execution_count": 133,
   "metadata": {},
   "outputs": [],
   "source": [
    "categorical_columns = [col for col, dtype in df_null_removed.dtypes if dtype == \"string\"]\n",
    "\n",
    "df_string_indexed = df_null_removed\n",
    "for col in categorical_columns:\n",
    "    indexer = StringIndexer(inputCol=col, outputCol=\"%s_index\" % col)\n",
    "    df_string_indexed = indexer.fit(df_string_indexed).transform(df_string_indexed)\n",
    "\n",
    "one_hot_estimator = OneHotEncoderEstimator(\n",
    "    inputCols = [col + \"_index\" for col in categorical_columns], \n",
    "    outputCols = [col + \"_vec\" for col in categorical_columns]\n",
    ")\n",
    "df_ohe = one_hot_estimator.fit(df_string_indexed).transform(df_string_indexed)"
   ]
  },
  {
   "cell_type": "code",
   "execution_count": 134,
   "metadata": {},
   "outputs": [
    {
     "data": {
      "text/plain": [
       "[('platform', 'string'),\n",
       " ('source_id', 'string'),\n",
       " ('publisher_id', 'string'),\n",
       " ('topics_idf', 'vector'),\n",
       " ('categories_idf', 'vector'),\n",
       " ('avg_ctr_by_ad_id', 'double'),\n",
       " ('avg_ctr_by_campaign_id', 'double'),\n",
       " ('avg_ctr_by_document_id', 'double'),\n",
       " ('avg_ctr_by_advertiser_id', 'double'),\n",
       " ('country', 'string'),\n",
       " ('state', 'string'),\n",
       " ('doc_age', 'int'),\n",
       " ('session', 'string'),\n",
       " ('ad_id', 'int'),\n",
       " ('display_id', 'int'),\n",
       " ('is_train', 'int'),\n",
       " ('clicked', 'int'),\n",
       " ('platform_index', 'double'),\n",
       " ('source_id_index', 'double'),\n",
       " ('publisher_id_index', 'double'),\n",
       " ('country_index', 'double'),\n",
       " ('state_index', 'double'),\n",
       " ('session_index', 'double'),\n",
       " ('country_vec', 'vector'),\n",
       " ('session_vec', 'vector'),\n",
       " ('source_id_vec', 'vector'),\n",
       " ('state_vec', 'vector'),\n",
       " ('publisher_id_vec', 'vector'),\n",
       " ('platform_vec', 'vector')]"
      ]
     },
     "execution_count": 134,
     "metadata": {},
     "output_type": "execute_result"
    }
   ],
   "source": [
    "df_ohe.dtypes"
   ]
  },
  {
   "cell_type": "code",
   "execution_count": 135,
   "metadata": {},
   "outputs": [],
   "source": [
    "to_be_vectorized = [('topics_idf', 'vector'),\n",
    " ('categories_idf', 'vector'),\n",
    " ('avg_ctr_by_ad_id', 'double'),\n",
    " ('avg_ctr_by_campaign_id', 'double'),\n",
    " ('avg_ctr_by_document_id', 'double'),\n",
    " ('avg_ctr_by_advertiser_id', 'double'),\n",
    " ('doc_age', 'int'),\n",
    " ('country_vec', 'vector'),\n",
    " ('session_vec', 'vector'),\n",
    " ('source_id_vec', 'vector'),\n",
    " ('state_vec', 'vector'),\n",
    " ('publisher_id_vec', 'vector'),\n",
    " ('platform_vec', 'vector')]\n",
    "\n",
    "vector_assembler = VectorAssembler(inputCols = [c for c, _ in to_be_vectorized], outputCol=\"features\")"
   ]
  },
  {
   "cell_type": "code",
   "execution_count": 136,
   "metadata": {},
   "outputs": [
    {
     "data": {
      "text/plain": [
       "[('platform', 'string'),\n",
       " ('source_id', 'string'),\n",
       " ('publisher_id', 'string'),\n",
       " ('topics_idf', 'vector'),\n",
       " ('categories_idf', 'vector'),\n",
       " ('avg_ctr_by_ad_id', 'double'),\n",
       " ('avg_ctr_by_campaign_id', 'double'),\n",
       " ('avg_ctr_by_document_id', 'double'),\n",
       " ('avg_ctr_by_advertiser_id', 'double'),\n",
       " ('country', 'string'),\n",
       " ('state', 'string'),\n",
       " ('doc_age', 'int'),\n",
       " ('session', 'string'),\n",
       " ('ad_id', 'int'),\n",
       " ('display_id', 'int'),\n",
       " ('is_train', 'int'),\n",
       " ('clicked', 'int'),\n",
       " ('platform_index', 'double'),\n",
       " ('source_id_index', 'double'),\n",
       " ('publisher_id_index', 'double'),\n",
       " ('country_index', 'double'),\n",
       " ('state_index', 'double'),\n",
       " ('session_index', 'double'),\n",
       " ('country_vec', 'vector'),\n",
       " ('session_vec', 'vector'),\n",
       " ('source_id_vec', 'vector'),\n",
       " ('state_vec', 'vector'),\n",
       " ('publisher_id_vec', 'vector'),\n",
       " ('platform_vec', 'vector'),\n",
       " ('features', 'vector')]"
      ]
     },
     "execution_count": 136,
     "metadata": {},
     "output_type": "execute_result"
    }
   ],
   "source": [
    "df_vectorized = vector_assembler.transform(df_ohe)\n",
    "df_vectorized.dtypes"
   ]
  },
  {
   "cell_type": "code",
   "execution_count": 137,
   "metadata": {},
   "outputs": [
    {
     "name": "stdout",
     "output_type": "stream",
     "text": [
      "root\n",
      " |-- display_id: integer (nullable = true)\n",
      " |-- ad_id: integer (nullable = true)\n",
      " |-- clicked: integer (nullable = true)\n",
      " |-- features: vector (nullable = true)\n",
      "\n"
     ]
    }
   ],
   "source": [
    "df_train, df_test = df_vectorized.filter(\"is_train = 1\").select(\"display_id\", \"ad_id\", \"clicked\", \"features\")\\\n",
    ".randomSplit(weights=[0.7, 0.3], seed = 1)\n",
    "\n",
    "cache_df(df_train, \"df_train\")\n",
    "df_train.printSchema()"
   ]
  },
  {
   "cell_type": "code",
   "execution_count": 138,
   "metadata": {},
   "outputs": [
    {
     "data": {
      "text/plain": [
       "60993108"
      ]
     },
     "execution_count": 138,
     "metadata": {},
     "output_type": "execute_result"
    }
   ],
   "source": [
    "df_train.count()"
   ]
  },
  {
   "cell_type": "code",
   "execution_count": 139,
   "metadata": {},
   "outputs": [
    {
     "name": "stdout",
     "output_type": "stream",
     "text": [
      "Coefficients: (6487,[397,398],[2.01186440125852,0.5053783000313586])\n",
      "Intercept: -1.8179425814912373\n",
      "objectiveHistory:\n",
      "0.49149536243626407\n",
      "0.49071853085585954\n",
      "0.4900603897242247\n",
      "0.4896705177876703\n",
      "0.4894437534510252\n",
      "0.4892235342895401\n",
      "0.48764606194710963\n",
      "0.4862003489762839\n",
      "0.4857844848265789\n",
      "0.4856612186190992\n",
      "0.4856568026282702\n",
      "+--------------------+--------------------+\n",
      "|                 FPR|                 TPR|\n",
      "+--------------------+--------------------+\n",
      "|                 0.0|                 0.0|\n",
      "|                 0.0|6.036929653642272E-4|\n",
      "|2.155515447772598...|0.002933383992409266|\n",
      "|0.003406796130165561|0.024339891245529235|\n",
      "|0.006615059548020476|  0.0423301278599859|\n",
      "|0.007392984890123408|0.046380906811004395|\n",
      "|0.011738378780732616| 0.06657816566736899|\n",
      "| 0.01268628911616994| 0.07072520024896091|\n",
      "|0.018890151712013213| 0.09525413179622319|\n",
      "|0.019317920167727202| 0.09679710024198514|\n",
      "| 0.02547930684837005|  0.1194485813765588|\n",
      "| 0.03375214707719751| 0.14759594578395258|\n",
      "| 0.04134797530386444| 0.17088464427237515|\n",
      "| 0.04158491730474072| 0.17156673012596366|\n",
      "| 0.04967203469515713| 0.19500239411542006|\n",
      "| 0.05529973762938278| 0.20996028206540032|\n",
      "| 0.05535374243109284| 0.21012214729464956|\n",
      "| 0.06314121043792445|  0.2298204345708912|\n",
      "| 0.06322376295861076|  0.2300147236405183|\n",
      "| 0.07142696220631738|  0.2504988022650296|\n",
      "+--------------------+--------------------+\n",
      "only showing top 20 rows\n",
      "\n",
      "areaUnderROC: 0.7220436034660719\n"
     ]
    }
   ],
   "source": [
    "from pyspark.ml.classification import LogisticRegression\n",
    "lr = LogisticRegression(maxIter=10, regParam=0.1, elasticNetParam=0.8, featuresCol=\"features\", labelCol=\"clicked\")\n",
    "\n",
    "lrModel = lr.fit(df_train)\n",
    "\n",
    "print(\"Coefficients: \" + str(lrModel.coefficients))\n",
    "print(\"Intercept: \" + str(lrModel.intercept))\n",
    "\n",
    "trainingSummary = lrModel.summary\n",
    "objectiveHistory = trainingSummary.objectiveHistory\n",
    "print(\"objectiveHistory:\")\n",
    "for objective in objectiveHistory:\n",
    "    print(objective)\n",
    "\n",
    "# Obtain the receiver-operating characteristic as a dataframe and areaUnderROC.\n",
    "trainingSummary.roc.show()\n",
    "print(\"areaUnderROC: \" + str(trainingSummary.areaUnderROC))"
   ]
  },
  {
   "cell_type": "code",
   "execution_count": 140,
   "metadata": {},
   "outputs": [
    {
     "name": "stdout",
     "output_type": "stream",
     "text": [
      "False positive rate by label:\n",
      "label 0: 0.9992980196229421\n",
      "label 1: 3.049969976095555e-07\n",
      "True positive rate by label:\n",
      "label 0: 0.9999996950030023\n",
      "label 1: 0.0007019803770579403\n",
      "Precision by label:\n",
      "label 0: 0.8064435104084376\n",
      "label 1: 0.9981942939689419\n",
      "Recall by label:\n",
      "label 0: 0.9999996950030023\n",
      "label 1: 0.0007019803770579403\n",
      "F-measure by label:\n",
      "label 0: 0.8928520553868292\n",
      "label 1: 0.0014029741122343758\n",
      "Accuracy: 0.8064696260436507\n",
      "FPR: 0.8057679506635904\n",
      "TPR: 0.8064696260436507\n",
      "F-measure: 0.7202086082461527\n",
      "Precision: 0.843579132578218\n",
      "Recall: 0.8064696260436507\n"
     ]
    }
   ],
   "source": [
    "# for multiclass, we can inspect metrics on a per-label basis\n",
    "print(\"False positive rate by label:\")\n",
    "for i, rate in enumerate(trainingSummary.falsePositiveRateByLabel):\n",
    "    print(\"label %d: %s\" % (i, rate))\n",
    "\n",
    "print(\"True positive rate by label:\")\n",
    "for i, rate in enumerate(trainingSummary.truePositiveRateByLabel):\n",
    "    print(\"label %d: %s\" % (i, rate))\n",
    "\n",
    "print(\"Precision by label:\")\n",
    "for i, prec in enumerate(trainingSummary.precisionByLabel):\n",
    "    print(\"label %d: %s\" % (i, prec))\n",
    "\n",
    "print(\"Recall by label:\")\n",
    "for i, rec in enumerate(trainingSummary.recallByLabel):\n",
    "    print(\"label %d: %s\" % (i, rec))\n",
    "\n",
    "print(\"F-measure by label:\")\n",
    "for i, f in enumerate(trainingSummary.fMeasureByLabel()):\n",
    "    print(\"label %d: %s\" % (i, f))\n",
    "\n",
    "accuracy = trainingSummary.accuracy\n",
    "falsePositiveRate = trainingSummary.weightedFalsePositiveRate\n",
    "truePositiveRate = trainingSummary.weightedTruePositiveRate\n",
    "fMeasure = trainingSummary.weightedFMeasure()\n",
    "precision = trainingSummary.weightedPrecision\n",
    "recall = trainingSummary.weightedRecall\n",
    "print(\"Accuracy: %s\\nFPR: %s\\nTPR: %s\\nF-measure: %s\\nPrecision: %s\\nRecall: %s\"\n",
    "      % (accuracy, falsePositiveRate, truePositiveRate, fMeasure, precision, recall))"
   ]
  },
  {
   "cell_type": "code",
   "execution_count": 142,
   "metadata": {},
   "outputs": [],
   "source": [
    "lrModel.write().overwrite().save(base_path + \"lrModel\")"
   ]
  },
  {
   "cell_type": "code",
   "execution_count": 143,
   "metadata": {},
   "outputs": [],
   "source": [
    "from pyspark.ml.evaluation import MulticlassClassificationEvaluator"
   ]
  },
  {
   "cell_type": "code",
   "execution_count": null,
   "metadata": {},
   "outputs": [
    {
     "name": "stdout",
     "output_type": "stream",
     "text": [
      "+----------+-------+--------------------+\n",
      "|prediction|clicked|            features|\n",
      "+----------+-------+--------------------+\n",
      "|       0.0|      1|(6487,[20,97,241,...|\n",
      "|       0.0|      0|(6487,[8,56,93,10...|\n",
      "|       0.0|      0|(6487,[183,199,30...|\n",
      "|       0.0|      0|(6487,[71,199,229...|\n",
      "|       0.0|      0|(6487,[16,29,65,1...|\n",
      "+----------+-------+--------------------+\n",
      "only showing top 5 rows\n",
      "\n"
     ]
    }
   ],
   "source": [
    "# Make predictions.\n",
    "predictions = lrModel.transform(df_test)\n",
    "\n",
    "# Select example rows to display.\n",
    "predictions.select(\"prediction\", \"clicked\", \"features\").show(5)\n",
    "\n",
    "# Select (prediction, true label) and compute test error\n",
    "evaluator = MulticlassClassificationEvaluator(\n",
    "    labelCol=\"clicked\", predictionCol=\"prediction\", metricName=\"accuracy\")\n",
    "accuracy = evaluator.evaluate(predictions)\n",
    "print(\"Accuracy = %g \" % (accuracy))"
   ]
  },
  {
   "cell_type": "code",
   "execution_count": null,
   "metadata": {},
   "outputs": [],
   "source": []
  }
 ],
 "metadata": {
  "kernelspec": {
   "display_name": "Python 3",
   "language": "python",
   "name": "python3"
  },
  "language_info": {
   "codemirror_mode": {
    "name": "ipython",
    "version": 3
   },
   "file_extension": ".py",
   "mimetype": "text/x-python",
   "name": "python",
   "nbconvert_exporter": "python",
   "pygments_lexer": "ipython3",
   "version": "3.6.6"
  }
 },
 "nbformat": 4,
 "nbformat_minor": 2
}
