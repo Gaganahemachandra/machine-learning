{
 "cells": [
  {
   "cell_type": "code",
   "execution_count": 1,
   "metadata": {
    "collapsed": true
   },
   "outputs": [],
   "source": [
    "import tensorflow as tf\n",
    "import pandas as pd\n",
    "import numpy as np\n",
    "import matplotlib.pyplot as plt\n",
    "from glob import glob\n",
    "\n",
    "from sklearn.preprocessing import StandardScaler\n",
    "from sklearn.linear_model import LinearRegression\n",
    "from sklearn.model_selection import train_test_split\n",
    "\n",
    "%matplotlib inline"
   ]
  },
  {
   "cell_type": "code",
   "execution_count": 2,
   "metadata": {},
   "outputs": [
    {
     "name": "stdout",
     "output_type": "stream",
     "text": [
      "hw:  Tensor(\"add:0\", shape=(), dtype=string)\n",
      "b'HelloWorld'\n"
     ]
    }
   ],
   "source": [
    "h = tf.constant(\"Hello\")\n",
    "w = tf.constant(\"World\")\n",
    "hw = h + w\n",
    "print(\"hw: \", hw)\n",
    "with tf.Session() as session:\n",
    "    ans = session.run(hw)\n",
    "    print(ans)"
   ]
  },
  {
   "cell_type": "code",
   "execution_count": 3,
   "metadata": {},
   "outputs": [
    {
     "data": {
      "text/plain": [
       "b'HelloWorld'"
      ]
     },
     "execution_count": 3,
     "metadata": {},
     "output_type": "execute_result"
    }
   ],
   "source": [
    "session = tf.Session()\n",
    "session.run(hw)"
   ]
  },
  {
   "cell_type": "code",
   "execution_count": 4,
   "metadata": {},
   "outputs": [
    {
     "name": "stdout",
     "output_type": "stream",
     "text": [
      "f:  -3\n",
      "<tensorflow.python.framework.ops.Graph object at 0x119cfcef0>\n",
      "<tensorflow.python.framework.ops.Graph object at 0x119ce6c18>\n",
      "<tensorflow.python.framework.ops.Graph object at 0x119ce6c18>\n"
     ]
    }
   ],
   "source": [
    "a = tf.constant(5, name = \"a\")\n",
    "b = tf.constant(4)\n",
    "c = tf.constant(3)\n",
    "\n",
    "d = tf.multiply(a, b)\n",
    "e = tf.add(c, d)\n",
    "f = tf.subtract(d, e)\n",
    "\n",
    "print(\"f: \", session.run(f))\n",
    "print(tf.Graph())\n",
    "print(tf.get_default_graph())\n",
    "print(f.graph)"
   ]
  },
  {
   "cell_type": "code",
   "execution_count": 5,
   "metadata": {},
   "outputs": [
    {
     "data": {
      "text/plain": [
       "(<tf.Tensor 'a:0' shape=() dtype=int32>,\n",
       " <tf.Tensor 'Const_2:0' shape=() dtype=int32>)"
      ]
     },
     "execution_count": 5,
     "metadata": {},
     "output_type": "execute_result"
    }
   ],
   "source": [
    "a, b \n",
    "# The name of the Tensor object is simply the name of its corresponding operation \n",
    "# (concatenated with a colon), followed by the index of that tensor in the outputs of the \n",
    "# operation that produced it —it is possible to have more than one.\n",
    "# Objects residing within the same graph cannot have the same name\n",
    "# As a consequence, it will automatically add an underscore and a number to distinguish the two. \n",
    "# However, both objects can have the same name when they are associated with different graphs"
   ]
  },
  {
   "cell_type": "code",
   "execution_count": 6,
   "metadata": {},
   "outputs": [
    {
     "name": "stdout",
     "output_type": "stream",
     "text": [
      "True\n",
      "False True\n",
      "True\n"
     ]
    }
   ],
   "source": [
    "g1 = tf.get_default_graph()\n",
    "g2 = tf.Graph()\n",
    "print(g1 is tf.get_default_graph())\n",
    "with g2.as_default():\n",
    "    print(g1 is tf.get_default_graph(), g2 is tf.get_default_graph())\n",
    "print(g1 is tf.get_default_graph())"
   ]
  },
  {
   "cell_type": "code",
   "execution_count": 7,
   "metadata": {
    "collapsed": true
   },
   "outputs": [],
   "source": [
    "g1 = tf.Graph()\n",
    "g2 = tf.Graph()\n",
    "with g1.as_default():\n",
    "    c1 = tf.constant(4.0)\n",
    "\n",
    "with g2.as_default():\n",
    "    c2 = tf.constant(2.0)\n",
    "\n",
    "# c = c1 + c2\n",
    "# session.run(c)"
   ]
  },
  {
   "cell_type": "code",
   "execution_count": 8,
   "metadata": {},
   "outputs": [
    {
     "data": {
      "text/plain": [
       "<tf.Tensor '3/Const:0' shape=() dtype=float32>"
      ]
     },
     "execution_count": 8,
     "metadata": {},
     "output_type": "execute_result"
    }
   ],
   "source": [
    "# Group variable with name scope\n",
    "with tf.name_scope(\"3\"):\n",
    "    c1 = tf.constant(4.0)\n",
    "c1\n",
    "    "
   ]
  },
  {
   "cell_type": "code",
   "execution_count": 9,
   "metadata": {},
   "outputs": [
    {
     "data": {
      "text/plain": [
       "[5, 4, 3, 20, 23, -3]"
      ]
     },
     "execution_count": 9,
     "metadata": {},
     "output_type": "execute_result"
    }
   ],
   "source": [
    "fetchers = [a, b, c, d, e, f]\n",
    "session.run(fetchers)"
   ]
  },
  {
   "cell_type": "code",
   "execution_count": 10,
   "metadata": {},
   "outputs": [
    {
     "data": {
      "text/plain": [
       "<tf.Tensor 'Const_4:0' shape=(2, 3) dtype=int32>"
      ]
     },
     "execution_count": 10,
     "metadata": {},
     "output_type": "execute_result"
    }
   ],
   "source": [
    "c = tf.constant([[1, 2, 3], [4, 5, 6]])\n",
    "c"
   ]
  },
  {
   "cell_type": "code",
   "execution_count": 11,
   "metadata": {},
   "outputs": [
    {
     "data": {
      "text/plain": [
       "<tf.Tensor 'Const_5:0' shape=(2, 3) dtype=int64>"
      ]
     },
     "execution_count": 11,
     "metadata": {},
     "output_type": "execute_result"
    }
   ],
   "source": [
    "c = tf.constant(np.array([[1, 2, 3], [4, 5, 6]]))\n",
    "c"
   ]
  },
  {
   "cell_type": "code",
   "execution_count": 12,
   "metadata": {},
   "outputs": [
    {
     "data": {
      "text/plain": [
       "tf.float64"
      ]
     },
     "execution_count": 12,
     "metadata": {},
     "output_type": "execute_result"
    }
   ],
   "source": [
    "c = tf.constant(4, dtype='float64')\n",
    "c.dtype"
   ]
  },
  {
   "cell_type": "markdown",
   "metadata": {},
   "source": [
    "# Primitive Data Types\n",
    "- DT_FLOAT\ttf.float32\t32 bits floating point.\n",
    "- DT_DOUBLE\ttf.float64\t64 bits floating point.\n",
    "- DT_INT8\ttf.int8\t8 bits signed integer.\n",
    "- DT_INT16\ttf.int16\t16 bits signed integer.\n",
    "- DT_INT32\ttf.int32\t32 bits signed integer.\n",
    "- DT_INT64\ttf.int64\t64 bits signed integer.\n",
    "- DT_UINT8\ttf.uint8\t8 bits unsigned integer.\n",
    "- DT_UINT16\ttf.uint16\t16 bits unsigned integer.\n",
    "- DT_STRING\ttf.string\tVariable length byte arrays. Each element of a Tensor is a byte array.\n",
    "- DT_BOOL\ttf.bool\tBoolean.\n",
    "- DT_COMPLEX64\ttf.complex64\tComplex number made of two 32 bits floating points: real and imaginary parts.\n",
    "- DT_COMPLEX128\ttf.complex128\tComplex number made of two 64 bits floating points: real and imaginary parts.\n",
    "- DT_QINT8\ttf.qint8\t8 bits signed integer used in quantized Ops.\n",
    "- DT_QINT32\ttf.qint32\t32 bits signed integer used in quantized Ops.\n",
    "- DT_QUINT8\ttf.quint8\t8 bits unsigned integer used in quantized Ops.\n",
    "\n"
   ]
  },
  {
   "cell_type": "markdown",
   "metadata": {},
   "source": [
    "### TensorFlow operation\tDescription\n",
    "- tf.constant(value)\tCreates a tensor populated with values of as specified by arguments “value”\n",
    "- tf.fill(shape,value)\tCreates a tensor of shape “shape\" and fills it with “value\" \n",
    "- tf.zeros(shape)\tReturns a tensor of shape “shape” and all elements set to zero\n",
    "- tf.zeros_like(tensor)\tReturns a tensor of the same type and shape as “tensor\" with all elements set to zero\n",
    "- tf.ones(shape)\tReturns a tensor of shape “shape\" and all elements set to 1\n",
    "- tf.ones_like(tensor)\tReturns a tensor of the same type and shape as “tensor\" with all elements set to 1"
   ]
  },
  {
   "cell_type": "code",
   "execution_count": 13,
   "metadata": {},
   "outputs": [
    {
     "data": {
      "text/plain": [
       "array([[ 1.,  1.,  1.],\n",
       "       [ 1.,  1.,  1.],\n",
       "       [ 1.,  1.,  1.],\n",
       "       [ 1.,  1.,  1.]], dtype=float32)"
      ]
     },
     "execution_count": 13,
     "metadata": {},
     "output_type": "execute_result"
    }
   ],
   "source": [
    "c = tf.ones((4, 3))\n",
    "session.run(c)"
   ]
  },
  {
   "cell_type": "code",
   "execution_count": 14,
   "metadata": {},
   "outputs": [
    {
     "data": {
      "text/plain": [
       "array([[1, 1, 1],\n",
       "       [1, 1, 1],\n",
       "       [1, 1, 1],\n",
       "       [1, 1, 1]], dtype=int32)"
      ]
     },
     "execution_count": 14,
     "metadata": {},
     "output_type": "execute_result"
    }
   ],
   "source": [
    "c = tf.fill((4, 3), 1)\n",
    "session.run(c)"
   ]
  },
  {
   "cell_type": "markdown",
   "metadata": {},
   "source": [
    "TensorFlow operation\tDescription\n",
    "- tf.random_normal(shape, mean, stddev)\tOutputs random values from a normal distribution\n",
    "- tf.truncated_normal(shape, mean, stddev)\tOutputs random values from a truncated normal distribution (values whose  magnitude is more than 2 standard deviations from the mean are dropped and re-picked).\n",
    "- tf.random_uniform(shape, minval, maxval)\tGenerated values from a uniform distribution in the range [minval, maxval)\n",
    "- tf.random_shuffle(tensor)\tRandomly shuffles a tensor along its first dimension\n",
    "- tf.random_crop(tensor, shape)\tSlices a shape “shape” portion out of “tensor\" at a uniformly chosen offset\n",
    "- tf.multinomial(logits, n_samples)\tDraws samples from a multinomial distribution\n",
    "- tf.random_gamma(shape,alpha,beta)\tDraws “shape\" samples from each of the given Gamma distribution(s)\n"
   ]
  },
  {
   "cell_type": "code",
   "execution_count": 15,
   "metadata": {},
   "outputs": [
    {
     "data": {
      "text/plain": [
       "array([[ 0.96174979,  0.44918132,  0.51270759],\n",
       "       [ 0.83489168,  0.54734325,  0.80996978],\n",
       "       [ 0.71889913,  0.39656377,  0.95373368],\n",
       "       [ 0.93378425,  0.04777336,  0.07103348]], dtype=float32)"
      ]
     },
     "execution_count": 15,
     "metadata": {},
     "output_type": "execute_result"
    }
   ],
   "source": [
    "c = tf.random_uniform((4, 3), seed=100)\n",
    "session.run(c)"
   ]
  },
  {
   "cell_type": "code",
   "execution_count": 16,
   "metadata": {},
   "outputs": [
    {
     "data": {
      "text/plain": [
       "array([[ 0.02630099, -0.07955143, -0.298599  ],\n",
       "       [ 0.17631671, -0.30626023,  0.12118966],\n",
       "       [ 0.14748672, -0.19404596, -0.03731908],\n",
       "       [ 0.08446319,  0.31936881,  0.66740936]], dtype=float32)"
      ]
     },
     "execution_count": 16,
     "metadata": {},
     "output_type": "execute_result"
    }
   ],
   "source": [
    "c = tf.random_normal((4, 3), mean=0, stddev=0.3, seed=100)\n",
    "session.run(c)"
   ]
  },
  {
   "cell_type": "code",
   "execution_count": 17,
   "metadata": {},
   "outputs": [
    {
     "name": "stdout",
     "output_type": "stream",
     "text": [
      "(5,)\n"
     ]
    },
    {
     "data": {
      "text/plain": [
       "(array([ 0.2       ,  0.22500001,  0.25      ,  0.27500001,  0.30000001], dtype=float32),)"
      ]
     },
     "execution_count": 17,
     "metadata": {},
     "output_type": "execute_result"
    }
   ],
   "source": [
    "c = tf.linspace(0.2, 0.3, 5)\n",
    "print(c.get_shape())\n",
    "session.run(c), "
   ]
  },
  {
   "cell_type": "code",
   "execution_count": 18,
   "metadata": {},
   "outputs": [
    {
     "name": "stdout",
     "output_type": "stream",
     "text": [
      "(19,)\n"
     ]
    },
    {
     "data": {
      "text/plain": [
       "array([ 0.40000001,  0.64999998,  0.89999998,  1.14999998,  1.39999998,\n",
       "        1.64999998,  1.89999998,  2.1500001 ,  2.4000001 ,  2.6500001 ,\n",
       "        2.9000001 ,  3.1500001 ,  3.4000001 ,  3.6500001 ,  3.9000001 ,\n",
       "        4.1500001 ,  4.4000001 ,  4.6500001 ,  4.9000001 ], dtype=float32)"
      ]
     },
     "execution_count": 18,
     "metadata": {},
     "output_type": "execute_result"
    }
   ],
   "source": [
    "c = tf.range(0.4, 5.0, 0.25)\n",
    "print(c.get_shape())\n",
    "session.run(c)"
   ]
  },
  {
   "cell_type": "code",
   "execution_count": 19,
   "metadata": {},
   "outputs": [
    {
     "data": {
      "text/plain": [
       "array([[ 0.9999913 ],\n",
       "       [ 0.14483425],\n",
       "       [ 0.99418771],\n",
       "       [ 0.55156505],\n",
       "       [ 0.99135911]], dtype=float32)"
      ]
     },
     "execution_count": 19,
     "metadata": {},
     "output_type": "execute_result"
    }
   ],
   "source": [
    "X = tf.random_normal((5, 10), mean = 0.0, stddev = 1.0, seed = 0)\n",
    "w = tf.random_normal((10, 1), mean = 0.0, stddev = 1.0, seed = 0)\n",
    "b = tf.fill((5, 1), 1.0)\n",
    "s = tf.sigmoid(tf.matmul(X, w) - b)\n",
    "session.run(s)"
   ]
  },
  {
   "cell_type": "markdown",
   "metadata": {},
   "source": [
    "TensorFlow operator\tShortcut\tDescription\n",
    "- tf.add()\ta + b\tAdd a and b, element-wise\n",
    "- tf.mul()\ta * b\tMultiply a and b, element-wise\n",
    "- tf.sub()\ta - b\tSubtract a from b, element-wise\n",
    "- tf.div()\ta / b\tWill perform element-wise integer division when given an integer type tensor, and floatingpoint (“true”) division on floating point tensors\n",
    "- tf.pow()\ta ** b\tThe result of raising each element in a to its corresponding element b, element-wise\n",
    "- tf.mod()\ta % b\tElement-wise modulo\n",
    "- tf.logical_and()\ta & b\tReturns the truth table of a & b, element-wise. dtype must be tf.bool\n",
    "- tf.greater()\ta > b\tReturns the truth table of a > b, element-wise\n",
    "- tf.greater_equal()\ta >= b\tReturns the truth table of a >= b, element-wise\n",
    "- tf.less_equal()\ta <= b\tReturns the truth table of a <= b , element-wise\n",
    "- tf.less()\ta < b\tReturns the truth table of a < b, element-wise\n",
    "- tf.neg()\t-a\tReturns the negative value of each element in a\n",
    "- tf.logical_not()\t~a\tReturns the logical NOT of each element in a. Only compatible with Tensor objectswith dtype of - tf.bool\n",
    "- tf.abs()\tabs(a)\tReturns the absolute value of each element in a\n",
    "- tf.logical_or()\ta | b\tReturns the truth table of a | b, element-wise. dtype must be tf.bool"
   ]
  },
  {
   "cell_type": "markdown",
   "metadata": {},
   "source": [
    "# Variable \n",
    "\n",
    "During the optimization process, tuning the weights of the model by iterative updates requires that their current state be maintained. For that purpose, TensorFlow uses special objects called “Variables”. Variables, unlike other Tensor objects that are “refilled” across calls to run(), can maintain a fixed state in the graph. Like other Tensors, Variables can be used as input for other operations in the graph.\n",
    "\n",
    "Using Variables is done in two stages: (1) we call the tf.Variable() function in order to create a Variable, and define what value it will be initialized with and (2) we then have to explicitly perform an initialization operation by running the session with the tf.initialize_all_variables() method, which allocates the memory for the variable and sets the initial value as defined in (1).\n",
    "\n",
    "Like with other Tensor objects, Variables are only computed when the model runs, as we can see in the following example:\n"
   ]
  },
  {
   "cell_type": "code",
   "execution_count": 20,
   "metadata": {},
   "outputs": [
    {
     "data": {
      "text/plain": [
       "75"
      ]
     },
     "execution_count": 20,
     "metadata": {},
     "output_type": "execute_result"
    }
   ],
   "source": [
    "c = tf.constant(15, name = \"c\")\n",
    "x = tf.Variable(c * 5, name = \"x\")\n",
    "init = tf.global_variables_initializer()\n",
    "session.run(init)\n",
    "session.run(x)"
   ]
  },
  {
   "cell_type": "markdown",
   "metadata": {},
   "source": [
    "# Placeholder\n",
    "\n",
    "TensorFlow has designated built-in structures for feeding input values. These structures are called placeholders. Placeholders can be thought of as empty variables that will be filled with data later on. We use them by first constructing our graph and only when it is executed feed them with the input data.\n",
    "\n",
    "Placeholders have three arguments we are already familiarized with: dtype for the type of data that will be inserted to them and two optional arguments — shape and name. If a shape is not fed, then the placeholder can be fed with data of any size. This is also the same as placing ‘None’ for a shape. We can also place ‘None’ for specific dimensions we are not sure about their length —for example, it is very common to use only for the rows dimension of a matrix, corresponding to the number of samples, while having the length of the columns (features) fixed. We feed the input values when running the session, just after stating what outputs we want to evaluate.\n",
    "\n",
    "Whenever we define a placeholder, we must feed it with some input values or else an exception will be thrown. The input data is given as a dictionary, where each key corresponds to a placeholder variable name, and the matching values are the data values given in the form of a list or a numpy array.\n"
   ]
  },
  {
   "cell_type": "code",
   "execution_count": 21,
   "metadata": {},
   "outputs": [
    {
     "data": {
      "text/plain": [
       "array([[ 0.47509262],\n",
       "       [ 0.85446632],\n",
       "       [ 0.98846275],\n",
       "       [ 0.08118481],\n",
       "       [ 0.03112454]], dtype=float32)"
      ]
     },
     "execution_count": 21,
     "metadata": {},
     "output_type": "execute_result"
    }
   ],
   "source": [
    "X_data = np.random.randn(5, 10)\n",
    "w_data = np.random.randn(10, 1)\n",
    "\n",
    "X = tf.placeholder(\"float32\", shape=(5, 10))\n",
    "w = tf.placeholder(\"float32\", shape=(10, 1))\n",
    "b = tf.fill((5, 1), - 1.0)\n",
    "s = tf.sigmoid(tf.matmul(X, w) + b)\n",
    "\n",
    "session.run(s, feed_dict={X: X_data, w: w_data})"
   ]
  },
  {
   "cell_type": "code",
   "execution_count": 22,
   "metadata": {},
   "outputs": [
    {
     "data": {
      "text/plain": [
       "6.4000001"
      ]
     },
     "execution_count": 22,
     "metadata": {},
     "output_type": "execute_result"
    }
   ],
   "source": [
    "r = tf.constant([3, 4, 5, 9, 11], dtype=\"float32\")\n",
    "mean = tf.reduce_mean(r)\n",
    "session.run(mean)"
   ]
  },
  {
   "cell_type": "markdown",
   "metadata": {},
   "source": [
    "# Linear rergession using gradient descent\n",
    "\n",
    "Create synthetic data"
   ]
  },
  {
   "cell_type": "code",
   "execution_count": 23,
   "metadata": {},
   "outputs": [
    {
     "name": "stdout",
     "output_type": "stream",
     "text": [
      "X_data shape:  (2000, 3) w_real shape:  (3,) noise shape:  (2000,)\n",
      "y_real shape:  (2000,)\n"
     ]
    }
   ],
   "source": [
    "m, d = 2000, 3\n",
    "X_data = np.random.rand(m, d)\n",
    "w_real = np.array([0.3, 0.5, 0.1])\n",
    "b_real = - 0.2\n",
    "noise = np.random.randn(m) * 0.1\n",
    "print(\"X_data shape: \", X_data.shape, \"w_real shape: \", w_real.shape, \"noise shape: \", noise.shape)\n",
    "y_real = np.dot(X_data, w_real) + b_real + noise\n",
    "print(\"y_real shape: \", y_real.shape)"
   ]
  },
  {
   "cell_type": "code",
   "execution_count": 24,
   "metadata": {},
   "outputs": [
    {
     "name": "stdout",
     "output_type": "stream",
     "text": [
      "y_pred shape:  (1, 2000) y_true shape:  (2000,)\n",
      "0 [array([[ 0.14881091,  0.17191711,  0.13559331]], dtype=float32), 0.25392282]\n",
      "10 [array([[ 0.17081381,  0.29782242,  0.05602834]], dtype=float32), 0.019118769]\n",
      "20 [array([[ 0.21455026,  0.38631737,  0.0575358 ]], dtype=float32), -0.070449367]\n",
      "30 [array([[ 0.24481702,  0.43584663,  0.06994845]], dtype=float32), -0.12093662]\n",
      "40 [array([[ 0.2640135 ,  0.46346608,  0.08147039]], dtype=float32), -0.15187532]\n",
      "50 [array([[ 0.27601552,  0.47924379,  0.09010312]], dtype=float32), -0.17107661]\n",
      "60 [array([[ 0.28349355,  0.48846957,  0.09606083]], dtype=float32), -0.18300961]\n",
      "70 [array([[ 0.28814632,  0.49396291,  0.10000386]], dtype=float32), -0.19042432]\n",
      "80 [array([[ 0.29103905,  0.4972772 ,  0.1025518 ]], dtype=float32), -0.19503024]\n",
      "90 [array([[ 0.29283658,  0.49929538,  0.10417456]], dtype=float32), -0.19789082]\n",
      "100 [array([[ 0.29395321,  0.50053215,  0.10519879]], dtype=float32), -0.19966711]\n",
      "110 [array([[ 0.29464671,  0.50129324,  0.1058415 ]], dtype=float32), -0.20077007]\n",
      "120 [array([[ 0.29507735,  0.50176316,  0.10624332]], dtype=float32), -0.20145488]\n",
      "130 [array([[ 0.29534474,  0.50205362,  0.10649395]], dtype=float32), -0.20187998]\n",
      "140 [array([[ 0.29551074,  0.50223351,  0.10665   ]], dtype=float32), -0.20214389]\n",
      "150 [array([[ 0.2956138 ,  0.50234503,  0.10674706]], dtype=float32), -0.20230778]\n",
      "160 [array([[ 0.29567784,  0.50241417,  0.1068074 ]], dtype=float32), -0.20240948]\n",
      "170 [array([[ 0.2957176 ,  0.50245708,  0.10684488]], dtype=float32), -0.20247264]\n",
      "180 [array([[ 0.29574227,  0.50248367,  0.10686818]], dtype=float32), -0.20251183]\n",
      "190 [array([[ 0.29575753,  0.50250018,  0.10688265]], dtype=float32), -0.2025362]\n",
      "200 [array([[ 0.29576704,  0.50251049,  0.10689162]], dtype=float32), -0.20255132]\n",
      "210 [array([[ 0.29577297,  0.50251681,  0.10689718]], dtype=float32), -0.20256071]\n",
      "220 [array([[ 0.29577661,  0.5025208 ,  0.10690064]], dtype=float32), -0.20256655]\n",
      "230 [array([[ 0.2957789 ,  0.50252324,  0.1069028 ]], dtype=float32), -0.20257014]\n",
      "240 [array([[ 0.2957803 ,  0.50252473,  0.10690414]], dtype=float32), -0.20257239]\n",
      "250 [array([[ 0.29578117,  0.50252569,  0.10690497]], dtype=float32), -0.20257375]\n",
      "260 [array([[ 0.2957817 ,  0.50252628,  0.10690548]], dtype=float32), -0.20257463]\n",
      "270 [array([[ 0.29578206,  0.50252664,  0.10690582]], dtype=float32), -0.20257513]\n",
      "280 [array([[ 0.29578227,  0.50252694,  0.106906  ]], dtype=float32), -0.2025755]\n",
      "290 [array([[ 0.29578239,  0.50252694,  0.10690613]], dtype=float32), -0.20257567]\n"
     ]
    }
   ],
   "source": [
    "X = tf.placeholder(\"float32\", shape=[m, 3])\n",
    "y_true = tf.placeholder(\"float32\", shape = [m])\n",
    "b = tf.Variable(0, dtype=\"float32\")\n",
    "w = tf.Variable([[0, 0, 0]], dtype=\"float32\")\n",
    "y_pred = tf.matmul(w, tf.transpose(X)) + b\n",
    "\n",
    "print(\"y_pred shape: \", y_pred.get_shape(), \"y_true shape: \", y_true.get_shape())\n",
    "loss = tf.reduce_mean(tf.square(y_true - y_pred))\n",
    "optimizer = tf.train.GradientDescentOptimizer(learning_rate = 0.5)\n",
    "train = optimizer.minimize(loss)\n",
    "\n",
    "init = tf.global_variables_initializer()\n",
    "session.run(init)\n",
    "for step in range(300):\n",
    "    session.run(train, {X: X_data, y_true: y_real})\n",
    "    if step % 10 == 0:\n",
    "        print(step, session.run([w, b]))"
   ]
  },
  {
   "cell_type": "markdown",
   "metadata": {},
   "source": [
    "## Linear Regression on Power Plan data"
   ]
  },
  {
   "cell_type": "markdown",
   "metadata": {},
   "source": [
    "Load and normalize data"
   ]
  },
  {
   "cell_type": "code",
   "execution_count": 25,
   "metadata": {},
   "outputs": [
    {
     "name": "stdout",
     "output_type": "stream",
     "text": [
      "<class 'pandas.core.frame.DataFrame'>\n",
      "RangeIndex: 47840 entries, 0 to 47839\n",
      "Data columns (total 5 columns):\n",
      "AT    47840 non-null float64\n",
      "V     47840 non-null float64\n",
      "AP    47840 non-null float64\n",
      "RH    47840 non-null float64\n",
      "PE    47840 non-null float64\n",
      "dtypes: float64(5)\n",
      "memory usage: 1.8 MB\n",
      "None\n",
      "(47840, 4) (47840,)\n",
      "Feature length of X:  4\n",
      "454.365009197 [-14.73483576  -2.97385317   0.36894405  -2.3069636 ]\n"
     ]
    }
   ],
   "source": [
    "dataset = pd.read_csv(\"data/Combined_Cycle_Power_Plant.csv\")\n",
    "m = dataset.shape[0]\n",
    "\n",
    "print(dataset.info())\n",
    "X_data = dataset.iloc[:, :-1].values\n",
    "y_real = dataset.iloc[:, -1].values\n",
    "print(X_data.shape, y_real.shape)\n",
    "\n",
    "n_x = X_data.shape[1]\n",
    "print(\"Feature length of X: \", n_x)\n",
    "\n",
    "X_data = StandardScaler().fit_transform(X_data)\n",
    "lr = LinearRegression()\n",
    "lr.fit(X_data, y_real)\n",
    "print(lr.intercept_, lr.coef_)"
   ]
  },
  {
   "cell_type": "code",
   "execution_count": 26,
   "metadata": {
    "scrolled": false
   },
   "outputs": [
    {
     "name": "stdout",
     "output_type": "stream",
     "text": [
      "0 [[-18.26697731 -15.64158535 -17.0507431   23.33609772]] 44.3908\n",
      "25 [[-10.29212093  -6.42816639   0.76474273  -0.63358909]] 452.67\n",
      "50 [[-12.0513792   -4.97075415   0.86351836  -1.43572986]] 454.359\n",
      "75 [[-13.13473034  -4.15892458   0.66968691  -1.78544128]] 454.365\n",
      "100 [[-13.78120422  -3.67973304   0.54846376  -1.99595225]] 454.365\n",
      "125 [[-14.1662569   -3.39460778   0.47601151  -2.12149763]] 454.365\n",
      "150 [[-14.39556217  -3.22482657   0.43285197  -2.19627142]] 454.365\n",
      "175 [[-14.53211689  -3.12371993   0.40714893  -2.24080086]] 454.365\n",
      "199 [[-14.61092854  -3.06536698   0.39231461  -2.26650047]] 454.365\n"
     ]
    },
    {
     "data": {
      "image/png": "[encoded data removed]",
      "text/plain": [
       "<matplotlib.figure.Figure at 0x11e32cdd8>"
      ]
     },
     "metadata": {},
     "output_type": "display_data"
    }
   ],
   "source": [
    "tf.reset_default_graph()\n",
    "\n",
    "logdir = \"logs\"\n",
    "file_writer = tf.summary.FileWriter(logdir, tf.get_default_graph())\n",
    "\n",
    "X = tf.placeholder(tf.float32, shape=[n_x, m], name=\"X\")\n",
    "y = tf.placeholder(tf.float32, shape=[m], name = \"y\")\n",
    "W = tf.Variable(tf.truncated_normal([1, n_x], stddev=0.1), name = \"W\")\n",
    "b = tf.Variable(0, dtype=tf.float32, name=\"b\")\n",
    "y_pred = tf.maximum(tf.matmul(W, X) + b, 0, name=\"relu\")\n",
    "mse = tf.reduce_mean(tf.square(y - y_pred))\n",
    "reg_penalty = tf.reduce_sum(tf.square(W)) / m\n",
    "cost = mse + 1.0 * reg_penalty\n",
    "cost_summary = tf.summary.scalar(\"cost\", cost)\n",
    "\n",
    "optimizer = tf.train.GradientDescentOptimizer(learning_rate = 0.1)\n",
    "train = optimizer.minimize(cost)\n",
    "\n",
    "with tf.Session() as session:\n",
    "\n",
    "    init = tf.global_variables_initializer()\n",
    "    session.run(init)\n",
    "\n",
    "    epochs, costs = 200, []\n",
    "\n",
    "    for epoch in range(epochs):\n",
    "        _, c_, w_, b_, cs_ = session.run([train, cost, W, b, cost_summary], {X: X_data.T, y: y_real})\n",
    "        costs.append(c_)\n",
    "        file_writer.add_summary(cs_, step)\n",
    "        if epoch % 25 == 0 or epoch == epochs - 1:\n",
    "            print(epoch, w_, b_)\n",
    "\n",
    "    pd.Series(costs).plot()\n",
    "    plt.title(\"Cost decay\")\n",
    "    plt.xlabel(\"Iteration\")\n",
    "    plt.ylabel(\"Cost (J)\")\n",
    "    file_writer.close()"
   ]
  },
  {
   "cell_type": "code",
   "execution_count": null,
   "metadata": {
    "collapsed": true
   },
   "outputs": [],
   "source": []
  },
  {
   "cell_type": "code",
   "execution_count": 27,
   "metadata": {},
   "outputs": [],
   "source": [
    "def load_data():\n",
    "    df = pd.read_csv(\"data/kaggle-house-prices/data_combined_cleaned.csv\")\n",
    "    df_dummy = pd.get_dummies(df, drop_first=True)\n",
    "    df_training = df_dummy[~np.isnan(df.SalesPrice)]\n",
    "    df_testing = df_dummy[np.isnan(df.SalesPrice)]\n",
    "    y = np.log(df_training.SalesPrice.values)\n",
    "    df_tmp = df_training.copy()\n",
    "    del df_tmp[\"SalesPrice\"]\n",
    "    del df_tmp[\"Id\"]\n",
    "    X = df_tmp.values\n",
    "    X_train, X_test, y_train, y_test = train_test_split(X, y, test_size = 0.3, random_state = 1)\n",
    "    scaler = StandardScaler()\n",
    "    X_train_std = scaler.fit_transform(X_train)\n",
    "    X_test_std = scaler.fit_transform(X_test)\n",
    "    return X_train_std, X_test_std, y_train, y_test\n",
    "\n",
    "X_train_std, X_test_std, y_train, y_test = load_data()"
   ]
  },
  {
   "cell_type": "code",
   "execution_count": 28,
   "metadata": {
    "scrolled": false
   },
   "outputs": [
    {
     "data": {
      "text/plain": [
       "<matplotlib.text.Text at 0x11d2baac8>"
      ]
     },
     "execution_count": 28,
     "metadata": {},
     "output_type": "execute_result"
    },
    {
     "data": {
      "image/png": "[encoded data removed]",
      "text/plain": [
       "<matplotlib.figure.Figure at 0x119dd4f98>"
      ]
     },
     "metadata": {},
     "output_type": "display_data"
    }
   ],
   "source": [
    "plt.hist(y_test, bins = 100)\n",
    "plt.title(\"Histogram of y_test, std: %3f\" % np.std(y_test))"
   ]
  },
  {
   "cell_type": "code",
   "execution_count": 33,
   "metadata": {
    "collapsed": true
   },
   "outputs": [],
   "source": [
    "class Batchable:\n",
    "\n",
    "    def __init__(self, X, y, batch_size = 256, seed = None):\n",
    "        import math\n",
    "        import numpy as np\n",
    "        if seed:\n",
    "            np.random.seed(seed)\n",
    "        idx = np.arange(X.shape[0])\n",
    "        np.random.shuffle(idx)\n",
    "        self.X = X[idx, :]\n",
    "        self.y = y[idx]\n",
    "        self.start = 0\n",
    "        self.batch_size = batch_size\n",
    "        self.num_batches = math.ceil(X.shape[0] / batch_size)\n",
    "    \n",
    "    def next(self):\n",
    "        end = self.start + self.batch_size\n",
    "        if end > X.shape[0]:\n",
    "            end = X.shape[0] - 1\n",
    "        return self.X[self.start: (end + 1), :], self.y[self.start: (end + 1)]"
   ]
  },
  {
   "cell_type": "code",
   "execution_count": 34,
   "metadata": {
    "scrolled": false
   },
   "outputs": [
    {
     "name": "stdout",
     "output_type": "stream",
     "text": [
      "0 113.141 10.398\n",
      "50 20.2959 4.8254\n",
      "100 11.1887 3.59268\n",
      "150 11.3227 3.52751\n",
      "200 11.0044 3.50293\n",
      "250 5.65769 3.49444\n",
      "300 7.09504 3.48537\n",
      "350 11.6916 3.48149\n",
      "400 13.1552 3.45282\n",
      "450 8.88276 3.02954\n",
      "500 1.18254 0.989243\n",
      "550 0.0118684 0.171319\n",
      "600 0.0124778 0.164936\n",
      "650 0.0108668 0.160746\n",
      "700 0.0130019 0.16532\n",
      "750 0.00893469 0.155034\n",
      "800 0.0088969 0.157688\n",
      "850 0.00963666 0.157555\n",
      "900 0.0103957 0.156674\n",
      "950 0.00842731 0.156613\n",
      "1000 0.00807426 0.15352\n",
      "1050 0.0123551 0.161259\n",
      "1100 0.0101614 0.153816\n",
      "1150 0.00868537 0.159087\n",
      "1200 0.0105387 0.153665\n",
      "1250 0.00939209 0.158321\n",
      "1300 0.00866515 0.158806\n",
      "1350 0.0109201 0.156676\n",
      "1400 0.0104423 0.154847\n",
      "1450 0.00889855 0.156615\n",
      "1500 0.0110441 0.155654\n",
      "1550 0.00928655 0.156197\n",
      "1600 0.0125265 0.159308\n",
      "1650 0.00989558 0.16382\n",
      "1700 0.00955403 0.157544\n",
      "1750 0.0102329 0.157454\n",
      "1800 0.0101618 0.157213\n",
      "1850 0.00819262 0.158145\n",
      "1900 0.00932653 0.161327\n",
      "1950 0.0120371 0.157906\n",
      "1999 0.0133749 0.163831\n",
      "Test rmse:  0.163831\n"
     ]
    },
    {
     "data": {
      "image/png": "[encoded data removed]",
      "text/plain": [
       "<matplotlib.figure.Figure at 0x11e547f28>"
      ]
     },
     "metadata": {},
     "output_type": "display_data"
    }
   ],
   "source": [
    "tf.reset_default_graph()\n",
    "\n",
    "tf.set_random_seed(1)\n",
    "\n",
    "m, n_x = X_train_std.shape\n",
    "\n",
    "X = tf.placeholder(tf.float32, shape=[n_x, None], name=\"X\")\n",
    "y = tf.placeholder(tf.float32, shape=[None], name = \"y\")\n",
    "W = tf.Variable(tf.truncated_normal([1, n_x], stddev=0.1), name = \"W\")\n",
    "b = tf.Variable(0, dtype=tf.float32, name=\"b\")\n",
    "y_pred = tf.nn.relu(tf.matmul(W, X) + b, name=\"relu\")\n",
    "mse = tf.reduce_mean(tf.square(y - y_pred))\n",
    "reg_penalty = tf.nn.l2_loss(W)\n",
    "cost = mse + 0.1 * reg_penalty\n",
    "\n",
    "optimizer = tf.train.GradientDescentOptimizer(learning_rate = 0.01)\n",
    "#optimizer = tf.train.AdamOptimizer(learning_rate = 0.01)\n",
    "train = optimizer.minimize(cost)\n",
    "\n",
    "with tf.Session() as session:\n",
    "\n",
    "    init = tf.global_variables_initializer()\n",
    "    session.run(init)\n",
    "\n",
    "    num_epochs, costs = 2000, []\n",
    "\n",
    "    for epoch in range(num_epochs):\n",
    "        batchable = Batchable(X_train_std, y_train)\n",
    "        for i in range(batchable.num_batches):\n",
    "            X_data, y_data = batchable.next()\n",
    "            _, c_, w_, b_= session.run([train, cost, W, b], {X: X_data.T, y: y_data})\n",
    "            rmse_test = np.sqrt(session.run(mse, feed_dict={X: X_test_std.T, y: y_test}))\n",
    "            costs.append({\"training\": c_, \"test\": rmse_test})\n",
    "        if epoch % 50 == 0 or epoch == num_epochs - 1:\n",
    "            print(epoch, c_, rmse_test)\n",
    "    \n",
    "    mse_test = session.run(mse, feed_dict={X: X_test_std.T, y: y_test})\n",
    "    print(\"Test rmse: \", np.sqrt(mse_test))\n",
    "    \n",
    "\n",
    "    pd.DataFrame(costs).plot(logx = True)\n",
    "    plt.title(\"Cost decay\")\n",
    "    plt.xlabel(\"Iteration\")\n",
    "    plt.ylabel(\"Cost (J)\")"
   ]
  },
  {
   "cell_type": "code",
   "execution_count": null,
   "metadata": {
    "collapsed": true
   },
   "outputs": [],
   "source": [
    "tf.contrib"
   ]
  }
 ],
 "metadata": {
  "kernelspec": {
   "display_name": "Python 3",
   "language": "python",
   "name": "python3"
  },
  "language_info": {
   "codemirror_mode": {
    "name": "ipython",
    "version": 3
   },
   "file_extension": ".py",
   "mimetype": "text/x-python",
   "name": "python",
   "nbconvert_exporter": "python",
   "pygments_lexer": "ipython3",
   "version": "3.6.2"
  }
 },
 "nbformat": 4,
 "nbformat_minor": 2
}
