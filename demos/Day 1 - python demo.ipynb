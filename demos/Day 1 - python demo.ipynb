{
 "cells": [
  {
   "cell_type": "code",
   "execution_count": 1,
   "metadata": {},
   "outputs": [
    {
     "name": "stdout",
     "output_type": "stream",
     "text": [
      "hello\n"
     ]
    }
   ],
   "source": [
    "print(\"hello\")"
   ]
  },
  {
   "cell_type": "code",
   "execution_count": 2,
   "metadata": {},
   "outputs": [],
   "source": [
    "x = 1.2"
   ]
  },
  {
   "cell_type": "code",
   "execution_count": 3,
   "metadata": {},
   "outputs": [
    {
     "data": {
      "text/plain": [
       "float"
      ]
     },
     "execution_count": 3,
     "metadata": {},
     "output_type": "execute_result"
    }
   ],
   "source": [
    "type(x)"
   ]
  },
  {
   "cell_type": "code",
   "execution_count": 4,
   "metadata": {},
   "outputs": [],
   "source": [
    "x = 1"
   ]
  },
  {
   "cell_type": "code",
   "execution_count": 5,
   "metadata": {},
   "outputs": [
    {
     "data": {
      "text/plain": [
       "int"
      ]
     },
     "execution_count": 5,
     "metadata": {},
     "output_type": "execute_result"
    }
   ],
   "source": [
    "type(x)"
   ]
  },
  {
   "cell_type": "code",
   "execution_count": 6,
   "metadata": {},
   "outputs": [
    {
     "data": {
      "text/plain": [
       "1.0"
      ]
     },
     "execution_count": 6,
     "metadata": {},
     "output_type": "execute_result"
    }
   ],
   "source": [
    "float(x)"
   ]
  },
  {
   "cell_type": "code",
   "execution_count": 16,
   "metadata": {},
   "outputs": [],
   "source": [
    "x = \"1.23\""
   ]
  },
  {
   "cell_type": "code",
   "execution_count": 17,
   "metadata": {},
   "outputs": [
    {
     "data": {
      "text/plain": [
       "str"
      ]
     },
     "execution_count": 17,
     "metadata": {},
     "output_type": "execute_result"
    }
   ],
   "source": [
    "type(x)"
   ]
  },
  {
   "cell_type": "code",
   "execution_count": 18,
   "metadata": {},
   "outputs": [
    {
     "data": {
      "text/plain": [
       "1.23"
      ]
     },
     "execution_count": 18,
     "metadata": {},
     "output_type": "execute_result"
    }
   ],
   "source": [
    "float(x)"
   ]
  },
  {
   "cell_type": "code",
   "execution_count": 19,
   "metadata": {},
   "outputs": [],
   "source": [
    "x = 1>0"
   ]
  },
  {
   "cell_type": "code",
   "execution_count": 20,
   "metadata": {},
   "outputs": [
    {
     "data": {
      "text/plain": [
       "True"
      ]
     },
     "execution_count": 20,
     "metadata": {},
     "output_type": "execute_result"
    }
   ],
   "source": [
    "x"
   ]
  },
  {
   "cell_type": "code",
   "execution_count": 21,
   "metadata": {},
   "outputs": [
    {
     "data": {
      "text/plain": [
       "bool"
      ]
     },
     "execution_count": 21,
     "metadata": {},
     "output_type": "execute_result"
    }
   ],
   "source": [
    "type(x)"
   ]
  },
  {
   "cell_type": "code",
   "execution_count": 22,
   "metadata": {},
   "outputs": [],
   "source": [
    "x = [1, 4, 56, 9, 10, 7]"
   ]
  },
  {
   "cell_type": "code",
   "execution_count": 23,
   "metadata": {},
   "outputs": [
    {
     "data": {
      "text/plain": [
       "list"
      ]
     },
     "execution_count": 23,
     "metadata": {},
     "output_type": "execute_result"
    }
   ],
   "source": [
    "type(x)"
   ]
  },
  {
   "cell_type": "code",
   "execution_count": 24,
   "metadata": {},
   "outputs": [
    {
     "data": {
      "text/plain": [
       "6"
      ]
     },
     "execution_count": 24,
     "metadata": {},
     "output_type": "execute_result"
    }
   ],
   "source": [
    "len(x)"
   ]
  },
  {
   "cell_type": "code",
   "execution_count": 25,
   "metadata": {},
   "outputs": [
    {
     "data": {
      "text/plain": [
       "1"
      ]
     },
     "execution_count": 25,
     "metadata": {},
     "output_type": "execute_result"
    }
   ],
   "source": [
    "x[0]"
   ]
  },
  {
   "cell_type": "code",
   "execution_count": 26,
   "metadata": {},
   "outputs": [
    {
     "data": {
      "text/plain": [
       "4"
      ]
     },
     "execution_count": 26,
     "metadata": {},
     "output_type": "execute_result"
    }
   ],
   "source": [
    "x[1]"
   ]
  },
  {
   "cell_type": "code",
   "execution_count": 27,
   "metadata": {},
   "outputs": [
    {
     "data": {
      "text/plain": [
       "7"
      ]
     },
     "execution_count": 27,
     "metadata": {},
     "output_type": "execute_result"
    }
   ],
   "source": [
    "x[-1]"
   ]
  },
  {
   "cell_type": "code",
   "execution_count": 28,
   "metadata": {},
   "outputs": [
    {
     "data": {
      "text/plain": [
       "[1, 4, 56, 9]"
      ]
     },
     "execution_count": 28,
     "metadata": {},
     "output_type": "execute_result"
    }
   ],
   "source": [
    "x = [1, 4, 56, 9, 10, 7]\n",
    "x[0:4]"
   ]
  },
  {
   "cell_type": "code",
   "execution_count": 29,
   "metadata": {},
   "outputs": [
    {
     "data": {
      "text/plain": [
       "[1, 4, 56, 9]"
      ]
     },
     "execution_count": 29,
     "metadata": {},
     "output_type": "execute_result"
    }
   ],
   "source": [
    "x = [1, 4, 56, 9, 10, 7]\n",
    "x[:4]"
   ]
  },
  {
   "cell_type": "code",
   "execution_count": 30,
   "metadata": {},
   "outputs": [
    {
     "data": {
      "text/plain": [
       "[1, 56, 10]"
      ]
     },
     "execution_count": 30,
     "metadata": {},
     "output_type": "execute_result"
    }
   ],
   "source": [
    "x = [1, 4, 56, 9, 10, 7]\n",
    "x[::2]"
   ]
  },
  {
   "cell_type": "code",
   "execution_count": 31,
   "metadata": {},
   "outputs": [
    {
     "data": {
      "text/plain": [
       "[56, 9, 10, 7]"
      ]
     },
     "execution_count": 31,
     "metadata": {},
     "output_type": "execute_result"
    }
   ],
   "source": [
    "x = [1, 4, 56, 9, 10, 7]\n",
    "x[-4:]"
   ]
  },
  {
   "cell_type": "code",
   "execution_count": 32,
   "metadata": {},
   "outputs": [
    {
     "data": {
      "text/plain": [
       "[1, 4, 56, 9, 10, 7, 100]"
      ]
     },
     "execution_count": 32,
     "metadata": {},
     "output_type": "execute_result"
    }
   ],
   "source": [
    "x = [1, 4, 56, 9, 10, 7]\n",
    "x.append(100)\n",
    "x"
   ]
  },
  {
   "cell_type": "code",
   "execution_count": 34,
   "metadata": {},
   "outputs": [
    {
     "data": {
      "text/plain": [
       "[1, 4, 56, 9, 10, 7]"
      ]
     },
     "execution_count": 34,
     "metadata": {},
     "output_type": "execute_result"
    }
   ],
   "source": [
    "x = [1, 4, 7, 56, 9, 10, 7]\n",
    "x.remove(7)\n",
    "x"
   ]
  },
  {
   "cell_type": "code",
   "execution_count": 35,
   "metadata": {},
   "outputs": [
    {
     "data": {
      "text/plain": [
       "[1, 4, 7, 9, 10, 7]"
      ]
     },
     "execution_count": 35,
     "metadata": {},
     "output_type": "execute_result"
    }
   ],
   "source": [
    "x = [1, 4, 7, 56, 9, 10, 7]\n",
    "del x[3]\n",
    "x"
   ]
  },
  {
   "cell_type": "code",
   "execution_count": 36,
   "metadata": {},
   "outputs": [
    {
     "data": {
      "text/plain": [
       "True"
      ]
     },
     "execution_count": 36,
     "metadata": {},
     "output_type": "execute_result"
    }
   ],
   "source": [
    "x = [1, 4, 7, 56, 9, 10, 7]\n",
    "56 in x"
   ]
  },
  {
   "cell_type": "code",
   "execution_count": 39,
   "metadata": {},
   "outputs": [
    {
     "data": {
      "text/plain": [
       "3"
      ]
     },
     "execution_count": 39,
     "metadata": {},
     "output_type": "execute_result"
    }
   ],
   "source": [
    "x = [1, 4, 7, 56, 56, 9, 10, 7]\n",
    "x.index(56)"
   ]
  },
  {
   "cell_type": "code",
   "execution_count": 40,
   "metadata": {},
   "outputs": [
    {
     "ename": "ValueError",
     "evalue": "57 is not in list",
     "output_type": "error",
     "traceback": [
      "\u001b[0;31m---------------------------------------------------------------------------\u001b[0m",
      "\u001b[0;31mValueError\u001b[0m                                Traceback (most recent call last)",
      "\u001b[0;32m<ipython-input-40-950b280639d5>\u001b[0m in \u001b[0;36m<module>\u001b[0;34m\u001b[0m\n\u001b[1;32m      1\u001b[0m \u001b[0mx\u001b[0m \u001b[0;34m=\u001b[0m \u001b[0;34m[\u001b[0m\u001b[0;36m1\u001b[0m\u001b[0;34m,\u001b[0m \u001b[0;36m4\u001b[0m\u001b[0;34m,\u001b[0m \u001b[0;36m7\u001b[0m\u001b[0;34m,\u001b[0m \u001b[0;36m56\u001b[0m\u001b[0;34m,\u001b[0m \u001b[0;36m56\u001b[0m\u001b[0;34m,\u001b[0m \u001b[0;36m9\u001b[0m\u001b[0;34m,\u001b[0m \u001b[0;36m10\u001b[0m\u001b[0;34m,\u001b[0m \u001b[0;36m7\u001b[0m\u001b[0;34m]\u001b[0m\u001b[0;34m\u001b[0m\u001b[0;34m\u001b[0m\u001b[0m\n\u001b[0;32m----> 2\u001b[0;31m \u001b[0mx\u001b[0m\u001b[0;34m.\u001b[0m\u001b[0mindex\u001b[0m\u001b[0;34m(\u001b[0m\u001b[0;36m57\u001b[0m\u001b[0;34m)\u001b[0m\u001b[0;34m\u001b[0m\u001b[0;34m\u001b[0m\u001b[0m\n\u001b[0m",
      "\u001b[0;31mValueError\u001b[0m: 57 is not in list"
     ]
    }
   ],
   "source": [
    "x = [1, 4, 7, 56, 56, 9, 10, 7]\n",
    "x.index(57)"
   ]
  },
  {
   "cell_type": "code",
   "execution_count": 105,
   "metadata": {},
   "outputs": [
    {
     "name": "stdout",
     "output_type": "stream",
     "text": [
      "1\n",
      "4\n",
      "7\n",
      "56\n",
      "56\n",
      "9\n",
      "10\n",
      "7\n",
      "Outside for\n"
     ]
    }
   ],
   "source": [
    "x = [1, 4, 7, 56, 56, 9, 10, 7]\n",
    "\n",
    "for element in x:\n",
    "    print(element)\n",
    "print(\"Outside for\")"
   ]
  },
  {
   "cell_type": "code",
   "execution_count": 43,
   "metadata": {},
   "outputs": [
    {
     "data": {
      "text/plain": [
       "[1.0, 34, 'Hello']"
      ]
     },
     "execution_count": 43,
     "metadata": {},
     "output_type": "execute_result"
    }
   ],
   "source": [
    "y = [1.0, 34, \"Hello\"]\n",
    "y"
   ]
  },
  {
   "cell_type": "code",
   "execution_count": 44,
   "metadata": {},
   "outputs": [
    {
     "data": {
      "text/plain": [
       "[1, 16, 49, 3136, 3136, 81, 100, 49]"
      ]
     },
     "execution_count": 44,
     "metadata": {},
     "output_type": "execute_result"
    }
   ],
   "source": [
    "x = [1, 4, 7, 56, 56, 9, 10, 7]\n",
    "y = []\n",
    "\n",
    "for element in x:\n",
    "    y.append(element ** 2)\n",
    "y"
   ]
  },
  {
   "cell_type": "code",
   "execution_count": 45,
   "metadata": {},
   "outputs": [
    {
     "data": {
      "text/plain": [
       "[1, 16, 49, 3136, 3136, 81, 100, 49]"
      ]
     },
     "execution_count": 45,
     "metadata": {},
     "output_type": "execute_result"
    }
   ],
   "source": [
    "x = [1, 4, 7, 56, 56, 9, 10, 7]\n",
    "y = [e ** 2 for e in x]\n",
    "y"
   ]
  },
  {
   "cell_type": "code",
   "execution_count": 46,
   "metadata": {},
   "outputs": [],
   "source": [
    "x = 10\n",
    "\n",
    "if x % 2 == 0:\n",
    "    y = \"even\"\n",
    "else: \n",
    "    y = \"odd\"\n"
   ]
  },
  {
   "cell_type": "code",
   "execution_count": 47,
   "metadata": {},
   "outputs": [
    {
     "data": {
      "text/plain": [
       "'even'"
      ]
     },
     "execution_count": 47,
     "metadata": {},
     "output_type": "execute_result"
    }
   ],
   "source": [
    "x = 10\n",
    "\n",
    "y = \"even\" if x % 2 == 0 else \"odd\"\n",
    "y\n",
    "\n",
    "    "
   ]
  },
  {
   "cell_type": "code",
   "execution_count": 48,
   "metadata": {},
   "outputs": [
    {
     "data": {
      "text/plain": [
       "[4, 56, 56, 10]"
      ]
     },
     "execution_count": 48,
     "metadata": {},
     "output_type": "execute_result"
    }
   ],
   "source": [
    "x = [1, 4, 7, 56, 56, 9, 10, 7]\n",
    "y = [e ** 2 for e in x]\n",
    "y = [e for e in x if e % 2 == 0]\n",
    "y"
   ]
  },
  {
   "cell_type": "code",
   "execution_count": 49,
   "metadata": {},
   "outputs": [
    {
     "data": {
      "text/plain": [
       "[16, 3136, 3136, 100]"
      ]
     },
     "execution_count": 49,
     "metadata": {},
     "output_type": "execute_result"
    }
   ],
   "source": [
    "x = [1, 4, 7, 56, 56, 9, 10, 7]\n",
    "y = [e ** 2 for e in x if e % 2 == 0]\n",
    "y"
   ]
  },
  {
   "cell_type": "code",
   "execution_count": 50,
   "metadata": {},
   "outputs": [
    {
     "data": {
      "text/plain": [
       "[1, 3, 5, 7, 9, 11, 13, 15, 17, 19]"
      ]
     },
     "execution_count": 50,
     "metadata": {},
     "output_type": "execute_result"
    }
   ],
   "source": [
    "odd_numbers = []\n",
    "i = 1\n",
    "while len(odd_numbers) < 10:\n",
    "    if i%2 == 1:\n",
    "        odd_numbers.append(i)\n",
    "    i = i+1\n",
    "odd_numbers"
   ]
  },
  {
   "cell_type": "code",
   "execution_count": 101,
   "metadata": {},
   "outputs": [
    {
     "data": {
      "text/plain": [
       "[1, 4, 7, 100, 56, 56, 9, 10, 7]"
      ]
     },
     "execution_count": 101,
     "metadata": {},
     "output_type": "execute_result"
    }
   ],
   "source": [
    "x = [1, 4, 7, 56, 56, 9, 10, 7]\n",
    "x.insert(3, 100)\n",
    "x"
   ]
  },
  {
   "cell_type": "code",
   "execution_count": 102,
   "metadata": {},
   "outputs": [
    {
     "data": {
      "text/plain": [
       "[1, 4, 7, 56, 56, 9, 10, 100, 7]"
      ]
     },
     "execution_count": 102,
     "metadata": {},
     "output_type": "execute_result"
    }
   ],
   "source": [
    "x = [1, 4, 7, 56, 56, 9, 10, 7]\n",
    "x.insert(-1, 100)\n",
    "x"
   ]
  },
  {
   "cell_type": "code",
   "execution_count": 104,
   "metadata": {},
   "outputs": [
    {
     "data": {
      "text/plain": [
       "[1, 4, 7, 56, 56, 9, 10, 7, 100]"
      ]
     },
     "execution_count": 104,
     "metadata": {},
     "output_type": "execute_result"
    }
   ],
   "source": [
    "x = [1, 4, 7, 56, 56, 9, 10, 7]\n",
    "x.insert(10000, 100)\n",
    "x"
   ]
  },
  {
   "cell_type": "code",
   "execution_count": 51,
   "metadata": {},
   "outputs": [],
   "source": [
    "x = {}"
   ]
  },
  {
   "cell_type": "code",
   "execution_count": 52,
   "metadata": {},
   "outputs": [
    {
     "data": {
      "text/plain": [
       "dict"
      ]
     },
     "execution_count": 52,
     "metadata": {},
     "output_type": "execute_result"
    }
   ],
   "source": [
    "type(x)"
   ]
  },
  {
   "cell_type": "code",
   "execution_count": 55,
   "metadata": {},
   "outputs": [
    {
     "data": {
      "text/plain": [
       "{'a': 'Apple', 'b': 'Banana', 'c': 'Cat', 'd': 'Dog', 'e': 'Dog'}"
      ]
     },
     "execution_count": 55,
     "metadata": {},
     "output_type": "execute_result"
    }
   ],
   "source": [
    "x = {\"a\": \"Apple\", \"b\": \"Banana\", \"c\": \"Cake\", \"c\": \"Cat\", \"d\": \"Dog\", \"e\": \"Dog\"}\n",
    "x"
   ]
  },
  {
   "cell_type": "code",
   "execution_count": 56,
   "metadata": {},
   "outputs": [
    {
     "data": {
      "text/plain": [
       "5"
      ]
     },
     "execution_count": 56,
     "metadata": {},
     "output_type": "execute_result"
    }
   ],
   "source": [
    "len(x)"
   ]
  },
  {
   "cell_type": "code",
   "execution_count": 57,
   "metadata": {},
   "outputs": [
    {
     "data": {
      "text/plain": [
       "{'a': 'Apple', 'b': 'Banana', 'c': 'Cat', 'd': 'Dog', 'e': 'Dog', 'f': None}"
      ]
     },
     "execution_count": 57,
     "metadata": {},
     "output_type": "execute_result"
    }
   ],
   "source": [
    "x = {\"a\": \"Apple\", \"b\": \"Banana\", \"c\": \"Cake\", \"c\": \"Cat\", \"d\": \"Dog\", \"e\": \"Dog\", \"f\": None}\n",
    "x"
   ]
  },
  {
   "cell_type": "code",
   "execution_count": 58,
   "metadata": {},
   "outputs": [
    {
     "data": {
      "text/plain": [
       "{'a': 'Apple',\n",
       " 'b': 'Banana',\n",
       " 'c': 'Cat',\n",
       " 'd': 'Dog',\n",
       " 'e': 'Dog',\n",
       " 'f': None,\n",
       " None: 'Something'}"
      ]
     },
     "execution_count": 58,
     "metadata": {},
     "output_type": "execute_result"
    }
   ],
   "source": [
    "x = {\"a\": \"Apple\", \"b\": \"Banana\", \"c\": \"Cake\", \"c\": \"Cat\", \"d\": \"Dog\", \"e\": \"Dog\", \"f\": None, None: \"Something\"}\n",
    "x"
   ]
  },
  {
   "cell_type": "code",
   "execution_count": 60,
   "metadata": {},
   "outputs": [
    {
     "data": {
      "text/plain": [
       "dict_keys(['a', 'b', 'c', 'd', 'e', 'f'])"
      ]
     },
     "execution_count": 60,
     "metadata": {},
     "output_type": "execute_result"
    }
   ],
   "source": [
    "x = {\"a\": \"Apple\", \"b\": \"Banana\", \"c\": \"Cake\", \"c\": \"Cat\", \"d\": \"Dog\", \"e\": \"Dog\", \"f\": None}\n",
    "x.keys()"
   ]
  },
  {
   "cell_type": "code",
   "execution_count": 62,
   "metadata": {},
   "outputs": [
    {
     "data": {
      "text/plain": [
       "{'a': 'Apple',\n",
       " 'b': 'Banana',\n",
       " 'c': 'Cat',\n",
       " 'd': 'Dog',\n",
       " 'e': 'Elephant',\n",
       " 'f': None,\n",
       " 'g': 'God'}"
      ]
     },
     "execution_count": 62,
     "metadata": {},
     "output_type": "execute_result"
    }
   ],
   "source": [
    "x = {\"a\": \"Apple\", \"b\": \"Banana\", \"c\": \"Cake\", \"c\": \"Cat\", \"d\": \"Dog\", \"e\": \"Dog\", \"f\": None}\n",
    "x[\"g\"] = \"God\"\n",
    "x[\"e\"] = \"Elephant\"\n",
    "x"
   ]
  },
  {
   "cell_type": "code",
   "execution_count": 64,
   "metadata": {},
   "outputs": [
    {
     "data": {
      "text/plain": [
       "{'a': 'Apple', 'b': 'Banana', 'c': 'Cat', 'd': 'Dog', 'e': 'Dog'}"
      ]
     },
     "execution_count": 64,
     "metadata": {},
     "output_type": "execute_result"
    }
   ],
   "source": [
    "x = {\"a\": \"Apple\", \"b\": \"Banana\", \"c\": \"Cake\", \"c\": \"Cat\", \"d\": \"Dog\", \"e\": \"Dog\", \"f\": None}\n",
    "del x[\"f\"]\n",
    "x"
   ]
  },
  {
   "cell_type": "code",
   "execution_count": 65,
   "metadata": {},
   "outputs": [
    {
     "data": {
      "text/plain": [
       "True"
      ]
     },
     "execution_count": 65,
     "metadata": {},
     "output_type": "execute_result"
    }
   ],
   "source": [
    "x = {\"a\": \"Apple\", \"b\": \"Banana\", \"c\": \"Cake\", \"c\": \"Cat\", \"d\": \"Dog\", \"e\": \"Dog\", \"f\": None}\n",
    "\"a\" in x"
   ]
  },
  {
   "cell_type": "code",
   "execution_count": 66,
   "metadata": {},
   "outputs": [
    {
     "data": {
      "text/plain": [
       "'Apple'"
      ]
     },
     "execution_count": 66,
     "metadata": {},
     "output_type": "execute_result"
    }
   ],
   "source": [
    "x = {\"a\": \"Apple\", \"b\": \"Banana\", \"c\": \"Cake\", \"c\": \"Cat\", \"d\": \"Dog\", \"e\": \"Dog\", \"f\": None}\n",
    "x[\"a\"]\n"
   ]
  },
  {
   "cell_type": "code",
   "execution_count": 67,
   "metadata": {},
   "outputs": [
    {
     "ename": "KeyError",
     "evalue": "'h'",
     "output_type": "error",
     "traceback": [
      "\u001b[0;31m---------------------------------------------------------------------------\u001b[0m",
      "\u001b[0;31mKeyError\u001b[0m                                  Traceback (most recent call last)",
      "\u001b[0;32m<ipython-input-67-67af2567b640>\u001b[0m in \u001b[0;36m<module>\u001b[0;34m\u001b[0m\n\u001b[1;32m      1\u001b[0m \u001b[0mx\u001b[0m \u001b[0;34m=\u001b[0m \u001b[0;34m{\u001b[0m\u001b[0;34m\"a\"\u001b[0m\u001b[0;34m:\u001b[0m \u001b[0;34m\"Apple\"\u001b[0m\u001b[0;34m,\u001b[0m \u001b[0;34m\"b\"\u001b[0m\u001b[0;34m:\u001b[0m \u001b[0;34m\"Banana\"\u001b[0m\u001b[0;34m,\u001b[0m \u001b[0;34m\"c\"\u001b[0m\u001b[0;34m:\u001b[0m \u001b[0;34m\"Cake\"\u001b[0m\u001b[0;34m,\u001b[0m \u001b[0;34m\"c\"\u001b[0m\u001b[0;34m:\u001b[0m \u001b[0;34m\"Cat\"\u001b[0m\u001b[0;34m,\u001b[0m \u001b[0;34m\"d\"\u001b[0m\u001b[0;34m:\u001b[0m \u001b[0;34m\"Dog\"\u001b[0m\u001b[0;34m,\u001b[0m \u001b[0;34m\"e\"\u001b[0m\u001b[0;34m:\u001b[0m \u001b[0;34m\"Dog\"\u001b[0m\u001b[0;34m,\u001b[0m \u001b[0;34m\"f\"\u001b[0m\u001b[0;34m:\u001b[0m \u001b[0;32mNone\u001b[0m\u001b[0;34m}\u001b[0m\u001b[0;34m\u001b[0m\u001b[0;34m\u001b[0m\u001b[0m\n\u001b[0;32m----> 2\u001b[0;31m \u001b[0mx\u001b[0m\u001b[0;34m[\u001b[0m\u001b[0;34m\"h\"\u001b[0m\u001b[0;34m]\u001b[0m\u001b[0;34m\u001b[0m\u001b[0;34m\u001b[0m\u001b[0m\n\u001b[0m",
      "\u001b[0;31mKeyError\u001b[0m: 'h'"
     ]
    }
   ],
   "source": [
    "x = {\"a\": \"Apple\", \"b\": \"Banana\", \"c\": \"Cake\", \"c\": \"Cat\", \"d\": \"Dog\", \"e\": \"Dog\", \"f\": None}\n",
    "x[\"h\"]"
   ]
  },
  {
   "cell_type": "code",
   "execution_count": 69,
   "metadata": {},
   "outputs": [
    {
     "data": {
      "text/plain": [
       "True"
      ]
     },
     "execution_count": 69,
     "metadata": {},
     "output_type": "execute_result"
    }
   ],
   "source": [
    "x = {\"a\": \"Apple\", \"b\": \"Banana\", \"c\": \"Cake\", \"c\": \"Cat\", \"d\": \"Dog\", \"e\": \"Dog\", \"f\": None}\n",
    "y = x.get(\"h\")\n",
    "y is None"
   ]
  },
  {
   "cell_type": "code",
   "execution_count": 70,
   "metadata": {},
   "outputs": [
    {
     "data": {
      "text/plain": [
       "'Default'"
      ]
     },
     "execution_count": 70,
     "metadata": {},
     "output_type": "execute_result"
    }
   ],
   "source": [
    "x = {\"a\": \"Apple\", \"b\": \"Banana\", \"c\": \"Cake\", \"c\": \"Cat\", \"d\": \"Dog\", \"e\": \"Dog\", \"f\": None}\n",
    "y = x.get(\"h\", \"Default\")\n",
    "y"
   ]
  },
  {
   "cell_type": "code",
   "execution_count": 77,
   "metadata": {},
   "outputs": [
    {
     "data": {
      "text/plain": [
       "({'a': 'Apple', 'b': 'Banana'}, dict)"
      ]
     },
     "execution_count": 77,
     "metadata": {},
     "output_type": "execute_result"
    }
   ],
   "source": [
    "x = {\"a\":\"Apple\", \"b\": \"Banana\"}\n",
    "x, type(x)"
   ]
  },
  {
   "cell_type": "code",
   "execution_count": 73,
   "metadata": {},
   "outputs": [
    {
     "data": {
      "text/plain": [
       "{'a', 'b', 'c'}"
      ]
     },
     "execution_count": 73,
     "metadata": {},
     "output_type": "execute_result"
    }
   ],
   "source": [
    "x = set([\"a\", \"b\", \"c\", \"c\"])\n",
    "x"
   ]
  },
  {
   "cell_type": "code",
   "execution_count": 74,
   "metadata": {},
   "outputs": [
    {
     "data": {
      "text/plain": [
       "True"
      ]
     },
     "execution_count": 74,
     "metadata": {},
     "output_type": "execute_result"
    }
   ],
   "source": [
    "x = set([\"a\", \"b\", \"c\", \"c\"])\n",
    "\"c\" in x"
   ]
  },
  {
   "cell_type": "code",
   "execution_count": 78,
   "metadata": {},
   "outputs": [
    {
     "data": {
      "text/plain": [
       "True"
      ]
     },
     "execution_count": 78,
     "metadata": {},
     "output_type": "execute_result"
    }
   ],
   "source": [
    "x = {\"a\", \"b\", \"c\", \"c\"}\n",
    "\"c\" in x"
   ]
  },
  {
   "cell_type": "code",
   "execution_count": 79,
   "metadata": {},
   "outputs": [
    {
     "data": {
      "text/plain": [
       "3"
      ]
     },
     "execution_count": 79,
     "metadata": {},
     "output_type": "execute_result"
    }
   ],
   "source": [
    "len(x)"
   ]
  },
  {
   "cell_type": "code",
   "execution_count": 80,
   "metadata": {},
   "outputs": [
    {
     "data": {
      "text/plain": [
       "{'a', 'b', 'c', 'd'}"
      ]
     },
     "execution_count": 80,
     "metadata": {},
     "output_type": "execute_result"
    }
   ],
   "source": [
    "x = {\"a\", \"b\", \"c\", \"c\"}\n",
    "x.add(\"d\")\n",
    "x"
   ]
  },
  {
   "cell_type": "code",
   "execution_count": 82,
   "metadata": {},
   "outputs": [
    {
     "data": {
      "text/plain": [
       "{'a', 'b'}"
      ]
     },
     "execution_count": 82,
     "metadata": {},
     "output_type": "execute_result"
    }
   ],
   "source": [
    "x = {\"a\", \"b\", \"c\", \"c\"}\n",
    "x.remove(\"c\")\n",
    "x"
   ]
  },
  {
   "cell_type": "code",
   "execution_count": 83,
   "metadata": {},
   "outputs": [
    {
     "ename": "KeyError",
     "evalue": "'e'",
     "output_type": "error",
     "traceback": [
      "\u001b[0;31m---------------------------------------------------------------------------\u001b[0m",
      "\u001b[0;31mKeyError\u001b[0m                                  Traceback (most recent call last)",
      "\u001b[0;32m<ipython-input-83-d649d3d4acb4>\u001b[0m in \u001b[0;36m<module>\u001b[0;34m\u001b[0m\n\u001b[1;32m      1\u001b[0m \u001b[0mx\u001b[0m \u001b[0;34m=\u001b[0m \u001b[0;34m{\u001b[0m\u001b[0;34m\"a\"\u001b[0m\u001b[0;34m,\u001b[0m \u001b[0;34m\"b\"\u001b[0m\u001b[0;34m,\u001b[0m \u001b[0;34m\"c\"\u001b[0m\u001b[0;34m,\u001b[0m \u001b[0;34m\"c\"\u001b[0m\u001b[0;34m}\u001b[0m\u001b[0;34m\u001b[0m\u001b[0;34m\u001b[0m\u001b[0m\n\u001b[0;32m----> 2\u001b[0;31m \u001b[0mx\u001b[0m\u001b[0;34m.\u001b[0m\u001b[0mremove\u001b[0m\u001b[0;34m(\u001b[0m\u001b[0;34m\"e\"\u001b[0m\u001b[0;34m)\u001b[0m\u001b[0;34m\u001b[0m\u001b[0;34m\u001b[0m\u001b[0m\n\u001b[0m\u001b[1;32m      3\u001b[0m \u001b[0mx\u001b[0m\u001b[0;34m\u001b[0m\u001b[0;34m\u001b[0m\u001b[0m\n",
      "\u001b[0;31mKeyError\u001b[0m: 'e'"
     ]
    }
   ],
   "source": [
    "x = {\"a\", \"b\", \"c\", \"c\"}\n",
    "x.remove(\"e\")\n",
    "x"
   ]
  },
  {
   "cell_type": "code",
   "execution_count": 84,
   "metadata": {},
   "outputs": [
    {
     "ename": "TypeError",
     "evalue": "'int' object is not iterable",
     "output_type": "error",
     "traceback": [
      "\u001b[0;31m---------------------------------------------------------------------------\u001b[0m",
      "\u001b[0;31mTypeError\u001b[0m                                 Traceback (most recent call last)",
      "\u001b[0;32m<ipython-input-84-7dc02c333212>\u001b[0m in \u001b[0;36m<module>\u001b[0;34m\u001b[0m\n\u001b[0;32m----> 1\u001b[0;31m \u001b[0mx\u001b[0m \u001b[0;34m=\u001b[0m \u001b[0mset\u001b[0m\u001b[0;34m(\u001b[0m\u001b[0mlist\u001b[0m\u001b[0;34m(\u001b[0m\u001b[0;36m1\u001b[0m\u001b[0;34m)\u001b[0m\u001b[0;34m)\u001b[0m\u001b[0;34m\u001b[0m\u001b[0;34m\u001b[0m\u001b[0m\n\u001b[0m",
      "\u001b[0;31mTypeError\u001b[0m: 'int' object is not iterable"
     ]
    }
   ],
   "source": [
    "x = set(list(1))"
   ]
  },
  {
   "cell_type": "code",
   "execution_count": 85,
   "metadata": {},
   "outputs": [],
   "source": [
    "x = \"hello world\""
   ]
  },
  {
   "cell_type": "code",
   "execution_count": 86,
   "metadata": {},
   "outputs": [
    {
     "data": {
      "text/plain": [
       "11"
      ]
     },
     "execution_count": 86,
     "metadata": {},
     "output_type": "execute_result"
    }
   ],
   "source": [
    "len(x)"
   ]
  },
  {
   "cell_type": "code",
   "execution_count": 87,
   "metadata": {},
   "outputs": [
    {
     "data": {
      "text/plain": [
       "str"
      ]
     },
     "execution_count": 87,
     "metadata": {},
     "output_type": "execute_result"
    }
   ],
   "source": [
    "type(x)"
   ]
  },
  {
   "cell_type": "code",
   "execution_count": 88,
   "metadata": {},
   "outputs": [
    {
     "data": {
      "text/plain": [
       "'String'"
      ]
     },
     "execution_count": 88,
     "metadata": {},
     "output_type": "execute_result"
    }
   ],
   "source": [
    "y = \"String\" if type(x) is str else \"Not a string\" \n",
    "y"
   ]
  },
  {
   "cell_type": "code",
   "execution_count": 89,
   "metadata": {},
   "outputs": [
    {
     "ename": "TypeError",
     "evalue": "'str' object does not support item assignment",
     "output_type": "error",
     "traceback": [
      "\u001b[0;31m---------------------------------------------------------------------------\u001b[0m",
      "\u001b[0;31mTypeError\u001b[0m                                 Traceback (most recent call last)",
      "\u001b[0;32m<ipython-input-89-c0b47776a2ed>\u001b[0m in \u001b[0;36m<module>\u001b[0;34m\u001b[0m\n\u001b[1;32m      1\u001b[0m \u001b[0mx\u001b[0m \u001b[0;34m=\u001b[0m \u001b[0;34m\"hello world\"\u001b[0m\u001b[0;34m\u001b[0m\u001b[0;34m\u001b[0m\u001b[0m\n\u001b[0;32m----> 2\u001b[0;31m \u001b[0mx\u001b[0m\u001b[0;34m[\u001b[0m\u001b[0;36m0\u001b[0m\u001b[0;34m]\u001b[0m \u001b[0;34m=\u001b[0m \u001b[0;34m\"H\"\u001b[0m\u001b[0;34m\u001b[0m\u001b[0;34m\u001b[0m\u001b[0m\n\u001b[0m\u001b[1;32m      3\u001b[0m \u001b[0mx\u001b[0m\u001b[0;34m\u001b[0m\u001b[0;34m\u001b[0m\u001b[0m\n",
      "\u001b[0;31mTypeError\u001b[0m: 'str' object does not support item assignment"
     ]
    }
   ],
   "source": [
    "x = \"hello world\"\n",
    "x[0] = \"H\"\n",
    "x"
   ]
  },
  {
   "cell_type": "code",
   "execution_count": 90,
   "metadata": {},
   "outputs": [
    {
     "data": {
      "text/plain": [
       "'HELLO WORLD'"
      ]
     },
     "execution_count": 90,
     "metadata": {},
     "output_type": "execute_result"
    }
   ],
   "source": [
    "x = \"hello world\"\n",
    "x.upper()"
   ]
  },
  {
   "cell_type": "code",
   "execution_count": 91,
   "metadata": {},
   "outputs": [
    {
     "data": {
      "text/plain": [
       "['hello', 'world']"
      ]
     },
     "execution_count": 91,
     "metadata": {},
     "output_type": "execute_result"
    }
   ],
   "source": [
    "x = \"hello world\"\n",
    "x.split(\" \")"
   ]
  },
  {
   "cell_type": "code",
   "execution_count": 92,
   "metadata": {},
   "outputs": [
    {
     "data": {
      "text/plain": [
       "'hell'"
      ]
     },
     "execution_count": 92,
     "metadata": {},
     "output_type": "execute_result"
    }
   ],
   "source": [
    "x = \"hello world\"\n",
    "x[:4]"
   ]
  },
  {
   "cell_type": "code",
   "execution_count": 93,
   "metadata": {},
   "outputs": [
    {
     "data": {
      "text/plain": [
       "'hello world, good morning'"
      ]
     },
     "execution_count": 93,
     "metadata": {},
     "output_type": "execute_result"
    }
   ],
   "source": [
    "x = \"hello world\"\n",
    "x = x + \", good morning\"\n",
    "x"
   ]
  },
  {
   "cell_type": "code",
   "execution_count": 94,
   "metadata": {},
   "outputs": [
    {
     "data": {
      "text/plain": [
       "6"
      ]
     },
     "execution_count": 94,
     "metadata": {},
     "output_type": "execute_result"
    }
   ],
   "source": [
    "x = \"hello world\"\n",
    "x.index(\"world\")"
   ]
  },
  {
   "cell_type": "code",
   "execution_count": 95,
   "metadata": {},
   "outputs": [
    {
     "ename": "ValueError",
     "evalue": "substring not found",
     "output_type": "error",
     "traceback": [
      "\u001b[0;31m---------------------------------------------------------------------------\u001b[0m",
      "\u001b[0;31mValueError\u001b[0m                                Traceback (most recent call last)",
      "\u001b[0;32m<ipython-input-95-59a2acbbb531>\u001b[0m in \u001b[0;36m<module>\u001b[0;34m\u001b[0m\n\u001b[1;32m      1\u001b[0m \u001b[0mx\u001b[0m \u001b[0;34m=\u001b[0m \u001b[0;34m\"hello world\"\u001b[0m\u001b[0;34m\u001b[0m\u001b[0;34m\u001b[0m\u001b[0m\n\u001b[0;32m----> 2\u001b[0;31m \u001b[0mx\u001b[0m\u001b[0;34m.\u001b[0m\u001b[0mindex\u001b[0m\u001b[0;34m(\u001b[0m\u001b[0;34m\"wood\"\u001b[0m\u001b[0;34m)\u001b[0m\u001b[0;34m\u001b[0m\u001b[0;34m\u001b[0m\u001b[0m\n\u001b[0m",
      "\u001b[0;31mValueError\u001b[0m: substring not found"
     ]
    }
   ],
   "source": [
    "x = \"hello world\"\n",
    "x.index(\"wood\")"
   ]
  },
  {
   "cell_type": "code",
   "execution_count": 96,
   "metadata": {},
   "outputs": [
    {
     "data": {
      "text/plain": [
       "False"
      ]
     },
     "execution_count": 96,
     "metadata": {},
     "output_type": "execute_result"
    }
   ],
   "source": [
    "x = \"hello world\"\n",
    "\"wood\" in x"
   ]
  },
  {
   "cell_type": "code",
   "execution_count": 97,
   "metadata": {},
   "outputs": [
    {
     "data": {
      "text/plain": [
       "(1, 6, 0)"
      ]
     },
     "execution_count": 97,
     "metadata": {},
     "output_type": "execute_result"
    }
   ],
   "source": [
    "x = (1, 6, 0)\n",
    "x"
   ]
  },
  {
   "cell_type": "code",
   "execution_count": 98,
   "metadata": {},
   "outputs": [
    {
     "data": {
      "text/plain": [
       "tuple"
      ]
     },
     "execution_count": 98,
     "metadata": {},
     "output_type": "execute_result"
    }
   ],
   "source": [
    "type(x)"
   ]
  },
  {
   "cell_type": "code",
   "execution_count": 99,
   "metadata": {},
   "outputs": [
    {
     "ename": "AttributeError",
     "evalue": "'tuple' object has no attribute 'add'",
     "output_type": "error",
     "traceback": [
      "\u001b[0;31m---------------------------------------------------------------------------\u001b[0m",
      "\u001b[0;31mAttributeError\u001b[0m                            Traceback (most recent call last)",
      "\u001b[0;32m<ipython-input-99-40c0cb63e37d>\u001b[0m in \u001b[0;36m<module>\u001b[0;34m\u001b[0m\n\u001b[0;32m----> 1\u001b[0;31m \u001b[0mx\u001b[0m\u001b[0;34m.\u001b[0m\u001b[0madd\u001b[0m\u001b[0;34m(\u001b[0m\u001b[0;36m2\u001b[0m\u001b[0;34m)\u001b[0m\u001b[0;34m\u001b[0m\u001b[0;34m\u001b[0m\u001b[0m\n\u001b[0m",
      "\u001b[0;31mAttributeError\u001b[0m: 'tuple' object has no attribute 'add'"
     ]
    }
   ],
   "source": [
    "x.add(2)"
   ]
  },
  {
   "cell_type": "code",
   "execution_count": 107,
   "metadata": {},
   "outputs": [
    {
     "data": {
      "text/plain": [
       "5"
      ]
     },
     "execution_count": 107,
     "metadata": {},
     "output_type": "execute_result"
    }
   ],
   "source": [
    "def add(x1, x2):\n",
    "    return x1 + x2\n",
    "\n",
    "add(2, 3)"
   ]
  },
  {
   "cell_type": "code",
   "execution_count": 108,
   "metadata": {},
   "outputs": [
    {
     "data": {
      "text/plain": [
       "8.0"
      ]
     },
     "execution_count": 108,
     "metadata": {},
     "output_type": "execute_result"
    }
   ],
   "source": [
    "add(2.4, 5.6)"
   ]
  },
  {
   "cell_type": "code",
   "execution_count": 109,
   "metadata": {},
   "outputs": [
    {
     "data": {
      "text/plain": [
       "'helloworld'"
      ]
     },
     "execution_count": 109,
     "metadata": {},
     "output_type": "execute_result"
    }
   ],
   "source": [
    "add(\"hello\", \"world\")"
   ]
  },
  {
   "cell_type": "code",
   "execution_count": 110,
   "metadata": {},
   "outputs": [
    {
     "ename": "TypeError",
     "evalue": "must be str, not float",
     "output_type": "error",
     "traceback": [
      "\u001b[0;31m---------------------------------------------------------------------------\u001b[0m",
      "\u001b[0;31mTypeError\u001b[0m                                 Traceback (most recent call last)",
      "\u001b[0;32m<ipython-input-110-97ca4066e007>\u001b[0m in \u001b[0;36m<module>\u001b[0;34m\u001b[0m\n\u001b[0;32m----> 1\u001b[0;31m \u001b[0madd\u001b[0m\u001b[0;34m(\u001b[0m\u001b[0;34m\"hello\"\u001b[0m\u001b[0;34m,\u001b[0m \u001b[0;36m2.3\u001b[0m\u001b[0;34m)\u001b[0m\u001b[0;34m\u001b[0m\u001b[0;34m\u001b[0m\u001b[0m\n\u001b[0m",
      "\u001b[0;32m<ipython-input-107-50924f677ead>\u001b[0m in \u001b[0;36madd\u001b[0;34m(x1, x2)\u001b[0m\n\u001b[1;32m      1\u001b[0m \u001b[0;32mdef\u001b[0m \u001b[0madd\u001b[0m\u001b[0;34m(\u001b[0m\u001b[0mx1\u001b[0m\u001b[0;34m,\u001b[0m \u001b[0mx2\u001b[0m\u001b[0;34m)\u001b[0m\u001b[0;34m:\u001b[0m\u001b[0;34m\u001b[0m\u001b[0;34m\u001b[0m\u001b[0m\n\u001b[0;32m----> 2\u001b[0;31m     \u001b[0;32mreturn\u001b[0m \u001b[0mx1\u001b[0m \u001b[0;34m+\u001b[0m \u001b[0mx2\u001b[0m\u001b[0;34m\u001b[0m\u001b[0;34m\u001b[0m\u001b[0m\n\u001b[0m\u001b[1;32m      3\u001b[0m \u001b[0;34m\u001b[0m\u001b[0m\n\u001b[1;32m      4\u001b[0m \u001b[0madd\u001b[0m\u001b[0;34m(\u001b[0m\u001b[0;36m2\u001b[0m\u001b[0;34m,\u001b[0m \u001b[0;36m3\u001b[0m\u001b[0;34m)\u001b[0m\u001b[0;34m\u001b[0m\u001b[0;34m\u001b[0m\u001b[0m\n",
      "\u001b[0;31mTypeError\u001b[0m: must be str, not float"
     ]
    }
   ],
   "source": [
    "add(\"hello\", 2.3)"
   ]
  },
  {
   "cell_type": "code",
   "execution_count": 115,
   "metadata": {},
   "outputs": [
    {
     "data": {
      "text/plain": [
       "90"
      ]
     },
     "execution_count": 115,
     "metadata": {},
     "output_type": "execute_result"
    }
   ],
   "source": [
    "def add(x1, x2 = 10):\n",
    "    return x1 - x2\n",
    "\n",
    "add(100)"
   ]
  },
  {
   "cell_type": "code",
   "execution_count": 116,
   "metadata": {},
   "outputs": [
    {
     "data": {
      "text/plain": [
       "-100"
      ]
     },
     "execution_count": 116,
     "metadata": {},
     "output_type": "execute_result"
    }
   ],
   "source": [
    "add(x1 = 100, x2 = 200 )"
   ]
  },
  {
   "cell_type": "code",
   "execution_count": 117,
   "metadata": {},
   "outputs": [
    {
     "data": {
      "text/plain": [
       "-400"
      ]
     },
     "execution_count": 117,
     "metadata": {},
     "output_type": "execute_result"
    }
   ],
   "source": [
    "add(x2 = 500, x1 = 100 )"
   ]
  },
  {
   "cell_type": "code",
   "execution_count": 121,
   "metadata": {},
   "outputs": [
    {
     "data": {
      "text/plain": [
       "29"
      ]
     },
     "execution_count": 121,
     "metadata": {},
     "output_type": "execute_result"
    }
   ],
   "source": [
    "def add(*x1):\n",
    "    return sum(x1)\n",
    "\n",
    "\n",
    "add(2, 3, 4, 6, 10, 4)"
   ]
  },
  {
   "cell_type": "code",
   "execution_count": 122,
   "metadata": {},
   "outputs": [],
   "source": [
    "with open(\"/Users/abasar/Downloads/stocks.small.csv\", \"r\") as f:\n",
    "    content = f.read()"
   ]
  },
  {
   "cell_type": "code",
   "execution_count": 132,
   "metadata": {
    "scrolled": false
   },
   "outputs": [
    {
     "data": {
      "text/plain": [
       "['date,open,high,low,close,volume,adjclose,symbol',\n",
       " '2000-07-18,144.8125,144.828125,141.4375,143.0,5.06836E7,50.155473,INTC',\n",
       " '2000-07-20,32.93751,34.25001,32.8125,33.75,3288300.0,8.789734,BEN',\n",
       " '2000-07-24,64.25,67.312477,64.187523,64.75,948800.0,7.689567,APH',\n",
       " '2000-07-26,21.875,22.125,20.9375,20.9375,1464300.0,15.61832,SHW',\n",
       " '2000-07-26,42.0,42.312481,41.625,41.875,1397600.0,9.402721,STJ',\n",
       " '2000-07-31,33.937519,33.999986,33.75,33.875011,273400.0,5.063753,GGP',\n",
       " '2000-08-07,41.375038,43.0,40.812481,42.812481,2.43376E7,4.869542,SBUX',\n",
       " '2000-08-09,55.562481,55.625,54.5,55.0,387600.0,10.495977,EQT',\n",
       " '2000-08-10,49.0,52.625,48.75,52.125,1511600.0,22.539051,BCR']"
      ]
     },
     "execution_count": 132,
     "metadata": {},
     "output_type": "execute_result"
    }
   ],
   "source": [
    "lines = content.split(\"\\n\")\n",
    "lines = [line for line in lines if len(line)>0] # remove empty line\n",
    "lines[:10]"
   ]
  },
  {
   "cell_type": "code",
   "execution_count": 133,
   "metadata": {},
   "outputs": [
    {
     "data": {
      "text/plain": [
       "['2000-07-18,144.8125,144.828125,141.4375,143.0,5.06836E7,50.155473,INTC',\n",
       " '2000-07-20,32.93751,34.25001,32.8125,33.75,3288300.0,8.789734,BEN',\n",
       " '2000-07-24,64.25,67.312477,64.187523,64.75,948800.0,7.689567,APH',\n",
       " '2000-07-26,21.875,22.125,20.9375,20.9375,1464300.0,15.61832,SHW',\n",
       " '2000-07-26,42.0,42.312481,41.625,41.875,1397600.0,9.402721,STJ',\n",
       " '2000-07-31,33.937519,33.999986,33.75,33.875011,273400.0,5.063753,GGP',\n",
       " '2000-08-07,41.375038,43.0,40.812481,42.812481,2.43376E7,4.869542,SBUX',\n",
       " '2000-08-09,55.562481,55.625,54.5,55.0,387600.0,10.495977,EQT',\n",
       " '2000-08-10,49.0,52.625,48.75,52.125,1511600.0,22.539051,BCR',\n",
       " '2000-08-15,35.68749,35.68749,34.875,34.875,1246500.0,9.082726,BEN']"
      ]
     },
     "execution_count": 133,
     "metadata": {},
     "output_type": "execute_result"
    }
   ],
   "source": [
    "data = lines[1:]\n",
    "data[:10]"
   ]
  },
  {
   "cell_type": "code",
   "execution_count": 135,
   "metadata": {},
   "outputs": [
    {
     "data": {
      "text/plain": [
       "'INTC'"
      ]
     },
     "execution_count": 135,
     "metadata": {},
     "output_type": "execute_result"
    }
   ],
   "source": [
    "'2000-07-18,144.8125,144.828125,141.4375,143.0,5.06836E7,50.155473,INTC'.split(\",\")[-1]"
   ]
  },
  {
   "cell_type": "code",
   "execution_count": 136,
   "metadata": {
    "scrolled": false
   },
   "outputs": [
    {
     "data": {
      "text/plain": [
       "['INTC', 'BEN', 'APH', 'SHW', 'STJ', 'GGP', 'SBUX', 'EQT', 'BCR', 'BEN']"
      ]
     },
     "execution_count": 136,
     "metadata": {},
     "output_type": "execute_result"
    }
   ],
   "source": [
    "symbols = [line.split(\",\")[-1] for line in data]\n",
    "symbols[:10]"
   ]
  },
  {
   "cell_type": "code",
   "execution_count": 137,
   "metadata": {},
   "outputs": [],
   "source": [
    "unique_symbols = set(symbols)"
   ]
  },
  {
   "cell_type": "code",
   "execution_count": 138,
   "metadata": {},
   "outputs": [
    {
     "data": {
      "text/plain": [
       "471"
      ]
     },
     "execution_count": 138,
     "metadata": {},
     "output_type": "execute_result"
    }
   ],
   "source": [
    "len(unique_symbols)"
   ]
  },
  {
   "cell_type": "code",
   "execution_count": 139,
   "metadata": {},
   "outputs": [],
   "source": [
    "count_by_symbol = {}\n",
    "for symbol in symbols:\n",
    "    if symbol in count_by_symbol:\n",
    "        count_by_symbol[symbol] += 1\n",
    "    else:\n",
    "        count_by_symbol[symbol] = 1"
   ]
  },
  {
   "cell_type": "code",
   "execution_count": 154,
   "metadata": {
    "scrolled": false
   },
   "outputs": [
    {
     "data": {
      "text/plain": [
       "[('INTC', 4),\n",
       " ('BEN', 6),\n",
       " ('APH', 3),\n",
       " ('SHW', 5),\n",
       " ('STJ', 3),\n",
       " ('GGP', 5),\n",
       " ('SBUX', 6),\n",
       " ('EQT', 7),\n",
       " ('BCR', 6),\n",
       " ('NKE', 8)]"
      ]
     },
     "execution_count": 154,
     "metadata": {},
     "output_type": "execute_result"
    }
   ],
   "source": [
    "count_by_symbol = list(count_by_symbol.items())\n",
    "count_by_symbol[:10]"
   ]
  },
  {
   "cell_type": "code",
   "execution_count": 158,
   "metadata": {},
   "outputs": [
    {
     "data": {
      "text/plain": [
       "[('UPS', 11), ('ZBH', 11), ('K', 10)]"
      ]
     },
     "execution_count": 158,
     "metadata": {},
     "output_type": "execute_result"
    }
   ],
   "source": [
    "count_by_symbol.sort(key=lambda p: p[1], reverse = True)\n",
    "count_by_symbol[:3]"
   ]
  },
  {
   "cell_type": "code",
   "execution_count": 146,
   "metadata": {},
   "outputs": [
    {
     "data": {
      "text/plain": [
       "'date,open,high,low,close,volume,adjclose,symbol'"
      ]
     },
     "execution_count": 146,
     "metadata": {},
     "output_type": "execute_result"
    }
   ],
   "source": [
    "lines[0]"
   ]
  },
  {
   "cell_type": "code",
   "execution_count": 149,
   "metadata": {
    "scrolled": false
   },
   "outputs": [
    {
     "data": {
      "text/plain": [
       "{'INTC': [50683600.0, 76656300.0, 99681400.0, 70452900.0],\n",
       " 'BEN': [3288300.0, 1246500.0, 2503500.0, 5225400.0, 2376600.0, 5262000.0],\n",
       " 'APH': [948800.0, 1146800.0, 2624500.0],\n",
       " 'SHW': [1464300.0, 970300.0, 1488500.0, 571700.0, 649000.0],\n",
       " 'STJ': [1397600.0, 1332100.0, 1294300.0],\n",
       " 'GGP': [273400.0, 713300.0, 449500.0, 1167900.0, 2201000.0],\n",
       " 'SBUX': [24337600.0,\n",
       "  35887800.0,\n",
       "  16590000.0,\n",
       "  22492600.0,\n",
       "  17651600.0,\n",
       "  9281800.0],\n",
       " 'EQT': [387600.0,\n",
       "  589400.0,\n",
       "  474400.0,\n",
       "  1333200.0,\n",
       "  1964200.0,\n",
       "  852800.0,\n",
       "  1318800.0],\n",
       " 'BCR': [1511600.0, 4998000.0, 794400.0, 752200.0, 832100.0, 455500.0],\n",
       " 'NKE': [19686400.0,\n",
       "  16739200.0,\n",
       "  10480800.0,\n",
       "  10762400.0,\n",
       "  24951200.0,\n",
       "  14298800.0,\n",
       "  5756000.0,\n",
       "  7168200.0],\n",
       " 'IPG': [1431700.0, 1192600.0, 2988800.0, 6380600.0, 6881100.0],\n",
       " 'EXC': [4194400.0, 4211800.0, 2776900.0, 5907400.0],\n",
       " 'BXP': [155100.0, 413400.0, 892100.0, 810100.0, 538600.0],\n",
       " 'BIIB': [4101900.0,\n",
       "  3110200.0,\n",
       "  5540800.0,\n",
       "  1549100.0,\n",
       "  1916200.0,\n",
       "  757200.0,\n",
       "  1776700.0],\n",
       " 'DD': [6005600.0],\n",
       " 'NUE': [1419200.0,\n",
       "  4101400.0,\n",
       "  1358100.0,\n",
       "  4872000.0,\n",
       "  5225500.0,\n",
       "  1933100.0,\n",
       "  1025600.0,\n",
       "  1309800.0],\n",
       " 'ALK': [2096400.0,\n",
       "  1104800.0,\n",
       "  4722800.0,\n",
       "  5260800.0,\n",
       "  4426400.0,\n",
       "  1301000.0,\n",
       "  1364700.0],\n",
       " 'COG': [559200.0, 3158400.0, 1420400.0, 10491200.0, 5497400.0, 4091600.0],\n",
       " 'ETN': [1148400.0,\n",
       "  1556000.0,\n",
       "  1168800.0,\n",
       "  2093600.0,\n",
       "  1701200.0,\n",
       "  4144800.0,\n",
       "  2172800.0,\n",
       "  2975100.0],\n",
       " 'DO': [1394800.0, 1101700.0, 2268700.0, 3905100.0, 976900.0],\n",
       " 'BSX': [4287800.0, 2782900.0, 5627600.0, 7115500.0],\n",
       " 'UPS': [1145800.0,\n",
       "  2760300.0,\n",
       "  5409300.0,\n",
       "  6074900.0,\n",
       "  1840500.0,\n",
       "  2283200.0,\n",
       "  4543200.0,\n",
       "  4673900.0,\n",
       "  4249700.0,\n",
       "  1783900.0,\n",
       "  2982900.0],\n",
       " 'ENDP': [16800.0, 447200.0, 1306600.0, 2002700.0, 3049400.0],\n",
       " 'WBA': [1813800.0, 3327200.0, 8500900.0, 4031800.0],\n",
       " 'PXD': [829700.0, 1003300.0, 1738400.0, 1251200.0],\n",
       " 'STI': [1038100.0, 929200.0, 3419200.0, 13464100.0, 3137400.0],\n",
       " 'FDX': [622600.0, 1165300.0, 2206100.0, 4053700.0, 1739900.0, 2670600.0],\n",
       " 'LLTC': [3893900.0, 4786000.0, 5111000.0],\n",
       " 'RHT': [2390600.0, 429700.0, 3446700.0, 2432900.0, 2300200.0, 2193100.0],\n",
       " 'O': [37000.0, 148600.0, 1453400.0, 703500.0, 2276000.0],\n",
       " 'RAI': [4000800.0, 16589600.0, 7517200.0, 4866600.0, 16149100.0],\n",
       " 'BWA': [1828800.0, 957600.0, 2573200.0, 1065000.0],\n",
       " 'FLIR': [93600.0,\n",
       "  1691800.0,\n",
       "  1282400.0,\n",
       "  935100.0,\n",
       "  1935800.0,\n",
       "  1390100.0,\n",
       "  1354100.0,\n",
       "  1254700.0,\n",
       "  646600.0],\n",
       " 'MET': [5533800.0, 1153900.0, 6543800.0, 7635800.0, 6370300.0],\n",
       " 'XLNX': [10076600.0, 9779200.0, 7721800.0, 3070600.0, 2585600.0, 4498100.0],\n",
       " 'FCX': [1217000.0, 1775400.0, 10069800.0, 23757700.0],\n",
       " 'FOX': [2018100.0, 2928200.0, 2086800.0, 1720800.0],\n",
       " 'EMC': [9635900.0, 18765000.0, 18438000.0],\n",
       " 'RHI': [1117600.0, 2498000.0, 1060500.0],\n",
       " 'FISV': [3893400.0, 1844200.0, 1534800.0],\n",
       " 'CINF': [256800.0,\n",
       "  327500.0,\n",
       "  383100.0,\n",
       "  313700.0,\n",
       "  436800.0,\n",
       "  693100.0,\n",
       "  1172100.0],\n",
       " 'AGN': [1489400.0, 1157300.0, 1028800.0, 684700.0, 1036700.0],\n",
       " 'IP': [2616200.0,\n",
       "  1659200.0,\n",
       "  2334800.0,\n",
       "  9551500.0,\n",
       "  2428400.0,\n",
       "  2395700.0,\n",
       "  2943800.0],\n",
       " 'KSS': [1960400.0, 3021700.0, 5934300.0, 2894300.0, 3664300.0],\n",
       " 'EBAY': [42812700.0, 54494000.0, 13759400.0],\n",
       " 'CMS': [426000.0,\n",
       "  928500.0,\n",
       "  1028000.0,\n",
       "  1228900.0,\n",
       "  2204800.0,\n",
       "  2027300.0,\n",
       "  1457000.0],\n",
       " 'TROW': [1572200.0, 1981200.0, 3708900.0, 1195100.0, 1260600.0],\n",
       " 'KR': [6395400.0,\n",
       "  4723000.0,\n",
       "  11903800.0,\n",
       "  4363600.0,\n",
       "  15897400.0,\n",
       "  6180800.0,\n",
       "  4736600.0,\n",
       "  5597400.0,\n",
       "  4874000.0],\n",
       " 'R': [148100.0, 300500.0, 679200.0, 787000.0, 769800.0, 778700.0],\n",
       " 'PNC': [882400.0, 1531700.0, 790800.0, 1253800.0, 1742100.0],\n",
       " 'ED': [585700.0,\n",
       "  885800.0,\n",
       "  1238500.0,\n",
       "  2545400.0,\n",
       "  1356000.0,\n",
       "  1591000.0,\n",
       "  2054900.0],\n",
       " 'KEY': [678700.0],\n",
       " 'USB': [2697800.0, 38186600.0],\n",
       " 'MCO': [1489200.0, 1141400.0, 659200.0, 736800.0, 7020700.0],\n",
       " 'HES': [2513100.0, 1710300.0, 5740800.0],\n",
       " 'RCL': [288900.0],\n",
       " 'HON': [8869700.0, 4264600.0, 2885000.0],\n",
       " 'REGN': [191100.0, 104900.0, 619800.0, 908600.0, 395300.0],\n",
       " 'FLR': [881000.0, 1066000.0, 1476800.0],\n",
       " 'MSI': [2334000.0, 4651000.0, 1591700.0],\n",
       " 'ISRG': [59700.0, 52000.0, 512700.0, 584100.0, 360500.0],\n",
       " 'MYL': [1166400.0, 1469800.0, 5402000.0, 6992600.0, 4021900.0],\n",
       " 'LEG': [422000.0, 872400.0, 1281800.0, 1030100.0, 980800.0, 1095200.0],\n",
       " 'MOS': [95300.0, 1488500.0, 13245400.0, 5625800.0, 3727900.0, 4412500.0],\n",
       " 'WMT': [6754500.0,\n",
       "  8355200.0,\n",
       "  10144800.0,\n",
       "  12503700.0,\n",
       "  15782900.0,\n",
       "  14310800.0,\n",
       "  9057100.0,\n",
       "  20413100.0],\n",
       " 'HD': [5037600.0, 7944900.0, 4013000.0],\n",
       " 'COF': [1649000.0,\n",
       "  2046200.0,\n",
       "  1240500.0,\n",
       "  1605700.0,\n",
       "  3824400.0,\n",
       "  3692000.0,\n",
       "  2889600.0,\n",
       "  3028100.0,\n",
       "  2879000.0],\n",
       " 'MLM': [456000.0, 129700.0, 124100.0, 357500.0, 906700.0, 707600.0],\n",
       " 'ADBE': [4206200.0, 5245200.0],\n",
       " 'OKE': [299200.0, 577000.0, 496600.0, 1003500.0, 1233100.0],\n",
       " 'SRE': [684700.0, 1616300.0, 630300.0],\n",
       " 'CTAS': [1110400.0, 1790700.0, 410200.0, 265300.0],\n",
       " 'MMC': [1763800.0, 6476800.0, 3023300.0, 3170000.0, 3214700.0, 2953200.0],\n",
       " 'FMC': [2504400.0,\n",
       "  794000.0,\n",
       "  3187200.0,\n",
       "  688400.0,\n",
       "  833600.0,\n",
       "  1218000.0,\n",
       "  508500.0,\n",
       "  2330600.0],\n",
       " 'LLL': [536000.0, 910900.0, 1227600.0, 1202600.0],\n",
       " 'VMC': [147800.0, 119700.0, 262400.0, 693800.0],\n",
       " 'SLB': [6429600.0, 11054300.0, 6871700.0],\n",
       " 'LRCX': [2112800.0, 661700.0, 2827500.0, 1084900.0, 1975500.0],\n",
       " 'SCG': [374200.0, 235700.0, 921200.0, 602300.0, 414800.0],\n",
       " 'SYK': [621200.0, 1057800.0, 1624300.0, 1190200.0],\n",
       " 'BLL': [864000.0, 1322800.0, 2000000.0],\n",
       " 'CERN': [4202400.0, 4339200.0, 1477200.0],\n",
       " 'ECL': [867000.0, 643400.0, 671800.0],\n",
       " 'HST': [297200.0, 1585200.0, 4142800.0, 9559600.0],\n",
       " 'GILD': [16008000.0, 31905600.0, 11182400.0, 12302900.0],\n",
       " 'XL': [914600.0, 726900.0, 478700.0],\n",
       " 'CTXS': [4625900.0, 1822400.0, 6316500.0, 770500.0],\n",
       " 'AIV': [226900.0, 1135200.0, 1221500.0],\n",
       " 'GLW': [4312000.0, 12191400.0, 41042900.0, 14966300.0, 11614400.0],\n",
       " 'GE': [18486200.0,\n",
       "  18420100.0,\n",
       "  14257500.0,\n",
       "  20328400.0,\n",
       "  23881000.0,\n",
       "  17123500.0,\n",
       "  25326800.0],\n",
       " 'SJM': [17700.0, 115400.0, 130100.0, 210000.0, 734700.0],\n",
       " 'LLY': [3656100.0,\n",
       "  17962300.0,\n",
       "  3535500.0,\n",
       "  4794600.0,\n",
       "  1910500.0,\n",
       "  12240000.0,\n",
       "  7142600.0],\n",
       " 'DE': [2379800.0, 2079000.0, 4130000.0, 2868000.0, 1579400.0, 3025900.0],\n",
       " 'HUM': [1862800.0,\n",
       "  1367400.0,\n",
       "  891500.0,\n",
       "  1007100.0,\n",
       "  1044300.0,\n",
       "  1194700.0,\n",
       "  992500.0],\n",
       " 'EMN': [2207000.0, 1231000.0, 1810600.0, 2513200.0],\n",
       " 'F': [4912400.0, 65288100.0, 67379800.0],\n",
       " 'COH': [1836000.0, 3583200.0, 7311400.0, 2358300.0],\n",
       " 'MRK': [5280700.0,\n",
       "  9652900.0,\n",
       "  14659700.0,\n",
       "  14131000.0,\n",
       "  9885200.0,\n",
       "  18663100.0,\n",
       "  16272700.0],\n",
       " 'PGR': [4471200.0, 4382400.0, 5889700.0, 5147500.0, 4140600.0],\n",
       " 'AMZN': [3629600.0,\n",
       "  5320200.0,\n",
       "  4809700.0,\n",
       "  8738200.0,\n",
       "  4436800.0,\n",
       "  3871300.0,\n",
       "  3749600.0],\n",
       " 'OXY': [1615300.0, 1731000.0, 4839800.0, 2549300.0],\n",
       " 'DTE': [284200.0, 749000.0, 798200.0, 1038200.0],\n",
       " 'ATVI': [18282800.0, 16945500.0, 6272900.0],\n",
       " 'YUM': [2202000.0, 1350200.0, 1471000.0, 1695200.0, 1440900.0, 2622200.0],\n",
       " 'YHOO': [31970800.0, 26198600.0, 16369600.0, 27290100.0, 13591600.0],\n",
       " 'NTRS': [712700.0, 1691400.0, 1024200.0, 681700.0, 677200.0],\n",
       " 'SLG': [70000.0, 313800.0, 279700.0, 673200.0, 1443400.0, 632700.0],\n",
       " 'MTB': [147000.0,\n",
       "  464000.0,\n",
       "  193400.0,\n",
       "  1199000.0,\n",
       "  1226600.0,\n",
       "  276300.0,\n",
       "  399700.0],\n",
       " 'COL': [1131400.0, 843600.0],\n",
       " 'GS': [2880100.0, 3176100.0],\n",
       " 'CNP': [1543700.0, 2218300.0, 2395400.0],\n",
       " 'IFF': [165700.0,\n",
       "  610500.0,\n",
       "  528700.0,\n",
       "  2567000.0,\n",
       "  1288600.0,\n",
       "  454700.0,\n",
       "  407700.0,\n",
       "  328800.0],\n",
       " 'ETFC': [480400.0, 5190100.0, 2560000.0, 4772700.0],\n",
       " 'MU': [7729300.0,\n",
       "  5866400.0,\n",
       "  6193900.0,\n",
       "  13230900.0,\n",
       "  26470900.0,\n",
       "  11280300.0,\n",
       "  38736200.0],\n",
       " 'MKC': [288800.0, 289200.0, 488400.0, 1055400.0, 883000.0, 1180900.0],\n",
       " 'EA': [5627600.0, 3145600.0, 3316500.0],\n",
       " 'CCL': [1726200.0, 4090400.0, 10548800.0, 2665200.0, 5135100.0, 2088100.0],\n",
       " 'LMT': [976200.0, 2620200.0, 3414900.0, 2836100.0],\n",
       " 'AIG': [215400.0, 162300.0, 6912900.0, 5008400.0, 4909600.0],\n",
       " 'SWK': [59000.0, 549400.0, 199600.0, 335200.0, 393600.0],\n",
       " 'HCP': [1486400.0, 291200.0, 657300.0, 401400.0, 2265200.0],\n",
       " 'DGX': [1613600.0, 6290800.0, 1229500.0, 2311900.0, 845400.0],\n",
       " 'M': [4755400.0, 5597400.0, 16329100.0, 9457700.0, 6726700.0, 4051400.0],\n",
       " 'NEM': [1885300.0,\n",
       "  4408200.0,\n",
       "  5442900.0,\n",
       "  6040200.0,\n",
       "  7321400.0,\n",
       "  6349300.0,\n",
       "  8606200.0],\n",
       " 'HOLX': [610800.0, 310400.0, 360000.0, 1622500.0, 5105800.0],\n",
       " 'LNC': [1249900.0,\n",
       "  1973600.0,\n",
       "  762400.0,\n",
       "  527600.0,\n",
       "  518100.0,\n",
       "  2389800.0,\n",
       "  1661400.0],\n",
       " 'CA': [5387400.0, 3874900.0, 3593800.0, 9590700.0, 3462700.0, 1923700.0],\n",
       " 'CCI': [2940900.0, 1892900.0, 1324300.0],\n",
       " 'NFX': [575000.0,\n",
       "  256200.0,\n",
       "  1224600.0,\n",
       "  2968400.0,\n",
       "  1569900.0,\n",
       "  22585900.0,\n",
       "  3696100.0],\n",
       " 'PHM': [1051600.0,\n",
       "  2679700.0,\n",
       "  7658400.0,\n",
       "  3383700.0,\n",
       "  10429700.0,\n",
       "  12400000.0,\n",
       "  6159200.0,\n",
       "  5135000.0,\n",
       "  5395800.0],\n",
       " 'BBBY': [3562800.0,\n",
       "  4104100.0,\n",
       "  3278400.0,\n",
       "  4334900.0,\n",
       "  3151200.0,\n",
       "  1732600.0,\n",
       "  1532600.0],\n",
       " 'EXPD': [1255200.0, 1589400.0, 3032600.0, 1118400.0, 1700300.0, 1628800.0],\n",
       " 'PEG': [1328400.0, 2906000.0, 2465800.0, 1305200.0, 3293800.0, 2180200.0],\n",
       " 'KMB': [1016100.0,\n",
       "  1312500.0,\n",
       "  1663200.0,\n",
       "  4339900.0,\n",
       "  979800.0,\n",
       "  2935200.0,\n",
       "  2897100.0,\n",
       "  1931300.0],\n",
       " 'CTSH': [1759200.0, 7381600.0],\n",
       " 'CAT': [4004800.0, 4498000.0, 4964400.0, 6683900.0, 7036100.0],\n",
       " 'XRAY': [395400.0, 696800.0, 1930900.0, 747900.0, 1815500.0],\n",
       " 'PBI': [693300.0, 1014500.0, 620800.0, 2491900.0],\n",
       " 'BMY': [5486400.0,\n",
       "  11226200.0,\n",
       "  14981200.0,\n",
       "  13028600.0,\n",
       "  16254900.0,\n",
       "  6318800.0,\n",
       "  8666400.0],\n",
       " 'WAT': [5569900.0,\n",
       "  566900.0,\n",
       "  960000.0,\n",
       "  366300.0,\n",
       "  617000.0,\n",
       "  523700.0,\n",
       "  284900.0],\n",
       " 'CNC': [30400.0, 557000.0, 1472100.0],\n",
       " 'UNH': [2827600.0, 5474800.0, 9558200.0, 5497500.0],\n",
       " 'SWN': [212000.0, 548800.0, 5698400.0, 5709000.0, 5191000.0],\n",
       " 'DVN': [2626000.0, 3686500.0, 3203100.0, 2476500.0],\n",
       " 'VZ': [3520300.0,\n",
       "  14001900.0,\n",
       "  10229100.0,\n",
       "  13777000.0,\n",
       "  24040700.0,\n",
       "  11658900.0,\n",
       "  16304500.0],\n",
       " 'DOV': [556400.0, 2476100.0, 2359100.0, 1935100.0],\n",
       " 'SRCL': [2415200.0],\n",
       " 'HRS': [419700.0, 1276400.0, 971700.0, 562400.0],\n",
       " 'EQR': [1137800.0, 1093100.0, 5822400.0, 2146600.0, 1155600.0],\n",
       " 'CELG': [9160000.0, 5106400.0, 5928600.0],\n",
       " 'STT': [990100.0, 1600600.0, 5633200.0, 1560500.0],\n",
       " 'JNJ': [5920600.0,\n",
       "  7134500.0,\n",
       "  5279200.0,\n",
       "  8689900.0,\n",
       "  8792600.0,\n",
       "  5251000.0,\n",
       "  7007600.0,\n",
       "  9851700.0],\n",
       " 'AEE': [567300.0, 568600.0, 527000.0, 2077400.0],\n",
       " 'D': [8523000.0,\n",
       "  2314400.0,\n",
       "  2935200.0,\n",
       "  3206100.0,\n",
       "  2578500.0,\n",
       "  1956900.0,\n",
       "  2280300.0,\n",
       "  3794500.0,\n",
       "  7915800.0],\n",
       " 'HSIC': [487000.0, 360900.0],\n",
       " 'CL': [6183800.0, 4355800.0, 5299200.0],\n",
       " 'SCHW': [3225700.0,\n",
       "  5415400.0,\n",
       "  3339000.0,\n",
       "  6674600.0,\n",
       "  26052100.0,\n",
       "  20286700.0,\n",
       "  11166500.0],\n",
       " 'AZO': [713800.0, 732100.0, 2526900.0],\n",
       " 'MDT': [4153800.0, 8561800.0, 13883400.0, 12128200.0, 4226100.0, 6024200.0],\n",
       " 'ALB': [489800.0, 522700.0, 382000.0, 499100.0, 694000.0],\n",
       " 'PCAR': [3407500.0, 3402600.0, 6559000.0],\n",
       " 'ESS': [47000.0, 353700.0, 406900.0, 217800.0],\n",
       " 'PPL': [1271400.0, 1244200.0, 8255800.0, 3282000.0],\n",
       " 'PPG': [1677200.0,\n",
       "  2004600.0,\n",
       "  1173000.0,\n",
       "  2510600.0,\n",
       "  1028200.0,\n",
       "  1444000.0,\n",
       "  2322600.0,\n",
       "  1012100.0],\n",
       " 'RRC': [365200.0, 227800.0, 1159500.0, 2904200.0],\n",
       " 'PDCO': [1359000.0, 4496000.0, 803900.0, 1423200.0],\n",
       " 'ROST': [11695200.0],\n",
       " 'LH': [11739000.0, 2108400.0],\n",
       " 'PVH': [158900.0, 85300.0, 99600.0, 1041700.0, 518800.0, 1008700.0],\n",
       " 'PFG': [1849400.0, 883900.0, 3136100.0, 951900.0, 826400.0, 3276900.0],\n",
       " 'HBAN': [728500.0, 5846000.0],\n",
       " 'AMGN': [12383500.0, 8300100.0, 7834900.0, 3832500.0],\n",
       " 'APC': [2696200.0,\n",
       "  3016800.0,\n",
       "  7376600.0,\n",
       "  7366700.0,\n",
       "  7963500.0,\n",
       "  3413200.0,\n",
       "  7105000.0],\n",
       " 'TSN': [1489200.0, 2052900.0, 3364600.0, 3277100.0],\n",
       " 'XRX': [3019200.0],\n",
       " 'TYC': [5025300.0, 4724600.0],\n",
       " 'VRSN': [3882600.0, 2741800.0, 6963000.0, 3602100.0, 961900.0, 1383000.0],\n",
       " 'HPQ': [22017100.0,\n",
       "  21627400.0,\n",
       "  50162900.0,\n",
       "  24322400.0,\n",
       "  60545800.0,\n",
       "  40322400.0],\n",
       " 'ADM': [1865600.0, 5900200.0, 7286800.0, 6023900.0, 4181800.0, 4171500.0],\n",
       " 'GPN': [491600.0, 887400.0, 627600.0, 2051600.0, 2964000.0],\n",
       " 'K': [1081400.0,\n",
       "  1049400.0,\n",
       "  1324300.0,\n",
       "  3229800.0,\n",
       "  3345700.0,\n",
       "  2317400.0,\n",
       "  1753100.0,\n",
       "  1211100.0,\n",
       "  645200.0,\n",
       "  2239600.0],\n",
       " 'ADI': [2922200.0, 3405200.0, 4027300.0, 1852900.0, 2506600.0, 2740500.0],\n",
       " 'CHRW': [384800.0, 1096600.0, 1288900.0],\n",
       " 'WHR': [386200.0, 793200.0, 1577400.0, 1446100.0, 763500.0],\n",
       " 'JPM': [19718200.0,\n",
       "  10890100.0,\n",
       "  15683600.0,\n",
       "  7984100.0,\n",
       "  77073900.0,\n",
       "  38782900.0],\n",
       " 'TXT': [1576600.0, 6603100.0, 15557700.0, 1986700.0],\n",
       " 'PNW': [1421100.0, 856800.0, 256200.0, 572900.0],\n",
       " 'MAR': [2733100.0, 1224300.0, 4223200.0, 1084200.0],\n",
       " 'SIG': [2100.0,\n",
       "  1600.0,\n",
       "  235200.0,\n",
       "  780000.0,\n",
       "  640100.0,\n",
       "  694500.0,\n",
       "  446900.0,\n",
       "  1379700.0],\n",
       " 'AME': [518400.0, 789000.0, 1396300.0, 1572400.0, 618000.0, 1577300.0],\n",
       " 'WY': [445900.0, 1145600.0, 1703500.0],\n",
       " 'HP': [550800.0, 505800.0, 872600.0, 3008400.0],\n",
       " 'WMB': [11946300.0, 3655200.0, 4946500.0, 10662500.0, 4355000.0],\n",
       " 'ABT': [18371600.0, 6702700.0, 20577100.0, 7140700.0, 18241600.0, 7807600.0],\n",
       " 'AYI': [97300.0, 280700.0, 258700.0, 1337600.0, 373400.0],\n",
       " 'AXP': [3324400.0, 15999400.0, 3469200.0],\n",
       " 'AON': [905500.0, 1581800.0, 1908900.0, 4054200.0, 1243100.0],\n",
       " 'DOW': [2329100.0, 13819200.0, 5988300.0, 6858800.0],\n",
       " 'ORCL': [33763500.0],\n",
       " 'CVX': [7460200.0, 13246300.0, 12560600.0, 12650100.0, 16870100.0],\n",
       " 'PRU': [1736000.0, 2576600.0],\n",
       " 'WM': [2420500.0, 3918600.0, 2168700.0, 2246700.0, 2287500.0, 2167300.0],\n",
       " 'PCLN': [166100.0, 509300.0],\n",
       " 'HRB': [4388800.0, 1353400.0],\n",
       " 'GRMN': [1529000.0, 967000.0, 925400.0, 2340000.0, 1390200.0],\n",
       " 'AES': [2108000.0,\n",
       "  3803100.0,\n",
       "  1919900.0,\n",
       "  5020400.0,\n",
       "  6611200.0,\n",
       "  4324600.0,\n",
       "  5532900.0],\n",
       " 'ACN': [2960200.0, 3437500.0],\n",
       " 'MCD': [4927000.0, 3120300.0],\n",
       " 'AEP': [1758900.0, 1534800.0, 2305100.0],\n",
       " 'LNT': [348000.0, 1096400.0, 887400.0],\n",
       " 'CHK': [1592200.0, 13041100.0, 22992400.0, 8723300.0, 9091000.0],\n",
       " 'MHK': [328400.0, 636200.0, 499900.0],\n",
       " 'STX': [1889300.0, 18244800.0],\n",
       " 'CLX': [1386000.0, 838400.0, 1700800.0],\n",
       " 'NBL': [3326800.0, 2922800.0, 1984800.0, 1793000.0, 1479600.0],\n",
       " 'ROP': [405600.0, 214600.0, 343400.0, 904400.0, 320700.0],\n",
       " 'KSU': [281000.0, 1679000.0, 575300.0, 486300.0, 719800.0],\n",
       " 'DRI': [1767200.0, 976800.0, 2673600.0, 1931300.0],\n",
       " 'EOG': [5626400.0, 6130000.0, 8349600.0, 5285800.0, 5755400.0, 4176600.0],\n",
       " 'CSX': [6393600.0, 20018700.0, 19278300.0, 3899900.0],\n",
       " 'DHI': [3311700.0, 7991600.0, 3271900.0, 7585200.0, 4387800.0],\n",
       " 'CTL': [636200.0, 2891100.0, 3812400.0],\n",
       " 'RSG': [915100.0, 2906400.0, 1736100.0],\n",
       " 'EL': [1320800.0, 2012200.0, 1811600.0, 1324600.0],\n",
       " 'URI': [194400.0, 290200.0],\n",
       " 'MNST': [353600.0, 2110200.0, 2883600.0, 795500.0],\n",
       " 'MON': [1045200.0, 9228600.0, 5616300.0, 3467700.0],\n",
       " 'TIF': [1073500.0, 814600.0, 5277500.0],\n",
       " 'BBY': [4048200.0, 8455900.0, 7238000.0, 5288200.0],\n",
       " 'BK': [2747300.0, 3419800.0, 1709300.0, 2256300.0, 15410600.0],\n",
       " 'HAR': [300200.0, 361600.0, 235400.0, 627300.0, 355700.0, 371500.0, 441400.0],\n",
       " 'VLO': [3689800.0, 10736100.0],\n",
       " 'FTR': [666900.0, 1087400.0, 2067100.0, 1610000.0, 1752800.0, 1905900.0],\n",
       " 'WDC': [1288400.0,\n",
       "  4990800.0,\n",
       "  2396300.0,\n",
       "  1863800.0,\n",
       "  2747900.0,\n",
       "  6903300.0,\n",
       "  1547100.0],\n",
       " 'ROK': [653600.0, 627800.0, 862000.0, 1003900.0, 1509700.0, 1135700.0],\n",
       " 'QCOM': [23926600.0, 16377600.0, 16299200.0, 17875800.0],\n",
       " 'BAX': [3675400.0, 2975600.0, 4774600.0, 7002100.0],\n",
       " 'MCK': [647800.0, 768200.0, 3452500.0],\n",
       " 'FFIV': [691800.0, 11202800.0, 1631200.0, 1888100.0],\n",
       " 'EFX': [1266300.0, 868600.0, 747100.0],\n",
       " 'HIG': [1710200.0, 1220700.0, 2998900.0],\n",
       " 'AMAT': [24197200.0, 36822700.0, 11990900.0],\n",
       " 'MSFT': [57303000.0, 39432000.0, 49410200.0, 26629600.0, 36775200.0],\n",
       " 'AMT': [1159100.0, 2644100.0, 1531700.0, 1485100.0],\n",
       " 'ILMN': [19200.0, 441800.0, 569400.0, 976600.0, 993900.0],\n",
       " 'BLK': [67300.0, 168400.0, 247200.0, 931900.0, 726700.0],\n",
       " 'AKAM': [2332400.0, 3290500.0, 4063400.0, 5193200.0],\n",
       " 'TSO': [974600.0, 1280200.0, 4290900.0],\n",
       " 'XOM': [7449200.0, 29228600.0, 46627000.0],\n",
       " 'EW': [1456000.0, 1746200.0],\n",
       " 'MDLZ': [1192300.0, 1238000.0, 10612900.0],\n",
       " 'LUV': [4902800.0, 5460100.0, 6339300.0],\n",
       " 'IVZ': [104100.0, 157300.0, 3925500.0, 2526800.0],\n",
       " 'GT': [3898500.0, 5256100.0, 1781100.0, 12536400.0],\n",
       " 'LKQ': [146400.0, 3903600.0, 1603600.0, 1304100.0],\n",
       " 'SWKS': [3680800.0, 2611300.0, 3929000.0, 4685800.0, 4540400.0],\n",
       " 'FE': [917900.0, 1503300.0],\n",
       " 'UNP': [7797200.0, 3660400.0, 5302800.0, 4058000.0, 2855800.0],\n",
       " 'WEC': [666200.0, 635000.0],\n",
       " 'VTR': [1809700.0, 175000.0, 970700.0, 2502200.0, 1019000.0, 2793400.0],\n",
       " 'MMM': [1512900.0, 2140600.0],\n",
       " 'ES': [236400.0, 374800.0, 1386800.0, 1334700.0],\n",
       " 'CI': [4140600.0, 1583900.0, 2100700.0, 1207100.0],\n",
       " 'JWN': [1054200.0, 10805000.0, 2488600.0],\n",
       " 'TSS': [132300.0, 1508000.0],\n",
       " 'ESRX': [9459200.0, 4178600.0],\n",
       " 'ZBH': [896900.0,\n",
       "  2473800.0,\n",
       "  2455500.0,\n",
       "  1885900.0,\n",
       "  1264000.0,\n",
       "  2212300.0,\n",
       "  2054400.0,\n",
       "  810600.0,\n",
       "  1549700.0,\n",
       "  1080200.0,\n",
       "  1100000.0],\n",
       " 'MAS': [2352900.0, 2972900.0, 1999900.0, 6902200.0, 4900200.0],\n",
       " 'LUK': [875200.0, 579800.0, 535800.0, 1044800.0, 1218200.0],\n",
       " 'WYNN': [283400.0, 2840700.0, 1602200.0, 3875400.0, 981400.0, 12644100.0],\n",
       " 'AA': [6369900.0, 44190400.0, 19897100.0, 19335600.0, 19106600.0],\n",
       " 'SYY': [890300.0,\n",
       "  653400.0,\n",
       "  4334900.0,\n",
       "  1436100.0,\n",
       "  2201200.0,\n",
       "  4899300.0,\n",
       "  3789600.0],\n",
       " 'JBHT': [1109200.0, 1931600.0, 380800.0],\n",
       " 'BBT': [2805000.0, 3183700.0, 5997300.0],\n",
       " 'AET': [8136400.0, 7046000.0, 1708300.0, 9739700.0, 2520700.0],\n",
       " 'MO': [5941800.0, 18530500.0],\n",
       " 'PLD': [399800.0, 325000.0, 1002200.0, 1735500.0],\n",
       " 'EMR': [2004600.0, 2428800.0],\n",
       " 'CHD': [1115400.0, 621600.0, 438800.0, 626800.0, 2925200.0, 419600.0],\n",
       " 'AIZ': [192500.0, 2379100.0, 1092500.0, 407600.0],\n",
       " 'ALL': [3195400.0, 3893400.0, 1625700.0],\n",
       " 'C': [1860900.0, 39301500.0, 57048500.0, 23462700.0],\n",
       " 'TRV': [1755500.0, 1376000.0, 1510800.0],\n",
       " 'DLTR': [2736600.0, 2839400.0, 5226200.0],\n",
       " 'GWW': [750600.0, 878400.0, 546400.0, 296500.0],\n",
       " 'APA': [2600100.0, 2907600.0, 5395500.0, 2023500.0],\n",
       " 'DLR': [105200.0, 1028400.0, 1562500.0, 1076100.0, 411800.0, 1641600.0],\n",
       " 'TAP': [1431000.0, 1476600.0, 1486300.0],\n",
       " 'PG': [5547400.0, 5242700.0, 10812500.0, 7488200.0, 6526800.0],\n",
       " 'EQIX': [42700.0, 532100.0, 1108500.0, 944700.0],\n",
       " 'IR': [1967800.0, 2969100.0, 2354100.0],\n",
       " 'PCG': [1351500.0, 3319000.0, 1334800.0, 2777600.0],\n",
       " 'PSA': [425200.0, 1507400.0, 4841100.0, 1325000.0, 657700.0, 461000.0],\n",
       " 'SYMC': [13005600.0, 14483300.0, 9005300.0],\n",
       " 'NTAP': [5664400.0],\n",
       " 'WFM': [5426000.0, 4163600.0, 3065200.0],\n",
       " 'ADSK': [6224100.0, 2094300.0, 2608200.0, 2648600.0],\n",
       " 'MRO': [9865500.0, 6858800.0, 7244000.0],\n",
       " 'CRM': [1256800.0, 8306000.0, 2195400.0],\n",
       " 'RL': [191500.0,\n",
       "  1697100.0,\n",
       "  586400.0,\n",
       "  1658100.0,\n",
       "  1559300.0,\n",
       "  434000.0,\n",
       "  631200.0],\n",
       " 'DVA': [1059800.0,\n",
       "  1730600.0,\n",
       "  1993800.0,\n",
       "  1557200.0,\n",
       "  2956800.0,\n",
       "  1255900.0,\n",
       "  771600.0],\n",
       " 'KLAC': [3578000.0, 17676200.0, 3568200.0, 771600.0],\n",
       " 'NRG': [1017200.0, 2682700.0],\n",
       " 'ETR': [856300.0, 976800.0, 3813900.0, 1087600.0, 1151800.0],\n",
       " 'LOW': [6051400.0, 22918700.0, 8109200.0, 18002100.0, 6144900.0],\n",
       " 'URBN': [2586600.0, 3339700.0, 1944300.0, 4303600.0, 1582600.0, 1748800.0],\n",
       " 'SO': [2370700.0, 5120200.0, 5118500.0, 3437300.0, 6238600.0],\n",
       " 'CB': [1376800.0, 1754100.0, 1263200.0],\n",
       " 'DUK': [1473200.0, 2782200.0, 1672300.0],\n",
       " 'EXR': [61600.0,\n",
       "  408900.0,\n",
       "  831600.0,\n",
       "  1018200.0,\n",
       "  680500.0,\n",
       "  1268800.0,\n",
       "  713900.0,\n",
       "  1149900.0],\n",
       " 'TMO': [476900.0, 2074700.0, 1375800.0, 3896300.0, 1551500.0],\n",
       " 'DNB': [246900.0, 372600.0, 389300.0],\n",
       " 'VRTX': [489100.0, 2794800.0],\n",
       " 'NFLX': [9099300.0, 13791400.0],\n",
       " 'AVB': [351300.0, 1679000.0, 842900.0, 927600.0],\n",
       " 'AFL': [1813800.0, 2341700.0, 1534400.0],\n",
       " 'OI': [3161100.0],\n",
       " 'CMCSA': [14453500.0],\n",
       " 'CAH': [1726800.0, 2029300.0, 1544900.0, 1989900.0, 1801000.0],\n",
       " 'UHS': [1180600.0, 892600.0, 1576600.0],\n",
       " 'GOOGL': [30898200.0],\n",
       " 'VIAB': [2974500.0, 6571900.0, 3673800.0, 6924000.0],\n",
       " 'APD': [1208100.0, 1225500.0, 1559000.0, 718800.0],\n",
       " 'HOT': [779800.0, 4506500.0, 1901500.0],\n",
       " 'HOG': [1757100.0, 8477100.0, 3792100.0, 1260500.0],\n",
       " 'CMI': [7399600.0,\n",
       "  4250400.0,\n",
       "  3792300.0,\n",
       "  2284200.0,\n",
       "  1734600.0,\n",
       "  1590600.0,\n",
       "  2718900.0,\n",
       "  959800.0],\n",
       " 'HAL': [16077600.0, 15105700.0, 7843300.0],\n",
       " 'BA': [3927800.0, 4971700.0, 5450600.0, 4631800.0],\n",
       " 'GD': [1300600.0, 1493800.0, 1197900.0, 945700.0, 830000.0],\n",
       " 'PX': [1303400.0,\n",
       "  1429200.0,\n",
       "  920200.0,\n",
       "  1297900.0,\n",
       "  1474500.0,\n",
       "  820600.0,\n",
       "  3322600.0],\n",
       " 'CBS': [5966600.0, 3977600.0, 6640300.0],\n",
       " 'FLS': [8904300.0, 602700.0, 1185300.0, 4119600.0],\n",
       " 'ANTM': [1246500.0, 5889800.0],\n",
       " 'GPS': [6068900.0, 6917900.0, 6690900.0],\n",
       " 'UTX': [3626900.0, 2980100.0, 3380400.0, 3006300.0],\n",
       " 'PFE': [27540600.0, 26400600.0, 22988600.0],\n",
       " 'FOXA': [10006000.0,\n",
       "  8862500.0,\n",
       "  5309300.0,\n",
       "  16593500.0,\n",
       "  11612700.0,\n",
       "  7449000.0,\n",
       "  9266200.0],\n",
       " 'NSC': [2697500.0, 2585800.0, 1341700.0, 1488700.0],\n",
       " 'KMX': [1255600.0, 925200.0, 1222800.0],\n",
       " 'XEL': [697900.0, 1445700.0],\n",
       " 'ITW': [3185100.0, 1719100.0, 2603200.0, 1241300.0],\n",
       " 'AAP': [630400.0, 958900.0, 3119800.0, 720300.0, 941800.0],\n",
       " 'EIX': [1950000.0, 3747900.0, 1292200.0, 1875900.0, 2957700.0, 2109600.0],\n",
       " 'AAL': [2598900.0],\n",
       " 'TXN': [19349200.0],\n",
       " 'INTU': [1918800.0],\n",
       " 'MS': [6119000.0, 26613500.0, 17557200.0, 11487100.0, 15812900.0],\n",
       " 'JNPR': [8477100.0, 8788400.0],\n",
       " 'AAPL': [251206900.0, 205829400.0, 42062400.0],\n",
       " 'VFC': [2096800.0, 2276400.0],\n",
       " 'HBI': [889200.0],\n",
       " 'WYN': [849600.0, 609400.0, 2482200.0, 1389400.0, 1437100.0],\n",
       " 'MAT': [4516300.0, 3592600.0],\n",
       " 'A': [3407800.0, 6227800.0],\n",
       " 'DHR': [7628600.0],\n",
       " 'RF': [3975300.0, 16496200.0],\n",
       " 'TGNA': [1969300.0, 5463700.0, 6259300.0, 6170500.0, 5173700.0, 5124800.0],\n",
       " 'IBM': [8864200.0, 7795500.0, 3281000.0],\n",
       " 'WFC': [29218200.0,\n",
       "  36779700.0,\n",
       "  13823700.0,\n",
       "  16799200.0,\n",
       "  21252400.0,\n",
       "  28973400.0,\n",
       "  5826000.0],\n",
       " 'JCI': [4552200.0, 4082900.0],\n",
       " 'STZ': [1059000.0, 4886000.0, 1283000.0, 2419000.0],\n",
       " 'SPLS': [9065100.0, 10933100.0, 5876700.0, 10713600.0],\n",
       " 'MAC': [719900.0, 2635800.0, 757200.0, 1453300.0],\n",
       " 'TDG': [140200.0, 207800.0, 486200.0],\n",
       " 'UDR': [691800.0, 1754500.0, 1909300.0],\n",
       " 'WU': [2884000.0, 6795000.0],\n",
       " 'NI': [4950300.0, 4615600.0, 2522100.0, 3813700.0],\n",
       " 'COP': [8811900.0, 13948600.0, 5381000.0, 10715400.0],\n",
       " 'SNA': [376000.0, 164800.0, 305500.0, 390900.0],\n",
       " 'TGT': [15503200.0, 15045300.0, 3235900.0, 3035200.0, 3900500.0],\n",
       " 'XEC': [1178900.0, 1639500.0, 1308200.0],\n",
       " 'GPC': [1843200.0, 1132700.0, 1030700.0],\n",
       " 'DIS': [16612800.0, 7243900.0, 11674700.0],\n",
       " 'HRL': [2066000.0, 1791200.0, 1173600.0],\n",
       " 'VNO': [1182200.0, 1639300.0, 572100.0],\n",
       " 'IRM': [780000.0, 968000.0, 1860400.0],\n",
       " 'PBCT': [2521600.0, 5625400.0, 2418000.0, 3012200.0, 1512600.0],\n",
       " 'PRGO': [1531400.0, 1432500.0, 599000.0, 922300.0, 3290600.0],\n",
       " 'NOV': [7719900.0, 13993400.0, 4493300.0, 2387900.0],\n",
       " 'FAST': [2375800.0],\n",
       " 'FL': [2579200.0, 1574500.0, 2275500.0, 1490300.0],\n",
       " 'FTI': [5922600.0, 3412600.0],\n",
       " 'VAR': [1995900.0, 1675700.0, 711100.0],\n",
       " 'NVDA': [20536700.0],\n",
       " 'PEP': [34963700.0, 8536000.0, 6930200.0],\n",
       " 'NWL': [3388400.0, 2895400.0, 1439700.0, 2196800.0],\n",
       " 'OMC': [3241900.0],\n",
       " 'FRT': [1377300.0, 1750700.0, 798200.0, 297200.0],\n",
       " 'SE': [3502300.0, 4335600.0, 3095300.0],\n",
       " 'FSLR': [2882100.0, 2263300.0, 3150200.0, 4770300.0, 2197900.0],\n",
       " 'DFS': [6397500.0, 8002100.0, 6869300.0],\n",
       " 'LM': [3456500.0, 1602300.0],\n",
       " 'BDX': [1287900.0, 1173200.0],\n",
       " 'CVS': [13756000.0, 3783900.0],\n",
       " 'COST': [3293000.0],\n",
       " 'HCN': [1692300.0, 1288700.0],\n",
       " 'AWK': [1293100.0, 1551200.0, 372400.0, 1014400.0],\n",
       " 'GOOG': [5260000.0, 4308500.0, 2329300.0],\n",
       " 'HAS': [1534500.0, 1067600.0, 690000.0],\n",
       " 'NOC': [1176900.0, 1283800.0, 542900.0],\n",
       " 'CF': [5183000.0, 8576000.0],\n",
       " 'TDC': [1737600.0],\n",
       " 'MJN': [2266700.0, 793300.0],\n",
       " 'AVGO': [465300.0, 1742600.0, 3490600.0],\n",
       " 'ICE': [1011400.0, 503400.0],\n",
       " 'LB': [3366700.0, 4454700.0, 4037000.0, 1603300.0, 2030100.0],\n",
       " 'FIS': [3198700.0, 1930700.0],\n",
       " 'TJX': [12284400.0, 5348000.0, 1692600.0],\n",
       " 'RTN': [3581400.0, 2145900.0, 2564100.0, 1144000.0],\n",
       " 'CAG': [4159400.0, 2424000.0],\n",
       " 'ULTA': [299400.0],\n",
       " 'DAL': [24099900.0, 22110100.0],\n",
       " 'ALXN': [1463200.0],\n",
       " 'LYB': [7782900.0, 4341500.0, 3358200.0],\n",
       " 'ABC': [1974600.0, 1681800.0],\n",
       " 'BAC': [247865900.0, 122134100.0],\n",
       " 'TEL': [2948100.0, 5252100.0],\n",
       " 'EXPE': [5878100.0, 1980700.0],\n",
       " 'ZION': [4363900.0, 2076600.0],\n",
       " 'UNM': [1836400.0, 898700.0],\n",
       " 'ORLY': [1453600.0, 1091800.0],\n",
       " 'DG': [1146700.0, 1106000.0, 2919000.0],\n",
       " 'CMG': [880100.0],\n",
       " 'MA': [11190000.0, 4316300.0],\n",
       " 'UAL': [5954300.0, 4338600.0],\n",
       " 'GIS': [5895000.0, 5342900.0, 6753300.0],\n",
       " 'DISCK': [1641800.0],\n",
       " 'CPB': [2532300.0, 2537700.0, 3744500.0],\n",
       " 'L': [1721900.0],\n",
       " 'V': [10151200.0, 14235200.0],\n",
       " 'HSY': [1153800.0, 1235800.0],\n",
       " 'CXO': [1345800.0, 841800.0, 848200.0],\n",
       " 'XYL': [591900.0, 850000.0],\n",
       " 'CSCO': [29743500.0, 38278100.0],\n",
       " 'AMP': [2031500.0, 1900000.0],\n",
       " 'UA': [9841600.0],\n",
       " 'PNR': [1110100.0],\n",
       " 'TWX': [7694600.0],\n",
       " 'ADS': [559900.0, 576800.0, 1155900.0],\n",
       " 'MUR': [1420900.0],\n",
       " 'T': [38323500.0],\n",
       " 'PSX': [3787800.0, 3202200.0],\n",
       " 'KORS': [7858600.0],\n",
       " 'SNI': [594600.0, 416600.0, 698500.0],\n",
       " 'GM': [9991300.0, 17730800.0],\n",
       " 'FBHS': [947000.0, 904100.0, 760000.0],\n",
       " 'KIM': [3152900.0, 4865700.0, 3955600.0],\n",
       " 'PM': [3035900.0],\n",
       " 'PKI': [1085100.0, 1772000.0, 358200.0],\n",
       " 'HCA': [3376000.0, 3475800.0],\n",
       " 'TSCO': [640400.0],\n",
       " 'SEE': [1540100.0],\n",
       " 'FB': [59999900.0],\n",
       " 'CME': [1689600.0],\n",
       " 'ADP': [1074600.0],\n",
       " 'LEN': [5203600.0, 3622700.0],\n",
       " 'TRIP': [4832300.0],\n",
       " 'MPC': [7134400.0],\n",
       " 'VRSK': [656400.0],\n",
       " 'LVLT': [1506300.0],\n",
       " 'NWS': [634300.0, 965100.0],\n",
       " 'JEC': [650300.0, 1241900.0, 709300.0],\n",
       " 'CBG': [1904500.0],\n",
       " 'RIG': [4777400.0],\n",
       " 'SPGI': [1899100.0],\n",
       " 'CMA': [2502700.0],\n",
       " 'AMG': [273000.0, 728000.0],\n",
       " 'PWR': [5706700.0],\n",
       " 'WRK': [2397300.0],\n",
       " 'ALLE': [471100.0],\n",
       " 'MNK': [1596400.0]}"
      ]
     },
     "execution_count": 149,
     "metadata": {},
     "output_type": "execute_result"
    }
   ],
   "source": [
    "volumes_by_stock = {}\n",
    "for line in data:\n",
    "    tokens = line.split(\",\")\n",
    "    symbol = tokens[-1]\n",
    "    volume = float(tokens[5])\n",
    "    \n",
    "    if symbol in volumes_by_stock:\n",
    "        volumes_by_stock[symbol].append(volume)\n",
    "    else:\n",
    "        volumes_by_stock[symbol] = [volume]\n",
    "        \n",
    "volumes_by_stock"
   ]
  },
  {
   "cell_type": "code",
   "execution_count": 151,
   "metadata": {},
   "outputs": [],
   "source": [
    "def mean(values):\n",
    "    return sum(values)/len(values)"
   ]
  },
  {
   "cell_type": "code",
   "execution_count": 152,
   "metadata": {},
   "outputs": [],
   "source": [
    "avg_volume_by_stock = {}\n",
    "for symbol in volumes_by_stock:\n",
    "    avg_volume_by_stock[symbol] = mean(volumes_by_stock[symbol])"
   ]
  },
  {
   "cell_type": "code",
   "execution_count": 153,
   "metadata": {
    "scrolled": false
   },
   "outputs": [
    {
     "data": {
      "text/plain": [
       "{'INTC': 74368550.0,\n",
       " 'BEN': 3317050.0,\n",
       " 'APH': 1573366.6666666667,\n",
       " 'SHW': 1028760.0,\n",
       " 'STJ': 1341333.3333333333,\n",
       " 'GGP': 961020.0,\n",
       " 'SBUX': 21040233.333333332,\n",
       " 'EQT': 988628.5714285715,\n",
       " 'BCR': 1557300.0,\n",
       " 'NKE': 13730375.0,\n",
       " 'IPG': 3774960.0,\n",
       " 'EXC': 4272625.0,\n",
       " 'BXP': 561860.0,\n",
       " 'BIIB': 2678871.4285714286,\n",
       " 'DD': 6005600.0,\n",
       " 'NUE': 2655587.5,\n",
       " 'ALK': 2896700.0,\n",
       " 'COG': 4203033.333333333,\n",
       " 'ETN': 2120087.5,\n",
       " 'DO': 1929440.0,\n",
       " 'BSX': 4953450.0,\n",
       " 'UPS': 3431600.0,\n",
       " 'ENDP': 1364540.0,\n",
       " 'WBA': 4418425.0,\n",
       " 'PXD': 1205650.0,\n",
       " 'STI': 4397600.0,\n",
       " 'FDX': 2076366.6666666667,\n",
       " 'LLTC': 4596966.666666667,\n",
       " 'RHT': 2198866.6666666665,\n",
       " 'O': 923700.0,\n",
       " 'RAI': 9824660.0,\n",
       " 'BWA': 1606150.0,\n",
       " 'FLIR': 1176022.2222222222,\n",
       " 'MET': 5447520.0,\n",
       " 'XLNX': 6288650.0,\n",
       " 'FCX': 9204975.0,\n",
       " 'FOX': 2188475.0,\n",
       " 'EMC': 15612966.666666666,\n",
       " 'RHI': 1558700.0,\n",
       " 'FISV': 2424133.3333333335,\n",
       " 'CINF': 511871.4285714286,\n",
       " 'AGN': 1079380.0,\n",
       " 'IP': 3418514.285714286,\n",
       " 'KSS': 3495000.0,\n",
       " 'EBAY': 37022033.333333336,\n",
       " 'CMS': 1328642.857142857,\n",
       " 'TROW': 1943600.0,\n",
       " 'KR': 7185777.777777778,\n",
       " 'R': 577216.6666666666,\n",
       " 'PNC': 1240160.0,\n",
       " 'ED': 1465328.5714285714,\n",
       " 'KEY': 678700.0,\n",
       " 'USB': 20442200.0,\n",
       " 'MCO': 2209460.0,\n",
       " 'HES': 3321400.0,\n",
       " 'RCL': 288900.0,\n",
       " 'HON': 5339766.666666667,\n",
       " 'REGN': 443940.0,\n",
       " 'FLR': 1141266.6666666667,\n",
       " 'MSI': 2858900.0,\n",
       " 'ISRG': 313800.0,\n",
       " 'MYL': 3810540.0,\n",
       " 'LEG': 947050.0,\n",
       " 'MOS': 4765900.0,\n",
       " 'WMT': 12165262.5,\n",
       " 'HD': 5665166.666666667,\n",
       " 'COF': 2539388.888888889,\n",
       " 'MLM': 446933.3333333333,\n",
       " 'ADBE': 4725700.0,\n",
       " 'OKE': 721880.0,\n",
       " 'SRE': 977100.0,\n",
       " 'CTAS': 894150.0,\n",
       " 'MMC': 3433633.3333333335,\n",
       " 'FMC': 1508087.5,\n",
       " 'LLL': 969275.0,\n",
       " 'VMC': 305925.0,\n",
       " 'SLB': 8118533.333333333,\n",
       " 'LRCX': 1732480.0,\n",
       " 'SCG': 509640.0,\n",
       " 'SYK': 1123375.0,\n",
       " 'BLL': 1395600.0,\n",
       " 'CERN': 3339600.0,\n",
       " 'ECL': 727400.0,\n",
       " 'HST': 3896200.0,\n",
       " 'GILD': 17849725.0,\n",
       " 'XL': 706733.3333333334,\n",
       " 'CTXS': 3383825.0,\n",
       " 'AIV': 861200.0,\n",
       " 'GLW': 16825400.0,\n",
       " 'GE': 19689071.42857143,\n",
       " 'SJM': 241580.0,\n",
       " 'LLY': 7320228.571428572,\n",
       " 'DE': 2677016.6666666665,\n",
       " 'HUM': 1194328.5714285714,\n",
       " 'EMN': 1940450.0,\n",
       " 'F': 45860100.0,\n",
       " 'COH': 3772225.0,\n",
       " 'MRK': 12649328.57142857,\n",
       " 'PGR': 4806280.0,\n",
       " 'AMZN': 4936485.714285715,\n",
       " 'OXY': 2683850.0,\n",
       " 'DTE': 717400.0,\n",
       " 'ATVI': 13833733.333333334,\n",
       " 'YUM': 1796916.6666666667,\n",
       " 'YHOO': 23084140.0,\n",
       " 'NTRS': 957440.0,\n",
       " 'SLG': 568800.0,\n",
       " 'MTB': 558000.0,\n",
       " 'COL': 987500.0,\n",
       " 'GS': 3028100.0,\n",
       " 'CNP': 2052466.6666666667,\n",
       " 'IFF': 793962.5,\n",
       " 'ETFC': 3250800.0,\n",
       " 'MU': 15643985.714285715,\n",
       " 'MKC': 697616.6666666666,\n",
       " 'EA': 4029900.0,\n",
       " 'CCL': 4375633.333333333,\n",
       " 'LMT': 2461850.0,\n",
       " 'AIG': 3441720.0,\n",
       " 'SWK': 307360.0,\n",
       " 'HCP': 1020300.0,\n",
       " 'DGX': 2458240.0,\n",
       " 'M': 7819616.666666667,\n",
       " 'NEM': 5721928.571428572,\n",
       " 'HOLX': 1601900.0,\n",
       " 'LNC': 1297542.857142857,\n",
       " 'CA': 4638866.666666667,\n",
       " 'CCI': 2052700.0,\n",
       " 'NFX': 4696585.714285715,\n",
       " 'PHM': 6032566.666666667,\n",
       " 'BBBY': 3099514.285714286,\n",
       " 'EXPD': 1720783.3333333333,\n",
       " 'PEG': 2246566.6666666665,\n",
       " 'KMB': 2134387.5,\n",
       " 'CTSH': 4570400.0,\n",
       " 'CAT': 5437440.0,\n",
       " 'XRAY': 1117300.0,\n",
       " 'PBI': 1205125.0,\n",
       " 'BMY': 10851785.714285715,\n",
       " 'WAT': 1269814.2857142857,\n",
       " 'CNC': 686500.0,\n",
       " 'UNH': 5839525.0,\n",
       " 'SWN': 3471840.0,\n",
       " 'DVN': 2998025.0,\n",
       " 'VZ': 13361771.42857143,\n",
       " 'DOV': 1831675.0,\n",
       " 'SRCL': 2415200.0,\n",
       " 'HRS': 807550.0,\n",
       " 'EQR': 2271100.0,\n",
       " 'CELG': 6731666.666666667,\n",
       " 'STT': 2446100.0,\n",
       " 'JNJ': 7240887.5,\n",
       " 'AEE': 935075.0,\n",
       " 'D': 3944966.6666666665,\n",
       " 'HSIC': 423950.0,\n",
       " 'CL': 5279600.0,\n",
       " 'SCHW': 10880000.0,\n",
       " 'AZO': 1324266.6666666667,\n",
       " 'MDT': 8162916.666666667,\n",
       " 'ALB': 517520.0,\n",
       " 'PCAR': 4456366.666666667,\n",
       " 'ESS': 256350.0,\n",
       " 'PPL': 3513350.0,\n",
       " 'PPG': 1646537.5,\n",
       " 'RRC': 1164175.0,\n",
       " 'PDCO': 2020525.0,\n",
       " 'ROST': 11695200.0,\n",
       " 'LH': 6923700.0,\n",
       " 'PVH': 485500.0,\n",
       " 'PFG': 1820766.6666666667,\n",
       " 'HBAN': 3287250.0,\n",
       " 'AMGN': 8087750.0,\n",
       " 'APC': 5562571.428571428,\n",
       " 'TSN': 2545950.0,\n",
       " 'XRX': 3019200.0,\n",
       " 'TYC': 4874950.0,\n",
       " 'VRSN': 3255733.3333333335,\n",
       " 'HPQ': 36499666.666666664,\n",
       " 'ADM': 4904966.666666667,\n",
       " 'GPN': 1404440.0,\n",
       " 'K': 1819700.0,\n",
       " 'ADI': 2909116.6666666665,\n",
       " 'CHRW': 923433.3333333334,\n",
       " 'WHR': 993280.0,\n",
       " 'JPM': 28355466.666666668,\n",
       " 'TXT': 6431025.0,\n",
       " 'PNW': 776750.0,\n",
       " 'MAR': 2316200.0,\n",
       " 'SIG': 522512.5,\n",
       " 'AME': 1078566.6666666667,\n",
       " 'WY': 1098333.3333333333,\n",
       " 'HP': 1234400.0,\n",
       " 'WMB': 7113100.0,\n",
       " 'ABT': 13140216.666666666,\n",
       " 'AYI': 469540.0,\n",
       " 'AXP': 7597666.666666667,\n",
       " 'AON': 1938700.0,\n",
       " 'DOW': 7248850.0,\n",
       " 'ORCL': 33763500.0,\n",
       " 'CVX': 12557460.0,\n",
       " 'PRU': 2156300.0,\n",
       " 'WM': 2534883.3333333335,\n",
       " 'PCLN': 337700.0,\n",
       " 'HRB': 2871100.0,\n",
       " 'GRMN': 1430320.0,\n",
       " 'AES': 4188585.714285714,\n",
       " 'ACN': 3198850.0,\n",
       " 'MCD': 4023650.0,\n",
       " 'AEP': 1866266.6666666667,\n",
       " 'LNT': 777266.6666666666,\n",
       " 'CHK': 11088000.0,\n",
       " 'MHK': 488166.6666666667,\n",
       " 'STX': 10067050.0,\n",
       " 'CLX': 1308400.0,\n",
       " 'NBL': 2301400.0,\n",
       " 'ROP': 437740.0,\n",
       " 'KSU': 748280.0,\n",
       " 'DRI': 1837225.0,\n",
       " 'EOG': 5887300.0,\n",
       " 'CSX': 12397625.0,\n",
       " 'DHI': 5309640.0,\n",
       " 'CTL': 2446566.6666666665,\n",
       " 'RSG': 1852533.3333333333,\n",
       " 'EL': 1617300.0,\n",
       " 'URI': 242300.0,\n",
       " 'MNST': 1535725.0,\n",
       " 'MON': 4839450.0,\n",
       " 'TIF': 2388533.3333333335,\n",
       " 'BBY': 6257575.0,\n",
       " 'BK': 5108660.0,\n",
       " 'HAR': 384728.5714285714,\n",
       " 'VLO': 7212950.0,\n",
       " 'FTR': 1515016.6666666667,\n",
       " 'WDC': 3105371.4285714286,\n",
       " 'ROK': 965450.0,\n",
       " 'QCOM': 18619800.0,\n",
       " 'BAX': 4606925.0,\n",
       " 'MCK': 1622833.3333333333,\n",
       " 'FFIV': 3853475.0,\n",
       " 'EFX': 960666.6666666666,\n",
       " 'HIG': 1976600.0,\n",
       " 'AMAT': 24336933.333333332,\n",
       " 'MSFT': 41910000.0,\n",
       " 'AMT': 1705000.0,\n",
       " 'ILMN': 600180.0,\n",
       " 'BLK': 428300.0,\n",
       " 'AKAM': 3719875.0,\n",
       " 'TSO': 2181900.0,\n",
       " 'XOM': 27768266.666666668,\n",
       " 'EW': 1601100.0,\n",
       " 'MDLZ': 4347733.333333333,\n",
       " 'LUV': 5567400.0,\n",
       " 'IVZ': 1678425.0,\n",
       " 'GT': 5868025.0,\n",
       " 'LKQ': 1739425.0,\n",
       " 'SWKS': 3889460.0,\n",
       " 'FE': 1210600.0,\n",
       " 'UNP': 4734840.0,\n",
       " 'WEC': 650600.0,\n",
       " 'VTR': 1545000.0,\n",
       " 'MMM': 1826750.0,\n",
       " 'ES': 833175.0,\n",
       " 'CI': 2258075.0,\n",
       " 'JWN': 4782600.0,\n",
       " 'TSS': 820150.0,\n",
       " 'ESRX': 6818900.0,\n",
       " 'ZBH': 1616663.6363636365,\n",
       " 'MAS': 3825620.0,\n",
       " 'LUK': 850760.0,\n",
       " 'WYNN': 3704533.3333333335,\n",
       " 'AA': 21779920.0,\n",
       " 'SYY': 2600685.714285714,\n",
       " 'JBHT': 1140533.3333333333,\n",
       " 'BBT': 3995333.3333333335,\n",
       " 'AET': 5830220.0,\n",
       " 'MO': 12236150.0,\n",
       " 'PLD': 865625.0,\n",
       " 'EMR': 2216700.0,\n",
       " 'CHD': 1024566.6666666666,\n",
       " 'AIZ': 1017925.0,\n",
       " 'ALL': 2904833.3333333335,\n",
       " 'C': 30418400.0,\n",
       " 'TRV': 1547433.3333333333,\n",
       " 'DLTR': 3600733.3333333335,\n",
       " 'GWW': 617975.0,\n",
       " 'APA': 3231675.0,\n",
       " 'DLR': 970933.3333333334,\n",
       " 'TAP': 1464633.3333333333,\n",
       " 'PG': 7123520.0,\n",
       " 'EQIX': 657000.0,\n",
       " 'IR': 2430333.3333333335,\n",
       " 'PCG': 2195725.0,\n",
       " 'PSA': 1536233.3333333333,\n",
       " 'SYMC': 12164733.333333334,\n",
       " 'NTAP': 5664400.0,\n",
       " 'WFM': 4218266.666666667,\n",
       " 'ADSK': 3393800.0,\n",
       " 'MRO': 7989433.333333333,\n",
       " 'CRM': 3919400.0,\n",
       " 'RL': 965371.4285714285,\n",
       " 'DVA': 1617957.142857143,\n",
       " 'KLAC': 6398500.0,\n",
       " 'NRG': 1849950.0,\n",
       " 'ETR': 1577280.0,\n",
       " 'LOW': 12245260.0,\n",
       " 'URBN': 2584266.6666666665,\n",
       " 'SO': 4457060.0,\n",
       " 'CB': 1464700.0,\n",
       " 'DUK': 1975900.0,\n",
       " 'EXR': 766675.0,\n",
       " 'TMO': 1875040.0,\n",
       " 'DNB': 336266.6666666667,\n",
       " 'VRTX': 1641950.0,\n",
       " 'NFLX': 11445350.0,\n",
       " 'AVB': 950200.0,\n",
       " 'AFL': 1896633.3333333333,\n",
       " 'OI': 3161100.0,\n",
       " 'CMCSA': 14453500.0,\n",
       " 'CAH': 1818380.0,\n",
       " 'UHS': 1216600.0,\n",
       " 'GOOGL': 30898200.0,\n",
       " 'VIAB': 5036050.0,\n",
       " 'APD': 1177850.0,\n",
       " 'HOT': 2395933.3333333335,\n",
       " 'HOG': 3821700.0,\n",
       " 'CMI': 3091300.0,\n",
       " 'HAL': 13008866.666666666,\n",
       " 'BA': 4745475.0,\n",
       " 'GD': 1153600.0,\n",
       " 'PX': 1509771.4285714286,\n",
       " 'CBS': 5528166.666666667,\n",
       " 'FLS': 3702975.0,\n",
       " 'ANTM': 3568150.0,\n",
       " 'GPS': 6559233.333333333,\n",
       " 'UTX': 3248425.0,\n",
       " 'PFE': 25643266.666666668,\n",
       " 'FOXA': 9871314.285714285,\n",
       " 'NSC': 2028425.0,\n",
       " 'KMX': 1134533.3333333333,\n",
       " 'XEL': 1071800.0,\n",
       " 'ITW': 2187175.0,\n",
       " 'AAP': 1274240.0,\n",
       " 'EIX': 2322216.6666666665,\n",
       " 'AAL': 2598900.0,\n",
       " 'TXN': 19349200.0,\n",
       " 'INTU': 1918800.0,\n",
       " 'MS': 15517940.0,\n",
       " 'JNPR': 8632750.0,\n",
       " 'AAPL': 166366233.33333334,\n",
       " 'VFC': 2186600.0,\n",
       " 'HBI': 889200.0,\n",
       " 'WYN': 1353540.0,\n",
       " 'MAT': 4054450.0,\n",
       " 'A': 4817800.0,\n",
       " 'DHR': 7628600.0,\n",
       " 'RF': 10235750.0,\n",
       " 'TGNA': 5026883.333333333,\n",
       " 'IBM': 6646900.0,\n",
       " 'WFC': 21810371.42857143,\n",
       " 'JCI': 4317550.0,\n",
       " 'STZ': 2411750.0,\n",
       " 'SPLS': 9147125.0,\n",
       " 'MAC': 1391550.0,\n",
       " 'TDG': 278066.6666666667,\n",
       " 'UDR': 1451866.6666666667,\n",
       " 'WU': 4839500.0,\n",
       " 'NI': 3975425.0,\n",
       " 'COP': 9714225.0,\n",
       " 'SNA': 309300.0,\n",
       " 'TGT': 8144020.0,\n",
       " 'XEC': 1375533.3333333333,\n",
       " 'GPC': 1335533.3333333333,\n",
       " 'DIS': 11843800.0,\n",
       " 'HRL': 1676933.3333333333,\n",
       " 'VNO': 1131200.0,\n",
       " 'IRM': 1202800.0,\n",
       " 'PBCT': 3017960.0,\n",
       " 'PRGO': 1555160.0,\n",
       " 'NOV': 7148625.0,\n",
       " 'FAST': 2375800.0,\n",
       " 'FL': 1979875.0,\n",
       " 'FTI': 4667600.0,\n",
       " 'VAR': 1460900.0,\n",
       " 'NVDA': 20536700.0,\n",
       " 'PEP': 16809966.666666668,\n",
       " 'NWL': 2480075.0,\n",
       " 'OMC': 3241900.0,\n",
       " 'FRT': 1055850.0,\n",
       " 'SE': 3644400.0,\n",
       " 'FSLR': 3052760.0,\n",
       " 'DFS': 7089633.333333333,\n",
       " 'LM': 2529400.0,\n",
       " 'BDX': 1230550.0,\n",
       " 'CVS': 8769950.0,\n",
       " 'COST': 3293000.0,\n",
       " 'HCN': 1490500.0,\n",
       " 'AWK': 1057775.0,\n",
       " 'GOOG': 3965933.3333333335,\n",
       " 'HAS': 1097366.6666666667,\n",
       " 'NOC': 1001200.0,\n",
       " 'CF': 6879500.0,\n",
       " 'TDC': 1737600.0,\n",
       " 'MJN': 1530000.0,\n",
       " 'AVGO': 1899500.0,\n",
       " 'ICE': 757400.0,\n",
       " 'LB': 3098360.0,\n",
       " 'FIS': 2564700.0,\n",
       " 'TJX': 6441666.666666667,\n",
       " 'RTN': 2358850.0,\n",
       " 'CAG': 3291700.0,\n",
       " 'ULTA': 299400.0,\n",
       " 'DAL': 23105000.0,\n",
       " 'ALXN': 1463200.0,\n",
       " 'LYB': 5160866.666666667,\n",
       " 'ABC': 1828200.0,\n",
       " 'BAC': 185000000.0,\n",
       " 'TEL': 4100100.0,\n",
       " 'EXPE': 3929400.0,\n",
       " 'ZION': 3220250.0,\n",
       " 'UNM': 1367550.0,\n",
       " 'ORLY': 1272700.0,\n",
       " 'DG': 1723900.0,\n",
       " 'CMG': 880100.0,\n",
       " 'MA': 7753150.0,\n",
       " 'UAL': 5146450.0,\n",
       " 'GIS': 5997066.666666667,\n",
       " 'DISCK': 1641800.0,\n",
       " 'CPB': 2938166.6666666665,\n",
       " 'L': 1721900.0,\n",
       " 'V': 12193200.0,\n",
       " 'HSY': 1194800.0,\n",
       " 'CXO': 1011933.3333333334,\n",
       " 'XYL': 720950.0,\n",
       " 'CSCO': 34010800.0,\n",
       " 'AMP': 1965750.0,\n",
       " 'UA': 9841600.0,\n",
       " 'PNR': 1110100.0,\n",
       " 'TWX': 7694600.0,\n",
       " 'ADS': 764200.0,\n",
       " 'MUR': 1420900.0,\n",
       " 'T': 38323500.0,\n",
       " 'PSX': 3495000.0,\n",
       " 'KORS': 7858600.0,\n",
       " 'SNI': 569900.0,\n",
       " 'GM': 13861050.0,\n",
       " 'FBHS': 870366.6666666666,\n",
       " 'KIM': 3991400.0,\n",
       " 'PM': 3035900.0,\n",
       " 'PKI': 1071766.6666666667,\n",
       " 'HCA': 3425900.0,\n",
       " 'TSCO': 640400.0,\n",
       " 'SEE': 1540100.0,\n",
       " 'FB': 59999900.0,\n",
       " 'CME': 1689600.0,\n",
       " 'ADP': 1074600.0,\n",
       " 'LEN': 4413150.0,\n",
       " 'TRIP': 4832300.0,\n",
       " 'MPC': 7134400.0,\n",
       " 'VRSK': 656400.0,\n",
       " 'LVLT': 1506300.0,\n",
       " 'NWS': 799700.0,\n",
       " 'JEC': 867166.6666666666,\n",
       " 'CBG': 1904500.0,\n",
       " 'RIG': 4777400.0,\n",
       " 'SPGI': 1899100.0,\n",
       " 'CMA': 2502700.0,\n",
       " 'AMG': 500500.0,\n",
       " 'PWR': 5706700.0,\n",
       " 'WRK': 2397300.0,\n",
       " 'ALLE': 471100.0,\n",
       " 'MNK': 1596400.0}"
      ]
     },
     "execution_count": 153,
     "metadata": {},
     "output_type": "execute_result"
    }
   ],
   "source": [
    "avg_volume_by_stock"
   ]
  },
  {
   "cell_type": "code",
   "execution_count": 161,
   "metadata": {},
   "outputs": [
    {
     "data": {
      "text/plain": [
       "[('INTC', 74368550.0), ('BEN', 3317050.0), ('APH', 1573366.6666666667)]"
      ]
     },
     "execution_count": 161,
     "metadata": {},
     "output_type": "execute_result"
    }
   ],
   "source": [
    "avg_volume_by_stock = list(avg_volume_by_stock.items())\n",
    "avg_volume_by_stock[:3]"
   ]
  },
  {
   "cell_type": "code",
   "execution_count": 162,
   "metadata": {},
   "outputs": [],
   "source": [
    "avg_volume_by_stock.sort(key = lambda p: p[1], reverse = True)"
   ]
  },
  {
   "cell_type": "code",
   "execution_count": 163,
   "metadata": {},
   "outputs": [
    {
     "data": {
      "text/plain": [
       "[('BAC', 185000000.0), ('AAPL', 166366233.33333334), ('INTC', 74368550.0)]"
      ]
     },
     "execution_count": 163,
     "metadata": {},
     "output_type": "execute_result"
    }
   ],
   "source": [
    "avg_volume_by_stock[:3]"
   ]
  },
  {
   "cell_type": "code",
   "execution_count": 164,
   "metadata": {},
   "outputs": [
    {
     "data": {
      "text/plain": [
       "['2000-07-18,144.8125,144.828125,141.4375,143.0,5.06836E7,50.155473,INTC',\n",
       " '2000-07-20,32.93751,34.25001,32.8125,33.75,3288300.0,8.789734,BEN',\n",
       " '2000-07-24,64.25,67.312477,64.187523,64.75,948800.0,7.689567,APH']"
      ]
     },
     "execution_count": 164,
     "metadata": {},
     "output_type": "execute_result"
    }
   ],
   "source": [
    "data[:3]"
   ]
  },
  {
   "cell_type": "code",
   "execution_count": 166,
   "metadata": {},
   "outputs": [],
   "source": [
    "from datetime import datetime"
   ]
  },
  {
   "cell_type": "code",
   "execution_count": 168,
   "metadata": {},
   "outputs": [],
   "source": [
    "d = datetime.strptime(\"2019-05-13\",\"%Y-%m-%d\")"
   ]
  },
  {
   "cell_type": "code",
   "execution_count": 170,
   "metadata": {},
   "outputs": [
    {
     "data": {
      "text/plain": [
       "1"
      ]
     },
     "execution_count": 170,
     "metadata": {},
     "output_type": "execute_result"
    }
   ],
   "source": [
    "d.isoweekday()"
   ]
  },
  {
   "cell_type": "code",
   "execution_count": 172,
   "metadata": {},
   "outputs": [],
   "source": [
    "def to_weekday(s):\n",
    "    return datetime.strptime(s,\"%Y-%m-%d\").isoweekday()"
   ]
  },
  {
   "cell_type": "code",
   "execution_count": 173,
   "metadata": {},
   "outputs": [
    {
     "data": {
      "text/plain": [
       "1"
      ]
     },
     "execution_count": 173,
     "metadata": {},
     "output_type": "execute_result"
    }
   ],
   "source": [
    "to_weekday(\"2019-05-13\")"
   ]
  },
  {
   "cell_type": "code",
   "execution_count": 176,
   "metadata": {},
   "outputs": [],
   "source": [
    "from collections import Counter"
   ]
  },
  {
   "cell_type": "code",
   "execution_count": 174,
   "metadata": {},
   "outputs": [],
   "source": [
    "weekdays = [to_weekday(line.split(\",\")[0]) for line in data]"
   ]
  },
  {
   "cell_type": "code",
   "execution_count": 177,
   "metadata": {},
   "outputs": [
    {
     "data": {
      "text/plain": [
       "Counter({2: 348, 4: 374, 1: 361, 3: 393, 5: 370})"
      ]
     },
     "execution_count": 177,
     "metadata": {},
     "output_type": "execute_result"
    }
   ],
   "source": [
    "Counter(weekdays)"
   ]
  },
  {
   "cell_type": "code",
   "execution_count": null,
   "metadata": {},
   "outputs": [],
   "source": []
  }
 ],
 "metadata": {
  "kernelspec": {
   "display_name": "Python 3",
   "language": "python",
   "name": "python3"
  },
  "language_info": {
   "codemirror_mode": {
    "name": "ipython",
    "version": 3
   },
   "file_extension": ".py",
   "mimetype": "text/x-python",
   "name": "python",
   "nbconvert_exporter": "python",
   "pygments_lexer": "ipython3",
   "version": "3.6.8"
  }
 },
 "nbformat": 4,
 "nbformat_minor": 2
}
