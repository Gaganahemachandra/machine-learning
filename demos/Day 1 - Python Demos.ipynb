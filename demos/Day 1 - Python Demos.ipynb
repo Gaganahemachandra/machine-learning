{
 "cells": [
  {
   "cell_type": "code",
   "execution_count": 2,
   "metadata": {},
   "outputs": [
    {
     "name": "stdout",
     "output_type": "stream",
     "text": [
      "hello world\n"
     ]
    }
   ],
   "source": [
    "print(\"hello world\")"
   ]
  },
  {
   "cell_type": "code",
   "execution_count": 3,
   "metadata": {},
   "outputs": [],
   "source": [
    "x = 10"
   ]
  },
  {
   "cell_type": "code",
   "execution_count": 4,
   "metadata": {},
   "outputs": [
    {
     "data": {
      "text/plain": [
       "10"
      ]
     },
     "execution_count": 4,
     "metadata": {},
     "output_type": "execute_result"
    }
   ],
   "source": [
    "x"
   ]
  },
  {
   "cell_type": "code",
   "execution_count": 5,
   "metadata": {},
   "outputs": [
    {
     "data": {
      "text/plain": [
       "int"
      ]
     },
     "execution_count": 5,
     "metadata": {},
     "output_type": "execute_result"
    }
   ],
   "source": [
    "type(x)"
   ]
  },
  {
   "cell_type": "code",
   "execution_count": 6,
   "metadata": {},
   "outputs": [
    {
     "data": {
      "text/plain": [
       "float"
      ]
     },
     "execution_count": 6,
     "metadata": {},
     "output_type": "execute_result"
    }
   ],
   "source": [
    "x = 10.0\n",
    "type(x)"
   ]
  },
  {
   "cell_type": "code",
   "execution_count": 7,
   "metadata": {},
   "outputs": [
    {
     "data": {
      "text/plain": [
       "str"
      ]
     },
     "execution_count": 7,
     "metadata": {},
     "output_type": "execute_result"
    }
   ],
   "source": [
    "x = \"hello\"\n",
    "type(x)"
   ]
  },
  {
   "cell_type": "code",
   "execution_count": 9,
   "metadata": {},
   "outputs": [
    {
     "data": {
      "text/plain": [
       "list"
      ]
     },
     "execution_count": 9,
     "metadata": {},
     "output_type": "execute_result"
    }
   ],
   "source": [
    "x = [4, 7, 10, 3]\n",
    "type(x)"
   ]
  },
  {
   "cell_type": "code",
   "execution_count": 10,
   "metadata": {},
   "outputs": [
    {
     "data": {
      "text/plain": [
       "list"
      ]
     },
     "execution_count": 10,
     "metadata": {},
     "output_type": "execute_result"
    }
   ],
   "source": [
    "x = [4, 7, 10, 3.0, \"hello\"]\n",
    "type(x)"
   ]
  },
  {
   "cell_type": "code",
   "execution_count": 11,
   "metadata": {},
   "outputs": [],
   "source": [
    "x = [4, 7, 10, 3]"
   ]
  },
  {
   "cell_type": "code",
   "execution_count": 12,
   "metadata": {},
   "outputs": [
    {
     "data": {
      "text/plain": [
       "4"
      ]
     },
     "execution_count": 12,
     "metadata": {},
     "output_type": "execute_result"
    }
   ],
   "source": [
    "len(x)"
   ]
  },
  {
   "cell_type": "code",
   "execution_count": 13,
   "metadata": {},
   "outputs": [
    {
     "data": {
      "text/plain": [
       "True"
      ]
     },
     "execution_count": 13,
     "metadata": {},
     "output_type": "execute_result"
    }
   ],
   "source": [
    "7 in x"
   ]
  },
  {
   "cell_type": "code",
   "execution_count": 14,
   "metadata": {},
   "outputs": [
    {
     "name": "stdout",
     "output_type": "stream",
     "text": [
      "7 is present\n"
     ]
    }
   ],
   "source": [
    "if 7 in x:\n",
    "    print(\"7 is present\")\n",
    "else:\n",
    "    print(\"7 is not present\")"
   ]
  },
  {
   "cell_type": "code",
   "execution_count": 15,
   "metadata": {},
   "outputs": [
    {
     "data": {
      "text/plain": [
       "False"
      ]
     },
     "execution_count": 15,
     "metadata": {},
     "output_type": "execute_result"
    }
   ],
   "source": [
    "13 in x"
   ]
  },
  {
   "cell_type": "code",
   "execution_count": 16,
   "metadata": {},
   "outputs": [
    {
     "data": {
      "text/plain": [
       "4"
      ]
     },
     "execution_count": 16,
     "metadata": {},
     "output_type": "execute_result"
    }
   ],
   "source": [
    "x = [4, 7, 10, 3]\n",
    "x[0]"
   ]
  },
  {
   "cell_type": "code",
   "execution_count": 17,
   "metadata": {},
   "outputs": [
    {
     "data": {
      "text/plain": [
       "7"
      ]
     },
     "execution_count": 17,
     "metadata": {},
     "output_type": "execute_result"
    }
   ],
   "source": [
    "x[1]"
   ]
  },
  {
   "cell_type": "code",
   "execution_count": 18,
   "metadata": {},
   "outputs": [
    {
     "data": {
      "text/plain": [
       "3"
      ]
     },
     "execution_count": 18,
     "metadata": {},
     "output_type": "execute_result"
    }
   ],
   "source": [
    "x[-1]"
   ]
  },
  {
   "cell_type": "code",
   "execution_count": 19,
   "metadata": {},
   "outputs": [
    {
     "data": {
      "text/plain": [
       "[4, 7, 10, 3, 13]"
      ]
     },
     "execution_count": 19,
     "metadata": {},
     "output_type": "execute_result"
    }
   ],
   "source": [
    "x = [4, 7, 10, 3]\n",
    "x.append(13)\n",
    "x"
   ]
  },
  {
   "cell_type": "code",
   "execution_count": 20,
   "metadata": {},
   "outputs": [
    {
     "data": {
      "text/plain": [
       "[7, 10, 3]"
      ]
     },
     "execution_count": 20,
     "metadata": {},
     "output_type": "execute_result"
    }
   ],
   "source": [
    "x = [4, 7, 10, 3, 13]\n",
    "x[1:4]"
   ]
  },
  {
   "cell_type": "code",
   "execution_count": 21,
   "metadata": {},
   "outputs": [
    {
     "data": {
      "text/plain": [
       "[4, 7, 10, 3]"
      ]
     },
     "execution_count": 21,
     "metadata": {},
     "output_type": "execute_result"
    }
   ],
   "source": [
    "x[:4]"
   ]
  },
  {
   "cell_type": "code",
   "execution_count": 23,
   "metadata": {},
   "outputs": [
    {
     "data": {
      "text/plain": [
       "[5, 1]"
      ]
     },
     "execution_count": 23,
     "metadata": {},
     "output_type": "execute_result"
    }
   ],
   "source": [
    "c"
   ]
  },
  {
   "cell_type": "code",
   "execution_count": 24,
   "metadata": {},
   "outputs": [
    {
     "data": {
      "text/plain": [
       "[100, 7, 10, 3, 5, 1, 11, 11]"
      ]
     },
     "execution_count": 24,
     "metadata": {},
     "output_type": "execute_result"
    }
   ],
   "source": [
    "x = [4, 7, 10, 3, 5, 1, 11, 11]\n",
    "x[0] = 100\n",
    "x"
   ]
  },
  {
   "cell_type": "code",
   "execution_count": 25,
   "metadata": {},
   "outputs": [
    {
     "data": {
      "text/plain": [
       "[4, 7, 200, 10, 3, 5, 1, 11, 11]"
      ]
     },
     "execution_count": 25,
     "metadata": {},
     "output_type": "execute_result"
    }
   ],
   "source": [
    "x = [4, 7, 10, 3, 5, 1, 11, 11]\n",
    "x.insert(2, 200)\n",
    "x"
   ]
  },
  {
   "cell_type": "code",
   "execution_count": 26,
   "metadata": {},
   "outputs": [
    {
     "data": {
      "text/plain": [
       "[]"
      ]
     },
     "execution_count": 26,
     "metadata": {},
     "output_type": "execute_result"
    }
   ],
   "source": [
    "x = [4, 7, 10, 3, 5, 1, 11, 11]\n",
    "x[-2: -4]"
   ]
  },
  {
   "cell_type": "code",
   "execution_count": 28,
   "metadata": {},
   "outputs": [
    {
     "data": {
      "text/plain": [
       "[7, 10, 3, 5, 1, 11, 11]"
      ]
     },
     "execution_count": 28,
     "metadata": {},
     "output_type": "execute_result"
    }
   ],
   "source": [
    "x = [4, 7, 10, 3, 5, 1, 11, 11]\n",
    "x.remove(4)\n",
    "x"
   ]
  },
  {
   "cell_type": "code",
   "execution_count": 29,
   "metadata": {},
   "outputs": [
    {
     "data": {
      "text/plain": [
       "[4, 7, 10, 3, 5, 1, 11]"
      ]
     },
     "execution_count": 29,
     "metadata": {},
     "output_type": "execute_result"
    }
   ],
   "source": [
    "x = [4, 7, 10, 3, 5, 1, 11, 11]\n",
    "x.remove(11)\n",
    "x"
   ]
  },
  {
   "cell_type": "code",
   "execution_count": 32,
   "metadata": {},
   "outputs": [
    {
     "data": {
      "text/plain": [
       "[4, 7, 5, 1, 11, 11]"
      ]
     },
     "execution_count": 32,
     "metadata": {},
     "output_type": "execute_result"
    }
   ],
   "source": [
    "x = [4, 7, 10, 3, 5, 1, 11, 11]\n",
    "del x[2:4]\n",
    "x"
   ]
  },
  {
   "cell_type": "code",
   "execution_count": 33,
   "metadata": {},
   "outputs": [
    {
     "data": {
      "text/plain": [
       "{'a': 'Apple', 'b': 'Banana'}"
      ]
     },
     "execution_count": 33,
     "metadata": {},
     "output_type": "execute_result"
    }
   ],
   "source": [
    "x = {\"a\": \"Apple\", \"b\": \"Banana\"}\n",
    "x"
   ]
  },
  {
   "cell_type": "code",
   "execution_count": 34,
   "metadata": {},
   "outputs": [
    {
     "data": {
      "text/plain": [
       "{'a': 'Apple', 'b': 'Boy'}"
      ]
     },
     "execution_count": 34,
     "metadata": {},
     "output_type": "execute_result"
    }
   ],
   "source": [
    "x = {\"a\": \"Apple\", \"b\": \"Banana\", \"b\": \"Boy\"}\n",
    "x"
   ]
  },
  {
   "cell_type": "code",
   "execution_count": 35,
   "metadata": {},
   "outputs": [
    {
     "data": {
      "text/plain": [
       "dict_keys(['a', 'b'])"
      ]
     },
     "execution_count": 35,
     "metadata": {},
     "output_type": "execute_result"
    }
   ],
   "source": [
    "x.keys()"
   ]
  },
  {
   "cell_type": "code",
   "execution_count": 36,
   "metadata": {},
   "outputs": [
    {
     "data": {
      "text/plain": [
       "{'a': 'Apple', 'b': 'Banana'}"
      ]
     },
     "execution_count": 36,
     "metadata": {},
     "output_type": "execute_result"
    }
   ],
   "source": [
    "x = dict(a = \"Apple\", b = \"Banana\")\n",
    "x"
   ]
  },
  {
   "cell_type": "code",
   "execution_count": 37,
   "metadata": {},
   "outputs": [
    {
     "data": {
      "text/plain": [
       "{'a': 'Apple', 'b': 'Banana', 'c': 'Cake'}"
      ]
     },
     "execution_count": 37,
     "metadata": {},
     "output_type": "execute_result"
    }
   ],
   "source": [
    "x = {\"a\": \"Apple\", \"b\": \"Banana\"}\n",
    "x[\"c\"] = \"Cake\"\n",
    "x"
   ]
  },
  {
   "cell_type": "code",
   "execution_count": 38,
   "metadata": {},
   "outputs": [
    {
     "data": {
      "text/plain": [
       "{'a': 'Apple', 'b': 'Boy'}"
      ]
     },
     "execution_count": 38,
     "metadata": {},
     "output_type": "execute_result"
    }
   ],
   "source": [
    "x = {\"a\": \"Apple\", \"b\": \"Banana\"}\n",
    "x[\"b\"] = \"Boy\"\n",
    "x"
   ]
  },
  {
   "cell_type": "code",
   "execution_count": 39,
   "metadata": {},
   "outputs": [
    {
     "data": {
      "text/plain": [
       "{'b': 'Banana'}"
      ]
     },
     "execution_count": 39,
     "metadata": {},
     "output_type": "execute_result"
    }
   ],
   "source": [
    "x = {\"a\": \"Apple\", \"b\": \"Banana\"}\n",
    "del x[\"a\"]\n",
    "x"
   ]
  },
  {
   "cell_type": "code",
   "execution_count": 40,
   "metadata": {},
   "outputs": [
    {
     "data": {
      "text/plain": [
       "2"
      ]
     },
     "execution_count": 40,
     "metadata": {},
     "output_type": "execute_result"
    }
   ],
   "source": [
    "x = {\"a\": \"Apple\", \"b\": \"Banana\"}\n",
    "len(x)"
   ]
  },
  {
   "cell_type": "code",
   "execution_count": 42,
   "metadata": {},
   "outputs": [
    {
     "ename": "NameError",
     "evalue": "name 'z' is not defined",
     "output_type": "error",
     "traceback": [
      "\u001b[0;31m---------------------------------------------------------------------------\u001b[0m",
      "\u001b[0;31mNameError\u001b[0m                                 Traceback (most recent call last)",
      "\u001b[0;32m<ipython-input-42-ca40557bcbeb>\u001b[0m in \u001b[0;36m<module>\u001b[0;34m\u001b[0m\n\u001b[0;32m----> 1\u001b[0;31m \u001b[0mz\u001b[0m\u001b[0;34m[\u001b[0m\u001b[0;34m\"c\"\u001b[0m\u001b[0;34m]\u001b[0m \u001b[0;34m=\u001b[0m \u001b[0;34m\"Cake\"\u001b[0m\u001b[0;34m\u001b[0m\u001b[0;34m\u001b[0m\u001b[0m\n\u001b[0m",
      "\u001b[0;31mNameError\u001b[0m: name 'z' is not defined"
     ]
    }
   ],
   "source": [
    "z[\"c\"] = \"Cake\""
   ]
  },
  {
   "cell_type": "code",
   "execution_count": 44,
   "metadata": {},
   "outputs": [
    {
     "data": {
      "text/plain": [
       "set"
      ]
     },
     "execution_count": 44,
     "metadata": {},
     "output_type": "execute_result"
    }
   ],
   "source": [
    "x = set([3, 4, 5, 5])\n",
    "type(x)"
   ]
  },
  {
   "cell_type": "code",
   "execution_count": 47,
   "metadata": {},
   "outputs": [
    {
     "data": {
      "text/plain": [
       "{-1, 1, 3, 4, 5}"
      ]
     },
     "execution_count": 47,
     "metadata": {},
     "output_type": "execute_result"
    }
   ],
   "source": [
    "x = set([3, 4, 5, 5, 1, -1, -1])\n",
    "x"
   ]
  },
  {
   "cell_type": "code",
   "execution_count": 48,
   "metadata": {},
   "outputs": [
    {
     "data": {
      "text/plain": [
       "True"
      ]
     },
     "execution_count": 48,
     "metadata": {},
     "output_type": "execute_result"
    }
   ],
   "source": [
    "x = set([3, 4, 5, 5, 1, -1, -1])\n",
    "5 in x"
   ]
  },
  {
   "cell_type": "code",
   "execution_count": 50,
   "metadata": {},
   "outputs": [
    {
     "data": {
      "text/plain": [
       "(5, {-1, 1, 3, 4, 5})"
      ]
     },
     "execution_count": 50,
     "metadata": {},
     "output_type": "execute_result"
    }
   ],
   "source": [
    "x = set([3, 4, 5, 5, 1, -1, -1])\n",
    "len(x), x"
   ]
  },
  {
   "cell_type": "code",
   "execution_count": 53,
   "metadata": {},
   "outputs": [
    {
     "data": {
      "text/plain": [
       "{2, 3}"
      ]
     },
     "execution_count": 53,
     "metadata": {},
     "output_type": "execute_result"
    }
   ],
   "source": [
    "x = set([1, 2, 3])\n",
    "y = set([2, 3, 4])\n",
    "x.intersection(y)"
   ]
  },
  {
   "cell_type": "code",
   "execution_count": 54,
   "metadata": {},
   "outputs": [
    {
     "data": {
      "text/plain": [
       "{1}"
      ]
     },
     "execution_count": 54,
     "metadata": {},
     "output_type": "execute_result"
    }
   ],
   "source": [
    "x - y"
   ]
  },
  {
   "cell_type": "code",
   "execution_count": 55,
   "metadata": {},
   "outputs": [
    {
     "data": {
      "text/plain": [
       "{1, 2, 3, 4}"
      ]
     },
     "execution_count": 55,
     "metadata": {},
     "output_type": "execute_result"
    }
   ],
   "source": [
    "x.union(y)"
   ]
  },
  {
   "cell_type": "code",
   "execution_count": 56,
   "metadata": {},
   "outputs": [
    {
     "data": {
      "text/plain": [
       "{4}"
      ]
     },
     "execution_count": 56,
     "metadata": {},
     "output_type": "execute_result"
    }
   ],
   "source": [
    "y -x"
   ]
  },
  {
   "cell_type": "code",
   "execution_count": 57,
   "metadata": {},
   "outputs": [
    {
     "data": {
      "text/plain": [
       "False"
      ]
     },
     "execution_count": 57,
     "metadata": {},
     "output_type": "execute_result"
    }
   ],
   "source": [
    "x == y"
   ]
  },
  {
   "cell_type": "code",
   "execution_count": 58,
   "metadata": {},
   "outputs": [],
   "source": [
    "with open(\"/home/training/workspace/stocks.small.csv\") as f:\n",
    "    content = f.read()"
   ]
  },
  {
   "cell_type": "code",
   "execution_count": 62,
   "metadata": {},
   "outputs": [
    {
     "ename": "ValueError",
     "evalue": "I/O operation on closed file.",
     "output_type": "error",
     "traceback": [
      "\u001b[0;31m---------------------------------------------------------------------------\u001b[0m",
      "\u001b[0;31mValueError\u001b[0m                                Traceback (most recent call last)",
      "\u001b[0;32m<ipython-input-62-571e9fb02258>\u001b[0m in \u001b[0;36m<module>\u001b[0;34m\u001b[0m\n\u001b[0;32m----> 1\u001b[0;31m \u001b[0mf\u001b[0m\u001b[0;34m.\u001b[0m\u001b[0mread\u001b[0m\u001b[0;34m(\u001b[0m\u001b[0;34m)\u001b[0m\u001b[0;34m\u001b[0m\u001b[0;34m\u001b[0m\u001b[0m\n\u001b[0m",
      "\u001b[0;31mValueError\u001b[0m: I/O operation on closed file."
     ]
    }
   ],
   "source": [
    "f.read()"
   ]
  },
  {
   "cell_type": "code",
   "execution_count": 64,
   "metadata": {},
   "outputs": [
    {
     "data": {
      "text/plain": [
       "_io.TextIOWrapper"
      ]
     },
     "execution_count": 64,
     "metadata": {},
     "output_type": "execute_result"
    }
   ],
   "source": [
    "type(f)"
   ]
  },
  {
   "cell_type": "code",
   "execution_count": 61,
   "metadata": {
    "scrolled": false
   },
   "outputs": [
    {
     "data": {
      "text/plain": [
       "['date,open,high,low,close,volume,adjclose,symbol',\n",
       " '2000-07-18,144.8125,144.828125,141.4375,143.0,5.06836E7,50.155473,INTC',\n",
       " '2000-07-20,32.93751,34.25001,32.8125,33.75,3288300.0,8.789734,BEN',\n",
       " '2000-07-24,64.25,67.312477,64.187523,64.75,948800.0,7.689567,APH',\n",
       " '2000-07-26,21.875,22.125,20.9375,20.9375,1464300.0,15.61832,SHW',\n",
       " '2000-07-26,42.0,42.312481,41.625,41.875,1397600.0,9.402721,STJ',\n",
       " '2000-07-31,33.937519,33.999986,33.75,33.875011,273400.0,5.063753,GGP',\n",
       " '2000-08-07,41.375038,43.0,40.812481,42.812481,2.43376E7,4.869542,SBUX',\n",
       " '2000-08-09,55.562481,55.625,54.5,55.0,387600.0,10.495977,EQT',\n",
       " '2000-08-10,49.0,52.625,48.75,52.125,1511600.0,22.539051,BCR']"
      ]
     },
     "execution_count": 61,
     "metadata": {},
     "output_type": "execute_result"
    }
   ],
   "source": [
    "lines = content.split(\"\\n\")\n",
    "lines[:10]"
   ]
  },
  {
   "cell_type": "code",
   "execution_count": 65,
   "metadata": {},
   "outputs": [],
   "source": [
    "line = '2000-07-18,144.8125,144.828125,141.4375,143.0,5.06836E7,50.155473,INTC'"
   ]
  },
  {
   "cell_type": "code",
   "execution_count": 68,
   "metadata": {},
   "outputs": [
    {
     "data": {
      "text/plain": [
       "str"
      ]
     },
     "execution_count": 68,
     "metadata": {},
     "output_type": "execute_result"
    }
   ],
   "source": [
    "type(line.split(\",\")[-2])"
   ]
  },
  {
   "cell_type": "code",
   "execution_count": 70,
   "metadata": {},
   "outputs": [
    {
     "data": {
      "text/plain": [
       "50.155473"
      ]
     },
     "execution_count": 70,
     "metadata": {},
     "output_type": "execute_result"
    }
   ],
   "source": [
    "float(line.split(\",\")[-2])"
   ]
  },
  {
   "cell_type": "code",
   "execution_count": 71,
   "metadata": {},
   "outputs": [
    {
     "data": {
      "text/plain": [
       "50683600.0"
      ]
     },
     "execution_count": 71,
     "metadata": {},
     "output_type": "execute_result"
    }
   ],
   "source": [
    "float(\"5.06836E7\")"
   ]
  },
  {
   "cell_type": "code",
   "execution_count": 74,
   "metadata": {},
   "outputs": [
    {
     "data": {
      "text/plain": [
       "[13, 14, 16, 20]"
      ]
     },
     "execution_count": 74,
     "metadata": {},
     "output_type": "execute_result"
    }
   ],
   "source": [
    "x = [3, 4, 6, 10]\n",
    "y = list()\n",
    "for v in x:\n",
    "    y.append(v + 10)\n",
    "y"
   ]
  },
  {
   "cell_type": "code",
   "execution_count": 75,
   "metadata": {},
   "outputs": [
    {
     "data": {
      "text/plain": [
       "[13, 14, 16, 20]"
      ]
     },
     "execution_count": 75,
     "metadata": {},
     "output_type": "execute_result"
    }
   ],
   "source": [
    "x = [3, 4, 6, 10]\n",
    "y = [v+10 for v in x] # list comprehension\n",
    "y"
   ]
  },
  {
   "cell_type": "code",
   "execution_count": 76,
   "metadata": {},
   "outputs": [
    {
     "name": "stdout",
     "output_type": "stream",
     "text": [
      "3\n",
      "4\n",
      "6\n",
      "10\n"
     ]
    }
   ],
   "source": [
    "i = 0\n",
    "while i<len(x):\n",
    "    print(x[i])\n",
    "    i = i + 1"
   ]
  },
  {
   "cell_type": "code",
   "execution_count": 90,
   "metadata": {},
   "outputs": [
    {
     "data": {
      "text/plain": [
       "'date,open,high,low,close,volume,adjclose,symbol'"
      ]
     },
     "execution_count": 90,
     "metadata": {},
     "output_type": "execute_result"
    }
   ],
   "source": [
    "lines[0]"
   ]
  },
  {
   "cell_type": "code",
   "execution_count": 93,
   "metadata": {},
   "outputs": [],
   "source": [
    "lines = [line for line in lines if len(line)!=0]"
   ]
  },
  {
   "cell_type": "code",
   "execution_count": 94,
   "metadata": {
    "scrolled": false
   },
   "outputs": [
    {
     "data": {
      "text/plain": [
       "{8}"
      ]
     },
     "execution_count": 94,
     "metadata": {},
     "output_type": "execute_result"
    }
   ],
   "source": [
    "field_counts = [len(line.split(\",\")) for line in lines]\n",
    "set(field_counts)"
   ]
  },
  {
   "cell_type": "code",
   "execution_count": 96,
   "metadata": {
    "scrolled": false
   },
   "outputs": [
    {
     "data": {
      "text/plain": [
       "['symbol', 'INTC', 'BEN', 'APH', 'SHW', 'STJ', 'GGP', 'SBUX', 'EQT', 'BCR']"
      ]
     },
     "execution_count": 96,
     "metadata": {},
     "output_type": "execute_result"
    }
   ],
   "source": [
    "[(line.split(\",\")[7]) for line in lines][:10]"
   ]
  },
  {
   "cell_type": "code",
   "execution_count": 85,
   "metadata": {},
   "outputs": [
    {
     "data": {
      "text/plain": [
       "'144.8125'"
      ]
     },
     "execution_count": 85,
     "metadata": {},
     "output_type": "execute_result"
    }
   ],
   "source": [
    "line.split(\",\")[1]"
   ]
  },
  {
   "cell_type": "code",
   "execution_count": 97,
   "metadata": {},
   "outputs": [
    {
     "data": {
      "text/plain": [
       "4.666666666666667"
      ]
     },
     "execution_count": 97,
     "metadata": {},
     "output_type": "execute_result"
    }
   ],
   "source": [
    "x = [3, 5, 6]\n",
    "sum(x)/len(x)"
   ]
  },
  {
   "cell_type": "code",
   "execution_count": 98,
   "metadata": {},
   "outputs": [],
   "source": [
    "with open(\"/home/training/workspace/stocks.small.csv\") as f:\n",
    "    content = f.read()\n",
    "    lines = content.split(\"\\n\")"
   ]
  },
  {
   "cell_type": "code",
   "execution_count": 101,
   "metadata": {},
   "outputs": [
    {
     "data": {
      "text/plain": [
       "['date,open,high,low,close,volume,adjclose,symbol',\n",
       " '2000-07-18,144.8125,144.828125,141.4375,143.0,5.06836E7,50.155473,INTC',\n",
       " '2000-07-20,32.93751,34.25001,32.8125,33.75,3288300.0,8.789734,BEN',\n",
       " '2000-07-24,64.25,67.312477,64.187523,64.75,948800.0,7.689567,APH',\n",
       " '2000-07-26,21.875,22.125,20.9375,20.9375,1464300.0,15.61832,SHW']"
      ]
     },
     "execution_count": 101,
     "metadata": {},
     "output_type": "execute_result"
    }
   ],
   "source": [
    "lines = [line for line in lines if line.strip() != \"\"]\n",
    "lines[:5]"
   ]
  },
  {
   "cell_type": "code",
   "execution_count": 102,
   "metadata": {},
   "outputs": [
    {
     "data": {
      "text/plain": [
       "['2000-07-18,144.8125,144.828125,141.4375,143.0,5.06836E7,50.155473,INTC',\n",
       " '2000-07-20,32.93751,34.25001,32.8125,33.75,3288300.0,8.789734,BEN',\n",
       " '2000-07-24,64.25,67.312477,64.187523,64.75,948800.0,7.689567,APH',\n",
       " '2000-07-26,21.875,22.125,20.9375,20.9375,1464300.0,15.61832,SHW',\n",
       " '2000-07-26,42.0,42.312481,41.625,41.875,1397600.0,9.402721,STJ']"
      ]
     },
     "execution_count": 102,
     "metadata": {},
     "output_type": "execute_result"
    }
   ],
   "source": [
    "data = lines[1:]\n",
    "data[:5]"
   ]
  },
  {
   "cell_type": "code",
   "execution_count": 105,
   "metadata": {
    "scrolled": false
   },
   "outputs": [
    {
     "name": "stdout",
     "output_type": "stream",
     "text": [
      "{'INTC': 4, 'BEN': 6, 'APH': 3, 'SHW': 5, 'STJ': 3, 'GGP': 5, 'SBUX': 6, 'EQT': 7, 'BCR': 6, 'NKE': 8, 'IPG': 5, 'EXC': 4, 'BXP': 5, 'BIIB': 7, 'DD': 1, 'NUE': 8, 'ALK': 7, 'COG': 6, 'ETN': 8, 'DO': 5, 'BSX': 4, 'UPS': 11, 'ENDP': 5, 'WBA': 4, 'PXD': 4, 'STI': 5, 'FDX': 6, 'LLTC': 3, 'RHT': 6, 'O': 5, 'RAI': 5, 'BWA': 4, 'FLIR': 9, 'MET': 5, 'XLNX': 6, 'FCX': 4, 'FOX': 4, 'EMC': 3, 'RHI': 3, 'FISV': 3, 'CINF': 7, 'AGN': 5, 'IP': 7, 'KSS': 5, 'EBAY': 3, 'CMS': 7, 'TROW': 5, 'KR': 9, 'R': 6, 'PNC': 5, 'ED': 7, 'KEY': 1, 'USB': 2, 'MCO': 5, 'HES': 3, 'RCL': 1, 'HON': 3, 'REGN': 5, 'FLR': 3, 'MSI': 3, 'ISRG': 5, 'MYL': 5, 'LEG': 6, 'MOS': 6, 'WMT': 8, 'HD': 3, 'COF': 9, 'MLM': 6, 'ADBE': 2, 'OKE': 5, 'SRE': 3, 'CTAS': 4, 'MMC': 6, 'FMC': 8, 'LLL': 4, 'VMC': 4, 'SLB': 3, 'LRCX': 5, 'SCG': 5, 'SYK': 4, 'BLL': 3, 'CERN': 3, 'ECL': 3, 'HST': 4, 'GILD': 4, 'XL': 3, 'CTXS': 4, 'AIV': 3, 'GLW': 5, 'GE': 7, 'SJM': 5, 'LLY': 7, 'DE': 6, 'HUM': 7, 'EMN': 4, 'F': 3, 'COH': 4, 'MRK': 7, 'PGR': 5, 'AMZN': 7, 'OXY': 4, 'DTE': 4, 'ATVI': 3, 'YUM': 6, 'YHOO': 5, 'NTRS': 5, 'SLG': 6, 'MTB': 7, 'COL': 2, 'GS': 2, 'CNP': 3, 'IFF': 8, 'ETFC': 4, 'MU': 7, 'MKC': 6, 'EA': 3, 'CCL': 6, 'LMT': 4, 'AIG': 5, 'SWK': 5, 'HCP': 5, 'DGX': 5, 'M': 6, 'NEM': 7, 'HOLX': 5, 'LNC': 7, 'CA': 6, 'CCI': 3, 'NFX': 7, 'PHM': 9, 'BBBY': 7, 'EXPD': 6, 'PEG': 6, 'KMB': 8, 'CTSH': 2, 'CAT': 5, 'XRAY': 5, 'PBI': 4, 'BMY': 7, 'WAT': 7, 'CNC': 3, 'UNH': 4, 'SWN': 5, 'DVN': 4, 'VZ': 7, 'DOV': 4, 'SRCL': 1, 'HRS': 4, 'EQR': 5, 'CELG': 3, 'STT': 4, 'JNJ': 8, 'AEE': 4, 'D': 9, 'HSIC': 2, 'CL': 3, 'SCHW': 7, 'AZO': 3, 'MDT': 6, 'ALB': 5, 'PCAR': 3, 'ESS': 4, 'PPL': 4, 'PPG': 8, 'RRC': 4, 'PDCO': 4, 'ROST': 1, 'LH': 2, 'PVH': 6, 'PFG': 6, 'HBAN': 2, 'AMGN': 4, 'APC': 7, 'TSN': 4, 'XRX': 1, 'TYC': 2, 'VRSN': 6, 'HPQ': 6, 'ADM': 6, 'GPN': 5, 'K': 10, 'ADI': 6, 'CHRW': 3, 'WHR': 5, 'JPM': 6, 'TXT': 4, 'PNW': 4, 'MAR': 4, 'SIG': 8, 'AME': 6, 'WY': 3, 'HP': 4, 'WMB': 5, 'ABT': 6, 'AYI': 5, 'AXP': 3, 'AON': 5, 'DOW': 4, 'ORCL': 1, 'CVX': 5, 'PRU': 2, 'WM': 6, 'PCLN': 2, 'HRB': 2, 'GRMN': 5, 'AES': 7, 'ACN': 2, 'MCD': 2, 'AEP': 3, 'LNT': 3, 'CHK': 5, 'MHK': 3, 'STX': 2, 'CLX': 3, 'NBL': 5, 'ROP': 5, 'KSU': 5, 'DRI': 4, 'EOG': 6, 'CSX': 4, 'DHI': 5, 'CTL': 3, 'RSG': 3, 'EL': 4, 'URI': 2, 'MNST': 4, 'MON': 4, 'TIF': 3, 'BBY': 4, 'BK': 5, 'HAR': 7, 'VLO': 2, 'FTR': 6, 'WDC': 7, 'ROK': 6, 'QCOM': 4, 'BAX': 4, 'MCK': 3, 'FFIV': 4, 'EFX': 3, 'HIG': 3, 'AMAT': 3, 'MSFT': 5, 'AMT': 4, 'ILMN': 5, 'BLK': 5, 'AKAM': 4, 'TSO': 3, 'XOM': 3, 'EW': 2, 'MDLZ': 3, 'LUV': 3, 'IVZ': 4, 'GT': 4, 'LKQ': 4, 'SWKS': 5, 'FE': 2, 'UNP': 5, 'WEC': 2, 'VTR': 6, 'MMM': 2, 'ES': 4, 'CI': 4, 'JWN': 3, 'TSS': 2, 'ESRX': 2, 'ZBH': 11, 'MAS': 5, 'LUK': 5, 'WYNN': 6, 'AA': 5, 'SYY': 7, 'JBHT': 3, 'BBT': 3, 'AET': 5, 'MO': 2, 'PLD': 4, 'EMR': 2, 'CHD': 6, 'AIZ': 4, 'ALL': 3, 'C': 4, 'TRV': 3, 'DLTR': 3, 'GWW': 4, 'APA': 4, 'DLR': 6, 'TAP': 3, 'PG': 5, 'EQIX': 4, 'IR': 3, 'PCG': 4, 'PSA': 6, 'SYMC': 3, 'NTAP': 1, 'WFM': 3, 'ADSK': 4, 'MRO': 3, 'CRM': 3, 'RL': 7, 'DVA': 7, 'KLAC': 4, 'NRG': 2, 'ETR': 5, 'LOW': 5, 'URBN': 6, 'SO': 5, 'CB': 3, 'DUK': 3, 'EXR': 8, 'TMO': 5, 'DNB': 3, 'VRTX': 2, 'NFLX': 2, 'AVB': 4, 'AFL': 3, 'OI': 1, 'CMCSA': 1, 'CAH': 5, 'UHS': 3, 'GOOGL': 1, 'VIAB': 4, 'APD': 4, 'HOT': 3, 'HOG': 4, 'CMI': 8, 'HAL': 3, 'BA': 4, 'GD': 5, 'PX': 7, 'CBS': 3, 'FLS': 4, 'ANTM': 2, 'GPS': 3, 'UTX': 4, 'PFE': 3, 'FOXA': 7, 'NSC': 4, 'KMX': 3, 'XEL': 2, 'ITW': 4, 'AAP': 5, 'EIX': 6, 'AAL': 1, 'TXN': 1, 'INTU': 1, 'MS': 5, 'JNPR': 2, 'AAPL': 3, 'VFC': 2, 'HBI': 1, 'WYN': 5, 'MAT': 2, 'A': 2, 'DHR': 1, 'RF': 2, 'TGNA': 6, 'IBM': 3, 'WFC': 7, 'JCI': 2, 'STZ': 4, 'SPLS': 4, 'MAC': 4, 'TDG': 3, 'UDR': 3, 'WU': 2, 'NI': 4, 'COP': 4, 'SNA': 4, 'TGT': 5, 'XEC': 3, 'GPC': 3, 'DIS': 3, 'HRL': 3, 'VNO': 3, 'IRM': 3, 'PBCT': 5, 'PRGO': 5, 'NOV': 4, 'FAST': 1, 'FL': 4, 'FTI': 2, 'VAR': 3, 'NVDA': 1, 'PEP': 3, 'NWL': 4, 'OMC': 1, 'FRT': 4, 'SE': 3, 'FSLR': 5, 'DFS': 3, 'LM': 2, 'BDX': 2, 'CVS': 2, 'COST': 1, 'HCN': 2, 'AWK': 4, 'GOOG': 3, 'HAS': 3, 'NOC': 3, 'CF': 2, 'TDC': 1, 'MJN': 2, 'AVGO': 3, 'ICE': 2, 'LB': 5, 'FIS': 2, 'TJX': 3, 'RTN': 4, 'CAG': 2, 'ULTA': 1, 'DAL': 2, 'ALXN': 1, 'LYB': 3, 'ABC': 2, 'BAC': 2, 'TEL': 2, 'EXPE': 2, 'ZION': 2, 'UNM': 2, 'ORLY': 2, 'DG': 3, 'CMG': 1, 'MA': 2, 'UAL': 2, 'GIS': 3, 'DISCK': 1, 'CPB': 3, 'L': 1, 'V': 2, 'HSY': 2, 'CXO': 3, 'XYL': 2, 'CSCO': 2, 'AMP': 2, 'UA': 1, 'PNR': 1, 'TWX': 1, 'ADS': 3, 'MUR': 1, 'T': 1, 'PSX': 2, 'KORS': 1, 'SNI': 3, 'GM': 2, 'FBHS': 3, 'KIM': 3, 'PM': 1, 'PKI': 3, 'HCA': 2, 'TSCO': 1, 'SEE': 1, 'FB': 1, 'CME': 1, 'ADP': 1, 'LEN': 2, 'TRIP': 1, 'MPC': 1, 'VRSK': 1, 'LVLT': 1, 'NWS': 2, 'JEC': 3, 'CBG': 1, 'RIG': 1, 'SPGI': 1, 'CMA': 1, 'AMG': 2, 'PWR': 1, 'WRK': 1, 'ALLE': 1, 'MNK': 1}\n"
     ]
    }
   ],
   "source": [
    "frequency = {}\n",
    "for line in data:\n",
    "    symbol = line.split(\",\")[-1]\n",
    "    if symbol in frequency:\n",
    "        frequency[symbol] += 1\n",
    "    else:\n",
    "        frequency[symbol] = 1\n",
    "print(frequency)"
   ]
  },
  {
   "cell_type": "code",
   "execution_count": 109,
   "metadata": {
    "scrolled": false
   },
   "outputs": [
    {
     "name": "stdout",
     "output_type": "stream",
     "text": [
      "{'INTC': 74368550.0, 'BEN': 3317050.0, 'APH': 1573366.6666666667, 'SHW': 1028760.0, 'STJ': 1341333.3333333333, 'GGP': 961020.0, 'SBUX': 21040233.333333332, 'EQT': 988628.5714285715, 'BCR': 1557300.0, 'NKE': 13730375.0, 'IPG': 3774960.0, 'EXC': 4272625.0, 'BXP': 561860.0, 'BIIB': 2678871.4285714286, 'DD': 6005600.0, 'NUE': 2655587.5, 'ALK': 2896700.0, 'COG': 4203033.333333333, 'ETN': 2120087.5, 'DO': 1929440.0, 'BSX': 4953450.0, 'UPS': 3431600.0, 'ENDP': 1364540.0, 'WBA': 4418425.0, 'PXD': 1205650.0, 'STI': 4397600.0, 'FDX': 2076366.6666666667, 'LLTC': 4596966.666666667, 'RHT': 2198866.6666666665, 'O': 923700.0, 'RAI': 9824660.0, 'BWA': 1606150.0, 'FLIR': 1176022.2222222222, 'MET': 5447520.0, 'XLNX': 6288650.0, 'FCX': 9204975.0, 'FOX': 2188475.0, 'EMC': 15612966.666666666, 'RHI': 1558700.0, 'FISV': 2424133.3333333335, 'CINF': 511871.4285714286, 'AGN': 1079380.0, 'IP': 3418514.285714286, 'KSS': 3495000.0, 'EBAY': 37022033.333333336, 'CMS': 1328642.857142857, 'TROW': 1943600.0, 'KR': 7185777.777777778, 'R': 577216.6666666666, 'PNC': 1240160.0, 'ED': 1465328.5714285714, 'KEY': 678700.0, 'USB': 20442200.0, 'MCO': 2209460.0, 'HES': 3321400.0, 'RCL': 288900.0, 'HON': 5339766.666666667, 'REGN': 443940.0, 'FLR': 1141266.6666666667, 'MSI': 2858900.0, 'ISRG': 313800.0, 'MYL': 3810540.0, 'LEG': 947050.0, 'MOS': 4765900.0, 'WMT': 12165262.5, 'HD': 5665166.666666667, 'COF': 2539388.888888889, 'MLM': 446933.3333333333, 'ADBE': 4725700.0, 'OKE': 721880.0, 'SRE': 977100.0, 'CTAS': 894150.0, 'MMC': 3433633.3333333335, 'FMC': 1508087.5, 'LLL': 969275.0, 'VMC': 305925.0, 'SLB': 8118533.333333333, 'LRCX': 1732480.0, 'SCG': 509640.0, 'SYK': 1123375.0, 'BLL': 1395600.0, 'CERN': 3339600.0, 'ECL': 727400.0, 'HST': 3896200.0, 'GILD': 17849725.0, 'XL': 706733.3333333334, 'CTXS': 3383825.0, 'AIV': 861200.0, 'GLW': 16825400.0, 'GE': 19689071.42857143, 'SJM': 241580.0, 'LLY': 7320228.571428572, 'DE': 2677016.6666666665, 'HUM': 1194328.5714285714, 'EMN': 1940450.0, 'F': 45860100.0, 'COH': 3772225.0, 'MRK': 12649328.57142857, 'PGR': 4806280.0, 'AMZN': 4936485.714285715, 'OXY': 2683850.0, 'DTE': 717400.0, 'ATVI': 13833733.333333334, 'YUM': 1796916.6666666667, 'YHOO': 23084140.0, 'NTRS': 957440.0, 'SLG': 568800.0, 'MTB': 558000.0, 'COL': 987500.0, 'GS': 3028100.0, 'CNP': 2052466.6666666667, 'IFF': 793962.5, 'ETFC': 3250800.0, 'MU': 15643985.714285715, 'MKC': 697616.6666666666, 'EA': 4029900.0, 'CCL': 4375633.333333333, 'LMT': 2461850.0, 'AIG': 3441720.0, 'SWK': 307360.0, 'HCP': 1020300.0, 'DGX': 2458240.0, 'M': 7819616.666666667, 'NEM': 5721928.571428572, 'HOLX': 1601900.0, 'LNC': 1297542.857142857, 'CA': 4638866.666666667, 'CCI': 2052700.0, 'NFX': 4696585.714285715, 'PHM': 6032566.666666667, 'BBBY': 3099514.285714286, 'EXPD': 1720783.3333333333, 'PEG': 2246566.6666666665, 'KMB': 2134387.5, 'CTSH': 4570400.0, 'CAT': 5437440.0, 'XRAY': 1117300.0, 'PBI': 1205125.0, 'BMY': 10851785.714285715, 'WAT': 1269814.2857142857, 'CNC': 686500.0, 'UNH': 5839525.0, 'SWN': 3471840.0, 'DVN': 2998025.0, 'VZ': 13361771.42857143, 'DOV': 1831675.0, 'SRCL': 2415200.0, 'HRS': 807550.0, 'EQR': 2271100.0, 'CELG': 6731666.666666667, 'STT': 2446100.0, 'JNJ': 7240887.5, 'AEE': 935075.0, 'D': 3944966.6666666665, 'HSIC': 423950.0, 'CL': 5279600.0, 'SCHW': 10880000.0, 'AZO': 1324266.6666666667, 'MDT': 8162916.666666667, 'ALB': 517520.0, 'PCAR': 4456366.666666667, 'ESS': 256350.0, 'PPL': 3513350.0, 'PPG': 1646537.5, 'RRC': 1164175.0, 'PDCO': 2020525.0, 'ROST': 11695200.0, 'LH': 6923700.0, 'PVH': 485500.0, 'PFG': 1820766.6666666667, 'HBAN': 3287250.0, 'AMGN': 8087750.0, 'APC': 5562571.428571428, 'TSN': 2545950.0, 'XRX': 3019200.0, 'TYC': 4874950.0, 'VRSN': 3255733.3333333335, 'HPQ': 36499666.666666664, 'ADM': 4904966.666666667, 'GPN': 1404440.0, 'K': 1819700.0, 'ADI': 2909116.6666666665, 'CHRW': 923433.3333333334, 'WHR': 993280.0, 'JPM': 28355466.666666668, 'TXT': 6431025.0, 'PNW': 776750.0, 'MAR': 2316200.0, 'SIG': 522512.5, 'AME': 1078566.6666666667, 'WY': 1098333.3333333333, 'HP': 1234400.0, 'WMB': 7113100.0, 'ABT': 13140216.666666666, 'AYI': 469540.0, 'AXP': 7597666.666666667, 'AON': 1938700.0, 'DOW': 7248850.0, 'ORCL': 33763500.0, 'CVX': 12557460.0, 'PRU': 2156300.0, 'WM': 2534883.3333333335, 'PCLN': 337700.0, 'HRB': 2871100.0, 'GRMN': 1430320.0, 'AES': 4188585.714285714, 'ACN': 3198850.0, 'MCD': 4023650.0, 'AEP': 1866266.6666666667, 'LNT': 777266.6666666666, 'CHK': 11088000.0, 'MHK': 488166.6666666667, 'STX': 10067050.0, 'CLX': 1308400.0, 'NBL': 2301400.0, 'ROP': 437740.0, 'KSU': 748280.0, 'DRI': 1837225.0, 'EOG': 5887300.0, 'CSX': 12397625.0, 'DHI': 5309640.0, 'CTL': 2446566.6666666665, 'RSG': 1852533.3333333333, 'EL': 1617300.0, 'URI': 242300.0, 'MNST': 1535725.0, 'MON': 4839450.0, 'TIF': 2388533.3333333335, 'BBY': 6257575.0, 'BK': 5108660.0, 'HAR': 384728.5714285714, 'VLO': 7212950.0, 'FTR': 1515016.6666666667, 'WDC': 3105371.4285714286, 'ROK': 965450.0, 'QCOM': 18619800.0, 'BAX': 4606925.0, 'MCK': 1622833.3333333333, 'FFIV': 3853475.0, 'EFX': 960666.6666666666, 'HIG': 1976600.0, 'AMAT': 24336933.333333332, 'MSFT': 41910000.0, 'AMT': 1705000.0, 'ILMN': 600180.0, 'BLK': 428300.0, 'AKAM': 3719875.0, 'TSO': 2181900.0, 'XOM': 27768266.666666668, 'EW': 1601100.0, 'MDLZ': 4347733.333333333, 'LUV': 5567400.0, 'IVZ': 1678425.0, 'GT': 5868025.0, 'LKQ': 1739425.0, 'SWKS': 3889460.0, 'FE': 1210600.0, 'UNP': 4734840.0, 'WEC': 650600.0, 'VTR': 1545000.0, 'MMM': 1826750.0, 'ES': 833175.0, 'CI': 2258075.0, 'JWN': 4782600.0, 'TSS': 820150.0, 'ESRX': 6818900.0, 'ZBH': 1616663.6363636365, 'MAS': 3825620.0, 'LUK': 850760.0, 'WYNN': 3704533.3333333335, 'AA': 21779920.0, 'SYY': 2600685.714285714, 'JBHT': 1140533.3333333333, 'BBT': 3995333.3333333335, 'AET': 5830220.0, 'MO': 12236150.0, 'PLD': 865625.0, 'EMR': 2216700.0, 'CHD': 1024566.6666666666, 'AIZ': 1017925.0, 'ALL': 2904833.3333333335, 'C': 30418400.0, 'TRV': 1547433.3333333333, 'DLTR': 3600733.3333333335, 'GWW': 617975.0, 'APA': 3231675.0, 'DLR': 970933.3333333334, 'TAP': 1464633.3333333333, 'PG': 7123520.0, 'EQIX': 657000.0, 'IR': 2430333.3333333335, 'PCG': 2195725.0, 'PSA': 1536233.3333333333, 'SYMC': 12164733.333333334, 'NTAP': 5664400.0, 'WFM': 4218266.666666667, 'ADSK': 3393800.0, 'MRO': 7989433.333333333, 'CRM': 3919400.0, 'RL': 965371.4285714285, 'DVA': 1617957.142857143, 'KLAC': 6398500.0, 'NRG': 1849950.0, 'ETR': 1577280.0, 'LOW': 12245260.0, 'URBN': 2584266.6666666665, 'SO': 4457060.0, 'CB': 1464700.0, 'DUK': 1975900.0, 'EXR': 766675.0, 'TMO': 1875040.0, 'DNB': 336266.6666666667, 'VRTX': 1641950.0, 'NFLX': 11445350.0, 'AVB': 950200.0, 'AFL': 1896633.3333333333, 'OI': 3161100.0, 'CMCSA': 14453500.0, 'CAH': 1818380.0, 'UHS': 1216600.0, 'GOOGL': 30898200.0, 'VIAB': 5036050.0, 'APD': 1177850.0, 'HOT': 2395933.3333333335, 'HOG': 3821700.0, 'CMI': 3091300.0, 'HAL': 13008866.666666666, 'BA': 4745475.0, 'GD': 1153600.0, 'PX': 1509771.4285714286, 'CBS': 5528166.666666667, 'FLS': 3702975.0, 'ANTM': 3568150.0, 'GPS': 6559233.333333333, 'UTX': 3248425.0, 'PFE': 25643266.666666668, 'FOXA': 9871314.285714285, 'NSC': 2028425.0, 'KMX': 1134533.3333333333, 'XEL': 1071800.0, 'ITW': 2187175.0, 'AAP': 1274240.0, 'EIX': 2322216.6666666665, 'AAL': 2598900.0, 'TXN': 19349200.0, 'INTU': 1918800.0, 'MS': 15517940.0, 'JNPR': 8632750.0, 'AAPL': 166366233.33333334, 'VFC': 2186600.0, 'HBI': 889200.0, 'WYN': 1353540.0, 'MAT': 4054450.0, 'A': 4817800.0, 'DHR': 7628600.0, 'RF': 10235750.0, 'TGNA': 5026883.333333333, 'IBM': 6646900.0, 'WFC': 21810371.42857143, 'JCI': 4317550.0, 'STZ': 2411750.0, 'SPLS': 9147125.0, 'MAC': 1391550.0, 'TDG': 278066.6666666667, 'UDR': 1451866.6666666667, 'WU': 4839500.0, 'NI': 3975425.0, 'COP': 9714225.0, 'SNA': 309300.0, 'TGT': 8144020.0, 'XEC': 1375533.3333333333, 'GPC': 1335533.3333333333, 'DIS': 11843800.0, 'HRL': 1676933.3333333333, 'VNO': 1131200.0, 'IRM': 1202800.0, 'PBCT': 3017960.0, 'PRGO': 1555160.0, 'NOV': 7148625.0, 'FAST': 2375800.0, 'FL': 1979875.0, 'FTI': 4667600.0, 'VAR': 1460900.0, 'NVDA': 20536700.0, 'PEP': 16809966.666666668, 'NWL': 2480075.0, 'OMC': 3241900.0, 'FRT': 1055850.0, 'SE': 3644400.0, 'FSLR': 3052760.0, 'DFS': 7089633.333333333, 'LM': 2529400.0, 'BDX': 1230550.0, 'CVS': 8769950.0, 'COST': 3293000.0, 'HCN': 1490500.0, 'AWK': 1057775.0, 'GOOG': 3965933.3333333335, 'HAS': 1097366.6666666667, 'NOC': 1001200.0, 'CF': 6879500.0, 'TDC': 1737600.0, 'MJN': 1530000.0, 'AVGO': 1899500.0, 'ICE': 757400.0, 'LB': 3098360.0, 'FIS': 2564700.0, 'TJX': 6441666.666666667, 'RTN': 2358850.0, 'CAG': 3291700.0, 'ULTA': 299400.0, 'DAL': 23105000.0, 'ALXN': 1463200.0, 'LYB': 5160866.666666667, 'ABC': 1828200.0, 'BAC': 185000000.0, 'TEL': 4100100.0, 'EXPE': 3929400.0, 'ZION': 3220250.0, 'UNM': 1367550.0, 'ORLY': 1272700.0, 'DG': 1723900.0, 'CMG': 880100.0, 'MA': 7753150.0, 'UAL': 5146450.0, 'GIS': 5997066.666666667, 'DISCK': 1641800.0, 'CPB': 2938166.6666666665, 'L': 1721900.0, 'V': 12193200.0, 'HSY': 1194800.0, 'CXO': 1011933.3333333334, 'XYL': 720950.0, 'CSCO': 34010800.0, 'AMP': 1965750.0, 'UA': 9841600.0, 'PNR': 1110100.0, 'TWX': 7694600.0, 'ADS': 764200.0, 'MUR': 1420900.0, 'T': 38323500.0, 'PSX': 3495000.0, 'KORS': 7858600.0, 'SNI': 569900.0, 'GM': 13861050.0, 'FBHS': 870366.6666666666, 'KIM': 3991400.0, 'PM': 3035900.0, 'PKI': 1071766.6666666667, 'HCA': 3425900.0, 'TSCO': 640400.0, 'SEE': 1540100.0, 'FB': 59999900.0, 'CME': 1689600.0, 'ADP': 1074600.0, 'LEN': 4413150.0, 'TRIP': 4832300.0, 'MPC': 7134400.0, 'VRSK': 656400.0, 'LVLT': 1506300.0, 'NWS': 799700.0, 'JEC': 867166.6666666666, 'CBG': 1904500.0, 'RIG': 4777400.0, 'SPGI': 1899100.0, 'CMA': 2502700.0, 'AMG': 500500.0, 'PWR': 5706700.0, 'WRK': 2397300.0, 'ALLE': 471100.0, 'MNK': 1596400.0}\n"
     ]
    }
   ],
   "source": [
    "volumes = dict()# key: symbol, value: list of volumes for the symbol\n",
    "\n",
    "for line in data:\n",
    "    tokens = line.split(\",\")\n",
    "    symbol = tokens[-1]\n",
    "    volume = float(tokens[5])\n",
    "    if symbol in volumes:\n",
    "        volumes[symbol].append(volume)\n",
    "    else:\n",
    "        volumes[symbol] = [volume]  \n",
    "        \n",
    "avg_volume = dict() # key: symbol, value: avg_volume\n",
    "for symbol in volumes:\n",
    "    values = volumes[symbol]\n",
    "    avg = sum(values)/len(values)\n",
    "    avg_volume[symbol] = avg\n",
    "\n",
    "print(avg_volume)"
   ]
  },
  {
   "cell_type": "code",
   "execution_count": 111,
   "metadata": {},
   "outputs": [
    {
     "data": {
      "text/plain": [
       "74368550.0"
      ]
     },
     "execution_count": 111,
     "metadata": {},
     "output_type": "execute_result"
    }
   ],
   "source": [
    "sum([5.06836E7, 7.66563E7, 9.96814E7, 7.04529E7])/4"
   ]
  },
  {
   "cell_type": "code",
   "execution_count": 112,
   "metadata": {},
   "outputs": [
    {
     "data": {
      "text/plain": [
       "['2000-07-18,144.8125,144.828125,141.4375,143.0,5.06836E7,50.155473,INTC',\n",
       " '2000-07-20,32.93751,34.25001,32.8125,33.75,3288300.0,8.789734,BEN',\n",
       " '2000-07-24,64.25,67.312477,64.187523,64.75,948800.0,7.689567,APH',\n",
       " '2000-07-26,21.875,22.125,20.9375,20.9375,1464300.0,15.61832,SHW',\n",
       " '2000-07-26,42.0,42.312481,41.625,41.875,1397600.0,9.402721,STJ']"
      ]
     },
     "execution_count": 112,
     "metadata": {},
     "output_type": "execute_result"
    }
   ],
   "source": [
    "data[:5]"
   ]
  },
  {
   "cell_type": "code",
   "execution_count": 113,
   "metadata": {},
   "outputs": [],
   "source": [
    "from datetime import datetime"
   ]
  },
  {
   "cell_type": "code",
   "execution_count": 116,
   "metadata": {},
   "outputs": [],
   "source": [
    "d = datetime.strptime(\"2019-05-06\", \"%Y-%m-%d\")\n"
   ]
  },
  {
   "cell_type": "code",
   "execution_count": 118,
   "metadata": {},
   "outputs": [
    {
     "data": {
      "text/plain": [
       "1"
      ]
     },
     "execution_count": 118,
     "metadata": {},
     "output_type": "execute_result"
    }
   ],
   "source": [
    "d.isoweekday()"
   ]
  },
  {
   "cell_type": "code",
   "execution_count": 121,
   "metadata": {},
   "outputs": [
    {
     "data": {
      "text/plain": [
       "('Mon', 'Monday', '1')"
      ]
     },
     "execution_count": 121,
     "metadata": {},
     "output_type": "execute_result"
    }
   ],
   "source": [
    "datetime.strftime(d, \"%a\"), datetime.strftime(d, \"%A\"), datetime.strftime(d, \"%w\")"
   ]
  },
  {
   "cell_type": "code",
   "execution_count": 123,
   "metadata": {},
   "outputs": [
    {
     "data": {
      "text/plain": [
       "['2000-07-18', '2000-07-20', '2000-07-24', '2000-07-26', '2000-07-26']"
      ]
     },
     "execution_count": 123,
     "metadata": {},
     "output_type": "execute_result"
    }
   ],
   "source": [
    "dates = [line.split(\",\")[0] for line in data]\n",
    "dates[:5]"
   ]
  },
  {
   "cell_type": "code",
   "execution_count": 126,
   "metadata": {
    "scrolled": false
   },
   "outputs": [
    {
     "data": {
      "text/plain": [
       "[2, 4, 1, 3, 3]"
      ]
     },
     "execution_count": 126,
     "metadata": {},
     "output_type": "execute_result"
    }
   ],
   "source": [
    "weekdays = [datetime.strptime(d, \"%Y-%m-%d\").isoweekday() for d in dates]\n",
    "weekdays[:5]"
   ]
  },
  {
   "cell_type": "code",
   "execution_count": 128,
   "metadata": {},
   "outputs": [],
   "source": [
    "from collections import Counter"
   ]
  },
  {
   "cell_type": "code",
   "execution_count": 129,
   "metadata": {},
   "outputs": [
    {
     "data": {
      "text/plain": [
       "Counter({2: 348, 4: 374, 1: 361, 3: 393, 5: 370})"
      ]
     },
     "execution_count": 129,
     "metadata": {},
     "output_type": "execute_result"
    }
   ],
   "source": [
    "Counter(weekdays)"
   ]
  },
  {
   "cell_type": "code",
   "execution_count": 45,
   "metadata": {},
   "outputs": [
    {
     "data": {
      "text/plain": [
       "['2016-01-14,549.289978,557.469971,538.130005,555.77002,584100.0,555.77002,ISRG',\n",
       " '2016-01-19,45.349998,45.360001,42.299999,43.150002,3008400.0,41.575092,HP',\n",
       " '2016-01-25,134.169998,134.889999,127.559998,128.179993,728000.0,128.179993,AMG',\n",
       " '2016-01-26,70.339996,71.5,70.099998,71.199997,2239600.0,70.255329,K',\n",
       " '2016-01-27,52.009998,52.200001,51.02,51.220001,3.67752E7,50.501642,MSFT']"
      ]
     },
     "execution_count": 45,
     "metadata": {},
     "output_type": "execute_result"
    }
   ],
   "source": [
    "data2016 = [line for line in data if line.startswith(\"2016\")]\n",
    "data2016[:5]"
   ]
  },
  {
   "cell_type": "code",
   "execution_count": 46,
   "metadata": {},
   "outputs": [
    {
     "data": {
      "text/plain": [
       "'date,open,high,low,close,volume,adjclose,symbol'"
      ]
     },
     "execution_count": 46,
     "metadata": {},
     "output_type": "execute_result"
    }
   ],
   "source": [
    "lines[0]"
   ]
  },
  {
   "cell_type": "code",
   "execution_count": 47,
   "metadata": {},
   "outputs": [],
   "source": [
    "def pct(open_price, close_price):\n",
    "    return (close_price-open_price)/open_price"
   ]
  },
  {
   "cell_type": "code",
   "execution_count": 48,
   "metadata": {},
   "outputs": [
    {
     "data": {
      "text/plain": [
       "[('ISRG', '2016-01-14', 0.011797124031999043),\n",
       " ('HP', '2016-01-19', -0.0485114905628),\n",
       " ('AMG', '2016-01-25', -0.044644891475663556),\n",
       " ('K', '2016-01-26', 0.012226344169823338),\n",
       " ('MSFT', '2016-01-27', -0.015189329559289727),\n",
       " ('RSG', '2016-02-03', 0.0038751311573997677),\n",
       " ('ETFC', '2016-02-05', -0.019463710230808243),\n",
       " ('ROK', '2016-02-11', 0.011406413429462962),\n",
       " ('MMM', '2016-02-16', 0.0034193483870967978),\n",
       " ('MKC', '2016-02-17', 0.004512977534683058)]"
      ]
     },
     "execution_count": 48,
     "metadata": {},
     "output_type": "execute_result"
    }
   ],
   "source": [
    "pct_by_symbol = []\n",
    "for line in data2016:\n",
    "    tokens = line.split(\",\")\n",
    "    date = tokens[0]\n",
    "    symbol = tokens[-1]\n",
    "    open_price = float(tokens[1])\n",
    "    close_price = float(tokens[4])\n",
    "    pct_chage = pct(open_price, close_price)\n",
    "    pct_by_symbol.append((symbol, date, pct_chage))\n",
    "pct_by_symbol[:10]"
   ]
  },
  {
   "cell_type": "code",
   "execution_count": 49,
   "metadata": {},
   "outputs": [
    {
     "data": {
      "text/plain": [
       "[('WYNN', '2016-04-07', 0.05208330121966219),\n",
       " ('ALK', '2016-03-01', 0.03867928727813826),\n",
       " ('CAT', '2016-03-24', 0.03235981077745779),\n",
       " ('COP', '2016-04-26', 0.031759743852349545),\n",
       " ('LYB', '2016-02-24', 0.029605263157894735),\n",
       " ('MNK', '2016-05-16', 0.02294520469365731),\n",
       " ('GT', '2016-04-27', 0.02258173238961908),\n",
       " ('JEC', '2016-03-11', 0.02028352982812952),\n",
       " ('AYI', '2016-05-16', 0.01685869374913212),\n",
       " ('MDT', '2016-06-28', 0.015815489175045654),\n",
       " ('EIX', '2016-02-22', 0.015812712972400018),\n",
       " ('K', '2016-01-26', 0.012226344169823338),\n",
       " ('ISRG', '2016-01-14', 0.011797124031999043),\n",
       " ('ROK', '2016-02-11', 0.011406413429462962),\n",
       " ('PKI', '2016-04-18', 0.010632033655600908),\n",
       " ('AET', '2016-07-29', 0.00981683792854193),\n",
       " ('NSC', '2016-06-22', 0.009621025121869436),\n",
       " ('BXP', '2016-04-15', 0.009032892213563303),\n",
       " ('DUK', '2016-06-08', 0.008391859137868704),\n",
       " ('GD', '2016-07-22', 0.00827553147557411),\n",
       " ('AVGO', '2016-03-16', 0.007934341139696413),\n",
       " ('ALL', '2016-06-03', 0.00611762187933257),\n",
       " ('IPG', '2016-03-01', 0.006040892193308504),\n",
       " ('MKC', '2016-02-17', 0.004512977534683058),\n",
       " ('AAPL', '2016-05-18', 0.004248024458452576),\n",
       " ('FOXA', '2016-06-28', 0.004144649429365071),\n",
       " ('RSG', '2016-02-03', 0.0038751311573997677),\n",
       " ('MMM', '2016-02-16', 0.0034193483870967978),\n",
       " ('VNO', '2016-06-21', 0.002364583192081279),\n",
       " ('FBHS', '2016-06-02', 0.002049513271554453),\n",
       " ('MNST', '2016-05-26', 0.0018030585747610137),\n",
       " ('ED', '2016-03-03', 0.0017018152970695271),\n",
       " ('SO', '2016-07-01', 0.001488409302325588),\n",
       " ('CSX', '2016-08-04', 0.0014280257051052523),\n",
       " ('ABT', '2016-05-20', 0.0013315313270713983),\n",
       " ('ALLE', '2016-03-30', 0.00031338138514577134),\n",
       " ('LUV', '2016-07-28', 0.0),\n",
       " ('RAI', '2016-03-18', -0.00039439953449817904),\n",
       " ('SNA', '2016-05-02', -0.0015029497151844403),\n",
       " ('CAH', '2016-02-18', -0.001602329653728485),\n",
       " ('YUM', '2016-03-14', -0.0016734938208033344),\n",
       " ('TSN', '2016-05-27', -0.0019938191101450974),\n",
       " ('NOC', '2016-06-15', -0.002296844115054949),\n",
       " ('HST', '2016-07-12', -0.002905229686532793),\n",
       " ('AFL', '2016-07-27', -0.003125356875953661),\n",
       " ('ATVI', '2016-07-07', -0.003208316880552814),\n",
       " ('ISRG', '2016-05-05', -0.0038691536722387006),\n",
       " ('UHS', '2016-08-01', -0.00458036650229597),\n",
       " ('KR', '2016-04-27', -0.004660060307017466),\n",
       " ('PG', '2016-05-20', -0.005221344972119758),\n",
       " ('DLR', '2016-05-24', -0.005281504283965443),\n",
       " ('APD', '2016-04-22', -0.006239570488301265),\n",
       " ('ABT', '2016-05-03', -0.006443299135136576),\n",
       " ('BSX', '2016-08-02', -0.006984387838948157),\n",
       " ('APA', '2016-07-11', -0.007742167667587902),\n",
       " ('CVS', '2016-07-01', -0.009178108338906216),\n",
       " ('FLIR', '2016-04-08', -0.00957670712316056),\n",
       " ('EXR', '2016-03-04', -0.010020028055639995),\n",
       " ('XRAY', '2016-06-20', -0.01047041692544402),\n",
       " ('STT', '2016-05-12', -0.011526444920138323),\n",
       " ('BMY', '2016-03-16', -0.011675638818623511),\n",
       " ('WRK', '2016-03-08', -0.013392829241071609),\n",
       " ('ADI', '2016-08-02', -0.014738146985546256),\n",
       " ('MSFT', '2016-01-27', -0.015189329559289727),\n",
       " ('CAG', '2016-07-26', -0.015615045697722053),\n",
       " ('NWS', '2016-02-18', -0.016323024054982926),\n",
       " ('MOS', '2016-03-15', -0.016879090014499085),\n",
       " ('MS', '2016-05-19', -0.016992944218692272),\n",
       " ('VTR', '2016-07-12', -0.018976095563139974),\n",
       " ('ETFC', '2016-02-05', -0.019463710230808243),\n",
       " ('MS', '2016-06-14', -0.019529693104822575),\n",
       " ('TROW', '2016-02-23', -0.020419834648291287),\n",
       " ('MCK', '2016-03-17', -0.02135482580645166),\n",
       " ('GPS', '2016-03-22', -0.0248155600268277),\n",
       " ('AMG', '2016-01-25', -0.044644891475663556),\n",
       " ('HP', '2016-01-19', -0.0485114905628)]"
      ]
     },
     "execution_count": 49,
     "metadata": {},
     "output_type": "execute_result"
    }
   ],
   "source": [
    "sorted(pct_by_symbol, key=lambda values: values[-1], reverse=True)"
   ]
  },
  {
   "cell_type": "code",
   "execution_count": 52,
   "metadata": {},
   "outputs": [
    {
     "data": {
      "text/plain": [
       "['date,open,high,low,close,volume,adjclose,symbol',\n",
       " '2000-07-18,144.8125,144.828125,141.4375,143.0,5.06836E7,50.155473,INTC',\n",
       " '2000-07-20,32.93751,34.25001,32.8125,33.75,3288300.0,8.789734,BEN']"
      ]
     },
     "execution_count": 52,
     "metadata": {},
     "output_type": "execute_result"
    }
   ],
   "source": [
    "lines[0:3]"
   ]
  },
  {
   "cell_type": "code",
   "execution_count": 69,
   "metadata": {},
   "outputs": [],
   "source": [
    "class Stock:\n",
    "    \n",
    "    def __init__(self, line):\n",
    "        tokens = line.split(\",\")\n",
    "        self.date = tokens[0]\n",
    "        self.open = float(tokens[1])\n",
    "        self.high = float(tokens[2])\n",
    "        self.low  = float(tokens[3])\n",
    "        self.close = float(tokens[4])\n",
    "        self.volume = float(tokens[5])\n",
    "        self.adjclose  = float(tokens[6])\n",
    "        self.symbol = tokens[7]\n",
    "        \n",
    "    def __repr__(self):\n",
    "        return \"Stock(date=%s, open: %f)\" % (self.date, self.open)\n",
    "        \n",
    "    def pct_change(self):\n",
    "        return (self.close - self.open)/self.open\n",
    "    \n",
    "    def to_json(self):\n",
    "        return json.dumps(self.__dict__)"
   ]
  },
  {
   "cell_type": "code",
   "execution_count": 70,
   "metadata": {},
   "outputs": [],
   "source": [
    "x = Stock('2000-07-20,32.93751,34.25001,32.8125,33.75,3288300.0,8.789734,BEN')"
   ]
  },
  {
   "cell_type": "code",
   "execution_count": 63,
   "metadata": {},
   "outputs": [
    {
     "data": {
      "text/plain": [
       "__main__.Stock"
      ]
     },
     "execution_count": 63,
     "metadata": {},
     "output_type": "execute_result"
    }
   ],
   "source": [
    "type(x)"
   ]
  },
  {
   "cell_type": "code",
   "execution_count": 82,
   "metadata": {},
   "outputs": [
    {
     "data": {
      "text/plain": [
       "'Stock(date=2000-07-20, open: 32.937510)'"
      ]
     },
     "execution_count": 82,
     "metadata": {},
     "output_type": "execute_result"
    }
   ],
   "source": [
    "str(x)"
   ]
  },
  {
   "cell_type": "code",
   "execution_count": 64,
   "metadata": {},
   "outputs": [
    {
     "data": {
      "text/plain": [
       "'__main__'"
      ]
     },
     "execution_count": 64,
     "metadata": {},
     "output_type": "execute_result"
    }
   ],
   "source": [
    "__name__"
   ]
  },
  {
   "cell_type": "code",
   "execution_count": 65,
   "metadata": {},
   "outputs": [
    {
     "data": {
      "text/plain": [
       "Stock(date=2000-07-20, open: 32.937510)"
      ]
     },
     "execution_count": 65,
     "metadata": {},
     "output_type": "execute_result"
    }
   ],
   "source": [
    "x"
   ]
  },
  {
   "cell_type": "code",
   "execution_count": 57,
   "metadata": {},
   "outputs": [
    {
     "data": {
      "text/plain": [
       "0.02466762059427069"
      ]
     },
     "execution_count": 57,
     "metadata": {},
     "output_type": "execute_result"
    }
   ],
   "source": [
    "x.pct_change()"
   ]
  },
  {
   "cell_type": "code",
   "execution_count": 59,
   "metadata": {},
   "outputs": [],
   "source": [
    "x.industry = \"Industrial\""
   ]
  },
  {
   "cell_type": "code",
   "execution_count": 60,
   "metadata": {},
   "outputs": [
    {
     "data": {
      "text/plain": [
       "'Industrial'"
      ]
     },
     "execution_count": 60,
     "metadata": {},
     "output_type": "execute_result"
    }
   ],
   "source": [
    "x.industry"
   ]
  },
  {
   "cell_type": "code",
   "execution_count": 66,
   "metadata": {},
   "outputs": [
    {
     "data": {
      "text/plain": [
       "{'date': '2000-07-20',\n",
       " 'open': 32.93751,\n",
       " 'high': 34.25001,\n",
       " 'low': 32.8125,\n",
       " 'close': 33.75,\n",
       " 'volume': 3288300.0,\n",
       " 'adjclose': 8.789734,\n",
       " 'symbol': 'BEN'}"
      ]
     },
     "execution_count": 66,
     "metadata": {},
     "output_type": "execute_result"
    }
   ],
   "source": [
    "x.__dict__"
   ]
  },
  {
   "cell_type": "code",
   "execution_count": 67,
   "metadata": {},
   "outputs": [],
   "source": [
    "import json"
   ]
  },
  {
   "cell_type": "code",
   "execution_count": 68,
   "metadata": {},
   "outputs": [
    {
     "data": {
      "text/plain": [
       "'{\"date\": \"2000-07-20\", \"open\": 32.93751, \"high\": 34.25001, \"low\": 32.8125, \"close\": 33.75, \"volume\": 3288300.0, \"adjclose\": 8.789734, \"symbol\": \"BEN\"}'"
      ]
     },
     "execution_count": 68,
     "metadata": {},
     "output_type": "execute_result"
    }
   ],
   "source": [
    "json.dumps(x.__dict__)"
   ]
  },
  {
   "cell_type": "code",
   "execution_count": 71,
   "metadata": {},
   "outputs": [
    {
     "data": {
      "text/plain": [
       "'{\"date\": \"2000-07-20\", \"open\": 32.93751, \"high\": 34.25001, \"low\": 32.8125, \"close\": 33.75, \"volume\": 3288300.0, \"adjclose\": 8.789734, \"symbol\": \"BEN\"}'"
      ]
     },
     "execution_count": 71,
     "metadata": {},
     "output_type": "execute_result"
    }
   ],
   "source": [
    "x.to_json()"
   ]
  },
  {
   "cell_type": "code",
   "execution_count": 74,
   "metadata": {
    "scrolled": false
   },
   "outputs": [
    {
     "data": {
      "text/plain": [
       "[Stock(date=2000-07-18, open: 144.812500),\n",
       " Stock(date=2000-07-20, open: 32.937510),\n",
       " Stock(date=2000-07-24, open: 64.250000),\n",
       " Stock(date=2000-07-26, open: 21.875000),\n",
       " Stock(date=2000-07-26, open: 42.000000)]"
      ]
     },
     "execution_count": 74,
     "metadata": {},
     "output_type": "execute_result"
    }
   ],
   "source": [
    "stocks = [Stock(line) for line in data]\n",
    "stocks[:5]"
   ]
  },
  {
   "cell_type": "code",
   "execution_count": 77,
   "metadata": {
    "scrolled": false
   },
   "outputs": [
    {
     "data": {
      "text/plain": [
       "['{\"date\": \"2000-07-18\", \"open\": 144.8125, \"high\": 144.828125, \"low\": 141.4375, \"close\": 143.0, \"volume\": 50683600.0, \"adjclose\": 50.155473, \"symbol\": \"INTC\"}',\n",
       " '{\"date\": \"2000-07-20\", \"open\": 32.93751, \"high\": 34.25001, \"low\": 32.8125, \"close\": 33.75, \"volume\": 3288300.0, \"adjclose\": 8.789734, \"symbol\": \"BEN\"}',\n",
       " '{\"date\": \"2000-07-24\", \"open\": 64.25, \"high\": 67.312477, \"low\": 64.187523, \"close\": 64.75, \"volume\": 948800.0, \"adjclose\": 7.689567, \"symbol\": \"APH\"}',\n",
       " '{\"date\": \"2000-07-26\", \"open\": 21.875, \"high\": 22.125, \"low\": 20.9375, \"close\": 20.9375, \"volume\": 1464300.0, \"adjclose\": 15.61832, \"symbol\": \"SHW\"}',\n",
       " '{\"date\": \"2000-07-26\", \"open\": 42.0, \"high\": 42.312481, \"low\": 41.625, \"close\": 41.875, \"volume\": 1397600.0, \"adjclose\": 9.402721, \"symbol\": \"STJ\"}']"
      ]
     },
     "execution_count": 77,
     "metadata": {},
     "output_type": "execute_result"
    }
   ],
   "source": [
    "json_records = [stock.to_json() for stock in stocks]\n",
    "json_records[:5]"
   ]
  },
  {
   "cell_type": "code",
   "execution_count": 80,
   "metadata": {
    "scrolled": false
   },
   "outputs": [
    {
     "data": {
      "text/plain": [
       "'{\"date\": \"2000-07-18\", \"open\": 144.8125, \"high\": 144.828125, \"low\": 141.4375, \"close\": 143.0, \"volum'"
      ]
     },
     "execution_count": 80,
     "metadata": {},
     "output_type": "execute_result"
    }
   ],
   "source": [
    "json_content = \"\\n\".join(json_records)\n",
    "json_content[:100]"
   ]
  },
  {
   "cell_type": "code",
   "execution_count": 81,
   "metadata": {},
   "outputs": [],
   "source": [
    "with open(\"/tmp/stocks.json\", \"w\") as f:\n",
    "    f.write(json_content)"
   ]
  },
  {
   "cell_type": "code",
   "execution_count": 97,
   "metadata": {},
   "outputs": [],
   "source": [
    "class Vehicle:\n",
    "    def __init__(self, make, model):\n",
    "        self.make = make\n",
    "        self.model = model\n",
    "        \n",
    "    def get_make_model(self):\n",
    "        return \"Make: %s, model: %s\" % (self.make, self.model)\n",
    "    \n",
    "    def __repr__(self):\n",
    "        return json.dumps(self.__dict__)\n",
    "    \n",
    "    \n",
    "class Car(Vehicle):\n",
    "    def __init__(self, make, model, seats):\n",
    "        super().__init__(make, model)\n",
    "        self.seats = seats\n",
    "        \n",
    "    \n",
    "        "
   ]
  },
  {
   "cell_type": "code",
   "execution_count": 141,
   "metadata": {},
   "outputs": [
    {
     "data": {
      "text/plain": [
       "('Make: Honda, model: City', {\"make\": \"Honda\", \"model\": \"City\", \"seats\": 5})"
      ]
     },
     "execution_count": 141,
     "metadata": {},
     "output_type": "execute_result"
    }
   ],
   "source": [
    "x = Car(\"Honda\", \"City\", 5)\n",
    "x.get_make_model(), x"
   ]
  },
  {
   "cell_type": "code",
   "execution_count": 143,
   "metadata": {},
   "outputs": [
    {
     "data": {
      "text/plain": [
       "(True, False)"
      ]
     },
     "execution_count": 143,
     "metadata": {},
     "output_type": "execute_result"
    }
   ],
   "source": [
    "type(x) is Car, type(x) is Vehicle"
   ]
  },
  {
   "cell_type": "code",
   "execution_count": 86,
   "metadata": {},
   "outputs": [
    {
     "data": {
      "text/plain": [
       "('Honda', 'City')"
      ]
     },
     "execution_count": 86,
     "metadata": {},
     "output_type": "execute_result"
    }
   ],
   "source": [
    "x = Vehicle()\n",
    "x.make = \"Honda\"\n",
    "x.model = \"City\"\n",
    "x.make, x.model "
   ]
  },
  {
   "cell_type": "code",
   "execution_count": 107,
   "metadata": {},
   "outputs": [],
   "source": [
    "class Robot:\n",
    "    \n",
    "    generation = 1.0 # static variable\n",
    "    \n",
    "    def __init__(self, name):\n",
    "        self.name = name\n",
    "    \n",
    "    @staticmethod\n",
    "    def get_generation():\n",
    "        return \"my genration: \" + str(Robot.generation)"
   ]
  },
  {
   "cell_type": "code",
   "execution_count": 101,
   "metadata": {},
   "outputs": [
    {
     "data": {
      "text/plain": [
       "1.0"
      ]
     },
     "execution_count": 101,
     "metadata": {},
     "output_type": "execute_result"
    }
   ],
   "source": [
    "Robot.generation"
   ]
  },
  {
   "cell_type": "code",
   "execution_count": 108,
   "metadata": {},
   "outputs": [
    {
     "data": {
      "text/plain": [
       "'my genration: 1.0'"
      ]
     },
     "execution_count": 108,
     "metadata": {},
     "output_type": "execute_result"
    }
   ],
   "source": [
    "Robot.get_generation()"
   ]
  },
  {
   "cell_type": "code",
   "execution_count": 102,
   "metadata": {},
   "outputs": [],
   "source": [
    "r1 = Robot(\"terminator\")\n",
    "r2 = Robot(\"Chinti\")\n"
   ]
  },
  {
   "cell_type": "code",
   "execution_count": 103,
   "metadata": {},
   "outputs": [
    {
     "data": {
      "text/plain": [
       "1.0"
      ]
     },
     "execution_count": 103,
     "metadata": {},
     "output_type": "execute_result"
    }
   ],
   "source": [
    "r1.generation"
   ]
  },
  {
   "cell_type": "code",
   "execution_count": 104,
   "metadata": {},
   "outputs": [
    {
     "data": {
      "text/plain": [
       "'terminator'"
      ]
     },
     "execution_count": 104,
     "metadata": {},
     "output_type": "execute_result"
    }
   ],
   "source": [
    "r1.name"
   ]
  },
  {
   "cell_type": "code",
   "execution_count": 105,
   "metadata": {},
   "outputs": [],
   "source": [
    "r1.generation = 2.3"
   ]
  },
  {
   "cell_type": "code",
   "execution_count": 106,
   "metadata": {},
   "outputs": [
    {
     "data": {
      "text/plain": [
       "1.0"
      ]
     },
     "execution_count": 106,
     "metadata": {},
     "output_type": "execute_result"
    }
   ],
   "source": [
    "r2.generation"
   ]
  },
  {
   "cell_type": "code",
   "execution_count": 134,
   "metadata": {},
   "outputs": [],
   "source": [
    "def inverse(x):\n",
    "    if type(x) is str:\n",
    "        raise ValueError(\"Invalid data type\")\n",
    "    return 1/x"
   ]
  },
  {
   "cell_type": "code",
   "execution_count": 131,
   "metadata": {},
   "outputs": [
    {
     "data": {
      "text/plain": [
       "0.5"
      ]
     },
     "execution_count": 131,
     "metadata": {},
     "output_type": "execute_result"
    }
   ],
   "source": [
    "inverse(2)"
   ]
  },
  {
   "cell_type": "code",
   "execution_count": 132,
   "metadata": {},
   "outputs": [],
   "source": [
    "import traceback\n",
    "import sys"
   ]
  },
  {
   "cell_type": "code",
   "execution_count": 139,
   "metadata": {},
   "outputs": [
    {
     "name": "stdout",
     "output_type": "stream",
     "text": [
      "Invalid input\n"
     ]
    },
    {
     "name": "stderr",
     "output_type": "stream",
     "text": [
      "Traceback (most recent call last):\n",
      "  File \"<ipython-input-139-199018add48f>\", line 2, in <module>\n",
      "    y = inverse(0.0)\n",
      "  File \"<ipython-input-134-f4079776e075>\", line 4, in inverse\n",
      "    return 1/x\n",
      "ZeroDivisionError: float division by zero\n"
     ]
    }
   ],
   "source": [
    "try:\n",
    "    y = inverse(0.0)\n",
    "except ZeroDivisionError: \n",
    "    print(\"Invalid input\")\n",
    "    exc_type, exc_value, exc_tb = sys.exc_info()\n",
    "    traceback.print_exception(exc_type, exc_value, exc_tb)\n",
    "except ValueError:\n",
    "    print(\"Invalid data type\")\n",
    "    exc_type, exc_value, exc_tb = sys.exc_info()\n",
    "    traceback.print_exception(exc_type, exc_value, exc_tb)"
   ]
  },
  {
   "cell_type": "code",
   "execution_count": 140,
   "metadata": {},
   "outputs": [
    {
     "name": "stdout",
     "output_type": "stream",
     "text": [
      "Invalid data type\n"
     ]
    },
    {
     "name": "stderr",
     "output_type": "stream",
     "text": [
      "Traceback (most recent call last):\n",
      "  File \"<ipython-input-140-0cce034dc400>\", line 2, in <module>\n",
      "    y = inverse(\"3.0\")\n",
      "  File \"<ipython-input-134-f4079776e075>\", line 3, in inverse\n",
      "    raise ValueError(\"Invalid data type\")\n",
      "ValueError: Invalid data type\n"
     ]
    }
   ],
   "source": [
    "try:\n",
    "    y = inverse(\"3.0\")\n",
    "except ZeroDivisionError: \n",
    "    print(\"Invalid input\")\n",
    "    exc_type, exc_value, exc_tb = sys.exc_info()\n",
    "    traceback.print_exception(exc_type, exc_value, exc_tb)\n",
    "except ValueError:\n",
    "    print(\"Invalid data type\")\n",
    "    exc_type, exc_value, exc_tb = sys.exc_info()\n",
    "    traceback.print_exception(exc_type, exc_value, exc_tb)"
   ]
  },
  {
   "cell_type": "code",
   "execution_count": null,
   "metadata": {},
   "outputs": [],
   "source": []
  }
 ],
 "metadata": {
  "kernelspec": {
   "display_name": "Python 3",
   "language": "python",
   "name": "python3"
  },
  "language_info": {
   "codemirror_mode": {
    "name": "ipython",
    "version": 3
   },
   "file_extension": ".py",
   "mimetype": "text/x-python",
   "name": "python",
   "nbconvert_exporter": "python",
   "pygments_lexer": "ipython3",
   "version": "3.6.8"
  }
 },
 "nbformat": 4,
 "nbformat_minor": 2
}
