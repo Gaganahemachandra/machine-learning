{
 "cells": [
  {
   "cell_type": "code",
   "execution_count": 1,
   "metadata": {},
   "outputs": [],
   "source": [
    "import pandas as pd"
   ]
  },
  {
   "cell_type": "code",
   "execution_count": 10,
   "metadata": {},
   "outputs": [],
   "source": [
    "stocks = pd.read_csv(\"/data/stocks.small.csv\")"
   ]
  },
  {
   "cell_type": "code",
   "execution_count": 3,
   "metadata": {},
   "outputs": [
    {
     "data": {
      "text/plain": [
       "pandas.core.frame.DataFrame"
      ]
     },
     "execution_count": 3,
     "metadata": {},
     "output_type": "execute_result"
    }
   ],
   "source": [
    "type(stocks)"
   ]
  },
  {
   "cell_type": "code",
   "execution_count": 11,
   "metadata": {},
   "outputs": [
    {
     "data": {
      "text/html": [
       "<div>\n",
       "<style scoped>\n",
       "    .dataframe tbody tr th:only-of-type {\n",
       "        vertical-align: middle;\n",
       "    }\n",
       "\n",
       "    .dataframe tbody tr th {\n",
       "        vertical-align: top;\n",
       "    }\n",
       "\n",
       "    .dataframe thead th {\n",
       "        text-align: right;\n",
       "    }\n",
       "</style>\n",
       "<table border=\"1\" class=\"dataframe\">\n",
       "  <thead>\n",
       "    <tr style=\"text-align: right;\">\n",
       "      <th></th>\n",
       "      <th>date</th>\n",
       "      <th>open</th>\n",
       "      <th>high</th>\n",
       "      <th>low</th>\n",
       "      <th>close</th>\n",
       "      <th>volume</th>\n",
       "      <th>adjclose</th>\n",
       "      <th>symbol</th>\n",
       "    </tr>\n",
       "  </thead>\n",
       "  <tbody>\n",
       "    <tr>\n",
       "      <th>0</th>\n",
       "      <td>2000-07-18</td>\n",
       "      <td>144.81250</td>\n",
       "      <td>144.828125</td>\n",
       "      <td>141.437500</td>\n",
       "      <td>143.0000</td>\n",
       "      <td>50683600.0</td>\n",
       "      <td>50.155473</td>\n",
       "      <td>INTC</td>\n",
       "    </tr>\n",
       "    <tr>\n",
       "      <th>1</th>\n",
       "      <td>2000-07-20</td>\n",
       "      <td>32.93751</td>\n",
       "      <td>34.250010</td>\n",
       "      <td>32.812500</td>\n",
       "      <td>33.7500</td>\n",
       "      <td>3288300.0</td>\n",
       "      <td>8.789734</td>\n",
       "      <td>BEN</td>\n",
       "    </tr>\n",
       "    <tr>\n",
       "      <th>2</th>\n",
       "      <td>2000-07-24</td>\n",
       "      <td>64.25000</td>\n",
       "      <td>67.312477</td>\n",
       "      <td>64.187523</td>\n",
       "      <td>64.7500</td>\n",
       "      <td>948800.0</td>\n",
       "      <td>7.689567</td>\n",
       "      <td>APH</td>\n",
       "    </tr>\n",
       "    <tr>\n",
       "      <th>3</th>\n",
       "      <td>2000-07-26</td>\n",
       "      <td>21.87500</td>\n",
       "      <td>22.125000</td>\n",
       "      <td>20.937500</td>\n",
       "      <td>20.9375</td>\n",
       "      <td>1464300.0</td>\n",
       "      <td>15.618320</td>\n",
       "      <td>SHW</td>\n",
       "    </tr>\n",
       "    <tr>\n",
       "      <th>4</th>\n",
       "      <td>2000-07-26</td>\n",
       "      <td>42.00000</td>\n",
       "      <td>42.312481</td>\n",
       "      <td>41.625000</td>\n",
       "      <td>41.8750</td>\n",
       "      <td>1397600.0</td>\n",
       "      <td>9.402721</td>\n",
       "      <td>STJ</td>\n",
       "    </tr>\n",
       "  </tbody>\n",
       "</table>\n",
       "</div>"
      ],
      "text/plain": [
       "         date       open        high         low     close      volume  \\\n",
       "0  2000-07-18  144.81250  144.828125  141.437500  143.0000  50683600.0   \n",
       "1  2000-07-20   32.93751   34.250010   32.812500   33.7500   3288300.0   \n",
       "2  2000-07-24   64.25000   67.312477   64.187523   64.7500    948800.0   \n",
       "3  2000-07-26   21.87500   22.125000   20.937500   20.9375   1464300.0   \n",
       "4  2000-07-26   42.00000   42.312481   41.625000   41.8750   1397600.0   \n",
       "\n",
       "    adjclose symbol  \n",
       "0  50.155473   INTC  \n",
       "1   8.789734    BEN  \n",
       "2   7.689567    APH  \n",
       "3  15.618320    SHW  \n",
       "4   9.402721    STJ  "
      ]
     },
     "execution_count": 11,
     "metadata": {},
     "output_type": "execute_result"
    }
   ],
   "source": [
    "stocks.head()"
   ]
  },
  {
   "cell_type": "code",
   "execution_count": 7,
   "metadata": {},
   "outputs": [
    {
     "name": "stdout",
     "output_type": "stream",
     "text": [
      "<class 'pandas.core.frame.DataFrame'>\n",
      "RangeIndex: 1846 entries, 0 to 1845\n",
      "Data columns (total 8 columns):\n",
      "date        1846 non-null object\n",
      "open        1846 non-null float64\n",
      "high        1846 non-null float64\n",
      "low         1846 non-null float64\n",
      "close       1846 non-null float64\n",
      "volume      1846 non-null float64\n",
      "adjclose    1846 non-null float64\n",
      "symbol      1846 non-null object\n",
      "dtypes: float64(6), object(2)\n",
      "memory usage: 115.5+ KB\n"
     ]
    }
   ],
   "source": [
    "stocks.info()"
   ]
  },
  {
   "cell_type": "code",
   "execution_count": 14,
   "metadata": {},
   "outputs": [
    {
     "data": {
      "text/plain": [
       "(1846, 8)"
      ]
     },
     "execution_count": 14,
     "metadata": {},
     "output_type": "execute_result"
    }
   ],
   "source": [
    "stocks.shape"
   ]
  },
  {
   "cell_type": "code",
   "execution_count": 15,
   "metadata": {},
   "outputs": [
    {
     "data": {
      "text/plain": [
       "date         object\n",
       "open        float64\n",
       "high        float64\n",
       "low         float64\n",
       "close       float64\n",
       "volume      float64\n",
       "adjclose    float64\n",
       "symbol       object\n",
       "dtype: object"
      ]
     },
     "execution_count": 15,
     "metadata": {},
     "output_type": "execute_result"
    }
   ],
   "source": [
    "stocks.dtypes"
   ]
  },
  {
   "cell_type": "code",
   "execution_count": null,
   "metadata": {},
   "outputs": [],
   "source": []
  }
 ],
 "metadata": {
  "kernelspec": {
   "display_name": "Python 3",
   "language": "python",
   "name": "python3"
  },
  "language_info": {
   "codemirror_mode": {
    "name": "ipython",
    "version": 3
   },
   "file_extension": ".py",
   "mimetype": "text/x-python",
   "name": "python",
   "nbconvert_exporter": "python",
   "pygments_lexer": "ipython3",
   "version": "3.6.8"
  }
 },
 "nbformat": 4,
 "nbformat_minor": 2
}
