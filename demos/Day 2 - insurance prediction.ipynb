{
 "cells": [
  {
   "cell_type": "code",
   "execution_count": 1,
   "metadata": {},
   "outputs": [],
   "source": [
    "import pandas as pd"
   ]
  },
  {
   "cell_type": "code",
   "execution_count": 2,
   "metadata": {},
   "outputs": [],
   "source": [
    "df = pd.read_csv(\"/data/insurance.csv\")"
   ]
  },
  {
   "cell_type": "code",
   "execution_count": 3,
   "metadata": {},
   "outputs": [
    {
     "data": {
      "text/html": [
       "<div>\n",
       "<style scoped>\n",
       "    .dataframe tbody tr th:only-of-type {\n",
       "        vertical-align: middle;\n",
       "    }\n",
       "\n",
       "    .dataframe tbody tr th {\n",
       "        vertical-align: top;\n",
       "    }\n",
       "\n",
       "    .dataframe thead th {\n",
       "        text-align: right;\n",
       "    }\n",
       "</style>\n",
       "<table border=\"1\" class=\"dataframe\">\n",
       "  <thead>\n",
       "    <tr style=\"text-align: right;\">\n",
       "      <th></th>\n",
       "      <th>age</th>\n",
       "      <th>gender</th>\n",
       "      <th>bmi</th>\n",
       "      <th>children</th>\n",
       "      <th>smoker</th>\n",
       "      <th>region</th>\n",
       "      <th>charges</th>\n",
       "    </tr>\n",
       "  </thead>\n",
       "  <tbody>\n",
       "    <tr>\n",
       "      <th>0</th>\n",
       "      <td>19</td>\n",
       "      <td>female</td>\n",
       "      <td>27.900</td>\n",
       "      <td>0</td>\n",
       "      <td>yes</td>\n",
       "      <td>southwest</td>\n",
       "      <td>16884.92400</td>\n",
       "    </tr>\n",
       "    <tr>\n",
       "      <th>1</th>\n",
       "      <td>18</td>\n",
       "      <td>male</td>\n",
       "      <td>33.770</td>\n",
       "      <td>1</td>\n",
       "      <td>no</td>\n",
       "      <td>southeast</td>\n",
       "      <td>1725.55230</td>\n",
       "    </tr>\n",
       "    <tr>\n",
       "      <th>2</th>\n",
       "      <td>28</td>\n",
       "      <td>male</td>\n",
       "      <td>33.000</td>\n",
       "      <td>3</td>\n",
       "      <td>no</td>\n",
       "      <td>southeast</td>\n",
       "      <td>4449.46200</td>\n",
       "    </tr>\n",
       "    <tr>\n",
       "      <th>3</th>\n",
       "      <td>33</td>\n",
       "      <td>male</td>\n",
       "      <td>22.705</td>\n",
       "      <td>0</td>\n",
       "      <td>no</td>\n",
       "      <td>northwest</td>\n",
       "      <td>21984.47061</td>\n",
       "    </tr>\n",
       "    <tr>\n",
       "      <th>4</th>\n",
       "      <td>32</td>\n",
       "      <td>male</td>\n",
       "      <td>28.880</td>\n",
       "      <td>0</td>\n",
       "      <td>no</td>\n",
       "      <td>northwest</td>\n",
       "      <td>3866.85520</td>\n",
       "    </tr>\n",
       "  </tbody>\n",
       "</table>\n",
       "</div>"
      ],
      "text/plain": [
       "   age  gender     bmi  children smoker     region      charges\n",
       "0   19  female  27.900         0    yes  southwest  16884.92400\n",
       "1   18    male  33.770         1     no  southeast   1725.55230\n",
       "2   28    male  33.000         3     no  southeast   4449.46200\n",
       "3   33    male  22.705         0     no  northwest  21984.47061\n",
       "4   32    male  28.880         0     no  northwest   3866.85520"
      ]
     },
     "execution_count": 3,
     "metadata": {},
     "output_type": "execute_result"
    }
   ],
   "source": [
    "df.head()"
   ]
  },
  {
   "cell_type": "code",
   "execution_count": 4,
   "metadata": {},
   "outputs": [
    {
     "name": "stdout",
     "output_type": "stream",
     "text": [
      "<class 'pandas.core.frame.DataFrame'>\n",
      "RangeIndex: 1338 entries, 0 to 1337\n",
      "Data columns (total 7 columns):\n",
      "age         1338 non-null int64\n",
      "gender      1338 non-null object\n",
      "bmi         1338 non-null float64\n",
      "children    1338 non-null int64\n",
      "smoker      1338 non-null object\n",
      "region      1338 non-null object\n",
      "charges     1338 non-null float64\n",
      "dtypes: float64(2), int64(2), object(3)\n",
      "memory usage: 73.2+ KB\n"
     ]
    }
   ],
   "source": [
    "df.info()"
   ]
  },
  {
   "cell_type": "code",
   "execution_count": 5,
   "metadata": {},
   "outputs": [
    {
     "name": "stdout",
     "output_type": "stream",
     "text": [
      "<class 'pandas.core.frame.DataFrame'>\n",
      "RangeIndex: 50 entries, 0 to 49\n",
      "Data columns (total 5 columns):\n",
      "R&D Spend          48 non-null float64\n",
      "Administration     50 non-null float64\n",
      "Marketing Spend    47 non-null float64\n",
      "State              50 non-null object\n",
      "Profit             50 non-null float64\n",
      "dtypes: float64(4), object(1)\n",
      "memory usage: 2.0+ KB\n"
     ]
    }
   ],
   "source": [
    "pd.read_csv(\"/data/startups.csv\").info()"
   ]
  },
  {
   "cell_type": "code",
   "execution_count": 6,
   "metadata": {},
   "outputs": [],
   "source": [
    "target = \"charges\""
   ]
  },
  {
   "cell_type": "code",
   "execution_count": 7,
   "metadata": {},
   "outputs": [],
   "source": [
    "y = df[target]"
   ]
  },
  {
   "cell_type": "code",
   "execution_count": 8,
   "metadata": {},
   "outputs": [
    {
     "data": {
      "text/plain": [
       "0       16884.92400\n",
       "1        1725.55230\n",
       "2        4449.46200\n",
       "3       21984.47061\n",
       "4        3866.85520\n",
       "5        3756.62160\n",
       "6        8240.58960\n",
       "7        7281.50560\n",
       "8        6406.41070\n",
       "9       28923.13692\n",
       "10       2721.32080\n",
       "11      27808.72510\n",
       "12       1826.84300\n",
       "13      11090.71780\n",
       "14      39611.75770\n",
       "15       1837.23700\n",
       "16      10797.33620\n",
       "17       2395.17155\n",
       "18      10602.38500\n",
       "19      36837.46700\n",
       "20      13228.84695\n",
       "21       4149.73600\n",
       "22       1137.01100\n",
       "23      37701.87680\n",
       "24       6203.90175\n",
       "25      14001.13380\n",
       "26      14451.83515\n",
       "27      12268.63225\n",
       "28       2775.19215\n",
       "29      38711.00000\n",
       "           ...     \n",
       "1308    33900.65300\n",
       "1309     6875.96100\n",
       "1310     6940.90985\n",
       "1311     4571.41305\n",
       "1312     4536.25900\n",
       "1313    36397.57600\n",
       "1314    18765.87545\n",
       "1315    11272.33139\n",
       "1316     1731.67700\n",
       "1317     1163.46270\n",
       "1318    19496.71917\n",
       "1319     7201.70085\n",
       "1320     5425.02335\n",
       "1321    28101.33305\n",
       "1322    12981.34570\n",
       "1323    43896.37630\n",
       "1324     4239.89265\n",
       "1325    13143.33665\n",
       "1326     7050.02130\n",
       "1327     9377.90470\n",
       "1328    22395.74424\n",
       "1329    10325.20600\n",
       "1330    12629.16560\n",
       "1331    10795.93733\n",
       "1332    11411.68500\n",
       "1333    10600.54830\n",
       "1334     2205.98080\n",
       "1335     1629.83350\n",
       "1336     2007.94500\n",
       "1337    29141.36030\n",
       "Name: charges, Length: 1338, dtype: float64"
      ]
     },
     "execution_count": 8,
     "metadata": {},
     "output_type": "execute_result"
    }
   ],
   "source": [
    "y"
   ]
  },
  {
   "cell_type": "code",
   "execution_count": 8,
   "metadata": {},
   "outputs": [
    {
     "data": {
      "text/html": [
       "<div>\n",
       "<style scoped>\n",
       "    .dataframe tbody tr th:only-of-type {\n",
       "        vertical-align: middle;\n",
       "    }\n",
       "\n",
       "    .dataframe tbody tr th {\n",
       "        vertical-align: top;\n",
       "    }\n",
       "\n",
       "    .dataframe thead th {\n",
       "        text-align: right;\n",
       "    }\n",
       "</style>\n",
       "<table border=\"1\" class=\"dataframe\">\n",
       "  <thead>\n",
       "    <tr style=\"text-align: right;\">\n",
       "      <th></th>\n",
       "      <th>age</th>\n",
       "      <th>gender</th>\n",
       "      <th>bmi</th>\n",
       "      <th>children</th>\n",
       "      <th>smoker</th>\n",
       "      <th>region</th>\n",
       "    </tr>\n",
       "  </thead>\n",
       "  <tbody>\n",
       "    <tr>\n",
       "      <th>0</th>\n",
       "      <td>19</td>\n",
       "      <td>female</td>\n",
       "      <td>27.900</td>\n",
       "      <td>0</td>\n",
       "      <td>yes</td>\n",
       "      <td>southwest</td>\n",
       "    </tr>\n",
       "    <tr>\n",
       "      <th>1</th>\n",
       "      <td>18</td>\n",
       "      <td>male</td>\n",
       "      <td>33.770</td>\n",
       "      <td>1</td>\n",
       "      <td>no</td>\n",
       "      <td>southeast</td>\n",
       "    </tr>\n",
       "    <tr>\n",
       "      <th>2</th>\n",
       "      <td>28</td>\n",
       "      <td>male</td>\n",
       "      <td>33.000</td>\n",
       "      <td>3</td>\n",
       "      <td>no</td>\n",
       "      <td>southeast</td>\n",
       "    </tr>\n",
       "    <tr>\n",
       "      <th>3</th>\n",
       "      <td>33</td>\n",
       "      <td>male</td>\n",
       "      <td>22.705</td>\n",
       "      <td>0</td>\n",
       "      <td>no</td>\n",
       "      <td>northwest</td>\n",
       "    </tr>\n",
       "    <tr>\n",
       "      <th>4</th>\n",
       "      <td>32</td>\n",
       "      <td>male</td>\n",
       "      <td>28.880</td>\n",
       "      <td>0</td>\n",
       "      <td>no</td>\n",
       "      <td>northwest</td>\n",
       "    </tr>\n",
       "  </tbody>\n",
       "</table>\n",
       "</div>"
      ],
      "text/plain": [
       "   age  gender     bmi  children smoker     region\n",
       "0   19  female  27.900         0    yes  southwest\n",
       "1   18    male  33.770         1     no  southeast\n",
       "2   28    male  33.000         3     no  southeast\n",
       "3   33    male  22.705         0     no  northwest\n",
       "4   32    male  28.880         0     no  northwest"
      ]
     },
     "execution_count": 8,
     "metadata": {},
     "output_type": "execute_result"
    }
   ],
   "source": [
    "X = df.drop(columns=[target])\n",
    "X.head()"
   ]
  },
  {
   "cell_type": "code",
   "execution_count": 9,
   "metadata": {},
   "outputs": [
    {
     "data": {
      "text/plain": [
       "southeast    364\n",
       "southwest    325\n",
       "northwest    325\n",
       "northeast    324\n",
       "Name: region, dtype: int64"
      ]
     },
     "execution_count": 9,
     "metadata": {},
     "output_type": "execute_result"
    }
   ],
   "source": [
    "df.region.value_counts()"
   ]
  },
  {
   "cell_type": "code",
   "execution_count": 12,
   "metadata": {},
   "outputs": [
    {
     "data": {
      "text/html": [
       "<div>\n",
       "<style scoped>\n",
       "    .dataframe tbody tr th:only-of-type {\n",
       "        vertical-align: middle;\n",
       "    }\n",
       "\n",
       "    .dataframe tbody tr th {\n",
       "        vertical-align: top;\n",
       "    }\n",
       "\n",
       "    .dataframe thead th {\n",
       "        text-align: right;\n",
       "    }\n",
       "</style>\n",
       "<table border=\"1\" class=\"dataframe\">\n",
       "  <thead>\n",
       "    <tr style=\"text-align: right;\">\n",
       "      <th></th>\n",
       "      <th>age</th>\n",
       "      <th>bmi</th>\n",
       "      <th>children</th>\n",
       "      <th>gender_male</th>\n",
       "      <th>smoker_yes</th>\n",
       "      <th>region_northwest</th>\n",
       "      <th>region_southeast</th>\n",
       "      <th>region_southwest</th>\n",
       "    </tr>\n",
       "  </thead>\n",
       "  <tbody>\n",
       "    <tr>\n",
       "      <th>0</th>\n",
       "      <td>19</td>\n",
       "      <td>27.900</td>\n",
       "      <td>0</td>\n",
       "      <td>0</td>\n",
       "      <td>1</td>\n",
       "      <td>0</td>\n",
       "      <td>0</td>\n",
       "      <td>1</td>\n",
       "    </tr>\n",
       "    <tr>\n",
       "      <th>1</th>\n",
       "      <td>18</td>\n",
       "      <td>33.770</td>\n",
       "      <td>1</td>\n",
       "      <td>1</td>\n",
       "      <td>0</td>\n",
       "      <td>0</td>\n",
       "      <td>1</td>\n",
       "      <td>0</td>\n",
       "    </tr>\n",
       "    <tr>\n",
       "      <th>2</th>\n",
       "      <td>28</td>\n",
       "      <td>33.000</td>\n",
       "      <td>3</td>\n",
       "      <td>1</td>\n",
       "      <td>0</td>\n",
       "      <td>0</td>\n",
       "      <td>1</td>\n",
       "      <td>0</td>\n",
       "    </tr>\n",
       "    <tr>\n",
       "      <th>3</th>\n",
       "      <td>33</td>\n",
       "      <td>22.705</td>\n",
       "      <td>0</td>\n",
       "      <td>1</td>\n",
       "      <td>0</td>\n",
       "      <td>1</td>\n",
       "      <td>0</td>\n",
       "      <td>0</td>\n",
       "    </tr>\n",
       "    <tr>\n",
       "      <th>4</th>\n",
       "      <td>32</td>\n",
       "      <td>28.880</td>\n",
       "      <td>0</td>\n",
       "      <td>1</td>\n",
       "      <td>0</td>\n",
       "      <td>1</td>\n",
       "      <td>0</td>\n",
       "      <td>0</td>\n",
       "    </tr>\n",
       "  </tbody>\n",
       "</table>\n",
       "</div>"
      ],
      "text/plain": [
       "   age     bmi  children  gender_male  smoker_yes  region_northwest  \\\n",
       "0   19  27.900         0            0           1                 0   \n",
       "1   18  33.770         1            1           0                 0   \n",
       "2   28  33.000         3            1           0                 0   \n",
       "3   33  22.705         0            1           0                 1   \n",
       "4   32  28.880         0            1           0                 1   \n",
       "\n",
       "   region_southeast  region_southwest  \n",
       "0                 0                 1  \n",
       "1                 1                 0  \n",
       "2                 1                 0  \n",
       "3                 0                 0  \n",
       "4                 0                 0  "
      ]
     },
     "execution_count": 12,
     "metadata": {},
     "output_type": "execute_result"
    }
   ],
   "source": [
    "# One hot encoding\n",
    "X_dummy = pd.get_dummies(X, drop_first=True)\n",
    "X_dummy.head()"
   ]
  },
  {
   "cell_type": "code",
   "execution_count": 13,
   "metadata": {},
   "outputs": [],
   "source": [
    "from sklearn import model_selection"
   ]
  },
  {
   "cell_type": "code",
   "execution_count": 14,
   "metadata": {},
   "outputs": [],
   "source": [
    "X_train, X_test, y_train, y_test = model_selection\\\n",
    ".train_test_split(X_dummy.values, y\n",
    "                , test_size = 0.3, random_state = 1)"
   ]
  },
  {
   "cell_type": "code",
   "execution_count": 15,
   "metadata": {},
   "outputs": [
    {
     "data": {
      "text/plain": [
       "(936, 8)"
      ]
     },
     "execution_count": 15,
     "metadata": {},
     "output_type": "execute_result"
    }
   ],
   "source": [
    "X_train.shape"
   ]
  },
  {
   "cell_type": "code",
   "execution_count": 18,
   "metadata": {},
   "outputs": [
    {
     "data": {
      "text/plain": [
       "0.6995515695067265"
      ]
     },
     "execution_count": 18,
     "metadata": {},
     "output_type": "execute_result"
    }
   ],
   "source": [
    "936/len(df)"
   ]
  },
  {
   "cell_type": "code",
   "execution_count": 16,
   "metadata": {},
   "outputs": [],
   "source": [
    "from sklearn import preprocessing"
   ]
  },
  {
   "cell_type": "code",
   "execution_count": 17,
   "metadata": {},
   "outputs": [
    {
     "data": {
      "text/plain": [
       "dtype('float64')"
      ]
     },
     "execution_count": 17,
     "metadata": {},
     "output_type": "execute_result"
    }
   ],
   "source": [
    "X_train.dtype"
   ]
  },
  {
   "cell_type": "code",
   "execution_count": 18,
   "metadata": {},
   "outputs": [
    {
     "data": {
      "text/plain": [
       "StandardScaler(copy=True, with_mean=True, with_std=True)"
      ]
     },
     "execution_count": 18,
     "metadata": {},
     "output_type": "execute_result"
    }
   ],
   "source": [
    "scaler = preprocessing.StandardScaler()\n",
    "scaler.fit(X_train) # finds mean and std for each column in X"
   ]
  },
  {
   "cell_type": "code",
   "execution_count": 42,
   "metadata": {},
   "outputs": [
    {
     "data": {
      "text/plain": [
       "array([38.82264957, 30.68218483,  1.10470085,  0.51175214,  0.20619658,\n",
       "        0.23824786,  0.26495726,  0.25641026])"
      ]
     },
     "execution_count": 42,
     "metadata": {},
     "output_type": "execute_result"
    }
   ],
   "source": [
    "scaler.mean_"
   ]
  },
  {
   "cell_type": "code",
   "execution_count": 43,
   "metadata": {},
   "outputs": [
    {
     "data": {
      "text/plain": [
       "array([14.02160116,  6.08474408,  1.22201114,  0.49986187,  0.4045733 ,\n",
       "        0.42601152,  0.44131045,  0.43665093])"
      ]
     },
     "execution_count": 43,
     "metadata": {},
     "output_type": "execute_result"
    }
   ],
   "source": [
    "scaler.scale_"
   ]
  },
  {
   "cell_type": "code",
   "execution_count": 19,
   "metadata": {},
   "outputs": [],
   "source": [
    "X_train_std = scaler.fit_transform(X_train)\n",
    "X_test_std = scaler.transform(X_test)"
   ]
  },
  {
   "cell_type": "code",
   "execution_count": 20,
   "metadata": {},
   "outputs": [
    {
     "data": {
      "text/plain": [
       "array([[ 0.79715222, -0.70211414, -0.90400228, ...,  1.78810218,\n",
       "        -0.60038747, -0.58722022],\n",
       "       [-1.27108519, -0.70375759, -0.08567913, ..., -0.55925216,\n",
       "        -0.60038747,  1.70293864],\n",
       "       [-0.98581107, -0.73333977, -0.90400228, ..., -0.55925216,\n",
       "        -0.60038747, -0.58722022],\n",
       "       ...,\n",
       "       [ 0.86847075,  0.70303946,  0.73264401, ..., -0.55925216,\n",
       "        -0.60038747, -0.58722022],\n",
       "       [ 0.0839669 , -1.39072157,  0.73264401, ..., -0.55925216,\n",
       "         1.66559105, -0.58722022],\n",
       "       [ 1.29638193, -0.4506656 , -0.08567913, ..., -0.55925216,\n",
       "         1.66559105, -0.58722022]])"
      ]
     },
     "execution_count": 20,
     "metadata": {},
     "output_type": "execute_result"
    }
   ],
   "source": [
    "X_train_std"
   ]
  },
  {
   "cell_type": "code",
   "execution_count": 45,
   "metadata": {},
   "outputs": [
    {
     "data": {
      "text/html": [
       "<div>\n",
       "<style scoped>\n",
       "    .dataframe tbody tr th:only-of-type {\n",
       "        vertical-align: middle;\n",
       "    }\n",
       "\n",
       "    .dataframe tbody tr th {\n",
       "        vertical-align: top;\n",
       "    }\n",
       "\n",
       "    .dataframe thead th {\n",
       "        text-align: right;\n",
       "    }\n",
       "</style>\n",
       "<table border=\"1\" class=\"dataframe\">\n",
       "  <thead>\n",
       "    <tr style=\"text-align: right;\">\n",
       "      <th></th>\n",
       "      <th>0</th>\n",
       "      <th>1</th>\n",
       "      <th>2</th>\n",
       "      <th>3</th>\n",
       "      <th>4</th>\n",
       "      <th>5</th>\n",
       "      <th>6</th>\n",
       "      <th>7</th>\n",
       "    </tr>\n",
       "  </thead>\n",
       "  <tbody>\n",
       "    <tr>\n",
       "      <th>count</th>\n",
       "      <td>9.360000e+02</td>\n",
       "      <td>9.360000e+02</td>\n",
       "      <td>9.360000e+02</td>\n",
       "      <td>9.360000e+02</td>\n",
       "      <td>9.360000e+02</td>\n",
       "      <td>9.360000e+02</td>\n",
       "      <td>9.360000e+02</td>\n",
       "      <td>9.360000e+02</td>\n",
       "    </tr>\n",
       "    <tr>\n",
       "      <th>mean</th>\n",
       "      <td>-1.791065e-16</td>\n",
       "      <td>-4.635418e-16</td>\n",
       "      <td>-2.910332e-16</td>\n",
       "      <td>1.767342e-17</td>\n",
       "      <td>8.979047e-17</td>\n",
       "      <td>-1.088873e-16</td>\n",
       "      <td>4.886879e-17</td>\n",
       "      <td>-2.372271e-17</td>\n",
       "    </tr>\n",
       "    <tr>\n",
       "      <th>std</th>\n",
       "      <td>1.000535e+00</td>\n",
       "      <td>1.000535e+00</td>\n",
       "      <td>1.000535e+00</td>\n",
       "      <td>1.000535e+00</td>\n",
       "      <td>1.000535e+00</td>\n",
       "      <td>1.000535e+00</td>\n",
       "      <td>1.000535e+00</td>\n",
       "      <td>1.000535e+00</td>\n",
       "    </tr>\n",
       "    <tr>\n",
       "      <th>min</th>\n",
       "      <td>-1.485041e+00</td>\n",
       "      <td>-2.419524e+00</td>\n",
       "      <td>-9.040023e-01</td>\n",
       "      <td>-1.023787e+00</td>\n",
       "      <td>-5.096643e-01</td>\n",
       "      <td>-5.592522e-01</td>\n",
       "      <td>-6.003875e-01</td>\n",
       "      <td>-5.872202e-01</td>\n",
       "    </tr>\n",
       "    <tr>\n",
       "      <th>25%</th>\n",
       "      <td>-9.144925e-01</td>\n",
       "      <td>-7.247116e-01</td>\n",
       "      <td>-9.040023e-01</td>\n",
       "      <td>-1.023787e+00</td>\n",
       "      <td>-5.096643e-01</td>\n",
       "      <td>-5.592522e-01</td>\n",
       "      <td>-6.003875e-01</td>\n",
       "      <td>-5.872202e-01</td>\n",
       "    </tr>\n",
       "    <tr>\n",
       "      <th>50%</th>\n",
       "      <td>-5.867016e-02</td>\n",
       "      <td>-3.076297e-02</td>\n",
       "      <td>-8.567913e-02</td>\n",
       "      <td>9.767656e-01</td>\n",
       "      <td>-5.096643e-01</td>\n",
       "      <td>-5.592522e-01</td>\n",
       "      <td>-6.003875e-01</td>\n",
       "      <td>-5.872202e-01</td>\n",
       "    </tr>\n",
       "    <tr>\n",
       "      <th>75%</th>\n",
       "      <td>8.684707e-01</td>\n",
       "      <td>6.631857e-01</td>\n",
       "      <td>7.326440e-01</td>\n",
       "      <td>9.767656e-01</td>\n",
       "      <td>-5.096643e-01</td>\n",
       "      <td>-5.592522e-01</td>\n",
       "      <td>1.665591e+00</td>\n",
       "      <td>1.702939e+00</td>\n",
       "    </tr>\n",
       "    <tr>\n",
       "      <th>max</th>\n",
       "      <td>1.795612e+00</td>\n",
       "      <td>3.689196e+00</td>\n",
       "      <td>3.187613e+00</td>\n",
       "      <td>9.767656e-01</td>\n",
       "      <td>1.962076e+00</td>\n",
       "      <td>1.788102e+00</td>\n",
       "      <td>1.665591e+00</td>\n",
       "      <td>1.702939e+00</td>\n",
       "    </tr>\n",
       "  </tbody>\n",
       "</table>\n",
       "</div>"
      ],
      "text/plain": [
       "                  0             1             2             3             4  \\\n",
       "count  9.360000e+02  9.360000e+02  9.360000e+02  9.360000e+02  9.360000e+02   \n",
       "mean  -1.791065e-16 -4.635418e-16 -2.910332e-16  1.767342e-17  8.979047e-17   \n",
       "std    1.000535e+00  1.000535e+00  1.000535e+00  1.000535e+00  1.000535e+00   \n",
       "min   -1.485041e+00 -2.419524e+00 -9.040023e-01 -1.023787e+00 -5.096643e-01   \n",
       "25%   -9.144925e-01 -7.247116e-01 -9.040023e-01 -1.023787e+00 -5.096643e-01   \n",
       "50%   -5.867016e-02 -3.076297e-02 -8.567913e-02  9.767656e-01 -5.096643e-01   \n",
       "75%    8.684707e-01  6.631857e-01  7.326440e-01  9.767656e-01 -5.096643e-01   \n",
       "max    1.795612e+00  3.689196e+00  3.187613e+00  9.767656e-01  1.962076e+00   \n",
       "\n",
       "                  5             6             7  \n",
       "count  9.360000e+02  9.360000e+02  9.360000e+02  \n",
       "mean  -1.088873e-16  4.886879e-17 -2.372271e-17  \n",
       "std    1.000535e+00  1.000535e+00  1.000535e+00  \n",
       "min   -5.592522e-01 -6.003875e-01 -5.872202e-01  \n",
       "25%   -5.592522e-01 -6.003875e-01 -5.872202e-01  \n",
       "50%   -5.592522e-01 -6.003875e-01 -5.872202e-01  \n",
       "75%   -5.592522e-01  1.665591e+00  1.702939e+00  \n",
       "max    1.788102e+00  1.665591e+00  1.702939e+00  "
      ]
     },
     "execution_count": 45,
     "metadata": {},
     "output_type": "execute_result"
    }
   ],
   "source": [
    "pd.DataFrame(X_train_std).describe()"
   ]
  },
  {
   "cell_type": "code",
   "execution_count": 21,
   "metadata": {},
   "outputs": [],
   "source": [
    "from sklearn import linear_model"
   ]
  },
  {
   "cell_type": "code",
   "execution_count": 22,
   "metadata": {},
   "outputs": [
    {
     "data": {
      "text/plain": [
       "LinearRegression(copy_X=True, fit_intercept=True, n_jobs=None,\n",
       "         normalize=False)"
      ]
     },
     "execution_count": 22,
     "metadata": {},
     "output_type": "execute_result"
    }
   ],
   "source": [
    "lr = linear_model.LinearRegression()\n",
    "lr.fit(X_train_std, y_train)"
   ]
  },
  {
   "cell_type": "code",
   "execution_count": 23,
   "metadata": {},
   "outputs": [],
   "source": [
    "y_train_pred = lr.predict(X_train_std)\n",
    "y_test_pred = lr.predict(X_test_std)"
   ]
  },
  {
   "cell_type": "code",
   "execution_count": 54,
   "metadata": {},
   "outputs": [
    {
     "data": {
      "text/plain": [
       "34142276155.204025"
      ]
     },
     "execution_count": 54,
     "metadata": {},
     "output_type": "execute_result"
    }
   ],
   "source": [
    "error_training = y_train_pred - y_train\n",
    "\n",
    "sse_training = (error_training ** 2).sum()\n",
    "sse_training"
   ]
  },
  {
   "cell_type": "code",
   "execution_count": 52,
   "metadata": {},
   "outputs": [
    {
     "data": {
      "text/plain": [
       "14778105453.509336"
      ]
     },
     "execution_count": 52,
     "metadata": {},
     "output_type": "execute_result"
    }
   ],
   "source": [
    "error_test = y_test_pred - y_test\n",
    "\n",
    "sse_test = (error_test ** 2).sum()\n",
    "sse_test"
   ]
  },
  {
   "cell_type": "code",
   "execution_count": 55,
   "metadata": {},
   "outputs": [
    {
     "data": {
      "text/plain": [
       "2.3103283612782928"
      ]
     },
     "execution_count": 55,
     "metadata": {},
     "output_type": "execute_result"
    }
   ],
   "source": [
    "sse_training/sse_test"
   ]
  },
  {
   "cell_type": "code",
   "execution_count": 56,
   "metadata": {},
   "outputs": [],
   "source": [
    "mse_train = sse_training/len(y_train)"
   ]
  },
  {
   "cell_type": "code",
   "execution_count": 57,
   "metadata": {},
   "outputs": [],
   "source": [
    "mse_test = sse_test/len(y_test)"
   ]
  },
  {
   "cell_type": "code",
   "execution_count": 58,
   "metadata": {},
   "outputs": [
    {
     "data": {
      "text/plain": [
       "0.9922564115746513"
      ]
     },
     "execution_count": 58,
     "metadata": {},
     "output_type": "execute_result"
    }
   ],
   "source": [
    "mse_train/mse_test"
   ]
  },
  {
   "cell_type": "code",
   "execution_count": 59,
   "metadata": {},
   "outputs": [],
   "source": [
    "from sklearn import metrics"
   ]
  },
  {
   "cell_type": "code",
   "execution_count": 61,
   "metadata": {},
   "outputs": [],
   "source": [
    "mse_test = metrics.mean_squared_error(y_test, y_test_pred)"
   ]
  },
  {
   "cell_type": "code",
   "execution_count": 62,
   "metadata": {},
   "outputs": [],
   "source": [
    "mse_train = metrics.mean_squared_error(y_train, y_train_pred)"
   ]
  },
  {
   "cell_type": "code",
   "execution_count": 24,
   "metadata": {},
   "outputs": [
    {
     "ename": "NameError",
     "evalue": "name 'mse_train' is not defined",
     "output_type": "error",
     "traceback": [
      "\u001b[0;31m---------------------------------------------------------------------------\u001b[0m",
      "\u001b[0;31mNameError\u001b[0m                                 Traceback (most recent call last)",
      "\u001b[0;32m<ipython-input-24-5d0974ef529d>\u001b[0m in \u001b[0;36m<module>\u001b[0;34m\u001b[0m\n\u001b[0;32m----> 1\u001b[0;31m \u001b[0mmse_train\u001b[0m\u001b[0;34m/\u001b[0m\u001b[0mmse_test\u001b[0m\u001b[0;34m\u001b[0m\u001b[0;34m\u001b[0m\u001b[0m\n\u001b[0m",
      "\u001b[0;31mNameError\u001b[0m: name 'mse_train' is not defined"
     ]
    }
   ],
   "source": [
    "mse_train/mse_test"
   ]
  },
  {
   "cell_type": "code",
   "execution_count": 25,
   "metadata": {},
   "outputs": [
    {
     "data": {
      "text/plain": [
       "13276.698553898497"
      ]
     },
     "execution_count": 25,
     "metadata": {},
     "output_type": "execute_result"
    }
   ],
   "source": [
    "lr.intercept_"
   ]
  },
  {
   "cell_type": "code",
   "execution_count": 26,
   "metadata": {},
   "outputs": [
    {
     "data": {
      "text/plain": [
       "array([3528.98273114, 1961.65520818,  421.55016415, -141.35911014,\n",
       "       9733.78688309, -129.54588605, -414.54148288, -379.09534369])"
      ]
     },
     "execution_count": 26,
     "metadata": {},
     "output_type": "execute_result"
    }
   ],
   "source": [
    "lr.coef_"
   ]
  },
  {
   "cell_type": "code",
   "execution_count": 27,
   "metadata": {},
   "outputs": [
    {
     "data": {
      "text/html": [
       "<div>\n",
       "<style scoped>\n",
       "    .dataframe tbody tr th:only-of-type {\n",
       "        vertical-align: middle;\n",
       "    }\n",
       "\n",
       "    .dataframe tbody tr th {\n",
       "        vertical-align: top;\n",
       "    }\n",
       "\n",
       "    .dataframe thead th {\n",
       "        text-align: right;\n",
       "    }\n",
       "</style>\n",
       "<table border=\"1\" class=\"dataframe\">\n",
       "  <thead>\n",
       "    <tr style=\"text-align: right;\">\n",
       "      <th></th>\n",
       "      <th>features</th>\n",
       "      <th>coefficient</th>\n",
       "    </tr>\n",
       "  </thead>\n",
       "  <tbody>\n",
       "    <tr>\n",
       "      <th>0</th>\n",
       "      <td>age</td>\n",
       "      <td>3528.982731</td>\n",
       "    </tr>\n",
       "    <tr>\n",
       "      <th>1</th>\n",
       "      <td>bmi</td>\n",
       "      <td>1961.655208</td>\n",
       "    </tr>\n",
       "    <tr>\n",
       "      <th>2</th>\n",
       "      <td>children</td>\n",
       "      <td>421.550164</td>\n",
       "    </tr>\n",
       "    <tr>\n",
       "      <th>3</th>\n",
       "      <td>gender_male</td>\n",
       "      <td>-141.359110</td>\n",
       "    </tr>\n",
       "    <tr>\n",
       "      <th>4</th>\n",
       "      <td>smoker_yes</td>\n",
       "      <td>9733.786883</td>\n",
       "    </tr>\n",
       "    <tr>\n",
       "      <th>5</th>\n",
       "      <td>region_northwest</td>\n",
       "      <td>-129.545886</td>\n",
       "    </tr>\n",
       "    <tr>\n",
       "      <th>6</th>\n",
       "      <td>region_southeast</td>\n",
       "      <td>-414.541483</td>\n",
       "    </tr>\n",
       "    <tr>\n",
       "      <th>7</th>\n",
       "      <td>region_southwest</td>\n",
       "      <td>-379.095344</td>\n",
       "    </tr>\n",
       "  </tbody>\n",
       "</table>\n",
       "</div>"
      ],
      "text/plain": [
       "           features  coefficient\n",
       "0               age  3528.982731\n",
       "1               bmi  1961.655208\n",
       "2          children   421.550164\n",
       "3       gender_male  -141.359110\n",
       "4        smoker_yes  9733.786883\n",
       "5  region_northwest  -129.545886\n",
       "6  region_southeast  -414.541483\n",
       "7  region_southwest  -379.095344"
      ]
     },
     "execution_count": 27,
     "metadata": {},
     "output_type": "execute_result"
    }
   ],
   "source": [
    "pd.DataFrame(dict(features = X_dummy.columns, coefficient = lr.coef_ ))"
   ]
  },
  {
   "cell_type": "code",
   "execution_count": 28,
   "metadata": {},
   "outputs": [
    {
     "data": {
      "text/html": [
       "<div>\n",
       "<style scoped>\n",
       "    .dataframe tbody tr th:only-of-type {\n",
       "        vertical-align: middle;\n",
       "    }\n",
       "\n",
       "    .dataframe tbody tr th {\n",
       "        vertical-align: top;\n",
       "    }\n",
       "\n",
       "    .dataframe thead th {\n",
       "        text-align: right;\n",
       "    }\n",
       "</style>\n",
       "<table border=\"1\" class=\"dataframe\">\n",
       "  <thead>\n",
       "    <tr style=\"text-align: right;\">\n",
       "      <th></th>\n",
       "      <th>actual</th>\n",
       "      <th>prediction</th>\n",
       "    </tr>\n",
       "  </thead>\n",
       "  <tbody>\n",
       "    <tr>\n",
       "      <th>559</th>\n",
       "      <td>1646.42970</td>\n",
       "      <td>4610.315541</td>\n",
       "    </tr>\n",
       "    <tr>\n",
       "      <th>1087</th>\n",
       "      <td>11353.22760</td>\n",
       "      <td>12887.893880</td>\n",
       "    </tr>\n",
       "    <tr>\n",
       "      <th>1020</th>\n",
       "      <td>8798.59300</td>\n",
       "      <td>12573.948752</td>\n",
       "    </tr>\n",
       "    <tr>\n",
       "      <th>460</th>\n",
       "      <td>10381.47870</td>\n",
       "      <td>13197.836626</td>\n",
       "    </tr>\n",
       "    <tr>\n",
       "      <th>802</th>\n",
       "      <td>2103.08000</td>\n",
       "      <td>629.337182</td>\n",
       "    </tr>\n",
       "    <tr>\n",
       "      <th>298</th>\n",
       "      <td>38746.35510</td>\n",
       "      <td>32357.257584</td>\n",
       "    </tr>\n",
       "    <tr>\n",
       "      <th>481</th>\n",
       "      <td>9304.70190</td>\n",
       "      <td>12853.778438</td>\n",
       "    </tr>\n",
       "    <tr>\n",
       "      <th>616</th>\n",
       "      <td>11658.11505</td>\n",
       "      <td>12273.662540</td>\n",
       "    </tr>\n",
       "    <tr>\n",
       "      <th>763</th>\n",
       "      <td>3070.80870</td>\n",
       "      <td>3865.164045</td>\n",
       "    </tr>\n",
       "    <tr>\n",
       "      <th>750</th>\n",
       "      <td>19539.24300</td>\n",
       "      <td>29904.111392</td>\n",
       "    </tr>\n",
       "    <tr>\n",
       "      <th>48</th>\n",
       "      <td>12629.89670</td>\n",
       "      <td>11030.536184</td>\n",
       "    </tr>\n",
       "    <tr>\n",
       "      <th>547</th>\n",
       "      <td>11538.42100</td>\n",
       "      <td>17428.893541</td>\n",
       "    </tr>\n",
       "    <tr>\n",
       "      <th>1143</th>\n",
       "      <td>6338.07560</td>\n",
       "      <td>8670.208104</td>\n",
       "    </tr>\n",
       "    <tr>\n",
       "      <th>767</th>\n",
       "      <td>7050.64200</td>\n",
       "      <td>8357.459712</td>\n",
       "    </tr>\n",
       "    <tr>\n",
       "      <th>194</th>\n",
       "      <td>1137.46970</td>\n",
       "      <td>3368.753659</td>\n",
       "    </tr>\n",
       "    <tr>\n",
       "      <th>424</th>\n",
       "      <td>8968.33000</td>\n",
       "      <td>10316.585740</td>\n",
       "    </tr>\n",
       "    <tr>\n",
       "      <th>3</th>\n",
       "      <td>21984.47061</td>\n",
       "      <td>3999.221358</td>\n",
       "    </tr>\n",
       "    <tr>\n",
       "      <th>785</th>\n",
       "      <td>6414.17800</td>\n",
       "      <td>6866.509328</td>\n",
       "    </tr>\n",
       "    <tr>\n",
       "      <th>443</th>\n",
       "      <td>28287.89766</td>\n",
       "      <td>14989.263965</td>\n",
       "    </tr>\n",
       "    <tr>\n",
       "      <th>921</th>\n",
       "      <td>13462.52000</td>\n",
       "      <td>14400.167009</td>\n",
       "    </tr>\n",
       "    <tr>\n",
       "      <th>315</th>\n",
       "      <td>9722.76950</td>\n",
       "      <td>12484.860025</td>\n",
       "    </tr>\n",
       "    <tr>\n",
       "      <th>725</th>\n",
       "      <td>40932.42950</td>\n",
       "      <td>33255.453304</td>\n",
       "    </tr>\n",
       "    <tr>\n",
       "      <th>88</th>\n",
       "      <td>8026.66660</td>\n",
       "      <td>9177.111104</td>\n",
       "    </tr>\n",
       "    <tr>\n",
       "      <th>310</th>\n",
       "      <td>8444.47400</td>\n",
       "      <td>8969.420175</td>\n",
       "    </tr>\n",
       "    <tr>\n",
       "      <th>471</th>\n",
       "      <td>2203.47185</td>\n",
       "      <td>3199.783106</td>\n",
       "    </tr>\n",
       "    <tr>\n",
       "      <th>726</th>\n",
       "      <td>6664.68595</td>\n",
       "      <td>8195.258443</td>\n",
       "    </tr>\n",
       "    <tr>\n",
       "      <th>60</th>\n",
       "      <td>8606.21740</td>\n",
       "      <td>9355.744165</td>\n",
       "    </tr>\n",
       "    <tr>\n",
       "      <th>1280</th>\n",
       "      <td>8283.68070</td>\n",
       "      <td>10847.377942</td>\n",
       "    </tr>\n",
       "    <tr>\n",
       "      <th>705</th>\n",
       "      <td>5375.03800</td>\n",
       "      <td>7694.604698</td>\n",
       "    </tr>\n",
       "    <tr>\n",
       "      <th>101</th>\n",
       "      <td>3645.08940</td>\n",
       "      <td>4436.447849</td>\n",
       "    </tr>\n",
       "    <tr>\n",
       "      <th>...</th>\n",
       "      <td>...</td>\n",
       "      <td>...</td>\n",
       "    </tr>\n",
       "    <tr>\n",
       "      <th>1197</th>\n",
       "      <td>5699.83750</td>\n",
       "      <td>8873.734143</td>\n",
       "    </tr>\n",
       "    <tr>\n",
       "      <th>520</th>\n",
       "      <td>25656.57526</td>\n",
       "      <td>10365.420802</td>\n",
       "    </tr>\n",
       "    <tr>\n",
       "      <th>408</th>\n",
       "      <td>6652.52880</td>\n",
       "      <td>5146.284716</td>\n",
       "    </tr>\n",
       "    <tr>\n",
       "      <th>403</th>\n",
       "      <td>10269.46000</td>\n",
       "      <td>12154.347446</td>\n",
       "    </tr>\n",
       "    <tr>\n",
       "      <th>1084</th>\n",
       "      <td>15019.76005</td>\n",
       "      <td>14782.131446</td>\n",
       "    </tr>\n",
       "    <tr>\n",
       "      <th>1276</th>\n",
       "      <td>2741.94800</td>\n",
       "      <td>4298.391463</td>\n",
       "    </tr>\n",
       "    <tr>\n",
       "      <th>660</th>\n",
       "      <td>6435.62370</td>\n",
       "      <td>13086.510055</td>\n",
       "    </tr>\n",
       "    <tr>\n",
       "      <th>1229</th>\n",
       "      <td>11938.25595</td>\n",
       "      <td>13045.515296</td>\n",
       "    </tr>\n",
       "    <tr>\n",
       "      <th>774</th>\n",
       "      <td>7261.74100</td>\n",
       "      <td>10408.467573</td>\n",
       "    </tr>\n",
       "    <tr>\n",
       "      <th>909</th>\n",
       "      <td>17496.30600</td>\n",
       "      <td>28136.555213</td>\n",
       "    </tr>\n",
       "    <tr>\n",
       "      <th>1196</th>\n",
       "      <td>33307.55080</td>\n",
       "      <td>27176.138386</td>\n",
       "    </tr>\n",
       "    <tr>\n",
       "      <th>641</th>\n",
       "      <td>32787.45859</td>\n",
       "      <td>33165.632331</td>\n",
       "    </tr>\n",
       "    <tr>\n",
       "      <th>959</th>\n",
       "      <td>28468.91901</td>\n",
       "      <td>12621.577467</td>\n",
       "    </tr>\n",
       "    <tr>\n",
       "      <th>264</th>\n",
       "      <td>20462.99766</td>\n",
       "      <td>14665.580509</td>\n",
       "    </tr>\n",
       "    <tr>\n",
       "      <th>493</th>\n",
       "      <td>12574.04900</td>\n",
       "      <td>17154.057687</td>\n",
       "    </tr>\n",
       "    <tr>\n",
       "      <th>625</th>\n",
       "      <td>3736.46470</td>\n",
       "      <td>4347.234024</td>\n",
       "    </tr>\n",
       "    <tr>\n",
       "      <th>1225</th>\n",
       "      <td>4795.65680</td>\n",
       "      <td>9509.419524</td>\n",
       "    </tr>\n",
       "    <tr>\n",
       "      <th>927</th>\n",
       "      <td>12032.32600</td>\n",
       "      <td>9263.424639</td>\n",
       "    </tr>\n",
       "    <tr>\n",
       "      <th>53</th>\n",
       "      <td>37742.57570</td>\n",
       "      <td>31958.417709</td>\n",
       "    </tr>\n",
       "    <tr>\n",
       "      <th>1301</th>\n",
       "      <td>46718.16325</td>\n",
       "      <td>39026.197693</td>\n",
       "    </tr>\n",
       "    <tr>\n",
       "      <th>347</th>\n",
       "      <td>8334.45755</td>\n",
       "      <td>11350.360054</td>\n",
       "    </tr>\n",
       "    <tr>\n",
       "      <th>1022</th>\n",
       "      <td>42211.13820</td>\n",
       "      <td>35603.824507</td>\n",
       "    </tr>\n",
       "    <tr>\n",
       "      <th>1291</th>\n",
       "      <td>34828.65400</td>\n",
       "      <td>27902.502419</td>\n",
       "    </tr>\n",
       "    <tr>\n",
       "      <th>1188</th>\n",
       "      <td>21771.34230</td>\n",
       "      <td>32334.209245</td>\n",
       "    </tr>\n",
       "    <tr>\n",
       "      <th>764</th>\n",
       "      <td>9095.06825</td>\n",
       "      <td>9092.519788</td>\n",
       "    </tr>\n",
       "    <tr>\n",
       "      <th>323</th>\n",
       "      <td>11566.30055</td>\n",
       "      <td>16224.053528</td>\n",
       "    </tr>\n",
       "    <tr>\n",
       "      <th>1268</th>\n",
       "      <td>1880.48700</td>\n",
       "      <td>3861.767583</td>\n",
       "    </tr>\n",
       "    <tr>\n",
       "      <th>134</th>\n",
       "      <td>2457.21115</td>\n",
       "      <td>3274.369325</td>\n",
       "    </tr>\n",
       "    <tr>\n",
       "      <th>1274</th>\n",
       "      <td>17043.34140</td>\n",
       "      <td>27065.591340</td>\n",
       "    </tr>\n",
       "    <tr>\n",
       "      <th>876</th>\n",
       "      <td>26140.36030</td>\n",
       "      <td>9506.693466</td>\n",
       "    </tr>\n",
       "  </tbody>\n",
       "</table>\n",
       "<p>402 rows × 2 columns</p>\n",
       "</div>"
      ],
      "text/plain": [
       "           actual    prediction\n",
       "559    1646.42970   4610.315541\n",
       "1087  11353.22760  12887.893880\n",
       "1020   8798.59300  12573.948752\n",
       "460   10381.47870  13197.836626\n",
       "802    2103.08000    629.337182\n",
       "298   38746.35510  32357.257584\n",
       "481    9304.70190  12853.778438\n",
       "616   11658.11505  12273.662540\n",
       "763    3070.80870   3865.164045\n",
       "750   19539.24300  29904.111392\n",
       "48    12629.89670  11030.536184\n",
       "547   11538.42100  17428.893541\n",
       "1143   6338.07560   8670.208104\n",
       "767    7050.64200   8357.459712\n",
       "194    1137.46970   3368.753659\n",
       "424    8968.33000  10316.585740\n",
       "3     21984.47061   3999.221358\n",
       "785    6414.17800   6866.509328\n",
       "443   28287.89766  14989.263965\n",
       "921   13462.52000  14400.167009\n",
       "315    9722.76950  12484.860025\n",
       "725   40932.42950  33255.453304\n",
       "88     8026.66660   9177.111104\n",
       "310    8444.47400   8969.420175\n",
       "471    2203.47185   3199.783106\n",
       "726    6664.68595   8195.258443\n",
       "60     8606.21740   9355.744165\n",
       "1280   8283.68070  10847.377942\n",
       "705    5375.03800   7694.604698\n",
       "101    3645.08940   4436.447849\n",
       "...           ...           ...\n",
       "1197   5699.83750   8873.734143\n",
       "520   25656.57526  10365.420802\n",
       "408    6652.52880   5146.284716\n",
       "403   10269.46000  12154.347446\n",
       "1084  15019.76005  14782.131446\n",
       "1276   2741.94800   4298.391463\n",
       "660    6435.62370  13086.510055\n",
       "1229  11938.25595  13045.515296\n",
       "774    7261.74100  10408.467573\n",
       "909   17496.30600  28136.555213\n",
       "1196  33307.55080  27176.138386\n",
       "641   32787.45859  33165.632331\n",
       "959   28468.91901  12621.577467\n",
       "264   20462.99766  14665.580509\n",
       "493   12574.04900  17154.057687\n",
       "625    3736.46470   4347.234024\n",
       "1225   4795.65680   9509.419524\n",
       "927   12032.32600   9263.424639\n",
       "53    37742.57570  31958.417709\n",
       "1301  46718.16325  39026.197693\n",
       "347    8334.45755  11350.360054\n",
       "1022  42211.13820  35603.824507\n",
       "1291  34828.65400  27902.502419\n",
       "1188  21771.34230  32334.209245\n",
       "764    9095.06825   9092.519788\n",
       "323   11566.30055  16224.053528\n",
       "1268   1880.48700   3861.767583\n",
       "134    2457.21115   3274.369325\n",
       "1274  17043.34140  27065.591340\n",
       "876   26140.36030   9506.693466\n",
       "\n",
       "[402 rows x 2 columns]"
      ]
     },
     "execution_count": 28,
     "metadata": {},
     "output_type": "execute_result"
    }
   ],
   "source": [
    "pd.DataFrame(dict(actual = y_test, prediction = y_test_pred  ))"
   ]
  },
  {
   "cell_type": "code",
   "execution_count": 30,
   "metadata": {},
   "outputs": [],
   "source": [
    "import numpy as np"
   ]
  },
  {
   "cell_type": "code",
   "execution_count": 31,
   "metadata": {},
   "outputs": [
    {
     "data": {
      "text/plain": [
       "141717109.2996249"
      ]
     },
     "execution_count": 31,
     "metadata": {},
     "output_type": "execute_result"
    }
   ],
   "source": [
    "sst = ((y_test - np.mean(y_train)) ** 2).mean()\n",
    "sst"
   ]
  },
  {
   "cell_type": "code",
   "execution_count": 33,
   "metadata": {},
   "outputs": [
    {
     "data": {
      "text/plain": [
       "36761456.35201327"
      ]
     },
     "execution_count": 33,
     "metadata": {},
     "output_type": "execute_result"
    }
   ],
   "source": [
    "sse = ((y_test - y_test_pred) ** 2).mean()\n",
    "sse"
   ]
  },
  {
   "cell_type": "code",
   "execution_count": 34,
   "metadata": {},
   "outputs": [
    {
     "data": {
      "text/plain": [
       "0.2594002695488975"
      ]
     },
     "execution_count": 34,
     "metadata": {},
     "output_type": "execute_result"
    }
   ],
   "source": [
    "sse/sst"
   ]
  },
  {
   "cell_type": "code",
   "execution_count": 35,
   "metadata": {},
   "outputs": [],
   "source": [
    "r2 = 1 - sse/sst"
   ]
  },
  {
   "cell_type": "code",
   "execution_count": 36,
   "metadata": {},
   "outputs": [
    {
     "data": {
      "text/plain": [
       "0.7405997304511025"
      ]
     },
     "execution_count": 36,
     "metadata": {},
     "output_type": "execute_result"
    }
   ],
   "source": [
    "r2"
   ]
  },
  {
   "cell_type": "code",
   "execution_count": 38,
   "metadata": {},
   "outputs": [],
   "source": [
    "from sklearn import *"
   ]
  },
  {
   "cell_type": "code",
   "execution_count": 40,
   "metadata": {},
   "outputs": [
    {
     "name": "stdout",
     "output_type": "stream",
     "text": [
      "rmse of training 6039.6018713245385\n",
      "rmse of test 6063.122656850453\n",
      "r2 of training 0.7545557492633161\n",
      "r2 of test 0.7405989316927208\n"
     ]
    }
   ],
   "source": [
    "target = \"charges\"\n",
    "y = df[target]\n",
    "X = df.drop(columns=[target])\n",
    "# One hot encoding\n",
    "X_dummy = pd.get_dummies(X, drop_first=True)\n",
    "X_train, X_test, y_train, y_test = model_selection\\\n",
    ".train_test_split(X_dummy.values, y\n",
    "                , test_size = 0.3, random_state = 1)\n",
    "    \n",
    "scaler = preprocessing.StandardScaler()\n",
    "X_train_std = scaler.fit_transform(X_train)\n",
    "X_test_std = scaler.transform(X_test)\n",
    "\n",
    "lr = linear_model.LinearRegression()\n",
    "lr.fit(X_train_std, y_train)\n",
    "\n",
    "\n",
    "y_train_pred = lr.predict(X_train_std)\n",
    "y_test_pred = lr.predict(X_test_std)\n",
    "\n",
    "rmse_test = metrics.mean_squared_error(y_test, y_test_pred) ** 0.5\n",
    "rmse_train = metrics.mean_squared_error(y_train, y_train_pred) ** 0.5\n",
    "\n",
    "r2_test = metrics.r2_score(y_test, y_test_pred)\n",
    "r2_train = metrics.r2_score(y_train, y_train_pred)\n",
    "\n",
    "print(\"rmse of training\", rmse_train)\n",
    "print(\"rmse of test\", rmse_test)\n",
    "print(\"r2 of training\", r2_train)\n",
    "print(\"r2 of test\", r2_test)\n"
   ]
  },
  {
   "cell_type": "code",
   "execution_count": 43,
   "metadata": {},
   "outputs": [],
   "source": [
    "%matplotlib inline"
   ]
  },
  {
   "cell_type": "code",
   "execution_count": 45,
   "metadata": {},
   "outputs": [
    {
     "data": {
      "text/plain": [
       "<matplotlib.axes._subplots.AxesSubplot at 0x1a25e7c5f8>"
      ]
     },
     "execution_count": 45,
     "metadata": {},
     "output_type": "execute_result"
    },
    {
     "data": {
      "image/png": "[encoded data removed]",
      "text/plain": [
       "<Figure size 432x288 with 1 Axes>"
      ]
     },
     "metadata": {
      "needs_background": "light"
     },
     "output_type": "display_data"
    }
   ],
   "source": [
    "df.charges.plot.hist(bins = 35)"
   ]
  },
  {
   "cell_type": "code",
   "execution_count": 46,
   "metadata": {},
   "outputs": [
    {
     "data": {
      "text/plain": [
       "<matplotlib.axes._subplots.AxesSubplot at 0x1a25f9d080>"
      ]
     },
     "execution_count": 46,
     "metadata": {},
     "output_type": "execute_result"
    },
    {
     "data": {
      "image/png": "[encoded data removed]",
      "text/plain": [
       "<Figure size 432x288 with 1 Axes>"
      ]
     },
     "metadata": {
      "needs_background": "light"
     },
     "output_type": "display_data"
    }
   ],
   "source": [
    "np.log(df.charges).plot.hist(bins = 35)"
   ]
  },
  {
   "cell_type": "code",
   "execution_count": 53,
   "metadata": {},
   "outputs": [
    {
     "name": "stdout",
     "output_type": "stream",
     "text": [
      "rmse of training 0.4498838059976355\n",
      "rmse of test 0.42023970729428595\n",
      "r2 of training 0.7608907031255225\n",
      "r2 of test 0.7900566633733725\n"
     ]
    }
   ],
   "source": [
    "target = \"charges\"\n",
    "y = np.log(df[target])\n",
    "#y = df[target]\n",
    "X = df.drop(columns=[target])\n",
    "X[\"age_group\"] = np.where(df.age>60, 1, 0)\n",
    "X[\"high_bmi\"] = np.where(df.bmi>30, 1, 0)\n",
    "# One hot encoding\n",
    "X_dummy = pd.get_dummies(X, drop_first=True)\n",
    "X_train, X_test, y_train, y_test = model_selection\\\n",
    ".train_test_split(X_dummy.values, y\n",
    "                , test_size = 0.3, random_state = 1)\n",
    "\n",
    "pipe = pipeline.Pipeline([\n",
    "    (\"scaler\", preprocessing.StandardScaler()),\n",
    "    (\"est\", linear_model.LinearRegression())\n",
    "])\n",
    "\n",
    "pipe.fit(X_train, y_train)\n",
    "\n",
    "y_train_pred = pipe.predict(X_train)\n",
    "y_test_pred = pipe.predict(X_test)\n",
    "\n",
    "rmse_test = metrics.mean_squared_error(y_test, y_test_pred) ** 0.5\n",
    "rmse_train = metrics.mean_squared_error(y_train, y_train_pred) ** 0.5\n",
    "\n",
    "r2_test = metrics.r2_score(y_test, y_test_pred)\n",
    "r2_train = metrics.r2_score(y_train, y_train_pred)\n",
    "\n",
    "print(\"rmse of training\", rmse_train)\n",
    "print(\"rmse of test\", rmse_test)\n",
    "print(\"r2 of training\", r2_train)\n",
    "print(\"r2 of test\", r2_test)\n"
   ]
  },
  {
   "cell_type": "code",
   "execution_count": 50,
   "metadata": {},
   "outputs": [
    {
     "data": {
      "text/html": [
       "<div>\n",
       "<style scoped>\n",
       "    .dataframe tbody tr th:only-of-type {\n",
       "        vertical-align: middle;\n",
       "    }\n",
       "\n",
       "    .dataframe tbody tr th {\n",
       "        vertical-align: top;\n",
       "    }\n",
       "\n",
       "    .dataframe thead th {\n",
       "        text-align: right;\n",
       "    }\n",
       "</style>\n",
       "<table border=\"1\" class=\"dataframe\">\n",
       "  <thead>\n",
       "    <tr style=\"text-align: right;\">\n",
       "      <th></th>\n",
       "      <th>actual</th>\n",
       "      <th>log</th>\n",
       "    </tr>\n",
       "  </thead>\n",
       "  <tbody>\n",
       "    <tr>\n",
       "      <th>0</th>\n",
       "      <td>16884.92400</td>\n",
       "      <td>9.734176</td>\n",
       "    </tr>\n",
       "    <tr>\n",
       "      <th>1</th>\n",
       "      <td>1725.55230</td>\n",
       "      <td>7.453302</td>\n",
       "    </tr>\n",
       "    <tr>\n",
       "      <th>2</th>\n",
       "      <td>4449.46200</td>\n",
       "      <td>8.400538</td>\n",
       "    </tr>\n",
       "    <tr>\n",
       "      <th>3</th>\n",
       "      <td>21984.47061</td>\n",
       "      <td>9.998092</td>\n",
       "    </tr>\n",
       "    <tr>\n",
       "      <th>4</th>\n",
       "      <td>3866.85520</td>\n",
       "      <td>8.260197</td>\n",
       "    </tr>\n",
       "    <tr>\n",
       "      <th>5</th>\n",
       "      <td>3756.62160</td>\n",
       "      <td>8.231275</td>\n",
       "    </tr>\n",
       "    <tr>\n",
       "      <th>6</th>\n",
       "      <td>8240.58960</td>\n",
       "      <td>9.016827</td>\n",
       "    </tr>\n",
       "    <tr>\n",
       "      <th>7</th>\n",
       "      <td>7281.50560</td>\n",
       "      <td>8.893093</td>\n",
       "    </tr>\n",
       "    <tr>\n",
       "      <th>8</th>\n",
       "      <td>6406.41070</td>\n",
       "      <td>8.765054</td>\n",
       "    </tr>\n",
       "    <tr>\n",
       "      <th>9</th>\n",
       "      <td>28923.13692</td>\n",
       "      <td>10.272397</td>\n",
       "    </tr>\n",
       "    <tr>\n",
       "      <th>10</th>\n",
       "      <td>2721.32080</td>\n",
       "      <td>7.908873</td>\n",
       "    </tr>\n",
       "    <tr>\n",
       "      <th>11</th>\n",
       "      <td>27808.72510</td>\n",
       "      <td>10.233105</td>\n",
       "    </tr>\n",
       "    <tr>\n",
       "      <th>12</th>\n",
       "      <td>1826.84300</td>\n",
       "      <td>7.510345</td>\n",
       "    </tr>\n",
       "    <tr>\n",
       "      <th>13</th>\n",
       "      <td>11090.71780</td>\n",
       "      <td>9.313864</td>\n",
       "    </tr>\n",
       "    <tr>\n",
       "      <th>14</th>\n",
       "      <td>39611.75770</td>\n",
       "      <td>10.586881</td>\n",
       "    </tr>\n",
       "    <tr>\n",
       "      <th>15</th>\n",
       "      <td>1837.23700</td>\n",
       "      <td>7.516018</td>\n",
       "    </tr>\n",
       "    <tr>\n",
       "      <th>16</th>\n",
       "      <td>10797.33620</td>\n",
       "      <td>9.287055</td>\n",
       "    </tr>\n",
       "    <tr>\n",
       "      <th>17</th>\n",
       "      <td>2395.17155</td>\n",
       "      <td>7.781210</td>\n",
       "    </tr>\n",
       "    <tr>\n",
       "      <th>18</th>\n",
       "      <td>10602.38500</td>\n",
       "      <td>9.268834</td>\n",
       "    </tr>\n",
       "    <tr>\n",
       "      <th>19</th>\n",
       "      <td>36837.46700</td>\n",
       "      <td>10.514271</td>\n",
       "    </tr>\n",
       "    <tr>\n",
       "      <th>20</th>\n",
       "      <td>13228.84695</td>\n",
       "      <td>9.490155</td>\n",
       "    </tr>\n",
       "    <tr>\n",
       "      <th>21</th>\n",
       "      <td>4149.73600</td>\n",
       "      <td>8.330800</td>\n",
       "    </tr>\n",
       "    <tr>\n",
       "      <th>22</th>\n",
       "      <td>1137.01100</td>\n",
       "      <td>7.036158</td>\n",
       "    </tr>\n",
       "    <tr>\n",
       "      <th>23</th>\n",
       "      <td>37701.87680</td>\n",
       "      <td>10.537465</td>\n",
       "    </tr>\n",
       "    <tr>\n",
       "      <th>24</th>\n",
       "      <td>6203.90175</td>\n",
       "      <td>8.732934</td>\n",
       "    </tr>\n",
       "    <tr>\n",
       "      <th>25</th>\n",
       "      <td>14001.13380</td>\n",
       "      <td>9.546894</td>\n",
       "    </tr>\n",
       "    <tr>\n",
       "      <th>26</th>\n",
       "      <td>14451.83515</td>\n",
       "      <td>9.578577</td>\n",
       "    </tr>\n",
       "    <tr>\n",
       "      <th>27</th>\n",
       "      <td>12268.63225</td>\n",
       "      <td>9.414801</td>\n",
       "    </tr>\n",
       "    <tr>\n",
       "      <th>28</th>\n",
       "      <td>2775.19215</td>\n",
       "      <td>7.928475</td>\n",
       "    </tr>\n",
       "    <tr>\n",
       "      <th>29</th>\n",
       "      <td>38711.00000</td>\n",
       "      <td>10.563879</td>\n",
       "    </tr>\n",
       "    <tr>\n",
       "      <th>...</th>\n",
       "      <td>...</td>\n",
       "      <td>...</td>\n",
       "    </tr>\n",
       "    <tr>\n",
       "      <th>1308</th>\n",
       "      <td>33900.65300</td>\n",
       "      <td>10.431190</td>\n",
       "    </tr>\n",
       "    <tr>\n",
       "      <th>1309</th>\n",
       "      <td>6875.96100</td>\n",
       "      <td>8.835787</td>\n",
       "    </tr>\n",
       "    <tr>\n",
       "      <th>1310</th>\n",
       "      <td>6940.90985</td>\n",
       "      <td>8.845188</td>\n",
       "    </tr>\n",
       "    <tr>\n",
       "      <th>1311</th>\n",
       "      <td>4571.41305</td>\n",
       "      <td>8.427578</td>\n",
       "    </tr>\n",
       "    <tr>\n",
       "      <th>1312</th>\n",
       "      <td>4536.25900</td>\n",
       "      <td>8.419858</td>\n",
       "    </tr>\n",
       "    <tr>\n",
       "      <th>1313</th>\n",
       "      <td>36397.57600</td>\n",
       "      <td>10.502257</td>\n",
       "    </tr>\n",
       "    <tr>\n",
       "      <th>1314</th>\n",
       "      <td>18765.87545</td>\n",
       "      <td>9.839795</td>\n",
       "    </tr>\n",
       "    <tr>\n",
       "      <th>1315</th>\n",
       "      <td>11272.33139</td>\n",
       "      <td>9.330106</td>\n",
       "    </tr>\n",
       "    <tr>\n",
       "      <th>1316</th>\n",
       "      <td>1731.67700</td>\n",
       "      <td>7.456846</td>\n",
       "    </tr>\n",
       "    <tr>\n",
       "      <th>1317</th>\n",
       "      <td>1163.46270</td>\n",
       "      <td>7.059156</td>\n",
       "    </tr>\n",
       "    <tr>\n",
       "      <th>1318</th>\n",
       "      <td>19496.71917</td>\n",
       "      <td>9.878001</td>\n",
       "    </tr>\n",
       "    <tr>\n",
       "      <th>1319</th>\n",
       "      <td>7201.70085</td>\n",
       "      <td>8.882073</td>\n",
       "    </tr>\n",
       "    <tr>\n",
       "      <th>1320</th>\n",
       "      <td>5425.02335</td>\n",
       "      <td>8.598777</td>\n",
       "    </tr>\n",
       "    <tr>\n",
       "      <th>1321</th>\n",
       "      <td>28101.33305</td>\n",
       "      <td>10.243572</td>\n",
       "    </tr>\n",
       "    <tr>\n",
       "      <th>1322</th>\n",
       "      <td>12981.34570</td>\n",
       "      <td>9.471269</td>\n",
       "    </tr>\n",
       "    <tr>\n",
       "      <th>1323</th>\n",
       "      <td>43896.37630</td>\n",
       "      <td>10.689587</td>\n",
       "    </tr>\n",
       "    <tr>\n",
       "      <th>1324</th>\n",
       "      <td>4239.89265</td>\n",
       "      <td>8.352293</td>\n",
       "    </tr>\n",
       "    <tr>\n",
       "      <th>1325</th>\n",
       "      <td>13143.33665</td>\n",
       "      <td>9.483670</td>\n",
       "    </tr>\n",
       "    <tr>\n",
       "      <th>1326</th>\n",
       "      <td>7050.02130</td>\n",
       "      <td>8.860786</td>\n",
       "    </tr>\n",
       "    <tr>\n",
       "      <th>1327</th>\n",
       "      <td>9377.90470</td>\n",
       "      <td>9.146112</td>\n",
       "    </tr>\n",
       "    <tr>\n",
       "      <th>1328</th>\n",
       "      <td>22395.74424</td>\n",
       "      <td>10.016626</td>\n",
       "    </tr>\n",
       "    <tr>\n",
       "      <th>1329</th>\n",
       "      <td>10325.20600</td>\n",
       "      <td>9.242343</td>\n",
       "    </tr>\n",
       "    <tr>\n",
       "      <th>1330</th>\n",
       "      <td>12629.16560</td>\n",
       "      <td>9.443764</td>\n",
       "    </tr>\n",
       "    <tr>\n",
       "      <th>1331</th>\n",
       "      <td>10795.93733</td>\n",
       "      <td>9.286925</td>\n",
       "    </tr>\n",
       "    <tr>\n",
       "      <th>1332</th>\n",
       "      <td>11411.68500</td>\n",
       "      <td>9.342393</td>\n",
       "    </tr>\n",
       "    <tr>\n",
       "      <th>1333</th>\n",
       "      <td>10600.54830</td>\n",
       "      <td>9.268661</td>\n",
       "    </tr>\n",
       "    <tr>\n",
       "      <th>1334</th>\n",
       "      <td>2205.98080</td>\n",
       "      <td>7.698927</td>\n",
       "    </tr>\n",
       "    <tr>\n",
       "      <th>1335</th>\n",
       "      <td>1629.83350</td>\n",
       "      <td>7.396233</td>\n",
       "    </tr>\n",
       "    <tr>\n",
       "      <th>1336</th>\n",
       "      <td>2007.94500</td>\n",
       "      <td>7.604867</td>\n",
       "    </tr>\n",
       "    <tr>\n",
       "      <th>1337</th>\n",
       "      <td>29141.36030</td>\n",
       "      <td>10.279914</td>\n",
       "    </tr>\n",
       "  </tbody>\n",
       "</table>\n",
       "<p>1338 rows × 2 columns</p>\n",
       "</div>"
      ],
      "text/plain": [
       "           actual        log\n",
       "0     16884.92400   9.734176\n",
       "1      1725.55230   7.453302\n",
       "2      4449.46200   8.400538\n",
       "3     21984.47061   9.998092\n",
       "4      3866.85520   8.260197\n",
       "5      3756.62160   8.231275\n",
       "6      8240.58960   9.016827\n",
       "7      7281.50560   8.893093\n",
       "8      6406.41070   8.765054\n",
       "9     28923.13692  10.272397\n",
       "10     2721.32080   7.908873\n",
       "11    27808.72510  10.233105\n",
       "12     1826.84300   7.510345\n",
       "13    11090.71780   9.313864\n",
       "14    39611.75770  10.586881\n",
       "15     1837.23700   7.516018\n",
       "16    10797.33620   9.287055\n",
       "17     2395.17155   7.781210\n",
       "18    10602.38500   9.268834\n",
       "19    36837.46700  10.514271\n",
       "20    13228.84695   9.490155\n",
       "21     4149.73600   8.330800\n",
       "22     1137.01100   7.036158\n",
       "23    37701.87680  10.537465\n",
       "24     6203.90175   8.732934\n",
       "25    14001.13380   9.546894\n",
       "26    14451.83515   9.578577\n",
       "27    12268.63225   9.414801\n",
       "28     2775.19215   7.928475\n",
       "29    38711.00000  10.563879\n",
       "...           ...        ...\n",
       "1308  33900.65300  10.431190\n",
       "1309   6875.96100   8.835787\n",
       "1310   6940.90985   8.845188\n",
       "1311   4571.41305   8.427578\n",
       "1312   4536.25900   8.419858\n",
       "1313  36397.57600  10.502257\n",
       "1314  18765.87545   9.839795\n",
       "1315  11272.33139   9.330106\n",
       "1316   1731.67700   7.456846\n",
       "1317   1163.46270   7.059156\n",
       "1318  19496.71917   9.878001\n",
       "1319   7201.70085   8.882073\n",
       "1320   5425.02335   8.598777\n",
       "1321  28101.33305  10.243572\n",
       "1322  12981.34570   9.471269\n",
       "1323  43896.37630  10.689587\n",
       "1324   4239.89265   8.352293\n",
       "1325  13143.33665   9.483670\n",
       "1326   7050.02130   8.860786\n",
       "1327   9377.90470   9.146112\n",
       "1328  22395.74424  10.016626\n",
       "1329  10325.20600   9.242343\n",
       "1330  12629.16560   9.443764\n",
       "1331  10795.93733   9.286925\n",
       "1332  11411.68500   9.342393\n",
       "1333  10600.54830   9.268661\n",
       "1334   2205.98080   7.698927\n",
       "1335   1629.83350   7.396233\n",
       "1336   2007.94500   7.604867\n",
       "1337  29141.36030  10.279914\n",
       "\n",
       "[1338 rows x 2 columns]"
      ]
     },
     "execution_count": 50,
     "metadata": {},
     "output_type": "execute_result"
    }
   ],
   "source": [
    "pd.DataFrame(dict(actual =df.charges, log =  np.log(df.charges)))"
   ]
  },
  {
   "cell_type": "code",
   "execution_count": 58,
   "metadata": {},
   "outputs": [
    {
     "data": {
      "text/plain": [
       "array([[ 1.,  1.,  2.,  3.,  1.,  2.,  3.,  4.,  6.,  9.],\n",
       "       [ 1., -1.,  0.,  1.,  1., -0., -1.,  0.,  0.,  1.],\n",
       "       [ 1.,  4.,  5.,  0., 16., 20.,  0., 25.,  0.,  0.],\n",
       "       [ 1., -2., -1.,  0.,  4.,  2., -0.,  1., -0.,  0.]])"
      ]
     },
     "execution_count": 58,
     "metadata": {},
     "output_type": "execute_result"
    }
   ],
   "source": [
    "poly = preprocessing.PolynomialFeatures(degree=2)\n",
    "a = np.array([\n",
    "    [1, 2, 3],\n",
    "    [-1, 0, 1],\n",
    "    [4, 5, 0],\n",
    "    [-2, -1, 0]\n",
    "])\n",
    "\n",
    "poly.fit_transform(a)"
   ]
  },
  {
   "cell_type": "code",
   "execution_count": 60,
   "metadata": {},
   "outputs": [
    {
     "data": {
      "text/plain": [
       "array([[ 1.,  2.,  3.,  1.,  2.,  3.,  4.,  6.,  9.],\n",
       "       [-1.,  0.,  1.,  1., -0., -1.,  0.,  0.,  1.],\n",
       "       [ 4.,  5.,  0., 16., 20.,  0., 25.,  0.,  0.],\n",
       "       [-2., -1.,  0.,  4.,  2., -0.,  1., -0.,  0.]])"
      ]
     },
     "execution_count": 60,
     "metadata": {},
     "output_type": "execute_result"
    }
   ],
   "source": [
    "\n",
    "poly = preprocessing.PolynomialFeatures(degree=2, include_bias=False)\n",
    "a = np.array([\n",
    "    [1, 2, 3],\n",
    "    [-1, 0, 1],\n",
    "    [4, 5, 0],\n",
    "    [-2, -1, 0]\n",
    "])\n",
    "\n",
    "poly.fit_transform(a)\n"
   ]
  },
  {
   "cell_type": "code",
   "execution_count": 63,
   "metadata": {},
   "outputs": [
    {
     "data": {
      "text/plain": [
       "(5, 176850)"
      ]
     },
     "execution_count": 63,
     "metadata": {},
     "output_type": "execute_result"
    }
   ],
   "source": [
    "poly = preprocessing.PolynomialFeatures(degree=3\n",
    "                        , include_bias=False)\n",
    "\n",
    "a = np.random.random((5, 100))\n",
    "poly.fit_transform(a).shape"
   ]
  },
  {
   "cell_type": "code",
   "execution_count": 67,
   "metadata": {},
   "outputs": [
    {
     "name": "stdout",
     "output_type": "stream",
     "text": [
      "rmse of training 0.37395748281705865\n",
      "rmse of test 0.3299381072855681\n",
      "r2 of training 0.834788529494612\n",
      "r2 of test 0.8705884967625366\n"
     ]
    }
   ],
   "source": [
    "target = \"charges\"\n",
    "y = np.log(df[target])\n",
    "#y = df[target]\n",
    "X = df.drop(columns=[target])\n",
    "X[\"age_group\"] = np.where(df.age>60, 1, 0)\n",
    "X[\"high_bmi\"] = np.where(df.bmi>30, 1, 0)\n",
    "# One hot encoding\n",
    "X_dummy = pd.get_dummies(X, drop_first=True)\n",
    "X_train, X_test, y_train, y_test = model_selection\\\n",
    ".train_test_split(X_dummy.values, y\n",
    "                , test_size = 0.3, random_state = 1)\n",
    "\n",
    "pipe = pipeline.Pipeline([\n",
    "    (\"poly\", preprocessing.PolynomialFeatures(degree=2\n",
    "                                    , include_bias=False)),\n",
    "    (\"scaler\", preprocessing.StandardScaler()),\n",
    "    (\"est\", linear_model.LinearRegression())\n",
    "])\n",
    "\n",
    "pipe.fit(X_train, y_train)\n",
    "\n",
    "y_train_pred = pipe.predict(X_train)\n",
    "y_test_pred = pipe.predict(X_test)\n",
    "\n",
    "rmse_test = metrics.mean_squared_error(y_test, y_test_pred) ** 0.5\n",
    "rmse_train = metrics.mean_squared_error(y_train, y_train_pred) ** 0.5\n",
    "\n",
    "r2_test = metrics.r2_score(y_test, y_test_pred)\n",
    "r2_train = metrics.r2_score(y_train, y_train_pred)\n",
    "\n",
    "print(\"rmse of training\", rmse_train)\n",
    "print(\"rmse of test\", rmse_test)\n",
    "print(\"r2 of training\", r2_train)\n",
    "print(\"r2 of test\", r2_test)\n"
   ]
  },
  {
   "cell_type": "code",
   "execution_count": null,
   "metadata": {},
   "outputs": [],
   "source": []
  }
 ],
 "metadata": {
  "kernelspec": {
   "display_name": "Python 3",
   "language": "python",
   "name": "python3"
  },
  "language_info": {
   "codemirror_mode": {
    "name": "ipython",
    "version": 3
   },
   "file_extension": ".py",
   "mimetype": "text/x-python",
   "name": "python",
   "nbconvert_exporter": "python",
   "pygments_lexer": "ipython3",
   "version": "3.6.8"
  }
 },
 "nbformat": 4,
 "nbformat_minor": 2
}
