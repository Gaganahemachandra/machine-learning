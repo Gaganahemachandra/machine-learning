{
 "cells": [
  {
   "cell_type": "code",
   "execution_count": 1,
   "metadata": {},
   "outputs": [],
   "source": [
    "import pandas as pd\n",
    "import json\n",
    "import nltk\n",
    "from bs4 import BeautifulSoup\n",
    "import re\n",
    "import numpy as np\n",
    "from sklearn import linear_model, \\\n",
    "            feature_extraction, preprocessing, metrics, ensemble\n",
    "import matplotlib.pyplot as plt\n",
    "import scipy\n",
    "\n",
    "np.set_printoptions(precision=4)\n",
    "\n",
    "%matplotlib inline "
   ]
  },
  {
   "cell_type": "markdown",
   "metadata": {},
   "source": [
    "Run the following once"
   ]
  },
  {
   "cell_type": "code",
   "execution_count": 2,
   "metadata": {},
   "outputs": [],
   "source": [
    "#nltk.download(\"punkt\", \"stopwords\")"
   ]
  },
  {
   "cell_type": "code",
   "execution_count": 3,
   "metadata": {},
   "outputs": [],
   "source": [
    "import requests\n",
    "url = \"https://raw.githubusercontent.com/abulbasar/machine-learning/master/Utils.py\"\n",
    "exec(requests.get(url).text)"
   ]
  },
  {
   "cell_type": "code",
   "execution_count": 4,
   "metadata": {},
   "outputs": [
    {
     "name": "stdout",
     "output_type": "stream",
     "text": [
      "3.2.5\n"
     ]
    }
   ],
   "source": [
    "print(nltk.__version__)"
   ]
  },
  {
   "cell_type": "code",
   "execution_count": 5,
   "metadata": {
    "scrolled": true
   },
   "outputs": [
    {
     "name": "stdout",
     "output_type": "stream",
     "text": [
      "{\"label\":\"test\",\"sentiment\":\"pos\",\"name\":\"0_10.txt\",\"content\":\"I went and saw this movie last night after being coaxed to by a few friends of mine. I'll admit that I was reluctant to see it because from what I knew of Ashton Kutcher he was only able to do comedy. I was wrong. Kutcher played the character of Jake Fischer very well, and Kevin Costner played Ben Randall with such professionalism. The sign of a good movie is that it can toy with our emotions. This one did exactly that. The entire theater (which was sold out) was overcome by laughter during the first half of the movie, and were moved to tears during the second half. While exiting the theater I not only saw many women in tears, but many full grown men as well, trying desperately not to let anyone see them crying. This movie was great, and I suggest that you go see it before you judge.\"}\r\n"
     ]
    }
   ],
   "source": [
    "!head -n 1 /data/imdb-comments.json"
   ]
  },
  {
   "cell_type": "code",
   "execution_count": 6,
   "metadata": {},
   "outputs": [],
   "source": [
    "data = []\n",
    "with open(\"/data/imdb-comments.json\", \"r\", encoding=\"utf8\") as f:\n",
    "    for l in f.readlines():\n",
    "        data.append(json.loads(l))    "
   ]
  },
  {
   "cell_type": "code",
   "execution_count": 7,
   "metadata": {},
   "outputs": [
    {
     "data": {
      "text/html": [
       "<div>\n",
       "<style scoped>\n",
       "    .dataframe tbody tr th:only-of-type {\n",
       "        vertical-align: middle;\n",
       "    }\n",
       "\n",
       "    .dataframe tbody tr th {\n",
       "        vertical-align: top;\n",
       "    }\n",
       "\n",
       "    .dataframe thead th {\n",
       "        text-align: right;\n",
       "    }\n",
       "</style>\n",
       "<table border=\"1\" class=\"dataframe\">\n",
       "  <thead>\n",
       "    <tr style=\"text-align: right;\">\n",
       "      <th></th>\n",
       "      <th>content</th>\n",
       "      <th>label</th>\n",
       "      <th>name</th>\n",
       "      <th>sentiment</th>\n",
       "    </tr>\n",
       "  </thead>\n",
       "  <tbody>\n",
       "    <tr>\n",
       "      <th>44814</th>\n",
       "      <td>A squashy slapstick mess posing as a comedy. E...</td>\n",
       "      <td>train</td>\n",
       "      <td>5333_4.txt</td>\n",
       "      <td>neg</td>\n",
       "    </tr>\n",
       "    <tr>\n",
       "      <th>13529</th>\n",
       "      <td>This conglomeration fails so miserably on ever...</td>\n",
       "      <td>test</td>\n",
       "      <td>10927_1.txt</td>\n",
       "      <td>neg</td>\n",
       "    </tr>\n",
       "    <tr>\n",
       "      <th>46942</th>\n",
       "      <td>This movie rivals \"Plan 9\" as one of the dumbe...</td>\n",
       "      <td>train</td>\n",
       "      <td>7249_1.txt</td>\n",
       "      <td>neg</td>\n",
       "    </tr>\n",
       "    <tr>\n",
       "      <th>43532</th>\n",
       "      <td>I get to the cinema every week or so, and regu...</td>\n",
       "      <td>train</td>\n",
       "      <td>417_1.txt</td>\n",
       "      <td>neg</td>\n",
       "    </tr>\n",
       "    <tr>\n",
       "      <th>26987</th>\n",
       "      <td>This might be the WWE's 2nd best PPV of the ye...</td>\n",
       "      <td>train</td>\n",
       "      <td>1178_10.txt</td>\n",
       "      <td>pos</td>\n",
       "    </tr>\n",
       "    <tr>\n",
       "      <th>21689</th>\n",
       "      <td>This movie was so awful, so boring, so badly m...</td>\n",
       "      <td>test</td>\n",
       "      <td>7020_1.txt</td>\n",
       "      <td>neg</td>\n",
       "    </tr>\n",
       "    <tr>\n",
       "      <th>17675</th>\n",
       "      <td>Solange is not a great Italian thriller. Get r...</td>\n",
       "      <td>test</td>\n",
       "      <td>3408_4.txt</td>\n",
       "      <td>neg</td>\n",
       "    </tr>\n",
       "    <tr>\n",
       "      <th>22839</th>\n",
       "      <td>I'm probably one of the few people who defend ...</td>\n",
       "      <td>test</td>\n",
       "      <td>8056_2.txt</td>\n",
       "      <td>neg</td>\n",
       "    </tr>\n",
       "    <tr>\n",
       "      <th>18708</th>\n",
       "      <td>Don't pay any attention to the rave reviews of...</td>\n",
       "      <td>test</td>\n",
       "      <td>4338_1.txt</td>\n",
       "      <td>neg</td>\n",
       "    </tr>\n",
       "    <tr>\n",
       "      <th>17550</th>\n",
       "      <td>A stupid show in the vein of the rest of them ...</td>\n",
       "      <td>test</td>\n",
       "      <td>3296_1.txt</td>\n",
       "      <td>neg</td>\n",
       "    </tr>\n",
       "  </tbody>\n",
       "</table>\n",
       "</div>"
      ],
      "text/plain": [
       "                                                 content  label         name  \\\n",
       "44814  A squashy slapstick mess posing as a comedy. E...  train   5333_4.txt   \n",
       "13529  This conglomeration fails so miserably on ever...   test  10927_1.txt   \n",
       "46942  This movie rivals \"Plan 9\" as one of the dumbe...  train   7249_1.txt   \n",
       "43532  I get to the cinema every week or so, and regu...  train    417_1.txt   \n",
       "26987  This might be the WWE's 2nd best PPV of the ye...  train  1178_10.txt   \n",
       "21689  This movie was so awful, so boring, so badly m...   test   7020_1.txt   \n",
       "17675  Solange is not a great Italian thriller. Get r...   test   3408_4.txt   \n",
       "22839  I'm probably one of the few people who defend ...   test   8056_2.txt   \n",
       "18708  Don't pay any attention to the rave reviews of...   test   4338_1.txt   \n",
       "17550  A stupid show in the vein of the rest of them ...   test   3296_1.txt   \n",
       "\n",
       "      sentiment  \n",
       "44814       neg  \n",
       "13529       neg  \n",
       "46942       neg  \n",
       "43532       neg  \n",
       "26987       pos  \n",
       "21689       neg  \n",
       "17675       neg  \n",
       "22839       neg  \n",
       "18708       neg  \n",
       "17550       neg  "
      ]
     },
     "execution_count": 7,
     "metadata": {},
     "output_type": "execute_result"
    }
   ],
   "source": [
    "comments = pd.DataFrame.from_dict(data)\n",
    "comments.sample(10)"
   ]
  },
  {
   "cell_type": "code",
   "execution_count": 8,
   "metadata": {},
   "outputs": [
    {
     "name": "stdout",
     "output_type": "stream",
     "text": [
      "<class 'pandas.core.frame.DataFrame'>\n",
      "RangeIndex: 50000 entries, 0 to 49999\n",
      "Data columns (total 4 columns):\n",
      "content      50000 non-null object\n",
      "label        50000 non-null object\n",
      "name         50000 non-null object\n",
      "sentiment    50000 non-null object\n",
      "dtypes: object(4)\n",
      "memory usage: 1.5+ MB\n"
     ]
    }
   ],
   "source": [
    "comments.info()"
   ]
  },
  {
   "cell_type": "code",
   "execution_count": 9,
   "metadata": {},
   "outputs": [
    {
     "data": {
      "text/plain": [
       "train    25000\n",
       "test     25000\n",
       "Name: label, dtype: int64"
      ]
     },
     "execution_count": 9,
     "metadata": {},
     "output_type": "execute_result"
    }
   ],
   "source": [
    "comments.label.value_counts()"
   ]
  },
  {
   "cell_type": "code",
   "execution_count": 10,
   "metadata": {},
   "outputs": [
    {
     "data": {
      "text/html": [
       "<div>\n",
       "<style scoped>\n",
       "    .dataframe tbody tr th:only-of-type {\n",
       "        vertical-align: middle;\n",
       "    }\n",
       "\n",
       "    .dataframe tbody tr th {\n",
       "        vertical-align: top;\n",
       "    }\n",
       "\n",
       "    .dataframe thead th {\n",
       "        text-align: right;\n",
       "    }\n",
       "</style>\n",
       "<table border=\"1\" class=\"dataframe\">\n",
       "  <thead>\n",
       "    <tr style=\"text-align: right;\">\n",
       "      <th>sentiment</th>\n",
       "      <th>neg</th>\n",
       "      <th>pos</th>\n",
       "    </tr>\n",
       "    <tr>\n",
       "      <th>label</th>\n",
       "      <th></th>\n",
       "      <th></th>\n",
       "    </tr>\n",
       "  </thead>\n",
       "  <tbody>\n",
       "    <tr>\n",
       "      <th>test</th>\n",
       "      <td>12500</td>\n",
       "      <td>12500</td>\n",
       "    </tr>\n",
       "    <tr>\n",
       "      <th>train</th>\n",
       "      <td>12500</td>\n",
       "      <td>12500</td>\n",
       "    </tr>\n",
       "  </tbody>\n",
       "</table>\n",
       "</div>"
      ],
      "text/plain": [
       "sentiment    neg    pos\n",
       "label                  \n",
       "test       12500  12500\n",
       "train      12500  12500"
      ]
     },
     "execution_count": 10,
     "metadata": {},
     "output_type": "execute_result"
    }
   ],
   "source": [
    "comments.groupby([\"label\", \"sentiment\"]).content.count().unstack()"
   ]
  },
  {
   "cell_type": "code",
   "execution_count": 11,
   "metadata": {},
   "outputs": [
    {
     "data": {
      "text/plain": [
       "'When we started watching this series on cable, I had no idea how addictive it would be. Even when you hate a character, you hold back because they are so beautifully developed, you can almost understand why they react to frustration, fear, greed or temptation the way they do. It\\'s almost as if the viewer is experiencing one of Christopher\\'s learning curves.<br /><br />I can\\'t understand why Adriana would put up with Christopher\\'s abuse of her, verbally, physically and emotionally, but I just have to read the newspaper to see how many women can and do tolerate such behavior. Carmella has a dream house, endless supply of expensive things, but I\\'m sure she would give it up for a loving and faithful husband - or maybe not. That\\'s why I watch.<br /><br />It doesn\\'t matter how many times you watch an episode, you can find something you missed the first five times. We even watch episodes out of sequence (watch season 1 on late night with commercials but all the language, A&E with language censored, reruns on the Movie Network) - whenever they\\'re on, we\\'re there. We\\'ve been totally spoiled now.<br /><br />I also love the Malaprop\\'s. \"An albacore around my neck\" is my favorite of Johnny Boy. When these jewels have entered our family vocabulary, it is a sign that I should get a life. I will when the series ends, and I have collected all the DVD\\'s, and put the collection in my will.'"
      ]
     },
     "execution_count": 11,
     "metadata": {},
     "output_type": "execute_result"
    }
   ],
   "source": [
    "np.random.seed(1)\n",
    "v = list(comments[\"content\"].sample(1))[0]\n",
    "v"
   ]
  },
  {
   "cell_type": "code",
   "execution_count": 12,
   "metadata": {
    "scrolled": false
   },
   "outputs": [
    {
     "data": {
      "text/plain": [
       "'when we started watching this series on cable i had no idea how addictive it would be even when you hate a character you hold back because they are so beautifully developed you can almost understand why they react to frustration fear greed or temptation the way they do it s almost as if the viewer is experiencing one of christopher s learning curves i can t understand why adriana would put up with christopher s abuse of her verbally physically and emotionally but i just have to read the newspaper to see how many women can and do tolerate such behavior carmella has a dream house endless supply of expensive things but i m sure she would give it up for a loving and faithful husband or maybe not that s why i watch it doesn t matter how many times you watch an episode you can find something you missed the first five times we even watch episodes out of sequence watch season 1 on late night with commercials but all the language a e with language censored reruns on the movie network whenever they re on we re there we ve been totally spoiled now i also love the malaprop s an albacore around my neck is my favorite of johnny boy when these jewels have entered our family vocabulary it is a sign that i should get a life i will when the series ends and i have collected all the dvd s and put the collection in my will '"
      ]
     },
     "execution_count": 12,
     "metadata": {},
     "output_type": "execute_result"
    }
   ],
   "source": [
    "def preprocess(text):\n",
    "    text = BeautifulSoup(text, \"html5lib\").text.lower() #removed html tags\n",
    "    text = re.sub(r\"[\\W]+\", \" \", text)\n",
    "    return text\n",
    "\n",
    "preprocess(v)"
   ]
  },
  {
   "cell_type": "code",
   "execution_count": 13,
   "metadata": {},
   "outputs": [
    {
     "name": "stdout",
     "output_type": "stream",
     "text": [
      "CPU times: user 1min 21s, sys: 418 ms, total: 1min 22s\n",
      "Wall time: 1min 22s\n"
     ]
    }
   ],
   "source": [
    "%%time\n",
    "comments[\"content\"] = comments[\"content\"].apply(preprocess)"
   ]
  },
  {
   "cell_type": "code",
   "execution_count": 14,
   "metadata": {},
   "outputs": [
    {
     "data": {
      "text/html": [
       "<div>\n",
       "<style scoped>\n",
       "    .dataframe tbody tr th:only-of-type {\n",
       "        vertical-align: middle;\n",
       "    }\n",
       "\n",
       "    .dataframe tbody tr th {\n",
       "        vertical-align: top;\n",
       "    }\n",
       "\n",
       "    .dataframe thead th {\n",
       "        text-align: right;\n",
       "    }\n",
       "</style>\n",
       "<table border=\"1\" class=\"dataframe\">\n",
       "  <thead>\n",
       "    <tr style=\"text-align: right;\">\n",
       "      <th></th>\n",
       "      <th>content</th>\n",
       "      <th>label</th>\n",
       "      <th>name</th>\n",
       "      <th>sentiment</th>\n",
       "    </tr>\n",
       "  </thead>\n",
       "  <tbody>\n",
       "    <tr>\n",
       "      <th>25496</th>\n",
       "      <td>there are many people in our lives that we mee...</td>\n",
       "      <td>train</td>\n",
       "      <td>10447_10.txt</td>\n",
       "      <td>pos</td>\n",
       "    </tr>\n",
       "    <tr>\n",
       "      <th>41520</th>\n",
       "      <td>sixth escapade for freddy krueger in which he ...</td>\n",
       "      <td>train</td>\n",
       "      <td>2369_4.txt</td>\n",
       "      <td>neg</td>\n",
       "    </tr>\n",
       "    <tr>\n",
       "      <th>48525</th>\n",
       "      <td>the first few minutes of the bodyguard do have...</td>\n",
       "      <td>train</td>\n",
       "      <td>8674_2.txt</td>\n",
       "      <td>neg</td>\n",
       "    </tr>\n",
       "    <tr>\n",
       "      <th>26037</th>\n",
       "      <td>after reviewing this intense martial arts movi...</td>\n",
       "      <td>train</td>\n",
       "      <td>10934_10.txt</td>\n",
       "      <td>pos</td>\n",
       "    </tr>\n",
       "    <tr>\n",
       "      <th>43823</th>\n",
       "      <td>triumph of love is proof that not every coméd...</td>\n",
       "      <td>train</td>\n",
       "      <td>4441_3.txt</td>\n",
       "      <td>neg</td>\n",
       "    </tr>\n",
       "    <tr>\n",
       "      <th>39666</th>\n",
       "      <td>this is without a doubt the worst movie i have...</td>\n",
       "      <td>train</td>\n",
       "      <td>11950_2.txt</td>\n",
       "      <td>neg</td>\n",
       "    </tr>\n",
       "    <tr>\n",
       "      <th>40882</th>\n",
       "      <td>i had the opportunity to preview this film as ...</td>\n",
       "      <td>train</td>\n",
       "      <td>1795_2.txt</td>\n",
       "      <td>neg</td>\n",
       "    </tr>\n",
       "    <tr>\n",
       "      <th>43156</th>\n",
       "      <td>roeg has done some great movies but this a tur...</td>\n",
       "      <td>train</td>\n",
       "      <td>3841_1.txt</td>\n",
       "      <td>neg</td>\n",
       "    </tr>\n",
       "    <tr>\n",
       "      <th>37185</th>\n",
       "      <td>possible spoiler in some way how to alienate f...</td>\n",
       "      <td>train</td>\n",
       "      <td>9718_7.txt</td>\n",
       "      <td>pos</td>\n",
       "    </tr>\n",
       "    <tr>\n",
       "      <th>40330</th>\n",
       "      <td>sogo ishii can be a skilled filmmaker under th...</td>\n",
       "      <td>train</td>\n",
       "      <td>1298_3.txt</td>\n",
       "      <td>neg</td>\n",
       "    </tr>\n",
       "  </tbody>\n",
       "</table>\n",
       "</div>"
      ],
      "text/plain": [
       "                                                 content  label          name  \\\n",
       "25496  there are many people in our lives that we mee...  train  10447_10.txt   \n",
       "41520  sixth escapade for freddy krueger in which he ...  train    2369_4.txt   \n",
       "48525  the first few minutes of the bodyguard do have...  train    8674_2.txt   \n",
       "26037  after reviewing this intense martial arts movi...  train  10934_10.txt   \n",
       "43823   triumph of love is proof that not every coméd...  train    4441_3.txt   \n",
       "39666  this is without a doubt the worst movie i have...  train   11950_2.txt   \n",
       "40882  i had the opportunity to preview this film as ...  train    1795_2.txt   \n",
       "43156  roeg has done some great movies but this a tur...  train    3841_1.txt   \n",
       "37185  possible spoiler in some way how to alienate f...  train    9718_7.txt   \n",
       "40330  sogo ishii can be a skilled filmmaker under th...  train    1298_3.txt   \n",
       "\n",
       "      sentiment  \n",
       "25496       pos  \n",
       "41520       neg  \n",
       "48525       neg  \n",
       "26037       pos  \n",
       "43823       neg  \n",
       "39666       neg  \n",
       "40882       neg  \n",
       "43156       neg  \n",
       "37185       pos  \n",
       "40330       neg  "
      ]
     },
     "execution_count": 14,
     "metadata": {},
     "output_type": "execute_result"
    }
   ],
   "source": [
    "comments_train = comments[comments[\"label\"] == \"train\"]\n",
    "comments_train.sample(10)"
   ]
  },
  {
   "cell_type": "code",
   "execution_count": 15,
   "metadata": {
    "scrolled": true
   },
   "outputs": [
    {
     "data": {
      "text/html": [
       "<div>\n",
       "<style scoped>\n",
       "    .dataframe tbody tr th:only-of-type {\n",
       "        vertical-align: middle;\n",
       "    }\n",
       "\n",
       "    .dataframe tbody tr th {\n",
       "        vertical-align: top;\n",
       "    }\n",
       "\n",
       "    .dataframe thead th {\n",
       "        text-align: right;\n",
       "    }\n",
       "</style>\n",
       "<table border=\"1\" class=\"dataframe\">\n",
       "  <thead>\n",
       "    <tr style=\"text-align: right;\">\n",
       "      <th></th>\n",
       "      <th>content</th>\n",
       "      <th>label</th>\n",
       "      <th>name</th>\n",
       "      <th>sentiment</th>\n",
       "    </tr>\n",
       "  </thead>\n",
       "  <tbody>\n",
       "    <tr>\n",
       "      <th>21277</th>\n",
       "      <td>this is one of those movies where i was rootin...</td>\n",
       "      <td>test</td>\n",
       "      <td>6650_1.txt</td>\n",
       "      <td>neg</td>\n",
       "    </tr>\n",
       "    <tr>\n",
       "      <th>12620</th>\n",
       "      <td>spoilersi m going to be as kind as i can about...</td>\n",
       "      <td>test</td>\n",
       "      <td>10108_1.txt</td>\n",
       "      <td>neg</td>\n",
       "    </tr>\n",
       "    <tr>\n",
       "      <th>4485</th>\n",
       "      <td>as a former erasmus student i enjoyed this fil...</td>\n",
       "      <td>test</td>\n",
       "      <td>2788_9.txt</td>\n",
       "      <td>pos</td>\n",
       "    </tr>\n",
       "    <tr>\n",
       "      <th>4744</th>\n",
       "      <td>francis ford coppola s masterpiece was a great...</td>\n",
       "      <td>test</td>\n",
       "      <td>301_10.txt</td>\n",
       "      <td>pos</td>\n",
       "    </tr>\n",
       "    <tr>\n",
       "      <th>10329</th>\n",
       "      <td>some of the reviewers here have foolishly judg...</td>\n",
       "      <td>test</td>\n",
       "      <td>8047_10.txt</td>\n",
       "      <td>pos</td>\n",
       "    </tr>\n",
       "    <tr>\n",
       "      <th>14366</th>\n",
       "      <td>this is by far one of the most pretentious fil...</td>\n",
       "      <td>test</td>\n",
       "      <td>11680_1.txt</td>\n",
       "      <td>neg</td>\n",
       "    </tr>\n",
       "    <tr>\n",
       "      <th>1007</th>\n",
       "      <td>this is truly a funny movie his dance scene do...</td>\n",
       "      <td>test</td>\n",
       "      <td>10907_8.txt</td>\n",
       "      <td>pos</td>\n",
       "    </tr>\n",
       "    <tr>\n",
       "      <th>4539</th>\n",
       "      <td>this film released in 1951 has the usual eleme...</td>\n",
       "      <td>test</td>\n",
       "      <td>2836_8.txt</td>\n",
       "      <td>pos</td>\n",
       "    </tr>\n",
       "    <tr>\n",
       "      <th>7864</th>\n",
       "      <td>one of the best tv shows out there if not the ...</td>\n",
       "      <td>test</td>\n",
       "      <td>5829_10.txt</td>\n",
       "      <td>pos</td>\n",
       "    </tr>\n",
       "    <tr>\n",
       "      <th>19582</th>\n",
       "      <td>this movie was jerry bruckheimer s idea to sel...</td>\n",
       "      <td>test</td>\n",
       "      <td>5124_4.txt</td>\n",
       "      <td>neg</td>\n",
       "    </tr>\n",
       "  </tbody>\n",
       "</table>\n",
       "</div>"
      ],
      "text/plain": [
       "                                                 content label         name  \\\n",
       "21277  this is one of those movies where i was rootin...  test   6650_1.txt   \n",
       "12620  spoilersi m going to be as kind as i can about...  test  10108_1.txt   \n",
       "4485   as a former erasmus student i enjoyed this fil...  test   2788_9.txt   \n",
       "4744   francis ford coppola s masterpiece was a great...  test   301_10.txt   \n",
       "10329  some of the reviewers here have foolishly judg...  test  8047_10.txt   \n",
       "14366  this is by far one of the most pretentious fil...  test  11680_1.txt   \n",
       "1007   this is truly a funny movie his dance scene do...  test  10907_8.txt   \n",
       "4539   this film released in 1951 has the usual eleme...  test   2836_8.txt   \n",
       "7864   one of the best tv shows out there if not the ...  test  5829_10.txt   \n",
       "19582  this movie was jerry bruckheimer s idea to sel...  test   5124_4.txt   \n",
       "\n",
       "      sentiment  \n",
       "21277       neg  \n",
       "12620       neg  \n",
       "4485        pos  \n",
       "4744        pos  \n",
       "10329       pos  \n",
       "14366       neg  \n",
       "1007        pos  \n",
       "4539        pos  \n",
       "7864        pos  \n",
       "19582       neg  "
      ]
     },
     "execution_count": 15,
     "metadata": {},
     "output_type": "execute_result"
    }
   ],
   "source": [
    "comments_test = comments[comments[\"label\"] == \"test\"]\n",
    "comments_test.sample(10)"
   ]
  },
  {
   "cell_type": "code",
   "execution_count": 16,
   "metadata": {},
   "outputs": [],
   "source": [
    "X_train = comments_train[\"content\"].values\n",
    "y_train = np.where(comments_train.sentiment == \"pos\", 1, 0)"
   ]
  },
  {
   "cell_type": "code",
   "execution_count": 17,
   "metadata": {},
   "outputs": [],
   "source": [
    "X_test = comments_test[\"content\"].values\n",
    "y_test = np.where(comments_test.sentiment == \"pos\", 1, 0)"
   ]
  },
  {
   "cell_type": "code",
   "execution_count": 18,
   "metadata": {},
   "outputs": [
    {
     "name": "stdout",
     "output_type": "stream",
     "text": [
      "revival reviv\n",
      "allowance allow\n",
      "inference infer\n",
      "relational relat\n"
     ]
    }
   ],
   "source": [
    "# http://snowball.tartarus.org/algorithms/porter/stemmer.html\n",
    "porter = nltk.stem.porter.PorterStemmer()\n",
    "for s in \"revival allowance inference relational\".split():\n",
    "    print(s, porter.stem(s))"
   ]
  },
  {
   "cell_type": "code",
   "execution_count": 19,
   "metadata": {},
   "outputs": [
    {
     "data": {
      "text/plain": [
       "['the', 'sun', 'shine', 'allow']"
      ]
     },
     "execution_count": 19,
     "metadata": {},
     "output_type": "execute_result"
    }
   ],
   "source": [
    "def my_tokenizer(s):\n",
    "    terms = [porter.stem(w) for w in nltk.word_tokenize(s)]\n",
    "    terms = [term for term in terms if len(term) > 2]\n",
    "    return terms \n",
    "my_tokenizer(\"The sun is shining. Allowance\")"
   ]
  },
  {
   "cell_type": "code",
   "execution_count": 20,
   "metadata": {},
   "outputs": [
    {
     "name": "stdout",
     "output_type": "stream",
     "text": [
      "TFIDF matrix: \n",
      " [[ 0.6809  0.5179  0.5179  0.      0.    ]\n",
      " [ 0.      0.      0.      0.7071  0.7071]\n",
      " [ 0.      0.5     0.5     0.5     0.5   ]]\n",
      "Vocabulary:  {'sun': 2, 'shine': 1, 'allow': 0, 'weather': 4, 'sweet': 3}\n",
      "Type of doc_term_matrix <class 'scipy.sparse.csr.csr_matrix'>\n"
     ]
    }
   ],
   "source": [
    "stop = nltk.corpus.stopwords.words(\"english\")\n",
    "tfidf = feature_extraction.text.TfidfVectorizer(tokenizer=my_tokenizer, \n",
    "                    ngram_range=(1, 1), stop_words = stop)\n",
    "\n",
    "docs = [\"The sun is shining allowance\", \n",
    "        \"The weather is sweet\", \n",
    "        \"the sun is shining and the weather is sweet\"]\n",
    "doc_term_matrix = tfidf.fit_transform(docs)\n",
    "print(\"TFIDF matrix: \\n\", doc_term_matrix.toarray())\n",
    "print(\"Vocabulary: \", tfidf.vocabulary_) \n",
    "print(\"Type of doc_term_matrix\", type(doc_term_matrix))\n",
    "# returns term and index in the feature matrix"
   ]
  },
  {
   "cell_type": "code",
   "execution_count": 21,
   "metadata": {},
   "outputs": [
    {
     "name": "stdout",
     "output_type": "stream",
     "text": [
      "CPU times: user 4min 36s, sys: 1.27 s, total: 4min 37s\n",
      "Wall time: 4min 40s\n"
     ]
    }
   ],
   "source": [
    "%%time\n",
    "X_train_tfidf = tfidf.fit_transform(X_train)\n",
    "X_test_tfidf = tfidf.transform(X_test)"
   ]
  },
  {
   "cell_type": "code",
   "execution_count": 22,
   "metadata": {},
   "outputs": [
    {
     "data": {
      "text/plain": [
       "((25000, 51575), (25000,), (25000, 51575), (25000,))"
      ]
     },
     "execution_count": 22,
     "metadata": {},
     "output_type": "execute_result"
    }
   ],
   "source": [
    "X_test_tfidf.shape, y_test.shape, X_train_tfidf.shape, y_train.shape"
   ]
  },
  {
   "cell_type": "markdown",
   "metadata": {},
   "source": [
    "Let's estimate the memory requirment if the data is presented in dense matrix format"
   ]
  },
  {
   "cell_type": "code",
   "execution_count": 23,
   "metadata": {},
   "outputs": [
    {
     "data": {
      "text/plain": [
       "4.8032961785793304"
      ]
     },
     "execution_count": 23,
     "metadata": {},
     "output_type": "execute_result"
    }
   ],
   "source": [
    "cell_count = X_test_tfidf.shape[0] * X_test_tfidf.shape[1]\n",
    "bytes = cell_count * 4 \n",
    "GBs = bytes / (1024 ** 3) \n",
    "GBs"
   ]
  },
  {
   "cell_type": "code",
   "execution_count": 24,
   "metadata": {},
   "outputs": [
    {
     "data": {
      "text/plain": [
       "0.9981450679592826"
      ]
     },
     "execution_count": 24,
     "metadata": {},
     "output_type": "execute_result"
    }
   ],
   "source": [
    "sparsity = 1 - X_train_tfidf.count_nonzero() / cell_count\n",
    "sparsity"
   ]
  },
  {
   "cell_type": "code",
   "execution_count": 25,
   "metadata": {},
   "outputs": [
    {
     "data": {
      "text/plain": [
       "0.9981450679592826"
      ]
     },
     "execution_count": 25,
     "metadata": {},
     "output_type": "execute_result"
    }
   ],
   "source": [
    "1 - X_train_tfidf.nnz / cell_count"
   ]
  },
  {
   "cell_type": "markdown",
   "metadata": {},
   "source": [
    "# Important terms for a document "
   ]
  },
  {
   "cell_type": "code",
   "execution_count": 26,
   "metadata": {
    "scrolled": false
   },
   "outputs": [
    {
     "name": "stdout",
     "output_type": "stream",
     "text": [
      "Total important terms 51575\n"
     ]
    },
    {
     "data": {
      "text/html": [
       "<div>\n",
       "<style scoped>\n",
       "    .dataframe tbody tr th:only-of-type {\n",
       "        vertical-align: middle;\n",
       "    }\n",
       "\n",
       "    .dataframe tbody tr th {\n",
       "        vertical-align: top;\n",
       "    }\n",
       "\n",
       "    .dataframe thead th {\n",
       "        text-align: right;\n",
       "    }\n",
       "</style>\n",
       "<table border=\"1\" class=\"dataframe\">\n",
       "  <thead>\n",
       "    <tr style=\"text-align: right;\">\n",
       "      <th></th>\n",
       "      <th>index</th>\n",
       "      <th>avg_score</th>\n",
       "    </tr>\n",
       "  </thead>\n",
       "  <tbody>\n",
       "    <tr>\n",
       "      <th>45462</th>\n",
       "      <td>thi</td>\n",
       "      <td>0.059450</td>\n",
       "    </tr>\n",
       "    <tr>\n",
       "      <th>30504</th>\n",
       "      <td>movi</td>\n",
       "      <td>0.056073</td>\n",
       "    </tr>\n",
       "    <tr>\n",
       "      <th>16323</th>\n",
       "      <td>film</td>\n",
       "      <td>0.046674</td>\n",
       "    </tr>\n",
       "    <tr>\n",
       "      <th>32618</th>\n",
       "      <td>one</td>\n",
       "      <td>0.027810</td>\n",
       "    </tr>\n",
       "    <tr>\n",
       "      <th>26512</th>\n",
       "      <td>like</td>\n",
       "      <td>0.025316</td>\n",
       "    </tr>\n",
       "    <tr>\n",
       "      <th>18848</th>\n",
       "      <td>good</td>\n",
       "      <td>0.021175</td>\n",
       "    </tr>\n",
       "    <tr>\n",
       "      <th>49581</th>\n",
       "      <td>watch</td>\n",
       "      <td>0.021125</td>\n",
       "    </tr>\n",
       "    <tr>\n",
       "      <th>45789</th>\n",
       "      <td>time</td>\n",
       "      <td>0.020271</td>\n",
       "    </tr>\n",
       "    <tr>\n",
       "      <th>48770</th>\n",
       "      <td>veri</td>\n",
       "      <td>0.019545</td>\n",
       "    </tr>\n",
       "    <tr>\n",
       "      <th>40066</th>\n",
       "      <td>see</td>\n",
       "      <td>0.019145</td>\n",
       "    </tr>\n",
       "  </tbody>\n",
       "</table>\n",
       "</div>"
      ],
      "text/plain": [
       "       index  avg_score\n",
       "45462    thi   0.059450\n",
       "30504   movi   0.056073\n",
       "16323   film   0.046674\n",
       "32618    one   0.027810\n",
       "26512   like   0.025316\n",
       "18848   good   0.021175\n",
       "49581  watch   0.021125\n",
       "45789   time   0.020271\n",
       "48770   veri   0.019545\n",
       "40066    see   0.019145"
      ]
     },
     "execution_count": 26,
     "metadata": {},
     "output_type": "execute_result"
    }
   ],
   "source": [
    "doc_index = 0\n",
    "terms = pd.DataFrame({\"term\": pd.Series(tfidf.vocabulary_), \n",
    "    \"avg_score\": np.array(scipy.sparse.csc_matrix.mean(X_train_tfidf, \n",
    "                                    axis=0))[doc_index, :]})\n",
    "terms= terms.reset_index()\n",
    "terms = terms.sort_values(\"avg_score\", ascending = False)\n",
    "del terms[\"term\"]\n",
    "print(\"Total important terms\", terms.shape[0])\n",
    "terms.head(10)"
   ]
  },
  {
   "cell_type": "code",
   "execution_count": 27,
   "metadata": {},
   "outputs": [
    {
     "data": {
      "image/png": "[encoded data removed]",
      "text/plain": [
       "<matplotlib.figure.Figure at 0x1a13e3f208>"
      ]
     },
     "metadata": {},
     "output_type": "display_data"
    }
   ],
   "source": [
    "plt.figure(figsize=(10, 4))\n",
    "plt.subplot(1, 2, 1)\n",
    "plt.hist(X_train_tfidf.data, bins = 100);\n",
    "plt.title(\"Train: %d\" % (len(X_train_tfidf.data)))\n",
    "plt.subplot(1, 2, 2)\n",
    "plt.hist(X_test_tfidf.data, bins = 100)\n",
    "plt.title(\"Test: %d\" % (len(X_test_tfidf.data)))\n",
    "plt.tight_layout()"
   ]
  },
  {
   "cell_type": "code",
   "execution_count": 28,
   "metadata": {},
   "outputs": [
    {
     "name": "stdout",
     "output_type": "stream",
     "text": [
      "accuracy:  0.87848\n",
      "CPU times: user 944 ms, sys: 12.5 ms, total: 956 ms\n",
      "Wall time: 957 ms\n"
     ]
    }
   ],
   "source": [
    "%%time\n",
    "lr = linear_model.LogisticRegression(C = 1, \n",
    "                random_state = 0, n_jobs = 8, solver=\"saga\")\n",
    "lr.fit(X_train_tfidf, y_train)\n",
    "y_test_pred = lr.predict(X_test_tfidf)\n",
    "print(\"accuracy: \", metrics.accuracy_score(y_test, y_test_pred))"
   ]
  },
  {
   "cell_type": "code",
   "execution_count": 29,
   "metadata": {},
   "outputs": [
    {
     "data": {
      "image/png": "[encoded data removed]",
      "text/plain": [
       "<matplotlib.figure.Figure at 0x1a13752f98>"
      ]
     },
     "metadata": {},
     "output_type": "display_data"
    }
   ],
   "source": [
    "fpr, tpr, thresholds = metrics.roc_curve(y_test, lr.predict_proba(X_test_tfidf)[:, [1]])\n",
    "auc = metrics.auc(fpr, tpr)\n",
    "\n",
    "plt.plot(fpr, tpr)\n",
    "plt.ylim(0, 1)\n",
    "plt.xlim(0, 1)\n",
    "plt.plot([0,1], [0,1], ls = \"--\", color = \"k\")\n",
    "plt.xlabel(\"False Postive Rate\")\n",
    "plt.ylabel(\"True Positive Rate\")\n",
    "plt.title(\"ROC Curve, auc: %.4f\" % auc);"
   ]
  },
  {
   "cell_type": "code",
   "execution_count": 30,
   "metadata": {},
   "outputs": [
    {
     "name": "stdout",
     "output_type": "stream",
     "text": [
      "accuracy:  0.8224\n",
      "CPU times: user 42.3 ms, sys: 4.57 ms, total: 46.8 ms\n",
      "Wall time: 45.3 ms\n"
     ]
    }
   ],
   "source": [
    "%%time\n",
    "from sklearn.naive_bayes import MultinomialNB\n",
    "bayes = MultinomialNB(alpha=1)\n",
    "bayes.fit(X_train_tfidf, y_train)\n",
    "print(\"accuracy: \", bayes.score(X_test_tfidf, y_test))"
   ]
  },
  {
   "cell_type": "code",
   "execution_count": null,
   "metadata": {},
   "outputs": [],
   "source": []
  }
 ],
 "metadata": {
  "kernelspec": {
   "display_name": "Python 3",
   "language": "python",
   "name": "python3"
  },
  "language_info": {
   "codemirror_mode": {
    "name": "ipython",
    "version": 3
   },
   "file_extension": ".py",
   "mimetype": "text/x-python",
   "name": "python",
   "nbconvert_exporter": "python",
   "pygments_lexer": "ipython3",
   "version": "3.6.4"
  }
 },
 "nbformat": 4,
 "nbformat_minor": 1
}
