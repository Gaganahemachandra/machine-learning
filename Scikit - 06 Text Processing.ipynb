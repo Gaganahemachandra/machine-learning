{
 "cells": [
  {
   "cell_type": "code",
   "execution_count": 1,
   "metadata": {},
   "outputs": [
    {
     "name": "stderr",
     "output_type": "stream",
     "text": [
      "/Users/abulbasar/anaconda3/lib/python3.6/site-packages/sklearn/cross_validation.py:41: DeprecationWarning: This module was deprecated in version 0.18 in favor of the model_selection module into which all the refactored classes and functions are moved. Also note that the interface of the new CV iterators are different from that of this module. This module will be removed in 0.20.\n",
      "  \"This module will be removed in 0.20.\", DeprecationWarning)\n",
      "/Users/abulbasar/anaconda3/lib/python3.6/site-packages/sklearn/grid_search.py:42: DeprecationWarning: This module was deprecated in version 0.18 in favor of the model_selection module into which all the refactored classes and functions are moved. This module will be removed in 0.20.\n",
      "  DeprecationWarning)\n",
      "/Users/abulbasar/anaconda3/lib/python3.6/site-packages/sklearn/learning_curve.py:22: DeprecationWarning: This module was deprecated in version 0.18 in favor of the model_selection module into which all the functions are moved. This module will be removed in 0.20\n",
      "  DeprecationWarning)\n"
     ]
    }
   ],
   "source": [
    "import pandas as pd # Used for dataframe functions\n",
    "import json # parse json string\n",
    "import nltk # Natural language toolkit for TDIDF etc.\n",
    "from bs4 import BeautifulSoup # Parse html string .. to extract text\n",
    "import re # Regex parser \n",
    "import numpy as np # Linear algebbra \n",
    "from sklearn import * # machine learning\n",
    "import matplotlib.pyplot as plt # Visualization\n",
    "from wordcloud import WordCloud # Word cloud visualization\n",
    "import scipy #Sparse matrix \n",
    "\n",
    "np.set_printoptions(precision=4)\n",
    "pd.options.display.max_columns = 1000\n",
    "pd.options.display.max_rows = 10\n",
    "pd.options.display.float_format = lambda f: \"%.4f\" % f\n",
    "\n",
    "%matplotlib inline "
   ]
  },
  {
   "cell_type": "markdown",
   "metadata": {},
   "source": [
    "Run the following line when you run the notebook first time."
   ]
  },
  {
   "cell_type": "code",
   "execution_count": 2,
   "metadata": {},
   "outputs": [],
   "source": [
    "# nltk.download(\"punkt\")\n",
    "# nltk.download(\"stopwords\")"
   ]
  },
  {
   "cell_type": "code",
   "execution_count": 3,
   "metadata": {},
   "outputs": [],
   "source": [
    "#import requests\n",
    "#url = \"https://raw.githubusercontent.com/abulbasar/machine-learning/master/Utils.py\"\n",
    "#exec(requests.get(url).text)"
   ]
  },
  {
   "cell_type": "code",
   "execution_count": 4,
   "metadata": {},
   "outputs": [
    {
     "name": "stdout",
     "output_type": "stream",
     "text": [
      "3.2.5\n"
     ]
    }
   ],
   "source": [
    "print(nltk.__version__)"
   ]
  },
  {
   "cell_type": "code",
   "execution_count": 5,
   "metadata": {
    "scrolled": true
   },
   "outputs": [
    {
     "name": "stdout",
     "output_type": "stream",
     "text": [
      "{\"label\":\"test\",\"sentiment\":\"pos\",\"name\":\"0_10.txt\",\"content\":\"I went and saw this movie last night after being coaxed to by a few friends of mine. I'll admit that I was reluctant to see it because from what I knew of Ashton Kutcher he was only able to do comedy. I was wrong. Kutcher played the character of Jake Fischer very well, and Kevin Costner played Ben Randall with such professionalism. The sign of a good movie is that it can toy with our emotions. This one did exactly that. The entire theater (which was sold out) was overcome by laughter during the first half of the movie, and were moved to tears during the second half. While exiting the theater I not only saw many women in tears, but many full grown men as well, trying desperately not to let anyone see them crying. This movie was great, and I suggest that you go see it before you judge.\"}\r\n"
     ]
    }
   ],
   "source": [
    "# The following line does not work on Windows system\n",
    "!head -n 1 /data/imdb-comments.json"
   ]
  },
  {
   "cell_type": "code",
   "execution_count": 6,
   "metadata": {},
   "outputs": [],
   "source": [
    "data = []\n",
    "with open(\"/data/imdb-comments.json\", \"r\", encoding=\"utf8\") as f:\n",
    "    for l in f.readlines():\n",
    "        data.append(json.loads(l))    "
   ]
  },
  {
   "cell_type": "code",
   "execution_count": 7,
   "metadata": {
    "scrolled": true
   },
   "outputs": [
    {
     "data": {
      "text/html": [
       "<div>\n",
       "<style scoped>\n",
       "    .dataframe tbody tr th:only-of-type {\n",
       "        vertical-align: middle;\n",
       "    }\n",
       "\n",
       "    .dataframe tbody tr th {\n",
       "        vertical-align: top;\n",
       "    }\n",
       "\n",
       "    .dataframe thead th {\n",
       "        text-align: right;\n",
       "    }\n",
       "</style>\n",
       "<table border=\"1\" class=\"dataframe\">\n",
       "  <thead>\n",
       "    <tr style=\"text-align: right;\">\n",
       "      <th></th>\n",
       "      <th>content</th>\n",
       "      <th>label</th>\n",
       "      <th>name</th>\n",
       "      <th>sentiment</th>\n",
       "    </tr>\n",
       "  </thead>\n",
       "  <tbody>\n",
       "    <tr>\n",
       "      <th>49966</th>\n",
       "      <td>I can't for the life of me remember why--I mus...</td>\n",
       "      <td>train</td>\n",
       "      <td>9971_1.txt</td>\n",
       "      <td>neg</td>\n",
       "    </tr>\n",
       "    <tr>\n",
       "      <th>1556</th>\n",
       "      <td>This is not so much of a review as it is a tes...</td>\n",
       "      <td>test</td>\n",
       "      <td>11400_8.txt</td>\n",
       "      <td>pos</td>\n",
       "    </tr>\n",
       "    <tr>\n",
       "      <th>48107</th>\n",
       "      <td>This movie was not very entertaining, certainl...</td>\n",
       "      <td>train</td>\n",
       "      <td>8298_1.txt</td>\n",
       "      <td>neg</td>\n",
       "    </tr>\n",
       "    <tr>\n",
       "      <th>20509</th>\n",
       "      <td>Let's see, cardboard characters like Muslim te...</td>\n",
       "      <td>test</td>\n",
       "      <td>595_1.txt</td>\n",
       "      <td>neg</td>\n",
       "    </tr>\n",
       "    <tr>\n",
       "      <th>23010</th>\n",
       "      <td>I like Ali G's show, I believe the guy has com...</td>\n",
       "      <td>test</td>\n",
       "      <td>820_1.txt</td>\n",
       "      <td>neg</td>\n",
       "    </tr>\n",
       "    <tr>\n",
       "      <th>725</th>\n",
       "      <td>the movie touches the soul of the audience ver...</td>\n",
       "      <td>test</td>\n",
       "      <td>10653_10.txt</td>\n",
       "      <td>pos</td>\n",
       "    </tr>\n",
       "    <tr>\n",
       "      <th>27840</th>\n",
       "      <td>An unusually straight-faced actioner played by...</td>\n",
       "      <td>train</td>\n",
       "      <td>1306_7.txt</td>\n",
       "      <td>pos</td>\n",
       "    </tr>\n",
       "    <tr>\n",
       "      <th>30236</th>\n",
       "      <td>I am a big Beatles fan. My favorite Beatle is ...</td>\n",
       "      <td>train</td>\n",
       "      <td>3463_7.txt</td>\n",
       "      <td>pos</td>\n",
       "    </tr>\n",
       "    <tr>\n",
       "      <th>49838</th>\n",
       "      <td>In the autobiographical coming-of-age tale \"Ro...</td>\n",
       "      <td>train</td>\n",
       "      <td>9856_4.txt</td>\n",
       "      <td>neg</td>\n",
       "    </tr>\n",
       "    <tr>\n",
       "      <th>3744</th>\n",
       "      <td>Having long disdained network television progr...</td>\n",
       "      <td>test</td>\n",
       "      <td>211_10.txt</td>\n",
       "      <td>pos</td>\n",
       "    </tr>\n",
       "  </tbody>\n",
       "</table>\n",
       "</div>"
      ],
      "text/plain": [
       "                                                 content  label          name  \\\n",
       "49966  I can't for the life of me remember why--I mus...  train    9971_1.txt   \n",
       "1556   This is not so much of a review as it is a tes...   test   11400_8.txt   \n",
       "48107  This movie was not very entertaining, certainl...  train    8298_1.txt   \n",
       "20509  Let's see, cardboard characters like Muslim te...   test     595_1.txt   \n",
       "23010  I like Ali G's show, I believe the guy has com...   test     820_1.txt   \n",
       "725    the movie touches the soul of the audience ver...   test  10653_10.txt   \n",
       "27840  An unusually straight-faced actioner played by...  train    1306_7.txt   \n",
       "30236  I am a big Beatles fan. My favorite Beatle is ...  train    3463_7.txt   \n",
       "49838  In the autobiographical coming-of-age tale \"Ro...  train    9856_4.txt   \n",
       "3744   Having long disdained network television progr...   test    211_10.txt   \n",
       "\n",
       "      sentiment  \n",
       "49966       neg  \n",
       "1556        pos  \n",
       "48107       neg  \n",
       "20509       neg  \n",
       "23010       neg  \n",
       "725         pos  \n",
       "27840       pos  \n",
       "30236       pos  \n",
       "49838       neg  \n",
       "3744        pos  "
      ]
     },
     "execution_count": 7,
     "metadata": {},
     "output_type": "execute_result"
    }
   ],
   "source": [
    "comments = pd.DataFrame.from_dict(data)\n",
    "comments.sample(10)"
   ]
  },
  {
   "cell_type": "code",
   "execution_count": 8,
   "metadata": {},
   "outputs": [
    {
     "name": "stdout",
     "output_type": "stream",
     "text": [
      "<class 'pandas.core.frame.DataFrame'>\n",
      "RangeIndex: 50000 entries, 0 to 49999\n",
      "Data columns (total 4 columns):\n",
      "content      50000 non-null object\n",
      "label        50000 non-null object\n",
      "name         50000 non-null object\n",
      "sentiment    50000 non-null object\n",
      "dtypes: object(4)\n",
      "memory usage: 1.5+ MB\n"
     ]
    }
   ],
   "source": [
    "comments.info()"
   ]
  },
  {
   "cell_type": "code",
   "execution_count": 9,
   "metadata": {},
   "outputs": [
    {
     "data": {
      "text/plain": [
       "test     25000\n",
       "train    25000\n",
       "Name: label, dtype: int64"
      ]
     },
     "execution_count": 9,
     "metadata": {},
     "output_type": "execute_result"
    }
   ],
   "source": [
    "comments.label.value_counts()"
   ]
  },
  {
   "cell_type": "code",
   "execution_count": 10,
   "metadata": {},
   "outputs": [
    {
     "data": {
      "text/html": [
       "<div>\n",
       "<style scoped>\n",
       "    .dataframe tbody tr th:only-of-type {\n",
       "        vertical-align: middle;\n",
       "    }\n",
       "\n",
       "    .dataframe tbody tr th {\n",
       "        vertical-align: top;\n",
       "    }\n",
       "\n",
       "    .dataframe thead th {\n",
       "        text-align: right;\n",
       "    }\n",
       "</style>\n",
       "<table border=\"1\" class=\"dataframe\">\n",
       "  <thead>\n",
       "    <tr style=\"text-align: right;\">\n",
       "      <th>sentiment</th>\n",
       "      <th>neg</th>\n",
       "      <th>pos</th>\n",
       "    </tr>\n",
       "    <tr>\n",
       "      <th>label</th>\n",
       "      <th></th>\n",
       "      <th></th>\n",
       "    </tr>\n",
       "  </thead>\n",
       "  <tbody>\n",
       "    <tr>\n",
       "      <th>test</th>\n",
       "      <td>12500</td>\n",
       "      <td>12500</td>\n",
       "    </tr>\n",
       "    <tr>\n",
       "      <th>train</th>\n",
       "      <td>12500</td>\n",
       "      <td>12500</td>\n",
       "    </tr>\n",
       "  </tbody>\n",
       "</table>\n",
       "</div>"
      ],
      "text/plain": [
       "sentiment    neg    pos\n",
       "label                  \n",
       "test       12500  12500\n",
       "train      12500  12500"
      ]
     },
     "execution_count": 10,
     "metadata": {},
     "output_type": "execute_result"
    }
   ],
   "source": [
    "comments.groupby([\"label\", \"sentiment\"]).content.count().unstack()"
   ]
  },
  {
   "cell_type": "code",
   "execution_count": 11,
   "metadata": {},
   "outputs": [
    {
     "data": {
      "text/plain": [
       "'When we started watching this series on cable, I had no idea how addictive it would be. Even when you hate a character, you hold back because they are so beautifully developed, you can almost understand why they react to frustration, fear, greed or temptation the way they do. It\\'s almost as if the viewer is experiencing one of Christopher\\'s learning curves.<br /><br />I can\\'t understand why Adriana would put up with Christopher\\'s abuse of her, verbally, physically and emotionally, but I just have to read the newspaper to see how many women can and do tolerate such behavior. Carmella has a dream house, endless supply of expensive things, but I\\'m sure she would give it up for a loving and faithful husband - or maybe not. That\\'s why I watch.<br /><br />It doesn\\'t matter how many times you watch an episode, you can find something you missed the first five times. We even watch episodes out of sequence (watch season 1 on late night with commercials but all the language, A&E with language censored, reruns on the Movie Network) - whenever they\\'re on, we\\'re there. We\\'ve been totally spoiled now.<br /><br />I also love the Malaprop\\'s. \"An albacore around my neck\" is my favorite of Johnny Boy. When these jewels have entered our family vocabulary, it is a sign that I should get a life. I will when the series ends, and I have collected all the DVD\\'s, and put the collection in my will.'"
      ]
     },
     "execution_count": 11,
     "metadata": {},
     "output_type": "execute_result"
    }
   ],
   "source": [
    "np.random.seed(1)\n",
    "v = list(comments[\"content\"].sample(1))[0]\n",
    "v"
   ]
  },
  {
   "cell_type": "code",
   "execution_count": 12,
   "metadata": {
    "scrolled": false
   },
   "outputs": [
    {
     "data": {
      "text/plain": [
       "'when we started watching this series on cable i had no idea how addictive it would be even when you hate a character you hold back because they are so beautifully developed you can almost understand why they react to frustration fear greed or temptation the way they do it s almost as if the viewer is experiencing one of christopher s learning curves i can t understand why adriana would put up with christopher s abuse of her verbally physically and emotionally but i just have to read the newspaper to see how many women can and do tolerate such behavior carmella has a dream house endless supply of expensive things but i m sure she would give it up for a loving and faithful husband or maybe not that s why i watch it doesn t matter how many times you watch an episode you can find something you missed the first five times we even watch episodes out of sequence watch season 1 on late night with commercials but all the language a e with language censored reruns on the movie network whenever they re on we re there we ve been totally spoiled now i also love the malaprop s an albacore around my neck is my favorite of johnny boy when these jewels have entered our family vocabulary it is a sign that i should get a life i will when the series ends and i have collected all the dvd s and put the collection in my will '"
      ]
     },
     "execution_count": 12,
     "metadata": {},
     "output_type": "execute_result"
    }
   ],
   "source": [
    "def preprocess(text):\n",
    "    \n",
    "    # Remove html tags\n",
    "    text = BeautifulSoup(text.lower(), \"html5lib\").text \n",
    "    \n",
    "    # Replace the occurrences of multiple consecutive whilespaces \n",
    "    # with a single space (\" \")\n",
    "    text = re.sub(r\"[\\W]+\", \" \", text)\n",
    "    return text\n",
    "\n",
    "preprocess(v)"
   ]
  },
  {
   "cell_type": "code",
   "execution_count": 13,
   "metadata": {},
   "outputs": [
    {
     "name": "stdout",
     "output_type": "stream",
     "text": [
      "CPU times: user 1min 19s, sys: 271 ms, total: 1min 19s\n",
      "Wall time: 1min 20s\n"
     ]
    }
   ],
   "source": [
    "%%time\n",
    "# Apply the preprocessing logic to all comments\n",
    "comments[\"content\"] = comments[\"content\"].apply(preprocess)"
   ]
  },
  {
   "cell_type": "code",
   "execution_count": 14,
   "metadata": {},
   "outputs": [
    {
     "data": {
      "text/html": [
       "<div>\n",
       "<style scoped>\n",
       "    .dataframe tbody tr th:only-of-type {\n",
       "        vertical-align: middle;\n",
       "    }\n",
       "\n",
       "    .dataframe tbody tr th {\n",
       "        vertical-align: top;\n",
       "    }\n",
       "\n",
       "    .dataframe thead th {\n",
       "        text-align: right;\n",
       "    }\n",
       "</style>\n",
       "<table border=\"1\" class=\"dataframe\">\n",
       "  <thead>\n",
       "    <tr style=\"text-align: right;\">\n",
       "      <th></th>\n",
       "      <th>content</th>\n",
       "      <th>label</th>\n",
       "      <th>name</th>\n",
       "      <th>sentiment</th>\n",
       "    </tr>\n",
       "  </thead>\n",
       "  <tbody>\n",
       "    <tr>\n",
       "      <th>25496</th>\n",
       "      <td>there are many people in our lives that we mee...</td>\n",
       "      <td>train</td>\n",
       "      <td>10447_10.txt</td>\n",
       "      <td>pos</td>\n",
       "    </tr>\n",
       "    <tr>\n",
       "      <th>41520</th>\n",
       "      <td>sixth escapade for freddy krueger in which he ...</td>\n",
       "      <td>train</td>\n",
       "      <td>2369_4.txt</td>\n",
       "      <td>neg</td>\n",
       "    </tr>\n",
       "    <tr>\n",
       "      <th>48525</th>\n",
       "      <td>the first few minutes of the bodyguard do have...</td>\n",
       "      <td>train</td>\n",
       "      <td>8674_2.txt</td>\n",
       "      <td>neg</td>\n",
       "    </tr>\n",
       "    <tr>\n",
       "      <th>26037</th>\n",
       "      <td>after reviewing this intense martial arts movi...</td>\n",
       "      <td>train</td>\n",
       "      <td>10934_10.txt</td>\n",
       "      <td>pos</td>\n",
       "    </tr>\n",
       "    <tr>\n",
       "      <th>43823</th>\n",
       "      <td>triumph of love is proof that not every coméd...</td>\n",
       "      <td>train</td>\n",
       "      <td>4441_3.txt</td>\n",
       "      <td>neg</td>\n",
       "    </tr>\n",
       "    <tr>\n",
       "      <th>39666</th>\n",
       "      <td>this is without a doubt the worst movie i have...</td>\n",
       "      <td>train</td>\n",
       "      <td>11950_2.txt</td>\n",
       "      <td>neg</td>\n",
       "    </tr>\n",
       "    <tr>\n",
       "      <th>40882</th>\n",
       "      <td>i had the opportunity to preview this film as ...</td>\n",
       "      <td>train</td>\n",
       "      <td>1795_2.txt</td>\n",
       "      <td>neg</td>\n",
       "    </tr>\n",
       "    <tr>\n",
       "      <th>43156</th>\n",
       "      <td>roeg has done some great movies but this a tur...</td>\n",
       "      <td>train</td>\n",
       "      <td>3841_1.txt</td>\n",
       "      <td>neg</td>\n",
       "    </tr>\n",
       "    <tr>\n",
       "      <th>37185</th>\n",
       "      <td>possible spoiler in some way how to alienate f...</td>\n",
       "      <td>train</td>\n",
       "      <td>9718_7.txt</td>\n",
       "      <td>pos</td>\n",
       "    </tr>\n",
       "    <tr>\n",
       "      <th>40330</th>\n",
       "      <td>sogo ishii can be a skilled filmmaker under th...</td>\n",
       "      <td>train</td>\n",
       "      <td>1298_3.txt</td>\n",
       "      <td>neg</td>\n",
       "    </tr>\n",
       "  </tbody>\n",
       "</table>\n",
       "</div>"
      ],
      "text/plain": [
       "                                                 content  label          name  \\\n",
       "25496  there are many people in our lives that we mee...  train  10447_10.txt   \n",
       "41520  sixth escapade for freddy krueger in which he ...  train    2369_4.txt   \n",
       "48525  the first few minutes of the bodyguard do have...  train    8674_2.txt   \n",
       "26037  after reviewing this intense martial arts movi...  train  10934_10.txt   \n",
       "43823   triumph of love is proof that not every coméd...  train    4441_3.txt   \n",
       "39666  this is without a doubt the worst movie i have...  train   11950_2.txt   \n",
       "40882  i had the opportunity to preview this film as ...  train    1795_2.txt   \n",
       "43156  roeg has done some great movies but this a tur...  train    3841_1.txt   \n",
       "37185  possible spoiler in some way how to alienate f...  train    9718_7.txt   \n",
       "40330  sogo ishii can be a skilled filmmaker under th...  train    1298_3.txt   \n",
       "\n",
       "      sentiment  \n",
       "25496       pos  \n",
       "41520       neg  \n",
       "48525       neg  \n",
       "26037       pos  \n",
       "43823       neg  \n",
       "39666       neg  \n",
       "40882       neg  \n",
       "43156       neg  \n",
       "37185       pos  \n",
       "40330       neg  "
      ]
     },
     "execution_count": 14,
     "metadata": {},
     "output_type": "execute_result"
    }
   ],
   "source": [
    "comments_train = comments[comments[\"label\"] == \"train\"]\n",
    "comments_train.sample(10)"
   ]
  },
  {
   "cell_type": "code",
   "execution_count": 15,
   "metadata": {
    "scrolled": true
   },
   "outputs": [
    {
     "data": {
      "text/html": [
       "<div>\n",
       "<style scoped>\n",
       "    .dataframe tbody tr th:only-of-type {\n",
       "        vertical-align: middle;\n",
       "    }\n",
       "\n",
       "    .dataframe tbody tr th {\n",
       "        vertical-align: top;\n",
       "    }\n",
       "\n",
       "    .dataframe thead th {\n",
       "        text-align: right;\n",
       "    }\n",
       "</style>\n",
       "<table border=\"1\" class=\"dataframe\">\n",
       "  <thead>\n",
       "    <tr style=\"text-align: right;\">\n",
       "      <th></th>\n",
       "      <th>content</th>\n",
       "      <th>label</th>\n",
       "      <th>name</th>\n",
       "      <th>sentiment</th>\n",
       "    </tr>\n",
       "  </thead>\n",
       "  <tbody>\n",
       "    <tr>\n",
       "      <th>21277</th>\n",
       "      <td>this is one of those movies where i was rootin...</td>\n",
       "      <td>test</td>\n",
       "      <td>6650_1.txt</td>\n",
       "      <td>neg</td>\n",
       "    </tr>\n",
       "    <tr>\n",
       "      <th>12620</th>\n",
       "      <td>spoilersi m going to be as kind as i can about...</td>\n",
       "      <td>test</td>\n",
       "      <td>10108_1.txt</td>\n",
       "      <td>neg</td>\n",
       "    </tr>\n",
       "    <tr>\n",
       "      <th>4485</th>\n",
       "      <td>as a former erasmus student i enjoyed this fil...</td>\n",
       "      <td>test</td>\n",
       "      <td>2788_9.txt</td>\n",
       "      <td>pos</td>\n",
       "    </tr>\n",
       "    <tr>\n",
       "      <th>4744</th>\n",
       "      <td>francis ford coppola s masterpiece was a great...</td>\n",
       "      <td>test</td>\n",
       "      <td>301_10.txt</td>\n",
       "      <td>pos</td>\n",
       "    </tr>\n",
       "    <tr>\n",
       "      <th>10329</th>\n",
       "      <td>some of the reviewers here have foolishly judg...</td>\n",
       "      <td>test</td>\n",
       "      <td>8047_10.txt</td>\n",
       "      <td>pos</td>\n",
       "    </tr>\n",
       "    <tr>\n",
       "      <th>14366</th>\n",
       "      <td>this is by far one of the most pretentious fil...</td>\n",
       "      <td>test</td>\n",
       "      <td>11680_1.txt</td>\n",
       "      <td>neg</td>\n",
       "    </tr>\n",
       "    <tr>\n",
       "      <th>1007</th>\n",
       "      <td>this is truly a funny movie his dance scene do...</td>\n",
       "      <td>test</td>\n",
       "      <td>10907_8.txt</td>\n",
       "      <td>pos</td>\n",
       "    </tr>\n",
       "    <tr>\n",
       "      <th>4539</th>\n",
       "      <td>this film released in 1951 has the usual eleme...</td>\n",
       "      <td>test</td>\n",
       "      <td>2836_8.txt</td>\n",
       "      <td>pos</td>\n",
       "    </tr>\n",
       "    <tr>\n",
       "      <th>7864</th>\n",
       "      <td>one of the best tv shows out there if not the ...</td>\n",
       "      <td>test</td>\n",
       "      <td>5829_10.txt</td>\n",
       "      <td>pos</td>\n",
       "    </tr>\n",
       "    <tr>\n",
       "      <th>19582</th>\n",
       "      <td>this movie was jerry bruckheimer s idea to sel...</td>\n",
       "      <td>test</td>\n",
       "      <td>5124_4.txt</td>\n",
       "      <td>neg</td>\n",
       "    </tr>\n",
       "  </tbody>\n",
       "</table>\n",
       "</div>"
      ],
      "text/plain": [
       "                                                 content label         name  \\\n",
       "21277  this is one of those movies where i was rootin...  test   6650_1.txt   \n",
       "12620  spoilersi m going to be as kind as i can about...  test  10108_1.txt   \n",
       "4485   as a former erasmus student i enjoyed this fil...  test   2788_9.txt   \n",
       "4744   francis ford coppola s masterpiece was a great...  test   301_10.txt   \n",
       "10329  some of the reviewers here have foolishly judg...  test  8047_10.txt   \n",
       "14366  this is by far one of the most pretentious fil...  test  11680_1.txt   \n",
       "1007   this is truly a funny movie his dance scene do...  test  10907_8.txt   \n",
       "4539   this film released in 1951 has the usual eleme...  test   2836_8.txt   \n",
       "7864   one of the best tv shows out there if not the ...  test  5829_10.txt   \n",
       "19582  this movie was jerry bruckheimer s idea to sel...  test   5124_4.txt   \n",
       "\n",
       "      sentiment  \n",
       "21277       neg  \n",
       "12620       neg  \n",
       "4485        pos  \n",
       "4744        pos  \n",
       "10329       pos  \n",
       "14366       neg  \n",
       "1007        pos  \n",
       "4539        pos  \n",
       "7864        pos  \n",
       "19582       neg  "
      ]
     },
     "execution_count": 15,
     "metadata": {},
     "output_type": "execute_result"
    }
   ],
   "source": [
    "comments_test = comments[comments[\"label\"] == \"test\"]\n",
    "comments_test.sample(10)"
   ]
  },
  {
   "cell_type": "code",
   "execution_count": 16,
   "metadata": {},
   "outputs": [],
   "source": [
    "X_train = comments_train[\"content\"].values\n",
    "y_train = np.where(comments_train.sentiment == \"pos\", 1, 0)"
   ]
  },
  {
   "cell_type": "code",
   "execution_count": 17,
   "metadata": {},
   "outputs": [],
   "source": [
    "X_test = comments_test[\"content\"].values\n",
    "y_test = np.where(comments_test.sentiment == \"pos\", 1, 0)"
   ]
  },
  {
   "cell_type": "code",
   "execution_count": 18,
   "metadata": {},
   "outputs": [
    {
     "name": "stdout",
     "output_type": "stream",
     "text": [
      "revival reviv\n",
      "allowance allow\n",
      "inference infer\n",
      "relational relat\n",
      "runner runner\n",
      "runs run\n",
      "ran ran\n"
     ]
    }
   ],
   "source": [
    "# http://snowball.tartarus.org/algorithms/porter/stemmer.html\n",
    "porter = nltk.stem.porter.PorterStemmer()\n",
    "for s in nltk.word_tokenize(\"\"\"revival allowance inference \n",
    "            relational runner runs ran\"\"\"):\n",
    "    print(s, porter.stem(s))"
   ]
  },
  {
   "cell_type": "code",
   "execution_count": 19,
   "metadata": {
    "scrolled": true
   },
   "outputs": [
    {
     "data": {
      "text/plain": [
       "['the', 'sun', 'shine', 'allow']"
      ]
     },
     "execution_count": 19,
     "metadata": {},
     "output_type": "execute_result"
    }
   ],
   "source": [
    "def my_tokenizer(s):\n",
    "    terms = [porter.stem(w) for w in nltk.word_tokenize(s)]\n",
    "    terms = [term for term in terms if len(term) > 2]\n",
    "    return terms \n",
    "my_tokenizer(\"The sun is shining. Allowance\")"
   ]
  },
  {
   "cell_type": "code",
   "execution_count": 20,
   "metadata": {},
   "outputs": [
    {
     "name": "stdout",
     "output_type": "stream",
     "text": [
      "Type of doc_term_matrix <class 'scipy.sparse.csr.csr_matrix'>\n",
      "Vocabulary:  {'today': 10, 'wednesday': 14, 'today wednesday': 11, 'delhi': 2, 'weather': 12, 'hot': 5, 'delhi weather': 4, 'weather hot': 13, 'hot today': 6, 'road': 8, 'busi': 0, 'morn': 7, 'delhi road': 3, 'road busi': 9, 'busi morn': 1}\n"
     ]
    }
   ],
   "source": [
    "stopwords = nltk.corpus.stopwords.words(\"english\")\n",
    "tfidf = feature_extraction.text.TfidfVectorizer(tokenizer=my_tokenizer\n",
    "                    , stop_words = stopwords\n",
    "                    , ngram_range=(1, 2))\n",
    "\n",
    "corpus = [\"Today is Wednesday\"\n",
    "          , \"\"\"Delhi weather is hot today.\"\"\"\n",
    "          , \"Delhi roads are not busy in the morning\"]\n",
    "\n",
    "doc_term_matrix = tfidf.fit_transform(corpus)\n",
    "\n",
    "# returns term and index in the feature matrix\n",
    "print(\"Vocabulary: \", tfidf.vocabulary_) "
   ]
  },
  {
   "cell_type": "code",
   "execution_count": 21,
   "metadata": {},
   "outputs": [
    {
     "data": {
      "text/html": [
       "<div>\n",
       "<style scoped>\n",
       "    .dataframe tbody tr th:only-of-type {\n",
       "        vertical-align: middle;\n",
       "    }\n",
       "\n",
       "    .dataframe tbody tr th {\n",
       "        vertical-align: top;\n",
       "    }\n",
       "\n",
       "    .dataframe thead th {\n",
       "        text-align: right;\n",
       "    }\n",
       "</style>\n",
       "<table border=\"1\" class=\"dataframe\">\n",
       "  <thead>\n",
       "    <tr style=\"text-align: right;\">\n",
       "      <th></th>\n",
       "      <th>busi</th>\n",
       "      <th>busi morn</th>\n",
       "      <th>delhi</th>\n",
       "      <th>delhi road</th>\n",
       "      <th>delhi weather</th>\n",
       "      <th>hot</th>\n",
       "      <th>hot today</th>\n",
       "      <th>morn</th>\n",
       "      <th>road</th>\n",
       "      <th>road busi</th>\n",
       "      <th>today</th>\n",
       "      <th>today wednesday</th>\n",
       "      <th>weather</th>\n",
       "      <th>weather hot</th>\n",
       "      <th>wednesday</th>\n",
       "    </tr>\n",
       "  </thead>\n",
       "  <tbody>\n",
       "    <tr>\n",
       "      <th>0</th>\n",
       "      <td>0.0000</td>\n",
       "      <td>0.0000</td>\n",
       "      <td>0.0000</td>\n",
       "      <td>0.0000</td>\n",
       "      <td>0.0000</td>\n",
       "      <td>0.0000</td>\n",
       "      <td>0.0000</td>\n",
       "      <td>0.0000</td>\n",
       "      <td>0.0000</td>\n",
       "      <td>0.0000</td>\n",
       "      <td>0.4736</td>\n",
       "      <td>0.6228</td>\n",
       "      <td>0.0000</td>\n",
       "      <td>0.0000</td>\n",
       "      <td>0.6228</td>\n",
       "    </tr>\n",
       "    <tr>\n",
       "      <th>1</th>\n",
       "      <td>0.0000</td>\n",
       "      <td>0.0000</td>\n",
       "      <td>0.3065</td>\n",
       "      <td>0.0000</td>\n",
       "      <td>0.4030</td>\n",
       "      <td>0.4030</td>\n",
       "      <td>0.4030</td>\n",
       "      <td>0.0000</td>\n",
       "      <td>0.0000</td>\n",
       "      <td>0.0000</td>\n",
       "      <td>0.3065</td>\n",
       "      <td>0.0000</td>\n",
       "      <td>0.4030</td>\n",
       "      <td>0.4030</td>\n",
       "      <td>0.0000</td>\n",
       "    </tr>\n",
       "    <tr>\n",
       "      <th>2</th>\n",
       "      <td>0.3899</td>\n",
       "      <td>0.3899</td>\n",
       "      <td>0.2965</td>\n",
       "      <td>0.3899</td>\n",
       "      <td>0.0000</td>\n",
       "      <td>0.0000</td>\n",
       "      <td>0.0000</td>\n",
       "      <td>0.3899</td>\n",
       "      <td>0.3899</td>\n",
       "      <td>0.3899</td>\n",
       "      <td>0.0000</td>\n",
       "      <td>0.0000</td>\n",
       "      <td>0.0000</td>\n",
       "      <td>0.0000</td>\n",
       "      <td>0.0000</td>\n",
       "    </tr>\n",
       "  </tbody>\n",
       "</table>\n",
       "</div>"
      ],
      "text/plain": [
       "    busi  busi morn  delhi  delhi road  delhi weather    hot  hot today  \\\n",
       "0 0.0000     0.0000 0.0000      0.0000         0.0000 0.0000     0.0000   \n",
       "1 0.0000     0.0000 0.3065      0.0000         0.4030 0.4030     0.4030   \n",
       "2 0.3899     0.3899 0.2965      0.3899         0.0000 0.0000     0.0000   \n",
       "\n",
       "    morn   road  road busi  today  today wednesday  weather  weather hot  \\\n",
       "0 0.0000 0.0000     0.0000 0.4736           0.6228   0.0000       0.0000   \n",
       "1 0.0000 0.0000     0.0000 0.3065           0.0000   0.4030       0.4030   \n",
       "2 0.3899 0.3899     0.3899 0.0000           0.0000   0.0000       0.0000   \n",
       "\n",
       "   wednesday  \n",
       "0     0.6228  \n",
       "1     0.0000  \n",
       "2     0.0000  "
      ]
     },
     "execution_count": 21,
     "metadata": {},
     "output_type": "execute_result"
    }
   ],
   "source": [
    "columns = [None] * len(tfidf.vocabulary_)\n",
    "for term in tfidf.vocabulary_:\n",
    "    columns[tfidf.vocabulary_[term]] = term\n",
    "columns\n",
    "scores = pd.DataFrame(doc_term_matrix.toarray(), columns= columns)\n",
    "scores"
   ]
  },
  {
   "cell_type": "code",
   "execution_count": 22,
   "metadata": {},
   "outputs": [
    {
     "name": "stdout",
     "output_type": "stream",
     "text": [
      "179 ['i', 'me', 'my', 'myself', 'we', 'our', 'ours', 'ourselves', 'you', \"you're\", \"you've\", \"you'll\", \"you'd\", 'your', 'yours', 'yourself', 'yourselves', 'he', 'him', 'his', 'himself', 'she', \"she's\", 'her', 'hers', 'herself', 'it', \"it's\", 'its', 'itself', 'they', 'them', 'their', 'theirs', 'themselves', 'what', 'which', 'who', 'whom', 'this', 'that', \"that'll\", 'these', 'those', 'am', 'is', 'are', 'was', 'were', 'be', 'been', 'being', 'have', 'has', 'had', 'having', 'do', 'does', 'did', 'doing', 'a', 'an', 'the', 'and', 'but', 'if', 'or', 'because', 'as', 'until', 'while', 'of', 'at', 'by', 'for', 'with', 'about', 'against', 'between', 'into', 'through', 'during', 'before', 'after', 'above', 'below', 'to', 'from', 'up', 'down', 'in', 'out', 'on', 'off', 'over', 'under', 'again', 'further', 'then', 'once', 'here', 'there', 'when', 'where', 'why', 'how', 'all', 'any', 'both', 'each', 'few', 'more', 'most', 'other', 'some', 'such', 'no', 'nor', 'not', 'only', 'own', 'same', 'so', 'than', 'too', 'very', 's', 't', 'can', 'will', 'just', 'don', \"don't\", 'should', \"should've\", 'now', 'd', 'll', 'm', 'o', 're', 've', 'y', 'ain', 'aren', \"aren't\", 'couldn', \"couldn't\", 'didn', \"didn't\", 'doesn', \"doesn't\", 'hadn', \"hadn't\", 'hasn', \"hasn't\", 'haven', \"haven't\", 'isn', \"isn't\", 'ma', 'mightn', \"mightn't\", 'mustn', \"mustn't\", 'needn', \"needn't\", 'shan', \"shan't\", 'shouldn', \"shouldn't\", 'wasn', \"wasn't\", 'weren', \"weren't\", 'won', \"won't\", 'wouldn', \"wouldn't\"]\n"
     ]
    }
   ],
   "source": [
    "print(len(stopwords), stopwords)"
   ]
  },
  {
   "cell_type": "code",
   "execution_count": 23,
   "metadata": {},
   "outputs": [
    {
     "name": "stdout",
     "output_type": "stream",
     "text": [
      "CPU times: user 4min 50s, sys: 1.79 s, total: 4min 52s\n",
      "Wall time: 4min 53s\n"
     ]
    }
   ],
   "source": [
    "%%time\n",
    "X_train_tfidf = tfidf.fit_transform(X_train)\n",
    "X_test_tfidf = tfidf.transform(X_test)"
   ]
  },
  {
   "cell_type": "code",
   "execution_count": 24,
   "metadata": {},
   "outputs": [
    {
     "data": {
      "text/plain": [
       "((25000, 1563905), (25000,), (25000, 1563905), (25000,))"
      ]
     },
     "execution_count": 24,
     "metadata": {},
     "output_type": "execute_result"
    }
   ],
   "source": [
    "X_test_tfidf.shape, y_test.shape, X_train_tfidf.shape, y_train.shape"
   ]
  },
  {
   "cell_type": "markdown",
   "metadata": {},
   "source": [
    "Let's estimate the memory requirment if the data is presented in dense matrix format"
   ]
  },
  {
   "cell_type": "code",
   "execution_count": 26,
   "metadata": {},
   "outputs": [
    {
     "data": {
      "text/plain": [
       "145.650003105402"
      ]
     },
     "execution_count": 26,
     "metadata": {},
     "output_type": "execute_result"
    }
   ],
   "source": [
    "cell_count = np.product(X_train_tfidf.shape)\n",
    "bytes = cell_count * 4 \n",
    "GBs = bytes / (1024 ** 3) \n",
    "GBs"
   ]
  },
  {
   "cell_type": "code",
   "execution_count": 27,
   "metadata": {},
   "outputs": [
    {
     "data": {
      "text/plain": [
       "0.9998623686732889"
      ]
     },
     "execution_count": 27,
     "metadata": {},
     "output_type": "execute_result"
    }
   ],
   "source": [
    "sparsity = 1 - X_train_tfidf.count_nonzero() / cell_count\n",
    "sparsity"
   ]
  },
  {
   "cell_type": "code",
   "execution_count": 28,
   "metadata": {},
   "outputs": [
    {
     "data": {
      "text/plain": [
       "0.9998623686732889"
      ]
     },
     "execution_count": 28,
     "metadata": {},
     "output_type": "execute_result"
    }
   ],
   "source": [
    "1 - X_train_tfidf.nnz / cell_count"
   ]
  },
  {
   "cell_type": "code",
   "execution_count": 29,
   "metadata": {},
   "outputs": [
    {
     "name": "stdout",
     "output_type": "stream",
     "text": [
      "Type of doc_term_matrix <class 'scipy.sparse.csr.csr_matrix'>\n"
     ]
    }
   ],
   "source": [
    "print(\"Type of doc_term_matrix\", type(X_train_tfidf))"
   ]
  },
  {
   "cell_type": "markdown",
   "metadata": {},
   "source": [
    "Byte size of the training doc sparse doc"
   ]
  },
  {
   "cell_type": "code",
   "execution_count": 30,
   "metadata": {},
   "outputs": [
    {
     "name": "stdout",
     "output_type": "stream",
     "text": [
      "0.04009200632572174 GB\n"
     ]
    }
   ],
   "source": [
    "print(X_train_tfidf.data.nbytes / (1024.0 ** 3), \"GB\")"
   ]
  },
  {
   "cell_type": "markdown",
   "metadata": {},
   "source": [
    "# Important terms for a document "
   ]
  },
  {
   "cell_type": "code",
   "execution_count": 31,
   "metadata": {},
   "outputs": [],
   "source": [
    "vocab_by_term = tfidf.vocabulary_\n",
    "vocab_by_idx = dict({(vocab_by_term[term], term) \n",
    "                                 for term in vocab_by_term})"
   ]
  },
  {
   "cell_type": "code",
   "execution_count": 32,
   "metadata": {},
   "outputs": [
    {
     "data": {
      "text/plain": [
       "\"{'bromwel': 184129, 'high': 643874, 'cartoon': 212410, 'comedi': 269644, 'ran': 1097062, 'time': 139\""
      ]
     },
     "execution_count": 32,
     "metadata": {},
     "output_type": "execute_result"
    }
   ],
   "source": [
    "str(vocab_by_term)[:100]"
   ]
  },
  {
   "cell_type": "code",
   "execution_count": 33,
   "metadata": {
    "scrolled": false
   },
   "outputs": [
    {
     "data": {
      "text/plain": [
       "\"{160081: 'blood line', 842455: 'mani suspici', 1093045: 'quot coupl', 626556: 'harm second', 50622: \""
      ]
     },
     "execution_count": 33,
     "metadata": {},
     "output_type": "execute_result"
    }
   ],
   "source": [
    "str(vocab_by_idx)[:100]"
   ]
  },
  {
   "cell_type": "code",
   "execution_count": 34,
   "metadata": {},
   "outputs": [
    {
     "name": "stdout",
     "output_type": "stream",
     "text": [
      "Content:\n",
      " this isn t the comedic robin williams nor is it the quirky insane robin williams of recent thriller fame this is a hybrid of the classic drama without over dramatization mixed with robin s new love of the thriller but this isn t a thriller per se this is more a mystery suspense vehicle through which williams attempts to locate a sick boy and his keeper also starring sandra oh and rory culkin this suspense drama plays pretty much like a news report until william s character gets close to achieving his goal i must say that i was highly entertained though this movie fails to teach guide inspect or amuse it felt more like i was watching a guy williams as he was actually performing the actions from a third person perspective in other words it felt real and i was able to subscribe to the premise of the story all in all it s worth a watch though it s definitely not friday saturday night fare it rates a 7 7 10 from the fiend \n"
     ]
    },
    {
     "data": {
      "text/plain": [
       "william         0.2183\n",
       "robin           0.1719\n",
       "robin william   0.1319\n",
       "thriller        0.1272\n",
       "real abl        0.1003\n",
       "                 ...  \n",
       "stori           0.0206\n",
       "charact         0.0202\n",
       "get             0.0194\n",
       "thi movi        0.0194\n",
       "movi            0.0138\n",
       "Length: 169, dtype: float64"
      ]
     },
     "execution_count": 34,
     "metadata": {},
     "output_type": "execute_result"
    }
   ],
   "source": [
    "idx = 5\n",
    "print(\"Content:\\n\", X_train[idx])\n",
    "row = X_train_tfidf[idx]\n",
    "terms = [(vocab_by_idx[row.indices[i]], row.data[i])\n",
    "             for i, term in enumerate(row.indices)]\n",
    "pd.Series(dict(terms)).sort_values(ascending = False)"
   ]
  },
  {
   "cell_type": "code",
   "execution_count": 35,
   "metadata": {},
   "outputs": [
    {
     "data": {
      "image/png": "[encoded data removed]",
      "text/plain": [
       "<Figure size 720x720 with 1 Axes>"
      ]
     },
     "metadata": {},
     "output_type": "display_data"
    }
   ],
   "source": [
    "idx = 50\n",
    "row = X_train_tfidf[idx]\n",
    "terms = [(vocab_by_idx[row.indices[i]], row.data[i]) \n",
    "                 for i, term in enumerate(row.indices)]\n",
    "top_terms= list(pd.Series(dict(terms))\\\n",
    "                .sort_values(ascending = False)[:50].index)\n",
    "wc = WordCloud(background_color=\"white\", \n",
    "    width=500, height=500, max_words=50).generate(\"+\".join(top_terms))\n",
    "plt.figure(figsize=(10, 10))\n",
    "plt.imshow(wc)\n",
    "plt.axis(\"off\");"
   ]
  },
  {
   "cell_type": "code",
   "execution_count": 36,
   "metadata": {},
   "outputs": [
    {
     "name": "stdout",
     "output_type": "stream",
     "text": [
      "accuracy:  0.88076\n",
      "CPU times: user 5.9 s, sys: 115 ms, total: 6.02 s\n",
      "Wall time: 5.75 s\n"
     ]
    }
   ],
   "source": [
    "%%time\n",
    "lr = linear_model.LogisticRegression(C = 1.0, random_state = 1\n",
    "                            , n_jobs = 8, solver=\"saga\")\n",
    "lr.fit(X_train_tfidf, y_train)\n",
    "y_test_pred = lr.predict(X_test_tfidf)\n",
    "print(\"accuracy: \", metrics.accuracy_score(y_test, y_test_pred))"
   ]
  },
  {
   "cell_type": "code",
   "execution_count": 37,
   "metadata": {},
   "outputs": [
    {
     "data": {
      "image/png": "[encoded data removed]",
      "text/plain": [
       "<Figure size 432x288 with 1 Axes>"
      ]
     },
     "metadata": {},
     "output_type": "display_data"
    }
   ],
   "source": [
    "fpr, tpr, thresholds = metrics.roc_curve(y_test,\n",
    "                        lr.predict_proba(X_test_tfidf)[:, [1]])\n",
    "auc = metrics.auc(fpr, tpr)\n",
    "\n",
    "plt.plot(fpr, tpr)\n",
    "plt.ylim(0, 1)\n",
    "plt.xlim(0, 1)\n",
    "plt.plot([0,1], [0,1], ls = \"--\", color = \"k\")\n",
    "plt.xlabel(\"False Postive Rate\")\n",
    "plt.ylabel(\"True Positive Rate\")\n",
    "plt.title(\"ROC Curve, auc: %.4f\" % auc);"
   ]
  },
  {
   "cell_type": "code",
   "execution_count": 38,
   "metadata": {},
   "outputs": [
    {
     "name": "stdout",
     "output_type": "stream",
     "text": [
      "accuracy:  0.86184\n",
      "CPU times: user 347 ms, sys: 62.2 ms, total: 409 ms\n",
      "Wall time: 288 ms\n"
     ]
    }
   ],
   "source": [
    "%%time\n",
    "from sklearn import naive_bayes, ensemble\n",
    "bayes = naive_bayes.MultinomialNB(alpha=1)\n",
    "bayes.fit(X_train_tfidf, y_train)\n",
    "print(\"accuracy: \", bayes.score(X_test_tfidf, y_test))"
   ]
  },
  {
   "cell_type": "code",
   "execution_count": 39,
   "metadata": {},
   "outputs": [
    {
     "name": "stdout",
     "output_type": "stream",
     "text": [
      "accuracy:  0.70116\n",
      "CPU times: user 3min 57s, sys: 724 ms, total: 3min 57s\n",
      "Wall time: 3min 58s\n"
     ]
    }
   ],
   "source": [
    "%%time\n",
    "est = tree.DecisionTreeClassifier()\n",
    "est.fit(X_train_tfidf, y_train)\n",
    "print(\"accuracy: \", est.score(X_test_tfidf, y_test))"
   ]
  },
  {
   "cell_type": "code",
   "execution_count": 40,
   "metadata": {},
   "outputs": [
    {
     "name": "stdout",
     "output_type": "stream",
     "text": [
      "Top 50 terms:  ['bad', 'worst', 'wast', 'great', 'bore', 'terribl', 'love', 'noth', 'stupid', 'excel', 'poor', 'best', 'perfect', 'wors', 'disappoint', 'beauti', 'poorli', 'thi', 'good', 'well', 'veri', 'enjoy', 'even', 'fail', 'whi', 'act', 'dull', 'tri', 'pointless', 'ridicul', 'unfortun', 'look', 'scene', 'also', 'one', 'plot', 'mess', 'minut', 'see', 'movi', 'stori', 'still', 'time', 'save', 'anyth', 'better', 'thi movi', 'life', 'money', 'one best']\n"
     ]
    }
   ],
   "source": [
    "columns = [None] * len(tfidf.vocabulary_)\n",
    "for term in tfidf.vocabulary_:\n",
    "    columns[tfidf.vocabulary_[term]] = term\n",
    "result = pd.DataFrame({\"feature\": columns, \"importance\": est.feature_importances_})\n",
    "result = result.sort_values(\"importance\", ascending = False)\n",
    "result = result[result.importance > 0.0]\n",
    "print(\"Top 50 terms: \", list(result.feature[:50]))"
   ]
  },
  {
   "cell_type": "code",
   "execution_count": null,
   "metadata": {},
   "outputs": [],
   "source": []
  }
 ],
 "metadata": {
  "kernelspec": {
   "display_name": "Python 3",
   "language": "python",
   "name": "python3"
  },
  "language_info": {
   "codemirror_mode": {
    "name": "ipython",
    "version": 3
   },
   "file_extension": ".py",
   "mimetype": "text/x-python",
   "name": "python",
   "nbconvert_exporter": "python",
   "pygments_lexer": "ipython3",
   "version": "3.6.6"
  }
 },
 "nbformat": 4,
 "nbformat_minor": 2
}
