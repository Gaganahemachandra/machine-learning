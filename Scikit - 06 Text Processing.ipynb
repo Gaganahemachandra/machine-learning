{
 "cells": [
  {
   "cell_type": "code",
   "execution_count": 1,
   "metadata": {},
   "outputs": [],
   "source": [
    "import pandas as pd # Used for dataframe functions\n",
    "import json # parse json string\n",
    "import nltk # Natural language toolkit for TDIDF etc.\n",
    "from bs4 import BeautifulSoup # Parse html string .. to extract text\n",
    "import re # Regex parser \n",
    "import numpy as np # Linear algebbra \n",
    "from sklearn import * # machine learning\n",
    "import matplotlib.pyplot as plt # Visualization\n",
    "from wordcloud import WordCloud # Word cloud visualization\n",
    "import scipy #Sparse matrix \n",
    "\n",
    "np.set_printoptions(precision=4)\n",
    "pd.options.display.max_columns = 1000\n",
    "pd.options.display.max_rows = 10\n",
    "pd.options.display.float_format = lambda f: \"%.4f\" % f\n",
    "\n",
    "%matplotlib inline "
   ]
  },
  {
   "cell_type": "markdown",
   "metadata": {},
   "source": [
    "Run the following line when you run this notebook first time."
   ]
  },
  {
   "cell_type": "code",
   "execution_count": 2,
   "metadata": {},
   "outputs": [],
   "source": [
    "# nltk.download(\"punkt\")\n",
    "# nltk.download(\"stopwords\")"
   ]
  },
  {
   "cell_type": "code",
   "execution_count": 3,
   "metadata": {},
   "outputs": [
    {
     "name": "stdout",
     "output_type": "stream",
     "text": [
      "3.3\n"
     ]
    }
   ],
   "source": [
    "print(nltk.__version__)"
   ]
  },
  {
   "cell_type": "code",
   "execution_count": 4,
   "metadata": {
    "scrolled": true
   },
   "outputs": [
    {
     "name": "stdout",
     "output_type": "stream",
     "text": [
      "{\"label\":\"test\",\"sentiment\":\"pos\",\"name\":\"0_10.txt\",\"content\":\"I went and saw this movie last night after being coaxed to by a few friends of mine. I'll admit that I was reluctant to see it because from what I knew of Ashton Kutcher he was only able to do comedy. I was wrong. Kutcher played the character of Jake Fischer very well, and Kevin Costner played Ben Randall with such professionalism. The sign of a good movie is that it can toy with our emotions. This one did exactly that. The entire theater (which was sold out) was overcome by laughter during the first half of the movie, and were moved to tears during the second half. While exiting the theater I not only saw many women in tears, but many full grown men as well, trying desperately not to let anyone see them crying. This movie was great, and I suggest that you go see it before you judge.\"}\r\n"
     ]
    }
   ],
   "source": [
    "# The following line does not work on Windows system\n",
    "!head -n 1 /data/imdb-comments.json"
   ]
  },
  {
   "cell_type": "code",
   "execution_count": 5,
   "metadata": {},
   "outputs": [],
   "source": [
    "data = []\n",
    "with open(\"/data/imdb-comments.json\", \"r\", encoding=\"utf8\") as f:\n",
    "    for l in f.readlines():\n",
    "        data.append(json.loads(l))    "
   ]
  },
  {
   "cell_type": "code",
   "execution_count": 6,
   "metadata": {
    "scrolled": true
   },
   "outputs": [
    {
     "data": {
      "text/html": [
       "<div>\n",
       "<style scoped>\n",
       "    .dataframe tbody tr th:only-of-type {\n",
       "        vertical-align: middle;\n",
       "    }\n",
       "\n",
       "    .dataframe tbody tr th {\n",
       "        vertical-align: top;\n",
       "    }\n",
       "\n",
       "    .dataframe thead th {\n",
       "        text-align: right;\n",
       "    }\n",
       "</style>\n",
       "<table border=\"1\" class=\"dataframe\">\n",
       "  <thead>\n",
       "    <tr style=\"text-align: right;\">\n",
       "      <th></th>\n",
       "      <th>content</th>\n",
       "      <th>label</th>\n",
       "      <th>name</th>\n",
       "      <th>sentiment</th>\n",
       "    </tr>\n",
       "  </thead>\n",
       "  <tbody>\n",
       "    <tr>\n",
       "      <th>26298</th>\n",
       "      <td>when i saw the movie at first i thought that i...</td>\n",
       "      <td>train</td>\n",
       "      <td>11169_7.txt</td>\n",
       "      <td>pos</td>\n",
       "    </tr>\n",
       "    <tr>\n",
       "      <th>29718</th>\n",
       "      <td>Enjoyed viewing this film on TCM and watching ...</td>\n",
       "      <td>train</td>\n",
       "      <td>2998_7.txt</td>\n",
       "      <td>pos</td>\n",
       "    </tr>\n",
       "    <tr>\n",
       "      <th>29482</th>\n",
       "      <td>\"Bend It Like Beckham\" reminds me of the best ...</td>\n",
       "      <td>train</td>\n",
       "      <td>2785_7.txt</td>\n",
       "      <td>pos</td>\n",
       "    </tr>\n",
       "    <tr>\n",
       "      <th>47234</th>\n",
       "      <td>This was one of the most ridiculous and badly ...</td>\n",
       "      <td>train</td>\n",
       "      <td>7511_1.txt</td>\n",
       "      <td>neg</td>\n",
       "    </tr>\n",
       "    <tr>\n",
       "      <th>31726</th>\n",
       "      <td>I have watched this movie on DVD a couple of t...</td>\n",
       "      <td>train</td>\n",
       "      <td>4804_7.txt</td>\n",
       "      <td>pos</td>\n",
       "    </tr>\n",
       "    <tr>\n",
       "      <th>19482</th>\n",
       "      <td>Well its ten year's on since this film was rel...</td>\n",
       "      <td>test</td>\n",
       "      <td>5034_1.txt</td>\n",
       "      <td>neg</td>\n",
       "    </tr>\n",
       "    <tr>\n",
       "      <th>16486</th>\n",
       "      <td>I get the feeling a lot of people liked this m...</td>\n",
       "      <td>test</td>\n",
       "      <td>2338_1.txt</td>\n",
       "      <td>neg</td>\n",
       "    </tr>\n",
       "    <tr>\n",
       "      <th>34495</th>\n",
       "      <td>I truly enjoyed this film. The acting was terr...</td>\n",
       "      <td>train</td>\n",
       "      <td>7297_10.txt</td>\n",
       "      <td>pos</td>\n",
       "    </tr>\n",
       "    <tr>\n",
       "      <th>31402</th>\n",
       "      <td>I saw this movie today and I have to say, it w...</td>\n",
       "      <td>train</td>\n",
       "      <td>4512_9.txt</td>\n",
       "      <td>pos</td>\n",
       "    </tr>\n",
       "    <tr>\n",
       "      <th>38008</th>\n",
       "      <td>I went into this film with expectations, from ...</td>\n",
       "      <td>train</td>\n",
       "      <td>10458_2.txt</td>\n",
       "      <td>neg</td>\n",
       "    </tr>\n",
       "  </tbody>\n",
       "</table>\n",
       "</div>"
      ],
      "text/plain": [
       "                                                 content  label         name  \\\n",
       "26298  when i saw the movie at first i thought that i...  train  11169_7.txt   \n",
       "29718  Enjoyed viewing this film on TCM and watching ...  train   2998_7.txt   \n",
       "29482  \"Bend It Like Beckham\" reminds me of the best ...  train   2785_7.txt   \n",
       "47234  This was one of the most ridiculous and badly ...  train   7511_1.txt   \n",
       "31726  I have watched this movie on DVD a couple of t...  train   4804_7.txt   \n",
       "19482  Well its ten year's on since this film was rel...   test   5034_1.txt   \n",
       "16486  I get the feeling a lot of people liked this m...   test   2338_1.txt   \n",
       "34495  I truly enjoyed this film. The acting was terr...  train  7297_10.txt   \n",
       "31402  I saw this movie today and I have to say, it w...  train   4512_9.txt   \n",
       "38008  I went into this film with expectations, from ...  train  10458_2.txt   \n",
       "\n",
       "      sentiment  \n",
       "26298       pos  \n",
       "29718       pos  \n",
       "29482       pos  \n",
       "47234       neg  \n",
       "31726       pos  \n",
       "19482       neg  \n",
       "16486       neg  \n",
       "34495       pos  \n",
       "31402       pos  \n",
       "38008       neg  "
      ]
     },
     "execution_count": 6,
     "metadata": {},
     "output_type": "execute_result"
    }
   ],
   "source": [
    "comments = pd.DataFrame.from_dict(data)\n",
    "comments.sample(10)"
   ]
  },
  {
   "cell_type": "code",
   "execution_count": 7,
   "metadata": {},
   "outputs": [
    {
     "name": "stdout",
     "output_type": "stream",
     "text": [
      "<class 'pandas.core.frame.DataFrame'>\n",
      "RangeIndex: 50000 entries, 0 to 49999\n",
      "Data columns (total 4 columns):\n",
      "content      50000 non-null object\n",
      "label        50000 non-null object\n",
      "name         50000 non-null object\n",
      "sentiment    50000 non-null object\n",
      "dtypes: object(4)\n",
      "memory usage: 1.5+ MB\n"
     ]
    }
   ],
   "source": [
    "comments.info()"
   ]
  },
  {
   "cell_type": "code",
   "execution_count": 8,
   "metadata": {},
   "outputs": [
    {
     "data": {
      "text/plain": [
       "test     25000\n",
       "train    25000\n",
       "Name: label, dtype: int64"
      ]
     },
     "execution_count": 8,
     "metadata": {},
     "output_type": "execute_result"
    }
   ],
   "source": [
    "comments.label.value_counts()"
   ]
  },
  {
   "cell_type": "code",
   "execution_count": 9,
   "metadata": {},
   "outputs": [
    {
     "data": {
      "text/html": [
       "<div>\n",
       "<style scoped>\n",
       "    .dataframe tbody tr th:only-of-type {\n",
       "        vertical-align: middle;\n",
       "    }\n",
       "\n",
       "    .dataframe tbody tr th {\n",
       "        vertical-align: top;\n",
       "    }\n",
       "\n",
       "    .dataframe thead th {\n",
       "        text-align: right;\n",
       "    }\n",
       "</style>\n",
       "<table border=\"1\" class=\"dataframe\">\n",
       "  <thead>\n",
       "    <tr style=\"text-align: right;\">\n",
       "      <th>sentiment</th>\n",
       "      <th>neg</th>\n",
       "      <th>pos</th>\n",
       "    </tr>\n",
       "    <tr>\n",
       "      <th>label</th>\n",
       "      <th></th>\n",
       "      <th></th>\n",
       "    </tr>\n",
       "  </thead>\n",
       "  <tbody>\n",
       "    <tr>\n",
       "      <th>test</th>\n",
       "      <td>12500</td>\n",
       "      <td>12500</td>\n",
       "    </tr>\n",
       "    <tr>\n",
       "      <th>train</th>\n",
       "      <td>12500</td>\n",
       "      <td>12500</td>\n",
       "    </tr>\n",
       "  </tbody>\n",
       "</table>\n",
       "</div>"
      ],
      "text/plain": [
       "sentiment    neg    pos\n",
       "label                  \n",
       "test       12500  12500\n",
       "train      12500  12500"
      ]
     },
     "execution_count": 9,
     "metadata": {},
     "output_type": "execute_result"
    }
   ],
   "source": [
    "comments.groupby([\"label\", \"sentiment\"]).content.count().unstack()"
   ]
  },
  {
   "cell_type": "code",
   "execution_count": 10,
   "metadata": {},
   "outputs": [
    {
     "data": {
      "text/plain": [
       "'When we started watching this series on cable, I had no idea how addictive it would be. Even when you hate a character, you hold back because they are so beautifully developed, you can almost understand why they react to frustration, fear, greed or temptation the way they do. It\\'s almost as if the viewer is experiencing one of Christopher\\'s learning curves.<br /><br />I can\\'t understand why Adriana would put up with Christopher\\'s abuse of her, verbally, physically and emotionally, but I just have to read the newspaper to see how many women can and do tolerate such behavior. Carmella has a dream house, endless supply of expensive things, but I\\'m sure she would give it up for a loving and faithful husband - or maybe not. That\\'s why I watch.<br /><br />It doesn\\'t matter how many times you watch an episode, you can find something you missed the first five times. We even watch episodes out of sequence (watch season 1 on late night with commercials but all the language, A&E with language censored, reruns on the Movie Network) - whenever they\\'re on, we\\'re there. We\\'ve been totally spoiled now.<br /><br />I also love the Malaprop\\'s. \"An albacore around my neck\" is my favorite of Johnny Boy. When these jewels have entered our family vocabulary, it is a sign that I should get a life. I will when the series ends, and I have collected all the DVD\\'s, and put the collection in my will.'"
      ]
     },
     "execution_count": 10,
     "metadata": {},
     "output_type": "execute_result"
    }
   ],
   "source": [
    "np.random.seed(1)\n",
    "v = list(comments[\"content\"].sample(1))[0]\n",
    "v"
   ]
  },
  {
   "cell_type": "code",
   "execution_count": 11,
   "metadata": {
    "scrolled": false
   },
   "outputs": [
    {
     "data": {
      "text/plain": [
       "'when we started watching this series on cable i had no idea how addictive it would be even when you hate a character you hold back because they are so beautifully developed you can almost understand why they react to frustration fear greed or temptation the way they do it s almost as if the viewer is experiencing one of christopher s learning curves i can t understand why adriana would put up with christopher s abuse of her verbally physically and emotionally but i just have to read the newspaper to see how many women can and do tolerate such behavior carmella has a dream house endless supply of expensive things but i m sure she would give it up for a loving and faithful husband or maybe not that s why i watch it doesn t matter how many times you watch an episode you can find something you missed the first five times we even watch episodes out of sequence watch season 1 on late night with commercials but all the language a e with language censored reruns on the movie network whenever they re on we re there we ve been totally spoiled now i also love the malaprop s an albacore around my neck is my favorite of johnny boy when these jewels have entered our family vocabulary it is a sign that i should get a life i will when the series ends and i have collected all the dvd s and put the collection in my will '"
      ]
     },
     "execution_count": 11,
     "metadata": {},
     "output_type": "execute_result"
    }
   ],
   "source": [
    "def preprocess(text):\n",
    "    \n",
    "    # Remove html tags\n",
    "    text = BeautifulSoup(text.lower(), \"html5lib\").text \n",
    "    \n",
    "    # Replace the occurrences of multiple consecutive whilespaces \n",
    "    # with a single space (\" \")\n",
    "    text = re.sub(r\"[\\W]+\", \" \", text)\n",
    "    return text\n",
    "\n",
    "preprocess(v)"
   ]
  },
  {
   "cell_type": "code",
   "execution_count": 12,
   "metadata": {},
   "outputs": [
    {
     "name": "stdout",
     "output_type": "stream",
     "text": [
      "CPU times: user 32.6 s, sys: 51.8 ms, total: 32.6 s\n",
      "Wall time: 32.6 s\n"
     ]
    }
   ],
   "source": [
    "%%time\n",
    "# Apply the preprocessing logic to all comments\n",
    "comments[\"content\"] = comments[\"content\"].apply(preprocess)"
   ]
  },
  {
   "cell_type": "code",
   "execution_count": 13,
   "metadata": {},
   "outputs": [
    {
     "data": {
      "text/html": [
       "<div>\n",
       "<style scoped>\n",
       "    .dataframe tbody tr th:only-of-type {\n",
       "        vertical-align: middle;\n",
       "    }\n",
       "\n",
       "    .dataframe tbody tr th {\n",
       "        vertical-align: top;\n",
       "    }\n",
       "\n",
       "    .dataframe thead th {\n",
       "        text-align: right;\n",
       "    }\n",
       "</style>\n",
       "<table border=\"1\" class=\"dataframe\">\n",
       "  <thead>\n",
       "    <tr style=\"text-align: right;\">\n",
       "      <th></th>\n",
       "      <th>content</th>\n",
       "      <th>label</th>\n",
       "      <th>name</th>\n",
       "      <th>sentiment</th>\n",
       "    </tr>\n",
       "  </thead>\n",
       "  <tbody>\n",
       "    <tr>\n",
       "      <th>25496</th>\n",
       "      <td>there are many people in our lives that we mee...</td>\n",
       "      <td>train</td>\n",
       "      <td>10447_10.txt</td>\n",
       "      <td>pos</td>\n",
       "    </tr>\n",
       "    <tr>\n",
       "      <th>41520</th>\n",
       "      <td>sixth escapade for freddy krueger in which he ...</td>\n",
       "      <td>train</td>\n",
       "      <td>2369_4.txt</td>\n",
       "      <td>neg</td>\n",
       "    </tr>\n",
       "    <tr>\n",
       "      <th>48525</th>\n",
       "      <td>the first few minutes of the bodyguard do have...</td>\n",
       "      <td>train</td>\n",
       "      <td>8674_2.txt</td>\n",
       "      <td>neg</td>\n",
       "    </tr>\n",
       "    <tr>\n",
       "      <th>26037</th>\n",
       "      <td>after reviewing this intense martial arts movi...</td>\n",
       "      <td>train</td>\n",
       "      <td>10934_10.txt</td>\n",
       "      <td>pos</td>\n",
       "    </tr>\n",
       "    <tr>\n",
       "      <th>43823</th>\n",
       "      <td>triumph of love is proof that not every coméd...</td>\n",
       "      <td>train</td>\n",
       "      <td>4441_3.txt</td>\n",
       "      <td>neg</td>\n",
       "    </tr>\n",
       "    <tr>\n",
       "      <th>39666</th>\n",
       "      <td>this is without a doubt the worst movie i have...</td>\n",
       "      <td>train</td>\n",
       "      <td>11950_2.txt</td>\n",
       "      <td>neg</td>\n",
       "    </tr>\n",
       "    <tr>\n",
       "      <th>40882</th>\n",
       "      <td>i had the opportunity to preview this film as ...</td>\n",
       "      <td>train</td>\n",
       "      <td>1795_2.txt</td>\n",
       "      <td>neg</td>\n",
       "    </tr>\n",
       "    <tr>\n",
       "      <th>43156</th>\n",
       "      <td>roeg has done some great movies but this a tur...</td>\n",
       "      <td>train</td>\n",
       "      <td>3841_1.txt</td>\n",
       "      <td>neg</td>\n",
       "    </tr>\n",
       "    <tr>\n",
       "      <th>37185</th>\n",
       "      <td>possible spoiler in some way how to alienate f...</td>\n",
       "      <td>train</td>\n",
       "      <td>9718_7.txt</td>\n",
       "      <td>pos</td>\n",
       "    </tr>\n",
       "    <tr>\n",
       "      <th>40330</th>\n",
       "      <td>sogo ishii can be a skilled filmmaker under th...</td>\n",
       "      <td>train</td>\n",
       "      <td>1298_3.txt</td>\n",
       "      <td>neg</td>\n",
       "    </tr>\n",
       "  </tbody>\n",
       "</table>\n",
       "</div>"
      ],
      "text/plain": [
       "                                                 content  label          name  \\\n",
       "25496  there are many people in our lives that we mee...  train  10447_10.txt   \n",
       "41520  sixth escapade for freddy krueger in which he ...  train    2369_4.txt   \n",
       "48525  the first few minutes of the bodyguard do have...  train    8674_2.txt   \n",
       "26037  after reviewing this intense martial arts movi...  train  10934_10.txt   \n",
       "43823   triumph of love is proof that not every coméd...  train    4441_3.txt   \n",
       "39666  this is without a doubt the worst movie i have...  train   11950_2.txt   \n",
       "40882  i had the opportunity to preview this film as ...  train    1795_2.txt   \n",
       "43156  roeg has done some great movies but this a tur...  train    3841_1.txt   \n",
       "37185  possible spoiler in some way how to alienate f...  train    9718_7.txt   \n",
       "40330  sogo ishii can be a skilled filmmaker under th...  train    1298_3.txt   \n",
       "\n",
       "      sentiment  \n",
       "25496       pos  \n",
       "41520       neg  \n",
       "48525       neg  \n",
       "26037       pos  \n",
       "43823       neg  \n",
       "39666       neg  \n",
       "40882       neg  \n",
       "43156       neg  \n",
       "37185       pos  \n",
       "40330       neg  "
      ]
     },
     "execution_count": 13,
     "metadata": {},
     "output_type": "execute_result"
    }
   ],
   "source": [
    "comments_train = comments[comments[\"label\"] == \"train\"]\n",
    "comments_train.sample(10)"
   ]
  },
  {
   "cell_type": "code",
   "execution_count": 14,
   "metadata": {
    "scrolled": true
   },
   "outputs": [
    {
     "data": {
      "text/html": [
       "<div>\n",
       "<style scoped>\n",
       "    .dataframe tbody tr th:only-of-type {\n",
       "        vertical-align: middle;\n",
       "    }\n",
       "\n",
       "    .dataframe tbody tr th {\n",
       "        vertical-align: top;\n",
       "    }\n",
       "\n",
       "    .dataframe thead th {\n",
       "        text-align: right;\n",
       "    }\n",
       "</style>\n",
       "<table border=\"1\" class=\"dataframe\">\n",
       "  <thead>\n",
       "    <tr style=\"text-align: right;\">\n",
       "      <th></th>\n",
       "      <th>content</th>\n",
       "      <th>label</th>\n",
       "      <th>name</th>\n",
       "      <th>sentiment</th>\n",
       "    </tr>\n",
       "  </thead>\n",
       "  <tbody>\n",
       "    <tr>\n",
       "      <th>21277</th>\n",
       "      <td>this is one of those movies where i was rootin...</td>\n",
       "      <td>test</td>\n",
       "      <td>6650_1.txt</td>\n",
       "      <td>neg</td>\n",
       "    </tr>\n",
       "    <tr>\n",
       "      <th>12620</th>\n",
       "      <td>spoilersi m going to be as kind as i can about...</td>\n",
       "      <td>test</td>\n",
       "      <td>10108_1.txt</td>\n",
       "      <td>neg</td>\n",
       "    </tr>\n",
       "    <tr>\n",
       "      <th>4485</th>\n",
       "      <td>as a former erasmus student i enjoyed this fil...</td>\n",
       "      <td>test</td>\n",
       "      <td>2788_9.txt</td>\n",
       "      <td>pos</td>\n",
       "    </tr>\n",
       "    <tr>\n",
       "      <th>4744</th>\n",
       "      <td>francis ford coppola s masterpiece was a great...</td>\n",
       "      <td>test</td>\n",
       "      <td>301_10.txt</td>\n",
       "      <td>pos</td>\n",
       "    </tr>\n",
       "    <tr>\n",
       "      <th>10329</th>\n",
       "      <td>some of the reviewers here have foolishly judg...</td>\n",
       "      <td>test</td>\n",
       "      <td>8047_10.txt</td>\n",
       "      <td>pos</td>\n",
       "    </tr>\n",
       "    <tr>\n",
       "      <th>14366</th>\n",
       "      <td>this is by far one of the most pretentious fil...</td>\n",
       "      <td>test</td>\n",
       "      <td>11680_1.txt</td>\n",
       "      <td>neg</td>\n",
       "    </tr>\n",
       "    <tr>\n",
       "      <th>1007</th>\n",
       "      <td>this is truly a funny movie his dance scene do...</td>\n",
       "      <td>test</td>\n",
       "      <td>10907_8.txt</td>\n",
       "      <td>pos</td>\n",
       "    </tr>\n",
       "    <tr>\n",
       "      <th>4539</th>\n",
       "      <td>this film released in 1951 has the usual eleme...</td>\n",
       "      <td>test</td>\n",
       "      <td>2836_8.txt</td>\n",
       "      <td>pos</td>\n",
       "    </tr>\n",
       "    <tr>\n",
       "      <th>7864</th>\n",
       "      <td>one of the best tv shows out there if not the ...</td>\n",
       "      <td>test</td>\n",
       "      <td>5829_10.txt</td>\n",
       "      <td>pos</td>\n",
       "    </tr>\n",
       "    <tr>\n",
       "      <th>19582</th>\n",
       "      <td>this movie was jerry bruckheimer s idea to sel...</td>\n",
       "      <td>test</td>\n",
       "      <td>5124_4.txt</td>\n",
       "      <td>neg</td>\n",
       "    </tr>\n",
       "  </tbody>\n",
       "</table>\n",
       "</div>"
      ],
      "text/plain": [
       "                                                 content label         name  \\\n",
       "21277  this is one of those movies where i was rootin...  test   6650_1.txt   \n",
       "12620  spoilersi m going to be as kind as i can about...  test  10108_1.txt   \n",
       "4485   as a former erasmus student i enjoyed this fil...  test   2788_9.txt   \n",
       "4744   francis ford coppola s masterpiece was a great...  test   301_10.txt   \n",
       "10329  some of the reviewers here have foolishly judg...  test  8047_10.txt   \n",
       "14366  this is by far one of the most pretentious fil...  test  11680_1.txt   \n",
       "1007   this is truly a funny movie his dance scene do...  test  10907_8.txt   \n",
       "4539   this film released in 1951 has the usual eleme...  test   2836_8.txt   \n",
       "7864   one of the best tv shows out there if not the ...  test  5829_10.txt   \n",
       "19582  this movie was jerry bruckheimer s idea to sel...  test   5124_4.txt   \n",
       "\n",
       "      sentiment  \n",
       "21277       neg  \n",
       "12620       neg  \n",
       "4485        pos  \n",
       "4744        pos  \n",
       "10329       pos  \n",
       "14366       neg  \n",
       "1007        pos  \n",
       "4539        pos  \n",
       "7864        pos  \n",
       "19582       neg  "
      ]
     },
     "execution_count": 14,
     "metadata": {},
     "output_type": "execute_result"
    }
   ],
   "source": [
    "comments_test = comments[comments[\"label\"] == \"test\"]\n",
    "comments_test.sample(10)"
   ]
  },
  {
   "cell_type": "code",
   "execution_count": 15,
   "metadata": {},
   "outputs": [],
   "source": [
    "X_train = comments_train[\"content\"].values\n",
    "y_train = np.where(comments_train.sentiment == \"pos\", 1, 0)"
   ]
  },
  {
   "cell_type": "code",
   "execution_count": 16,
   "metadata": {},
   "outputs": [],
   "source": [
    "X_test = comments_test[\"content\"].values\n",
    "y_test = np.where(comments_test.sentiment == \"pos\", 1, 0)"
   ]
  },
  {
   "cell_type": "code",
   "execution_count": 17,
   "metadata": {},
   "outputs": [
    {
     "name": "stdout",
     "output_type": "stream",
     "text": [
      "('arabic', 'danish', 'dutch', 'english', 'finnish', 'french', 'german', 'hungarian', 'italian', 'norwegian', 'porter', 'portuguese', 'romanian', 'russian', 'spanish', 'swedish')\n"
     ]
    }
   ],
   "source": [
    "# http://snowball.tartarus.org/algorithms/porter/stemmer.html\n",
    "# http://www.nltk.org/howto/stem.html\n",
    "\n",
    "from nltk.stem.snowball import SnowballStemmer\n",
    "from nltk.stem.porter import PorterStemmer\n",
    "print(SnowballStemmer.languages)"
   ]
  },
  {
   "cell_type": "code",
   "execution_count": 18,
   "metadata": {},
   "outputs": [
    {
     "name": "stdout",
     "output_type": "stream",
     "text": [
      "revival => reviv reviv revival\n",
      "allowance => allow allow allowance\n",
      "inference => infer infer inference\n",
      "relational => relat relat relational\n",
      "runner => runner runner runner\n",
      "runs => run run run\n",
      "ran => ran ran ran\n",
      "having => have have having\n",
      "generously => gener generous generously\n",
      "wasn't => wasn't wasn't wasn't\n",
      "leaves => leav leav leaf\n"
     ]
    }
   ],
   "source": [
    "porter = PorterStemmer()\n",
    "snowball = SnowballStemmer(\"english\")\n",
    "lemmatizer = nltk.wordnet.WordNetLemmatizer()\n",
    "\n",
    "for s in nltk.word_tokenize(\"\"\"\n",
    "            revival\n",
    "            allowance \n",
    "            inference \n",
    "            relational\n",
    "            runner\n",
    "            runs\n",
    "            ran\n",
    "            having\n",
    "            generously\n",
    "            wasn't\n",
    "            leaves\n",
    "            \"\"\"):\n",
    "    print(s, \"=>\", porter.stem(s)\n",
    "          , snowball.stem(s), lemmatizer.lemmatize(s, \"n\"))"
   ]
  },
  {
   "cell_type": "code",
   "execution_count": 19,
   "metadata": {},
   "outputs": [
    {
     "name": "stdout",
     "output_type": "stream",
     "text": [
      "179 ['i', 'me', 'my', 'myself', 'we', 'our', 'ours', 'ourselves', 'you', \"you're\", \"you've\", \"you'll\", \"you'd\", 'your', 'yours', 'yourself', 'yourselves', 'he', 'him', 'his', 'himself', 'she', \"she's\", 'her', 'hers', 'herself', 'it', \"it's\", 'its', 'itself', 'they', 'them', 'their', 'theirs', 'themselves', 'what', 'which', 'who', 'whom', 'this', 'that', \"that'll\", 'these', 'those', 'am', 'is', 'are', 'was', 'were', 'be', 'been', 'being', 'have', 'has', 'had', 'having', 'do', 'does', 'did', 'doing', 'a', 'an', 'the', 'and', 'but', 'if', 'or', 'because', 'as', 'until', 'while', 'of', 'at', 'by', 'for', 'with', 'about', 'against', 'between', 'into', 'through', 'during', 'before', 'after', 'above', 'below', 'to', 'from', 'up', 'down', 'in', 'out', 'on', 'off', 'over', 'under', 'again', 'further', 'then', 'once', 'here', 'there', 'when', 'where', 'why', 'how', 'all', 'any', 'both', 'each', 'few', 'more', 'most', 'other', 'some', 'such', 'no', 'nor', 'not', 'only', 'own', 'same', 'so', 'than', 'too', 'very', 's', 't', 'can', 'will', 'just', 'don', \"don't\", 'should', \"should've\", 'now', 'd', 'll', 'm', 'o', 're', 've', 'y', 'ain', 'aren', \"aren't\", 'couldn', \"couldn't\", 'didn', \"didn't\", 'doesn', \"doesn't\", 'hadn', \"hadn't\", 'hasn', \"hasn't\", 'haven', \"haven't\", 'isn', \"isn't\", 'ma', 'mightn', \"mightn't\", 'mustn', \"mustn't\", 'needn', \"needn't\", 'shan', \"shan't\", 'shouldn', \"shouldn't\", 'wasn', \"wasn't\", 'weren', \"weren't\", 'won', \"won't\", 'wouldn', \"wouldn't\"]\n"
     ]
    }
   ],
   "source": [
    "stopwords = nltk.corpus.stopwords.words(\"english\")\n",
    "print(len(stopwords), stopwords)"
   ]
  },
  {
   "cell_type": "code",
   "execution_count": 20,
   "metadata": {
    "scrolled": true
   },
   "outputs": [
    {
     "data": {
      "text/plain": [
       "['sun', 'shine', 'allow']"
      ]
     },
     "execution_count": 20,
     "metadata": {},
     "output_type": "execute_result"
    }
   ],
   "source": [
    "#stemmer = SnowballStemmer(\"english\")\n",
    "stemmer = PorterStemmer()\n",
    "def my_tokenizer(s):\n",
    "    #terms = nltk.word_tokenize(s.lower())\n",
    "    terms = re.split(\"\\s\", s.lower())\n",
    "    terms = [re.sub(r\"[\\.!]\", \"\", v) for v in terms if len(v)>2]\n",
    "    terms = [v for v in terms if len(v)>2]\n",
    "    terms = [v for v in terms if v not in stopwords]\n",
    "    terms = [stemmer.stem(w) for w in terms]\n",
    "    terms = [term for term in terms if len(term) > 2]\n",
    "    return terms \n",
    "my_tokenizer(\"The sun is shining. Allowance wasn't!\")"
   ]
  },
  {
   "cell_type": "code",
   "execution_count": 21,
   "metadata": {},
   "outputs": [
    {
     "name": "stdout",
     "output_type": "stream",
     "text": [
      "Vocabulary:  {'today': 10, 'wednesday': 14, 'today wednesday': 11, 'delhi': 2, 'weather': 12, 'hot': 5, 'delhi weather': 4, 'weather hot': 13, 'hot today': 6, 'road': 8, 'busi': 0, 'morn': 7, 'delhi road': 3, 'road busi': 9, 'busi morn': 1}\n"
     ]
    }
   ],
   "source": [
    "tfidf = feature_extraction.text.TfidfVectorizer(tokenizer=my_tokenizer\n",
    "                                                , ngram_range=(1, 2))\n",
    "\n",
    "corpus = [\"Today is Wednesday\"\n",
    "          , \"Delhi weather is hot today.\"\n",
    "          , \"Delhi roads are not busy in the morning\"]\n",
    "\n",
    "doc_term_matrix = tfidf.fit_transform(corpus)\n",
    "\n",
    "# returns term and index in the feature matrix\n",
    "print(\"Vocabulary: \", tfidf.vocabulary_) "
   ]
  },
  {
   "cell_type": "code",
   "execution_count": 22,
   "metadata": {},
   "outputs": [
    {
     "data": {
      "text/html": [
       "<div>\n",
       "<style scoped>\n",
       "    .dataframe tbody tr th:only-of-type {\n",
       "        vertical-align: middle;\n",
       "    }\n",
       "\n",
       "    .dataframe tbody tr th {\n",
       "        vertical-align: top;\n",
       "    }\n",
       "\n",
       "    .dataframe thead th {\n",
       "        text-align: right;\n",
       "    }\n",
       "</style>\n",
       "<table border=\"1\" class=\"dataframe\">\n",
       "  <thead>\n",
       "    <tr style=\"text-align: right;\">\n",
       "      <th></th>\n",
       "      <th>busi</th>\n",
       "      <th>busi morn</th>\n",
       "      <th>delhi</th>\n",
       "      <th>delhi road</th>\n",
       "      <th>delhi weather</th>\n",
       "      <th>hot</th>\n",
       "      <th>hot today</th>\n",
       "      <th>morn</th>\n",
       "      <th>road</th>\n",
       "      <th>road busi</th>\n",
       "      <th>today</th>\n",
       "      <th>today wednesday</th>\n",
       "      <th>weather</th>\n",
       "      <th>weather hot</th>\n",
       "      <th>wednesday</th>\n",
       "    </tr>\n",
       "  </thead>\n",
       "  <tbody>\n",
       "    <tr>\n",
       "      <th>0</th>\n",
       "      <td>0.0000</td>\n",
       "      <td>0.0000</td>\n",
       "      <td>0.0000</td>\n",
       "      <td>0.0000</td>\n",
       "      <td>0.0000</td>\n",
       "      <td>0.0000</td>\n",
       "      <td>0.0000</td>\n",
       "      <td>0.0000</td>\n",
       "      <td>0.0000</td>\n",
       "      <td>0.0000</td>\n",
       "      <td>0.4736</td>\n",
       "      <td>0.6228</td>\n",
       "      <td>0.0000</td>\n",
       "      <td>0.0000</td>\n",
       "      <td>0.6228</td>\n",
       "    </tr>\n",
       "    <tr>\n",
       "      <th>1</th>\n",
       "      <td>0.0000</td>\n",
       "      <td>0.0000</td>\n",
       "      <td>0.3065</td>\n",
       "      <td>0.0000</td>\n",
       "      <td>0.4030</td>\n",
       "      <td>0.4030</td>\n",
       "      <td>0.4030</td>\n",
       "      <td>0.0000</td>\n",
       "      <td>0.0000</td>\n",
       "      <td>0.0000</td>\n",
       "      <td>0.3065</td>\n",
       "      <td>0.0000</td>\n",
       "      <td>0.4030</td>\n",
       "      <td>0.4030</td>\n",
       "      <td>0.0000</td>\n",
       "    </tr>\n",
       "    <tr>\n",
       "      <th>2</th>\n",
       "      <td>0.3899</td>\n",
       "      <td>0.3899</td>\n",
       "      <td>0.2965</td>\n",
       "      <td>0.3899</td>\n",
       "      <td>0.0000</td>\n",
       "      <td>0.0000</td>\n",
       "      <td>0.0000</td>\n",
       "      <td>0.3899</td>\n",
       "      <td>0.3899</td>\n",
       "      <td>0.3899</td>\n",
       "      <td>0.0000</td>\n",
       "      <td>0.0000</td>\n",
       "      <td>0.0000</td>\n",
       "      <td>0.0000</td>\n",
       "      <td>0.0000</td>\n",
       "    </tr>\n",
       "  </tbody>\n",
       "</table>\n",
       "</div>"
      ],
      "text/plain": [
       "    busi  busi morn  delhi  delhi road  delhi weather    hot  hot today  \\\n",
       "0 0.0000     0.0000 0.0000      0.0000         0.0000 0.0000     0.0000   \n",
       "1 0.0000     0.0000 0.3065      0.0000         0.4030 0.4030     0.4030   \n",
       "2 0.3899     0.3899 0.2965      0.3899         0.0000 0.0000     0.0000   \n",
       "\n",
       "    morn   road  road busi  today  today wednesday  weather  weather hot  \\\n",
       "0 0.0000 0.0000     0.0000 0.4736           0.6228   0.0000       0.0000   \n",
       "1 0.0000 0.0000     0.0000 0.3065           0.0000   0.4030       0.4030   \n",
       "2 0.3899 0.3899     0.3899 0.0000           0.0000   0.0000       0.0000   \n",
       "\n",
       "   wednesday  \n",
       "0     0.6228  \n",
       "1     0.0000  \n",
       "2     0.0000  "
      ]
     },
     "execution_count": 22,
     "metadata": {},
     "output_type": "execute_result"
    }
   ],
   "source": [
    "columns = [None] * len(tfidf.vocabulary_)\n",
    "for term in tfidf.vocabulary_:\n",
    "    columns[tfidf.vocabulary_[term]] = term\n",
    "columns\n",
    "scores = pd.DataFrame(doc_term_matrix.toarray()\n",
    "                      , columns= columns)\n",
    "scores"
   ]
  },
  {
   "cell_type": "code",
   "execution_count": 23,
   "metadata": {},
   "outputs": [
    {
     "name": "stdout",
     "output_type": "stream",
     "text": [
      "CPU times: user 2min 18s, sys: 648 ms, total: 2min 19s\n",
      "Wall time: 2min 16s\n"
     ]
    }
   ],
   "source": [
    "%%time\n",
    "X_train_tfidf = tfidf.fit_transform(X_train)\n",
    "X_test_tfidf = tfidf.transform(X_test)"
   ]
  },
  {
   "cell_type": "code",
   "execution_count": 24,
   "metadata": {},
   "outputs": [
    {
     "data": {
      "text/plain": [
       "((25000, 1565606), (25000,), (25000, 1565606), (25000,))"
      ]
     },
     "execution_count": 24,
     "metadata": {},
     "output_type": "execute_result"
    }
   ],
   "source": [
    "X_test_tfidf.shape, y_test.shape, X_train_tfidf.shape, y_train.shape"
   ]
  },
  {
   "cell_type": "markdown",
   "metadata": {},
   "source": [
    "Let's estimate the memory requirment if the data is presented in dense matrix format"
   ]
  },
  {
   "cell_type": "code",
   "execution_count": 25,
   "metadata": {},
   "outputs": [
    {
     "data": {
      "text/plain": [
       "145.80842107534409"
      ]
     },
     "execution_count": 25,
     "metadata": {},
     "output_type": "execute_result"
    }
   ],
   "source": [
    "cell_count = np.product(X_train_tfidf.shape)\n",
    "bytes = cell_count * 4 \n",
    "GBs = bytes / (1024 ** 3) \n",
    "GBs"
   ]
  },
  {
   "cell_type": "code",
   "execution_count": 26,
   "metadata": {},
   "outputs": [
    {
     "data": {
      "text/plain": [
       "0.9998672943511969"
      ]
     },
     "execution_count": 26,
     "metadata": {},
     "output_type": "execute_result"
    }
   ],
   "source": [
    "sparsity = 1 - X_train_tfidf.count_nonzero() / cell_count\n",
    "sparsity"
   ]
  },
  {
   "cell_type": "code",
   "execution_count": 27,
   "metadata": {},
   "outputs": [
    {
     "data": {
      "text/plain": [
       "0.9998672943511969"
      ]
     },
     "execution_count": 27,
     "metadata": {},
     "output_type": "execute_result"
    }
   ],
   "source": [
    "1 - X_train_tfidf.nnz / cell_count"
   ]
  },
  {
   "cell_type": "code",
   "execution_count": 28,
   "metadata": {},
   "outputs": [
    {
     "name": "stdout",
     "output_type": "stream",
     "text": [
      "Type of doc_term_matrix <class 'scipy.sparse.csr.csr_matrix'>\n"
     ]
    }
   ],
   "source": [
    "print(\"Type of doc_term_matrix\", type(X_train_tfidf))"
   ]
  },
  {
   "cell_type": "markdown",
   "metadata": {},
   "source": [
    "Byte size of the training doc sparse doc"
   ]
  },
  {
   "cell_type": "code",
   "execution_count": 29,
   "metadata": {},
   "outputs": [
    {
     "name": "stdout",
     "output_type": "stream",
     "text": [
      "0.0386992022395134 GB\n"
     ]
    }
   ],
   "source": [
    "print(X_train_tfidf.data.nbytes / (1024.0 ** 3), \"GB\")"
   ]
  },
  {
   "cell_type": "markdown",
   "metadata": {},
   "source": [
    "# Classification Model"
   ]
  },
  {
   "cell_type": "code",
   "execution_count": 30,
   "metadata": {},
   "outputs": [
    {
     "name": "stdout",
     "output_type": "stream",
     "text": [
      "Training accuracy:  0.93884\n",
      "Test accuracy:  0.8732\n",
      "CPU times: user 5 s, sys: 18.7 ms, total: 5.02 s\n",
      "Wall time: 4.27 s\n"
     ]
    }
   ],
   "source": [
    "%%time\n",
    "lr = linear_model.LogisticRegression(C = 0.6, random_state = 1\n",
    "                            , n_jobs = 8, solver=\"saga\")\n",
    "lr.fit(X_train_tfidf, y_train)\n",
    "y_train_pred = lr.predict(X_train_tfidf)\n",
    "y_test_pred = lr.predict(X_test_tfidf)\n",
    "print(\"Training accuracy: \", metrics.accuracy_score(y_train, y_train_pred))\n",
    "print(\"Test accuracy: \", metrics.accuracy_score(y_test, y_test_pred))"
   ]
  },
  {
   "cell_type": "code",
   "execution_count": 31,
   "metadata": {},
   "outputs": [
    {
     "data": {
      "image/png": "[encoded data removed]",
      "text/plain": [
       "<Figure size 432x288 with 1 Axes>"
      ]
     },
     "metadata": {
      "needs_background": "light"
     },
     "output_type": "display_data"
    }
   ],
   "source": [
    "fpr, tpr, thresholds = metrics.roc_curve(y_test,\n",
    "                        lr.predict_proba(X_test_tfidf)[:, [1]])\n",
    "auc = metrics.auc(fpr, tpr)\n",
    "\n",
    "plt.plot(fpr, tpr)\n",
    "plt.ylim(0, 1)\n",
    "plt.xlim(0, 1)\n",
    "plt.plot([0,1], [0,1], ls = \"--\", color = \"k\")\n",
    "plt.xlabel(\"False Postive Rate\")\n",
    "plt.ylabel(\"True Positive Rate\")\n",
    "plt.title(\"ROC Curve, auc: %.4f\" % auc);"
   ]
  },
  {
   "cell_type": "code",
   "execution_count": 32,
   "metadata": {},
   "outputs": [
    {
     "name": "stdout",
     "output_type": "stream",
     "text": [
      "accuracy:  0.8584\n",
      "CPU times: user 605 ms, sys: 81.4 ms, total: 687 ms\n",
      "Wall time: 176 ms\n"
     ]
    }
   ],
   "source": [
    "%%time\n",
    "from sklearn import naive_bayes, ensemble\n",
    "bayes = naive_bayes.MultinomialNB(alpha=1)\n",
    "bayes.fit(X_train_tfidf, y_train)\n",
    "print(\"accuracy: \", bayes.score(X_test_tfidf, y_test))"
   ]
  },
  {
   "cell_type": "code",
   "execution_count": 33,
   "metadata": {},
   "outputs": [
    {
     "name": "stdout",
     "output_type": "stream",
     "text": [
      "accuracy:  0.7016\n",
      "CPU times: user 3min 14s, sys: 327 ms, total: 3min 14s\n",
      "Wall time: 3min 12s\n"
     ]
    }
   ],
   "source": [
    "%%time\n",
    "est = tree.DecisionTreeClassifier()\n",
    "est.fit(X_train_tfidf, y_train)\n",
    "print(\"accuracy: \", est.score(X_test_tfidf, y_test))"
   ]
  },
  {
   "cell_type": "code",
   "execution_count": 34,
   "metadata": {},
   "outputs": [
    {
     "name": "stdout",
     "output_type": "stream",
     "text": [
      "Top 50 terms:  ['bad', 'worst', 'wast', 'great', 'bore', 'terribl', 'love', 'noth', 'stupid', 'excel', 'poor', 'best', 'disappoint', 'beauti', 'wors', 'movi', 'poorli', 'good', 'perfect', 'fail', 'dull', 'well', 'tri', 'also', 'enjoy', 'act', 'look', 'pointless', 'one', 'ridicul', 'unfortun', 'save', 'one best', 'film', 'would', 'time', 'even', 'minut', 'perform', 'instead', 'see', 'much', 'plot', 'suppos', 'watch', 'mess', 'job', 'lame', 'show', 'annoy']\n"
     ]
    }
   ],
   "source": [
    "columns = [None] * len(tfidf.vocabulary_)\n",
    "for term in tfidf.vocabulary_:\n",
    "    columns[tfidf.vocabulary_[term]] = term\n",
    "result = pd.DataFrame({\"feature\": columns\n",
    "                    , \"importance\": est.feature_importances_})\n",
    "result = result.sort_values(\"importance\", ascending = False)\n",
    "result = result[result.importance > 0.0]\n",
    "print(\"Top 50 terms: \", list(result.feature[:50]))"
   ]
  },
  {
   "cell_type": "markdown",
   "metadata": {},
   "source": [
    "# Important terms for a document "
   ]
  },
  {
   "cell_type": "code",
   "execution_count": 35,
   "metadata": {},
   "outputs": [],
   "source": [
    "vocab_by_term = tfidf.vocabulary_\n",
    "vocab_by_idx = dict({(vocab_by_term[term], term) \n",
    "                                 for term in vocab_by_term})"
   ]
  },
  {
   "cell_type": "code",
   "execution_count": 36,
   "metadata": {},
   "outputs": [
    {
     "data": {
      "text/plain": [
       "\"{'bromwel': 180037, 'high': 644320, 'cartoon': 209092, 'comedi': 266965, 'ran': 1100682, 'time': 140\""
      ]
     },
     "execution_count": 36,
     "metadata": {},
     "output_type": "execute_result"
    }
   ],
   "source": [
    "str(vocab_by_term)[:100]"
   ]
  },
  {
   "cell_type": "code",
   "execution_count": 37,
   "metadata": {
    "scrolled": false
   },
   "outputs": [
    {
     "data": {
      "text/plain": [
       "\"{241553: 'christian distract', 1478662: 'victor manuel', 1563213: 'zarustica whole', 1009051: 'peac \""
      ]
     },
     "execution_count": 37,
     "metadata": {},
     "output_type": "execute_result"
    }
   ],
   "source": [
    "str(vocab_by_idx)[:100]"
   ]
  },
  {
   "cell_type": "code",
   "execution_count": 38,
   "metadata": {},
   "outputs": [
    {
     "name": "stdout",
     "output_type": "stream",
     "text": [
      "Content:\n",
      " this isn t the comedic robin williams nor is it the quirky insane robin williams of recent thriller fame this is a hybrid of the classic drama without over dramatization mixed with robin s new love of the thriller but this isn t a thriller per se this is more a mystery suspense vehicle through which williams attempts to locate a sick boy and his keeper also starring sandra oh and rory culkin this suspense drama plays pretty much like a news report until william s character gets close to achieving his goal i must say that i was highly entertained though this movie fails to teach guide inspect or amuse it felt more like i was watching a guy williams as he was actually performing the actions from a third person perspective in other words it felt real and i was able to subscribe to the premise of the story all in all it s worth a watch though it s definitely not friday saturday night fare it rates a 7 7 10 from the fiend \n"
     ]
    },
    {
     "data": {
      "text/plain": [
       "william         0.2223\n",
       "robin           0.1750\n",
       "robin william   0.1343\n",
       "thriller        0.1295\n",
       "dramat mix      0.1021\n",
       "                 ...  \n",
       "much            0.0221\n",
       "stori           0.0209\n",
       "charact         0.0206\n",
       "get             0.0198\n",
       "movi            0.0140\n",
       "Length: 162, dtype: float64"
      ]
     },
     "execution_count": 38,
     "metadata": {},
     "output_type": "execute_result"
    }
   ],
   "source": [
    "idx = 5\n",
    "print(\"Content:\\n\", X_train[idx])\n",
    "row = X_train_tfidf[idx]\n",
    "terms = [(vocab_by_idx[row.indices[i]], row.data[i])\n",
    "             for i, term in enumerate(row.indices)]\n",
    "pd.Series(dict(terms)).sort_values(ascending = False)"
   ]
  },
  {
   "cell_type": "code",
   "execution_count": 39,
   "metadata": {},
   "outputs": [
    {
     "data": {
      "image/png": "[encoded data removed]",
      "text/plain": [
       "<Figure size 720x720 with 1 Axes>"
      ]
     },
     "metadata": {
      "needs_background": "light"
     },
     "output_type": "display_data"
    }
   ],
   "source": [
    "idx = 50\n",
    "row = X_train_tfidf[idx]\n",
    "terms = [(vocab_by_idx[row.indices[i]], row.data[i]) \n",
    "                 for i, term in enumerate(row.indices)]\n",
    "top_terms= list(pd.Series(dict(terms))\\\n",
    "                .sort_values(ascending = False)[:50].index)\n",
    "wc = WordCloud(background_color=\"white\", \n",
    "    width=500, height=500, max_words=50).generate(\"+\".join(top_terms))\n",
    "plt.figure(figsize=(10, 10))\n",
    "plt.imshow(wc)\n",
    "plt.axis(\"off\");"
   ]
  },
  {
   "cell_type": "markdown",
   "metadata": {},
   "source": [
    "# Build Pipeline for classificaiton Model"
   ]
  },
  {
   "cell_type": "code",
   "execution_count": 40,
   "metadata": {},
   "outputs": [
    {
     "name": "stdout",
     "output_type": "stream",
     "text": [
      "CPU times: user 1min 18s, sys: 448 ms, total: 1min 19s\n",
      "Wall time: 1min 15s\n"
     ]
    }
   ],
   "source": [
    "%%time\n",
    "tfidf =feature_extraction.text.TfidfVectorizer(\n",
    "              tokenizer=my_tokenizer\n",
    "            , stop_words = stopwords\n",
    "            , ngram_range=(1, 2)\n",
    "        )\n",
    "\n",
    "pipe = pipeline.Pipeline([\n",
    "    (\"tfidf\", tfidf),\n",
    "    (\"est\", linear_model.LogisticRegression(C = 1.0, random_state = 1\n",
    "                            , n_jobs = 8, solver=\"saga\"))\n",
    "])\n",
    "pipe.fit(X_train, y_train)"
   ]
  },
  {
   "cell_type": "code",
   "execution_count": 41,
   "metadata": {},
   "outputs": [],
   "source": [
    "import pickle"
   ]
  },
  {
   "cell_type": "code",
   "execution_count": 42,
   "metadata": {},
   "outputs": [],
   "source": [
    "with open(\"/tmp/model.pkl\", \"wb\") as f:\n",
    "    pickle.dump(pipe, f)"
   ]
  },
  {
   "cell_type": "code",
   "execution_count": 43,
   "metadata": {},
   "outputs": [
    {
     "name": "stdout",
     "output_type": "stream",
     "text": [
      "-rw-r--r--  1 abasar  wheel   123M Nov 23 06:59 /tmp/model.pkl\r\n"
     ]
    }
   ],
   "source": [
    "!ls -lh /tmp/model.pkl"
   ]
  },
  {
   "cell_type": "code",
   "execution_count": 44,
   "metadata": {},
   "outputs": [],
   "source": [
    "with open(\"/tmp/model.pkl\", \"rb\") as f:\n",
    "    model = pickle.load(f)"
   ]
  },
  {
   "cell_type": "code",
   "execution_count": 45,
   "metadata": {},
   "outputs": [],
   "source": [
    "doc1 = \"\"\"when we started watching this series on \n",
    "cable i had no idea how addictive it would be \n",
    "even when you hate a character you hold back because \n",
    "they are so beautifully developed you can almost\n",
    "understand why they react to frustration fear greed \n",
    "or temptation the way they do it s almost as if the\n",
    "viewer is experiencing one of christopher s learning \n",
    "curves i can t understand why adriana would put up with \n",
    "christopher s abuse of her verbally physically and \n",
    "emotionally but i just have to read the newspaper to \n",
    "see how many women can and do tolerate such behavior \n",
    "carmella has a dream house endless supply of expensive \n",
    "things but i m sure she would give it up for a loving \n",
    "and faithful husband or maybe not that s why i watch \n",
    "it doesn t matter how many times you watch an episode\n",
    "you can find something you missed the first five times \n",
    "we even watch episodes out of sequence watch season 1 \n",
    "on late night with commercials but all the language a e \n",
    "with language censored reruns on the movie network whenever \n",
    "they re on we re there we ve been totally spoiled now i also \n",
    "love the malaprop s an albacore around my neck is my favorite of\n",
    "johnny boy when these jewels have entered our family vocabulary \n",
    "it is a sign that i should get a life i will when the series\n",
    "ends and i have collected all the dvd s and put the collection \n",
    "in my will\"\"\"\n",
    "doc1 = preprocess(doc1)"
   ]
  },
  {
   "cell_type": "code",
   "execution_count": 46,
   "metadata": {},
   "outputs": [
    {
     "data": {
      "text/plain": [
       "array([0.7982])"
      ]
     },
     "execution_count": 46,
     "metadata": {},
     "output_type": "execute_result"
    }
   ],
   "source": [
    "model.predict_proba(np.array([doc1]))[:, 1]"
   ]
  },
  {
   "cell_type": "markdown",
   "metadata": {},
   "source": [
    "# Hashing Vectorizer\n",
    "\n",
    "\n",
    "\n",
    "Convert a collection of text documents to a matrix of deterministic hash token (murmur3) occurrences\n",
    "\n",
    "It turns a collection of text documents into a scipy.sparse matrix holding token occurrence counts (or binary occurrence information), possibly normalized as token frequencies if norm=’l1’ or projected on the euclidean unit sphere if norm=’l2’.\n",
    "\n",
    "Advantages \n",
    "- it is very low memory scalable to large datasets as there is no need to store a vocabulary dictionary in memory\n",
    "- it is fast to pickle and un-pickle as it holds no state besides the constructor parameters\n",
    "- it can be used in a streaming (partial fit) or parallel pipeline as there is no state computed during fit.\n",
    "\n",
    "Disadvantages\n",
    "- there is no way to compute the inverse transform (from feature indices to string feature names) which can be a problem when trying to introspect which features are most important to a model.\n",
    "- there can be collisions: distinct tokens can be mapped to the same feature index. However in practice this is rarely an issue if n_features is large enough (e.g. 2 ** 18 for text classification problems).\n",
    "- no IDF weighting as this would render the transformer stateful."
   ]
  },
  {
   "cell_type": "code",
   "execution_count": 53,
   "metadata": {},
   "outputs": [
    {
     "data": {
      "text/html": [
       "<div>\n",
       "<style scoped>\n",
       "    .dataframe tbody tr th:only-of-type {\n",
       "        vertical-align: middle;\n",
       "    }\n",
       "\n",
       "    .dataframe tbody tr th {\n",
       "        vertical-align: top;\n",
       "    }\n",
       "\n",
       "    .dataframe thead th {\n",
       "        text-align: right;\n",
       "    }\n",
       "</style>\n",
       "<table border=\"1\" class=\"dataframe\">\n",
       "  <thead>\n",
       "    <tr style=\"text-align: right;\">\n",
       "      <th></th>\n",
       "      <th>0</th>\n",
       "      <th>1</th>\n",
       "      <th>2</th>\n",
       "      <th>3</th>\n",
       "      <th>4</th>\n",
       "      <th>5</th>\n",
       "      <th>6</th>\n",
       "      <th>7</th>\n",
       "    </tr>\n",
       "  </thead>\n",
       "  <tbody>\n",
       "    <tr>\n",
       "      <th>0</th>\n",
       "      <td>0.0000</td>\n",
       "      <td>0.5774</td>\n",
       "      <td>0.0000</td>\n",
       "      <td>0.5774</td>\n",
       "      <td>0.0000</td>\n",
       "      <td>0.0000</td>\n",
       "      <td>-0.5774</td>\n",
       "      <td>0.0000</td>\n",
       "    </tr>\n",
       "    <tr>\n",
       "      <th>1</th>\n",
       "      <td>0.0000</td>\n",
       "      <td>0.3780</td>\n",
       "      <td>0.7559</td>\n",
       "      <td>0.0000</td>\n",
       "      <td>0.0000</td>\n",
       "      <td>-0.3780</td>\n",
       "      <td>-0.3780</td>\n",
       "      <td>0.0000</td>\n",
       "    </tr>\n",
       "    <tr>\n",
       "      <th>2</th>\n",
       "      <td>0.0000</td>\n",
       "      <td>0.0000</td>\n",
       "      <td>0.0000</td>\n",
       "      <td>0.0000</td>\n",
       "      <td>-0.5774</td>\n",
       "      <td>-0.5774</td>\n",
       "      <td>0.0000</td>\n",
       "      <td>0.5774</td>\n",
       "    </tr>\n",
       "  </tbody>\n",
       "</table>\n",
       "</div>"
      ],
      "text/plain": [
       "       0      1      2      3       4       5       6      7\n",
       "0 0.0000 0.5774 0.0000 0.5774  0.0000  0.0000 -0.5774 0.0000\n",
       "1 0.0000 0.3780 0.7559 0.0000  0.0000 -0.3780 -0.3780 0.0000\n",
       "2 0.0000 0.0000 0.0000 0.0000 -0.5774 -0.5774  0.0000 0.5774"
      ]
     },
     "execution_count": 53,
     "metadata": {},
     "output_type": "execute_result"
    }
   ],
   "source": [
    "hashing_vectorizer = feature_extraction.text.HashingVectorizer(n_features=2 ** 3\n",
    "                                                  , tokenizer=my_tokenizer, ngram_range=(1, 2))\n",
    "\n",
    "corpus = [\"Today is Wednesday\"\n",
    "          , \"Delhi weather is hot today.\"\n",
    "          , \"Delhi roads are not busy in the morning\"]\n",
    "\n",
    "doc_term_matrix = hashing_vectorizer.fit_transform(corpus)\n",
    "\n",
    "pd.DataFrame(doc_term_matrix.toarray()) # Each cell is normalized (l2) row-wise\n"
   ]
  },
  {
   "cell_type": "code",
   "execution_count": 69,
   "metadata": {},
   "outputs": [
    {
     "name": "stdout",
     "output_type": "stream",
     "text": [
      "CPU times: user 2min 11s, sys: 347 ms, total: 2min 11s\n",
      "Wall time: 2min 2s\n"
     ]
    }
   ],
   "source": [
    "%%time\n",
    "\n",
    "n_features = 2 ** 20\n",
    "\n",
    "hashing_vectorizer = feature_extraction.text.HashingVectorizer(n_features=n_features\n",
    "                                                  , tokenizer=my_tokenizer, ngram_range=(1, 2))\n",
    "X_train_hash = hashing_vectorizer.fit_transform(X_train)\n",
    "X_test_hash = hashing_vectorizer.transform(X_test)"
   ]
  },
  {
   "cell_type": "code",
   "execution_count": 70,
   "metadata": {},
   "outputs": [
    {
     "data": {
      "text/plain": [
       "((25000, 1048576), (25000, 1048576))"
      ]
     },
     "execution_count": 70,
     "metadata": {},
     "output_type": "execute_result"
    }
   ],
   "source": [
    "X_train_hash.shape, X_test_hash.shape"
   ]
  },
  {
   "cell_type": "code",
   "execution_count": 71,
   "metadata": {},
   "outputs": [
    {
     "name": "stdout",
     "output_type": "stream",
     "text": [
      "Training accuracy:  0.91876\n",
      "Test accuracy:  0.87336\n",
      "CPU times: user 18.8 s, sys: 212 ms, total: 19 s\n",
      "Wall time: 3.25 s\n"
     ]
    }
   ],
   "source": [
    "%%time\n",
    "lr = linear_model.LogisticRegression(C = 1.0, random_state = 1\n",
    "                            , solver=\"liblinear\")\n",
    "lr.fit(X_train_hash, y_train)\n",
    "y_train_pred = lr.predict(X_train_hash)\n",
    "y_test_pred = lr.predict(X_test_hash)\n",
    "print(\"Training accuracy: \", metrics.accuracy_score(y_train, y_train_pred))\n",
    "print(\"Test accuracy: \", metrics.accuracy_score(y_test, y_test_pred))"
   ]
  },
  {
   "cell_type": "code",
   "execution_count": 72,
   "metadata": {},
   "outputs": [],
   "source": [
    "# Count Vectorizer"
   ]
  },
  {
   "cell_type": "code",
   "execution_count": null,
   "metadata": {},
   "outputs": [],
   "source": []
  }
 ],
 "metadata": {
  "kernelspec": {
   "display_name": "Python 3",
   "language": "python",
   "name": "python3"
  },
  "language_info": {
   "codemirror_mode": {
    "name": "ipython",
    "version": 3
   },
   "file_extension": ".py",
   "mimetype": "text/x-python",
   "name": "python",
   "nbconvert_exporter": "python",
   "pygments_lexer": "ipython3",
   "version": "3.6.6"
  }
 },
 "nbformat": 4,
 "nbformat_minor": 2
}
