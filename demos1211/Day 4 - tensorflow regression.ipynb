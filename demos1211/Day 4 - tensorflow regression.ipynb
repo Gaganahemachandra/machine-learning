{
 "cells": [
  {
   "cell_type": "code",
   "execution_count": 40,
   "metadata": {},
   "outputs": [],
   "source": [
    "import tensorflow as tf\n",
    "import pandas as pd\n",
    "import numpy as np\n",
    "from sklearn import preprocessing, model_selection, linear_model, metrics\n",
    "import matplotlib.pyplot as plt\n",
    "\n",
    "%matplotlib inline"
   ]
  },
  {
   "cell_type": "code",
   "execution_count": 8,
   "metadata": {},
   "outputs": [
    {
     "data": {
      "text/plain": [
       "<tf.Tensor 'mul_1:0' shape=() dtype=float64>"
      ]
     },
     "execution_count": 8,
     "metadata": {},
     "output_type": "execute_result"
    }
   ],
   "source": [
    "a = tf.constant(2.0, dtype=tf.float64)\n",
    "b = tf.constant(3.0, dtype=tf.float64)\n",
    "c = a * b\n",
    "c"
   ]
  },
  {
   "cell_type": "code",
   "execution_count": 9,
   "metadata": {},
   "outputs": [
    {
     "name": "stdout",
     "output_type": "stream",
     "text": [
      "6.0\n"
     ]
    }
   ],
   "source": [
    "with tf.Session() as sess:\n",
    "    c_ = sess.run(c)\n",
    "    print(c_)"
   ]
  },
  {
   "cell_type": "code",
   "execution_count": 14,
   "metadata": {},
   "outputs": [
    {
     "data": {
      "text/plain": [
       "5.0"
      ]
     },
     "execution_count": 14,
     "metadata": {},
     "output_type": "execute_result"
    }
   ],
   "source": [
    "def add(a, b):\n",
    "    c = a + b\n",
    "    return c\n",
    "add(2.0, 3.0)"
   ]
  },
  {
   "cell_type": "code",
   "execution_count": 13,
   "metadata": {
    "scrolled": false
   },
   "outputs": [
    {
     "name": "stdout",
     "output_type": "stream",
     "text": [
      "6.0\n"
     ]
    }
   ],
   "source": [
    "a = tf.placeholder(dtype=tf.float32)\n",
    "b = tf.placeholder(dtype=tf.float32)\n",
    "c = a * b\n",
    "with tf.Session() as sess:\n",
    "    c_ = sess.run(c, feed_dict={a: 2.0, b:3.0 })\n",
    "    print(c_)"
   ]
  },
  {
   "cell_type": "code",
   "execution_count": 6,
   "metadata": {},
   "outputs": [
    {
     "data": {
      "text/plain": [
       "<tf.Tensor 'Const_4:0' shape=(2, 3) dtype=float64>"
      ]
     },
     "execution_count": 6,
     "metadata": {},
     "output_type": "execute_result"
    }
   ],
   "source": [
    "a = tf.constant(2.0, shape=[2, 3], dtype=tf.float64)\n",
    "a"
   ]
  },
  {
   "cell_type": "code",
   "execution_count": 17,
   "metadata": {},
   "outputs": [],
   "source": [
    "df = pd.read_csv(\"https://raw.githubusercontent.com/abulbasar/data/master/insurance.csv\")"
   ]
  },
  {
   "cell_type": "code",
   "execution_count": 95,
   "metadata": {},
   "outputs": [
    {
     "name": "stdout",
     "output_type": "stream",
     "text": [
      "type of y <class 'numpy.ndarray'>\n",
      "train mse 0.204071649878 test mse 0.178811328333\n",
      "intercept 9.0953369427 coefficients [ 0.47147365  0.08158994  0.115362   -0.04554678  0.62975311 -0.02392739\n",
      " -0.07216256 -0.06006463]\n"
     ]
    }
   ],
   "source": [
    "y = np.log(df.charges).values\n",
    "print(\"type of y\", type(y))\n",
    "X = pd.get_dummies(df, drop_first=True)\n",
    "del X[\"charges\"]\n",
    "\n",
    "X_train, X_test, y_train, y_test = model_selection.train_test_split(X, y,\n",
    "                                    test_size = 0.3, random_state = 1) \n",
    "scaler = preprocessing.StandardScaler()\n",
    "X_train_std = scaler.fit_transform(X_train)\n",
    "X_test_std = scaler.transform(X_test)\n",
    "\n",
    "lr = linear_model.LinearRegression()\n",
    "lr.fit(X_train_std, y_train)\n",
    "print(\"train mse\", metrics.mean_squared_error(y_train, lr.predict(X_train_std)), \n",
    "      \"test mse\", metrics.mean_squared_error(y_test, lr.predict(X_test_std)))\n",
    "print(\"intercept\", lr.intercept_, \"coefficients\", lr.coef_ )"
   ]
  },
  {
   "cell_type": "code",
   "execution_count": 41,
   "metadata": {},
   "outputs": [],
   "source": [
    "import requests\n",
    "url = \"https://raw.githubusercontent.com/abulbasar/machine-learning/master/Utils.py\"\n",
    "exec(requests.get(url).text)"
   ]
  },
  {
   "cell_type": "code",
   "execution_count": 93,
   "metadata": {
    "scrolled": false
   },
   "outputs": [
    {
     "name": "stdout",
     "output_type": "stream",
     "text": [
      "X Tensor(\"Placeholder_72:0\", shape=(?, 8), dtype=float32)\n",
      "y Tensor(\"Placeholder_73:0\", shape=(?,), dtype=float32)\n",
      "W <tf.Variable 'Variable_64:0' shape=(8, 1) dtype=float32_ref>\n",
      "Z Tensor(\"add_32:0\", shape=(?, 1), dtype=float32)\n",
      "y_pred Tensor(\"Reshape_30:0\", shape=(?,), dtype=float32)\n",
      "mse Tensor(\"Mean_29:0\", shape=(), dtype=float32)\n",
      "y_train <class 'numpy.ndarray'>\n",
      "84.1281\n",
      "1.21717\n",
      "0.228672\n",
      "0.146214\n",
      "0.139527\n",
      "0.208506\n",
      "0.142672\n",
      "0.136793\n",
      "0.207619\n",
      "0.142412\n",
      "0.170012\n",
      "test mse 0.176728\n"
     ]
    },
    {
     "data": {
      "image/png": "[encoded data removed]",
      "text/plain": [
       "<matplotlib.figure.Figure at 0x11897aa90>"
      ]
     },
     "metadata": {},
     "output_type": "display_data"
    }
   ],
   "source": [
    "n_x = X_train_std.shape[1]\n",
    "n_y = 1\n",
    "max_iters = 100\n",
    "\n",
    "X = tf.placeholder(dtype=tf.float32, shape=[None, n_x])\n",
    "y = tf.placeholder(dtype=tf.float32, shape=[None])\n",
    "\n",
    "print(\"X\", X)\n",
    "print(\"y\", y)\n",
    "\n",
    "W = tf.Variable(tf.zeros(dtype=tf.float32, shape=[n_x, 1]))\n",
    "print(\"W\", W)\n",
    "\n",
    "b = tf.Variable(tf.constant(0.0))\n",
    "\n",
    "Z = tf.matmul(X, W) + b\n",
    "print(\"Z\", Z)\n",
    "\n",
    "y_pred = tf.reshape(Z, shape=[-1])\n",
    "print(\"y_pred\", y_pred)\n",
    "\n",
    "mse = tf.reduce_mean(tf.square(y - y_pred))\n",
    "\n",
    "optimizer = tf.train.GradientDescentOptimizer(learning_rate=0.1)\\\n",
    "                            .minimize(mse)\n",
    "\n",
    "print(\"mse\", mse)\n",
    "\n",
    "with tf.Session() as sess:\n",
    "    scores = {}\n",
    "    sess.run(tf.global_variables_initializer())\n",
    "    batchable = Batchable(X_train_std, y_train, batch_size=64)\n",
    "    for i in range(max_iters):\n",
    "        X_batch, y_batch = batchable.next()\n",
    "        mse_, _ = sess.run([mse, optimizer], \n",
    "                feed_dict={X: X_batch, y:y_batch})\n",
    "        scores[i] = mse_\n",
    "        if i % (max_iters // 10) == 0 or i == max_iters-1:\n",
    "            print(mse_)\n",
    "    plot_scores(scores) \n",
    "    print(\"test mse\", sess.run(mse, feed_dict={X: X_test_std, y:y_test}))\n",
    "\n"
   ]
  },
  {
   "cell_type": "code",
   "execution_count": null,
   "metadata": {},
   "outputs": [],
   "source": [
    "\n",
    "\n",
    "\n",
    "\n",
    "\n",
    "\n",
    "\n"
   ]
  }
 ],
 "metadata": {
  "kernelspec": {
   "display_name": "Python 3",
   "language": "python",
   "name": "python3"
  },
  "language_info": {
   "codemirror_mode": {
    "name": "ipython",
    "version": 3
   },
   "file_extension": ".py",
   "mimetype": "text/x-python",
   "name": "python",
   "nbconvert_exporter": "python",
   "pygments_lexer": "ipython3",
   "version": "3.6.3"
  }
 },
 "nbformat": 4,
 "nbformat_minor": 2
}
