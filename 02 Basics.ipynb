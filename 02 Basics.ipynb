{
 "cells": [
  {
   "cell_type": "code",
   "execution_count": 358,
   "metadata": {
    "collapsed": true
   },
   "outputs": [],
   "source": [
    "import tensorflow as tf\n",
    "import pandas as pd\n",
    "import numpy as np\n",
    "import matplotlib.pyplot as plt\n",
    "from glob import glob\n",
    "\n",
    "from sklearn.preprocessing import StandardScaler\n",
    "from sklearn.linear_model import LinearRegression\n",
    "\n",
    "%matplotlib inline"
   ]
  },
  {
   "cell_type": "code",
   "execution_count": 2,
   "metadata": {},
   "outputs": [
    {
     "name": "stdout",
     "output_type": "stream",
     "text": [
      "hw:  Tensor(\"add:0\", shape=(), dtype=string)\n",
      "b'HelloWorld'\n"
     ]
    }
   ],
   "source": [
    "h = tf.constant(\"Hello\")\n",
    "w = tf.constant(\"World\")\n",
    "hw = h + w\n",
    "print(\"hw: \", hw)\n",
    "with tf.Session() as session:\n",
    "    ans = session.run(hw)\n",
    "    print(ans)"
   ]
  },
  {
   "cell_type": "code",
   "execution_count": 3,
   "metadata": {},
   "outputs": [
    {
     "data": {
      "text/plain": [
       "b'HelloWorld'"
      ]
     },
     "execution_count": 3,
     "metadata": {},
     "output_type": "execute_result"
    }
   ],
   "source": [
    "session = tf.Session()\n",
    "session.run(hw)"
   ]
  },
  {
   "cell_type": "code",
   "execution_count": 12,
   "metadata": {},
   "outputs": [
    {
     "name": "stdout",
     "output_type": "stream",
     "text": [
      "f:  -3\n",
      "<tensorflow.python.framework.ops.Graph object at 0x10f685eb8>\n",
      "<tensorflow.python.framework.ops.Graph object at 0x10f36bfd0>\n",
      "<tensorflow.python.framework.ops.Graph object at 0x10f36bfd0>\n"
     ]
    }
   ],
   "source": [
    "a = tf.constant(5, name = \"a\")\n",
    "b = tf.constant(4)\n",
    "c = tf.constant(3)\n",
    "\n",
    "d = tf.multiply(a, b)\n",
    "e = tf.add(c, d)\n",
    "f = tf.subtract(d, e)\n",
    "\n",
    "print(\"f: \", session.run(f))\n",
    "print(tf.Graph())\n",
    "print(tf.get_default_graph())\n",
    "print(f.graph)"
   ]
  },
  {
   "cell_type": "code",
   "execution_count": 129,
   "metadata": {},
   "outputs": [
    {
     "data": {
      "text/plain": [
       "(<tf.Tensor 'a:0' shape=() dtype=int32>,\n",
       " <tf.Tensor 'Fill_41:0' shape=(5, 1) dtype=float32>)"
      ]
     },
     "execution_count": 129,
     "metadata": {},
     "output_type": "execute_result"
    }
   ],
   "source": [
    "a, b \n",
    "# The name of the Tensor object is simply the name of its corresponding operation \n",
    "# (concatenated with a colon), followed by the index of that tensor in the outputs of the \n",
    "# operation that produced it —it is possible to have more than one.\n",
    "# Objects residing within the same graph cannot have the same name\n",
    "# As a consequence, it will automatically add an underscore and a number to distinguish the two. \n",
    "# However, both objects can have the same name when they are associated with different graphs"
   ]
  },
  {
   "cell_type": "code",
   "execution_count": 48,
   "metadata": {},
   "outputs": [
    {
     "name": "stdout",
     "output_type": "stream",
     "text": [
      "True\n",
      "False True\n",
      "True\n"
     ]
    }
   ],
   "source": [
    "g1 = tf.get_default_graph()\n",
    "g2 = tf.Graph()\n",
    "print(g1 is tf.get_default_graph())\n",
    "with g2.as_default():\n",
    "    print(g1 is tf.get_default_graph(), g2 is tf.get_default_graph())\n",
    "print(g1 is tf.get_default_graph())"
   ]
  },
  {
   "cell_type": "code",
   "execution_count": 131,
   "metadata": {
    "collapsed": true
   },
   "outputs": [],
   "source": [
    "g1 = tf.Graph()\n",
    "g2 = tf.Graph()\n",
    "with g1.as_default():\n",
    "    c1 = tf.constant(4.0)\n",
    "\n",
    "with g2.as_default():\n",
    "    c2 = tf.constant(2.0)\n",
    "\n",
    "# c = c1 + c2\n",
    "# session.run(c)"
   ]
  },
  {
   "cell_type": "code",
   "execution_count": 133,
   "metadata": {},
   "outputs": [
    {
     "data": {
      "text/plain": [
       "<tf.Tensor '3_1/Const:0' shape=() dtype=float32>"
      ]
     },
     "execution_count": 133,
     "metadata": {},
     "output_type": "execute_result"
    }
   ],
   "source": [
    "# Group variable with name scope\n",
    "with tf.name_scope(\"3\"):\n",
    "    c1 = tf.constant(4.0)\n",
    "c1\n",
    "    "
   ]
  },
  {
   "cell_type": "code",
   "execution_count": 9,
   "metadata": {},
   "outputs": [
    {
     "data": {
      "text/plain": [
       "[5, 4, 3, 20, 23, -3]"
      ]
     },
     "execution_count": 9,
     "metadata": {},
     "output_type": "execute_result"
    }
   ],
   "source": [
    "fetchers = [a, b, c, d, e, f]\n",
    "session.run(fetchers)"
   ]
  },
  {
   "cell_type": "code",
   "execution_count": 18,
   "metadata": {},
   "outputs": [
    {
     "data": {
      "text/plain": [
       "<tf.Tensor 'Const_19:0' shape=(2, 3) dtype=int32>"
      ]
     },
     "execution_count": 18,
     "metadata": {},
     "output_type": "execute_result"
    }
   ],
   "source": [
    "c = tf.constant([[1, 2, 3], [4, 5, 6]])\n",
    "c"
   ]
  },
  {
   "cell_type": "code",
   "execution_count": 20,
   "metadata": {},
   "outputs": [
    {
     "data": {
      "text/plain": [
       "<tf.Tensor 'Const_21:0' shape=(2, 3) dtype=int64>"
      ]
     },
     "execution_count": 20,
     "metadata": {},
     "output_type": "execute_result"
    }
   ],
   "source": [
    "c = tf.constant(np.array([[1, 2, 3], [4, 5, 6]]))\n",
    "c"
   ]
  },
  {
   "cell_type": "code",
   "execution_count": 54,
   "metadata": {},
   "outputs": [
    {
     "data": {
      "text/plain": [
       "tf.float64"
      ]
     },
     "execution_count": 54,
     "metadata": {},
     "output_type": "execute_result"
    }
   ],
   "source": [
    "c = tf.constant(4, dtype='float64')\n",
    "c.dtype"
   ]
  },
  {
   "cell_type": "markdown",
   "metadata": {},
   "source": [
    "# Primitive Data Types\n",
    "- DT_FLOAT\ttf.float32\t32 bits floating point.\n",
    "- DT_DOUBLE\ttf.float64\t64 bits floating point.\n",
    "- DT_INT8\ttf.int8\t8 bits signed integer.\n",
    "- DT_INT16\ttf.int16\t16 bits signed integer.\n",
    "- DT_INT32\ttf.int32\t32 bits signed integer.\n",
    "- DT_INT64\ttf.int64\t64 bits signed integer.\n",
    "- DT_UINT8\ttf.uint8\t8 bits unsigned integer.\n",
    "- DT_UINT16\ttf.uint16\t16 bits unsigned integer.\n",
    "- DT_STRING\ttf.string\tVariable length byte arrays. Each element of a Tensor is a byte array.\n",
    "- DT_BOOL\ttf.bool\tBoolean.\n",
    "- DT_COMPLEX64\ttf.complex64\tComplex number made of two 32 bits floating points: real and imaginary parts.\n",
    "- DT_COMPLEX128\ttf.complex128\tComplex number made of two 64 bits floating points: real and imaginary parts.\n",
    "- DT_QINT8\ttf.qint8\t8 bits signed integer used in quantized Ops.\n",
    "- DT_QINT32\ttf.qint32\t32 bits signed integer used in quantized Ops.\n",
    "- DT_QUINT8\ttf.quint8\t8 bits unsigned integer used in quantized Ops.\n",
    "\n"
   ]
  },
  {
   "cell_type": "markdown",
   "metadata": {},
   "source": [
    "### TensorFlow operation\tDescription\n",
    "- tf.constant(value)\tCreates a tensor populated with values of as specified by arguments “value”\n",
    "- tf.fill(shape,value)\tCreates a tensor of shape “shape\" and fills it with “value\" \n",
    "- tf.zeros(shape)\tReturns a tensor of shape “shape” and all elements set to zero\n",
    "- tf.zeros_like(tensor)\tReturns a tensor of the same type and shape as “tensor\" with all elements set to zero\n",
    "- tf.ones(shape)\tReturns a tensor of shape “shape\" and all elements set to 1\n",
    "- tf.ones_like(tensor)\tReturns a tensor of the same type and shape as “tensor\" with all elements set to 1"
   ]
  },
  {
   "cell_type": "code",
   "execution_count": 65,
   "metadata": {},
   "outputs": [
    {
     "data": {
      "text/plain": [
       "array([[ 1.,  1.,  1.],\n",
       "       [ 1.,  1.,  1.],\n",
       "       [ 1.,  1.,  1.],\n",
       "       [ 1.,  1.,  1.]], dtype=float32)"
      ]
     },
     "execution_count": 65,
     "metadata": {},
     "output_type": "execute_result"
    }
   ],
   "source": [
    "c = tf.ones((4, 3))\n",
    "session.run(c)"
   ]
  },
  {
   "cell_type": "code",
   "execution_count": 66,
   "metadata": {},
   "outputs": [
    {
     "data": {
      "text/plain": [
       "array([[1, 1, 1],\n",
       "       [1, 1, 1],\n",
       "       [1, 1, 1],\n",
       "       [1, 1, 1]], dtype=int32)"
      ]
     },
     "execution_count": 66,
     "metadata": {},
     "output_type": "execute_result"
    }
   ],
   "source": [
    "c = tf.fill((4, 3), 1)\n",
    "session.run(c)"
   ]
  },
  {
   "cell_type": "markdown",
   "metadata": {},
   "source": [
    "TensorFlow operation\tDescription\n",
    "- tf.random_normal(shape, mean, stddev)\tOutputs random values from a normal distribution\n",
    "- tf.truncated_normal(shape, mean, stddev)\tOutputs random values from a truncated normal distribution (values whose  magnitude is more than 2 standard deviations from the mean are dropped and re-picked).\n",
    "- tf.random_uniform(shape, minval, maxval)\tGenerated values from a uniform distribution in the range [minval, maxval)\n",
    "- tf.random_shuffle(tensor)\tRandomly shuffles a tensor along its first dimension\n",
    "- tf.random_crop(tensor, shape)\tSlices a shape “shape” portion out of “tensor\" at a uniformly chosen offset\n",
    "- tf.multinomial(logits, n_samples)\tDraws samples from a multinomial distribution\n",
    "- tf.random_gamma(shape,alpha,beta)\tDraws “shape\" samples from each of the given Gamma distribution(s)\n"
   ]
  },
  {
   "cell_type": "code",
   "execution_count": 77,
   "metadata": {},
   "outputs": [
    {
     "data": {
      "text/plain": [
       "array([[ 0.96174979,  0.44918132,  0.51270759],\n",
       "       [ 0.83489168,  0.54734325,  0.80996978],\n",
       "       [ 0.71889913,  0.39656377,  0.95373368],\n",
       "       [ 0.93378425,  0.04777336,  0.07103348]], dtype=float32)"
      ]
     },
     "execution_count": 77,
     "metadata": {},
     "output_type": "execute_result"
    }
   ],
   "source": [
    "c = tf.random_uniform((4, 3), seed=100)\n",
    "session.run(c)"
   ]
  },
  {
   "cell_type": "code",
   "execution_count": 72,
   "metadata": {},
   "outputs": [
    {
     "data": {
      "text/plain": [
       "array([[ 0.02630099, -0.07955143, -0.298599  ],\n",
       "       [ 0.17631671, -0.30626023,  0.12118966],\n",
       "       [ 0.14748672, -0.19404596, -0.03731908],\n",
       "       [ 0.08446319,  0.31936881,  0.66740936]], dtype=float32)"
      ]
     },
     "execution_count": 72,
     "metadata": {},
     "output_type": "execute_result"
    }
   ],
   "source": [
    "c = tf.random_normal((4, 3), mean=0, stddev=0.3, seed=100)\n",
    "session.run(c)"
   ]
  },
  {
   "cell_type": "code",
   "execution_count": 84,
   "metadata": {},
   "outputs": [
    {
     "name": "stdout",
     "output_type": "stream",
     "text": [
      "(5,)\n"
     ]
    },
    {
     "data": {
      "text/plain": [
       "(array([ 0.2       ,  0.22500001,  0.25      ,  0.27500001,  0.30000001], dtype=float32),)"
      ]
     },
     "execution_count": 84,
     "metadata": {},
     "output_type": "execute_result"
    }
   ],
   "source": [
    "c = tf.linspace(0.2, 0.3, 5)\n",
    "print(c.get_shape())\n",
    "session.run(c), "
   ]
  },
  {
   "cell_type": "code",
   "execution_count": 89,
   "metadata": {},
   "outputs": [
    {
     "name": "stdout",
     "output_type": "stream",
     "text": [
      "(19,)\n"
     ]
    },
    {
     "data": {
      "text/plain": [
       "array([ 0.40000001,  0.64999998,  0.89999998,  1.14999998,  1.39999998,\n",
       "        1.64999998,  1.89999998,  2.1500001 ,  2.4000001 ,  2.6500001 ,\n",
       "        2.9000001 ,  3.1500001 ,  3.4000001 ,  3.6500001 ,  3.9000001 ,\n",
       "        4.1500001 ,  4.4000001 ,  4.6500001 ,  4.9000001 ], dtype=float32)"
      ]
     },
     "execution_count": 89,
     "metadata": {},
     "output_type": "execute_result"
    }
   ],
   "source": [
    "c = tf.range(0.4, 5.0, 0.25)\n",
    "print(c.get_shape())\n",
    "session.run(c)"
   ]
  },
  {
   "cell_type": "code",
   "execution_count": 127,
   "metadata": {},
   "outputs": [
    {
     "data": {
      "text/plain": [
       "array([[ 0.9999913 ],\n",
       "       [ 0.14483425],\n",
       "       [ 0.99418771],\n",
       "       [ 0.55156505],\n",
       "       [ 0.99135911]], dtype=float32)"
      ]
     },
     "execution_count": 127,
     "metadata": {},
     "output_type": "execute_result"
    }
   ],
   "source": [
    "X = tf.random_normal((5, 10), mean = 0.0, stddev = 1.0, seed = 0)\n",
    "w = tf.random_normal((10, 1), mean = 0.0, stddev = 1.0, seed = 0)\n",
    "b = tf.fill((5, 1), 1.0)\n",
    "s = tf.sigmoid(tf.matmul(X, w) - b)\n",
    "session.run(s)"
   ]
  },
  {
   "cell_type": "markdown",
   "metadata": {},
   "source": [
    "TensorFlow operator\tShortcut\tDescription\n",
    "- tf.add()\ta + b\tAdd a and b, element-wise\n",
    "- tf.mul()\ta * b\tMultiply a and b, element-wise\n",
    "- tf.sub()\ta - b\tSubtract a from b, element-wise\n",
    "- tf.div()\ta / b\tWill perform element-wise integer division when given an integer type tensor, and floatingpoint (“true”) division on floating point tensors\n",
    "- tf.pow()\ta ** b\tThe result of raising each element in a to its corresponding element b, element-wise\n",
    "- tf.mod()\ta % b\tElement-wise modulo\n",
    "- tf.logical_and()\ta & b\tReturns the truth table of a & b, element-wise. dtype must be tf.bool\n",
    "- tf.greater()\ta > b\tReturns the truth table of a > b, element-wise\n",
    "- tf.greater_equal()\ta >= b\tReturns the truth table of a >= b, element-wise\n",
    "- tf.less_equal()\ta <= b\tReturns the truth table of a <= b , element-wise\n",
    "- tf.less()\ta < b\tReturns the truth table of a < b, element-wise\n",
    "- tf.neg()\t-a\tReturns the negative value of each element in a\n",
    "- tf.logical_not()\t~a\tReturns the logical NOT of each element in a. Only compatible with Tensor objectswith dtype of - tf.bool\n",
    "- tf.abs()\tabs(a)\tReturns the absolute value of each element in a\n",
    "- tf.logical_or()\ta | b\tReturns the truth table of a | b, element-wise. dtype must be tf.bool"
   ]
  },
  {
   "cell_type": "markdown",
   "metadata": {},
   "source": [
    "# Variable \n",
    "\n",
    "During the optimization process, tuning the weights of the model by iterative updates requires that their current state be maintained. For that purpose, TensorFlow uses special objects called “Variables”. Variables, unlike other Tensor objects that are “refilled” across calls to run(), can maintain a fixed state in the graph. Like other Tensors, Variables can be used as input for other operations in the graph.\n",
    "\n",
    "Using Variables is done in two stages: (1) we call the tf.Variable() function in order to create a Variable, and define what value it will be initialized with and (2) we then have to explicitly perform an initialization operation by running the session with the tf.initialize_all_variables() method, which allocates the memory for the variable and sets the initial value as defined in (1).\n",
    "\n",
    "Like with other Tensor objects, Variables are only computed when the model runs, as we can see in the following example:\n"
   ]
  },
  {
   "cell_type": "code",
   "execution_count": 139,
   "metadata": {},
   "outputs": [
    {
     "data": {
      "text/plain": [
       "75"
      ]
     },
     "execution_count": 139,
     "metadata": {},
     "output_type": "execute_result"
    }
   ],
   "source": [
    "c = tf.constant(15, name = \"c\")\n",
    "x = tf.Variable(c * 5, name = \"x\")\n",
    "init = tf.global_variables_initializer()\n",
    "session.run(init)\n",
    "session.run(x)"
   ]
  },
  {
   "cell_type": "markdown",
   "metadata": {},
   "source": [
    "# Placeholder\n",
    "\n",
    "TensorFlow has designated built-in structures for feeding input values. These structures are called placeholders. Placeholders can be thought of as empty variables that will be filled with data later on. We use them by first constructing our graph and only when it is executed feed them with the input data.\n",
    "\n",
    "Placeholders have three arguments we are already familiarized with: dtype for the type of data that will be inserted to them and two optional arguments — shape and name. If a shape is not fed, then the placeholder can be fed with data of any size. This is also the same as placing ‘None’ for a shape. We can also place ‘None’ for specific dimensions we are not sure about their length —for example, it is very common to use only for the rows dimension of a matrix, corresponding to the number of samples, while having the length of the columns (features) fixed. We feed the input values when running the session, just after stating what outputs we want to evaluate.\n",
    "\n",
    "Whenever we define a placeholder, we must feed it with some input values or else an exception will be thrown. The input data is given as a dictionary, where each key corresponds to a placeholder variable name, and the matching values are the data values given in the form of a list or a numpy array.\n"
   ]
  },
  {
   "cell_type": "code",
   "execution_count": 158,
   "metadata": {},
   "outputs": [
    {
     "data": {
      "text/plain": [
       "array([[ 0.31824806],\n",
       "       [ 0.45627081],\n",
       "       [ 0.13931248],\n",
       "       [ 0.01367185],\n",
       "       [ 0.69908071]], dtype=float32)"
      ]
     },
     "execution_count": 158,
     "metadata": {},
     "output_type": "execute_result"
    }
   ],
   "source": [
    "X_data = np.random.randn(5, 10)\n",
    "w_data = np.random.randn(10, 1)\n",
    "\n",
    "X = tf.placeholder(\"float32\", shape=(5, 10))\n",
    "w = tf.placeholder(\"float32\", shape=(10, 1))\n",
    "b = tf.fill((5, 1), - 1.0)\n",
    "s = tf.sigmoid(tf.matmul(X, w) + b)\n",
    "\n",
    "session.run(s, feed_dict={X: X_data, w: w_data})"
   ]
  },
  {
   "cell_type": "code",
   "execution_count": 176,
   "metadata": {},
   "outputs": [
    {
     "data": {
      "text/plain": [
       "6.4000001"
      ]
     },
     "execution_count": 176,
     "metadata": {},
     "output_type": "execute_result"
    }
   ],
   "source": [
    "r = tf.constant([3, 4, 5, 9, 11], dtype=\"float32\")\n",
    "mean = tf.reduce_mean(r)\n",
    "session.run(mean)"
   ]
  },
  {
   "cell_type": "code",
   "execution_count": 322,
   "metadata": {},
   "outputs": [
    {
     "name": "stdout",
     "output_type": "stream",
     "text": [
      "X_data shape:  (2000, 3) w_real shape:  (3,) noise shape:  (2000,)\n",
      "y_real shape:  (2000,)\n"
     ]
    }
   ],
   "source": [
    "n, d = 2000, 3\n",
    "X_data = np.random.rand(n, d)\n",
    "w_real = np.array([0.3, 0.5, 0.1])\n",
    "b_real = - 0.2\n",
    "noise = np.random.randn(n) * 0.1\n",
    "print(\"X_data shape: \", X_data.shape, \"w_real shape: \", w_real.shape, \"noise shape: \", noise.shape)\n",
    "y_real = np.dot(X_data, w_real) + b_real + noise\n",
    "print(\"y_real shape: \", y_real.shape)"
   ]
  },
  {
   "cell_type": "code",
   "execution_count": 324,
   "metadata": {},
   "outputs": [
    {
     "data": {
      "text/plain": [
       "<tf.Tensor 'MatMul_116:0' shape=(2000, 1) dtype=float64>"
      ]
     },
     "execution_count": 324,
     "metadata": {},
     "output_type": "execute_result"
    }
   ],
   "source": [
    "tf.matmul(tf.constant(X_data), tf.constant(w_real.reshape(-1, 1)))"
   ]
  },
  {
   "cell_type": "code",
   "execution_count": 331,
   "metadata": {},
   "outputs": [
    {
     "name": "stdout",
     "output_type": "stream",
     "text": [
      "y_pred shape:  (1, 2000) y_true shape:  (2000,)\n",
      "0 [array([[ 0.15113243,  0.17235637,  0.1356716 ]], dtype=float32), 0.25574929]\n",
      "10 [array([[ 0.16789463,  0.30297455,  0.04959491]], dtype=float32), 0.024067974]\n",
      "20 [array([[ 0.20939785,  0.39074317,  0.0478669 ]], dtype=float32), -0.063148886]\n",
      "30 [array([[ 0.23872025,  0.43858379,  0.05874629]], dtype=float32), -0.11162803]\n",
      "40 [array([[ 0.25746456,  0.46462101,  0.0694725 ]], dtype=float32), -0.141123]\n",
      "50 [array([[ 0.26922682,  0.47918516,  0.07766099]], dtype=float32), -0.15934825]\n",
      "60 [array([[ 0.27656752,  0.48755753,  0.08335767]], dtype=float32), -0.17063774]\n",
      "70 [array([[ 0.28113708,  0.49247733,  0.0871418 ]], dtype=float32), -0.17763358]\n",
      "80 [array([[ 0.28397727,  0.49541596,  0.08959069]], dtype=float32), -0.18196894]\n",
      "90 [array([[ 0.28574073,  0.49719182,  0.09115078]], dtype=float32), -0.18465555]\n",
      "100 [array([[ 0.28683501,  0.49827379,  0.09213497]], dtype=float32), -0.18632045]\n",
      "110 [array([[ 0.2875137 ,  0.49893674,  0.09275202]], dtype=float32), -0.1873522]\n",
      "120 [array([[ 0.28793454,  0.49934441,  0.0931373 ]], dtype=float32), -0.18799156]\n",
      "130 [array([[ 0.28819543,  0.49959579,  0.09337726]], dtype=float32), -0.18838778]\n",
      "140 [array([[ 0.28835717,  0.49975109,  0.09352646]], dtype=float32), -0.18863331]\n",
      "150 [array([[ 0.28845733,  0.49984705,  0.09361911]], dtype=float32), -0.18878546]\n",
      "160 [array([[ 0.2885195 ,  0.49990645,  0.09367661]], dtype=float32), -0.18887973]\n",
      "170 [array([[ 0.28855801,  0.49994323,  0.09371228]], dtype=float32), -0.18893817]\n",
      "180 [array([[ 0.28858185,  0.499966  ,  0.09373437]], dtype=float32), -0.18897441]\n",
      "190 [array([[ 0.28859663,  0.49998009,  0.09374809]], dtype=float32), -0.18899684]\n",
      "200 [array([[ 0.28860578,  0.49998885,  0.09375659]], dtype=float32), -0.18901072]\n",
      "210 [array([[ 0.28861144,  0.49999425,  0.09376185]], dtype=float32), -0.18901935]\n",
      "220 [array([[ 0.28861493,  0.49999762,  0.09376512]], dtype=float32), -0.18902467]\n",
      "230 [array([[ 0.28861716,  0.4999997 ,  0.09376715]], dtype=float32), -0.18902797]\n",
      "240 [array([[ 0.28861853,  0.50000101,  0.0937684 ]], dtype=float32), -0.18903005]\n",
      "250 [array([[ 0.28861937,  0.50000179,  0.09376919]], dtype=float32), -0.18903132]\n",
      "260 [array([[ 0.28861991,  0.50000232,  0.09376967]], dtype=float32), -0.18903211]\n",
      "270 [array([[ 0.28862026,  0.50000262,  0.09376998]], dtype=float32), -0.18903258]\n",
      "280 [array([[ 0.28862044,  0.50000274,  0.09377015]], dtype=float32), -0.18903288]\n",
      "290 [array([[ 0.28862059,  0.5000028 ,  0.09377027]], dtype=float32), -0.18903303]\n"
     ]
    }
   ],
   "source": [
    "X = tf.placeholder(\"float32\", shape=[n, 3])\n",
    "y_true = tf.placeholder(\"float32\", shape = [n])\n",
    "b = tf.Variable(0, dtype=\"float32\")\n",
    "w = tf.Variable([[0, 0, 0]], dtype=\"float32\")\n",
    "y_pred = tf.matmul(w, tf.transpose(X)) + b\n",
    "\n",
    "print(\"y_pred shape: \", y_pred.get_shape(), \"y_true shape: \", y_true.get_shape())\n",
    "loss = tf.reduce_mean(tf.square(y_true - y_pred))\n",
    "optimizer = tf.train.GradientDescentOptimizer(learning_rate = 0.5)\n",
    "train = optimizer.minimize(loss)\n",
    "\n",
    "init = tf.global_variables_initializer()\n",
    "session.run(init)\n",
    "for step in range(300):\n",
    "    session.run(train, {X: X_data, y_true: y_real})\n",
    "    if step % 10 == 0:\n",
    "        print(step, session.run([w, b]))"
   ]
  },
  {
   "cell_type": "code",
   "execution_count": 359,
   "metadata": {},
   "outputs": [
    {
     "name": "stdout",
     "output_type": "stream",
     "text": [
      "<class 'pandas.core.frame.DataFrame'>\n",
      "Int64Index: 47840 entries, 0 to 9567\n",
      "Data columns (total 5 columns):\n",
      "AT    47840 non-null float64\n",
      "V     47840 non-null float64\n",
      "AP    47840 non-null float64\n",
      "RH    47840 non-null float64\n",
      "PE    47840 non-null float64\n",
      "dtypes: float64(5)\n",
      "memory usage: 2.2 MB\n",
      "None\n",
      "(47840, 4) (47840,)\n",
      "454.365009406 [-14.73659333  -2.97242952   0.36867791  -2.30751179]\n"
     ]
    }
   ],
   "source": [
    "dataset = pd.concat([pd.read_csv(f) for f in glob(\"../data/Combined_Cycle_Power_Plant/*.csv\")])\n",
    "n = dataset.shape[0]\n",
    "print(dataset.info())\n",
    "X_data = dataset.iloc[:, :-1].values\n",
    "y_real = dataset.iloc[:, -1].values\n",
    "print(X_data.shape, y_real.shape)\n",
    "\n",
    "X_data = StandardScaler().fit_transform(X_data)\n",
    "lr = LinearRegression()\n",
    "lr.fit(X_data, y_real)\n",
    "print(lr.intercept_, lr.coef_)"
   ]
  },
  {
   "cell_type": "code",
   "execution_count": 380,
   "metadata": {},
   "outputs": [
    {
     "name": "stdout",
     "output_type": "stream",
     "text": [
      "25 [array([[-9.91439342, -6.30216265,  1.39022434, -0.56697398]], dtype=float32), 452.6485]\n",
      "50 [array([[-11.8315115 ,  -5.04469824,   0.89233679,  -1.28454065]], dtype=float32), 454.35855]\n",
      "75 [array([[-12.95287132,  -4.2232275 ,   0.67392749,  -1.65533638]], dtype=float32), 454.36496]\n",
      "100 [array([[-13.61966801,  -3.72999883,   0.54802483,  -1.87305093]], dtype=float32), 454.36496]\n",
      "125 [array([[-14.01676369,  -3.43600845,   0.47326183,  -2.00255466]], dtype=float32), 454.36496]\n",
      "150 [array([[-14.25327873,  -3.26089001,   0.42874375,  -2.07968068]], dtype=float32), 454.36496]\n",
      "175 [array([[-14.39415169,  -3.15658569,   0.40222868,  -2.12561774]], dtype=float32), 454.36496]\n",
      "200 [array([[-14.47805977,  -3.09445906,   0.38643542,  -2.15297914]], dtype=float32), 454.36496]\n"
     ]
    }
   ],
   "source": [
    "X = tf.placeholder(\"float32\", shape=[n, 4])\n",
    "y_true = tf.placeholder(\"float32\", shape=[n])\n",
    "w = tf.Variable(tf.truncated_normal([1, 4], stddev=0.1))\n",
    "b = tf.Variable(0, dtype=\"float32\")\n",
    "y_pred = tf.matmul(w, tf.transpose(X)) + b\n",
    "loss = tf.reduce_mean(tf.square(y_true - y_pred)) + 0.1 * tf.reduce_sum(tf.abs(w))\n",
    "optimizer = tf.train.GradientDescentOptimizer(learning_rate=0.1)\n",
    "train = optimizer.minimize(loss)\n",
    "\n",
    "init = tf.global_variables_initializer()\n",
    "session.run(init)\n",
    "for step in range(1, 201):\n",
    "    session.run(train, {X: X_data, y_true: y_real})\n",
    "    if step % 25 == 0:\n",
    "        print(step, session.run([w, b]))"
   ]
  },
  {
   "cell_type": "code",
   "execution_count": null,
   "metadata": {},
   "outputs": [],
   "source": []
  },
  {
   "cell_type": "code",
   "execution_count": null,
   "metadata": {
    "collapsed": true
   },
   "outputs": [],
   "source": []
  }
 ],
 "metadata": {
  "kernelspec": {
   "display_name": "Python 3",
   "language": "python",
   "name": "python3"
  },
  "language_info": {
   "codemirror_mode": {
    "name": "ipython",
    "version": 3
   },
   "file_extension": ".py",
   "mimetype": "text/x-python",
   "name": "python",
   "nbconvert_exporter": "python",
   "pygments_lexer": "ipython3",
   "version": "3.5.1"
  }
 },
 "nbformat": 4,
 "nbformat_minor": 2
}
